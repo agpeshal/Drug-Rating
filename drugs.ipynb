{
  "nbformat": 4,
  "nbformat_minor": 0,
  "metadata": {
    "colab": {
      "name": "drugscom_2.ipynb",
      "provenance": [],
      "collapsed_sections": [],
      "toc_visible": true
    },
    "kernelspec": {
      "name": "python3",
      "display_name": "Python 3"
    },
    "accelerator": "GPU"
  },
  "cells": [
    {
      "cell_type": "markdown",
      "metadata": {
        "id": "xr7utAvcBAov",
        "colab_type": "text"
      },
      "source": [
        "## Just for Colab"
      ]
    },
    {
      "cell_type": "code",
      "metadata": {
        "id": "-A08MwnMA-vc",
        "colab_type": "code",
        "colab": {
          "base_uri": "https://localhost:8080/",
          "height": 50
        },
        "outputId": "90bdbb30-72ee-469f-d26d-8d89725cb1b8"
      },
      "source": [
        "# Code to read csv file into Colaboratory:\n",
        "!pip install -U -q PyDrive\n",
        "from pydrive.auth import GoogleAuth\n",
        "from pydrive.drive import GoogleDrive\n",
        "from google.colab import auth\n",
        "from oauth2client.client import GoogleCredentials\n",
        "# Authenticate and create the PyDrive client.\n",
        "auth.authenticate_user()\n",
        "gauth = GoogleAuth()\n",
        "gauth.credentials = GoogleCredentials.get_application_default()\n",
        "drive = GoogleDrive(gauth)"
      ],
      "execution_count": null,
      "outputs": [
        {
          "output_type": "stream",
          "text": [
            "\u001b[?25l\r\u001b[K    1% |▎                               | 10kB 21.4MB/s eta 0:00:01\r\u001b[K    2% |▋                               | 20kB 2.1MB/s eta 0:00:01\r\u001b[K    3% |█                               | 30kB 3.1MB/s eta 0:00:01\r\u001b[K    4% |█▎                              | 40kB 2.1MB/s eta 0:00:01\r\u001b[K    5% |█▋                              | 51kB 2.5MB/s eta 0:00:01\r\u001b[K    6% |██                              | 61kB 3.0MB/s eta 0:00:01\r\u001b[K    7% |██▎                             | 71kB 3.5MB/s eta 0:00:01\r\u001b[K    8% |██▋                             | 81kB 3.9MB/s eta 0:00:01\r\u001b[K    9% |███                             | 92kB 4.4MB/s eta 0:00:01\r\u001b[K    10% |███▎                            | 102kB 3.1MB/s eta 0:00:01\r\u001b[K    11% |███▋                            | 112kB 3.2MB/s eta 0:00:01\r\u001b[K    12% |████                            | 122kB 4.3MB/s eta 0:00:01\r\u001b[K    13% |████▎                           | 133kB 4.3MB/s eta 0:00:01\r\u001b[K    14% |████▋                           | 143kB 7.5MB/s eta 0:00:01\r\u001b[K    15% |█████                           | 153kB 7.5MB/s eta 0:00:01\r\u001b[K    16% |█████▎                          | 163kB 7.5MB/s eta 0:00:01\r\u001b[K    17% |█████▋                          | 174kB 7.4MB/s eta 0:00:01\r\u001b[K    18% |██████                          | 184kB 7.5MB/s eta 0:00:01\r\u001b[K    19% |██████▎                         | 194kB 7.5MB/s eta 0:00:01\r\u001b[K    20% |██████▋                         | 204kB 36.1MB/s eta 0:00:01\r\u001b[K    21% |███████                         | 215kB 10.2MB/s eta 0:00:01\r\u001b[K    22% |███████▎                        | 225kB 10.2MB/s eta 0:00:01\r\u001b[K    23% |███████▋                        | 235kB 10.3MB/s eta 0:00:01\r\u001b[K    24% |████████                        | 245kB 10.2MB/s eta 0:00:01\r\u001b[K    25% |████████▎                       | 256kB 10.1MB/s eta 0:00:01\r\u001b[K    26% |████████▋                       | 266kB 9.9MB/s eta 0:00:01\r\u001b[K    27% |█████████                       | 276kB 10.0MB/s eta 0:00:01\r\u001b[K    29% |█████████▎                      | 286kB 10.0MB/s eta 0:00:01\r\u001b[K    30% |█████████▋                      | 296kB 10.0MB/s eta 0:00:01\r\u001b[K    31% |██████████                      | 307kB 10.4MB/s eta 0:00:01\r\u001b[K    32% |██████████▎                     | 317kB 40.6MB/s eta 0:00:01\r\u001b[K    33% |██████████▋                     | 327kB 40.7MB/s eta 0:00:01\r\u001b[K    34% |███████████                     | 337kB 40.7MB/s eta 0:00:01\r\u001b[K    35% |███████████▎                    | 348kB 38.5MB/s eta 0:00:01\r\u001b[K    36% |███████████▋                    | 358kB 39.3MB/s eta 0:00:01\r\u001b[K    37% |████████████                    | 368kB 43.8MB/s eta 0:00:01\r\u001b[K    38% |████████████▎                   | 378kB 42.7MB/s eta 0:00:01\r\u001b[K    39% |████████████▋                   | 389kB 44.1MB/s eta 0:00:01\r\u001b[K    40% |█████████████                   | 399kB 12.5MB/s eta 0:00:01\r\u001b[K    41% |█████████████▎                  | 409kB 12.3MB/s eta 0:00:01\r\u001b[K    42% |█████████████▋                  | 419kB 12.0MB/s eta 0:00:01\r\u001b[K    43% |██████████████                  | 430kB 11.7MB/s eta 0:00:01\r\u001b[K    44% |██████████████▎                 | 440kB 11.6MB/s eta 0:00:01\r\u001b[K    45% |██████████████▋                 | 450kB 11.4MB/s eta 0:00:01\r\u001b[K    46% |███████████████                 | 460kB 11.3MB/s eta 0:00:01\r\u001b[K    47% |███████████████▎                | 471kB 11.2MB/s eta 0:00:01\r\u001b[K    48% |███████████████▋                | 481kB 11.2MB/s eta 0:00:01\r\u001b[K    49% |████████████████                | 491kB 11.1MB/s eta 0:00:01\r\u001b[K    50% |████████████████▎               | 501kB 30.4MB/s eta 0:00:01\r\u001b[K    51% |████████████████▋               | 512kB 30.0MB/s eta 0:00:01\r\u001b[K    52% |█████████████████               | 522kB 31.4MB/s eta 0:00:01\r\u001b[K    53% |█████████████████▎              | 532kB 33.4MB/s eta 0:00:01\r\u001b[K    54% |█████████████████▋              | 542kB 34.7MB/s eta 0:00:01\r\u001b[K    55% |██████████████████              | 552kB 40.8MB/s eta 0:00:01\r\u001b[K    57% |██████████████████▎             | 563kB 41.5MB/s eta 0:00:01\r\u001b[K    58% |██████████████████▋             | 573kB 43.2MB/s eta 0:00:01\r\u001b[K    59% |███████████████████             | 583kB 45.5MB/s eta 0:00:01\r\u001b[K    60% |███████████████████▎            | 593kB 47.5MB/s eta 0:00:01\r\u001b[K    61% |███████████████████▋            | 604kB 47.9MB/s eta 0:00:01\r\u001b[K    62% |████████████████████            | 614kB 51.9MB/s eta 0:00:01\r\u001b[K    63% |████████████████████▎           | 624kB 51.7MB/s eta 0:00:01\r\u001b[K    64% |████████████████████▋           | 634kB 51.4MB/s eta 0:00:01\r\u001b[K    65% |█████████████████████           | 645kB 16.9MB/s eta 0:00:01\r\u001b[K    66% |█████████████████████▎          | 655kB 16.5MB/s eta 0:00:01\r\u001b[K    67% |█████████████████████▋          | 665kB 15.2MB/s eta 0:00:01\r\u001b[K    68% |██████████████████████          | 675kB 15.1MB/s eta 0:00:01\r\u001b[K    69% |██████████████████████▎         | 686kB 15.1MB/s eta 0:00:01\r\u001b[K    70% |██████████████████████▋         | 696kB 15.0MB/s eta 0:00:01\r\u001b[K    71% |███████████████████████         | 706kB 15.0MB/s eta 0:00:01\r\u001b[K    72% |███████████████████████▎        | 716kB 15.0MB/s eta 0:00:01\r\u001b[K    73% |███████████████████████▋        | 727kB 15.1MB/s eta 0:00:01\r\u001b[K    74% |████████████████████████        | 737kB 14.9MB/s eta 0:00:01\r\u001b[K    75% |████████████████████████▎       | 747kB 36.1MB/s eta 0:00:01\r\u001b[K    76% |████████████████████████▋       | 757kB 37.5MB/s eta 0:00:01\r\u001b[K    77% |████████████████████████▉       | 768kB 47.7MB/s eta 0:00:01\r\u001b[K    78% |█████████████████████████▏      | 778kB 49.0MB/s eta 0:00:01\r\u001b[K    79% |█████████████████████████▌      | 788kB 48.7MB/s eta 0:00:01\r\u001b[K    80% |█████████████████████████▉      | 798kB 48.7MB/s eta 0:00:01\r\u001b[K    81% |██████████████████████████▏     | 808kB 48.2MB/s eta 0:00:01\r\u001b[K    82% |██████████████████████████▌     | 819kB 47.4MB/s eta 0:00:01\r\u001b[K    83% |██████████████████████████▉     | 829kB 47.9MB/s eta 0:00:01\r\u001b[K    85% |███████████████████████████▏    | 839kB 49.8MB/s eta 0:00:01\r\u001b[K    86% |███████████████████████████▌    | 849kB 50.3MB/s eta 0:00:01\r\u001b[K    87% |███████████████████████████▉    | 860kB 45.6MB/s eta 0:00:01\r\u001b[K    88% |████████████████████████████▏   | 870kB 45.9MB/s eta 0:00:01\r\u001b[K    89% |████████████████████████████▌   | 880kB 46.0MB/s eta 0:00:01\r\u001b[K    90% |████████████████████████████▉   | 890kB 46.0MB/s eta 0:00:01\r\u001b[K    91% |█████████████████████████████▏  | 901kB 46.6MB/s eta 0:00:01\r\u001b[K    92% |█████████████████████████████▌  | 911kB 47.1MB/s eta 0:00:01\r\u001b[K    93% |█████████████████████████████▉  | 921kB 47.3MB/s eta 0:00:01\r\u001b[K    94% |██████████████████████████████▏ | 931kB 47.3MB/s eta 0:00:01\r\u001b[K    95% |██████████████████████████████▌ | 942kB 47.1MB/s eta 0:00:01\r\u001b[K    96% |██████████████████████████████▉ | 952kB 48.4MB/s eta 0:00:01\r\u001b[K    97% |███████████████████████████████▏| 962kB 53.6MB/s eta 0:00:01\r\u001b[K    98% |███████████████████████████████▌| 972kB 51.4MB/s eta 0:00:01\r\u001b[K    99% |███████████████████████████████▉| 983kB 50.6MB/s eta 0:00:01\r\u001b[K    100% |████████████████████████████████| 993kB 20.6MB/s \n",
            "\u001b[?25h  Building wheel for PyDrive (setup.py) ... \u001b[?25ldone\n",
            "\u001b[?25h"
          ],
          "name": "stdout"
        }
      ]
    },
    {
      "cell_type": "code",
      "metadata": {
        "id": "40-Rw36kBFqk",
        "colab_type": "code",
        "colab": {}
      },
      "source": [
        "id = '1ys_lSuLz4W-w5bEFqIqkp5CTy-eHUsZz'\n",
        "downloaded = drive.CreateFile({'id':id}) \n",
        "downloaded.GetContentFile('drugsComTest_raw.tsv')\n",
        "\n",
        "id = '1otGdmfp9fRpM_Kni6Id_P9CDtBwbOZ7-'\n",
        "downloaded = drive.CreateFile({'id':id}) \n",
        "downloaded.GetContentFile('drugsComTrain_raw.tsv')\n",
        "\n",
        "id = '1hoAWqe9FH7CQuButSb_o4bl34Wmg4QyZ'\n",
        "downloaded = drive.CreateFile({'id':id}) \n",
        "downloaded.GetContentFile('PMC-w2v.bin')\n",
        "\n",
        "id = '15k5iFAZC-P8uZLAKld23zCtfb9SYGQSK'\n",
        "downloaded = drive.CreateFile({'id':id}) \n",
        "downloaded.GetContentFile('GoogleNews-vectors-negative300.bin')"
      ],
      "execution_count": null,
      "outputs": []
    },
    {
      "cell_type": "markdown",
      "metadata": {
        "id": "losY5EZRHPBZ",
        "colab_type": "text"
      },
      "source": [
        "## Imports"
      ]
    },
    {
      "cell_type": "code",
      "metadata": {
        "id": "YmXj-Pa54rP9",
        "colab_type": "code",
        "colab": {}
      },
      "source": [
        "# please add all your imports here on the top, s.t. we have an easier time creating \n",
        "# the env yaml in the end. \n",
        "import pandas as pd\n",
        "import numpy as np\n",
        "from textblob import TextBlob # sentiment analysis \n",
        "from sklearn.svm import SVC\n",
        "from sklearn.ensemble import RandomForestClassifier, RandomForestRegressor\n",
        "from sklearn.pipeline import Pipeline\n",
        "from sklearn.metrics import mean_squared_error, f1_score, precision_score, recall_score, accuracy_score\n",
        "from sklearn.model_selection import train_test_split\n",
        "import matplotlib.pyplot as plt\n",
        "from sklearn.linear_model import LogisticRegression\n",
        "from sklearn.preprocessing import OneHotEncoder, StandardScaler\n",
        "from sklearn.linear_model import SGDRegressor\n",
        "\n",
        "\n",
        "import pickle\n",
        "import re\n",
        "import string\n",
        "from sklearn.feature_extraction.text import CountVectorizer\n",
        "from sklearn.feature_extraction.text import HashingVectorizer\n",
        "from sklearn.feature_extraction.text import TfidfVectorizer\n",
        "from nltk.stem import WordNetLemmatizer\n",
        "from nltk.tokenize import word_tokenize\n",
        "from nltk.corpus import stopwords \n",
        "import nltk\n",
        "nltk.download('wordnet')\n",
        "nltk.download('punkt')\n",
        "nltk.download('stopwords')\n",
        "import spacy\n",
        "from nltk.stem import PorterStemmer\n",
        "\n",
        "\n",
        "from gensim.models import KeyedVectors\n",
        "from gensim.test.utils import common_texts\n",
        "from gensim.models.doc2vec import Doc2Vec, TaggedDocument\n",
        "\n",
        "from keras.preprocessing.text import Tokenizer\n",
        "from keras.preprocessing.sequence import pad_sequences\n",
        "from keras.models import Model\n",
        "from keras.callbacks import ReduceLROnPlateau, ModelCheckpoint\n",
        "from keras.models import Sequential\n",
        "from keras.layers import SimpleRNN, LSTM, Dense, Dropout, Masking, Embedding, Input, Concatenate\n",
        "from keras import optimizers\n",
        "\n",
        "import datetime\n",
        "import json\n",
        "import os\n",
        "import pprint\n",
        "import random\n",
        "import sys\n",
        "import tensorflow as tf\n",
        "import html\n",
        "\n",
        "import collections\n",
        "from tensorflow.python.ops import math_ops\n",
        "import pickle"
      ],
      "execution_count": null,
      "outputs": []
    },
    {
      "cell_type": "code",
      "metadata": {
        "id": "cgx2x_Ti4sLz",
        "colab_type": "code",
        "colab": {}
      },
      "source": [
        "train = pd.read_csv('drugsComTrain_raw.tsv', sep='\\t', header=0, engine='python', error_bad_lines=False)\n",
        "train = train.rename(columns={'Unnamed: 0': 'Id'})\n",
        "train = train.set_index('Id')\n",
        "\n",
        "test = pd.read_csv('drugsComTest_raw.tsv', sep='\\t', header=0, engine='python', error_bad_lines=False)\n",
        "test = test.rename(columns={'Unnamed: 0': 'Id'})\n",
        "test = test.set_index('Id')"
      ],
      "execution_count": null,
      "outputs": []
    },
    {
      "cell_type": "code",
      "metadata": {
        "id": "hTYxyBwK7Fag",
        "colab_type": "code",
        "colab": {}
      },
      "source": [
        "X_train = train.loc[:, train.columns != \"rating\"]\n",
        "y_train = train.loc[:, \"rating\"]\n",
        "\n",
        "X_test = test.loc[:, test.columns != \"rating\"]\n",
        "y_test = test.loc[:,\"rating\"]"
      ],
      "execution_count": null,
      "outputs": []
    },
    {
      "cell_type": "code",
      "metadata": {
        "id": "aQG6OvUA3aUn",
        "colab_type": "code",
        "colab": {
          "base_uri": "https://localhost:8080/",
          "height": 122
        },
        "outputId": "280d7f55-ebdc-43d1-c134-8b2c101d473d"
      },
      "source": [
        "def labelencode(y):\n",
        "  # encoding based on task description\n",
        "  \n",
        "  y_res = np.zeros(y.shape[0])\n",
        "  print(y_res.sum())\n",
        "  y_res[y >= 4] = 1\n",
        "  print(y_res.sum())\n",
        "  y_res[y >= 7] = 2\n",
        "  print(y_res.sum())\n",
        "  return y_res\n",
        "\n",
        "y_train_rating = y_train\n",
        "y_test_rating = y_test\n",
        "y_train = labelencode(y_train)\n",
        "y_test = labelencode(y_test)"
      ],
      "execution_count": null,
      "outputs": [
        {
          "output_type": "stream",
          "text": [
            "0.0\n",
            "126234.0\n",
            "233100.0\n",
            "0.0\n",
            "41928.0\n",
            "77368.0\n"
          ],
          "name": "stdout"
        }
      ]
    },
    {
      "cell_type": "markdown",
      "metadata": {
        "id": "MLdjzC3kOjG4",
        "colab_type": "text"
      },
      "source": [
        "Note that there is class imbalance:"
      ]
    },
    {
      "cell_type": "code",
      "metadata": {
        "id": "Ua9DJGpiOd_2",
        "colab_type": "code",
        "colab": {
          "base_uri": "https://localhost:8080/",
          "height": 269
        },
        "outputId": "68199212-da11-4b49-a9fe-f967a52762de"
      },
      "source": [
        "plt.hist(y_train)\n",
        "plt.show()"
      ],
      "execution_count": null,
      "outputs": [
        {
          "output_type": "display_data",
          "data": {
            "image/png": "[encoded data removed]",
            "text/plain": [
              "<Figure size 432x288 with 1 Axes>"
            ]
          },
          "metadata": {
            "tags": []
          }
        }
      ]
    },
    {
      "cell_type": "markdown",
      "metadata": {
        "id": "DyklsZrwFh1j",
        "colab_type": "text"
      },
      "source": [
        "For the ratings we get the following distribution."
      ]
    },
    {
      "cell_type": "code",
      "metadata": {
        "id": "Yw7719ue5chw",
        "colab_type": "code",
        "colab": {
          "base_uri": "https://localhost:8080/",
          "height": 269
        },
        "outputId": "6e2e0580-6b95-460d-f7f6-c3ee3e3037b7"
      },
      "source": [
        "plt.hist(y_train_rating)\n",
        "plt.show()"
      ],
      "execution_count": null,
      "outputs": [
        {
          "output_type": "display_data",
          "data": {
            "image/png": "[encoded data removed]",
            "text/plain": [
              "<Figure size 432x288 with 1 Axes>"
            ]
          },
          "metadata": {
            "tags": []
          }
        }
      ]
    },
    {
      "cell_type": "markdown",
      "metadata": {
        "id": "hhL_-LF7DQ9X",
        "colab_type": "text"
      },
      "source": [
        "## Helpers"
      ]
    },
    {
      "cell_type": "code",
      "metadata": {
        "id": "X3jVHCmxDUAr",
        "colab_type": "code",
        "colab": {}
      },
      "source": [
        "def myrow_concatenator(r):\n",
        "  \"concatenates texts from a row of a matrix\"\n",
        "  totalstr = ''\n",
        "  for elem in r:\n",
        "    if elem == elem: # doesn't hold for nans\n",
        "      totalstr = totalstr + \" \" + elem \n",
        "  return totalstr"
      ],
      "execution_count": null,
      "outputs": []
    },
    {
      "cell_type": "code",
      "metadata": {
        "id": "LI1EcVem2gXh",
        "colab_type": "code",
        "colab": {}
      },
      "source": [
        "def fit_randomforest(xtrain, ytrain, xval, yval, training_scores=False):\n",
        "  if training_scores:\n",
        "    xval = xtrain\n",
        "    yval = ytrain\n",
        "\n",
        "  #Random Forest\n",
        "  print(\"\\nRandom Forest\")\n",
        "  depths = [None, 10, 20, 30, 50, 100, 150]\n",
        "  for d in depths:\n",
        "\n",
        "      clf = RandomForestClassifier(n_estimators=100, max_depth=d, random_state=42)\n",
        "      clf.fit(xtrain, ytrain)\n",
        "      pred_val = clf.predict(xval)\n",
        "\n",
        "      f1 = f1_score(yval, pred_val, average='macro')\n",
        "      acc = accuracy_score(yval, pred_val)\n",
        "\n",
        "      print(\"For Depth: {}, F1 score: {:.2f}, Accuracy: {:.2f}\".format(d, f1, acc))"
      ],
      "execution_count": null,
      "outputs": []
    },
    {
      "cell_type": "code",
      "metadata": {
        "id": "tM-XPxVS12i6",
        "colab_type": "code",
        "colab": {}
      },
      "source": [
        "def fit_rf_regression(xtrain, ytrain, xval, yval):\n",
        "  print(\"\\nRandom Forest\")\n",
        "  depths = [None, 10, 20, 30, 50, 100, 150]\n",
        "  for d in depths:\n",
        "    clf = RandomForestRegressor(n_estimators=10, max_depth=d, random_state=42)\n",
        "    clf.fit(xtrain, ytrain)\n",
        "    pred_val = clf.predict(xval)\n",
        "    mse = mean_squared_error(yval, pred_val)\n",
        "\n",
        "    print(\"For Depth: {}, MSE: {:.2f}\".format(d, mse))"
      ],
      "execution_count": null,
      "outputs": []
    },
    {
      "cell_type": "markdown",
      "metadata": {
        "id": "dfxbAJ5qHjJg",
        "colab_type": "text"
      },
      "source": [
        "## Preprocessing"
      ]
    },
    {
      "cell_type": "markdown",
      "metadata": {
        "id": "Z8ht9tzkM9Rq",
        "colab_type": "text"
      },
      "source": [
        "### Feature selection"
      ]
    },
    {
      "cell_type": "code",
      "metadata": {
        "id": "7emM1k1LM--O",
        "colab_type": "code",
        "colab": {
          "base_uri": "https://localhost:8080/",
          "height": 225
        },
        "outputId": "9a7cbd7a-ac28-4646-b853-dcf1e21fdf96"
      },
      "source": [
        "X_train.head()"
      ],
      "execution_count": null,
      "outputs": [
        {
          "output_type": "execute_result",
          "data": {
            "text/html": [
              "<div>\n",
              "<style scoped>\n",
              "    .dataframe tbody tr th:only-of-type {\n",
              "        vertical-align: middle;\n",
              "    }\n",
              "\n",
              "    .dataframe tbody tr th {\n",
              "        vertical-align: top;\n",
              "    }\n",
              "\n",
              "    .dataframe thead th {\n",
              "        text-align: right;\n",
              "    }\n",
              "</style>\n",
              "<table border=\"1\" class=\"dataframe\">\n",
              "  <thead>\n",
              "    <tr style=\"text-align: right;\">\n",
              "      <th></th>\n",
              "      <th>drugName</th>\n",
              "      <th>condition</th>\n",
              "      <th>review</th>\n",
              "      <th>date</th>\n",
              "      <th>usefulCount</th>\n",
              "    </tr>\n",
              "    <tr>\n",
              "      <th>Id</th>\n",
              "      <th></th>\n",
              "      <th></th>\n",
              "      <th></th>\n",
              "      <th></th>\n",
              "      <th></th>\n",
              "    </tr>\n",
              "  </thead>\n",
              "  <tbody>\n",
              "    <tr>\n",
              "      <th>206461</th>\n",
              "      <td>Valsartan</td>\n",
              "      <td>Left Ventricular Dysfunction</td>\n",
              "      <td>\"It has no side effect, I take it in combinati...</td>\n",
              "      <td>May 20, 2012</td>\n",
              "      <td>27</td>\n",
              "    </tr>\n",
              "    <tr>\n",
              "      <th>95260</th>\n",
              "      <td>Guanfacine</td>\n",
              "      <td>ADHD</td>\n",
              "      <td>\"My son is halfway through his fourth week of ...</td>\n",
              "      <td>April 27, 2010</td>\n",
              "      <td>192</td>\n",
              "    </tr>\n",
              "    <tr>\n",
              "      <th>92703</th>\n",
              "      <td>Lybrel</td>\n",
              "      <td>Birth Control</td>\n",
              "      <td>\"I used to take another oral contraceptive, wh...</td>\n",
              "      <td>December 14, 2009</td>\n",
              "      <td>17</td>\n",
              "    </tr>\n",
              "    <tr>\n",
              "      <th>138000</th>\n",
              "      <td>Ortho Evra</td>\n",
              "      <td>Birth Control</td>\n",
              "      <td>\"This is my first time using any form of birth...</td>\n",
              "      <td>November 3, 2015</td>\n",
              "      <td>10</td>\n",
              "    </tr>\n",
              "    <tr>\n",
              "      <th>35696</th>\n",
              "      <td>Buprenorphine / naloxone</td>\n",
              "      <td>Opiate Dependence</td>\n",
              "      <td>\"Suboxone has completely turned my life around...</td>\n",
              "      <td>November 27, 2016</td>\n",
              "      <td>37</td>\n",
              "    </tr>\n",
              "  </tbody>\n",
              "</table>\n",
              "</div>"
            ],
            "text/plain": [
              "                        drugName                     condition  \\\n",
              "Id                                                               \n",
              "206461                 Valsartan  Left Ventricular Dysfunction   \n",
              "95260                 Guanfacine                          ADHD   \n",
              "92703                     Lybrel                 Birth Control   \n",
              "138000                Ortho Evra                 Birth Control   \n",
              "35696   Buprenorphine / naloxone             Opiate Dependence   \n",
              "\n",
              "                                                   review               date  \\\n",
              "Id                                                                             \n",
              "206461  \"It has no side effect, I take it in combinati...       May 20, 2012   \n",
              "95260   \"My son is halfway through his fourth week of ...     April 27, 2010   \n",
              "92703   \"I used to take another oral contraceptive, wh...  December 14, 2009   \n",
              "138000  \"This is my first time using any form of birth...   November 3, 2015   \n",
              "35696   \"Suboxone has completely turned my life around...  November 27, 2016   \n",
              "\n",
              "        usefulCount  \n",
              "Id                   \n",
              "206461           27  \n",
              "95260           192  \n",
              "92703            17  \n",
              "138000           10  \n",
              "35696            37  "
            ]
          },
          "metadata": {
            "tags": []
          },
          "execution_count": 12
        }
      ]
    },
    {
      "cell_type": "markdown",
      "metadata": {
        "id": "YnTNSl_9NDOg",
        "colab_type": "text"
      },
      "source": [
        "We assume that the date has only a marginal influence on the rating,  thus we drop the column."
      ]
    },
    {
      "cell_type": "code",
      "metadata": {
        "id": "nJprYv_WNO6Z",
        "colab_type": "code",
        "colab": {
          "base_uri": "https://localhost:8080/",
          "height": 193
        },
        "outputId": "a8cc4b28-29cb-46fa-c12f-0437aa1c27c4"
      },
      "source": [
        "X_train.drop(columns=['date'], inplace=True)\n",
        "X_test.drop(columns=['date'], inplace=True)"
      ],
      "execution_count": null,
      "outputs": [
        {
          "output_type": "stream",
          "text": [
            "/usr/local/lib/python3.6/dist-packages/ipykernel_launcher.py:1: SettingWithCopyWarning: \n",
            "A value is trying to be set on a copy of a slice from a DataFrame\n",
            "\n",
            "See the caveats in the documentation: http://pandas.pydata.org/pandas-docs/stable/indexing.html#indexing-view-versus-copy\n",
            "  \"\"\"Entry point for launching an IPython kernel.\n",
            "/usr/local/lib/python3.6/dist-packages/ipykernel_launcher.py:2: SettingWithCopyWarning: \n",
            "A value is trying to be set on a copy of a slice from a DataFrame\n",
            "\n",
            "See the caveats in the documentation: http://pandas.pydata.org/pandas-docs/stable/indexing.html#indexing-view-versus-copy\n",
            "  \n"
          ],
          "name": "stderr"
        }
      ]
    },
    {
      "cell_type": "markdown",
      "metadata": {
        "id": "axPEe4J4F-JZ",
        "colab_type": "text"
      },
      "source": [
        "### NA inspection & handling"
      ]
    },
    {
      "cell_type": "code",
      "metadata": {
        "id": "rN9hDni45Qq6",
        "colab_type": "code",
        "colab": {
          "base_uri": "https://localhost:8080/",
          "height": 2087
        },
        "outputId": "3e029743-78f7-40a9-9022-e7aaa2525ffc"
      },
      "source": [
        "print(X_train.isna().sum())\n",
        "print(X_test.isna().sum())\n",
        "X_train\n",
        "# condition is categorical"
      ],
      "execution_count": null,
      "outputs": [
        {
          "output_type": "stream",
          "text": [
            "drugName         0\n",
            "condition      899\n",
            "review           0\n",
            "usefulCount      0\n",
            "dtype: int64\n",
            "drugName         0\n",
            "condition      295\n",
            "review           0\n",
            "usefulCount      0\n",
            "dtype: int64\n"
          ],
          "name": "stdout"
        },
        {
          "output_type": "execute_result",
          "data": {
            "text/html": [
              "<div>\n",
              "<style scoped>\n",
              "    .dataframe tbody tr th:only-of-type {\n",
              "        vertical-align: middle;\n",
              "    }\n",
              "\n",
              "    .dataframe tbody tr th {\n",
              "        vertical-align: top;\n",
              "    }\n",
              "\n",
              "    .dataframe thead th {\n",
              "        text-align: right;\n",
              "    }\n",
              "</style>\n",
              "<table border=\"1\" class=\"dataframe\">\n",
              "  <thead>\n",
              "    <tr style=\"text-align: right;\">\n",
              "      <th></th>\n",
              "      <th>drugName</th>\n",
              "      <th>condition</th>\n",
              "      <th>review</th>\n",
              "      <th>usefulCount</th>\n",
              "    </tr>\n",
              "    <tr>\n",
              "      <th>Id</th>\n",
              "      <th></th>\n",
              "      <th></th>\n",
              "      <th></th>\n",
              "      <th></th>\n",
              "    </tr>\n",
              "  </thead>\n",
              "  <tbody>\n",
              "    <tr>\n",
              "      <th>206461</th>\n",
              "      <td>Valsartan</td>\n",
              "      <td>Left Ventricular Dysfunction</td>\n",
              "      <td>\"It has no side effect, I take it in combinati...</td>\n",
              "      <td>27</td>\n",
              "    </tr>\n",
              "    <tr>\n",
              "      <th>95260</th>\n",
              "      <td>Guanfacine</td>\n",
              "      <td>ADHD</td>\n",
              "      <td>\"My son is halfway through his fourth week of ...</td>\n",
              "      <td>192</td>\n",
              "    </tr>\n",
              "    <tr>\n",
              "      <th>92703</th>\n",
              "      <td>Lybrel</td>\n",
              "      <td>Birth Control</td>\n",
              "      <td>\"I used to take another oral contraceptive, wh...</td>\n",
              "      <td>17</td>\n",
              "    </tr>\n",
              "    <tr>\n",
              "      <th>138000</th>\n",
              "      <td>Ortho Evra</td>\n",
              "      <td>Birth Control</td>\n",
              "      <td>\"This is my first time using any form of birth...</td>\n",
              "      <td>10</td>\n",
              "    </tr>\n",
              "    <tr>\n",
              "      <th>35696</th>\n",
              "      <td>Buprenorphine / naloxone</td>\n",
              "      <td>Opiate Dependence</td>\n",
              "      <td>\"Suboxone has completely turned my life around...</td>\n",
              "      <td>37</td>\n",
              "    </tr>\n",
              "    <tr>\n",
              "      <th>155963</th>\n",
              "      <td>Cialis</td>\n",
              "      <td>Benign Prostatic Hyperplasia</td>\n",
              "      <td>\"2nd day on 5mg started to work with rock hard...</td>\n",
              "      <td>43</td>\n",
              "    </tr>\n",
              "    <tr>\n",
              "      <th>165907</th>\n",
              "      <td>Levonorgestrel</td>\n",
              "      <td>Emergency Contraception</td>\n",
              "      <td>\"He pulled out, but he cummed a bit in me. I t...</td>\n",
              "      <td>5</td>\n",
              "    </tr>\n",
              "    <tr>\n",
              "      <th>102654</th>\n",
              "      <td>Aripiprazole</td>\n",
              "      <td>Bipolar Disorde</td>\n",
              "      <td>\"Abilify changed my life. There is hope. I was...</td>\n",
              "      <td>32</td>\n",
              "    </tr>\n",
              "    <tr>\n",
              "      <th>74811</th>\n",
              "      <td>Keppra</td>\n",
              "      <td>Epilepsy</td>\n",
              "      <td>\" I Ve had  nothing but problems with the Kepp...</td>\n",
              "      <td>11</td>\n",
              "    </tr>\n",
              "    <tr>\n",
              "      <th>48928</th>\n",
              "      <td>Ethinyl estradiol / levonorgestrel</td>\n",
              "      <td>Birth Control</td>\n",
              "      <td>\"I had been on the pill for many years. When m...</td>\n",
              "      <td>1</td>\n",
              "    </tr>\n",
              "    <tr>\n",
              "      <th>29607</th>\n",
              "      <td>Topiramate</td>\n",
              "      <td>Migraine Prevention</td>\n",
              "      <td>\"I have been on this medication almost two wee...</td>\n",
              "      <td>19</td>\n",
              "    </tr>\n",
              "    <tr>\n",
              "      <th>75612</th>\n",
              "      <td>L-methylfolate</td>\n",
              "      <td>Depression</td>\n",
              "      <td>\"I have taken anti-depressants for years, with...</td>\n",
              "      <td>54</td>\n",
              "    </tr>\n",
              "    <tr>\n",
              "      <th>191290</th>\n",
              "      <td>Pentasa</td>\n",
              "      <td>Crohn's Disease</td>\n",
              "      <td>\"I had Crohn&amp;#039;s with a resection 30 years ...</td>\n",
              "      <td>8</td>\n",
              "    </tr>\n",
              "    <tr>\n",
              "      <th>221320</th>\n",
              "      <td>Dextromethorphan</td>\n",
              "      <td>Cough</td>\n",
              "      <td>\"Have a little bit of a lingering cough from a...</td>\n",
              "      <td>1</td>\n",
              "    </tr>\n",
              "    <tr>\n",
              "      <th>98494</th>\n",
              "      <td>Nexplanon</td>\n",
              "      <td>Birth Control</td>\n",
              "      <td>\"Started Nexplanon 2 months ago because I have...</td>\n",
              "      <td>10</td>\n",
              "    </tr>\n",
              "    <tr>\n",
              "      <th>81890</th>\n",
              "      <td>Liraglutide</td>\n",
              "      <td>Obesity</td>\n",
              "      <td>\"I have been taking Saxenda since July 2016.  ...</td>\n",
              "      <td>20</td>\n",
              "    </tr>\n",
              "    <tr>\n",
              "      <th>48188</th>\n",
              "      <td>Trimethoprim</td>\n",
              "      <td>Urinary Tract Infection</td>\n",
              "      <td>\"This drug worked very well for me and cleared...</td>\n",
              "      <td>0</td>\n",
              "    </tr>\n",
              "    <tr>\n",
              "      <th>219869</th>\n",
              "      <td>Amitriptyline</td>\n",
              "      <td>ibromyalgia</td>\n",
              "      <td>\"I&amp;#039;ve been taking amitriptyline since Jan...</td>\n",
              "      <td>39</td>\n",
              "    </tr>\n",
              "    <tr>\n",
              "      <th>212077</th>\n",
              "      <td>Lamotrigine</td>\n",
              "      <td>Bipolar Disorde</td>\n",
              "      <td>\"I&amp;#039;ve been on every medicine under the su...</td>\n",
              "      <td>18</td>\n",
              "    </tr>\n",
              "    <tr>\n",
              "      <th>119705</th>\n",
              "      <td>Nilotinib</td>\n",
              "      <td>Chronic Myelogenous Leukemia</td>\n",
              "      <td>\"I have been on Tasigna for just over 3 years ...</td>\n",
              "      <td>11</td>\n",
              "    </tr>\n",
              "    <tr>\n",
              "      <th>12372</th>\n",
              "      <td>Atripla</td>\n",
              "      <td>HIV Infection</td>\n",
              "      <td>\"Spring of 2008 I was hospitalized with pnuemo...</td>\n",
              "      <td>11</td>\n",
              "    </tr>\n",
              "    <tr>\n",
              "      <th>231466</th>\n",
              "      <td>Trazodone</td>\n",
              "      <td>Insomnia</td>\n",
              "      <td>\"I have insomnia, it&amp;#039;s horrible. My story...</td>\n",
              "      <td>43</td>\n",
              "    </tr>\n",
              "    <tr>\n",
              "      <th>227020</th>\n",
              "      <td>Etonogestrel</td>\n",
              "      <td>Birth Control</td>\n",
              "      <td>\"Nexplanon does its job. I can have worry free...</td>\n",
              "      <td>11</td>\n",
              "    </tr>\n",
              "    <tr>\n",
              "      <th>41928</th>\n",
              "      <td>Etanercept</td>\n",
              "      <td>Rheumatoid Arthritis</td>\n",
              "      <td>\"I live in Western Australia and disturbed by ...</td>\n",
              "      <td>4</td>\n",
              "    </tr>\n",
              "    <tr>\n",
              "      <th>213649</th>\n",
              "      <td>Tioconazole</td>\n",
              "      <td>Vaginal Yeast Infection</td>\n",
              "      <td>\"Do not use the cream that comes with this. It...</td>\n",
              "      <td>7</td>\n",
              "    </tr>\n",
              "    <tr>\n",
              "      <th>51215</th>\n",
              "      <td>Azithromycin</td>\n",
              "      <td>Chlamydia Infection</td>\n",
              "      <td>\"Was prescribed one dose over the course of on...</td>\n",
              "      <td>7</td>\n",
              "    </tr>\n",
              "    <tr>\n",
              "      <th>206180</th>\n",
              "      <td>Eflornithine</td>\n",
              "      <td>Hirsutism</td>\n",
              "      <td>\"I&amp;#039;m writing a second review on Vaniqa.  ...</td>\n",
              "      <td>99</td>\n",
              "    </tr>\n",
              "    <tr>\n",
              "      <th>78563</th>\n",
              "      <td>Daytrana</td>\n",
              "      <td>ADHD</td>\n",
              "      <td>\"Hi all, My son who is 12 was diagnosed when h...</td>\n",
              "      <td>11</td>\n",
              "    </tr>\n",
              "    <tr>\n",
              "      <th>132258</th>\n",
              "      <td>Ativan</td>\n",
              "      <td>Panic Disorde</td>\n",
              "      <td>\"Honestly, I have been taking ativan for 2 yea...</td>\n",
              "      <td>47</td>\n",
              "    </tr>\n",
              "    <tr>\n",
              "      <th>27339</th>\n",
              "      <td>Imitrex</td>\n",
              "      <td>Migraine</td>\n",
              "      <td>\"At first I suffered through them. This includ...</td>\n",
              "      <td>6</td>\n",
              "    </tr>\n",
              "    <tr>\n",
              "      <th>...</th>\n",
              "      <td>...</td>\n",
              "      <td>...</td>\n",
              "      <td>...</td>\n",
              "      <td>...</td>\n",
              "    </tr>\n",
              "    <tr>\n",
              "      <th>181920</th>\n",
              "      <td>Inderal</td>\n",
              "      <td>Ventricular Tachycardia</td>\n",
              "      <td>\"Doc prescribed this medication to control my ...</td>\n",
              "      <td>6</td>\n",
              "    </tr>\n",
              "    <tr>\n",
              "      <th>76151</th>\n",
              "      <td>Portia</td>\n",
              "      <td>Birth Control</td>\n",
              "      <td>\"I switched to Portia 12 days ago when I start...</td>\n",
              "      <td>9</td>\n",
              "    </tr>\n",
              "    <tr>\n",
              "      <th>73058</th>\n",
              "      <td>Ethinyl estradiol / norethindrone</td>\n",
              "      <td>Birth Control</td>\n",
              "      <td>\"When I first starting taking Lo Loestrin Fe, ...</td>\n",
              "      <td>13</td>\n",
              "    </tr>\n",
              "    <tr>\n",
              "      <th>183202</th>\n",
              "      <td>Cymbalta</td>\n",
              "      <td>Anxiety</td>\n",
              "      <td>\"I have been taking Cymbalta for 15 months now...</td>\n",
              "      <td>89</td>\n",
              "    </tr>\n",
              "    <tr>\n",
              "      <th>148859</th>\n",
              "      <td>Mirena</td>\n",
              "      <td>Birth Control</td>\n",
              "      <td>\"My experience: Painful insertion but I expect...</td>\n",
              "      <td>4</td>\n",
              "    </tr>\n",
              "    <tr>\n",
              "      <th>88991</th>\n",
              "      <td>Singulair</td>\n",
              "      <td>Asthma</td>\n",
              "      <td>\"This really did help with my allergies and as...</td>\n",
              "      <td>36</td>\n",
              "    </tr>\n",
              "    <tr>\n",
              "      <th>109111</th>\n",
              "      <td>Nexplanon</td>\n",
              "      <td>Birth Control</td>\n",
              "      <td>\"I have had the Nexplanon since Dec. 27, 2016 ...</td>\n",
              "      <td>0</td>\n",
              "    </tr>\n",
              "    <tr>\n",
              "      <th>117030</th>\n",
              "      <td>Synvisc-One</td>\n",
              "      <td>Osteoarthritis</td>\n",
              "      <td>\"I need bi-lateral knee replacement but due to...</td>\n",
              "      <td>11</td>\n",
              "    </tr>\n",
              "    <tr>\n",
              "      <th>161838</th>\n",
              "      <td>Ciprofloxacin</td>\n",
              "      <td>Bladder Infection</td>\n",
              "      <td>\"POISON....two days on this med &amp;amp; I though...</td>\n",
              "      <td>1</td>\n",
              "    </tr>\n",
              "    <tr>\n",
              "      <th>176146</th>\n",
              "      <td>Lorazepam</td>\n",
              "      <td>Anxiety</td>\n",
              "      <td>\"About 4 years ago I started having early-morn...</td>\n",
              "      <td>0</td>\n",
              "    </tr>\n",
              "    <tr>\n",
              "      <th>18421</th>\n",
              "      <td>Zolpidem</td>\n",
              "      <td>Insomnia</td>\n",
              "      <td>\"I started taking this medication 10 years ago...</td>\n",
              "      <td>103</td>\n",
              "    </tr>\n",
              "    <tr>\n",
              "      <th>86533</th>\n",
              "      <td>Invokana</td>\n",
              "      <td>Diabetes, Type 2</td>\n",
              "      <td>\"I just got diagnosed with type 2. My doctor p...</td>\n",
              "      <td>47</td>\n",
              "    </tr>\n",
              "    <tr>\n",
              "      <th>56907</th>\n",
              "      <td>Roxicodone Intensol</td>\n",
              "      <td>Chronic Pain</td>\n",
              "      <td>\"Used with my throat cancer and it helped numb...</td>\n",
              "      <td>22</td>\n",
              "    </tr>\n",
              "    <tr>\n",
              "      <th>183962</th>\n",
              "      <td>Hydroxyzine</td>\n",
              "      <td>Sedation</td>\n",
              "      <td>\"Honestly , This works pretty well for me. It ...</td>\n",
              "      <td>8</td>\n",
              "    </tr>\n",
              "    <tr>\n",
              "      <th>52489</th>\n",
              "      <td>Armour Thyroid</td>\n",
              "      <td>Underactive Thyroid</td>\n",
              "      <td>\"Had taken Armour Thyroid for 20 years but sta...</td>\n",
              "      <td>87</td>\n",
              "    </tr>\n",
              "    <tr>\n",
              "      <th>229036</th>\n",
              "      <td>Tadalafil</td>\n",
              "      <td>Erectile Dysfunction</td>\n",
              "      <td>\"I&amp;#039;m a 59 year old male who has experienc...</td>\n",
              "      <td>36</td>\n",
              "    </tr>\n",
              "    <tr>\n",
              "      <th>228492</th>\n",
              "      <td>Geodon</td>\n",
              "      <td>Bipolar Disorde</td>\n",
              "      <td>\"I was in a very bad place at the time I start...</td>\n",
              "      <td>5</td>\n",
              "    </tr>\n",
              "    <tr>\n",
              "      <th>121154</th>\n",
              "      <td>Venlafaxine</td>\n",
              "      <td>Panic Disorde</td>\n",
              "      <td>\"Had panic attacks and social anxiety starting...</td>\n",
              "      <td>25</td>\n",
              "    </tr>\n",
              "    <tr>\n",
              "      <th>200957</th>\n",
              "      <td>Alcaftadine</td>\n",
              "      <td>Conjunctivitis, Allergic</td>\n",
              "      <td>\"Used this a month ago for allergic conjunctiv...</td>\n",
              "      <td>12</td>\n",
              "    </tr>\n",
              "    <tr>\n",
              "      <th>93069</th>\n",
              "      <td>Vortioxetine</td>\n",
              "      <td>Depression</td>\n",
              "      <td>\"This is the third med I&amp;#039;ve tried for anx...</td>\n",
              "      <td>33</td>\n",
              "    </tr>\n",
              "    <tr>\n",
              "      <th>132177</th>\n",
              "      <td>Ativan</td>\n",
              "      <td>Anxiety</td>\n",
              "      <td>\"I was super against taking medication. I&amp;#039...</td>\n",
              "      <td>61</td>\n",
              "    </tr>\n",
              "    <tr>\n",
              "      <th>45410</th>\n",
              "      <td>Fluoxetine</td>\n",
              "      <td>Obsessive Compulsive Disorde</td>\n",
              "      <td>\"I have been off Prozac for about 4 weeks now....</td>\n",
              "      <td>22</td>\n",
              "    </tr>\n",
              "    <tr>\n",
              "      <th>105263</th>\n",
              "      <td>Carbamazepine</td>\n",
              "      <td>Trigeminal Neuralgia</td>\n",
              "      <td>\"Up to 800mg seems to work about once every 2n...</td>\n",
              "      <td>10</td>\n",
              "    </tr>\n",
              "    <tr>\n",
              "      <th>103458</th>\n",
              "      <td>Tekturna</td>\n",
              "      <td>High Blood Pressure</td>\n",
              "      <td>\"I have only been on Tekturna for 9 days. The ...</td>\n",
              "      <td>18</td>\n",
              "    </tr>\n",
              "    <tr>\n",
              "      <th>164345</th>\n",
              "      <td>Junel 1.5 / 30</td>\n",
              "      <td>Birth Control</td>\n",
              "      <td>\"This would be my second month on Junel. I&amp;#03...</td>\n",
              "      <td>0</td>\n",
              "    </tr>\n",
              "    <tr>\n",
              "      <th>191035</th>\n",
              "      <td>Campral</td>\n",
              "      <td>Alcohol Dependence</td>\n",
              "      <td>\"I wrote my first report in Mid-October of 201...</td>\n",
              "      <td>125</td>\n",
              "    </tr>\n",
              "    <tr>\n",
              "      <th>127085</th>\n",
              "      <td>Metoclopramide</td>\n",
              "      <td>Nausea/Vomiting</td>\n",
              "      <td>\"I was given this in IV before surgey. I immed...</td>\n",
              "      <td>34</td>\n",
              "    </tr>\n",
              "    <tr>\n",
              "      <th>187382</th>\n",
              "      <td>Orencia</td>\n",
              "      <td>Rheumatoid Arthritis</td>\n",
              "      <td>\"Limited improvement after 4 months, developed...</td>\n",
              "      <td>35</td>\n",
              "    </tr>\n",
              "    <tr>\n",
              "      <th>47128</th>\n",
              "      <td>Thyroid desiccated</td>\n",
              "      <td>Underactive Thyroid</td>\n",
              "      <td>\"I&amp;#039;ve been on thyroid medication 49 years...</td>\n",
              "      <td>79</td>\n",
              "    </tr>\n",
              "    <tr>\n",
              "      <th>215220</th>\n",
              "      <td>Lubiprostone</td>\n",
              "      <td>Constipation, Chronic</td>\n",
              "      <td>\"I&amp;#039;ve had chronic constipation all my adu...</td>\n",
              "      <td>116</td>\n",
              "    </tr>\n",
              "  </tbody>\n",
              "</table>\n",
              "<p>161297 rows × 4 columns</p>\n",
              "</div>"
            ],
            "text/plain": [
              "                                  drugName                     condition  \\\n",
              "Id                                                                         \n",
              "206461                           Valsartan  Left Ventricular Dysfunction   \n",
              "95260                           Guanfacine                          ADHD   \n",
              "92703                               Lybrel                 Birth Control   \n",
              "138000                          Ortho Evra                 Birth Control   \n",
              "35696             Buprenorphine / naloxone             Opiate Dependence   \n",
              "155963                              Cialis  Benign Prostatic Hyperplasia   \n",
              "165907                      Levonorgestrel       Emergency Contraception   \n",
              "102654                        Aripiprazole               Bipolar Disorde   \n",
              "74811                               Keppra                      Epilepsy   \n",
              "48928   Ethinyl estradiol / levonorgestrel                 Birth Control   \n",
              "29607                           Topiramate           Migraine Prevention   \n",
              "75612                       L-methylfolate                    Depression   \n",
              "191290                             Pentasa               Crohn's Disease   \n",
              "221320                    Dextromethorphan                         Cough   \n",
              "98494                            Nexplanon                 Birth Control   \n",
              "81890                          Liraglutide                       Obesity   \n",
              "48188                         Trimethoprim       Urinary Tract Infection   \n",
              "219869                       Amitriptyline                   ibromyalgia   \n",
              "212077                         Lamotrigine               Bipolar Disorde   \n",
              "119705                           Nilotinib  Chronic Myelogenous Leukemia   \n",
              "12372                              Atripla                 HIV Infection   \n",
              "231466                           Trazodone                      Insomnia   \n",
              "227020                        Etonogestrel                 Birth Control   \n",
              "41928                           Etanercept          Rheumatoid Arthritis   \n",
              "213649                         Tioconazole       Vaginal Yeast Infection   \n",
              "51215                         Azithromycin           Chlamydia Infection   \n",
              "206180                        Eflornithine                     Hirsutism   \n",
              "78563                             Daytrana                          ADHD   \n",
              "132258                              Ativan                 Panic Disorde   \n",
              "27339                              Imitrex                      Migraine   \n",
              "...                                    ...                           ...   \n",
              "181920                             Inderal       Ventricular Tachycardia   \n",
              "76151                               Portia                 Birth Control   \n",
              "73058    Ethinyl estradiol / norethindrone                 Birth Control   \n",
              "183202                            Cymbalta                       Anxiety   \n",
              "148859                              Mirena                 Birth Control   \n",
              "88991                            Singulair                        Asthma   \n",
              "109111                           Nexplanon                 Birth Control   \n",
              "117030                         Synvisc-One                Osteoarthritis   \n",
              "161838                       Ciprofloxacin             Bladder Infection   \n",
              "176146                           Lorazepam                       Anxiety   \n",
              "18421                             Zolpidem                      Insomnia   \n",
              "86533                             Invokana              Diabetes, Type 2   \n",
              "56907                  Roxicodone Intensol                  Chronic Pain   \n",
              "183962                         Hydroxyzine                      Sedation   \n",
              "52489                       Armour Thyroid           Underactive Thyroid   \n",
              "229036                           Tadalafil          Erectile Dysfunction   \n",
              "228492                              Geodon               Bipolar Disorde   \n",
              "121154                         Venlafaxine                 Panic Disorde   \n",
              "200957                         Alcaftadine      Conjunctivitis, Allergic   \n",
              "93069                         Vortioxetine                    Depression   \n",
              "132177                              Ativan                       Anxiety   \n",
              "45410                           Fluoxetine  Obsessive Compulsive Disorde   \n",
              "105263                       Carbamazepine          Trigeminal Neuralgia   \n",
              "103458                            Tekturna           High Blood Pressure   \n",
              "164345                      Junel 1.5 / 30                 Birth Control   \n",
              "191035                             Campral            Alcohol Dependence   \n",
              "127085                      Metoclopramide               Nausea/Vomiting   \n",
              "187382                             Orencia          Rheumatoid Arthritis   \n",
              "47128                   Thyroid desiccated           Underactive Thyroid   \n",
              "215220                        Lubiprostone         Constipation, Chronic   \n",
              "\n",
              "                                                   review  usefulCount  \n",
              "Id                                                                      \n",
              "206461  \"It has no side effect, I take it in combinati...           27  \n",
              "95260   \"My son is halfway through his fourth week of ...          192  \n",
              "92703   \"I used to take another oral contraceptive, wh...           17  \n",
              "138000  \"This is my first time using any form of birth...           10  \n",
              "35696   \"Suboxone has completely turned my life around...           37  \n",
              "155963  \"2nd day on 5mg started to work with rock hard...           43  \n",
              "165907  \"He pulled out, but he cummed a bit in me. I t...            5  \n",
              "102654  \"Abilify changed my life. There is hope. I was...           32  \n",
              "74811   \" I Ve had  nothing but problems with the Kepp...           11  \n",
              "48928   \"I had been on the pill for many years. When m...            1  \n",
              "29607   \"I have been on this medication almost two wee...           19  \n",
              "75612   \"I have taken anti-depressants for years, with...           54  \n",
              "191290  \"I had Crohn&#039;s with a resection 30 years ...            8  \n",
              "221320  \"Have a little bit of a lingering cough from a...            1  \n",
              "98494   \"Started Nexplanon 2 months ago because I have...           10  \n",
              "81890   \"I have been taking Saxenda since July 2016.  ...           20  \n",
              "48188   \"This drug worked very well for me and cleared...            0  \n",
              "219869  \"I&#039;ve been taking amitriptyline since Jan...           39  \n",
              "212077  \"I&#039;ve been on every medicine under the su...           18  \n",
              "119705  \"I have been on Tasigna for just over 3 years ...           11  \n",
              "12372   \"Spring of 2008 I was hospitalized with pnuemo...           11  \n",
              "231466  \"I have insomnia, it&#039;s horrible. My story...           43  \n",
              "227020  \"Nexplanon does its job. I can have worry free...           11  \n",
              "41928   \"I live in Western Australia and disturbed by ...            4  \n",
              "213649  \"Do not use the cream that comes with this. It...            7  \n",
              "51215   \"Was prescribed one dose over the course of on...            7  \n",
              "206180  \"I&#039;m writing a second review on Vaniqa.  ...           99  \n",
              "78563   \"Hi all, My son who is 12 was diagnosed when h...           11  \n",
              "132258  \"Honestly, I have been taking ativan for 2 yea...           47  \n",
              "27339   \"At first I suffered through them. This includ...            6  \n",
              "...                                                   ...          ...  \n",
              "181920  \"Doc prescribed this medication to control my ...            6  \n",
              "76151   \"I switched to Portia 12 days ago when I start...            9  \n",
              "73058   \"When I first starting taking Lo Loestrin Fe, ...           13  \n",
              "183202  \"I have been taking Cymbalta for 15 months now...           89  \n",
              "148859  \"My experience: Painful insertion but I expect...            4  \n",
              "88991   \"This really did help with my allergies and as...           36  \n",
              "109111  \"I have had the Nexplanon since Dec. 27, 2016 ...            0  \n",
              "117030  \"I need bi-lateral knee replacement but due to...           11  \n",
              "161838  \"POISON....two days on this med &amp; I though...            1  \n",
              "176146  \"About 4 years ago I started having early-morn...            0  \n",
              "18421   \"I started taking this medication 10 years ago...          103  \n",
              "86533   \"I just got diagnosed with type 2. My doctor p...           47  \n",
              "56907   \"Used with my throat cancer and it helped numb...           22  \n",
              "183962  \"Honestly , This works pretty well for me. It ...            8  \n",
              "52489   \"Had taken Armour Thyroid for 20 years but sta...           87  \n",
              "229036  \"I&#039;m a 59 year old male who has experienc...           36  \n",
              "228492  \"I was in a very bad place at the time I start...            5  \n",
              "121154  \"Had panic attacks and social anxiety starting...           25  \n",
              "200957  \"Used this a month ago for allergic conjunctiv...           12  \n",
              "93069   \"This is the third med I&#039;ve tried for anx...           33  \n",
              "132177  \"I was super against taking medication. I&#039...           61  \n",
              "45410   \"I have been off Prozac for about 4 weeks now....           22  \n",
              "105263  \"Up to 800mg seems to work about once every 2n...           10  \n",
              "103458  \"I have only been on Tekturna for 9 days. The ...           18  \n",
              "164345  \"This would be my second month on Junel. I&#03...            0  \n",
              "191035  \"I wrote my first report in Mid-October of 201...          125  \n",
              "127085  \"I was given this in IV before surgey. I immed...           34  \n",
              "187382  \"Limited improvement after 4 months, developed...           35  \n",
              "47128   \"I&#039;ve been on thyroid medication 49 years...           79  \n",
              "215220  \"I&#039;ve had chronic constipation all my adu...          116  \n",
              "\n",
              "[161297 rows x 4 columns]"
            ]
          },
          "metadata": {
            "tags": []
          },
          "execution_count": 14
        }
      ]
    },
    {
      "cell_type": "markdown",
      "metadata": {
        "id": "kzwd8PywG2-u",
        "colab_type": "text"
      },
      "source": [
        "In this dataset the only NAs appear in 'condition'. This variable is categorical, so we can just one hot encode the categoricals as usual. This will have the effect that the NAs get treated as a category, which is what we want."
      ]
    },
    {
      "cell_type": "code",
      "metadata": {
        "id": "tl-nyUZoGWz4",
        "colab_type": "code",
        "colab": {
          "base_uri": "https://localhost:8080/",
          "height": 369
        },
        "outputId": "93cd7849-ba5b-45dc-a890-75596e1a166c"
      },
      "source": [
        "print((X_train == '?').sum())\n",
        "print((X_test == '?').sum())\n",
        "print((X_train == 'Not Available').sum())\n",
        "print((X_test == 'Not Available').sum())"
      ],
      "execution_count": null,
      "outputs": [
        {
          "output_type": "stream",
          "text": [
            "drugName       0\n",
            "condition      0\n",
            "review         0\n",
            "usefulCount    0\n",
            "dtype: int64\n",
            "drugName       0\n",
            "condition      0\n",
            "review         0\n",
            "usefulCount    0\n",
            "dtype: int64\n",
            "drugName       0\n",
            "condition      0\n",
            "review         0\n",
            "usefulCount    0\n",
            "dtype: int64\n",
            "drugName       0\n",
            "condition      0\n",
            "review         0\n",
            "usefulCount    0\n",
            "dtype: int64\n"
          ],
          "name": "stdout"
        }
      ]
    },
    {
      "cell_type": "code",
      "metadata": {
        "id": "Ut6CL42sHJFf",
        "colab_type": "code",
        "colab": {
          "base_uri": "https://localhost:8080/",
          "height": 7429
        },
        "outputId": "2c223127-4f15-4e58-9822-51bdfc41c364"
      },
      "source": [
        "# inspect types of variables to encode them right\n",
        "for col in X_train.columns:\n",
        "  if col == \"review\": continue\n",
        "  print(f\"unique values of {col}:\")\n",
        "  vals = X_train.loc[:,col].values\n",
        "  print(np.unique(vals.astype('str')))\n",
        "  print(\"\\n\")\n",
        "  \n",
        "'''\n",
        "drugname: just the name of the drug, we could kick it out (we have the id)\n",
        "condition: categorical, lets kick out 'i</span> users found this comment helpful.'\n",
        "review: text\n",
        "date: date\n",
        "useful count: nr\n",
        "'''"
      ],
      "execution_count": null,
      "outputs": [
        {
          "output_type": "stream",
          "text": [
            "unique values of drugName:\n",
            "['A + D Cracked Skin Relief' 'A / B Otic'\n",
            " 'Abacavir / dolutegravir / lamivudine' ... 'depo-subQ provera 104' 'ella'\n",
            " 'femhrt']\n",
            "\n",
            "\n",
            "unique values of condition:\n",
            "['0</span> users found this comment helpful.'\n",
            " '10</span> users found this comment helpful.'\n",
            " '110</span> users found this comment helpful.'\n",
            " '11</span> users found this comment helpful.'\n",
            " '121</span> users found this comment helpful.'\n",
            " '123</span> users found this comment helpful.'\n",
            " '12</span> users found this comment helpful.'\n",
            " '13</span> users found this comment helpful.'\n",
            " '142</span> users found this comment helpful.'\n",
            " '145</span> users found this comment helpful.'\n",
            " '146</span> users found this comment helpful.'\n",
            " '14</span> users found this comment helpful.'\n",
            " '15</span> users found this comment helpful.'\n",
            " '16</span> users found this comment helpful.'\n",
            " '17</span> users found this comment helpful.'\n",
            " '18</span> users found this comment helpful.'\n",
            " '19</span> users found this comment helpful.'\n",
            " '1</span> users found this comment helpful.'\n",
            " '20</span> users found this comment helpful.'\n",
            " '21</span> users found this comment helpful.'\n",
            " '22</span> users found this comment helpful.'\n",
            " '23</span> users found this comment helpful.'\n",
            " '24</span> users found this comment helpful.'\n",
            " '25</span> users found this comment helpful.'\n",
            " '26</span> users found this comment helpful.'\n",
            " '27</span> users found this comment helpful.'\n",
            " '28</span> users found this comment helpful.'\n",
            " '29</span> users found this comment helpful.'\n",
            " '2</span> users found this comment helpful.'\n",
            " '30</span> users found this comment helpful.'\n",
            " '31</span> users found this comment helpful.'\n",
            " '32</span> users found this comment helpful.'\n",
            " '33</span> users found this comment helpful.'\n",
            " '34</span> users found this comment helpful.'\n",
            " '35</span> users found this comment helpful.'\n",
            " '36</span> users found this comment helpful.'\n",
            " '39</span> users found this comment helpful.'\n",
            " '3</span> users found this comment helpful.'\n",
            " '40</span> users found this comment helpful.'\n",
            " '41</span> users found this comment helpful.'\n",
            " '42</span> users found this comment helpful.'\n",
            " '43</span> users found this comment helpful.'\n",
            " '44</span> users found this comment helpful.'\n",
            " '45</span> users found this comment helpful.'\n",
            " '46</span> users found this comment helpful.'\n",
            " '47</span> users found this comment helpful.'\n",
            " '48</span> users found this comment helpful.'\n",
            " '4</span> users found this comment helpful.'\n",
            " '51</span> users found this comment helpful.'\n",
            " '54</span> users found this comment helpful.'\n",
            " '55</span> users found this comment helpful.'\n",
            " '5</span> users found this comment helpful.'\n",
            " '61</span> users found this comment helpful.'\n",
            " '62</span> users found this comment helpful.'\n",
            " '63</span> users found this comment helpful.'\n",
            " '64</span> users found this comment helpful.'\n",
            " '6</span> users found this comment helpful.'\n",
            " '72</span> users found this comment helpful.'\n",
            " '74</span> users found this comment helpful.'\n",
            " '75</span> users found this comment helpful.'\n",
            " '76</span> users found this comment helpful.'\n",
            " '77</span> users found this comment helpful.'\n",
            " '79</span> users found this comment helpful.'\n",
            " '7</span> users found this comment helpful.'\n",
            " '84</span> users found this comment helpful.'\n",
            " '85</span> users found this comment helpful.'\n",
            " '8</span> users found this comment helpful.'\n",
            " '92</span> users found this comment helpful.'\n",
            " '94</span> users found this comment helpful.'\n",
            " '95</span> users found this comment helpful.'\n",
            " '98</span> users found this comment helpful.'\n",
            " '99</span> users found this comment helpful.'\n",
            " '9</span> users found this comment helpful.' 'ADHD'\n",
            " 'AIDS Related Wasting' 'AV Heart Block' 'Abdominal Distension'\n",
            " 'Abnormal Uterine Bleeding' 'Abortion' 'Acetaminophen Overdose' 'Acne'\n",
            " 'Actinic Keratosis' 'Acute Coronary Syndrome'\n",
            " 'Acute Lymphoblastic Leukemia' 'Acute Nonlymphocytic Leukemia'\n",
            " 'Acute Promyelocytic Leukemia' \"Addison's Disease\"\n",
            " 'Adrenocortical Insufficiency' 'Adult Human Growth Hormone Deficiency'\n",
            " 'Aggressive Behavi' 'Agitated State' 'Agitation' 'Alcohol Dependence'\n",
            " 'Alcohol Withdrawal' 'Allergic Reactions' 'Allergic Rhinitis'\n",
            " 'Allergic Urticaria' 'Allergies' 'Alopecia'\n",
            " 'Alpha-1 Proteinase Inhibitor Deficiency' \"Alzheimer's Disease\"\n",
            " 'Amebiasis' 'Amenorrhea' 'Amyotrophic Lateral Sclerosis'\n",
            " 'Anal Fissure and Fistula' 'Anal Itching' 'Anaphylaxis'\n",
            " 'Anaplastic Astrocytoma' 'Anaplastic Oligodendroglioma'\n",
            " 'Androgenetic Alopecia' 'Anemia'\n",
            " 'Anemia Associated with Chronic Renal Failure'\n",
            " 'Anemia, Chemotherapy Induced' 'Anemia, Sickle Cell' 'Anesthesia'\n",
            " 'Anesthetic Adjunct' 'Angina' 'Angina Pectoris Prophylaxis' 'Angioedema'\n",
            " 'Ankylosing Spondylitis' 'Anorexia' 'Anorexia/Feeding Problems' 'Anthrax'\n",
            " 'Anti NMDA Receptor Encephalitis' 'Antiphospholipid Syndrome' 'Anxiety'\n",
            " 'Anxiety and Stress' 'Aphthous Ulce' 'Arrhythmia' 'Ascariasis'\n",
            " 'Asperger Syndrome' 'Aspergillosis, Aspergilloma' 'Aspiration Pneumonia'\n",
            " 'Asthma' 'Asthma, Maintenance' 'Asthma, acute' 'Asystole'\n",
            " 'Atherosclerosis' 'Atopic Dermatitis' 'Atrial Fibrillation'\n",
            " 'Atrial Flutte' 'Atrophic Urethritis' 'Atrophic Vaginitis'\n",
            " 'Auditory Processing Disorde' 'Autism' 'Autoimmune Hemolytic Anemia'\n",
            " 'Autoimmune Hepatitis' 'Avian Influenza' 'B12 Nutritional Deficiency'\n",
            " 'Babesiosis' 'Back Pain' 'Bacterial Endocarditis Prevention'\n",
            " 'Bacterial Infection' 'Bacterial Skin Infection' 'Bacterial Vaginitis'\n",
            " \"Barrett's Esophagus\" 'Bartonellosis' 'Basal Cell Carcinoma'\n",
            " \"Behcet's Disease\" 'Benign Essential Trem' 'Benign Prostatic Hyperplasia'\n",
            " 'Benzodiazepine Withdrawal' 'Biliary Cirrhosis' 'Binge Eating Disorde'\n",
            " 'Bipolar Disorde' 'Birth Control' 'Bladder Infection' 'Bleeding Disorde'\n",
            " 'Blepharitis' 'Body Dysmorphic Disorde' 'Body Imaging' 'Bone infection'\n",
            " 'Borderline Personality Disorde' 'Bowel Preparation' 'Brain Tum'\n",
            " 'Breakthrough Pain' 'Breast Cance' 'Breast Cancer, Adjuvant'\n",
            " 'Breast Cancer, Metastatic' 'Breast Cancer, Palliative'\n",
            " 'Breast Cancer, Prevention' 'Bronchiectasis' 'Bronchitis'\n",
            " 'Bronchospasm Prophylaxis' 'Bulimia' 'Bullous Pemphigoid'\n",
            " 'Burning Mouth Syndrome' 'Burns, External' 'Bursitis' 'CMV Prophylaxis'\n",
            " 'CNS Magnetic Resonance Imaging' 'COPD' 'COPD, Acute' 'COPD, Maintenance'\n",
            " 'Cachexia' 'Campylobacter Gastroenteritis' 'Cance'\n",
            " 'Candida Urinary Tract Infection' 'Candidemia' 'Carcinoid Tum'\n",
            " 'Cardiovascular Risk Reduction' 'Cataplexy' 'Cerebral Edema'\n",
            " 'Cerebral Spasticity' 'Cerebrovascular Insufficiency' 'Cervical Dystonia'\n",
            " 'Chlamydia Infection' 'Cholera' 'Chronic Eosinophilic Leukemia'\n",
            " 'Chronic Fatigue Syndrome' 'Chronic Idiopathic Constipation'\n",
            " 'Chronic Inflammatory Demyelinating Polyradiculoneuropathy'\n",
            " 'Chronic Lymphocytic Leukemia' 'Chronic Myelogenous Leukemia'\n",
            " 'Chronic Myofascial Pain' 'Chronic Pain' 'Chronic Pancreatitis'\n",
            " 'Chronic Spasticity' 'Clostridial Infection' 'Cluster Headaches'\n",
            " 'Cluster-Tic Syndrome' 'Coccidioidomycosis' \"Cogan's Syndrome\"\n",
            " 'Cold Sores' 'Cold Symptoms' 'Colorectal Cance' 'Computed Tomography'\n",
            " 'Condylomata Acuminata' 'Conjunctivitis' 'Conjunctivitis, Allergic'\n",
            " 'Conjunctivitis, Bacterial' 'Constipation' 'Constipation, Acute'\n",
            " 'Constipation, Chronic' 'Constipation, Drug Induced' 'Corneal Ulce'\n",
            " 'Coronary Artery Disease' 'Costochondritis' 'Cough'\n",
            " 'Cough and Nasal Congestion' \"Crohn's Disease\" \"Crohn's Disease, Acute\"\n",
            " \"Crohn's Disease, Maintenance\" 'Croup' 'Cutaneous Candidiasis'\n",
            " 'Cutaneous Larva Migrans' 'Cutaneous T-cell Lymphoma'\n",
            " 'Cyclic Vomiting Syndrome' 'Cyclitis' 'Cyclothymic Disorde'\n",
            " 'Cystic Fibrosis' 'Dandruff' 'Deep Neck Infection' 'Deep Vein Thrombosis'\n",
            " 'Deep Vein Thrombosis Prophylaxis after Hip Replacement Surgery'\n",
            " 'Deep Vein Thrombosis Prophylaxis after Knee Replacement Surgery'\n",
            " 'Deep Vein Thrombosis, First Event' 'Deep Vein Thrombosis, Prophylaxis'\n",
            " 'Deep Vein Thrombosis, Recurrent Event' 'Delayed Puberty, Male'\n",
            " 'Dementia' 'Dental Abscess' 'Depression' \"Dercum's Disease\" 'Dermatitis'\n",
            " 'Dermatitis Herpeti' 'Dermatitis Herpetiformis' 'Dermatologic Lesion'\n",
            " 'Dermatological Disorders' 'Dermatomyositis' 'Dermatophytosis'\n",
            " 'Diabetes Insipidus' 'Diabetes, Type 1' 'Diabetes, Type 2'\n",
            " 'Diabetic Kidney Disease' 'Diabetic Macular Edema'\n",
            " 'Diabetic Peripheral Neuropathy' 'Diagnosis and Investigation'\n",
            " 'Diagnostic Bronchograms' 'Diaper Rash' 'Diarrhea' 'Diarrhea, Acute'\n",
            " 'Diarrhea, Chronic' 'Dientamoeba fragilis'\n",
            " 'Dietary Fiber Supplementation' 'Dietary Supplementation'\n",
            " 'Dissociative Identity Disorde' 'Diverticulitis' 'Dry Eye Disease'\n",
            " 'Dry Skin' 'Dumping Syndrome' 'Duodenal Ulce'\n",
            " 'Duodenal Ulcer Prophylaxis' \"Dupuytren's contracture\" 'Dysautonomia'\n",
            " 'Dyspareunia' 'Dystonia' 'Dysuria' 'Ear Wax Impaction'\n",
            " 'Ectopic Pregnancy' 'Eczema' 'Edema' 'Ehrlichiosis'\n",
            " 'Emergency Contraception' 'Endometrial Cance' 'Endometrial Hyperplasia'\n",
            " 'Endometrial Hyperplasia, Prophylaxis' 'Endometriosis'\n",
            " 'Endoscopy or Radiology Premedication' 'Enterocolitis'\n",
            " 'Eosinophilic Esophagitis' 'Epicondylitis, Tennis Elbow'\n",
            " 'Epididymitis, Sexually Transmitted' 'Epilepsy' 'Erectile Dysfunction'\n",
            " 'Erosive Esophagitis' 'Esophageal Candidiasis' 'Esophageal Spasm'\n",
            " 'Esophageal Variceal Hemorrhage Prophylaxis' 'Euvolemic Hyponatremia'\n",
            " 'Expectoration' 'Extrapyramidal Reaction' 'Eye Redness'\n",
            " 'Eye Redness/Itching' 'Eyelash Hypotrichosis' 'GERD'\n",
            " 'Gallbladder Disease' 'Gas' 'Gastric Cance'\n",
            " 'Gastric Ulcer Maintenance Treatment' 'Gastritis/Duodenitis'\n",
            " 'Gastroenteritis' 'Gastrointestinal Decontamination'\n",
            " 'Gastrointestinal Stromal Tum' 'Gastroparesis' 'Gaucher Disease'\n",
            " 'Gender Dysphoria' 'Generalized Anxiety Disorde' 'Gestational Diabetes'\n",
            " 'Giant Cell Tumor of Bone' 'Giardiasis' 'Gingivitis' 'Glaucoma'\n",
            " 'Glaucoma, Open Angle' 'Glaucoma/Intraocular Hypertension'\n",
            " 'Glioblastoma Multi' 'Glioblastoma Multiforme' 'Gonadotropin Inhibition'\n",
            " 'Gonococcal Infection, Disseminated'\n",
            " 'Gonococcal Infection, Uncomplicated' 'Gout' 'Gout, Acute'\n",
            " 'Gout, Prophylaxis' 'Gouty Arthritis' 'Granuloma Annulare'\n",
            " 'HIV Infection' 'Hairy Cell Leukemia' \"Hashimoto's disease\" 'Head Injury'\n",
            " 'Head Lice' 'Head and Neck Cance' 'Headache' 'Heart Attack'\n",
            " 'Heart Failure' 'Helicobacter Pylori Infection' 'Hemangioma'\n",
            " 'Hemophilia A' 'Hemophilia B' 'Hemorrhoids' 'Hepatic Encephalopathy'\n",
            " 'Hepatic Tum' 'Hepatitis B' 'Hepatitis B Prevention' 'Hepatitis C'\n",
            " 'Hepatocellular Carcinoma' 'Herbal Supplementation'\n",
            " 'Hereditary Angioedema' 'Herpes Simplex'\n",
            " 'Herpes Simplex Dendritic Keratitis'\n",
            " 'Herpes Simplex, Mucocutaneous/Immunocompetent Host'\n",
            " 'Herpes Simplex, Mucocutaneous/Immunocompromised Host'\n",
            " 'Herpes Simplex, Suppression' 'Herpes Zoste' 'Herpes Zoster, Prophylaxis'\n",
            " 'Hiccups' 'Hidradenitis Suppurativa' 'High Blood Pressure'\n",
            " 'High Cholesterol' 'High Cholesterol, Familial Heterozygous'\n",
            " 'High Cholesterol, Familial Homozygous' 'Hirsutism' 'Histoplasmosis'\n",
            " \"Hodgkin's Lymphoma\" 'Hot Flashes' 'Human Papilloma Virus'\n",
            " 'Human Papillomavirus Prophylaxis' 'Hydrocephalus' 'Hyperbilirubinemia'\n",
            " 'Hypercalcemia' 'Hypercalcemia of Malignancy' 'Hyperekplexia'\n",
            " 'Hyperhidrosis' 'Hyperkalemia' 'Hyperlipoproteinemia'\n",
            " 'Hyperlipoproteinemia Type III, Elevated beta-VLDL   IDL'\n",
            " 'Hyperlipoproteinemia Type IIa, Elevated LDL'\n",
            " 'Hyperlipoproteinemia Type IV, Elevated VLDL'\n",
            " 'Hyperparathyroidism Secondary to Renal Impairment' 'Hyperphosphatemia'\n",
            " 'Hyperphosphatemia of Renal Failure' 'Hyperprolactinemia' 'Hypersomnia'\n",
            " 'Hypertensive Emergency' 'Hyperthyroidism' 'Hypertriglyceridemia'\n",
            " 'Hyperuricemia Secondary to Chemotherapy'\n",
            " 'Hypoactive Sexual Desire Disorde' 'Hypocalcemia' 'Hypodermoclysis'\n",
            " 'Hypoestrogenism' 'Hypoglycemia' 'Hypogonadism, Male' 'Hypokalemia'\n",
            " 'Hypokalemic Periodic Paralysis' 'Hypomagnesemia' 'Hypoparathyroidism'\n",
            " 'Hypopituitarism' 'Hypotension' 'Hypothyroidism, After Thyroid Removal'\n",
            " 'ICU Agitation' 'Ichthyosis' 'Idiopathic Thrombocytopenic Purpura'\n",
            " 'Immunosuppression' 'Impetig' 'Indigestion' 'Infection Prophylaxis'\n",
            " 'Infectious Diarrhea' 'Inflammatory Bowel Disease'\n",
            " 'Inflammatory Conditions' 'Influenza' 'Influenza Prophylaxis' 'Insomnia'\n",
            " 'Insomnia, Stimulant-Associated' 'Insulin Resistance Syndrome'\n",
            " 'Intermittent Claudication' 'Intermittent Explosive Disorde'\n",
            " 'Interstitial Cystitis' 'Intraabdominal Infection'\n",
            " 'Intraocular Hypertension' 'Iritis' 'Iron Deficiency Anemia'\n",
            " 'Irritable Bowel Syndrome' 'Ischemic Stroke'\n",
            " 'Ischemic Stroke, Prophylaxis' 'Joint Infection'\n",
            " 'Juvenile Idiopathic Arthritis' 'Juvenile Rheumatoid Arthritis'\n",
            " 'Keratitis' 'Keratoconjunctivitis Sicca' 'Keratosis' 'Kidney Infections'\n",
            " 'Klinefelter Syndrome' 'Labor Induction' 'Labor Pain'\n",
            " 'Lactation Augmentation' 'Lactose Intolerance'\n",
            " 'Left Ventricular Dysfunction' 'Legionella Pneumonia'\n",
            " 'Lennox-Gastaut Syndrome' 'Leukemia' 'Leukocytoclastic Vasculitis'\n",
            " 'Lewy Body Dementia' 'Lichen Planus' 'Lichen Sclerosus'\n",
            " 'Light Anesthesia' 'Light Sedation' 'Linear IgA Disease' 'Lipodystrophy'\n",
            " 'Liver Magnetic Resonance Imaging' 'Local Anesthesia' 'Lyme Disease'\n",
            " 'Lyme Disease, Arthritis' 'Lyme Disease, Neurologic'\n",
            " 'Lymphocytic Colitis' 'Lymphoma' 'Macular Degeneration' 'Macular Edema'\n",
            " 'Major Depressive Disorde' 'Malaria' 'Malaria Prevention'\n",
            " 'Malignant Glioma' 'Mania' 'Manscaping Pain' 'Melanoma'\n",
            " 'Melanoma, Metastatic' 'Melasma' \"Meniere's Disease\" 'Meningitis'\n",
            " 'Meningitis, Meningococcal' 'Meningococcal Meningitis Prophylaxis'\n",
            " 'Menopausal Disorders' 'Menorrhagia' 'Menstrual Disorders'\n",
            " 'Methicillin-Resistant Staphylococcus Aureus Infection'\n",
            " 'Microscopic polyangiitis' 'Migraine' 'Migraine Prevention'\n",
            " 'Mild Cognitive Impairment' 'Mitral Valve Prolapse'\n",
            " 'Mixed Connective Tissue Disease' 'Mononucleosis' 'Motion Sickness'\n",
            " 'Mountain Sickness / Altitude Sickness' 'Mucositis'\n",
            " 'Multiple Endocrine Adenomas' 'Multiple Myeloma' 'Multiple Sclerosis'\n",
            " 'Mumps Prophylaxis' 'Muscle Pain' 'Muscle Spasm' 'Muscle Twitching'\n",
            " 'Myasthenia Gravis' 'Mycobacterium avium-intracellulare, Treatment'\n",
            " 'Mycoplasma Pneumonia' 'Myelodysplastic Syndrome' 'Myelofibrosis'\n",
            " 'Myeloproliferative Disorders' 'Myxedema Coma'\n",
            " 'NSAID-Induced Gastric Ulce' 'NSAID-Induced Ulcer Prophylaxis'\n",
            " 'Narcolepsy' 'Nasal Carriage of Staphylococcus aureus' 'Nasal Congestion'\n",
            " 'Nasal Polyps' 'Nausea/Vomiting' 'Nausea/Vomiting of Pregnancy'\n",
            " 'Nausea/Vomiting, Chemotherapy Induced' 'Nausea/Vomiting, Postoperative'\n",
            " 'Nausea/Vomiting, Radiation Induced' 'Neck Pain' 'Neoplastic Diseases'\n",
            " 'Nephrocalcinosis' 'Nephrotic Syndrome' 'Neuralgia' 'Neuritis'\n",
            " 'Neuropathic Pain' 'Neurosis' 'Neurosurgery' 'Neurotic Depression'\n",
            " 'Neutropenia' 'Neutropenia Associated with Chemotherapy'\n",
            " 'New Daily Persistent Headache' 'Niacin Deficiency' 'Night Terrors'\n",
            " 'Nightmares' 'Nocardiosis' 'Nocturnal Leg Cramps'\n",
            " \"Non-Hodgkin's Lymphoma\" 'Non-Small Cell Lung Cance'\n",
            " 'Nonalcoholic Fatty Liver Disease' 'Noninfectious Colitis'\n",
            " 'Nonoccupational Exposure' 'Not Listed / Othe' 'Obesity'\n",
            " 'Obsessive Compulsive Disorde'\n",
            " 'Obstructive Sleep Apnea/Hypopnea Syndrome' 'Occipital Neuralgia'\n",
            " 'Ocular Rosacea' 'Oligospermia' 'Onychomycosis, Fingernail'\n",
            " 'Onychomycosis, Toenail' 'Oophorectomy' 'Ophthalmic Surgery'\n",
            " 'Opiate Adjunct' 'Opiate Dependence' 'Opiate Withdrawal'\n",
            " 'Opioid Overdose' 'Opioid-Induced Constipation'\n",
            " 'Oppositional Defiant Disorde' 'Oral Thrush' 'Oral and Dental Conditions'\n",
            " 'Organ Transplant, Rejection Prophylaxis'\n",
            " 'Organ Transplant, Rejection Reversal' 'Osteoarthritis'\n",
            " 'Osteolytic Bone Lesions of Multiple Myeloma'\n",
            " 'Osteolytic Bone Metastases of Solid Tumors' 'Osteoporosis'\n",
            " 'Otitis Externa' 'Otitis Media' 'Ovarian Cance' 'Ovarian Cysts'\n",
            " 'Overactive Bladde' 'Ovulation Induction' \"Paget's Disease\" 'Pain'\n",
            " 'Pain/Feve' 'Pancreatic Cance' 'Pancreatic Exocrine Dysfunction'\n",
            " 'Panic Disorde' 'Paragonimus westermani, Lung Fluke' 'Paranoid Disorde'\n",
            " \"Parkinson's Disease\" 'Parkinsonian Trem' 'Parkinsonism'\n",
            " 'Paroxysmal Supraventricular Tachycardia' 'Patent Ductus Arteriosus'\n",
            " 'Pathological Hypersecretory Conditions' 'Pe'\n",
            " 'Pediatric Growth Hormone Deficiency' 'Pelvic Inflammatory Disease'\n",
            " 'Pemphigoid' 'Pemphigus' 'Peptic Ulce'\n",
            " 'Percutaneous Coronary Intervention' 'Performance Anxiety'\n",
            " 'Perimenopausal Symptoms' 'Period Pain' 'Periodic Limb Movement Disorde'\n",
            " 'Periodontitis' 'Perioral Dermatitis' 'Peripheral Arterial Disease'\n",
            " 'Peripheral Neuropathy' 'Peripheral T-cell Lymphoma' 'Peritonitis'\n",
            " 'Persistent Depressive Disorde' 'Pertussis' \"Peyronie's Disease\"\n",
            " 'Pharyngitis' 'Photoaging of the Skin'\n",
            " 'Pinworm Infection (Enterobius vermicularis)' 'Pityriasis rubra pilaris'\n",
            " 'Plaque Psoriasis' 'Platelet Aggregation Inhibition'\n",
            " 'Pneumococcal Disease Prophylaxis' 'Pneumonia'\n",
            " 'Polycystic Ovary Syndrome' 'Polycythemia Vera' 'Porphyria'\n",
            " 'Portal Hypertension' 'Post Traumatic Stress Disorde'\n",
            " 'Post-Cholecystectomy Diarrhea' 'Postherpetic Neuralgia'\n",
            " 'Postmenopausal Symptoms' 'Postoperative Increased Intraocular Pressure'\n",
            " 'Postoperative Ocular Inflammation' 'Postoperative Pain'\n",
            " 'Postpartum Breast Pain' 'Postpartum Depression'\n",
            " 'Postural Orthostatic Tachycardia Syndrome' 'Pre-Exposure Prophylaxis'\n",
            " 'Precocious Puberty' 'Premature Lab'\n",
            " 'Premature Ventricular Depolarizations' 'Premenstrual Dysphoric Disorde'\n",
            " 'Premenstrual Syndrome' 'Prevention of Atherothrombotic Events'\n",
            " 'Prevention of Bladder infection' 'Prevention of Cardiovascular Disease'\n",
            " 'Prevention of Dental Caries' 'Prevention of Hypokalemia'\n",
            " 'Prevention of Osteoporosis'\n",
            " 'Prevention of Perinatal Group B Streptococcal Disease'\n",
            " 'Prevention of Thromboembolism in Atrial Fibrillation'\n",
            " 'Primary Hyperaldosteronism' 'Primary Hyperaldosteronism Diagnosis'\n",
            " 'Primary Immunodeficiency Syndrome' 'Primary Nocturnal Enuresis'\n",
            " 'Primary Ovarian Failure' 'Progesterone Insufficiency' 'Prostate Cance'\n",
            " 'Prostatitis'\n",
            " 'Prosthetic Heart Valves, Mechanical Valves - Thrombosis Prophylaxis'\n",
            " 'Prosthetic Heart Valves, Tissue Valves - Thrombosis Prophylaxis'\n",
            " 'Pruritus' 'Pruritus of Partial Biliary Obstruction'\n",
            " 'Pseudobulbar Affect' 'Pseudogout, Prophylaxis'\n",
            " 'Pseudomembranous Colitis' 'Pseudotumor Cerebri' 'Psoriasis'\n",
            " 'Psoriatic Arthritis' 'Psychosis' 'Pudendal Neuralgia'\n",
            " 'Pulmonary Embolism' 'Pulmonary Embolism, First Event'\n",
            " 'Pulmonary Embolism, Recurrent Event' 'Pulmonary Hypertension'\n",
            " 'Pupillary Dilation' 'Q Feve' 'Rabies Prophylaxis'\n",
            " 'Radionuclide Myocardial Perfusion Study' 'Ramsay Hunt Syndrome'\n",
            " \"Raynaud's Syndrome\" 'Reflex Sympathetic Dystrophy Syndrome'\n",
            " \"Reiter's Syndrome\" 'Rejection Prophylaxis' 'Renal Cell Carcinoma'\n",
            " 'Renal Transplant' 'Restless Legs Syndrome'\n",
            " 'Reversal of Nondepolarizing Muscle Relaxants'\n",
            " 'Reversal of Opioid Sedation' 'Rheumatoid Arthritis' 'Rhinitis'\n",
            " 'Rhinorrhea' 'Rosacea' 'SIADH' 'STD Prophylaxis' 'Salivary Gland Cance'\n",
            " 'Sarcoidosis' 'Scabies' 'Schilling Test' 'Schistosoma japonicum'\n",
            " 'Schizoaffective Disorde' 'Schizophrenia' 'Schnitzler Syndrome'\n",
            " 'Sciatica' 'Scleroderma' 'Seasonal Affective Disorde'\n",
            " 'Seasonal Allergic Conjunctivitis' 'Seborrheic Dermatitis'\n",
            " 'Secondary Cutaneous Bacterial Infections'\n",
            " 'Secondary Hyperparathyroidism' 'Sedation' 'Seizure Prevention'\n",
            " 'Seizures' 'Sepsis' 'Severe Mood Dysregulation'\n",
            " 'Sexual Dysfunction, SSRI Induced' 'Shift Work Sleep Disorde'\n",
            " 'Short Stature' 'Short Stature for Age' 'Sinus Symptoms' 'Sinusitis'\n",
            " \"Sjogren's Syndrome\" 'Skin Cance' 'Skin Disinfection, Preoperative'\n",
            " 'Skin Rash' 'Skin and Structure Infection'\n",
            " 'Skin or Soft Tissue Infection' 'Sleep Paralysis'\n",
            " 'Small Bowel Bacterial Overgrowth' 'Small Bowel or Pancreatic Fistula'\n",
            " 'Small Fiber Neuropathy' 'Smoking Cessation' 'Social Anxiety Disorde'\n",
            " 'Soft Tissue Sarcoma' 'Solid Tumors' 'Somatoform Pain Disorde'\n",
            " 'Sore Throat' 'Spondyloarthritis' 'Spondylolisthesis' 'Sporotrichosis'\n",
            " 'Squamous Cell Carcinoma' 'Status Epilepticus' \"Still's Disease\"\n",
            " 'Stomach Cance' 'Stomach Ulce' 'Strabismus' 'Strep Throat'\n",
            " 'Streptococcal Infection' 'Stress Ulcer Prophylaxis' 'Strongyloidiasis'\n",
            " 'Subarachnoid Hemorrhage' 'Submental Fullness' 'Sunburn'\n",
            " 'Supraventricular Tachycardia' 'Surgical Prophylaxis' 'Swine Flu'\n",
            " 'Syringomyelia' 'Systemic Candidiasis' 'Systemic Lupus Erythematosus'\n",
            " 'Systemic Mastocytosis' 'Systemic Sclerosis' 'TSH Suppression'\n",
            " 'Tardive Dyskinesia' 'Temporomandibular Joint Disorde' 'Tendonitis'\n",
            " 'Testicular Cance' 'Tetanus' 'Thrombocythemia' 'Thrombocytopenia'\n",
            " 'Thromboembolic Stroke Prophylaxis' 'Thyroid Cance'\n",
            " 'Thyroid Suppression Test' 'Thyrotoxicosis' 'Tic Disorde' 'Tinea Barbae'\n",
            " 'Tinea Capitis' 'Tinea Corporis' 'Tinea Cruris' 'Tinea Pedis'\n",
            " 'Tinea Versicol' 'Tinnitus' 'Tonsillitis/Pharyngitis' 'Toothache'\n",
            " 'Topical Disinfection' \"Tourette's Syndrome\" 'Transient Ischemic Attack'\n",
            " 'Transverse Myelitis' \"Traveler's Diarrhea\" 'Trichomoniasis'\n",
            " 'Trichotillomania' 'Trigeminal Neuralgia' 'Tuberculosis, Active'\n",
            " 'Tuberculosis, Latent' 'Tuberculosis, Prophylaxis' \"Turner's Syndrome\"\n",
            " 'Typhoid Feve' 'Ulcerative Colitis' 'Ulcerative Colitis, Active'\n",
            " 'Ulcerative Colitis, Maintenance' 'Ulcerative Proctitis'\n",
            " 'Underactive Thyroid' 'Undifferentiated Connective Tissue Disease'\n",
            " 'Upper Limb Spasticity' 'Upper Respiratory Tract Infection'\n",
            " 'Urinary Incontinence' 'Urinary Retention' 'Urinary Tract Infection'\n",
            " 'Urinary Tract Stones' 'Urticaria' 'Uterine Bleeding' 'Uterine Fibroids'\n",
            " 'Uveitis' 'Vaginal Yeast Infection' 'Varicella-Zoste' 'Varicose Veins'\n",
            " 'Ventricular Arrhythmia' 'Ventricular Fibrillation'\n",
            " 'Ventricular Tachycardia' 'Vertig' 'Vitamin B12 Deficiency'\n",
            " 'Vitamin D Deficiency' 'Vitamin K Deficiency'\n",
            " 'Vitamin/Mineral Supplementation and Deficiency'\n",
            " 'Vitamin/Mineral Supplementation during Pregnancy/Lactation' 'Vulvodynia'\n",
            " 'Warts' \"Wegener's Granulomatosis\" 'Weight Loss' \"Wilson's Disease\"\n",
            " 'Wolff-Parkinson-White Syndrome' 'Women (minoxidil)' 'Women (oxybutynin)'\n",
            " 'Wound Cleansing' 'Xerostomia' 'Zollinger-Ellison Syndrome'\n",
            " 'acial Lipoatrophy' 'acial Wrinkles' 'actor IX Deficiency'\n",
            " 'ailure to Thrive' 'amilial Cold Autoinflammatory Syndrome'\n",
            " 'amilial Mediterranean Feve' 'atigue' 'cal Segmental Glomerulosclerosis'\n",
            " 'emale Infertility' 'eve' 'ge (amlodipine / valsartan)'\n",
            " 'ge HCT (amlodipine / hydrochlorothiazide / valsartan)'\n",
            " 'ibrocystic Breast Disease' 'ibromyalgia' 'lic Acid Deficiency'\n",
            " 'llicular Lymphoma' 'm Pain Disorde' 'mance Anxiety' 'me'\n",
            " 'min / pioglitazone)' 'min / rosiglitazone)' 'min / saxagliptin)'\n",
            " 'min / sitagliptin)' 'min)' 'mis' 'mist (' 'moterol / mometasone)'\n",
            " 'moterol)' 'mulation) (phenylephrine)' 'nan' 't Care'\n",
            " 't Pac with Cyclobenzaprine (cyclobenzaprine)' 'tic (mycophenolic acid)'\n",
            " 'unctional Gastric Disorde' 'ungal Infection Prophylaxis'\n",
            " 'ungal Pneumonia' \"von Willebrand's Disease\" 'zen Shoulde']\n",
            "\n",
            "\n",
            "unique values of usefulCount:\n",
            "['0' '1' '10' '100' '101' '102' '103' '104' '105' '106' '107' '108' '109'\n",
            " '11' '110' '111' '112' '113' '114' '115' '116' '117' '118' '119' '12'\n",
            " '120' '121' '122' '123' '124' '1247' '125' '126' '127' '128' '129' '1291'\n",
            " '13' '130' '131' '132' '133' '134' '135' '136' '137' '138' '139' '14'\n",
            " '140' '141' '142' '143' '144' '145' '146' '147' '148' '149' '15' '150'\n",
            " '151' '152' '153' '154' '155' '156' '157' '158' '159' '16' '160' '161'\n",
            " '162' '163' '164' '165' '166' '167' '168' '169' '17' '170' '171' '172'\n",
            " '173' '174' '175' '176' '177' '178' '179' '18' '180' '181' '182' '183'\n",
            " '184' '185' '186' '187' '188' '189' '19' '190' '191' '192' '193' '194'\n",
            " '195' '196' '197' '198' '199' '2' '20' '200' '201' '202' '203' '204'\n",
            " '205' '206' '207' '208' '209' '21' '210' '211' '212' '213' '214' '215'\n",
            " '216' '217' '218' '219' '22' '220' '221' '222' '223' '224' '225' '226'\n",
            " '227' '228' '229' '23' '230' '231' '232' '233' '234' '235' '236' '237'\n",
            " '238' '239' '24' '240' '241' '242' '243' '244' '245' '246' '247' '248'\n",
            " '249' '25' '250' '251' '252' '254' '255' '256' '257' '259' '26' '260'\n",
            " '261' '262' '263' '264' '265' '266' '267' '268' '269' '27' '270' '271'\n",
            " '272' '273' '274' '275' '276' '278' '279' '28' '280' '281' '282' '283'\n",
            " '285' '286' '287' '288' '289' '29' '290' '291' '292' '293' '294' '295'\n",
            " '296' '297' '299' '3' '30' '300' '301' '302' '303' '304' '305' '307'\n",
            " '308' '309' '31' '310' '312' '313' '314' '315' '316' '317' '319' '32'\n",
            " '320' '322' '323' '326' '327' '328' '329' '33' '330' '331' '333' '334'\n",
            " '335' '337' '34' '340' '341' '342' '343' '344' '345' '346' '35' '355'\n",
            " '356' '357' '359' '36' '360' '364' '365' '366' '37' '371' '372' '376'\n",
            " '38' '381' '384' '388' '389' '39' '392' '397' '4' '40' '400' '401' '405'\n",
            " '406' '408' '41' '413' '42' '424' '426' '43' '435' '437' '44' '440' '446'\n",
            " '448' '45' '458' '46' '461' '463' '467' '47' '470' '476' '48' '485' '486'\n",
            " '49' '5' '50' '500' '504' '505' '51' '513' '52' '520' '526' '53' '54'\n",
            " '55' '556' '559' '56' '57' '58' '585' '59' '6' '60' '61' '62' '621' '63'\n",
            " '64' '644' '65' '66' '67' '68' '680' '69' '693' '7' '70' '71' '72' '73'\n",
            " '730' '74' '75' '76' '77' '771' '78' '79' '796' '8' '80' '81' '82' '83'\n",
            " '84' '85' '86' '87' '88' '89' '9' '90' '91' '92' '93' '94' '949' '95'\n",
            " '96' '97' '98' '99']\n",
            "\n",
            "\n"
          ],
          "name": "stdout"
        },
        {
          "output_type": "execute_result",
          "data": {
            "text/plain": [
              "\"\\ndrugname: just the name of the drug, we could kick it out (we have the id)\\ncondition: categorical, lets kick out 'i</span> users found this comment helpful.'\\nreview: text\\ndate: date\\nuseful count: nr\\n\""
            ]
          },
          "metadata": {
            "tags": []
          },
          "execution_count": 16
        }
      ]
    },
    {
      "cell_type": "markdown",
      "metadata": {
        "id": "N-Zm2TV1Rahr",
        "colab_type": "text"
      },
      "source": [
        "We see that there are erroneous entries in condition, therefore we set them to nan."
      ]
    },
    {
      "cell_type": "code",
      "metadata": {
        "id": "ZHzIkDIXJK3L",
        "colab_type": "code",
        "colab": {
          "base_uri": "https://localhost:8080/",
          "height": 34
        },
        "outputId": "17cf7157-193c-46ff-96ed-010d2b268783"
      },
      "source": [
        "to_delete = X_train['condition'].str.endswith('users found this comment helpful.')\n",
        "to_delete[to_delete.isna()] = False\n",
        "to_delete.sum()"
      ],
      "execution_count": null,
      "outputs": [
        {
          "output_type": "execute_result",
          "data": {
            "text/plain": [
              "900"
            ]
          },
          "metadata": {
            "tags": []
          },
          "execution_count": 17
        }
      ]
    },
    {
      "cell_type": "code",
      "metadata": {
        "id": "4T-LvxJiwA50",
        "colab_type": "code",
        "colab": {
          "base_uri": "https://localhost:8080/",
          "height": 122
        },
        "outputId": "3f8d83d4-59d2-4f0a-befd-a24dfa5219a2"
      },
      "source": [
        "X_train.loc[to_delete, 'condition'] = np.nan"
      ],
      "execution_count": null,
      "outputs": [
        {
          "output_type": "stream",
          "text": [
            "/usr/local/lib/python3.6/dist-packages/pandas/core/indexing.py:537: SettingWithCopyWarning: \n",
            "A value is trying to be set on a copy of a slice from a DataFrame.\n",
            "Try using .loc[row_indexer,col_indexer] = value instead\n",
            "\n",
            "See the caveats in the documentation: http://pandas.pydata.org/pandas-docs/stable/indexing.html#indexing-view-versus-copy\n",
            "  self.obj[item] = s\n"
          ],
          "name": "stderr"
        }
      ]
    },
    {
      "cell_type": "code",
      "metadata": {
        "id": "nz69kbdlKcGi",
        "colab_type": "code",
        "colab": {
          "base_uri": "https://localhost:8080/",
          "height": 225
        },
        "outputId": "90b45d28-0fba-4cdf-aeec-cb465b35b0cb"
      },
      "source": [
        "X_train.loc[to_delete].head()"
      ],
      "execution_count": null,
      "outputs": [
        {
          "output_type": "execute_result",
          "data": {
            "text/html": [
              "<div>\n",
              "<style scoped>\n",
              "    .dataframe tbody tr th:only-of-type {\n",
              "        vertical-align: middle;\n",
              "    }\n",
              "\n",
              "    .dataframe tbody tr th {\n",
              "        vertical-align: top;\n",
              "    }\n",
              "\n",
              "    .dataframe thead th {\n",
              "        text-align: right;\n",
              "    }\n",
              "</style>\n",
              "<table border=\"1\" class=\"dataframe\">\n",
              "  <thead>\n",
              "    <tr style=\"text-align: right;\">\n",
              "      <th></th>\n",
              "      <th>drugName</th>\n",
              "      <th>condition</th>\n",
              "      <th>review</th>\n",
              "      <th>usefulCount</th>\n",
              "    </tr>\n",
              "    <tr>\n",
              "      <th>Id</th>\n",
              "      <th></th>\n",
              "      <th></th>\n",
              "      <th></th>\n",
              "      <th></th>\n",
              "    </tr>\n",
              "  </thead>\n",
              "  <tbody>\n",
              "    <tr>\n",
              "      <th>220696</th>\n",
              "      <td>Loestrin 24 Fe</td>\n",
              "      <td>NaN</td>\n",
              "      <td>\"I&amp;#039;m 16 and  I have been on Loestrin 24 f...</td>\n",
              "      <td>2</td>\n",
              "    </tr>\n",
              "    <tr>\n",
              "      <th>67383</th>\n",
              "      <td>Provera</td>\n",
              "      <td>NaN</td>\n",
              "      <td>\"I&amp;#039;m 24 years old and have always had a p...</td>\n",
              "      <td>4</td>\n",
              "    </tr>\n",
              "    <tr>\n",
              "      <th>81588</th>\n",
              "      <td>Yaz</td>\n",
              "      <td>NaN</td>\n",
              "      <td>\"I took Yaz for a little over 2 years.  From a...</td>\n",
              "      <td>3</td>\n",
              "    </tr>\n",
              "    <tr>\n",
              "      <th>132965</th>\n",
              "      <td>Loestrin 24 Fe</td>\n",
              "      <td>NaN</td>\n",
              "      <td>\"Took this pill for 1.) Acne and 2.) Birth Con...</td>\n",
              "      <td>4</td>\n",
              "    </tr>\n",
              "    <tr>\n",
              "      <th>91050</th>\n",
              "      <td>Norco</td>\n",
              "      <td>NaN</td>\n",
              "      <td>\"I have suffered with low back pain - 2 surger...</td>\n",
              "      <td>11</td>\n",
              "    </tr>\n",
              "  </tbody>\n",
              "</table>\n",
              "</div>"
            ],
            "text/plain": [
              "              drugName condition  \\\n",
              "Id                                 \n",
              "220696  Loestrin 24 Fe       NaN   \n",
              "67383          Provera       NaN   \n",
              "81588              Yaz       NaN   \n",
              "132965  Loestrin 24 Fe       NaN   \n",
              "91050            Norco       NaN   \n",
              "\n",
              "                                                   review  usefulCount  \n",
              "Id                                                                      \n",
              "220696  \"I&#039;m 16 and  I have been on Loestrin 24 f...            2  \n",
              "67383   \"I&#039;m 24 years old and have always had a p...            4  \n",
              "81588   \"I took Yaz for a little over 2 years.  From a...            3  \n",
              "132965  \"Took this pill for 1.) Acne and 2.) Birth Con...            4  \n",
              "91050   \"I have suffered with low back pain - 2 surger...           11  "
            ]
          },
          "metadata": {
            "tags": []
          },
          "execution_count": 19
        }
      ]
    },
    {
      "cell_type": "code",
      "metadata": {
        "id": "wjAJfKKLLYnf",
        "colab_type": "code",
        "colab": {
          "base_uri": "https://localhost:8080/",
          "height": 122
        },
        "outputId": "2cdbee61-7db0-461b-fc7c-c41a48b15841"
      },
      "source": [
        "to_delete = X_test['condition'].str.endswith('users found this comment helpful.')\n",
        "to_delete[to_delete.isna()] = False\n",
        "X_test.loc[to_delete, 'condition'] = np.nan"
      ],
      "execution_count": null,
      "outputs": [
        {
          "output_type": "stream",
          "text": [
            "/usr/local/lib/python3.6/dist-packages/pandas/core/indexing.py:537: SettingWithCopyWarning: \n",
            "A value is trying to be set on a copy of a slice from a DataFrame.\n",
            "Try using .loc[row_indexer,col_indexer] = value instead\n",
            "\n",
            "See the caveats in the documentation: http://pandas.pydata.org/pandas-docs/stable/indexing.html#indexing-view-versus-copy\n",
            "  self.obj[item] = s\n"
          ],
          "name": "stderr"
        }
      ]
    },
    {
      "cell_type": "code",
      "metadata": {
        "id": "Fl340PEdKtE9",
        "colab_type": "code",
        "colab": {
          "base_uri": "https://localhost:8080/",
          "height": 34
        },
        "outputId": "db29a52d-73ba-490a-ffe7-d86d628b8915"
      },
      "source": [
        "X_train['condition'].unique().shape[0]"
      ],
      "execution_count": null,
      "outputs": [
        {
          "output_type": "execute_result",
          "data": {
            "text/plain": [
              "812"
            ]
          },
          "metadata": {
            "tags": []
          },
          "execution_count": 21
        }
      ]
    },
    {
      "cell_type": "code",
      "metadata": {
        "id": "t2c29hbnLSeN",
        "colab_type": "code",
        "colab": {
          "base_uri": "https://localhost:8080/",
          "height": 34
        },
        "outputId": "9ee6195f-1e2e-4652-c54a-bcda06f80031"
      },
      "source": [
        "X_train['drugName'].unique().shape[0]"
      ],
      "execution_count": null,
      "outputs": [
        {
          "output_type": "execute_result",
          "data": {
            "text/plain": [
              "3436"
            ]
          },
          "metadata": {
            "tags": []
          },
          "execution_count": 22
        }
      ]
    },
    {
      "cell_type": "markdown",
      "metadata": {
        "id": "tp1vnC8LIHjT",
        "colab_type": "text"
      },
      "source": [
        "### Cleaning Text columns"
      ]
    },
    {
      "cell_type": "markdown",
      "metadata": {
        "id": "pFEKks0TGj5Y",
        "colab_type": "text"
      },
      "source": [
        "Before working with the text features, we preprocess the text, in particular we convert it to lowercase and remove punctuation and digits. "
      ]
    },
    {
      "cell_type": "code",
      "metadata": {
        "id": "wa1o63y5h81d",
        "colab_type": "code",
        "colab": {}
      },
      "source": [
        "class Preprocessing():\n",
        "  \n",
        "  def __init__(self, X, cols, stop_words):\n",
        "    self.X = X\n",
        "    self.cols = cols\n",
        "    self.stop_words = stop_words\n",
        "    self.clean_vec = np.vectorize(self.clean)\n",
        "  \n",
        "  \n",
        "  def unique_names(self, names, col):\n",
        "    global drugs\n",
        "    global conditions\n",
        "    \n",
        "    if col == \"drugName\":\n",
        "      drugs.update(set(names))\n",
        "    elif col == \"condition\":\n",
        "      conditions.update(set(names))\n",
        "      \n",
        "  \n",
        "  def clean(self,textinp, col):\n",
        "    # makes text lowercase, removes punctuations and digits\n",
        "    text = textinp.lower()\n",
        "    text = text.translate(str.maketrans(string.punctuation, ' '*len(string.punctuation)))\n",
        "    text = text.translate(str.maketrans(string.digits, ' '*len(string.digits)))\n",
        "#     text = re.sub(r'[\\t|\\n|/]', r' ', text) #removing tab spaces and new lines\n",
        "    \n",
        "#     print(text)\n",
        "    # Tokenizing and removing stop words\n",
        "    word_tokens = word_tokenize(text)\n",
        "    clean_text = []  \n",
        "    \n",
        "    for word in word_tokens:\n",
        "      if word not in self.stop_words:\n",
        "        clean_text.append(word)\n",
        "    \n",
        "    \n",
        "    self.unique_names(clean_text, col)\n",
        "    \n",
        "    return \" \".join(clean_text)\n",
        "  \n",
        "  \n",
        "  def apply_clean_to_cell(self):\n",
        "    \n",
        "    \n",
        "    X_res = (self.X).copy()\n",
        "    \n",
        "    for col in self.cols:\n",
        "      X_res.loc[:,col] = self.clean_vec((self.X).loc[:,col], col)\n",
        "    \n",
        "    return X_res\n",
        "      "
      ],
      "execution_count": null,
      "outputs": []
    },
    {
      "cell_type": "code",
      "metadata": {
        "id": "bUIfooFsIN8F",
        "colab_type": "code",
        "colab": {
          "base_uri": "https://localhost:8080/",
          "height": 105
        },
        "outputId": "ef7c0563-8dc0-401b-a921-13af95e002e5"
      },
      "source": [
        "drugs = set()\n",
        "conditions = set()\n",
        "X_train['condition'].fillna('', inplace= True)\n",
        "X_test['condition'].fillna('', inplace= True)\n",
        "stop_words = set(stopwords.words('english'))\n",
        "text_cols = [\"drugName\", \"condition\", \"review\"]\n",
        "# med_cols = [\"drugName\", \"condition\"]\n",
        "\n",
        "X_train_clean = Preprocessing(X_train, text_cols, stop_words).apply_clean_to_cell()\n",
        "X_test_clean = Preprocessing(X_test, text_cols, stop_words).apply_clean_to_cell()"
      ],
      "execution_count": null,
      "outputs": [
        {
          "output_type": "stream",
          "text": [
            "/usr/local/lib/python3.6/dist-packages/pandas/core/generic.py:4355: SettingWithCopyWarning: \n",
            "A value is trying to be set on a copy of a slice from a DataFrame\n",
            "\n",
            "See the caveats in the documentation: http://pandas.pydata.org/pandas-docs/stable/indexing.html#indexing-view-versus-copy\n",
            "  self._update_inplace(new_data)\n"
          ],
          "name": "stderr"
        }
      ]
    },
    {
      "cell_type": "code",
      "metadata": {
        "id": "sN7RhnQ97cxh",
        "colab_type": "code",
        "colab": {}
      },
      "source": [
        "# Saving the all durgs and conditions for faster access\n",
        "\n",
        "with open('Drugs', 'wb') as fd:\n",
        "  pickle.dump(drugs, fd)\n",
        "\n",
        "with open('Conditions', 'wb') as fc:\n",
        "  pickle.dump(conditions, fc)"
      ],
      "execution_count": null,
      "outputs": []
    },
    {
      "cell_type": "code",
      "metadata": {
        "colab_type": "code",
        "id": "urup7nSXIYQs",
        "colab": {}
      },
      "source": [
        "# Storing the list of drugs and conditions\n",
        "with open('Drugs', 'wb') as fd:\n",
        "  pickle.dump(drugs, fd)\n",
        "\n",
        "with open('Conditions', 'wb') as fc:\n",
        "  pickle.dump(conditions, fc)"
      ],
      "execution_count": null,
      "outputs": []
    },
    {
      "cell_type": "markdown",
      "metadata": {
        "id": "LkneWybWI91p",
        "colab_type": "text"
      },
      "source": [
        "### Vectorizing all drugs and conditions"
      ]
    },
    {
      "cell_type": "code",
      "metadata": {
        "id": "Jph-w4uQI0wZ",
        "colab_type": "code",
        "colab": {}
      },
      "source": [
        "pmc_map = KeyedVectors.load_word2vec_format('PMC-w2v.bin', binary=True)"
      ],
      "execution_count": null,
      "outputs": []
    },
    {
      "cell_type": "code",
      "metadata": {
        "id": "Ad5CYSw5JDS-",
        "colab_type": "code",
        "colab": {}
      },
      "source": [
        "Drugs_not_found = []\n",
        "drug_map = {}\n",
        "\n",
        "for drug in drugs:\n",
        "  try:\n",
        "    drug_map[drug] = pmc_map[drug]\n",
        "  except:\n",
        "    Drugs_not_found.append(drug)"
      ],
      "execution_count": null,
      "outputs": []
    },
    {
      "cell_type": "code",
      "metadata": {
        "id": "MnJFMgKS-YFa",
        "colab_type": "code",
        "colab": {}
      },
      "source": [
        "print(f'Found {len(drug_map)} drugs mapping out of {len(drugs)}' )"
      ],
      "execution_count": null,
      "outputs": []
    },
    {
      "cell_type": "code",
      "metadata": {
        "id": "vIUdSMCI_22S",
        "colab_type": "code",
        "colab": {}
      },
      "source": [
        "Conditions_not_found = []\n",
        "condition_map = {}\n",
        "\n",
        "for cond in conditions:\n",
        "  try:\n",
        "    condition_map[cond] = pmc_map[cond]\n",
        "  except:\n",
        "    Conditions_not_found.append(cond)\n",
        "  "
      ],
      "execution_count": null,
      "outputs": []
    },
    {
      "cell_type": "code",
      "metadata": {
        "id": "Wu-1UAQVALO6",
        "colab_type": "code",
        "colab": {}
      },
      "source": [
        "print(f'Found {len(condition_map)} conditions mapping out of {len(conditions)} conditions')"
      ],
      "execution_count": null,
      "outputs": []
    },
    {
      "cell_type": "markdown",
      "metadata": {
        "id": "67pXwraB8pld",
        "colab_type": "text"
      },
      "source": [
        "## Train Validation Split"
      ]
    },
    {
      "cell_type": "markdown",
      "metadata": {
        "id": "7HRQwpgWGoy0",
        "colab_type": "text"
      },
      "source": [
        "We split the training set into a 80-20 train-validation split."
      ]
    },
    {
      "cell_type": "code",
      "metadata": {
        "id": "yngNpFXL8thf",
        "colab_type": "code",
        "colab": {}
      },
      "source": [
        "X_train_clean_unsplit = X_train_clean\n",
        "y_train_unsplit = y_train\n",
        "y_train_rating_unsplit = y_train_rating\n",
        "\n",
        "X_train_clean, X_val_clean, y_train, y_val = train_test_split(X_train_clean_unsplit, y_train_unsplit, test_size=0.2, random_state=42)\n",
        "X_train_clean, X_val_clean, y_train_rating, y_val_rating = train_test_split(X_train_clean_unsplit, y_train_rating_unsplit, test_size=0.2, random_state=42)\n"
      ],
      "execution_count": null,
      "outputs": []
    },
    {
      "cell_type": "markdown",
      "metadata": {
        "colab_type": "text",
        "id": "c2d4tVO9LSUB"
      },
      "source": [
        "## Lemmatization & Stemming\n",
        "\n",
        "Quick recap from https://stackoverflow.com/questions/1787110/what-is-the-true-difference-between-lemmatization-vs-stemming:\n",
        "\n",
        "    The goal of both stemming and lemmatization is to reduce inflectional forms and sometimes derivationally related forms of a word to a common base form.\n",
        "\n",
        "    However, the two words differ in their flavor. Stemming usually refers to a crude heuristic process that chops off the ends of words in the hope of achieving this goal correctly most of the time, and often includes the removal of derivational affixes. Lemmatization usually refers to doing things properly with the use of a vocabulary and morphological analysis of words, normally aiming to remove inflectional endings only and to return the base or dictionary form of a word, which is known as the lemma .\n",
        "\n",
        "Using e.g. Lemmatization can thus help in the sentiment analysis because slightly different words that mean the same get canonized. Concretely this can be useful for building bag of word models or TFIDF matrices, where without lemmatization/stemming words/typos like 'without' or 'withouts', 'withoutv' get counted & treated individually."
      ]
    },
    {
      "cell_type": "code",
      "metadata": {
        "colab_type": "code",
        "id": "2s1WghklLSUV",
        "colab": {}
      },
      "source": [
        "nlpspacy = spacy.load('en', disable=['parser', 'ner'])\n",
        "ps = PorterStemmer()\n",
        "\n",
        "def lemmatize_text(text):\n",
        "  # spacys lemmatizer superior to nltk or textblobs because it correctly handles verbs and pronouns \n",
        "  # without needing the appropriate POS tag as input\n",
        "  return \" \".join([token.lemma_ for token in nlpspacy(str(text))])\n",
        "\n",
        "def stem_text(text):\n",
        "  return \" \".join([ps.stem(word) for word in word_tokenize(text)])\n",
        "\n",
        "def add_per_cell_text_features(X, textcolumns, toapplyfunc, colname):\n",
        "  to_transform = X.loc[:,textcolumns].values\n",
        "  if to_transform.size > to_transform.shape[0]: # add all texts for one sample to one text  \n",
        "    to_transform = np.apply_along_axis(myrow_concatenator, 1, to_transform) \n",
        "  n = to_transform.shape[0]\n",
        "  result_texts = ['']*n\n",
        "\n",
        "  for idx, text in enumerate(to_transform):\n",
        "    result_texts[idx] = toapplyfunc(text)\n",
        "    if idx % 1000 == 0:\n",
        "      print(f\"{idx}/{n} = {np.round(100*idx/n,1)}% done\")\n",
        "  transformed_df = pd.DataFrame({colname: result_texts}, index=X.index)\n",
        "  X_res = X.drop(textcolumns, axis = 1)\n",
        "  X_res = pd.concat([X_res, transformed_df], axis=1)\n",
        "  return X_res  \n",
        "\n",
        "def add_lemmatization_features(X, textcolumns):\n",
        "  return add_per_cell_text_features(X, textcolumns, lemmatize_text, 'lemmatized_texts')\n",
        "\n",
        "def add_stemming_features(X, textcolumns):\n",
        "  return add_per_cell_text_features(X, textcolumns, stem_text, 'stemmed_texts')"
      ],
      "execution_count": null,
      "outputs": []
    },
    {
      "cell_type": "code",
      "metadata": {
        "id": "CkPvqkaMzL9H",
        "colab_type": "code",
        "colab": {
          "base_uri": "https://localhost:8080/",
          "height": 1937
        },
        "outputId": "e4ae2ca7-dff0-4024-8fe5-485e447bdfea"
      },
      "source": [
        "X_train_stemmed = add_stemming_features(X_train_clean, 'review')\n",
        "X_val_stemmed = add_stemming_features(X_val_clean, 'review')\n",
        "X_test_stemmed = add_stemming_features(X_test_clean, 'review')\n"
      ],
      "execution_count": null,
      "outputs": [
        {
          "output_type": "stream",
          "text": [
            "0/129037 = 0.0% done\n",
            "1000/129037 = 0.8% done\n",
            "2000/129037 = 1.5% done\n",
            "3000/129037 = 2.3% done\n",
            "4000/129037 = 3.1% done\n",
            "5000/129037 = 3.9% done\n",
            "6000/129037 = 4.6% done\n",
            "7000/129037 = 5.4% done\n",
            "8000/129037 = 6.2% done\n",
            "9000/129037 = 7.0% done\n",
            "10000/129037 = 7.7% done\n",
            "11000/129037 = 8.5% done\n",
            "12000/129037 = 9.3% done\n",
            "13000/129037 = 10.1% done\n",
            "14000/129037 = 10.8% done\n",
            "15000/129037 = 11.6% done\n",
            "16000/129037 = 12.4% done\n",
            "17000/129037 = 13.2% done\n",
            "18000/129037 = 13.9% done\n",
            "19000/129037 = 14.7% done\n",
            "20000/129037 = 15.5% done\n",
            "21000/129037 = 16.3% done\n",
            "22000/129037 = 17.0% done\n",
            "23000/129037 = 17.8% done\n",
            "24000/129037 = 18.6% done\n",
            "25000/129037 = 19.4% done\n",
            "26000/129037 = 20.1% done\n",
            "27000/129037 = 20.9% done\n",
            "28000/129037 = 21.7% done\n",
            "29000/129037 = 22.5% done\n",
            "30000/129037 = 23.2% done\n",
            "31000/129037 = 24.0% done\n",
            "32000/129037 = 24.8% done\n",
            "33000/129037 = 25.6% done\n",
            "34000/129037 = 26.3% done\n",
            "35000/129037 = 27.1% done\n",
            "36000/129037 = 27.9% done\n",
            "37000/129037 = 28.7% done\n",
            "38000/129037 = 29.4% done\n",
            "39000/129037 = 30.2% done\n",
            "40000/129037 = 31.0% done\n",
            "41000/129037 = 31.8% done\n",
            "42000/129037 = 32.5% done\n",
            "43000/129037 = 33.3% done\n",
            "44000/129037 = 34.1% done\n",
            "45000/129037 = 34.9% done\n",
            "46000/129037 = 35.6% done\n"
          ],
          "name": "stdout"
        },
        {
          "output_type": "error",
          "ename": "KeyboardInterrupt",
          "evalue": "ignored",
          "traceback": [
            "\u001b[0;31m---------------------------------------------------------------------------\u001b[0m",
            "\u001b[0;31mKeyboardInterrupt\u001b[0m                         Traceback (most recent call last)",
            "\u001b[0;32m<ipython-input-33-684c321a301a>\u001b[0m in \u001b[0;36m<module>\u001b[0;34m()\u001b[0m\n\u001b[0;32m----> 1\u001b[0;31m \u001b[0mX_train_stemmed\u001b[0m \u001b[0;34m=\u001b[0m \u001b[0madd_stemming_features\u001b[0m\u001b[0;34m(\u001b[0m\u001b[0mX_train_clean\u001b[0m\u001b[0;34m,\u001b[0m \u001b[0;34m'review'\u001b[0m\u001b[0;34m)\u001b[0m\u001b[0;34m\u001b[0m\u001b[0;34m\u001b[0m\u001b[0m\n\u001b[0m\u001b[1;32m      2\u001b[0m \u001b[0mX_val_stemmed\u001b[0m \u001b[0;34m=\u001b[0m \u001b[0madd_stemming_features\u001b[0m\u001b[0;34m(\u001b[0m\u001b[0mX_val_clean\u001b[0m\u001b[0;34m,\u001b[0m \u001b[0;34m'review'\u001b[0m\u001b[0;34m)\u001b[0m\u001b[0;34m\u001b[0m\u001b[0;34m\u001b[0m\u001b[0m\n\u001b[1;32m      3\u001b[0m \u001b[0mX_test_stemmed\u001b[0m \u001b[0;34m=\u001b[0m \u001b[0madd_stemming_features\u001b[0m\u001b[0;34m(\u001b[0m\u001b[0mX_test_clean\u001b[0m\u001b[0;34m,\u001b[0m \u001b[0;34m'review'\u001b[0m\u001b[0;34m)\u001b[0m\u001b[0;34m\u001b[0m\u001b[0;34m\u001b[0m\u001b[0m\n",
            "\u001b[0;32m<ipython-input-32-23ad0866ff88>\u001b[0m in \u001b[0;36madd_stemming_features\u001b[0;34m(X, textcolumns)\u001b[0m\n\u001b[1;32m     30\u001b[0m \u001b[0;34m\u001b[0m\u001b[0m\n\u001b[1;32m     31\u001b[0m \u001b[0;32mdef\u001b[0m \u001b[0madd_stemming_features\u001b[0m\u001b[0;34m(\u001b[0m\u001b[0mX\u001b[0m\u001b[0;34m,\u001b[0m \u001b[0mtextcolumns\u001b[0m\u001b[0;34m)\u001b[0m\u001b[0;34m:\u001b[0m\u001b[0;34m\u001b[0m\u001b[0;34m\u001b[0m\u001b[0m\n\u001b[0;32m---> 32\u001b[0;31m   \u001b[0;32mreturn\u001b[0m \u001b[0madd_per_cell_text_features\u001b[0m\u001b[0;34m(\u001b[0m\u001b[0mX\u001b[0m\u001b[0;34m,\u001b[0m \u001b[0mtextcolumns\u001b[0m\u001b[0;34m,\u001b[0m \u001b[0mstem_text\u001b[0m\u001b[0;34m,\u001b[0m \u001b[0;34m'stemmed_texts'\u001b[0m\u001b[0;34m)\u001b[0m\u001b[0;34m\u001b[0m\u001b[0;34m\u001b[0m\u001b[0m\n\u001b[0m",
            "\u001b[0;32m<ipython-input-32-23ad0866ff88>\u001b[0m in \u001b[0;36madd_per_cell_text_features\u001b[0;34m(X, textcolumns, toapplyfunc, colname)\u001b[0m\n\u001b[1;32m     18\u001b[0m \u001b[0;34m\u001b[0m\u001b[0m\n\u001b[1;32m     19\u001b[0m   \u001b[0;32mfor\u001b[0m \u001b[0midx\u001b[0m\u001b[0;34m,\u001b[0m \u001b[0mtext\u001b[0m \u001b[0;32min\u001b[0m \u001b[0menumerate\u001b[0m\u001b[0;34m(\u001b[0m\u001b[0mto_transform\u001b[0m\u001b[0;34m)\u001b[0m\u001b[0;34m:\u001b[0m\u001b[0;34m\u001b[0m\u001b[0;34m\u001b[0m\u001b[0m\n\u001b[0;32m---> 20\u001b[0;31m     \u001b[0mresult_texts\u001b[0m\u001b[0;34m[\u001b[0m\u001b[0midx\u001b[0m\u001b[0;34m]\u001b[0m \u001b[0;34m=\u001b[0m \u001b[0mtoapplyfunc\u001b[0m\u001b[0;34m(\u001b[0m\u001b[0mtext\u001b[0m\u001b[0;34m)\u001b[0m\u001b[0;34m\u001b[0m\u001b[0;34m\u001b[0m\u001b[0m\n\u001b[0m\u001b[1;32m     21\u001b[0m     \u001b[0;32mif\u001b[0m \u001b[0midx\u001b[0m \u001b[0;34m%\u001b[0m \u001b[0;36m1000\u001b[0m \u001b[0;34m==\u001b[0m \u001b[0;36m0\u001b[0m\u001b[0;34m:\u001b[0m\u001b[0;34m\u001b[0m\u001b[0;34m\u001b[0m\u001b[0m\n\u001b[1;32m     22\u001b[0m       \u001b[0mprint\u001b[0m\u001b[0;34m(\u001b[0m\u001b[0;34mf\"{idx}/{n} = {np.round(100*idx/n,1)}% done\"\u001b[0m\u001b[0;34m)\u001b[0m\u001b[0;34m\u001b[0m\u001b[0;34m\u001b[0m\u001b[0m\n",
            "\u001b[0;32m<ipython-input-32-23ad0866ff88>\u001b[0m in \u001b[0;36mstem_text\u001b[0;34m(text)\u001b[0m\n\u001b[1;32m      8\u001b[0m \u001b[0;34m\u001b[0m\u001b[0m\n\u001b[1;32m      9\u001b[0m \u001b[0;32mdef\u001b[0m \u001b[0mstem_text\u001b[0m\u001b[0;34m(\u001b[0m\u001b[0mtext\u001b[0m\u001b[0;34m)\u001b[0m\u001b[0;34m:\u001b[0m\u001b[0;34m\u001b[0m\u001b[0;34m\u001b[0m\u001b[0m\n\u001b[0;32m---> 10\u001b[0;31m   \u001b[0;32mreturn\u001b[0m \u001b[0;34m\" \"\u001b[0m\u001b[0;34m.\u001b[0m\u001b[0mjoin\u001b[0m\u001b[0;34m(\u001b[0m\u001b[0;34m[\u001b[0m\u001b[0mps\u001b[0m\u001b[0;34m.\u001b[0m\u001b[0mstem\u001b[0m\u001b[0;34m(\u001b[0m\u001b[0mword\u001b[0m\u001b[0;34m)\u001b[0m \u001b[0;32mfor\u001b[0m \u001b[0mword\u001b[0m \u001b[0;32min\u001b[0m \u001b[0mword_tokenize\u001b[0m\u001b[0;34m(\u001b[0m\u001b[0mtext\u001b[0m\u001b[0;34m)\u001b[0m\u001b[0;34m]\u001b[0m\u001b[0;34m)\u001b[0m\u001b[0;34m\u001b[0m\u001b[0;34m\u001b[0m\u001b[0m\n\u001b[0m\u001b[1;32m     11\u001b[0m \u001b[0;34m\u001b[0m\u001b[0m\n\u001b[1;32m     12\u001b[0m \u001b[0;32mdef\u001b[0m \u001b[0madd_per_cell_text_features\u001b[0m\u001b[0;34m(\u001b[0m\u001b[0mX\u001b[0m\u001b[0;34m,\u001b[0m \u001b[0mtextcolumns\u001b[0m\u001b[0;34m,\u001b[0m \u001b[0mtoapplyfunc\u001b[0m\u001b[0;34m,\u001b[0m \u001b[0mcolname\u001b[0m\u001b[0;34m)\u001b[0m\u001b[0;34m:\u001b[0m\u001b[0;34m\u001b[0m\u001b[0;34m\u001b[0m\u001b[0m\n",
            "\u001b[0;32m<ipython-input-32-23ad0866ff88>\u001b[0m in \u001b[0;36m<listcomp>\u001b[0;34m(.0)\u001b[0m\n\u001b[1;32m      8\u001b[0m \u001b[0;34m\u001b[0m\u001b[0m\n\u001b[1;32m      9\u001b[0m \u001b[0;32mdef\u001b[0m \u001b[0mstem_text\u001b[0m\u001b[0;34m(\u001b[0m\u001b[0mtext\u001b[0m\u001b[0;34m)\u001b[0m\u001b[0;34m:\u001b[0m\u001b[0;34m\u001b[0m\u001b[0;34m\u001b[0m\u001b[0m\n\u001b[0;32m---> 10\u001b[0;31m   \u001b[0;32mreturn\u001b[0m \u001b[0;34m\" \"\u001b[0m\u001b[0;34m.\u001b[0m\u001b[0mjoin\u001b[0m\u001b[0;34m(\u001b[0m\u001b[0;34m[\u001b[0m\u001b[0mps\u001b[0m\u001b[0;34m.\u001b[0m\u001b[0mstem\u001b[0m\u001b[0;34m(\u001b[0m\u001b[0mword\u001b[0m\u001b[0;34m)\u001b[0m \u001b[0;32mfor\u001b[0m \u001b[0mword\u001b[0m \u001b[0;32min\u001b[0m \u001b[0mword_tokenize\u001b[0m\u001b[0;34m(\u001b[0m\u001b[0mtext\u001b[0m\u001b[0;34m)\u001b[0m\u001b[0;34m]\u001b[0m\u001b[0;34m)\u001b[0m\u001b[0;34m\u001b[0m\u001b[0;34m\u001b[0m\u001b[0m\n\u001b[0m\u001b[1;32m     11\u001b[0m \u001b[0;34m\u001b[0m\u001b[0m\n\u001b[1;32m     12\u001b[0m \u001b[0;32mdef\u001b[0m \u001b[0madd_per_cell_text_features\u001b[0m\u001b[0;34m(\u001b[0m\u001b[0mX\u001b[0m\u001b[0;34m,\u001b[0m \u001b[0mtextcolumns\u001b[0m\u001b[0;34m,\u001b[0m \u001b[0mtoapplyfunc\u001b[0m\u001b[0;34m,\u001b[0m \u001b[0mcolname\u001b[0m\u001b[0;34m)\u001b[0m\u001b[0;34m:\u001b[0m\u001b[0;34m\u001b[0m\u001b[0;34m\u001b[0m\u001b[0m\n",
            "\u001b[0;32m/usr/local/lib/python3.6/dist-packages/nltk/stem/porter.py\u001b[0m in \u001b[0;36mstem\u001b[0;34m(self, word)\u001b[0m\n\u001b[1;32m    666\u001b[0m         \u001b[0mstem\u001b[0m \u001b[0;34m=\u001b[0m \u001b[0mself\u001b[0m\u001b[0;34m.\u001b[0m\u001b[0m_step1b\u001b[0m\u001b[0;34m(\u001b[0m\u001b[0mstem\u001b[0m\u001b[0;34m)\u001b[0m\u001b[0;34m\u001b[0m\u001b[0;34m\u001b[0m\u001b[0m\n\u001b[1;32m    667\u001b[0m         \u001b[0mstem\u001b[0m \u001b[0;34m=\u001b[0m \u001b[0mself\u001b[0m\u001b[0;34m.\u001b[0m\u001b[0m_step1c\u001b[0m\u001b[0;34m(\u001b[0m\u001b[0mstem\u001b[0m\u001b[0;34m)\u001b[0m\u001b[0;34m\u001b[0m\u001b[0;34m\u001b[0m\u001b[0m\n\u001b[0;32m--> 668\u001b[0;31m         \u001b[0mstem\u001b[0m \u001b[0;34m=\u001b[0m \u001b[0mself\u001b[0m\u001b[0;34m.\u001b[0m\u001b[0m_step2\u001b[0m\u001b[0;34m(\u001b[0m\u001b[0mstem\u001b[0m\u001b[0;34m)\u001b[0m\u001b[0;34m\u001b[0m\u001b[0;34m\u001b[0m\u001b[0m\n\u001b[0m\u001b[1;32m    669\u001b[0m         \u001b[0mstem\u001b[0m \u001b[0;34m=\u001b[0m \u001b[0mself\u001b[0m\u001b[0;34m.\u001b[0m\u001b[0m_step3\u001b[0m\u001b[0;34m(\u001b[0m\u001b[0mstem\u001b[0m\u001b[0;34m)\u001b[0m\u001b[0;34m\u001b[0m\u001b[0;34m\u001b[0m\u001b[0m\n\u001b[1;32m    670\u001b[0m         \u001b[0mstem\u001b[0m \u001b[0;34m=\u001b[0m \u001b[0mself\u001b[0m\u001b[0;34m.\u001b[0m\u001b[0m_step4\u001b[0m\u001b[0;34m(\u001b[0m\u001b[0mstem\u001b[0m\u001b[0;34m)\u001b[0m\u001b[0;34m\u001b[0m\u001b[0;34m\u001b[0m\u001b[0m\n",
            "\u001b[0;32m/usr/local/lib/python3.6/dist-packages/nltk/stem/porter.py\u001b[0m in \u001b[0;36m_step2\u001b[0;34m(self, word)\u001b[0m\n\u001b[1;32m    514\u001b[0m             )\n\u001b[1;32m    515\u001b[0m \u001b[0;34m\u001b[0m\u001b[0m\n\u001b[0;32m--> 516\u001b[0;31m         \u001b[0;32mreturn\u001b[0m \u001b[0mself\u001b[0m\u001b[0;34m.\u001b[0m\u001b[0m_apply_rule_list\u001b[0m\u001b[0;34m(\u001b[0m\u001b[0mword\u001b[0m\u001b[0;34m,\u001b[0m \u001b[0mrules\u001b[0m\u001b[0;34m)\u001b[0m\u001b[0;34m\u001b[0m\u001b[0;34m\u001b[0m\u001b[0m\n\u001b[0m\u001b[1;32m    517\u001b[0m \u001b[0;34m\u001b[0m\u001b[0m\n\u001b[1;32m    518\u001b[0m     \u001b[0;32mdef\u001b[0m \u001b[0m_step3\u001b[0m\u001b[0;34m(\u001b[0m\u001b[0mself\u001b[0m\u001b[0;34m,\u001b[0m \u001b[0mword\u001b[0m\u001b[0;34m)\u001b[0m\u001b[0;34m:\u001b[0m\u001b[0;34m\u001b[0m\u001b[0;34m\u001b[0m\u001b[0m\n",
            "\u001b[0;32m/usr/local/lib/python3.6/dist-packages/nltk/stem/porter.py\u001b[0m in \u001b[0;36m_apply_rule_list\u001b[0;34m(self, word, rules)\u001b[0m\n\u001b[1;32m    264\u001b[0m                     \u001b[0;31m# Don't try any further rules\u001b[0m\u001b[0;34m\u001b[0m\u001b[0;34m\u001b[0m\u001b[0;34m\u001b[0m\u001b[0m\n\u001b[1;32m    265\u001b[0m                     \u001b[0;32mreturn\u001b[0m \u001b[0mword\u001b[0m\u001b[0;34m\u001b[0m\u001b[0;34m\u001b[0m\u001b[0m\n\u001b[0;32m--> 266\u001b[0;31m             \u001b[0;32mif\u001b[0m \u001b[0mword\u001b[0m\u001b[0;34m.\u001b[0m\u001b[0mendswith\u001b[0m\u001b[0;34m(\u001b[0m\u001b[0msuffix\u001b[0m\u001b[0;34m)\u001b[0m\u001b[0;34m:\u001b[0m\u001b[0;34m\u001b[0m\u001b[0;34m\u001b[0m\u001b[0m\n\u001b[0m\u001b[1;32m    267\u001b[0m                 \u001b[0mstem\u001b[0m \u001b[0;34m=\u001b[0m \u001b[0mself\u001b[0m\u001b[0;34m.\u001b[0m\u001b[0m_replace_suffix\u001b[0m\u001b[0;34m(\u001b[0m\u001b[0mword\u001b[0m\u001b[0;34m,\u001b[0m \u001b[0msuffix\u001b[0m\u001b[0;34m,\u001b[0m \u001b[0;34m''\u001b[0m\u001b[0;34m)\u001b[0m\u001b[0;34m\u001b[0m\u001b[0;34m\u001b[0m\u001b[0m\n\u001b[1;32m    268\u001b[0m                 \u001b[0;32mif\u001b[0m \u001b[0mcondition\u001b[0m \u001b[0;32mis\u001b[0m \u001b[0;32mNone\u001b[0m \u001b[0;32mor\u001b[0m \u001b[0mcondition\u001b[0m\u001b[0;34m(\u001b[0m\u001b[0mstem\u001b[0m\u001b[0;34m)\u001b[0m\u001b[0;34m:\u001b[0m\u001b[0;34m\u001b[0m\u001b[0;34m\u001b[0m\u001b[0m\n",
            "\u001b[0;31mKeyboardInterrupt\u001b[0m: "
          ]
        }
      ]
    },
    {
      "cell_type": "code",
      "metadata": {
        "id": "v3T77DjC-UEO",
        "colab_type": "code",
        "colab": {}
      },
      "source": [
        "X_train_lem = add_lemmatization_features(X_train_clean, 'review')\n",
        "X_val_lem = add_lemmatization_features(X_val_clean, 'review')\n",
        "X_test_lem = add_lemmatization_features(X_test_clean, 'review')"
      ],
      "execution_count": null,
      "outputs": []
    },
    {
      "cell_type": "markdown",
      "metadata": {
        "id": "FljsE18NHWlK",
        "colab_type": "text"
      },
      "source": [
        "## Document Term Matrix & TFIDF Matrix\n",
        "See lecture materials for explanation.\n",
        "\n",
        "These embeddings are well studied standard embeddings of words & should be useful as providing a first baseline to which we can compare more sophisticated embeddings. One  problem with it is the super high dimensionality which can result in RAM problems.\n",
        "Therefore, instead of constructing a dataframe we use the sklearn-implementation in a pipeline, which internally uses sparse matrices."
      ]
    },
    {
      "cell_type": "markdown",
      "metadata": {
        "id": "5eUu1qC44vkP",
        "colab_type": "text"
      },
      "source": [
        "### Sentiment Analysis"
      ]
    },
    {
      "cell_type": "code",
      "metadata": {
        "id": "dIvSIMIve_ux",
        "colab_type": "code",
        "colab": {}
      },
      "source": [
        "def fit_rf_with_vectorizer(xtrain, ytrain, xval, yval, vectorizer):\n",
        "\n",
        "  depths = [None, 50, 60, 80, 100, 200]\n",
        "  for d in depths:\n",
        "      clf = Pipeline([('vec', vectorizer),('clf', RandomForestClassifier(n_estimators=100, max_depth=d))])\n",
        "      clf.fit(xtrain, ytrain)\n",
        "      pred_val = clf.predict(xval)\n",
        "\n",
        "      f1 = f1_score(yval, pred_val, average='macro')\n",
        "      acc = accuracy_score(yval, pred_val)\n",
        "\n",
        "      print(\"For Depth: {}, F1 score: {:.2f}, Accuracy: {:.2f}\".format(d, f1, acc))"
      ],
      "execution_count": null,
      "outputs": []
    },
    {
      "cell_type": "code",
      "metadata": {
        "id": "UebcTf6_fTdb",
        "colab_type": "code",
        "colab": {
          "base_uri": "https://localhost:8080/",
          "height": 127
        },
        "outputId": "b1ff4610-73ef-4414-8c03-55bc8dc49daf"
      },
      "source": [
        "fit_rf_with_vectorizer(X_train_clean['review'], y_train, X_val_clean['review'], y_val, TfidfVectorizer())"
      ],
      "execution_count": null,
      "outputs": [
        {
          "output_type": "stream",
          "text": [
            "For Depth: None, F1 score: 0.77, Accuracy: 0.85\n",
            "For Depth: 50, F1 score: 0.37, Accuracy: 0.69\n",
            "For Depth: 60, F1 score: 0.44, Accuracy: 0.72\n",
            "For Depth: 80, F1 score: 0.57, Accuracy: 0.76\n",
            "For Depth: 100, F1 score: 0.65, Accuracy: 0.80\n",
            "For Depth: 200, F1 score: 0.75, Accuracy: 0.84\n"
          ],
          "name": "stdout"
        }
      ]
    },
    {
      "cell_type": "code",
      "metadata": {
        "id": "jJqVCHbatp2P",
        "colab_type": "code",
        "colab": {
          "base_uri": "https://localhost:8080/",
          "height": 127
        },
        "outputId": "d3e58468-cd07-4e41-e497-fbdaedd75163"
      },
      "source": [
        "fit_rf_with_vectorizer(X_train_clean['review'], y_train, X_val_clean['review'], y_val, CountVectorizer())"
      ],
      "execution_count": null,
      "outputs": [
        {
          "output_type": "stream",
          "text": [
            "For Depth: None, F1 score: 0.77, Accuracy: 0.85\n",
            "For Depth: 50, F1 score: 0.38, Accuracy: 0.70\n",
            "For Depth: 60, F1 score: 0.46, Accuracy: 0.72\n",
            "For Depth: 80, F1 score: 0.59, Accuracy: 0.77\n",
            "For Depth: 100, F1 score: 0.65, Accuracy: 0.80\n",
            "For Depth: 200, F1 score: 0.75, Accuracy: 0.84\n"
          ],
          "name": "stdout"
        }
      ]
    },
    {
      "cell_type": "code",
      "metadata": {
        "id": "autnkmPiJHmG",
        "colab_type": "code",
        "colab": {
          "base_uri": "https://localhost:8080/",
          "height": 127
        },
        "outputId": "2c5fab58-a28b-4904-a026-f68deab10cf6"
      },
      "source": [
        "fit_rf_with_vectorizer(X_train_stemmed['stemmed_texts'], y_train, X_val_stemmed['stemmed_texts'], y_val, TfidfVectorizer())"
      ],
      "execution_count": null,
      "outputs": [
        {
          "output_type": "stream",
          "text": [
            "For Depth: None, F1 score: 0.76, Accuracy: 0.85\n",
            "For Depth: 50, F1 score: 0.42, Accuracy: 0.71\n",
            "For Depth: 60, F1 score: 0.50, Accuracy: 0.74\n",
            "For Depth: 80, F1 score: 0.62, Accuracy: 0.78\n",
            "For Depth: 100, F1 score: 0.69, Accuracy: 0.81\n",
            "For Depth: 200, F1 score: 0.75, Accuracy: 0.84\n"
          ],
          "name": "stdout"
        }
      ]
    },
    {
      "cell_type": "code",
      "metadata": {
        "id": "p6w6W73JJV53",
        "colab_type": "code",
        "colab": {
          "base_uri": "https://localhost:8080/",
          "height": 90
        },
        "outputId": "0e5c3748-c284-4aed-9423-6357706ef16f"
      },
      "source": [
        "fit_rf_with_vectorizer(X_train_lem['lemmatized_texts'], y_train, X_val_lem['lemmatized_texts'], y_val, TfidfVectorizer())"
      ],
      "execution_count": null,
      "outputs": [
        {
          "output_type": "stream",
          "text": [
            "For Depth: None, F1 score: 0.76, Accuracy: 0.85\n",
            "For Depth: 50, F1 score: 0.38, Accuracy: 0.70\n",
            "For Depth: 60, F1 score: 0.47, Accuracy: 0.73\n",
            "For Depth: 80, F1 score: 0.59, Accuracy: 0.77\n"
          ],
          "name": "stdout"
        }
      ]
    },
    {
      "cell_type": "markdown",
      "metadata": {
        "id": "0VyVhmlfm26y",
        "colab_type": "text"
      },
      "source": [
        "It does not really matter whether lemmatization or stemming is used or not. So we will only use the cleaned reviews without stemming or lemmatization."
      ]
    },
    {
      "cell_type": "markdown",
      "metadata": {
        "id": "3aHmXq5S4m2M",
        "colab_type": "text"
      },
      "source": [
        "### Rating prediction"
      ]
    },
    {
      "cell_type": "markdown",
      "metadata": {
        "id": "tZvQ2yWTKjN-",
        "colab_type": "text"
      },
      "source": [
        "We can formulate the rating prediction as a regression problem since the ratings are ordinal."
      ]
    },
    {
      "cell_type": "markdown",
      "metadata": {
        "id": "ZgfPFqr4letQ",
        "colab_type": "text"
      },
      "source": [
        "The high dimensionality of the data makes the random forest regressors very slow, therefore we apply linear regression with elastic net penalty. Since there are a lot of training samples, we use SGD for optimization."
      ]
    },
    {
      "cell_type": "code",
      "metadata": {
        "id": "OAgDaaB04s4f",
        "colab_type": "code",
        "colab": {}
      },
      "source": [
        "def fit_regressor_with_vectorizer(xtrain, ytrain, xval, yval, vectorizer):\n",
        "\n",
        "  alphas = [0, 1e-6, 1e-3, 0.1, 1, 10]\n",
        "  for a in alphas:\n",
        "\n",
        "      clf = Pipeline([('vec', vectorizer),('clf', SGDRegressor(penalty='elasticnet', alpha=a))])\n",
        "      clf.fit(xtrain, ytrain)\n",
        "      pred_val = clf.predict(xval)\n",
        "\n",
        "      mse = mean_squared_error(yval, pred_val)\n",
        "      print(\"For alpha: {}, MSE: {:.2f}\".format(a, mse))"
      ],
      "execution_count": null,
      "outputs": []
    },
    {
      "cell_type": "code",
      "metadata": {
        "id": "iiW-FUiR9WAv",
        "colab_type": "code",
        "colab": {
          "base_uri": "https://localhost:8080/",
          "height": 368
        },
        "outputId": "99cadfc6-8f28-4a9b-a929-ad3e518970e9"
      },
      "source": [
        "fit_regressor_with_vectorizer(X_train_clean['review'], y_train_rating, X_val_clean['review'], y_val_rating, TfidfVectorizer())"
      ],
      "execution_count": null,
      "outputs": [
        {
          "output_type": "stream",
          "text": [
            "/usr/local/lib/python3.6/dist-packages/sklearn/linear_model/stochastic_gradient.py:166: FutureWarning: max_iter and tol parameters have been added in SGDRegressor in 0.19. If both are left unset, they default to max_iter=5 and tol=None. If tol is not None, max_iter defaults to max_iter=1000. From 0.21, default max_iter will be 1000, and default tol will be 1e-3.\n",
            "  FutureWarning)\n"
          ],
          "name": "stderr"
        },
        {
          "output_type": "stream",
          "text": [
            "For alpha: 0, MSE: 9.01\n"
          ],
          "name": "stdout"
        },
        {
          "output_type": "stream",
          "text": [
            "/usr/local/lib/python3.6/dist-packages/sklearn/linear_model/stochastic_gradient.py:166: FutureWarning: max_iter and tol parameters have been added in SGDRegressor in 0.19. If both are left unset, they default to max_iter=5 and tol=None. If tol is not None, max_iter defaults to max_iter=1000. From 0.21, default max_iter will be 1000, and default tol will be 1e-3.\n",
            "  FutureWarning)\n"
          ],
          "name": "stderr"
        },
        {
          "output_type": "stream",
          "text": [
            "For alpha: 1e-06, MSE: 9.01\n"
          ],
          "name": "stdout"
        },
        {
          "output_type": "stream",
          "text": [
            "/usr/local/lib/python3.6/dist-packages/sklearn/linear_model/stochastic_gradient.py:166: FutureWarning: max_iter and tol parameters have been added in SGDRegressor in 0.19. If both are left unset, they default to max_iter=5 and tol=None. If tol is not None, max_iter defaults to max_iter=1000. From 0.21, default max_iter will be 1000, and default tol will be 1e-3.\n",
            "  FutureWarning)\n"
          ],
          "name": "stderr"
        },
        {
          "output_type": "stream",
          "text": [
            "For alpha: 0.001, MSE: 9.21\n"
          ],
          "name": "stdout"
        },
        {
          "output_type": "stream",
          "text": [
            "/usr/local/lib/python3.6/dist-packages/sklearn/linear_model/stochastic_gradient.py:166: FutureWarning: max_iter and tol parameters have been added in SGDRegressor in 0.19. If both are left unset, they default to max_iter=5 and tol=None. If tol is not None, max_iter defaults to max_iter=1000. From 0.21, default max_iter will be 1000, and default tol will be 1e-3.\n",
            "  FutureWarning)\n"
          ],
          "name": "stderr"
        },
        {
          "output_type": "stream",
          "text": [
            "For alpha: 0.1, MSE: 10.82\n"
          ],
          "name": "stdout"
        },
        {
          "output_type": "stream",
          "text": [
            "/usr/local/lib/python3.6/dist-packages/sklearn/linear_model/stochastic_gradient.py:166: FutureWarning: max_iter and tol parameters have been added in SGDRegressor in 0.19. If both are left unset, they default to max_iter=5 and tol=None. If tol is not None, max_iter defaults to max_iter=1000. From 0.21, default max_iter will be 1000, and default tol will be 1e-3.\n",
            "  FutureWarning)\n"
          ],
          "name": "stderr"
        },
        {
          "output_type": "stream",
          "text": [
            "For alpha: 1, MSE: 10.77\n"
          ],
          "name": "stdout"
        },
        {
          "output_type": "stream",
          "text": [
            "/usr/local/lib/python3.6/dist-packages/sklearn/linear_model/stochastic_gradient.py:166: FutureWarning: max_iter and tol parameters have been added in SGDRegressor in 0.19. If both are left unset, they default to max_iter=5 and tol=None. If tol is not None, max_iter defaults to max_iter=1000. From 0.21, default max_iter will be 1000, and default tol will be 1e-3.\n",
            "  FutureWarning)\n"
          ],
          "name": "stderr"
        },
        {
          "output_type": "stream",
          "text": [
            "For alpha: 10, MSE: 10.77\n"
          ],
          "name": "stdout"
        }
      ]
    },
    {
      "cell_type": "markdown",
      "metadata": {
        "id": "YMZIrTgDwCMS",
        "colab_type": "text"
      },
      "source": [
        "## TextBlob"
      ]
    },
    {
      "cell_type": "markdown",
      "metadata": {
        "id": "4IPnaSvyzGex",
        "colab_type": "text"
      },
      "source": [
        "We first have a look at TextBlob (https://textblob.readthedocs.io/en/dev/). Beside extracting POS and NE features, it also has the ability to assign a polarity (1 is very positive, -1 very negative) and a subjectivity(0 is very objective, 1 is very subjective) to a text. How does it work? Well, a linguist went through the dictionary and gave each word a polarity and subjectivity score. The text gets tokenized, each word gets its score & the scores for one text get averaged. So no context information is used. Lets see what scores we get."
      ]
    },
    {
      "cell_type": "code",
      "metadata": {
        "id": "EyuyGzZawGDS",
        "colab_type": "code",
        "colab": {}
      },
      "source": [
        "def calculate_polarity_subjectivity(X, textcolumns):\n",
        "  \"\"\"\n",
        "  returns a matrix containing polarity and subjectivity of the entries in textcolumns\n",
        "  \"\"\"\n",
        "  \n",
        "  reviews = X.loc[:,textcolumns].values\n",
        "  if reviews.size > reviews.shape[0]: # add all texts for one sample to one text  \n",
        "    reviews = np.apply_along_axis(myrow_concatenator, 1, reviews) \n",
        "  n = reviews.shape[0]\n",
        "  polarities = np.zeros(n)\n",
        "  subjectivities = np.zeros(reviews.shape[0])\n",
        "\n",
        "  for idx, review in enumerate(reviews):\n",
        "    blob = TextBlob(review)\n",
        "    polarities[idx], subjectivities[idx] = blob.sentiment\n",
        "    if idx % 1000 == 0:\n",
        "      print(f\"{idx}/{n} = {np.round(100*idx/n,1)}% done\")\n",
        "   \n",
        "  return pd.DataFrame({'polarity':polarities, 'subjectivity': subjectivities})"
      ],
      "execution_count": null,
      "outputs": []
    },
    {
      "cell_type": "code",
      "metadata": {
        "id": "73FWhmlp77GN",
        "colab_type": "code",
        "colab": {}
      },
      "source": [
        "pol_subj_train = calculate_polarity_subjectivity(X_train_clean, \"review\")\n",
        "pol_subj_val = calculate_polarity_subjectivity(X_val_clean, \"review\")\n",
        "pol_subj_test = calculate_polarity_subjectivity(X_test_clean, \"review\")"
      ],
      "execution_count": null,
      "outputs": []
    },
    {
      "cell_type": "markdown",
      "metadata": {
        "id": "EyS2MIX3974a",
        "colab_type": "text"
      },
      "source": [
        "### Sentiment Analysis"
      ]
    },
    {
      "cell_type": "code",
      "metadata": {
        "id": "dGLagUOE_VbE",
        "colab_type": "code",
        "colab": {}
      },
      "source": [
        "def plot_polarity_subj(subjectivity, polarity, y_set):\n",
        "  colors = [\"red\" if y==0 else \"green\" if y==2 else \"orange\" for y in y_set]\n",
        "  plt.scatter(subjectivity, polarity, c=colors, s=10)\n",
        "  plt.xlabel(\"Subjectivity\")\n",
        "  plt.ylabel(\"Polarity\")\n",
        "  plt.title(\"Sentiment (green = positive, orange = neutral, red = negative) by Polarity and Subjectivity\")"
      ],
      "execution_count": null,
      "outputs": []
    },
    {
      "cell_type": "code",
      "metadata": {
        "id": "zu7A88YzizRz",
        "colab_type": "code",
        "colab": {
          "base_uri": "https://localhost:8080/",
          "height": 376
        },
        "outputId": "49c8f96d-7a41-4508-c2fc-f3d3fd6ef5a2"
      },
      "source": [
        "plot_polarity_subj(pol_subj_train.iloc[:,1], pol_subj_train.iloc[:,0], y_train)"
      ],
      "execution_count": null,
      "outputs": [
        {
          "output_type": "display_data",
          "data": {
            "image/png": "[encoded data removed]",
            "text/plain": [
              "<Figure size 576x396 with 1 Axes>"
            ]
          },
          "metadata": {
            "tags": []
          }
        }
      ]
    },
    {
      "cell_type": "markdown",
      "metadata": {
        "id": "efIA4FIqGWYG",
        "colab_type": "text"
      },
      "source": [
        "This looks not too bad. The positive class should be good predictable. However, predicting the neutral class accurately will be hard with just these features. The higher the subjectivity is, the more the polarity spreads."
      ]
    },
    {
      "cell_type": "code",
      "metadata": {
        "id": "NTyslCH1Nnee",
        "colab_type": "code",
        "colab": {
          "base_uri": "https://localhost:8080/",
          "height": 175
        },
        "outputId": "40888a4c-68f5-41d0-d8da-48a6eedb4b33"
      },
      "source": [
        "fit_randomforest(pol_subj_train, y_train, pol_subj_val, y_val)"
      ],
      "execution_count": null,
      "outputs": [
        {
          "output_type": "stream",
          "text": [
            "\n",
            "Random Forest\n",
            "For Depth: None, F1 score: 0.64, Accuracy: 0.76\n",
            "For Depth: 10, F1 score: 0.38, Accuracy: 0.68\n",
            "For Depth: 20, F1 score: 0.45, Accuracy: 0.71\n",
            "For Depth: 30, F1 score: 0.61, Accuracy: 0.75\n",
            "For Depth: 50, F1 score: 0.64, Accuracy: 0.76\n",
            "For Depth: 100, F1 score: 0.64, Accuracy: 0.76\n",
            "For Depth: 150, F1 score: 0.64, Accuracy: 0.76\n"
          ],
          "name": "stdout"
        }
      ]
    },
    {
      "cell_type": "markdown",
      "metadata": {
        "id": "tMMm0BoDRsA6",
        "colab_type": "text"
      },
      "source": [
        "The polarity and the subjectivity alone already give quite good scores. We tried to add the onehot encoded drugnames and conditions, but because of the high dimensionality, the scores get worse."
      ]
    },
    {
      "cell_type": "markdown",
      "metadata": {
        "id": "FYW-OAJx9_HC",
        "colab_type": "text"
      },
      "source": [
        "### Rating Prediction"
      ]
    },
    {
      "cell_type": "code",
      "metadata": {
        "id": "4rURxEz65qOX",
        "colab_type": "code",
        "colab": {
          "base_uri": "https://localhost:8080/",
          "height": 182
        },
        "outputId": "b095e397-8af3-4103-c033-0ae0587a560d"
      },
      "source": [
        "fit_rf_regression(pol_subj_train, y_train_rating, pol_subj_val, y_val_rating)"
      ],
      "execution_count": null,
      "outputs": [
        {
          "output_type": "stream",
          "text": [
            "\n",
            "Random Forest\n",
            "For Depth: None, MSE: 7.88\n",
            "For Depth: 10, MSE: 9.12\n",
            "For Depth: 20, MSE: 8.41\n",
            "For Depth: 30, MSE: 7.92\n",
            "For Depth: 50, MSE: 7.88\n",
            "For Depth: 100, MSE: 7.88\n",
            "For Depth: 150, MSE: 7.88\n"
          ],
          "name": "stdout"
        }
      ]
    },
    {
      "cell_type": "markdown",
      "metadata": {
        "id": "Hoyj0kyR9aLg",
        "colab_type": "text"
      },
      "source": [
        "## Doc2Vec"
      ]
    },
    {
      "cell_type": "markdown",
      "metadata": {
        "id": "1IiHJZVjRc-0",
        "colab_type": "text"
      },
      "source": [
        "Since we have a training set with over 200'000 reviews, we can try to fit our own embedding. Since we need to embed the reviews as a whole, we use doc2vec instead of word2vec. doc2vec works in a similar fashion, but gives us a representation of the whole review. "
      ]
    },
    {
      "cell_type": "code",
      "metadata": {
        "id": "XhaTDYcPEFCk",
        "colab_type": "code",
        "colab": {}
      },
      "source": [
        "documents = [TaggedDocument(doc, [i]) for i, doc in enumerate(X_train_clean['review'])]\n",
        "doc2vec = Doc2Vec(documents, vector_size=10, window=2, min_count=1, workers=4)"
      ],
      "execution_count": null,
      "outputs": []
    },
    {
      "cell_type": "code",
      "metadata": {
        "id": "RGjokIcYx_tR",
        "colab_type": "code",
        "colab": {}
      },
      "source": [
        "def transform_doc2vec(text, model):\n",
        "    text = text.split()\n",
        "    return model.infer_vector(text)\n",
        "\n",
        "def add_doc2vec_columns(df, textcolumns, model):\n",
        "    X = df.copy().drop(columns=textcolumns)\n",
        "    for col in textcolumns:\n",
        "        embeddings = df[col].apply(transform_doc2vec, model=model)\n",
        "        expanded = embeddings.apply(pd.Series)\n",
        "        expanded = expanded.add_prefix(col+'_')\n",
        "        X = pd.concat([X, expanded], axis=1)\n",
        "    return X"
      ],
      "execution_count": null,
      "outputs": []
    },
    {
      "cell_type": "code",
      "metadata": {
        "id": "RiMwxOYwJwyz",
        "colab_type": "code",
        "colab": {}
      },
      "source": [
        "X_train_doc2vec = add_doc2vec_columns(X_train_clean, ['review'], doc2vec)\n",
        "X_val_doc2vec = add_doc2vec_columns(X_val_clean, ['review'], doc2vec)\n",
        "X_test_doc2vec = add_doc2vec_columns(X_test_clean, ['review'], doc2vec)"
      ],
      "execution_count": null,
      "outputs": []
    },
    {
      "cell_type": "code",
      "metadata": {
        "id": "AW41fGlBLHyk",
        "colab_type": "code",
        "colab": {}
      },
      "source": [
        "X_train_doc2vec.head()"
      ],
      "execution_count": null,
      "outputs": []
    },
    {
      "cell_type": "markdown",
      "metadata": {
        "id": "ASEEapEC-JK2",
        "colab_type": "text"
      },
      "source": [
        "### Sentiment Analysis"
      ]
    },
    {
      "cell_type": "code",
      "metadata": {
        "id": "UMuRLAP7KMC5",
        "colab_type": "code",
        "colab": {
          "base_uri": "https://localhost:8080/",
          "height": 230
        },
        "outputId": "9200d3de-70fe-4995-f3e3-de254a475d5e"
      },
      "source": [
        "fit_randomforest(X_train_doc2vec.iloc[:,3:], y_train, X_val_doc2vec.iloc[:,3:], y_val)"
      ],
      "execution_count": null,
      "outputs": [
        {
          "output_type": "stream",
          "text": [
            "\n",
            "Random Forest\n",
            "For Depth: None, F1 score: 0.31, Accuracy: 0.67\n"
          ],
          "name": "stdout"
        },
        {
          "output_type": "stream",
          "text": [
            "/usr/local/lib/python3.6/dist-packages/sklearn/metrics/classification.py:1143: UndefinedMetricWarning: F-score is ill-defined and being set to 0.0 in labels with no predicted samples.\n",
            "  'precision', 'predicted', average, warn_for)\n"
          ],
          "name": "stderr"
        },
        {
          "output_type": "stream",
          "text": [
            "For Depth: 10, F1 score: 0.27, Accuracy: 0.66\n",
            "For Depth: 20, F1 score: 0.27, Accuracy: 0.66\n",
            "For Depth: 30, F1 score: 0.30, Accuracy: 0.67\n",
            "For Depth: 50, F1 score: 0.31, Accuracy: 0.67\n",
            "For Depth: 100, F1 score: 0.31, Accuracy: 0.67\n",
            "For Depth: 150, F1 score: 0.31, Accuracy: 0.67\n"
          ],
          "name": "stdout"
        }
      ]
    },
    {
      "cell_type": "markdown",
      "metadata": {
        "id": "oZ1RI9zs-L-2",
        "colab_type": "text"
      },
      "source": [
        "### Rating Prediction"
      ]
    },
    {
      "cell_type": "code",
      "metadata": {
        "id": "d0GOHtLM-aY_",
        "colab_type": "code",
        "colab": {
          "base_uri": "https://localhost:8080/",
          "height": 182
        },
        "outputId": "b9b6caed-4d9a-4082-ab2b-037c9b78c916"
      },
      "source": [
        "fit_rf_regression(X_train_doc2vec.iloc[:,3:], y_train_rating, X_val_doc2vec.iloc[:,3:], y_val_rating)"
      ],
      "execution_count": null,
      "outputs": [
        {
          "output_type": "stream",
          "text": [
            "\n",
            "Random Forest\n",
            "For Depth: None, MSE: 7.48\n",
            "For Depth: 10, MSE: 10.59\n",
            "For Depth: 20, MSE: 10.06\n",
            "For Depth: 30, MSE: 8.99\n",
            "For Depth: 50, MSE: 7.66\n",
            "For Depth: 100, MSE: 7.48\n",
            "For Depth: 150, MSE: 7.48\n"
          ],
          "name": "stdout"
        }
      ]
    },
    {
      "cell_type": "markdown",
      "metadata": {
        "id": "yhM6JGWcjE9T",
        "colab_type": "text"
      },
      "source": [
        "## Aggregated Word2Vec"
      ]
    },
    {
      "cell_type": "markdown",
      "metadata": {
        "id": "1tCOfyFWjLE-",
        "colab_type": "text"
      },
      "source": [
        "Here we use a pretrained word2vec embedding to get a vector representation of the words in the reviews. Then we aggregate over the whole review to represent it."
      ]
    },
    {
      "cell_type": "code",
      "metadata": {
        "id": "Jv3Im3O_jEcB",
        "colab_type": "code",
        "colab": {}
      },
      "source": [
        "def diag2vec(sentence, w2v_model):\n",
        "    # aggregates sentences by taking the mean of the word2vec embedding vectors\n",
        "    if pd.isna(sentence):\n",
        "        return np.zeros((200,))\n",
        "    words = [ w for w in sentence.split() if w in w2v_model.vocab ]\n",
        "    if len(words)==0:\n",
        "        return np.zeros((200,))\n",
        "    emb = np.zeros((len(words), 200))\n",
        "    for i, w in enumerate(words):\n",
        "        emb[i,:] = w2v_model[w]\n",
        "    return emb.mean(axis=0)\n",
        "\n",
        "def pmc_diag2vec(sentence):\n",
        "    return diag2vec(sentence, pmc_map)\n",
        "\n",
        "def add_diag2vec_columns(df, textcolumns):\n",
        "    X = df.copy().drop(columns=textcolumns)\n",
        "    for col in textcolumns:\n",
        "        embeddings = df[col].apply(pmc_diag2vec)\n",
        "        expanded = embeddings.apply(pd.Series)\n",
        "        expanded = expanded.add_prefix(col+'_')\n",
        "        X = pd.concat([X, expanded], axis=1)\n",
        "    return X"
      ],
      "execution_count": null,
      "outputs": []
    },
    {
      "cell_type": "code",
      "metadata": {
        "id": "kuONDPHGjjCU",
        "colab_type": "code",
        "colab": {}
      },
      "source": [
        "text = ['review']\n",
        "\n",
        "X_train_sentence2vec = add_diag2vec_columns(X_train_clean, text)\n",
        "X_val_sentence2vec = add_diag2vec_columns(X_val_clean, text)\n",
        "X_test_sentence2vec = add_diag2vec_columns(X_test_clean, text)"
      ],
      "execution_count": null,
      "outputs": []
    },
    {
      "cell_type": "code",
      "metadata": {
        "id": "CLBYoqkj0MaX",
        "colab_type": "code",
        "colab": {
          "base_uri": "https://localhost:8080/",
          "height": 324
        },
        "outputId": "6ac96c26-a9bd-4932-8a08-0118ca2ea29f"
      },
      "source": [
        "X_train_sentence2vec.head()"
      ],
      "execution_count": null,
      "outputs": [
        {
          "output_type": "execute_result",
          "data": {
            "text/html": [
              "<div>\n",
              "<style scoped>\n",
              "    .dataframe tbody tr th:only-of-type {\n",
              "        vertical-align: middle;\n",
              "    }\n",
              "\n",
              "    .dataframe tbody tr th {\n",
              "        vertical-align: top;\n",
              "    }\n",
              "\n",
              "    .dataframe thead th {\n",
              "        text-align: right;\n",
              "    }\n",
              "</style>\n",
              "<table border=\"1\" class=\"dataframe\">\n",
              "  <thead>\n",
              "    <tr style=\"text-align: right;\">\n",
              "      <th></th>\n",
              "      <th>drugName</th>\n",
              "      <th>condition</th>\n",
              "      <th>usefulCount</th>\n",
              "      <th>review_0</th>\n",
              "      <th>review_1</th>\n",
              "      <th>review_2</th>\n",
              "      <th>review_3</th>\n",
              "      <th>review_4</th>\n",
              "      <th>review_5</th>\n",
              "      <th>review_6</th>\n",
              "      <th>...</th>\n",
              "      <th>review_190</th>\n",
              "      <th>review_191</th>\n",
              "      <th>review_192</th>\n",
              "      <th>review_193</th>\n",
              "      <th>review_194</th>\n",
              "      <th>review_195</th>\n",
              "      <th>review_196</th>\n",
              "      <th>review_197</th>\n",
              "      <th>review_198</th>\n",
              "      <th>review_199</th>\n",
              "    </tr>\n",
              "    <tr>\n",
              "      <th>Id</th>\n",
              "      <th></th>\n",
              "      <th></th>\n",
              "      <th></th>\n",
              "      <th></th>\n",
              "      <th></th>\n",
              "      <th></th>\n",
              "      <th></th>\n",
              "      <th></th>\n",
              "      <th></th>\n",
              "      <th></th>\n",
              "      <th></th>\n",
              "      <th></th>\n",
              "      <th></th>\n",
              "      <th></th>\n",
              "      <th></th>\n",
              "      <th></th>\n",
              "      <th></th>\n",
              "      <th></th>\n",
              "      <th></th>\n",
              "      <th></th>\n",
              "      <th></th>\n",
              "    </tr>\n",
              "  </thead>\n",
              "  <tbody>\n",
              "    <tr>\n",
              "      <th>93740</th>\n",
              "      <td>morphine</td>\n",
              "      <td>pain</td>\n",
              "      <td>26</td>\n",
              "      <td>-0.052312</td>\n",
              "      <td>0.071567</td>\n",
              "      <td>0.148045</td>\n",
              "      <td>-0.065680</td>\n",
              "      <td>-0.055038</td>\n",
              "      <td>0.014063</td>\n",
              "      <td>0.088056</td>\n",
              "      <td>...</td>\n",
              "      <td>0.061930</td>\n",
              "      <td>0.114999</td>\n",
              "      <td>-0.013863</td>\n",
              "      <td>0.086150</td>\n",
              "      <td>-0.066743</td>\n",
              "      <td>0.135664</td>\n",
              "      <td>-0.121165</td>\n",
              "      <td>-0.042438</td>\n",
              "      <td>-0.051890</td>\n",
              "      <td>0.042289</td>\n",
              "    </tr>\n",
              "    <tr>\n",
              "      <th>115656</th>\n",
              "      <td>cefprozil</td>\n",
              "      <td>sinusitis</td>\n",
              "      <td>7</td>\n",
              "      <td>-0.194125</td>\n",
              "      <td>0.098484</td>\n",
              "      <td>0.048767</td>\n",
              "      <td>-0.149319</td>\n",
              "      <td>0.042789</td>\n",
              "      <td>0.059333</td>\n",
              "      <td>0.140698</td>\n",
              "      <td>...</td>\n",
              "      <td>0.169069</td>\n",
              "      <td>0.059913</td>\n",
              "      <td>-0.021702</td>\n",
              "      <td>0.100502</td>\n",
              "      <td>-0.193373</td>\n",
              "      <td>0.010452</td>\n",
              "      <td>-0.110091</td>\n",
              "      <td>0.023385</td>\n",
              "      <td>-0.029227</td>\n",
              "      <td>0.016774</td>\n",
              "    </tr>\n",
              "    <tr>\n",
              "      <th>215726</th>\n",
              "      <td>copper</td>\n",
              "      <td>birth control</td>\n",
              "      <td>13</td>\n",
              "      <td>-0.145081</td>\n",
              "      <td>0.084976</td>\n",
              "      <td>0.089360</td>\n",
              "      <td>-0.019857</td>\n",
              "      <td>-0.056206</td>\n",
              "      <td>0.080243</td>\n",
              "      <td>0.141676</td>\n",
              "      <td>...</td>\n",
              "      <td>0.062119</td>\n",
              "      <td>0.136460</td>\n",
              "      <td>-0.048215</td>\n",
              "      <td>0.130720</td>\n",
              "      <td>0.014815</td>\n",
              "      <td>0.035561</td>\n",
              "      <td>-0.083481</td>\n",
              "      <td>-0.040095</td>\n",
              "      <td>-0.093934</td>\n",
              "      <td>0.067901</td>\n",
              "    </tr>\n",
              "    <tr>\n",
              "      <th>224100</th>\n",
              "      <td>budesonide</td>\n",
              "      <td>inflammatory bowel disease</td>\n",
              "      <td>39</td>\n",
              "      <td>-0.136455</td>\n",
              "      <td>0.074284</td>\n",
              "      <td>0.161759</td>\n",
              "      <td>-0.071802</td>\n",
              "      <td>-0.076431</td>\n",
              "      <td>0.097790</td>\n",
              "      <td>0.167791</td>\n",
              "      <td>...</td>\n",
              "      <td>0.037906</td>\n",
              "      <td>0.140262</td>\n",
              "      <td>-0.050862</td>\n",
              "      <td>0.069170</td>\n",
              "      <td>-0.030703</td>\n",
              "      <td>0.033998</td>\n",
              "      <td>-0.119563</td>\n",
              "      <td>0.010963</td>\n",
              "      <td>-0.036354</td>\n",
              "      <td>0.082871</td>\n",
              "    </tr>\n",
              "    <tr>\n",
              "      <th>24726</th>\n",
              "      <td>lactase</td>\n",
              "      <td>lactose intolerance</td>\n",
              "      <td>9</td>\n",
              "      <td>-0.093036</td>\n",
              "      <td>0.061481</td>\n",
              "      <td>0.117494</td>\n",
              "      <td>-0.031707</td>\n",
              "      <td>-0.016935</td>\n",
              "      <td>0.086075</td>\n",
              "      <td>0.133652</td>\n",
              "      <td>...</td>\n",
              "      <td>0.075377</td>\n",
              "      <td>0.197871</td>\n",
              "      <td>-0.025576</td>\n",
              "      <td>0.121117</td>\n",
              "      <td>-0.005958</td>\n",
              "      <td>0.095025</td>\n",
              "      <td>-0.140200</td>\n",
              "      <td>-0.009528</td>\n",
              "      <td>-0.002705</td>\n",
              "      <td>0.066247</td>\n",
              "    </tr>\n",
              "  </tbody>\n",
              "</table>\n",
              "<p>5 rows × 203 columns</p>\n",
              "</div>"
            ],
            "text/plain": [
              "          drugName                   condition  usefulCount  review_0  \\\n",
              "Id                                                                      \n",
              "93740     morphine                        pain           26 -0.052312   \n",
              "115656   cefprozil                   sinusitis            7 -0.194125   \n",
              "215726      copper               birth control           13 -0.145081   \n",
              "224100  budesonide  inflammatory bowel disease           39 -0.136455   \n",
              "24726      lactase         lactose intolerance            9 -0.093036   \n",
              "\n",
              "        review_1  review_2  review_3  review_4  review_5  review_6  \\\n",
              "Id                                                                   \n",
              "93740   0.071567  0.148045 -0.065680 -0.055038  0.014063  0.088056   \n",
              "115656  0.098484  0.048767 -0.149319  0.042789  0.059333  0.140698   \n",
              "215726  0.084976  0.089360 -0.019857 -0.056206  0.080243  0.141676   \n",
              "224100  0.074284  0.161759 -0.071802 -0.076431  0.097790  0.167791   \n",
              "24726   0.061481  0.117494 -0.031707 -0.016935  0.086075  0.133652   \n",
              "\n",
              "           ...      review_190  review_191  review_192  review_193  \\\n",
              "Id         ...                                                       \n",
              "93740      ...        0.061930    0.114999   -0.013863    0.086150   \n",
              "115656     ...        0.169069    0.059913   -0.021702    0.100502   \n",
              "215726     ...        0.062119    0.136460   -0.048215    0.130720   \n",
              "224100     ...        0.037906    0.140262   -0.050862    0.069170   \n",
              "24726      ...        0.075377    0.197871   -0.025576    0.121117   \n",
              "\n",
              "        review_194  review_195  review_196  review_197  review_198  review_199  \n",
              "Id                                                                              \n",
              "93740    -0.066743    0.135664   -0.121165   -0.042438   -0.051890    0.042289  \n",
              "115656   -0.193373    0.010452   -0.110091    0.023385   -0.029227    0.016774  \n",
              "215726    0.014815    0.035561   -0.083481   -0.040095   -0.093934    0.067901  \n",
              "224100   -0.030703    0.033998   -0.119563    0.010963   -0.036354    0.082871  \n",
              "24726    -0.005958    0.095025   -0.140200   -0.009528   -0.002705    0.066247  \n",
              "\n",
              "[5 rows x 203 columns]"
            ]
          },
          "metadata": {
            "tags": []
          },
          "execution_count": 41
        }
      ]
    },
    {
      "cell_type": "markdown",
      "metadata": {
        "id": "xVIoANHt-9u-",
        "colab_type": "text"
      },
      "source": [
        "### Sentiment Analysis"
      ]
    },
    {
      "cell_type": "code",
      "metadata": {
        "id": "avcM7yKo0PTF",
        "colab_type": "code",
        "colab": {
          "base_uri": "https://localhost:8080/",
          "height": 175
        },
        "outputId": "64bd0aa9-2f22-462d-a03d-cfa8fe31c436"
      },
      "source": [
        "fit_randomforest(X_train_sentence2vec.iloc[:,3:], y_train, X_val_sentence2vec.iloc[:,3:], y_val)"
      ],
      "execution_count": null,
      "outputs": [
        {
          "output_type": "stream",
          "text": [
            "\n",
            "Random Forest\n",
            "For Depth: None, F1 score: 0.74, Accuracy: 0.83\n",
            "For Depth: 10, F1 score: 0.33, Accuracy: 0.68\n",
            "For Depth: 20, F1 score: 0.69, Accuracy: 0.81\n",
            "For Depth: 30, F1 score: 0.74, Accuracy: 0.83\n",
            "For Depth: 50, F1 score: 0.74, Accuracy: 0.83\n",
            "For Depth: 100, F1 score: 0.74, Accuracy: 0.83\n",
            "For Depth: 150, F1 score: 0.74, Accuracy: 0.83\n"
          ],
          "name": "stdout"
        }
      ]
    },
    {
      "cell_type": "markdown",
      "metadata": {
        "id": "SjpExoxi_Cfj",
        "colab_type": "text"
      },
      "source": [
        "### Rating Prediction"
      ]
    },
    {
      "cell_type": "code",
      "metadata": {
        "id": "TqFKHSH3nO0n",
        "colab_type": "code",
        "colab": {
          "base_uri": "https://localhost:8080/",
          "height": 1829
        },
        "outputId": "699f7533-4551-4e7f-c531-66ed7c22fbaf"
      },
      "source": [
        "fit_rf_regression(X_train_sentence2vec.iloc[:,3:], y_train_rating, X_val_sentence2vec.iloc[:,3:], y_val_rating)"
      ],
      "execution_count": null,
      "outputs": [
        {
          "output_type": "stream",
          "text": [
            "\n",
            "Random Forest\n",
            "For Depth: None, MSE: 5.97\n",
            "For Depth: 10, MSE: 8.57\n",
            "For Depth: 20, MSE: 6.24\n"
          ],
          "name": "stdout"
        },
        {
          "output_type": "error",
          "ename": "KeyboardInterrupt",
          "evalue": "ignored",
          "traceback": [
            "\u001b[0;31m---------------------------------------------------------------------------\u001b[0m",
            "\u001b[0;31mKeyboardInterrupt\u001b[0m                         Traceback (most recent call last)",
            "\u001b[0;32m<ipython-input-54-b81e45e49e2e>\u001b[0m in \u001b[0;36m<module>\u001b[0;34m()\u001b[0m\n\u001b[0;32m----> 1\u001b[0;31m \u001b[0mfit_rf_regression\u001b[0m\u001b[0;34m(\u001b[0m\u001b[0mX_train_sentence2vec\u001b[0m\u001b[0;34m.\u001b[0m\u001b[0miloc\u001b[0m\u001b[0;34m[\u001b[0m\u001b[0;34m:\u001b[0m\u001b[0;34m,\u001b[0m\u001b[0;36m3\u001b[0m\u001b[0;34m:\u001b[0m\u001b[0;34m]\u001b[0m\u001b[0;34m,\u001b[0m \u001b[0my_train_rating\u001b[0m\u001b[0;34m,\u001b[0m \u001b[0mX_val_sentence2vec\u001b[0m\u001b[0;34m.\u001b[0m\u001b[0miloc\u001b[0m\u001b[0;34m[\u001b[0m\u001b[0;34m:\u001b[0m\u001b[0;34m,\u001b[0m\u001b[0;36m3\u001b[0m\u001b[0;34m:\u001b[0m\u001b[0;34m]\u001b[0m\u001b[0;34m,\u001b[0m \u001b[0my_val_rating\u001b[0m\u001b[0;34m)\u001b[0m\u001b[0;34m\u001b[0m\u001b[0;34m\u001b[0m\u001b[0m\n\u001b[0m",
            "\u001b[0;32m<ipython-input-47-01ec5ff1fb21>\u001b[0m in \u001b[0;36mfit_rf_regression\u001b[0;34m(xtrain, ytrain, xval, yval)\u001b[0m\n\u001b[1;32m      4\u001b[0m   \u001b[0;32mfor\u001b[0m \u001b[0md\u001b[0m \u001b[0;32min\u001b[0m \u001b[0mdepths\u001b[0m\u001b[0;34m:\u001b[0m\u001b[0;34m\u001b[0m\u001b[0;34m\u001b[0m\u001b[0m\n\u001b[1;32m      5\u001b[0m     \u001b[0mclf\u001b[0m \u001b[0;34m=\u001b[0m \u001b[0mRandomForestRegressor\u001b[0m\u001b[0;34m(\u001b[0m\u001b[0mn_estimators\u001b[0m\u001b[0;34m=\u001b[0m\u001b[0;36m10\u001b[0m\u001b[0;34m,\u001b[0m \u001b[0mmax_depth\u001b[0m\u001b[0;34m=\u001b[0m\u001b[0md\u001b[0m\u001b[0;34m,\u001b[0m \u001b[0mrandom_state\u001b[0m\u001b[0;34m=\u001b[0m\u001b[0;36m42\u001b[0m\u001b[0;34m)\u001b[0m\u001b[0;34m\u001b[0m\u001b[0;34m\u001b[0m\u001b[0m\n\u001b[0;32m----> 6\u001b[0;31m     \u001b[0mclf\u001b[0m\u001b[0;34m.\u001b[0m\u001b[0mfit\u001b[0m\u001b[0;34m(\u001b[0m\u001b[0mxtrain\u001b[0m\u001b[0;34m,\u001b[0m \u001b[0mytrain\u001b[0m\u001b[0;34m)\u001b[0m\u001b[0;34m\u001b[0m\u001b[0;34m\u001b[0m\u001b[0m\n\u001b[0m\u001b[1;32m      7\u001b[0m     \u001b[0mpred_val\u001b[0m \u001b[0;34m=\u001b[0m \u001b[0mclf\u001b[0m\u001b[0;34m.\u001b[0m\u001b[0mpredict\u001b[0m\u001b[0;34m(\u001b[0m\u001b[0mxval\u001b[0m\u001b[0;34m)\u001b[0m\u001b[0;34m\u001b[0m\u001b[0;34m\u001b[0m\u001b[0m\n\u001b[1;32m      8\u001b[0m     \u001b[0mmse\u001b[0m \u001b[0;34m=\u001b[0m \u001b[0mmean_squared_error\u001b[0m\u001b[0;34m(\u001b[0m\u001b[0myval\u001b[0m\u001b[0;34m,\u001b[0m \u001b[0mpred_val\u001b[0m\u001b[0;34m)\u001b[0m\u001b[0;34m\u001b[0m\u001b[0;34m\u001b[0m\u001b[0m\n",
            "\u001b[0;32m/usr/local/lib/python3.6/dist-packages/sklearn/ensemble/forest.py\u001b[0m in \u001b[0;36mfit\u001b[0;34m(self, X, y, sample_weight)\u001b[0m\n\u001b[1;32m    331\u001b[0m                     \u001b[0mt\u001b[0m\u001b[0;34m,\u001b[0m \u001b[0mself\u001b[0m\u001b[0;34m,\u001b[0m \u001b[0mX\u001b[0m\u001b[0;34m,\u001b[0m \u001b[0my\u001b[0m\u001b[0;34m,\u001b[0m \u001b[0msample_weight\u001b[0m\u001b[0;34m,\u001b[0m \u001b[0mi\u001b[0m\u001b[0;34m,\u001b[0m \u001b[0mlen\u001b[0m\u001b[0;34m(\u001b[0m\u001b[0mtrees\u001b[0m\u001b[0;34m)\u001b[0m\u001b[0;34m,\u001b[0m\u001b[0;34m\u001b[0m\u001b[0;34m\u001b[0m\u001b[0m\n\u001b[1;32m    332\u001b[0m                     verbose=self.verbose, class_weight=self.class_weight)\n\u001b[0;32m--> 333\u001b[0;31m                 for i, t in enumerate(trees))\n\u001b[0m\u001b[1;32m    334\u001b[0m \u001b[0;34m\u001b[0m\u001b[0m\n\u001b[1;32m    335\u001b[0m             \u001b[0;31m# Collect newly grown trees\u001b[0m\u001b[0;34m\u001b[0m\u001b[0;34m\u001b[0m\u001b[0;34m\u001b[0m\u001b[0m\n",
            "\u001b[0;32m/usr/local/lib/python3.6/dist-packages/sklearn/externals/joblib/parallel.py\u001b[0m in \u001b[0;36m__call__\u001b[0;34m(self, iterable)\u001b[0m\n\u001b[1;32m    915\u001b[0m             \u001b[0;31m# remaining jobs.\u001b[0m\u001b[0;34m\u001b[0m\u001b[0;34m\u001b[0m\u001b[0;34m\u001b[0m\u001b[0m\n\u001b[1;32m    916\u001b[0m             \u001b[0mself\u001b[0m\u001b[0;34m.\u001b[0m\u001b[0m_iterating\u001b[0m \u001b[0;34m=\u001b[0m \u001b[0;32mFalse\u001b[0m\u001b[0;34m\u001b[0m\u001b[0;34m\u001b[0m\u001b[0m\n\u001b[0;32m--> 917\u001b[0;31m             \u001b[0;32mif\u001b[0m \u001b[0mself\u001b[0m\u001b[0;34m.\u001b[0m\u001b[0mdispatch_one_batch\u001b[0m\u001b[0;34m(\u001b[0m\u001b[0miterator\u001b[0m\u001b[0;34m)\u001b[0m\u001b[0;34m:\u001b[0m\u001b[0;34m\u001b[0m\u001b[0;34m\u001b[0m\u001b[0m\n\u001b[0m\u001b[1;32m    918\u001b[0m                 \u001b[0mself\u001b[0m\u001b[0;34m.\u001b[0m\u001b[0m_iterating\u001b[0m \u001b[0;34m=\u001b[0m \u001b[0mself\u001b[0m\u001b[0;34m.\u001b[0m\u001b[0m_original_iterator\u001b[0m \u001b[0;32mis\u001b[0m \u001b[0;32mnot\u001b[0m \u001b[0;32mNone\u001b[0m\u001b[0;34m\u001b[0m\u001b[0;34m\u001b[0m\u001b[0m\n\u001b[1;32m    919\u001b[0m \u001b[0;34m\u001b[0m\u001b[0m\n",
            "\u001b[0;32m/usr/local/lib/python3.6/dist-packages/sklearn/externals/joblib/parallel.py\u001b[0m in \u001b[0;36mdispatch_one_batch\u001b[0;34m(self, iterator)\u001b[0m\n\u001b[1;32m    757\u001b[0m                 \u001b[0;32mreturn\u001b[0m \u001b[0;32mFalse\u001b[0m\u001b[0;34m\u001b[0m\u001b[0;34m\u001b[0m\u001b[0m\n\u001b[1;32m    758\u001b[0m             \u001b[0;32melse\u001b[0m\u001b[0;34m:\u001b[0m\u001b[0;34m\u001b[0m\u001b[0;34m\u001b[0m\u001b[0m\n\u001b[0;32m--> 759\u001b[0;31m                 \u001b[0mself\u001b[0m\u001b[0;34m.\u001b[0m\u001b[0m_dispatch\u001b[0m\u001b[0;34m(\u001b[0m\u001b[0mtasks\u001b[0m\u001b[0;34m)\u001b[0m\u001b[0;34m\u001b[0m\u001b[0;34m\u001b[0m\u001b[0m\n\u001b[0m\u001b[1;32m    760\u001b[0m                 \u001b[0;32mreturn\u001b[0m \u001b[0;32mTrue\u001b[0m\u001b[0;34m\u001b[0m\u001b[0;34m\u001b[0m\u001b[0m\n\u001b[1;32m    761\u001b[0m \u001b[0;34m\u001b[0m\u001b[0m\n",
            "\u001b[0;32m/usr/local/lib/python3.6/dist-packages/sklearn/externals/joblib/parallel.py\u001b[0m in \u001b[0;36m_dispatch\u001b[0;34m(self, batch)\u001b[0m\n\u001b[1;32m    714\u001b[0m         \u001b[0;32mwith\u001b[0m \u001b[0mself\u001b[0m\u001b[0;34m.\u001b[0m\u001b[0m_lock\u001b[0m\u001b[0;34m:\u001b[0m\u001b[0;34m\u001b[0m\u001b[0;34m\u001b[0m\u001b[0m\n\u001b[1;32m    715\u001b[0m             \u001b[0mjob_idx\u001b[0m \u001b[0;34m=\u001b[0m \u001b[0mlen\u001b[0m\u001b[0;34m(\u001b[0m\u001b[0mself\u001b[0m\u001b[0;34m.\u001b[0m\u001b[0m_jobs\u001b[0m\u001b[0;34m)\u001b[0m\u001b[0;34m\u001b[0m\u001b[0;34m\u001b[0m\u001b[0m\n\u001b[0;32m--> 716\u001b[0;31m             \u001b[0mjob\u001b[0m \u001b[0;34m=\u001b[0m \u001b[0mself\u001b[0m\u001b[0;34m.\u001b[0m\u001b[0m_backend\u001b[0m\u001b[0;34m.\u001b[0m\u001b[0mapply_async\u001b[0m\u001b[0;34m(\u001b[0m\u001b[0mbatch\u001b[0m\u001b[0;34m,\u001b[0m \u001b[0mcallback\u001b[0m\u001b[0;34m=\u001b[0m\u001b[0mcb\u001b[0m\u001b[0;34m)\u001b[0m\u001b[0;34m\u001b[0m\u001b[0;34m\u001b[0m\u001b[0m\n\u001b[0m\u001b[1;32m    717\u001b[0m             \u001b[0;31m# A job can complete so quickly than its callback is\u001b[0m\u001b[0;34m\u001b[0m\u001b[0;34m\u001b[0m\u001b[0;34m\u001b[0m\u001b[0m\n\u001b[1;32m    718\u001b[0m             \u001b[0;31m# called before we get here, causing self._jobs to\u001b[0m\u001b[0;34m\u001b[0m\u001b[0;34m\u001b[0m\u001b[0;34m\u001b[0m\u001b[0m\n",
            "\u001b[0;32m/usr/local/lib/python3.6/dist-packages/sklearn/externals/joblib/_parallel_backends.py\u001b[0m in \u001b[0;36mapply_async\u001b[0;34m(self, func, callback)\u001b[0m\n\u001b[1;32m    180\u001b[0m     \u001b[0;32mdef\u001b[0m \u001b[0mapply_async\u001b[0m\u001b[0;34m(\u001b[0m\u001b[0mself\u001b[0m\u001b[0;34m,\u001b[0m \u001b[0mfunc\u001b[0m\u001b[0;34m,\u001b[0m \u001b[0mcallback\u001b[0m\u001b[0;34m=\u001b[0m\u001b[0;32mNone\u001b[0m\u001b[0;34m)\u001b[0m\u001b[0;34m:\u001b[0m\u001b[0;34m\u001b[0m\u001b[0;34m\u001b[0m\u001b[0m\n\u001b[1;32m    181\u001b[0m         \u001b[0;34m\"\"\"Schedule a func to be run\"\"\"\u001b[0m\u001b[0;34m\u001b[0m\u001b[0;34m\u001b[0m\u001b[0m\n\u001b[0;32m--> 182\u001b[0;31m         \u001b[0mresult\u001b[0m \u001b[0;34m=\u001b[0m \u001b[0mImmediateResult\u001b[0m\u001b[0;34m(\u001b[0m\u001b[0mfunc\u001b[0m\u001b[0;34m)\u001b[0m\u001b[0;34m\u001b[0m\u001b[0;34m\u001b[0m\u001b[0m\n\u001b[0m\u001b[1;32m    183\u001b[0m         \u001b[0;32mif\u001b[0m \u001b[0mcallback\u001b[0m\u001b[0;34m:\u001b[0m\u001b[0;34m\u001b[0m\u001b[0;34m\u001b[0m\u001b[0m\n\u001b[1;32m    184\u001b[0m             \u001b[0mcallback\u001b[0m\u001b[0;34m(\u001b[0m\u001b[0mresult\u001b[0m\u001b[0;34m)\u001b[0m\u001b[0;34m\u001b[0m\u001b[0;34m\u001b[0m\u001b[0m\n",
            "\u001b[0;32m/usr/local/lib/python3.6/dist-packages/sklearn/externals/joblib/_parallel_backends.py\u001b[0m in \u001b[0;36m__init__\u001b[0;34m(self, batch)\u001b[0m\n\u001b[1;32m    547\u001b[0m         \u001b[0;31m# Don't delay the application, to avoid keeping the input\u001b[0m\u001b[0;34m\u001b[0m\u001b[0;34m\u001b[0m\u001b[0;34m\u001b[0m\u001b[0m\n\u001b[1;32m    548\u001b[0m         \u001b[0;31m# arguments in memory\u001b[0m\u001b[0;34m\u001b[0m\u001b[0;34m\u001b[0m\u001b[0;34m\u001b[0m\u001b[0m\n\u001b[0;32m--> 549\u001b[0;31m         \u001b[0mself\u001b[0m\u001b[0;34m.\u001b[0m\u001b[0mresults\u001b[0m \u001b[0;34m=\u001b[0m \u001b[0mbatch\u001b[0m\u001b[0;34m(\u001b[0m\u001b[0;34m)\u001b[0m\u001b[0;34m\u001b[0m\u001b[0;34m\u001b[0m\u001b[0m\n\u001b[0m\u001b[1;32m    550\u001b[0m \u001b[0;34m\u001b[0m\u001b[0m\n\u001b[1;32m    551\u001b[0m     \u001b[0;32mdef\u001b[0m \u001b[0mget\u001b[0m\u001b[0;34m(\u001b[0m\u001b[0mself\u001b[0m\u001b[0;34m)\u001b[0m\u001b[0;34m:\u001b[0m\u001b[0;34m\u001b[0m\u001b[0;34m\u001b[0m\u001b[0m\n",
            "\u001b[0;32m/usr/local/lib/python3.6/dist-packages/sklearn/externals/joblib/parallel.py\u001b[0m in \u001b[0;36m__call__\u001b[0;34m(self)\u001b[0m\n\u001b[1;32m    223\u001b[0m         \u001b[0;32mwith\u001b[0m \u001b[0mparallel_backend\u001b[0m\u001b[0;34m(\u001b[0m\u001b[0mself\u001b[0m\u001b[0;34m.\u001b[0m\u001b[0m_backend\u001b[0m\u001b[0;34m,\u001b[0m \u001b[0mn_jobs\u001b[0m\u001b[0;34m=\u001b[0m\u001b[0mself\u001b[0m\u001b[0;34m.\u001b[0m\u001b[0m_n_jobs\u001b[0m\u001b[0;34m)\u001b[0m\u001b[0;34m:\u001b[0m\u001b[0;34m\u001b[0m\u001b[0;34m\u001b[0m\u001b[0m\n\u001b[1;32m    224\u001b[0m             return [func(*args, **kwargs)\n\u001b[0;32m--> 225\u001b[0;31m                     for func, args, kwargs in self.items]\n\u001b[0m\u001b[1;32m    226\u001b[0m \u001b[0;34m\u001b[0m\u001b[0m\n\u001b[1;32m    227\u001b[0m     \u001b[0;32mdef\u001b[0m \u001b[0m__len__\u001b[0m\u001b[0;34m(\u001b[0m\u001b[0mself\u001b[0m\u001b[0;34m)\u001b[0m\u001b[0;34m:\u001b[0m\u001b[0;34m\u001b[0m\u001b[0;34m\u001b[0m\u001b[0m\n",
            "\u001b[0;32m/usr/local/lib/python3.6/dist-packages/sklearn/externals/joblib/parallel.py\u001b[0m in \u001b[0;36m<listcomp>\u001b[0;34m(.0)\u001b[0m\n\u001b[1;32m    223\u001b[0m         \u001b[0;32mwith\u001b[0m \u001b[0mparallel_backend\u001b[0m\u001b[0;34m(\u001b[0m\u001b[0mself\u001b[0m\u001b[0;34m.\u001b[0m\u001b[0m_backend\u001b[0m\u001b[0;34m,\u001b[0m \u001b[0mn_jobs\u001b[0m\u001b[0;34m=\u001b[0m\u001b[0mself\u001b[0m\u001b[0;34m.\u001b[0m\u001b[0m_n_jobs\u001b[0m\u001b[0;34m)\u001b[0m\u001b[0;34m:\u001b[0m\u001b[0;34m\u001b[0m\u001b[0;34m\u001b[0m\u001b[0m\n\u001b[1;32m    224\u001b[0m             return [func(*args, **kwargs)\n\u001b[0;32m--> 225\u001b[0;31m                     for func, args, kwargs in self.items]\n\u001b[0m\u001b[1;32m    226\u001b[0m \u001b[0;34m\u001b[0m\u001b[0m\n\u001b[1;32m    227\u001b[0m     \u001b[0;32mdef\u001b[0m \u001b[0m__len__\u001b[0m\u001b[0;34m(\u001b[0m\u001b[0mself\u001b[0m\u001b[0;34m)\u001b[0m\u001b[0;34m:\u001b[0m\u001b[0;34m\u001b[0m\u001b[0;34m\u001b[0m\u001b[0m\n",
            "\u001b[0;32m/usr/local/lib/python3.6/dist-packages/sklearn/ensemble/forest.py\u001b[0m in \u001b[0;36m_parallel_build_trees\u001b[0;34m(tree, forest, X, y, sample_weight, tree_idx, n_trees, verbose, class_weight)\u001b[0m\n\u001b[1;32m    117\u001b[0m             \u001b[0mcurr_sample_weight\u001b[0m \u001b[0;34m*=\u001b[0m \u001b[0mcompute_sample_weight\u001b[0m\u001b[0;34m(\u001b[0m\u001b[0;34m'balanced'\u001b[0m\u001b[0;34m,\u001b[0m \u001b[0my\u001b[0m\u001b[0;34m,\u001b[0m \u001b[0mindices\u001b[0m\u001b[0;34m)\u001b[0m\u001b[0;34m\u001b[0m\u001b[0;34m\u001b[0m\u001b[0m\n\u001b[1;32m    118\u001b[0m \u001b[0;34m\u001b[0m\u001b[0m\n\u001b[0;32m--> 119\u001b[0;31m         \u001b[0mtree\u001b[0m\u001b[0;34m.\u001b[0m\u001b[0mfit\u001b[0m\u001b[0;34m(\u001b[0m\u001b[0mX\u001b[0m\u001b[0;34m,\u001b[0m \u001b[0my\u001b[0m\u001b[0;34m,\u001b[0m \u001b[0msample_weight\u001b[0m\u001b[0;34m=\u001b[0m\u001b[0mcurr_sample_weight\u001b[0m\u001b[0;34m,\u001b[0m \u001b[0mcheck_input\u001b[0m\u001b[0;34m=\u001b[0m\u001b[0;32mFalse\u001b[0m\u001b[0;34m)\u001b[0m\u001b[0;34m\u001b[0m\u001b[0;34m\u001b[0m\u001b[0m\n\u001b[0m\u001b[1;32m    120\u001b[0m     \u001b[0;32melse\u001b[0m\u001b[0;34m:\u001b[0m\u001b[0;34m\u001b[0m\u001b[0;34m\u001b[0m\u001b[0m\n\u001b[1;32m    121\u001b[0m         \u001b[0mtree\u001b[0m\u001b[0;34m.\u001b[0m\u001b[0mfit\u001b[0m\u001b[0;34m(\u001b[0m\u001b[0mX\u001b[0m\u001b[0;34m,\u001b[0m \u001b[0my\u001b[0m\u001b[0;34m,\u001b[0m \u001b[0msample_weight\u001b[0m\u001b[0;34m=\u001b[0m\u001b[0msample_weight\u001b[0m\u001b[0;34m,\u001b[0m \u001b[0mcheck_input\u001b[0m\u001b[0;34m=\u001b[0m\u001b[0;32mFalse\u001b[0m\u001b[0;34m)\u001b[0m\u001b[0;34m\u001b[0m\u001b[0;34m\u001b[0m\u001b[0m\n",
            "\u001b[0;32m/usr/local/lib/python3.6/dist-packages/sklearn/tree/tree.py\u001b[0m in \u001b[0;36mfit\u001b[0;34m(self, X, y, sample_weight, check_input, X_idx_sorted)\u001b[0m\n\u001b[1;32m   1140\u001b[0m             \u001b[0msample_weight\u001b[0m\u001b[0;34m=\u001b[0m\u001b[0msample_weight\u001b[0m\u001b[0;34m,\u001b[0m\u001b[0;34m\u001b[0m\u001b[0;34m\u001b[0m\u001b[0m\n\u001b[1;32m   1141\u001b[0m             \u001b[0mcheck_input\u001b[0m\u001b[0;34m=\u001b[0m\u001b[0mcheck_input\u001b[0m\u001b[0;34m,\u001b[0m\u001b[0;34m\u001b[0m\u001b[0;34m\u001b[0m\u001b[0m\n\u001b[0;32m-> 1142\u001b[0;31m             X_idx_sorted=X_idx_sorted)\n\u001b[0m\u001b[1;32m   1143\u001b[0m         \u001b[0;32mreturn\u001b[0m \u001b[0mself\u001b[0m\u001b[0;34m\u001b[0m\u001b[0;34m\u001b[0m\u001b[0m\n\u001b[1;32m   1144\u001b[0m \u001b[0;34m\u001b[0m\u001b[0m\n",
            "\u001b[0;32m/usr/local/lib/python3.6/dist-packages/sklearn/tree/tree.py\u001b[0m in \u001b[0;36mfit\u001b[0;34m(self, X, y, sample_weight, check_input, X_idx_sorted)\u001b[0m\n\u001b[1;32m    364\u001b[0m                                            min_impurity_split)\n\u001b[1;32m    365\u001b[0m \u001b[0;34m\u001b[0m\u001b[0m\n\u001b[0;32m--> 366\u001b[0;31m         \u001b[0mbuilder\u001b[0m\u001b[0;34m.\u001b[0m\u001b[0mbuild\u001b[0m\u001b[0;34m(\u001b[0m\u001b[0mself\u001b[0m\u001b[0;34m.\u001b[0m\u001b[0mtree_\u001b[0m\u001b[0;34m,\u001b[0m \u001b[0mX\u001b[0m\u001b[0;34m,\u001b[0m \u001b[0my\u001b[0m\u001b[0;34m,\u001b[0m \u001b[0msample_weight\u001b[0m\u001b[0;34m,\u001b[0m \u001b[0mX_idx_sorted\u001b[0m\u001b[0;34m)\u001b[0m\u001b[0;34m\u001b[0m\u001b[0;34m\u001b[0m\u001b[0m\n\u001b[0m\u001b[1;32m    367\u001b[0m \u001b[0;34m\u001b[0m\u001b[0m\n\u001b[1;32m    368\u001b[0m         \u001b[0;32mif\u001b[0m \u001b[0mself\u001b[0m\u001b[0;34m.\u001b[0m\u001b[0mn_outputs_\u001b[0m \u001b[0;34m==\u001b[0m \u001b[0;36m1\u001b[0m\u001b[0;34m:\u001b[0m\u001b[0;34m\u001b[0m\u001b[0;34m\u001b[0m\u001b[0m\n",
            "\u001b[0;31mKeyboardInterrupt\u001b[0m: "
          ]
        }
      ]
    },
    {
      "cell_type": "markdown",
      "metadata": {
        "id": "OiXpJ1k478pV",
        "colab_type": "text"
      },
      "source": [
        "## RNN"
      ]
    },
    {
      "cell_type": "markdown",
      "metadata": {
        "id": "ByyappyMOEbM",
        "colab_type": "text"
      },
      "source": [
        "We found that after pre-processing there are about 45k unique words with varying frequency. So, we decided to use pre-trained embedding instead of learning the embedding from our own data.\n",
        "\n",
        "In this section we try multiple approaches to tackle the problem at hand. As above, we use pre-trained embeddings to train our model. We first find that there are some words in the reviews (ill-formed) for which we do not have pre-trained embedding. So try to implement a spell checker. However, we find that the suggestion made by it are meaningless for most cases. We still created an embedding for it but in vain.\n",
        "\n",
        "Next, we try to see the impact of each of feature (Drugname, condition and review) on the final rating by the patient. We use pre-trained PMC embedding for drug name and condition and  train a simple feed forward network for both of them separately. We also train by using both of them. However the results are not very impressive.\n",
        "\n",
        "Then, we train a LSTM on text reviews using another pre-trained embedding by google which gives reasonble values."
      ]
    },
    {
      "cell_type": "code",
      "metadata": {
        "id": "lSZ5ppWF77s5",
        "colab_type": "code",
        "colab": {}
      },
      "source": [
        "X_train_reviews = X_train_clean['review'].values\n",
        "X_test_reviews = X_test_clean['review'].values\n",
        "\n",
        "X = pd.concat([ X_train_clean['review'], X_test_clean['review'] ], axis = 0).values\n",
        "tk = Tokenizer( lower = True)\n",
        "tk.fit_on_texts(X)\n",
        "X_train_seq = tk.texts_to_sequences(X_train_reviews)\n",
        "X_test_seq = tk.texts_to_sequences(X_test_reviews)\n",
        "                                  \n",
        "# Choosing 100 as an intuition based on average sequence length\n",
        "X_train_pad = pad_sequences(X_train_seq, maxlen=100, padding='post')\n",
        "X_test_pad = pad_sequences(X_test_seq, maxlen=100, padding='post')"
      ],
      "execution_count": null,
      "outputs": []
    },
    {
      "cell_type": "code",
      "metadata": {
        "id": "BXdIeRwgK3FK",
        "colab_type": "code",
        "colab": {}
      },
      "source": [
        "# loading pre-trained embedding\n",
        "# https://code.google.com/archive/p/word2vec/\n",
        "# http://evexdb.org/pmresources/vec-space-models/\n",
        "google_map = KeyedVectors.load_word2vec_format('GoogleNews-vectors-negative300.bin', binary=True)\n",
        "pmc_map = KeyedVectors.load_word2vec_format('PMC-w2v.bin', binary=True)"
      ],
      "execution_count": null,
      "outputs": []
    },
    {
      "cell_type": "markdown",
      "metadata": {
        "id": "6VCqKd6cTBQl",
        "colab_type": "text"
      },
      "source": [
        "\n",
        "### Experimenting"
      ]
    },
    {
      "cell_type": "code",
      "metadata": {
        "id": "lo2-NUm88hX6",
        "colab_type": "code",
        "colab": {}
      },
      "source": [
        "# max_seq_len = max([len(s) for s in X_train_seq])\n",
        "# avg_seq_len = np.average([len(s) for s in X_train_seq])\n",
        "# ​\n",
        "# print(f'Max review length {max_seq_len} and average sequence length = {avg_seq_len}')"
      ],
      "execution_count": null,
      "outputs": []
    },
    {
      "cell_type": "code",
      "metadata": {
        "id": "63l508jc843u",
        "colab_type": "code",
        "colab": {
          "base_uri": "https://localhost:8080/",
          "height": 34
        },
        "outputId": "28724959-8612-4769-e421-801bca08446f"
      },
      "source": [
        "\n",
        "# no_map = []\n",
        "# for word in tk.word_counts.keys():\n",
        "#   try:\n",
        "#     google_map[word] \n",
        " \n",
        "#   except:\n",
        "#     no_map.append(word)\n",
        "\n",
        "# print(\"We have pretrained word2vec of {} words out of total vocab of {}\".format(len(tk.word_counts.keys())- len(no_map), len(tk.word_counts.keys())))\n"
      ],
      "execution_count": null,
      "outputs": [
        {
          "output_type": "stream",
          "text": [
            "We have pretrained word2vec of 29896 words out of total vocab of 45842\n"
          ],
          "name": "stdout"
        }
      ]
    },
    {
      "cell_type": "code",
      "metadata": {
        "id": "T2rIKrSf_IDX",
        "colab_type": "code",
        "colab": {}
      },
      "source": [
        "# Having a look at words without embedding\n",
        "# no_map"
      ],
      "execution_count": null,
      "outputs": []
    },
    {
      "cell_type": "code",
      "metadata": {
        "id": "PcnoARAyzFJ6",
        "colab_type": "code",
        "colab": {}
      },
      "source": [
        "# !apt-get update\n",
        "# !apt-get install python-dev \n",
        "# !apt-get install libhunspell-dev\n",
        "# !pip install hunspell\n",
        "# import hunspell\n",
        "# !npm install dictionary-en-us"
      ],
      "execution_count": null,
      "outputs": []
    },
    {
      "cell_type": "code",
      "metadata": {
        "id": "NrIXATyLzF7M",
        "colab_type": "code",
        "colab": {}
      },
      "source": [
        "# spellchecker = hunspell.HunSpell('node_modules/dictionary-en-us/index.dic',\n",
        "#                                  'node_modules/dictionary-en-us/index.aff')"
      ],
      "execution_count": null,
      "outputs": []
    },
    {
      "cell_type": "code",
      "metadata": {
        "id": "JW3LoBDN-7Dn",
        "colab_type": "code",
        "colab": {}
      },
      "source": [
        "# bad_words = []\n",
        "# corrected = []\n",
        "# for word in no_map:\n",
        "#   try:\n",
        "#     corrected.append([word, spellchecker.suggest(word)[0]])\n",
        "#   except:\n",
        "#     bad_words.append(word)"
      ],
      "execution_count": null,
      "outputs": []
    },
    {
      "cell_type": "code",
      "metadata": {
        "id": "HL8p4-THabT_",
        "colab_type": "code",
        "colab": {
          "base_uri": "https://localhost:8080/",
          "height": 54
        },
        "outputId": "563fb64e-d52e-4f4b-fee8-c6b60b7e69f8"
      },
      "source": [
        "# print(corrected)"
      ],
      "execution_count": null,
      "outputs": [
        {
          "output_type": "stream",
          "text": [
            "[['bystolic', 'systolic'], ['intuniv', 'int univ'], ['gestodene', 'lodestone'], ['lybrel', 'rely'], ['preassure', 'pressure'], ['rockhard', 'rock hard'], ['cummed', 'scummed'], ['abilify', 'ability'], ['clondine', 'cloudiness'], ['keppera', 'keeper'], ['chateal', 'chateau'], ['deplin', 'depletion'], ['asacol', 'Pensacola'], ['pentasa', 'peasant'], ['delsym', 'Delmer'], ['nexplanon', 'explanation'], ['saxenda', 'Sendai'], ['litres', 'liters'], ['fitbit', 'fit bit'], ['tegretol', 'Gretel'], ['tasigna', 'Anastasia'], ['combivir', 'combiner'], ['kaletra', 'rattletrap'], ['pluz', 'plus'], ['trazadone', 'methadone'], ['nasel', 'easel'], ['nexplanont', 'explanation'], ['embrel', 'tumbrel'], ['centre', 'center'], ['vaniqa', 'vanilla'], ['daytrana', 'Dayton'], ['cipralex', 'reciprocal'], ['excedrin', 'Excedrin'], ['imitrex', 'extremity'], ['viberzi', 'vizier'], ['tumour', 'tumor'], ['contrave', 'contrive'], ['eot', 'toe'], ['betmiga', 'mitigate'], ['trulicity', 'rusticity'], ['sulphur', 'sulfur'], ['ckd', 'ck'], ['butrans', 'bu trans'], ['flovemt', 'foxglove'], ['fluxuate', 'fluctuate'], ['enlongated', 'elongated'], ['freqently', 'frequently'], ['utis', 'unis'], ['pyridium', 'iridium'], ['latuda', 'latitude'], ['femcon', 'fem con'], ['nuvaring', 'uncaring'], ['prepopik', 'prepping'], ['inly', 'only'], ['sprintec', 'sprinter'], ['zepatier', 'patienter'], ['oic', 'pic'], ['amitiza', 'Izanami'], ['nexplon', 'explosion'], ['riboviron', 'riboflavin'], ['harvoni', 'harmonic'], ['bromazepam', 'broodmare'], ['carbamazepin', 'carbonize'], ['lancinating', 'laminating'], ['remissed', 're missed'], ['pristique', 'pristine'], ['welbutrin', 'neutrino'], ['mirena', 'mire'], ['endroconologist', 'endocrinologist'], ['busper', 'busier'], ['loranzapam', 'colorant'], ['iud', 'IUD'], ['stsrted', 'started'], ['titinus', 'sinusitis'], ['csn', 'can'], ['zanax', 'Azana'], ['nrevous', 'nervous'], ['mdd', 'dd'], ['bertie', 'Bertie'], ['luvox', 'lummox'], ['ciproflaxcin', 'nonreciprocal'], ['macrobid', 'macro bid'], ['cogentin', 'cogent in'], ['saphris', 'aphorisms'], ['haldol', 'Harold'], ['risperdal', 'dispersal'], ['epiduo', 'epidural'], ['cetaphil', 'cenotaph'], ['azor', 'razor'], ['loestrin', 'shoestring'], ['embeda', 'embeds'], ['flexiril', 'flexible'], ['reprinol', 'reprisal'], ['skyla', 'sky la'], ['weekafter', 'week after'], ['littlw', 'little'], ['inderal', 'Alderamin'], ['focalin', 'focal in'], ['lutera', 'aflutter'], ['jolivette', 'Olivetti'], ['aviane', 'avian'], ['hyperemotional', 'hyper emotional'], ['pdoc', 'doc'], ['jolessa', 'jobless'], ['benzyol', 'benzyl'], ['aczone', 'ac zone'], ['nicoderm', 'Nicodemus'], ['vivitrol', 'vitriol'], ['veryanxiousnow', 'overanxious'], ['restasis', 're stasis'], ['accutune', 'acuteness'], ['systane', 'tannest'], ['actiq', 'cacti'], ['trinessa', 'paltriness'], ['monocycline', 'monocotyledon'], ['benzaclin', 'benzine'], ['finacea', 'finance'], ['liletta', 'dilettante'], ['jardiance', 'radiance'], ['byetta', 'Beretta'], ['lyrica', 'lyrics'], ['expirence', 'experience'], ['defficient', 'deficient'], ['copd', 'cops'], ['cardura', 'cardboard'], ['pradif', 'Prada'], ['plaquenil', 'plaque nil'], ['uctd', 'duct'], ['belviq', 'believe'], ['lantus', 'Bantus'], ['tresiba', 'Tiresias'], ['humalog', 'humeral'], ['awhile\\u200b', 'awhile'], ['zofran', 'Franz'], ['lupron', 'pronto'], ['depressrion', 'depression'], ['puzzel', 'puzzle'], ['qysmia', 'miasma'], ['ibrance', 'vibrancy'], ['victorza', 'Victoria'], ['reclipsen', 'eclipse'], ['snris', 'saris'], ['diarhoea', 'diarrhea'], ['clarythromycin', 'erythromycin'], ['clarythormycin', 'erythromycin'], ['opoids', 'ovoids'], ['miralax', 'admiral'], ['metamucil', 'Metamucil'], ['unprotectes', 'unprotected'], ['pregrant', 'pregnant'], ['immidietly', 'imminently'], ['pantyliner', 'pantyliner'], ['dulera', 'dueler'], ['sinuitis', 'sinusitis'], ['exersice', 'exercise'], ['axiron', 'ax iron'], ['testim', 'testis'], ['androgel', 'androgen'], ['zomig', 'zombie'], ['vyvanse', 'Evans'], ['solodyn', 'Solomon'], ['bdd', 'dd'], ['victoza', 'Victoria'], ['didnt', 'dint'], ['fow', 'foe'], ['birthcontrol', 'birth control'], ['pcos', 'cos'], ['cognitives', 'cognitive'], ['ressonation', 'resignation'], ['pristiq', 'pristine'], ['temazapam', 'temperament'], ['precum', 'precursor'], ['implanon', 'implant'], ['mobic', 'Mobil'], ['bextra', 'extra'], ['evoxac', 'evacuee'], ['opthomologist', 'ophthalmologist'], ['fetzima', 'Heifetz'], ['doseage', 'dosage'], ['irretiable', 'irretrievable'], ['hsv', 'VHS'], ['metforming', 'met forming'], ['onglyza', 'spangly'], ['maxalt', 'max alt'], ['ziana', 'Diana'], ['ssri', 'sirs'], ['nystatin', 'satiny'], ['neosporin', 'sportiness'], ['viibryd', 'vibratory'], ['pmdd', 'pm dd'], ['concerta', 'concerts'], ['havet', 'have'], ['bydureon', 'burgeon'], ['ocd', 'cod'], ['dermatillomania', 'dermatological'], ['zydus', 'dusty'], ['definalty', 'definable'], ['levothroid', 'throttled'], ['aptiom', 'adaption'], ['doxcy', 'doxology'], ['elidel', 'elide'], ['nuva', 'nova'], ['monistat', 'monist at'], ['metronidazoles', 'metropolises'], ['insipidus', 'insipid us'], ['geodon', 'geode'], ['nuvigil', 'nu vigil'], ['avelox', 'ave lox'], ['houseshoes', 'horseshoes'], ['ibupropen', 'ibuprofen'], ['straterra', 'strategist'], ['manicness', 'mannishness'], ['sandoz', 'sand oz'], ['zinic', 'zinc'], ['niva', 'nova'], ['wasnt', 'wast'], ['anastozole', 'Anatole'], ['linzess', 'silliness'], ['chloraseptic', 'chloroplast'], ['suprep', 'supper'], ['duragesic', 'discourage'], ['loritab', 'irritably'], ['nardil', 'Dillard'], ['opana', 'panama'], ['anxieyy', 'anxiety'], ['pedunctulated', 'punctuated'], ['aubra', 'aura'], ['levora', 'Lenora'], ['doesnt', \"doesn't\"], ['guildess', 'guilders'], ['blisovi', 'bliss'], ['personailty', 'personality'], ['augmfnyin', 'Augustinian'], ['hasnt', 'hast'], ['tirosint', 'frosting'], ['armour', 'Armour'], ['cytomel', 'comely'], ['orsythia', 'forsythia'], ['ocella', 'Ascella'], ['unfortonately', 'unfortunately'], ['dialated', 'dilated'], ['medicational', 'medication'], ['dibilitating', 'debilitating'], ['ribavarin', 'Bavarian'], ['sovaldi', 'Vivaldi'], ['victrelis', 'trellis'], ['istarted', 'started'], ['reglar', 'regular'], ['orthotricyclen', 'orthographically'], ['hrt', 'hr'], ['aderrall', 'deferral'], ['emend', 'emend'], ['orthovisc', 'orthopedist'], ['peazy', 'peaty'], ['rapaflo', 'Flora'], ['vengenance', 'vengeance'], ['anapurirnol', 'Annapurna'], ['paragard', 'paragraph'], ['bonine', 'boning'], ['soboxone', 'Sorbonne'], ['chokingness', 'choosiness'], ['vistaril', 'militarist'], ['anxiery', 'anxiety'], ['vistiral', 'antiviral'], ['robitussin', 'Robitussin'], ['fiorinal', 'original'], ['cyclen', 'cycle'], ['colazal', 'collateral'], ['contave', 'centavo'], ['wwii', 'WWII'], ['restoril', 'restorer'], ['dalmane', 'Magdalene'], ['lopressor', 'oppressor'], ['iid', 'ii'], ['mylan', 'Dylan'], ['generess', 'DeGeneres'], ['cycen', 'ency'], ['pepto', 'pesto'], ['obgyn', 'Robyn'], ['keppra', 'Kepler'], ['rozerem', 'Rozelle'], ['remicade', 'academical'], ['aciphex', 'cipher'], ['dexilant', 'defoliant'], ['uncontrolable', 'uncontrollable'], ['biplar', 'bipolar'], ['atavin', 'attain'], ['metoprorlol', 'meteorology'], ['sprycel', 'spryness'], ['gleevec', 'sleeve'], ['havjng', 'having'], ['papulopustular', 'pustular'], ['monodox', 'monody'], ['avonex', 'Lavonne'], ['alesse', 'legalese'], ['imdur', 'immure'], ['chantix', 'chant ix'], ['egrave', 'grave'], ['intraverts', 'introverts'], ['dulcolax', 'dullard'], ['ssris', 'saris'], ['necon', 'neon'], ['nortrel', 'northerly'], ['ovral', 'oval'], ['bydueron', 'Oberon'], ['ptsd', 'Potsdam'], ['quasense', 'qua sense'], ['realise', 'realist'], ['recognise', 'recognize'], ['simponi', 'Simpson'], ['protaste', 'prostate'], ['supartz', 'superstar'], ['euflexxa', 'flexible'], ['dramamine', 'Dramamine'], ['seasonique', 'seasoning'], ['dvt', 'advt'], ['junel', 'June'], ['copaxone', 'Coppertone'], ['atarax', 'Ararat'], ['brentellix', 'belligerent'], ['citolopram', 'chiropractor'], ['champix', 'champ ix'], ['femhrt', 'femur'], ['hashimotos', 'Hiroshima'], ['levothyroxin', 'hypothyroid'], ['supressant', 'suppressant'], ['nucynta', 'Cynthia'], ['cancelled', 'canceled'], ['catherised', 'catheterized'], ['duodart', 'duo dart'], ['ozing', 'zing'], ['mirapex', 'mirage'], ['uribel', 'Uriel'], ['brachycardia', 'tachycardia'], ['tagamet', 'gamete'], ['esbl', 'es bl'], ['estrin', 'restring'], ['rocephin', 'rhinoceros'], ['lortabs', 'portables'], ['invokanna', 'invoke'], ['asperin', 'aspirin'], ['ibuprofin', 'ibuprofen'], ['januvia', 'January'], ['amannoyed', 'am annoyed'], ['depession', 'depression'], ['hyclate', 'lychgate'], ['dependancies', 'dependencies'], ['schpeel', 'sch peel'], ['simmilar', 'similar'], ['estadiol', 'radiologist'], ['vyvase', 'vase'], ['invuniv', 'uninviting'], ['doct', 'dict'], ['halobetasol', 'globetrotter'], ['intermitant', 'intermittent'], ['hhv', 'HHS'], ['ebv', 'ebb'], ['drysol', 'dry sol'], ['acetometophine', 'acetaminophen'], ['alavert', 'palaver'], ['rasuvo', 'erasure'], ['orencia', 'Oregonian'], ['humeria', 'humeri'], ['rexulti', 'exultation'], ['proctofoam', 'proctor'], ['licence', 'license'], ['iliotibial', 'tibial'], ['humira', 'humidor'], ['midrin', 'midrib'], ['epidrin', 'intrepid'], ['isometheptene', 'methamphetamine'], ['isometh', 'sometime'], ['apap', 'papa'], ['zydis', 'dishy'], ['duac', 'dual'], ['sebacious', 'sebaceous'], ['diarrhoea', 'diarrhea'], ['mangable', 'man gable'], ['sharobel', 'shareable'], ['vagifem', 'vaginae'], ['diskus', 'disks'], ['alvesco', 'coalesce'], ['nilstat', 'nil stat'], ['rexetin', 'retinue'], ['fluonxol', 'fluorine'], ['diph', 'dip'], ['neupogen', 'Neogene'], ['wbc', 'BBC'], ['neulasta', 'neutralist'], ['imigran', 'immigrant'], ['minastrin', 'ministrant'], ['differin', 'differing'], ['boniva', 'Bonita'], ['processe', 'process'], ['crampier', 'campier'], ['healthtrap', 'health trap'], ['puva', 'puma'], ['stelara', 'stellar'], ['rsd', 'rad'], ['mrgs', 'megs'], ['perscride', 'superscribe'], ['batttling', 'battling'], ['clarisonic', 'clarion'], ['atralin', 'ratline'], ['bobbi', 'Bobbi'], ['loryna', 'Lorna'], ['crestor', 'creator'], ['biotene', 'biotech'], ['diffuctly', 'difficultly'], ['flactuating', 'fluctuating'], ['dehabiliting', 'rehabilitating'], ['kkidney', 'kidney'], ['neupro', 'prone'], ['zeneca', 'Seneca'], ['atacand', 'cantata'], ['xyrem', 'xylem'], ['palegic', 'pelagic'], ['stadol', 'standout'], ['signority', 'signori'], ['atripla', 'triplicate'], ['atrilpla', 'trilateral'], ['undectetable', 'undetectable'], ['kapvay', 'kappa'], ['frova', 'fr ova'], ['yasss', 'sassy'], ['cozaar', 'bazaar'], ['snri', 'sari'], ['apri', 'pair'], ['ellaone', 'salmonella'], ['exceppt', 'except'], ['hysingla', 'isinglass'], ['breakthru', 'break thru'], ['tudorza', 'Tudor'], ['myelogenous', 'endogenous'], ['tasinga', 'tasting'], ['endur', 'under'], ['dupixent', 'DuPont'], ['repatha', 'repatriate'], ['tsh', 'ts'], ['mylytis', 'myelitis'], ['femara', 'female'], ['matastasized', 'metastasized'], ['midol', 'idol'], ['rheumothogist', 'ornithologist'], ['neasea', 'unease'], ['judgement', 'judgment'], ['primatene', 'primate'], ['absessed', 'abscessed'], ['clonazapam', 'monoclonal'], ['emergen', 'emerge'], ['voltaren', 'Voltaire'], ['sporanox', 'sporran'], ['lifesavor', 'lifesaver'], ['uloric', 'caloric'], ['imodium', 'Imodium'], ['staten', 'Staten'], ['zovia', 'jovial'], ['ondancetron', 'nonattendance'], ['avastin', 'avast in'], ['temodar', 'moderate'], ['overhwelmed', 'overwhelmed'], ['progrogressed', 'progressed'], ['exascerbate', 'exacerbate'], ['abcessed', 'abscessed'], ['sjw', 'SJW'], ['rythmol', 'rhythm'], ['toporal', 'top oral'], ['naseous', 'nauseous'], ['guestioned', 'questioned'], ['janaury', 'January'], ['bioxen', 'boxen'], ['colonoscoby', 'colonoscopy'], ['ruconest', 'construct'], ['berinert', 'Berliner'], ['firazyr', 'Frazier'], ['emsam', 'ems am'], ['respirodone', 'respiration'], ['proxac', 'Prozac'], ['forfivo', 'forfeit'], ['risperidal', 'spermicidal'], ['astelin', 'stateliness'], ['xalcori', 'caloric'], ['zyvox', 'Yvonne'], ['citalapram', 'capitalism'], ['actavis', 'activist'], ['doryx', 'dory'], ['kyleena', 'Keenan'], ['toujeo', 'toupee'], ['clonopin', 'clopping'], ['reglan', 'raglan'], ['suttons', 'buttons'], ['tindamax', 'tamarind'], ['metrogel', 'metro gel'], ['ocurrence', 'occurrence'], ['flecanide', 'cyanide'], ['lozartan', 'tartan'], ['ovace', 'ovate'], ['nizoral', 'horizontal'], ['loprox', 'Clorox'], ['secobarbital', 'phenobarbital'], ['seconal', 'Seconal'], ['benzodiapines', 'Benedictines'], ['dka', 'ska'], ['endocronologist', 'endocrinologist'], ['glyxambi', 'Gambia'], ['isentress', 'resentment'], ['truvada', 'Theravada'], ['kerydin', 'keratin'], ['ampyra', 'ramp'], ['tingeling', 'tingeing'], ['beteeen', 'between'], ['colcrys', 'colorways'], ['sbout', 'about'], ['disibility', 'disability'], ['amytripyline', 'pantyliner'], ['malarone', 'Malone'], ['tanzania', 'Tanzania'], ['nerologist', 'neurologist'], ['carosel', 'carousel'], ['velivet', 'velvet'], ['cosentyx', 'consent'], ['stellara', 'stellar'], ['otezela', 'elaborate'], ['benedryl', 'benedictory'], ['vegitative', 'vegetative'], ['beyaz', 'bey'], ['sinisitis', 'sinusitis'], ['otezla', 'hotplate'], ['gildess', 'gilders'], ['lighthead', 'light head'], ['clamy', 'clam'], ['vimovo', 'Asimov'], ['zipsor', 'zips or'], ['uping', 'ping'], ['spiriva', 'spiritual'], ['boehringer', 'herringbone'], ['ingelheim', 'Guggenheim'], ['savella', 'slave'], ['stribild', 'distribute'], ['gilead', 'Gilead'], ['ezitimibe', 'legitimize'], ['janurary', 'January'], ['symbicort', 'symbiotic'], ['esophaguel', 'esophagus'], ['estrace', 'es trace'], ['xolair', 'Clairol'], ['weekely', 'weekly'], ['paragrad', 'para grad'], ['vesicare', 'vesicular'], ['gerd', 'herd'], ['kapidex', 'okapi'], ['lomotil', 'motile'], ['sporatically', 'sporadically'], ['immodium', 'Imodium'], ['schitsoaffective', 'effectiveness'], ['dissorder', 'disorder'], ['clozaril', 'Carrillo'], ['akathesia', 'anesthesia'], ['doxy', 'foxy'], ['flaura', 'fl aura'], ['backw', 'back'], ['narcan', 'narc an'], ['myrbetriq', 'belletrist'], ['sle', 'tile'], ['nsaids', 'gainsaid'], ['placquenil', 'placental'], ['mmy', 'mm'], ['comodegenic', 'incommode'], ['benzalkonium', 'pandemonium'], ['orthoevra', 'orthography'], ['zombinal', 'binomial'], ['nexplannon', 'explanation'], ['seraquel', 'Raquel'], ['polydrugged', 'poly drugged'], ['rhofade', 'rho fade'], ['dermatologies', 'dermatologist'], ['ezcema', 'eczema'], ['bactroban', 'Bactria'], ['medicaton', 'medication'], ['affter', 'after'], ['afteri', 'after'], ['ribarvarin', 'Bavarian'], ['oster', 'roster'], ['estarylla', 'Estella'], ['neurologyst', 'neurologist'], ['prevpac', 'prepacked'], ['kenalog', 'analogue'], ['medrol', 'Demerol'], ['oxys', \"ox's\"], ['mgx', 'mg'], ['fastin', 'fasting'], ['hydroxycut', 'hydroxide'], ['immmmmm', 'immure'], ['alil', 'all'], ['feeln', 'feel'], ['lialda', 'Dalian'], ['claravis', 'Clarissa'], ['sklice', 'slice'], ['sklya', 'skylark'], ['psudotumor', 'tumorous'], ['toprimate', 'to primate'], ['diamox', 'diam ox'], ['clinpro', 'Clinton'], ['lopid', 'lipid'], ['moisturiser', 'moisturizer'], ['cataflam', 'catafalque'], ['microgestin', 'progestin'], ['trinessna', 'paltriness'], ['mircette', 'micrometer'], ['zelapar', 'apparel'], ['cryselle', 'crystalline'], ['unisom', 'unison'], ['junal', 'Juvenal'], ['zoladex', 'accolade'], ['ibuproprin', 'ibuprofen'], ['clarinex', 'clarinet'], ['forteo', 'footer'], ['abreva', 'abbrev'], ['moviprep', 'moviegoer'], ['sudafed', 'Sudanese'], ['lymphangiomatosis', 'myxomatosis'], ['fungul', 'fungus'], ['bismol', 'embolism'], ['remifemin', 'reminder'], ['estroven', 'estrogen'], ['albolene', 'whalebone'], ['restfull', 'restful'], ['cpap', 'cap'], ['abalation', 'ablation'], ['delcegis', 'deliquesce'], ['diahrrea', 'diarrhea'], ['unasisted', 'unassisted'], ['iga', 'Riga'], ['marplan', 'mar plan'], ['antidepressent', 'antidepressant'], ['trulance', 'truculence'], ['timesbefore', 'times before'], ['prepopkit', 'preposition'], ['mickelson', 'Michelson'], ['xday', 'day'], ['microgestion', 'microaggression'], ['colouring', 'coloring'], ['colourings', \"coloring's\"], ['zubsolv', 'absolve'], ['zubs', 'subs'], ['zubsolvs', 'absolves'], ['blead', 'bled'], ['forxiga', 'forgave'], ['levelled', 'leveled'], ['treseba', 'trespasser'], ['nexoplan', 'exoplanet'], ['oracea', 'Horace'], ['vistarel', 'vista rel'], ['provigil', 'pro vigil'], ['adderal', 'adder'], ['showe', 'whose'], ['wyeth', 'Wyeth'], ['enbrel', 'greenbelt'], ['rolaids', 'Rolaids'], ['crohns', 'croons'], ['limitrol', 'limitation'], ['texansplus', 'Texans'], ['mylanta', 'Atalanta'], ['prescibed', 'prescribed'], ['ccure', 'cure'], ['percocets', 'percents'], ['percs', 'pervs'], ['limbrel', 'timbrel'], ['vilolently', 'violently'], ['sronyx', 'onyx'], ['diverticulitus', 'diverticulitis'], ['adbomen', 'abdomen'], ['nausous', 'nauseous'], ['diahrea', 'diarrhea'], ['zenzedi', 'bedizen'], ['protonix', 'proton ix'], ['cocodamol', 'Damocles'], ['benzodiazepan', 'Benzedrine'], ['invega', 'inveigle'], ['sustenna', 'sustenance'], ['tgel', 'tel'], ['doloxtine', 'dolomite'], ['serzone', 'sermonize'], ['nessa', 'Tessa'], ['gildesse', 'gilder'], ['licrogel', 'Rogelio'], ['appitite', 'appetite'], ['ceftin', 'chieftain'], ['accollades', 'accolades'], ['acebutolol', 'tautological'], ['sectral', 'spectral'], ['monstat', 'Monsanto'], ['cloting', 'cloying'], ['headaces', 'headaches'], ['potentally', 'potentially'], ['effexorxr', 'efferent'], ['ibruprofen', 'ibuprofen'], ['colace', 'solace'], ['phenergen', 'energetic'], ['zzzquil', 'quizzical'], ['cadilac', 'Cadillac'], ['dbt', 'db'], ['coloured', 'colored'], ['tamfilu', 'Tamil'], ['invokamet', 'involvement'], ['whrn', 'when'], ['antidepressents', 'antidepressants'], ['remeron', 'Emerson'], ['contrace', 'contract'], ['oxytrol', 'trolley'], ['chrondroitin', 'mitochondrion'], ['endocet', 'docent'], ['lightend', 'lightens'], ['lightley', 'lightly'], ['paraguard', 'para guard'], ['mucinex', 'leucine'], ['roaccutane', 'cutaneous'], ['retroverted', 'extroverted'], ['ppgyno', 'penology'], ['eniemic', 'endemic'], ['xulane', 'Tulane'], ['raptiva', 'captivator'], ['mircale', 'miracle'], ['mestinon', 'estimation'], ['cellcept', 'cellmate'], ['decemeber', 'December'], ['imediallty', 'multimedia'], ['plaqueing', 'appliqueing'], ['derealization', 'federalization'], ['chundered', 'sundered'], ['nandos', 'nanosecond'], ['transderm', 'transgender'], ['scop', 'sop'], ['dreamt', 'dreamy'], ['seasonale', 'seasonal'], ['generalised', 'generalized'], ['attcks', 'attacks'], ['apidex', 'vapid'], ['raynaud', 'Maynard'], ['oab', 'ob'], ['singulair', 'singular'], ['efexxor', 'exorcise'], ['wellbrutrin', 'wellspring'], ['zombi', 'zombie'], ['fentora', 'tormentor'], ['ciprofloxicin', 'proficiency'], ['susprised', 'surprised'], ['kadian', 'Canadian'], ['diazapan', 'diapason'], ['restauraunt', 'restaurant'], ['janumet', 'Janette'], ['norcs', 'corns'], ['roxys', 'Roxy'], ['efudex', 'exude'], ['clobex', 'clobber'], ['olux', 'flux'], ['forgetfullness', 'forgetfulness'], ['entex', 'enter'], ['citalpram', 'malpractice'], ['drixoral', 'oratorical'], ['uncontrallably', 'uncontrollably'], ['periungal', 'perinatal'], ['hctz', 'hertz'], ['insterted', 'inserted'], ['roxi', 'Roxie'], ['veramyst', 'ceramist'], ['levemir', 'leveler'], ['flextouch', 'flex touch'], ['carbatrol', 'barcarole'], ['zelnorm', 'normalize'], ['ematrol', 'patrolman'], ['untolerable', 'intolerable'], ['belvid', 'believed'], ['leptiburn', 'perceptible'], ['lysteda', 'steadily'], ['greaat', 'great'], ['ekg', 'EKG'], ['catheterising', 'catheterizing'], ['methotraxate', 'methotrexate'], ['vyvnase', 'Vaseline'], ['fibromylgia', 'fibrillation'], ['vigamox', 'bigamous'], ['behaviour', 'behavior'], ['valdoxan', 'Moldovan'], ['roxy', 'Roxy'], ['socialising', 'socializing'], ['vyvance', 'Vance'], ['kariva', 'Kari'], ['genvoya', 'voyage'], ['cylen', 'xylene'], ['brintellix', 'intelligible'], ['favourable', 'favorable'], ['psorasis', 'psoriasis'], ['statred', 'started'], ['diarrhe', 'diarrhea'], ['cosyntex', 'coexistent'], ['loseasonique', 'nonseasonal'], ['tmj', 'Tm'], ['actemra', 'character'], ['aigust', 'august'], ['neurotin', 'neurotic'], ['vimpat', 'vim pat'], ['xeljanz', 'Janelle'], ['proventil', 'proven til'], ['zanex', 'Zane'], ['fetanyl', 'fetal'], ['hemicrania', 'bohemianism'], ['ciggs', 'Riggs'], ['detetmine', 'determine'], ['microgynon', 'microbiology'], ['vicoprofen', 'ibuprofen'], ['vantin', 'van tin'], ['silenor', 'silencer'], ['symptomolgy', 'symptomatic'], ['trintellix', 'intelligent'], ['partical', 'partial'], ['costentyx', 'coexistent'], ['embril', 'embroil'], ['exczema', 'eczema'], ['fianally', 'finally'], ['aubagio', 'Baguio'], ['curreny', 'current'], ['dependant', 'dependent'], ['takining', 'taking'], ['doppiness', 'dopiness'], ['pallindromic', 'palindromic'], ['imuran', 'uranium'], ['pancriatitis', 'pancreatitis'], ['stendra', 'Stendhal'], ['movantik', 'motivation'], ['safyral', 'sassafras'], ['enskyce', 'Kerensky'], ['breo', 'bro'], ['treelimb', 'tree limb'], ['medtronics', 'electronics'], ['primatine', 'primate'], ['azmacort', 'Cormack'], ['fluxuates', 'fluctuates'], ['parnate', 'paternal'], ['pennsaid', 'gainsaid'], ['moxikind', 'monoxide'], ['saxsenda', 'Sendai'], ['refridgerated', 'refrigerated'], ['ccontrol', 'control'], ['chromea', 'chromes'], ['splenda', 'splendid'], ['symbacort', 'symbiotic'], ['movantic', 'romantic'], ['carbegoline', 'Caroline'], ['wiiiide', 'wide'], ['roxicodone', 'periodontics'], ['opcicon', 'iconic'], ['biodentical', 'nonidentical'], ['vivelle', 'Melville'], ['novartis', 'Novartis'], ['estradot', 'Estrada'], ['lizness', 'lioness'], ['benzotropine', 'Ribbentrop'], ['anklosing', 'Sinkiang'], ['hypomaniac', 'hypo maniac'], ['requip', 'equip'], ['foresta', 'forests'], ['dermatographism', 'dermatologist'], ['phenobarbitol', 'phenobarbital'], ['mebaral', 'Aldebaran'], ['phenobarb', 'phenobarbital'], ['labelled', 'labeled'], ['convultions', 'convulsions'], ['boby', 'bony'], ['illnessess', 'illnesses'], ['headach', 'headache'], ['activie', 'active'], ['generalise', 'generalist'], ['viread', 'vi read'], ['cerave', 'crave'], ['synvisc', 'synopsis'], ['prp', 'ppr'], ['wiithdrawing', 'withdrawing'], ['deppression', 'depression'], ['taltz', 'waltz'], ['simpthoms', 'symptoms'], ['simptomatic', 'symptomatic'], ['lyza', 'lazy'], ['rivaroxiban', 'riverbank'], ['deppresion', 'depression'], ['amethia', 'thiamine'], ['usaf', 'USAF'], ['campral', 'camper'], ['alchoholics', 'alcoholics'], ['naseau', 'nausea'], ['coveri', 'cover'], ['velcade', 'cavalcade'], ['revlimid', 'relieved'], ['jantoven', 'covenant'], ['unprotective', 'unproductive'], ['lifesavior', 'life savior'], ['falmina', 'alumina'], ['laminotomy', 'lamination'], ['gabapention', 'abstention'], ['aromasin', 'aroma sin'], ['incertion', 'insertion'], ['akasthesia', 'anesthesia'], ['azithromyocin', 'erythromycin'], ['portia', 'Portia'], ['esitalo', 'hesitate'], ['xarelto', 'Realtor'], ['consta', 'cons ta'], ['arthrotec', 'arthroscope'], ['lotrel', 'lot rel'], ['dymista', 'mistake'], ['klonopan', 'monoplane'], ['adzenys', 'adzes'], ['tysabri', 'Sabrina'], ['proair', 'pro air'], ['unjudicious', 'injudicious'], ['salycic', 'salacity'], ['clusterers', 'blusterers'], ['teva', 'tea'], ['docter', 'doter'], ['silodocin', 'Mendocino'], ['niaspan', 'Spaniard'], ['hashimoto', 'hashish'], ['minomycin', 'Aureomycin'], ['platteau', 'plateau'], ['metropolol', 'metropolis'], ['travelling', 'traveling'], ['dermadew', 'madder'], ['walgreen', 'Walgreen'], ['tanna', 'manna'], ['otcl', 'clot'], ['diarrhrea', 'diarrhea'], ['clonezapam', 'anticyclone'], ['lidoderm', 'echinoderm'], ['pscyh', 'psych'], ['levlen', 'eleven'], ['robaxin', 'Robbin'], ['cyclonenzapine', 'anticyclone'], ['fortesta', 'fortes ta'], ['allergan', 'allergen'], ['smooties', 'smooches'], ['hydrocodoine', 'hydrophone'], ['interdose', 'interpose'], ['claritin', 'clarinet'], ['tabitha', 'Tabitha'], ['dabrafenib', 'abracadabra'], ['mekinist', 'minister'], ['pmsing', 'posing'], ['gottten', 'gotten'], ['dizzyness', 'dizziness'], ['duavee', 'suave'], ['shovered', 'shivered'], ['progestrin', 'progestin'], ['optom', 'op tom'], ['irritiation', 'irritation'], ['vagasil', 'Silva'], ['vagisal', 'vaginal'], ['gehrig', 'Gehrig'], ['piraformis', 'reformists'], ['epipen', 'Pepin'], ['medicater', 'medicate'], ['epipens', 'pigpens'], ['diazapam', 'diapason'], ['hypertriglycerides', 'hyper triglycerides'], ['vascepa', 'vascular'], ['hbp', 'hp'], ['lowestrin', 'floweriness'], ['minstarin', 'instar'], ['amitrypraline', 'trampoline'], ['cytemel', 'telemetry'], ['ldl', 'll'], ['zetia', 'zeta'], ['bincar', 'bin car'], ['hct', 'jct'], ['aspercreme', 'Asperger'], ['criteque', 'critique'], ['librax', 'Libra'], ['bentyl', 'benzyl'], ['donnatal', 'don natal'], ['stabilise', 'stabilize'], ['spastisity', 'sparsity'], ['deteriation', 'deterioration'], ['fiorecet', 'forecourt'], ['vagotinic', 'antagonistic'], ['dmards', 'mansards'], ['hypomagnesia', 'hypo magnesia'], ['hypercholerstolemia', 'hyperglycemia'], ['nulytely', 'untimely'], ['poreless', 'pore less'], ['avanza', 'Havana'], ['naprelan', 'precancel'], ['impalanon', 'impala non'], ['concieving', 'conceiving'], ['colour', 'color'], ['naproven', 'provenance'], ['prolia', 'prolix'], ['vitd', 'vied'], ['actvive', 'active'], ['tivicay', 'captivity'], ['epivir', 'epicure'], ['benztropine', 'Benzedrine'], ['aquaphor', 'aphorism'], ['cloderm', 'clodhopper'], ['mononessa', 'monotonousness'], ['relpax', 'relax'], ['diahrreaing', 'heartrending'], ['violere', 'viol ere'], ['halfed', 'haled'], ['invokana', 'invoke'], ['glimerpride', 'glimmering'], ['oxiplatin', 'plating'], ['tricare', 'caricature'], ['enjuvia', 'Peruvian'], ['prevefim', 'preventive'], ['proactiv', 'proactive'], ['neutrogena', 'neutron'], ['oblasion', 'oblation'], ['involutarily', 'involuntarily'], ['jizzed', 'jazzed'], ['cotin', 'coin'], ['nodoz', 'no doz'], ['dls', 'ls'], ['tenormin', 'tenor min'], ['atenenol', 'neaten'], ['atenol', 'latent'], ['zarah', 'Sarah'], ['astepro', 'roaster'], ['fluconase', 'fluctuation'], ['trileptal', 'trilateral'], ['experieced', 'experienced'], ['glaxo', 'Glaxo'], ['glimepride', 'glimmering'], ['ambian', 'Gambian'], ['ivig', 'vigil'], ['cimzia', 'cilia'], ['thumsup', 'thump'], ['praluent', 'prevalent'], ['dexedrine', 'Dexedrine'], ['cylert', 'Tyler'], ['microtabs', 'micro tabs'], ['workingggggg', 'woodworking'], ['yussss', 'wussy'], ['worksssssss', 'workshops'], ['capzasin', 'capeskin'], ['goury', 'gouty'], ['orthro', 'Northrop'], ['bronchospasms', 'bronchitis'], ['fibromylagia', 'fibrillation'], ['xeralto', 'Realtor'], ['roseacea', 'roseate'], ['mirvaso', 'vasomotor'], ['rrs', 'res'], ['nalteroxe', 'alternate'], ['ecided', 'decided'], ['thitd', 'third'], ['interstim', 'interstice'], ['cenestin', 'Ernestine'], ['censtin', 'instinct'], ['reveiws', 'reviews'], ['hga', 'hag'], ['namenda', 'Ndjamena'], ['sunpharma', 'pharmacist'], ['orthotricylcen', 'ethnocentric'], ['discoloured', 'discolored'], ['eliquix', 'liquidize'], ['eliquis', 'cliquish'], ['suggestes', 'suggested'], ['tizandine', 'celandine'], ['amlodopine', 'dopamine'], ['mrsa', 'mesa'], ['nonprocessed', 'non processed'], ['huperzin', 'Couperin'], ['withgradually', 'with gradually'], ['depikote', 'deportee'], ['lamotrogine', 'mineralogist'], ['evoclin', 'evocation'], ['ppis', 'pips'], ['nexuim', 'nexus'], ['rajani', 'Iranian'], ['perephrial', 'peripheral'], ['hmo', 'HMO'], ['pregenancy', 'pregnancy'], ['pradaxa', 'Prada'], ['pml', 'pm'], ['canesten', 'canes ten'], ['previfem', 'preview'], ['azurette', 'azure'], ['viorele', 'Orville'], ['kapavy', 'kappa'], ['gabling', 'garbling'], ['cbt', 'ct'], ['counselling', 'counseling'], ['gablin', 'goblin'], ['nuedexta', 'extenuate'], ['fxs', 'fps'], ['hypercare', 'hyper care'], ['coffie', 'office'], ['tazorac', 'razorback'], ['entyvio', 'violent'], ['restperil', 'rest peril'], ['pyralin', 'praline'], ['mirt', 'mitt'], ['mirtzapine', 'mirthfulness'], ['mechnicial', 'mechanical'], ['qualitest', 'squalidest'], ['vasoline', 'gasoline'], ['letaris', 'Aristotle'], ['labour', 'labor'], ['cda', 'cad'], ['sedadting', 'sedating'], ['lessina', 'sinless'], ['phoenominal', 'phenomenal'], ['cetraban', 'trance'], ['camila', 'Camilla'], ['cyclene', 'cyclone'], ['mayyybe', 'maybe'], ['albuteral', 'butterball'], ['emts', 'ems'], ['pmd', 'pm'], ['paba', 'para'], ['ogestrel', 'kestrel'], ['serequel', 'sequel'], ['protopic', 'pro topic'], ['migranal', 'migrant'], ['prisiq', 'prissily'], ['neropathy', 'nephropathy'], ['pks', 'pk'], ['burny', 'burnt'], ['costocondritis', 'contortionist'], ['rigotitone', 'ringtone'], ['bumbs', 'numbs'], ['ilieum', 'ilium'], ['taytulla', 'tarantula'], ['diarohea', 'diarrhea'], ['relafen', 'relaxant'], ['sereve', 'severe'], ['obygn', 'bygone'], ['rebif', 'rebid'], ['supred', 'supped'], ['emotonal', 'emotional'], ['concerntration', 'concentration'], ['lathargic', 'lethargic'], ['diarhhea', 'diarrhea'], ['jeapordizing', 'jeopardizing'], ['denavir', 'debonair'], ['fasciculations', 'fascinations'], ['erthematous', 'housemother'], ['lymacycline', 'tetracycline'], ['dianette', 'dinette'], ['thaught', 'taught'], ['moodswings', 'mood swings'], ['cypro', 'Cypriot'], ['dyanavel', 'navel'], ['propanalol', 'proportional'], ['helena', 'Helena'], ['amaryl', 'mammary'], ['soolantra', 'transpolar'], ['pestosterone', 'testosterone'], ['privine', 'privilege'], ['lydocain', 'Novocain'], ['thearapist', 'therapist'], ['raynauds', 'marauds'], ['dember', 'ember'], ['dizz', 'fizz'], ['outway', 'outlay'], ['prefills', 'refills'], ['oseto', 'Seton'], ['cephexin', 'Cepheid'], ['mediciney', 'medicine'], ['ogyn', 'fogy'], ['hungry❤', 'hungry'], ['rheum', 'rheumy'], ['mtx', 'mt'], ['withmy', 'with my'], ['phlegmitis', 'phlebitis'], ['mucolytics', 'thrombolytic'], ['trivada', 'Trinidad'], ['sustiva', 'sustain'], ['ciallis', 'challis'], ['amnesteem', 'amnesty'], ['sprqodic', 'spasmodic'], ['apnoea', 'appease'], ['endstage', 'end stage'], ['bmy', 'by'], ['biopolar', 'bipolar'], ['conrave', 'concave'], ['otrivin', 'Motrin'], ['acetylcystein', 'acetylene'], ['hexal', 'heal'], ['weighthe', 'weigh the'], ['saxenta', 'Santana'], ['optifast', 'optimist'], ['excercize', 'mercerize'], ['eucerin', 'inducer'], ['boric', 'Doric'], ['vaginits', 'vaginas'], ['topomax', 'Appomattox'], ['avaine', 'Aventine'], ['sutent', 'stent'], ['metastities', 'metastasizes'], ['levorphanol', 'orphanage'], ['codone', 'codon'], ['codones', 'codons'], ['cherritussin', 'cheeriness'], ['anoro', 'Romano'], ['risperdone', 'spoonerism'], ['tarceva', 'tartaric'], ['imparing', 'impairing'], ['slightly\\u200b', 'slightly'], ['deppressed', 'depressed'], ['crampiness', 'creaminess'], ['urso', 'ours'], ['naproxyn', 'approx'], ['brintillex', 'brilliantine'], ['phenetermine', 'predeterminer'], ['suffere', 'suffer'], ['vasaline', 'Vaseline'], ['qvar', 'var'], ['nistatin', 'Stalinist'], ['therasol', 'thrasher'], ['oratec', 'orate'], ['celxa', 'Celia'], ['morining', 'morning'], ['diareah', 'diarrhea'], ['osteoarthrititis', 'osteoarthritis'], ['celebrix', 'celebrity'], ['senerio', 'Senior'], ['hydrozyzine', 'hydrolyze'], ['i️', 'i'], ['amoxicillan', 'amoxicillin'], ['guafenesin', 'genuineness'], ['sertralin', 'neutralist'], ['tiva', 'vita'], ['myrbetrig', 'trigonometry'], ['desogen', 'Diogenes'], ['spiralling', 'spiraling'], ['ajust', 'just'], ['paulsey', 'Pauline'], ['superprep', 'super prep'], ['desitin', 'destine'], ['nyquil', 'NyQuil'], ['rituxan', 'ritual'], ['cellulitus', 'cellulitis'], ['mevecor', 'evermore'], ['zocor', 'Socorro'], ['setraline', 'tramlines'], ['memetisone', 'sometime'], ['scaley', 'scale'], ['hhalf', 'half'], ['bledding', 'bedding'], ['polystic', 'polys tic'], ['ejeculation', 'ejaculation'], ['flacid', 'flaccid'], ['nauseousness', 'nauseousness'], ['nonsteriodal', 'nonstarter'], ['tenuate', 'attenuate'], ['zyclara', 'Clara'], ['mohls', 'moils'], ['hba', 'ha'], ['wellish', 'hellish'], ['trilipix', 'Tripoli'], ['glypizide', 'hieroglyph'], ['glucotrol', 'glucose'], ['truelicity', 'electricity'], ['hearburn', 'heartburn'], ['alka', 'aka'], ['prestiq', 'prestige'], ['panlor', 'parlor'], ['tmi', 'ti'], ['viibyrd', 'vineyard'], ['avinza', 'avian'], ['curanail', 'curtail'], ['methadones', 'methadone'], ['metamosone', 'metamorphose'], ['vectical', 'vertical'], ['vitroza', 'vitriol'], ['triger', 'trier'], ['diptession', 'dispossession'], ['quaetepine', 'quarantine'], ['splited', 'spited'], ['experiensed', 'experienced'], ['welchol', 'welcome'], ['norcos', 'nor cos'], ['butran', 'outran'], ['cuased', 'caused'], ['saviour', 'savior'], ['phenoxymethyl', 'phenomenology'], ['unbareable', 'unbearable'], ['norplant', 'Norplant'], ['zohydro', 'hydro'], ['baddddd', 'badder'], ['citaprolam', 'citronella'], ['flakyness', 'flakiness'], ['flavour', 'flavor'], ['trd', 'ted'], ['lochia', 'Lochinvar'], ['gleason', 'Gleason'], ['hifu', 'whiff'], ['lexy', 'sexy'], ['minimise', 'minimize'], ['antid', 'antis'], ['quinicrine', 'quinine'], ['planus', 'plans'], ['percosets', 'cossets'], ['corrolate', 'correlate'], ['vicidin', 'vicing'], ['evamist', 'ceramist'], ['provigal', 'prodigal'], ['tireness', 'tiredness'], ['tradjenta', 'tradesmen'], ['methylin', 'methyl in'], ['progvigl', 'prodigal'], ['acyanya', 'cyan'], ['clindesse', 'clandestine'], ['vyvanase', 'Varanasi'], ['hbc', 'HSBC'], ['mirana', 'marina'], ['menstral', 'menstrual'], ['sibo', 'silo'], ['gabatin', 'abating'], ['myrbetric', 'symmetric'], ['tricyclen', 'tricycle'], ['lovaza', 'lovably'], ['omacor', 'Cormack'], ['oleptro', 'petrol'], ['gianvi', 'Vivian'], ['babylessness', 'blamelessness'], ['mefanamic', 'Americana'], ['wieghed', 'weighed'], ['differwnt', 'different'], ['cambell', 'cam bell'], ['hypnic', 'hypnotic'], ['ortezla', 'Ortega'], ['galbladder', 'gallbladder'], ['inplanted', 'implanted'], ['testin', 'testing'], ['heighest', 'highest'], ['cardioversions', 'cardio versions'], ['opdivo', 'divot'], ['siliq', 'silica'], ['metadate', 'metadata'], ['percribed', 'cribbed'], ['haplate', 'ha plate'], ['clenser', 'censer'], ['panoxyl', 'panoply'], ['epzicom', 'epitomize'], ['rayataz', 'razzmatazz'], ['norvir', 'Irvin'], ['prezcobix', 'prezzie'], ['micardis', 'pericarditis'], ['reviewd', 'reviews'], ['nexplenon', 'nonexplosive'], ['itremoved', 'it removed'], ['goodys', 'goody'], ['decadron', 'Calderon'], ['acanya', 'canny'], ['sitavig', 'visitant'], ['lamictol', 'calamitous'], ['rdy', 'dry'], ['analysed', 'analyses'], ['attacs', 'attacks'], ['jears', 'hears'], ['sympthomes', 'symptoms'], ['naussea', 'nausea'], ['weard', 'wears'], ['genarally', 'generally'], ['pantyliners', 'pantyliner'], ['venafaxaline', 'adrenaline'], ['salax', 'salad'], ['correctol', 'corrector'], ['listerine', 'Listerine'], ['hcv', 'CV'], ['anaemia', 'anemia'], ['biofreeze', 'bio freeze'], ['iuds', 'ids'], ['hla', 'ha'], ['medtronic', 'electronic'], ['tegaderm', 'megadeath'], ['nuycynta', 'Cynthia'], ['grey', 'Grey'], ['contins', 'contains'], ['murad', 'mural'], ['vetlin', 'Ventolin'], ['neutragena', 'neutralize'], ['psoriosis', 'psoriasis'], ['microgestrin', 'microbiologist'], ['ibuprofel', 'ibuprofen'], ['casodex', 'cascade'], ['atavan', 'Atalanta'], ['nasonex', 'seasoned'], ['fiorcet', 'Condorcet'], ['treximet', 'extreme'], ['pnd', 'pd'], ['anixety', 'anxiety'], ['salofalk', 'Salonika'], ['salofalks', 'falloffs'], ['falopian', 'Fallopian'], ['flozin', 'florin'], ['millimetre', 'millimeter'], ['aleese', 'legalese'], ['footdrop', 'foot drop'], ['rrms', 'rems'], ['contstipation', 'constipation'], ['zoplicone', 'silicone'], ['dangereous', 'dangerous'], ['intercouse', 'intercourse'], ['unofortunately', 'unfortunately'], ['sinemet', 'sine met'], ['tranexamic', 'transoceanic'], ['disoder', 'disorder'], ['triying', 'trying'], ['acv', 'ac'], ['dirreaha', 'diarrhea'], ['endulge', 'indulge'], ['dosepak', 'dose'], ['metaprolol', 'metropolitan'], ['cardioconversion', 'cardio conversion'], ['spiro', 'Spiro'], ['seborrheic', 'seborrhea'], ['ethinyl', 'ethylene'], ['antihistimine', 'antihistamine'], ['psuedophedrine', 'ephedrine'], ['aeruginos', 'vertiginous'], ['trintillix', 'trillionth'], ['tramadaol', 'trampoline'], ['epicream', 'epic ream'], ['sceptical', 'skeptical'], ['joanzie', 'Joanne'], ['norpramin', 'panoramic'], ['amneal', 'anneal'], ['lgm', 'lg'], ['gmp', 'gm'], ['pde', 'ode'], ['eeg', 'EEG'], ['medicne', 'medicine'], ['cyclothymia', 'cyclopedia'], ['karvia', 'Karina'], ['silcer', 'slicer'], ['disolves', 'dissolves'], ['urinte', 'urine'], ['asily', 'easily'], ['drowsyness', 'drowsiness'], ['keegle', 'glee'], ['stabilisers', 'stabilizers'], ['tussionex', 'extrusion'], ['egrifta', 'trifecta'], ['jost', 'jots'], ['appitie', 'appetite'], ['tactupump', 'acupuncture'], ['anaphlactoid', 'prophylactic'], ['mochacinno', 'cinnamon'], ['planb', 'plan'], ['oratane', 'orangutan'], ['prednsone', 'preparedness'], ['rollator', 'collator'], ['exaustion', 'exhaustion'], ['emetophobic', 'homophobic'], ['ondansentron', 'nontransparent'], ['amox', 'amok'], ['clavulane', 'clavicle'], ['zioptan', 'optician'], ['maxair', 'max air'], ['trintellex', 'teleprinter'], ['hydroxizine', 'hydroxide'], ['nph', 'mph'], ['kytril', 'trilby'], ['vico', 'vice'], ['numing', 'numbing'], ['pdr', 'pd'], ['triumeq', 'triumvir'], ['periactin', 'pertinacity'], ['counselled', 'counseled'], ['endep', 'ended'], ['gilotrif', 'glorify'], ['nsclc', 'NSC'], ['egfr', 'egret'], ['diaarhea', 'diarrhea'], ['bratt', 'brat'], ['malox', 'ma lox'], ['ordor', 'odor'], ['disitress', 'distress'], ['pnut', 'punt'], ['exforge', 'ex forge'], ['sprix', 'sprig'], ['seroqyel', 'serology'], ['hiatal', 'Natalia'], ['zevia', 'Evian'], ['tactuo', 'tactful'], ['efffects', 'effects'], ['bunavail', 'bun avail'], ['bdid', 'bid'], ['takeda', 'take'], ['xeloda', 'elodea'], ['normall', 'normal'], ['jayall', 'jay all'], ['diareha', 'diarrhea'], ['crps', 'cps'], ['belsomra', 'Abelson'], ['mirtazipine', 'mirthfulness'], ['urninate', 'urinate'], ['overlet', 'coverlet'], ['distater', 'dis tater'], ['fibre', 'fiber'], ['clonadine', 'incarnadine'], ['omapromazin', 'pyromania'], ['csection', 'section'], ['macr', 'mace'], ['calexa', 'lexical'], ['pimtrea', 'Eritrea'], ['orif', 'orig'], ['venlaflaxine', 'Venezuelan'], ['withdrawlish', 'withdrawal'], ['fluctulance', 'flatulence'], ['solone', 'so lone'], ['llysine', 'sibylline'], ['emla', 'meal'], ['dermaroller', 'Rollerblade'], ['nubain', 'nubbin'], ['complera', 'compiler'], ['pvcs', 'pecs'], ['clarifoam', 'clarify'], ['generlac', 'general'], ['taclonex', 'Stallone'], ['amlactin', 'actinium'], ['perioid', 'period'], ['insomniatic', 'insomnia tic'], ['diarriah', 'diarrhea'], ['inconvenet', 'inconvenient'], ['❤', 'e'], ['amoxcillin', 'amoxicillin'], ['nuox', 'nu ox'], ['xulene', 'xylene'], ['coreg', 'core'], ['myseld', 'myself'], ['ieg', 'neg'], ['lisinipril', 'philistinism'], ['mitrazapine', 'trampoline'], ['reccommed', 'recommended'], ['cfinally', 'finally'], ['skelexin', 'skeleton'], ['synvice', 'syn vice'], ['compazine', 'complainer'], ['afterewards', 'afterwards'], ['aldie', 'oldie'], ['disagnosed', 'diagnosed'], ['norterel', 'Northerner'], ['ogesterol', 'ergosterol'], ['citritate', 'irritate'], ['sarafem', 'carafe'], ['inplanon', 'lanolin'], ['ablify', 'amplify'], ['auric', 'curia'], ['cerezyme', 'cerement'], ['mediport', 'mediator'], ['prescirbed', 'prescribed'], ['diaharrea', 'diarrhea'], ['senokot', 'senorita'], ['jublia', 'Julia'], ['fycompa', 'company'], ['pyrithione', 'parishioner'], ['znp', 'zip'], ['montelucast', 'monastical'], ['nuelin', 'grueling'], ['rationalise', 'rationalist'], ['fanapt', 'fan apt'], ['votrient', 'nutrient'], ['arixtra', 'arbitrary'], ['defence', 'defense'], ['caduet', 'cadet'], ['septra', 'septa'], ['toradal', 'doctoral'], ['progivil', 'privilege'], ['gineau', 'guinea'], ['owy', 'ow'], ['coughgels', 'cough gels'], ['chatix', 'chat ix'], ['svt', 'st'], ['hyposensitive', 'hypo sensitive'], ['gemcitibine', 'unexciting'], ['creon', 'Creon'], ['epsom', 'Epsom'], ['salazopyrin', 'Salazar'], ['prolaction', 'protraction'], ['anticy', 'antic'], ['dextro', 'dextrose'], ['linyah', 'aliyah'], ['epclusa', 'clausal'], ['nexpanon', 'expansion'], ['dicyclomine', 'encyclopedic'], ['speratic', 'operatic'], ['gemzar', 'gear'], ['tessalon', 'Thessalonian'], ['perle', 'Merle'], ['concetrate', 'concentrate'], ['myelf', 'myself'], ['eacute', 'acute'], ['tretinin', 'retinue'], ['plateaud', 'plateaus'], ['psychologicaly', 'psychological'], ['almosr', 'almost'], ['zestril', 'sterilize'], ['areata', 'area ta'], ['ultrams', 'ultras'], ['fibromyagia', 'Brobdingnagian'], ['isocarboxazid', 'radiocarbon'], ['menerix', 'menagerie'], ['favourite', 'favorite'], ['orthognathic', 'orthographic'], ['gapapentin', 'parenting'], ['carbamazapine', 'carpetbagging'], ['chequered', 'exchequer'], ['aniexty', 'anxiety'], ['iop', 'poi'], ['arnp', 'Arno'], ['afg', 'fag'], ['monostat', 'mono stat'], ['temporalley', 'temporally'], ['golytely', 'electrolyte'], ['disabilatating', 'debilitating'], ['occationally', 'occasionally'], ['daith', 'saith'], ['lifestyly', 'lifestyle'], ['venofer', 'veneer'], ['ascomp', 'as comp'], ['migs', 'mugs'], ['smpathy', 'sympathy'], ['vicks', 'vices'], ['sinex', 'sine'], ['regenerized', 'regenerated'], ['azclear', 'clear'], ['azaleic', 'azalea'], ['spareingly', 'sparingly'], ['onenight', 'one night'], ['lymecyline', 'Cymbeline'], ['golitely', 'politely'], ['pulminologist', 'criminologist'], ['perforomist', 'performative'], ['pulmicort', 'corpulent'], ['verdeso', 'overdoes'], ['belbuca', 'beluga'], ['mris', 'rims'], ['haviest', 'heaviest'], ['levsin', 'Levine'], ['necritizing', 'criticizing'], ['silvadene', 'fusillade'], ['ednos', 'ed nos'], ['loette', 'lorgnette'], ['diarhea', 'diarrhea'], ['herinated', 'herniated'], ['precribed', 'prescribed'], ['tioconozale', 'conceptional'], ['coldsores', 'cold sores'], ['toscream', 'to scream'], ['heavyish', 'heavyset'], ['radiculitus', 'diverticulitis'], ['eveninig', 'evening'], ['axid', 'acid'], ['triazadone', 'triathlon'], ['lipotrophic', 'phototropic'], ['ovaluation', 'valuation'], ['metoporal', 'temporal'], ['methadose', 'methadone'], ['favour', 'favor'], ['parteum', 'parterre'], ['wednsday', 'Wednesday'], ['hypoxmia', 'hypothermia'], ['sjogrens', 'Greensboro'], ['intal', 'ital'], ['ncr', 'nor'], ['untilll', 'until ll'], ['atripila', 'trilateral'], ['livalo', 'saliva'], ['dalliresp', 'dallier'], ['tenex', 'tenet'], ['idus', 'ids'], ['indocin', 'Indochina'], ['naesua', 'nausea'], ['orilstat', 'statutorily'], ['olanzaprine', 'oleomargarine'], ['ankylosis', 'analysis'], ['oxycontins', 'Oxycontin'], ['sulfonomide', 'sulfonamides'], ['speciality', 'specialty'], ['accredo', 'ac credo'], ['norgesic', 'inorganic'], ['epilim', 'epilepsy'], ['myocolonic', 'colonialism'], ['peripd', 'period'], ['thsn', 'than'], ['weightwatchers', 'weight watchers'], ['goops', 'hoops'], ['allergin', 'allergen'], ['blurd', 'blued'], ['blecchh', 'bletch'], ['bumex', 'bum ex'], ['glossophobia', 'glossolalia'], ['mircosleeps', 'oversleeps'], ['anxiey', 'anxiety'], ['ranaulds', 'cauldrons'], ['balsom', 'balsam'], ['colestral', 'orchestral'], ['tikosyn', 'Kosygin'], ['megaloblasts', 'megalopolis'], ['ellipta', 'elliptical'], ['anaesthetic', 'anesthetic'], ['cambia', 'cambial'], ['nuerologist', 'neurologist'], ['nueropathy', 'nephropathy'], ['unpregnant', 'pregnant'], ['adcal', 'ad cal'], ['irritabilty', 'irritability'], ['cafergot', 'escargot'], ['cobtraceptive', 'contraceptive'], ['akisthesia', 'anesthesia'], ['acutane', 'cutaneous'], ['slumpled', 'slumped'], ['biafine', 'Baffin'], ['elmiron', 'elm iron'], ['alamast', 'alarmist'], ['tias', 'ties'], ['levetiractam', 'retractile'], ['tilia', 'ilia'], ['estrostep', 'prostrate'], ['acneprone', 'acne prone'], ['rsv', 'RSV'], ['diastat', 'diastase'], ['eligard', 'niggard'], ['nauseaus', 'nauseous'], ['cortisteroids', 'asteroids'], ['xiidra', 'xiii'], ['micronor', 'micro nor'], ['compeed', 'comped'], ['daren', 'Daren'], ['duloxotine', 'guillotine'], ['codamol', 'colloidal'], ['lamicatal', 'calamity'], ['trt', 'try'], ['testopel', 'estoppel'], ['norflex', 'nor flex'], ['topiragen', 'entourage'], ['myclonics', 'cyclonic'], ['aea', 'sea'], ['aefects', 'defects'], ['realised', 'realized'], ['pesonality', 'personality'], ['simaliar', 'malarial'], ['tedonitis', 'tendinitis'], ['travelled', 'traveled'], ['sanitaries', 'sanitarians'], ['revigeon', 'revision'], ['dematolagist', 'dermatologist'], ['implanation', 'implantation'], ['gingerale', 'ginger ale'], ['anbusol', 'Istanbul'], ['jjust', 'just'], ['marvelon', 'marvel on'], ['diannette', 'Annette'], ['rennies', 'pennies'], ['restoritol', 'restorer'], ['aldara', 'radar'], ['ibsd', 'bids'], ['prandin', 'Randi'], ['plumeted', 'plummeted'], ['prempro', 'premiere'], ['catapress', 'catapults'], ['drynrss', 'dryness'], ['soriatane', 'stentorian'], ['dicided', 'divided'], ['flakeness', 'flakiness'], ['vasline', 'Vaseline'], ['cpmplaints', 'complaints'], ['axetil', 'axletree'], ['plaqueline', 'plaque line'], ['nauzene', 'Nazarene'], ['dimetapp', 'impedimenta'], ['redi', 'ride'], ['lithostat', 'lithosphere'], ['respimat', 'respirator'], ['disconneted', 'disconnected'], ['laxitive', 'laxative'], ['didrex', 'Deidre'], ['whoooeey', 'hooey'], ['skinceutical', 'kinetically'], ['azelaic', 'Azazel'], ['megace', 'menace'], ['zymar', 'Aymara'], ['amytriptiline', 'rectilinear'], ['skelaxin', 'skeletal'], ['xyzal', 'Galaxy'], ['nauseaous', 'nauseous'], ['wellbutin', 'Wellington'], ['aderall', 'balladeer'], ['evekeo', 'evoke'], ['penlac', 'pen lac'], ['ablilify', 'ability'], ['ashlyna', 'Ashley'], ['rythmal', 'rhythmical'], ['sureclick', 'sure click'], ['learnt', 'learn'], ['prescriped', 'prescribed'], ['ouml', 'locum'], ['sensitisation', 'sensitization'], ['jacoby', 'Jacob'], ['fiorinol', 'florin'], ['vagistat', 'atavist'], ['microbid', 'micro bid'], ['aricept', 'avarice'], ['hyperekplexia', 'hyperglycemia'], ['disconected', 'disconnected'], ['colonosopy', 'colonoscopy'], ['apirl', 'April'], ['mounths', 'mounts'], ['chloridiazepoxide', 'chloride'], ['perscriped', 'superscribed'], ['espesically', 'especially'], ['ogestral', 'gestural'], ['xalatan', 'Atalanta'], ['monistate', 'monist ate'], ['hotdam', 'hot dam'], ['expierances', 'experiences'], ['sleept', 'sleepy'], ['eutirox', 'routine'], ['hipotyroidism', 'hypothyroidism'], ['loperimide', 'developer'], ['lotronex', 'cyclotron'], ['colestramine', 'constrained'], ['mlg', 'ml'], ['axert', 'taxer'], ['sulfacetamide', 'sulfonamides'], ['tanzeum', 'tantalum'], ['apriso', 'prison'], ['levoquin', 'quintuple'], ['uncomfortble', 'uncomfortable'], ['tbi', 'tb'], ['disclofenac', 'disclosed'], ['swosh', 'swish'], ['irritablility', 'irritability'], ['pegasys', 'Pegasus'], ['heliocare', 'heliocentric'], ['tapentodol', 'periodontal'], ['nocte', 'note'], ['rhumey', 'rheumy'], ['awefull', 'awe full'], ['heapof', 'heap of'], ['herxheimer', 'Oppenheimer'], ['efexor', 'exorcise'], ['lighgter', 'lighter'], ['replier', 'replies'], ['sufered', 'suffered'], ['movenent', 'movement'], ['phetermine', 'predetermine'], ['uristat', 'naturist'], ['terinafine', 'hereinafter'], ['garnier', 'garner'], ['amgen', 'amen'], ['oxicodone', 'condone'], ['clonzepam', 'monoclonal'], ['isnt', 'inst'], ['pprobably', 'probably'], ['bareable', 'bearable'], ['syeda', 'swayed'], ['leep', 'lip'], ['losartin', 'artiness'], ['nasuea', 'nausea'], ['discectomies', 'vasectomies'], ['paragaurd', 'Paraguay'], ['ibeprofen', 'ibuprofen'], ['loxalate', 'allocate'], ['camprial', 'camp rial'], ['psycotics', 'psychotics'], ['ebedea', 'Zebedee'], ['yogart', 'yogurt'], ['nephractomy', 'nephropathy'], ['usg', 'us'], ['positionwise', 'position wise'], ['mrcc', 'Marc'], ['testlessnes', 'restlessness'], ['trisprintec', 'sprinter'], ['robinul', 'Robin'], ['roxycodone', 'Oxycontin'], ['acachnoditis', 'endocarditis'], ['pontsel', 'pontoon'], ['deltasone', 'deltas one'], ['cortisones', 'cortisone'], ['lamictil', 'lactic'], ['dmso', 'damson'], ['iodoral', 'doctoral'], ['hydrolized', 'hydrolyzed'], ['hungryand', 'hungry and'], ['neveragain', 'never again'], ['uncoordination', 'uncoordinated'], ['papuls', 'pulls'], ['oxis', 'xis'], ['thev', 'the'], ['diguise', 'disguise'], ['staterra', 'serrate'], ['relistor', 'resistor'], ['peorids', 'periods'], ['ibd', 'bid'], ['accetable', 'acceptable'], ['worthlessdoctor', 'worthless doctor'], ['mcl', 'ml'], ['suboxene', 'subpoena'], ['whixh', 'which'], ['diarreah', 'diarrhea'], ['bydurean', 'Durban'], ['glocose', 'glucose'], ['msk', 'mks'], ['fnp', 'ftp'], ['whnp', 'whip'], ['miminal', 'minimal'], ['consipation', 'constipation'], ['cnp', 'cap'], ['tolmetin', 'tormenting'], ['xdaily', 'daily'], ['caremark', 'ca remark'], ['vegi', 'veg'], ['vortioxetine', 'extortioner'], ['parlodel', 'parlor'], ['trunkal', 'trunk'], ['jankovic', 'Ordovician'], ['beeter', 'biter'], ['perles', 'peerless'], ['contraceptions', 'contraception'], ['marlissa', 'Marissa'], ['cathing', 'scathing'], ['reclast', 'recast'], ['ssecond', 'second'], ['reuccured', 'reoccurred'], ['chantex', 'chanter'], ['esophogeal', 'esophageal'], ['whoooosh', 'whoosh'], ['cymblatla', 'blatancy'], ['ophorectomy', 'hysterectomy'], ['dosen', 'nosed'], ['zentragal', 'centralize'], ['chloropromazine', 'chlorofluorocarbon'], ['risperidol', 'dispersion'], ['aeroquel', 'baroque'], ['xartemis', 'Artemis'], ['girlyq', 'girly'], ['nondrowsy', 'non drowsy'], ['endometrioses', 'endometriosis'], ['licken', 'nickel'], ['intravaginally', 'vaginally'], ['sominex', 'nominee'], ['norabe', 'Honorable'], ['cancled', 'canceled'], ['heavennnnnnn', 'heavenward'], ['carmex', 'Carmen'], ['tigan', 'titan'], ['kleenexes', 'Kleenexes'], ['asomnia', 'insomnia'], ['lymes', 'limes'], ['litre', 'liter'], ['olysio', 'Lysol'], ['svr', 'sir'], ['pantoperazole', 'paratrooper'], ['omprezole', 'recompile'], ['lansoperzole', 'landscaper'], ['esomprezole', 'compressible'], ['dotors', 'doors'], ['rhuemy', 'rheumy'], ['glidess', 'glides'], ['cyclics', 'cyclic'], ['ciproflaxon', 'nonreciprocal'], ['debilating', 'debilitating'], ['traz', 'trad'], ['darvon', 'Darvon'], ['pdi', 'dpi'], ['lamitrogine', 'mineralogist'], ['meloxacam', 'Camelot'], ['hidrosis', 'Isidro'], ['unbareble', 'unbreakable'], ['thqbkfully', 'thankfully'], ['gwt', 'get'], ['lvls', 'Lvov'], ['efferor', 'efferent'], ['pricie', 'price'], ['aetna', 'Etna'], ['novalog', 'nova log'], ['kwikpen', 'Wikipedia'], ['flexpen', 'flex pen'], ['ciu', 'cu'], ['urticia', 'urticaria'], ['zrytec', 'Zyrtec'], ['cyclosprine', 'anticyclone'], ['lariam', 'lariat'], ['mdma', 'mama'], ['orthocyclen', 'motorcycle'], ['magnacet', 'magnet'], ['presriptions', 'prescriptions'], ['queazy', 'queasy'], ['nebulizar', 'nebular'], ['novum', 'ovum'], ['febuary', 'February'], ['slep', 'sleep'], ['cognitve', 'cognitive'], ['energised', 'energized'], ['ambiencr', 'ambient'], ['methylprednisone', 'methodicalness'], ['rowasa', 'rowan'], ['phenagren', 'phenomena'], ['famvir', 'familiar'], ['contom', 'condom'], ['floroquinalone', 'Florentine'], ['fascitis', 'fascistic'], ['mhni', 'mini'], ['psychatrist', 'psychiatrist'], ['scaremongered', 'scare mongered'], ['counsellor', 'counselor'], ['zutripro', 'outstrip'], ['stresssd', 'stressed'], ['morecomfortable', 'more comfortable'], ['ejacul', 'ejaculate'], ['jolvette', 'novelette'], ['risperdol', 'dispersal'], ['behavor', 'behavior'], ['exalgo', 'hexagonal'], ['lorzone', 'Lorenzo'], ['diarrheoa', 'diarrhea'], ['parathyroids', 'parathyroids'], ['bunivail', 'univalve'], ['fentenyl', 'entente'], ['aerospan', 'aerospace'], ['exerbation', 'exacerbation'], ['iifeel', 'ii feel'], ['palputations', 'palpitations'], ['botanogest', 'botanist'], ['motin', 'motion'], ['birh', 'birth'], ['clanazapam', 'clansman'], ['peripexole', 'peripheral'], ['optained', 'obtained'], ['pysical', 'physical'], ['tramsdol', 'trampoline'], ['amityptamine', 'amphetamine'], ['versin', 'version'], ['tweleve', 'twelve'], ['answearing', 'answering'], ['uspide', 'upside'], ['camilia', 'cam ilia'], ['carafate', 'carafe'], ['actonel', 'acetone'], ['instarted', 'instated'], ['lucentis', 'licentious'], ['areds', 'ares'], ['sexdrive', 'sex drive'], ['menstural', 'menstrual'], ['cyles', 'cycles'], ['opoid', 'ovoid'], ['fatiqued', 'fatigued'], ['lantis', 'antis'], ['solarstar', 'solar star'], ['levelling', 'leveling'], ['vestura', 'gestural'], ['larthagicness', 'articulateness'], ['orsynthia', 'forsythia'], ['fluoxotine', 'fluorine'], ['meclazine', 'melamine'], ['suboxe', 'suborder'], ['orthropedic', 'orthopedic'], ['maois', 'Maoism'], ['awayl', 'away'], ['odour', 'odor'], ['visc', 'vise'], ['expertiencing', 'experiencing'], ['addison', 'addition'], ['dyndrome', 'syndrome'], ['clotty', 'clot'], ['hesitently', 'hesitantly'], ['cigna', 'Ignacio'], ['horizant', 'horizontal'], ['immunosystem', 'immunologist'], ['dilauded', 'lauded'], ['gahh', 'gash'], ['reoccurences', 'occurrences'], ['fbg', 'fig'], ['tgcs', 'tics'], ['vldl', 'Vlad'], ['dovonex', 'overdone'], ['chantx', 'chant'], ['diardia', 'cardiac'], ['belvique', 'Becquerel'], ['terodol', 'heterodox'], ['velaflaxine', 'Velazquez'], ['dyskensia', 'Dickensian'], ['releev', 'reveler'], ['campho', 'camphor'], ['essure', 'assure'], ['semmie', 'semi'], ['happins', 'happens'], ['vegs', 'begs'], ['naftin', 'Tina'], ['clonic', 'clinic'], ['unpleasurable', 'pleasurable'], ['fluish', 'flush'], ['oldi', 'old'], ['medicatio', 'medication'], ['methylfolate', 'Merthiolate'], ['unbelievablely', 'unbelievably'], ['modelling', 'modeling'], ['isotretin', 'indiscretion'], ['foradil', 'foresail'], ['adalumimab', 'aluminum'], ['guttate', 'gutted'], ['arythmia', 'arrhythmia'], ['tricor', 'tricolor'], ['bibasilar', 'basilica'], ['hydroxzine', 'hydroxide'], ['dexcom', 'commode'], ['cgm', 'chm'], ['chalmydia', 'chlamydia'], ['nessessary', 'necessary'], ['ultravate', 'adulterate'], ['citralopram', 'recalcitrant'], ['citopram', 'capacitor'], ['funtioning', 'functioning'], ['anaesthesia', 'anesthesia'], ['levoxyl', 'leveler'], ['lannet', 'linnet'], ['kpin', 'kin'], ['sugarts', 'sugars'], ['bms', 'ms'], ['opoiods', 'periods'], ['aplenzin', 'aplenty'], ['epitomic', 'epitomize'], ['lucozade', 'accolade'], ['sprintect', 'sprinter'], ['esatrylla', 'Estella'], ['orphenadrine', 'ephedrine'], ['diaherra', 'diarrhea'], ['zegerid', 'Beveridge'], ['socialise', 'socialist'], ['tritation', 'irritation'], ['lipozene', 'Pliocene'], ['fibrofog', 'fibroid'], ['aiha', 'aha'], ['diclegis', 'disciples'], ['levo', 'love'], ['injurous', 'injurious'], ['herpatic', 'hepatic'], ['elecon', 'electron'], ['succuesful', 'successful'], ['elival', 'livable'], ['okak', 'oak'], ['cetrizine', 'metricize'], ['implannon', 'implantation'], ['headachey', 'headache'], ['ptc', 'pct'], ['escitolipram', 'resuscitator'], ['qid', 'id'], ['zohyrdro', 'hydrolyze'], ['minutesw', 'minutes'], ['marsden', 'mars den'], ['hydrocodine', 'hydrophone'], ['scareddddd', 'scarred'], ['astrazeneca', 'strangeness'], ['dizzyspells', 'dizzy spells'], ['ibprofin', 'ibuprofen'], ['hydrocod', 'hydro cod'], ['aceta', 'ac eta'], ['spms', 'spams'], ['hyperthryroidism', 'hyperthyroidism'], ['normalised', 'normalized'], ['emg', 'meg'], ['mesinon', 'Simenon'], ['amatiza', 'Amati'], ['amoxyl', 'amoral'], ['abriva', 'abrasive'], ['presribed', 'prescribed'], ['imatrex', 'immature'], ['amerge', 'merge'], ['trycyclen', 'tricycle'], ['nexoplanon', 'exoplanet'], ['nurofen', 'ibuprofen'], ['bicornuate', 'bicarbonate'], ['xopenex', 'Penelope'], ['consitpation', 'constipation'], ['bupap', 'bu pap'], ['endometrosis', 'endometriosis'], ['oxycodones', 'condones'], ['vijayawada', 'Vijayawada'], ['musinex', 'musing'], ['myosure', 'cynosure'], ['ducolax', 'Colfax'], ['gabapintin', 'painting'], ['cartilidge', 'cartilage'], ['sideffects', 'effects'], ['quil', 'quail'], ['subscrjibe', 'subscribe'], ['kolanapin', 'Polanski'], ['valum', 'alum'], ['tecfidera', 'considerate'], ['eskalith', 'megaliths'], ['ekgs', 'kegs'], ['sulfasalisine', 'sulfonamides'], ['arava', 'avatar'], ['losterin', 'Listerine'], ['vern', 'Vern'], ['combivent', 'combustive'], ['pregnany', 'pregnant'], ['deaing', 'dealing'], ['pylera', 'Pyle'], ['lacriserts', 'secularists'], ['graduly', 'gradually'], ['insomia', 'insomnia'], ['goult', 'gout'], ['verrrrrry', 'verrucae'], ['prodrin', 'protein'], ['duratuss', 'stratus'], ['vraylar', 'waylayer'], ['amitrip', 'airstrip'], ['bfp', 'bf'], ['menstruals', 'menstrual'], ['levoxly', 'levelly'], ['naturethroid', 'denaturation'], ['klonipin', 'Klondike'], ['bmr', 'bar'], ['lightheadness', 'lightheartedness'], ['duracell', 'Duracell'], ['netti', 'nets'], ['beliq', 'belie'], ['gavilyte', 'navigate'], ['elyssa', 'Alyssa'], ['gynocomastia', 'iconoclastic'], ['ibuprofan', 'ibuprofen'], ['eupd', 'dupe'], ['abdomin', 'abdomen'], ['befoer', 'before'], ['cuchi', 'cu chi'], ['gastrointestina', 'gastrointestinal'], ['woow', 'woo'], ['adderral', 'deferral'], ['trazodoe', 'trapezoid'], ['earbut', 'earbud'], ['rfls', 'RFCs'], ['rambunctuous', 'rambunctious'], ['recoment', 'recommencement'], ['amprya', 'lamprey'], ['qutenza', 'quieten'], ['diabetis', 'diabetics'], ['apprieciate', 'appreciate'], ['spts', 'psst'], ['welp', 'whelp'], ['harmonal', 'hormonal'], ['coutious', 'cautious'], ['androderm', 'Andromeda'], ['medicies', 'medicines'], ['pharamacy', 'pharmacy'], ['spirolactone', 'conspiratorial'], ['apidra', 'rapid'], ['recomennd', 'recommend'], ['elavate', 'elevate'], ['methaline', 'methane'], ['bleading', 'beading'], ['winrho', 'win rho'], ['ritixan', 'Mauritian'], ['prednsione', 'pretension'], ['vimitted', 'emitted'], ['venlafaxin', 'ventilation'], ['fecom', 'become'], ['pregnantin', 'pregnant in'], ['vapo', 'capo'], ['funginail', 'fungi nail'], ['stiolto', 'Stilton'], ['antst', 'antsy'], ['salfasazine', 'sleaziness'], ['epilepticus', 'epileptics'], ['paregoric', 'paregoric'], ['cedax', 'cedar'], ['doxcycline', 'tetracycline'], ['bacne', 'bane'], ['tofranil', 'taffrail'], ['electrocardioversions', 'electrocardiographs'], ['icd', 'id'], ['clearzal', 'clear'], ['turkeyed', 'turkey ed'], ['hoursin', 'hour sin'], ['protime', 'pro time'], ['obg', 'bog'], ['lorazapam', 'paparazzo'], ['intolerence', 'intolerance'], ['fevadol', 'Adolfo'], ['clavaris', 'Clarissa'], ['vagisil', 'Silva'], ['fiya', 'hiya'], ['postnasal', 'postnasal'], ['photodamaged', 'photo damaged'], ['omorovicza', 'Mohorovicic'], ['wofe', 'wife'], ['cervicle', 'cervical'], ['prylosec', 'prosecute'], ['releaf', 're leaf'], ['nicu', 'nice'], ['virtigo', 'vertigo'], ['propranol', 'soprano'], ['letrais', 'retrains'], ['sildeifide', 'sidesaddle'], ['bcbs', 'bibs'], ['cpk', 'cpl'], ['hiit', 'hit'], ['nasacort', 'transactor'], ['panickers', 'pa nickers'], ['ibrofen', 'ibuprofen'], ['pounda', 'pounds'], ['sureprep', 'sure prep'], ['slyla', 'slyly'], ['parainsomnia', 'para insomnia'], ['zonegran', 'zone gran'], ['neourologist', 'neurologist'], ['uthsc', 'truths'], ['serevant', 'servant'], ['gabapenten', 'abatement'], ['teste', 'test'], ['polimyalgia', 'polynomial'], ['elequis', 'equipoise'], ['unrestlessness', 'restlessness'], ['lacrisert', 'lacrosse'], ['nupricainal', 'numerical'], ['epesiotome', 'epitome'], ['minera', 'miners'], ['minuscus', 'minuscules'], ['hydromorph', 'hydro morph'], ['adjuct', 'adjunct'], ['subutek', 'substitute'], ['brilinta', 'brilliant'], ['wellbutrion', 'retribution'], ['tinitus', 'tinnitus'], ['dizzzyness', 'dizziness'], ['xerac', 'racer'], ['cgjung', 'Jung'], ['trilosprintec', 'teleprinter'], ['safryal', 'sassafras'], ['codiene', 'codeine'], ['intersistial', 'interstitial'], ['scaledpwn', 'scaled pwn'], ['tribenzor', 'tribesmen'], ['nexaplanon', 'monoplane'], ['amitryptaline', 'instrumentality'], ['macrodantin', 'macrobiotic'], ['catheritization', 'weatherization'], ['mononesse', 'moroseness'], ['dignosed', 'diagnosed'], ['spironalactone', 'inspirational'], ['cazy', 'cay'], ['lyrcia', 'lyrical'], ['lanzoprozle', 'propellant'], ['diclofence', 'difference'], ['persisrant', 'persistent'], ['pacthes', 'patches'], ['instruced', 'instructed'], ['muilti', 'multi'], ['stubburn', 'stubborn'], ['barfy', 'barf'], ['nexpalnon', 'exponential'], ['dothep', 'dot hep'], ['prozak', 'Prozac'], ['drowsier', 'drowsier'], ['penciclovir', 'encyclopedic'], ['unsuccessrful', 'unsuccessful'], ['femaile', 'female'], ['plexion', 'flexion'], ['amitryptiline', 'paramilitary'], ['pyc', 'pyx'], ['ibprofen', 'ibuprofen'], ['tclo', 'clot'], ['wellbutrine', 'wellspring'], ['lexpro', 'Rolex'], ['escitopram', 'resuscitator'], ['illumious', 'illustrious'], ['blistovi', 'blister'], ['sydenham', 'menhaden'], ['sumitriptan', 'sanitarium'], ['pituarty', 'pituitary'], ['advils', 'anvils'], ['depresent', 'represent'], ['regimine', 'regimen'], ['prescrbed', 'prescribed'], ['tkr', 'tr'], ['tranxene', 'transient'], ['abrieva', 'Gabriela'], ['msra', 'mars'], ['dexedrinne', 'Dexedrine'], ['vytorin', 'Victorian'], ['tegritol', 'Geritol'], ['tegrital', 'integral'], ['eisenhower', 'Eisenhower'], ['andew', 'anew'], ['rothstein', 'Holstein'], ['iritability', 'irritability'], ['kiefer', 'chiefer'], ['amrix', 'Amritsar'], ['anafranil', 'Franklin'], ['tca', 'act'], ['bartholin', 'Bartholdi'], ['gralise', 'gradualism'], ['grailise', 'grail'], ['symbyax', 'symbol'], ['patanol', 'patrolman'], ['mlt', 'ml'], ['myfasical', 'mystical'], ['skylar', 'skylark'], ['salonpas', 'salon pas'], ['severee', 'severer'], ['rosiver', 'rosier'], ['paragauard', 'Paraguayan'], ['reiter', 'rater'], ['reiters', 'raters'], ['crohnes', 'crones'], ['withinh', 'withing'], ['vontrol', 'control'], ['remarkedably', 'remarked ably'], ['annabamma', 'Alabaman'], ['gilenya', 'Gilead'], ['brintelix', 'teleprinter'], ['energic', 'generic'], ['minimising', 'minimizing'], ['ropinerole', 'profiterole'], ['ribivirin', 'riboflavin'], ['psvt', 'pvt'], ['beguining', 'beguiling'], ['irratation', 'irritation'], ['mucinexd', 'medicine'], ['lifenet', 'life net'], ['nextplanon', 'exoplanet'], ['omipresent', 'omnipresent'], ['physchotic', 'psychotic'], ['detrol', 'petrol'], ['enablex', 'enable'], ['noticiable', 'noticeable'], ['lipoflavonoid', 'riboflavin'], ['wayy', 'way'], ['clearsil', 'Clearasil'], ['cyclothemia', 'cyclopedia'], ['jalyn', 'Jaclyn'], ['suicidial', 'suicidal'], ['lamictak', 'Islamic'], ['spinbrush', 'spin brush'], ['ocate', 'ovate'], ['decatrum', 'Decatur'], ['fivedays', 'five days'], ['doseand', 'dose and'], ['majordifference', 'major difference'], ['severestomachache', 'severe stomachache'], ['expressscripts', 'express scripts'], ['stemetll', 'stemless'], ['rearly', 'rarely'], ['fealing', 'leafing'], ['rytary', 'rotary'], ['daraprim', 'primary'], ['medifast', 'mediated'], ['isagenyx', 'envisage'], ['tradozone', 'trad ozone'], ['panadeine', 'deadpanned'], ['buna', 'buns'], ['afrin', 'African'], ['dualthlon', 'decathlon'], ['metroporol', 'metropolis'], ['blurdvission', 'subdivision'], ['wheneve', 'whenever'], ['salomi', 'salami'], ['worchester', 'Worcester'], ['thill', 'till'], ['epionce', 'Concepcion'], ['reaally', 'really'], ['rph', 'rps'], ['clindamyacin', 'clinician'], ['nuquin', 'nu quin'], ['amyotrophic', 'catastrophic'], ['seizues', 'seizes'], ['vivitral', 'antiviral'], ['rhematologist', 'hematologist'], ['bipiolar', 'bipolar'], ['desgovered', 'overdressed'], ['lithum', 'lithium'], ['piolar', 'polar'], ['eveynight', 'overnight'], ['oramorph', 'amorphous'], ['pseudofolliculitis', 'diverticulitis'], ['cypionate', 'opinionated'], ['statex', 'state'], ['azulfidine', 'sulfide'], ['paragraud', 'paragraph'], ['occissional', 'occasional'], ['wellbutrinxl', 'wellspring'], ['pstd', 'std'], ['lorcet', 'Loretta'], ['zpack', 'pack'], ['monastat', 'Montana'], ['useplan', 'use plan'], ['tryclicerides', 'triglycerides'], ['allegic', 'allergic'], ['diffen', 'differ'], ['agrophobic', 'agoraphobic'], ['clindoxyl', 'cylindrical'], ['leriod', 'period'], ['appettite', 'appetite'], ['temovate', 'motivate'], ['caladryl', 'balladry'], ['aveeno', 'novena'], ['xtandi', 'standing'], ['lithobid', 'lithograph'], ['levaguin', 'linguine'], ['clavimycin', 'clavicle'], ['cldn', 'clan'], ['sebulex', 'sexless'], ['repreve', 'reprieve'], ['diarrheas', 'diarrhea'], ['haliperidol', 'periodontal'], ['excallabrations', 'collaborationist'], ['pulmanolagist', 'campanologist'], ['daliresp', 'espalier'], ['fisished', 'finished'], ['doculax', 'ocular'], ['vitoryn', 'victory'], ['thrhough', 'through'], ['looonnngg', 'onlooking'], ['abylify', 'syllabify'], ['cartia', 'Cartier'], ['lotemax', 'axolotl'], ['casana', 'casaba'], ['seroquil', 'soliloquies'], ['tolenrece', 'tolerance'], ['dawes', 'wades'], ['disthymia', 'isthmian'], ['ovcon', 'convoy'], ['malabsorbtion', 'malformation'], ['uncrusted', 'encrusted'], ['pennkinetic', 'kinetic'], ['gravidum', 'gravid um'], ['loestin', 'loftiness'], ['benydryl', 'benzyl'], ['symtom', 'symptom'], ['angeliq', 'angelic'], ['vack', 'back'], ['macca', 'mecca'], ['atrovent', 'introvert'], ['trazedon', 'Tarazed'], ['natazia', 'Natalia'], ['pdd', 'odd'], ['mepron', 'me pron'], ['bacrtim', 'acrobatic'], ['econtra', 'contract'], ['anora', 'angora'], ['minestrin', 'minestrone'], ['manys', 'mynas'], ['nalox', 'Maalox'], ['fibulation', 'tribulation'], ['nefedipine', 'linefeed'], ['omeprozole', 'TelePrompTer'], ['hospitlized', 'hospitalized'], ['stribilid', 'risibility'], ['phenazo', 'phenomena'], ['swollowing', 'swallowing'], ['norvasc', 'Casanova'], ['wallmart', 'wall mart'], ['igained', 'gained'], ['helthy', 'healthy'], ['exploratoy', 'exploratory'], ['precirptions', 'preconceptions'], ['ulcertations', 'ulcerations'], ['pouduct', 'conduct'], ['iihave', 'ii have'], ['xan', 'can'], ['atelvia', 'alleviate'], ['diezapan', 'dietitian'], ['swollow', 'swallow'], ['cabg', 'cab'], ['alergies', 'allergies'], ['wannabehepcfree', 'wannabee'], ['interferion', 'interferon'], ['ribovirun', 'riboflavin'], ['pepcid', 'peptide'], ['previced', 'previewed'], ['emotionnal', 'emotional'], ['elocon', 'colonel'], ['anytbibf', 'anything'], ['onserted', 'inserted'], ['hpwever', 'however'], ['levothroxine', 'throatiness'], ['progresssively', 'progressively'], ['cauterizations', 'cauterization'], ['siode', 'diode'], ['leakge', 'leakage'], ['ufeff', 'pouffe'], ['carbapenum', 'Carborundum'], ['phendermetrazine', 'undermentioned'], ['intesne', 'intense'], ['oxaydo', 'Oxnard'], ['laparotomies', 'laparotomy'], ['tylox', 'Tylenol'], ['emergenc', 'emergence'], ['ritilan', 'Ritalin'], ['natroba', 'acrobat'], ['eletriptan', 'electrician'], ['daklinza', 'dazzling'], ['niagra', 'Viagra'], ['sertilne', 'serpentine'], ['creomulsion', 'compulsion'], ['monovisc', 'monodist'], ['dilantan', 'dilettante'], ['triphasal', 'triumphal'], ['levelin', 'leveling'], ['diurectic', 'diuretic'], ['significulty', 'significant'], ['sublux', 'sublet'], ['vicodins', 'Victorians'], ['exlax', 'ex lax'], ['snorty', 'snotty'], ['betapyn', 'betaken'], ['gnatting', 'gnat ting'], ['junamet', 'junket'], ['lipiflow', 'pillowslip'], ['meibomian', 'bohemian'], ['bacl', 'back'], ['gallblabber', 'gall blabber'], ['ibufrofen', 'ibuprofen'], ['liquidish', 'cliquish'], ['edex', 'ed ex'], ['deteriated', 'deteriorated'], ['disulfarim', 'dissimilar'], ['nostrilia', 'nostril'], ['duloxatine', 'indexation'], ['pcd', 'cpd'], ['vanicream', 'manicure'], ['accumalated', 'accumulated'], ['synjardy', 'bastardy'], ['desfax', 'defame'], ['behaviours', 'behaviors'], ['valdoxen', 'Osvaldo'], ['placix', 'placid'], ['iiia', 'iii'], ['azilect', 'dialect'], ['colours', 'colors'], ['localised', 'localized'], ['afrezza', 'freezable'], ['topimarate', 'immoderate'], ['effiencient', 'efficient'], ['cholesteral', 'cholesterol'], ['rozeram', 'aerogram'], ['lorazapram', 'Loraine'], ['aneamic', 'anemic'], ['monosodiom', 'monodist'], ['emptions', 'emotions'], ['crisco', 'Crisco'], ['breasrs', 'breasts'], ['prezista', 'preexist'], ['preservision', 'preservation'], ['pevention', 'prevention'], ['tricylen', 'tricycle'], ['ornex', 'ornery'], ['stattera', 'Hatteras'], ['permoglide', 'supermodel'], ['rivotril', 'frivolity'], ['amolodipine', 'moldiness'], ['wooohooo', 'boohoo'], ['medformin', 'informed'], ['tragenta', 'magenta'], ['medifasted', 'mediated'], ['work❤', 'work'], ['dromoran', 'Comoran'], ['tipolone', 'polonaise'], ['acticlate', 'activate'], ['innopran', 'soprano'], ['fodmaps', 'formals'], ['jnjections', 'injections'], ['junuvia', 'Jungian'], ['pharmcies', 'pharmacies'], ['dispence', 'dispense'], ['hedaches', 'headaches'], ['larium', 'labium'], ['condsidering', 'considering'], ['workswhile', 'works while'], ['raceses', 'racemes'], ['daliy', 'daily'], ['technocolor', 'technicolor'], ['pmr', 'pm'], ['miratapine', 'migraine'], ['effexeor', 'effort'], ['arthirtis', 'arthritis'], ['novocain', 'Novocain'], ['profin', 'profit'], ['clonodine', 'cloudiness'], ['surgerys', 'surgery'], ['orthotricylen', 'orthodontic'], ['avn', 'van'], ['hylands', 'Hollands'], ['makena', 'make'], ['qysemia', 'semiarid'], ['bricanyl', 'lubricant'], ['turbuhaler', 'turbulent'], ['worts', 'worst'], ['motavation', 'motivation'], ['estring', 'string'], ['sumatriptin', 'Sumatran'], ['sideffect', 'effective'], ['tyvaso', 'toasty'], ['adcira', 'admiral'], ['letirius', 'Lucretius'], ['irregularlity', 'irregularity'], ['yis', 'yid'], ['ryzolt', 'revolt'], ['organised', 'organized'], ['fev', 'fee'], ['amphetimine', 'amphetamine'], ['validus', 'valid us'], ['eod', 'doe'], ['yearish', 'bearish'], ['remicaid', 'medicaid'], ['aquafor', 'aqua for'], ['absorbica', 'absorb'], ['cyproheptad', 'heptathlon'], ['elta', 'eta'], ['somnodent', 'somnolent'], ['adah', 'aah'], ['hahahahahah', 'maharajah'], ['helped\\u200b', 'helped'], ['carac', 'carat'], ['ecptopic', 'isotopic'], ['modifinil', 'modifiable'], ['armodifinil', 'modifiable'], ['syptoms', 'symptoms'], ['unfortunatelly', 'unfortunately'], ['multiorgasmic', 'multi orgasmic'], ['gettings', 'getting'], ['urbanol', 'urbanology'], ['fexmid', 'midwife'], ['flexmid', 'flex mid'], ['aggitation', 'agitation'], ['oopherectomy', 'hysterectomy'], ['throid', 'thyroid'], ['revatio', 'renovation'], ['beinning', 'banning'], ['stopped\\u200b', 'stopped'], ['spiralled', 'spiraled'], ['ridalin', 'Ritalin'], ['dexidrene', 'Dexedrine'], ['crinkley', 'crinkle'], ['dissasociating', 'disassociating'], ['alsuma', 'satsuma'], ['therse', 'there'], ['zenatane', 'antenatal'], ['tirediness', 'tiredness'], ['iiwill', 'ii will'], ['anastrozle', 'astrologer'], ['practionair', 'practitioner'], ['dofetilide', 'fertilized'], ['eustachian', 'Eustachian'], ['hepc', 'hep'], ['deligently', 'diligently'], ['benica', 'Benita'], ['spironilactone', 'conspiratorial'], ['lymphmona', 'lymphoma'], ['tritico', 'tricolor'], ['backpain', 'back pain'], ['ibubrofen', 'ibuprofen'], ['promethazaine', 'Promethean'], ['vagnitis', 'gingivitis'], ['mediciation', 'medication'], ['hungier', 'hunger'], ['countinuously', 'continuously'], ['happeened', 'happened'], ['orudis', 'prudish'], ['oruvail', 'Olduvai'], ['pedialyte', 'pediatric'], ['aftetlr', 'afterlife'], ['terribble', 'terrible'], ['hypettension', 'hypertension'], ['mednight', 'midnight'], ['xanaflex', 'Alexandra'], ['mscontin', 'Continent'], ['cspine', 'spine'], ['lami', 'lam'], ['pcdf', 'PDF'], ['acdf', 'AFDC'], ['addic', 'addict'], ['tricyclin', 'tricycle'], ['chrohn', 'chronic'], ['jpouch', 'pouch'], ['darier', 'darer'], ['diaraeh', 'diarrhea'], ['midnigtht', 'midnight'], ['naproxin', 'approximation'], ['butral', 'brutal'], ['reocurr', 'reoccurred'], ['flovent', 'Florentine'], ['loloestrin', 'shoestring'], ['revies', 'revise'], ['bepreve', 'reprieve'], ['emetrol', 'metro'], ['elimidrol', 'eliminator'], ['incivek', 'incisive'], ['monvantik', 'motivation'], ['loratab', 'laboratory'], ['spansule', 'spangle'], ['uptravi', 'Travis'], ['ventavis', 'Adventist'], ['uceris', 'cerise'], ['amolpodine', 'trampoline'], ['decmeber', 'December'], ['shyed', 'shed'], ['acnez', 'acne'], ['visatril', 'aviatrices'], ['sumavel', 'suave'], ['dosepro', 'dose pro'], ['startd', 'starts'], ['finax', 'final'], ['tinfal', 'tinfoil'], ['nyquill', 'NyQuil'], ['fabior', 'Fabian'], ['birthcontrols', 'birth controls'], ['nausuea', 'nausea'], ['hydrocodacetam', 'hydrodynamic'], ['vibrenzi', 'vibrate'], ['subox', 'sub ox'], ['quackes', 'quacked'], ['unitedhealthcare', 'united healthcare'], ['ppo', 'pop'], ['ranexa', 'ranee'], ['hydrox', 'hydro'], ['omgosh', 'om gosh'], ['anone', 'anon'], ['bick', 'nick'], ['medispan', 'median'], ['glatopa', 'flattop'], ['hurrah', 'hurrah'], ['halfgram', 'half gram'], ['anethesia', 'anesthesia'], ['insatisably', 'insatiably'], ['anxeity', 'anxiety'], ['ditropan', 'Tropicana'], ['iressa', 'Aires'], ['amlopidine', 'pyrimidine'], ['divalproax', 'divalent'], ['sulfameth', 'sulfa meth'], ['tenovir', 'renovate'], ['soanxious', 'so anxious'], ['prenatals', 'prenatal'], ['minipill', 'mini pill'], ['zegrid', 'regrind'], ['colesterol', 'cholesterol'], ['dalacin', 'Aladdin'], ['alpazolam', 'Kalamazoo'], ['xanex', 'annex'], ['fizzeled', 'fizzled'], ['tryied', 'tried'], ['toparimate', 'primate'], ['disorted', 'distorted'], ['grocrey', 'grocery'], ['ihave', 'have'], ['extream', 'ext ream'], ['mascrade', 'masquerade'], ['abraxane', 'membrane'], ['pantiliner', 'pantyliner'], ['naratriptan', 'transcript'], ['solumedrol', 'solarium'], ['hypoxy', 'hypo'], ['achalsia', 'Bacchanalia'], ['nissen', 'nisei'], ['fundo', 'fund'], ['cmps', 'cps'], ['hydroxychoroquine', 'hydroelectricity'], ['aguillon', 'guillotine'], ['piraformus', 'pinafores'], ['belemish', 'blemish'], ['hydrocodones', 'hydrophones'], ['pregnancys', 'pregnancy'], ['sinclair', 'Sinclair'], ['fuelled', 'fueled'], ['myofacial', 'myocardial'], ['syronx', 'Styron'], ['seretine', 'sere tine'], ['parkinsons', 'Parkinson'], ['flygyl', 'flyleaf'], ['ovulatin', 'ovulation'], ['diladid', 'Padilla'], ['flucon', 'flu con'], ['flector', 'elector'], ['suppositorys', 'suppository'], ['sleepingredients', 'sleep ingredients'], ['meniere', 'veniremen'], ['nitrolingual', 'nitro lingual'], ['ritali', 'Ritalin'], ['diplegia', 'quadriplegia'], ['demeanour', 'demeanor'], ['itp', 'tip'], ['zestoretic', 'theoretic'], ['completelly', 'completely'], ['boyfreind', 'boyfriend'], ['striant', 'Austrian'], ['undetecable', 'undetectable'], ['metroprolol', 'metropolis'], ['dayswas', 'days was'], ['clovis', 'Clovis'], ['barffed', 'barfed'], ['errin', 'erring'], ['detergrnts', 'detergents'], ['medcines', 'medicines'], ['predisone', 'prisoner'], ['tonuge', 'tongue'], ['efectiveness', 'defectiveness'], ['increacing', 'increasing'], ['reduceses', 'reduces es'], ['anwould', 'an would'], ['fibromialgia', 'fibrillation'], ['gynazol', 'gynecology'], ['norg', 'nor'], ['recxommend', 'recommend'], ['trolamine', 'trampoline'], ['scruptiously', 'scrumptiously'], ['comedomes', 'come domes'], ['amoxacillin', 'amoxicillin'], ['lamotragine', 'trampoline'], ['tleast', 'least'], ['phsychiatrist', 'psychiatrist'], ['grisefulvin', 'grisliness'], ['vajjay', 'veejay'], ['nexlpanon', 'expansion'], ['lomotrogene', 'homogeneity'], ['lomotrugene', 'homogeneous'], ['olmasartan', 'taramasalata'], ['marezine', 'mare zine'], ['metrocream', 'metro cream'], ['husbend', 'husband'], ['metaphorine', 'metaphoric'], ['irratable', 'irritable'], ['lastacaft', 'statecraft'], ['alondgwith', 'withdrawal'], ['empysema', 'emphysema'], ['medc', 'med'], ['roxicet', 'Roxie'], ['nexapalon', 'annexation'], ['vanoxide', 'van oxide'], ['quillivant', 'Quintilian'], ['gravol', 'gravel'], ['psychobabblers', \"psychobabble's\"], ['auryxia', 'auxiliary'], ['phoslo', 'phosphor'], ['renvella', 'novella'], ['auryexia', 'auxiliary'], ['flatulance', 'flatulence'], ['keryx', 'Kerry'], ['fibromalgia', 'fibrillation'], ['fushion', 'fusion'], ['wellbutron', 'bellybutton'], ['escaltalipram', 'escalations'], ['adjustmentsuggestions', 'adjustment suggestions'], ['lbbb', 'BBB'], ['rbbb', 'BBB'], ['lyricia', 'lyrical'], ['claritn', 'clarion'], ['halcion', 'halcyon'], ['onfi', 'info'], ['cshould', 'should'], ['ctry', 'ctr'], ['palexia', 'lexical'], ['osmoprep', 'prepossess'], ['trentinoin', 'entreating'], ['medicatiom', 'medication'], ['olbs', 'lobs'], ['bengay', 'Bengal'], ['pleomorfic', 'pleonasm'], ['xantro', 'cilantro'], ['sytoma', 'symptom'], ['andjourneycontinues', 'transcontinental'], ['tzone', 'tone'], ['caverjet', 'caver jet'], ['gynaecologist', 'gynecologist'], ['berkley', 'Berkeley'], ['diehtylpropion', 'disproportional'], ['bpms', 'bpm'], ['prometrium', 'promethium'], ['rxed', 'red'], ['shbg', 'shag'], ['bhrt', 'Bharat'], ['econozale', 'economical'], ['miracal', 'miracle'], ['extrememely', 'extremely'], ['hrsafter', 'hrs after'], ['orthonovum', 'honorarium'], ['nalfon', 'Alfonzo'], ['tridural', 'epidural'], ['imovane', 'immovable'], ['respirmat', 'respirator'], ['aspalgen', 'Paleogene'], ['msds', 'mads'], ['sciencelab', 'science lab'], ['lipotropic', 'phototropic'], ['pamine', 'patine'], ['indomethicin', 'Indochinese'], ['camrese', 'caress'], ['whice', 'whine'], ['orthotricycline', 'tetracycline'], ['remapril', 'premarital'], ['diahorria', 'dysphoria'], ['vidaza', 'David'], ['adaviar', 'aviary'], ['msny', 'many'], ['briviact', 'Bactria'], ['genesight', 'gene sight'], ['obscess', 'obsess'], ['hypervigilence', 'hyperventilate'], ['prednizone', 'predefined'], ['whewwww', 'whew'], ['weigth', 'weight'], ['celexia', 'Cecelia'], ['endurers', 'ensurers'], ['diastematomyelia', 'systematization'], ['bismal', 'dismal'], ['zeldox', 'Eldon'], ['lioresal', 'foresail'], ['dialate', 'dilate'], ['woopie', 'woo pie'], ['lgot', 'lot'], ['liberium', 'Librium'], ['insufficency', 'insufficiency'], ['vivaglobin', 'hemoglobin'], ['bronchiodilator', 'bronchitic'], ['everyntime', 'everything'], ['clindac', 'clinical'], ['phospate', 'phosphate'], ['plaqenil', 'plaque'], ['mylast', 'my last'], ['gabepentin', 'parenting'], ['eveyday', 'everyday'], ['electrocardiophysiologist', 'electrocardiography'], ['mslt', 'malt'], ['blisterform', 'blister form'], ['detmatologist', 'dermatologist'], ['picc', 'pic'], ['femtrace', 'fem trace'], ['satrted', 'started'], ['flexable', 'flexible'], ['trivora', 'trivia'], ['goddness', 'goddess'], ['chylamadia', 'chlamydia'], ['azithromicyn', 'misanthropic'], ['rxs', 'rs'], ['estraylla', 'Estella'], ['elipitical', 'elliptical'], ['recumbant', 'recumbent'], ['lunestra', 'ancestral'], ['maoi', 'moi'], ['councillor', 'councilor'], ['pindolol', 'indolent'], ['headace', 'headache'], ['dizzines', 'dizzies'], ['manageble', 'manageable'], ['hytrin', 'Trinity'], ['qudexy', 'quietude'], ['farxiga', 'farming'], ['relationhip', 'relationship'], ['biatric', 'Tricia'], ['picato', 'pica to'], ['weinkles', 'wrinkles'], ['flsking', 'flaking'], ['iboga', 'boga'], ['adavan', 'Nevadan'], ['protonics', 'pro tonics'], ['triliplex', 'triplex'], ['zometa', 'momenta'], ['ovulatation', 'ovulation'], ['kranky', 'cranky'], ['distruptive', 'disruptive'], ['catamenial', 'Catalonia'], ['anesthesized', 'anesthetized'], ['solpadol', 'Adolph'], ['exsistant', 'resistant'], ['gaggy', 'saggy'], ['reboxitine', 'tinderbox'], ['sensitity', 'sensitivity'], ['altrain', 'alt rain'], ['sympmtons', 'symptoms'], ['clencing', 'clenching'], ['perimenapausal', 'postmenopausal'], ['ortha', 'Hayworth'], ['zonagran', 'Arizonan'], ['armore', 'armor'], ['vuse', 'vise'], ['laied', 'laird'], ['orthotricyclenlo', 'orthographically'], ['desyryl', 'descry'], ['wonderdrug', 'wonder drug'], ['doxilamine', 'dopamine'], ['efects', 'defects'], ['smokeing', 'smoking'], ['leathal', 'lethal'], ['sevier', 'sever'], ['savodi', 'Savoyard'], ['deklenza', 'cadenza'], ['rna', 'RNA'], ['clonezepam', 'anticyclone'], ['avita', 'vita'], ['sinsuses', 'sinuses'], ['vibryd', 'vibratory'], ['braintree', 'brain tree'], ['satanberry', 'cranberry'], ['krakatoa', 'Krakatoa'], ['lanacane', 'Campanella'], ['procrit', 'procreate'], ['congentin', 'contingent'], ['effectso', 'effects'], ['atenelol', 'crenelate'], ['chlorzoxazone', 'chlorination'], ['pilll', 'pill'], ['pataday', 'payday'], ['awseome', 'awesome'], ['novolog', 'oenology'], ['insuranse', 'insurance'], ['levimir', 'levier'], ['uvb', 'vb'], ['preivously', 'previously'], ['iistarted', 'ii started'], ['minocyline', 'millinery'], ['climara', 'climatic'], ['diclofanac', 'fanatical'], ['feom', 'geom'], ['unswollen', 'swollen'], ['alllergic', 'allergic'], ['uroxatral', 'extramural'], ['thansk', 'thanks'], ['diprivan', 'privation'], ['nonsleep', 'nonslip'], ['medician', 'medicine'], ['rondec', 'Fronde'], ['constapation', 'constipation'], ['chdren', 'children'], ['honour', 'honor'], ['acustom', 'custom'], ['keytruda', 'Trudeau'], ['tumours', 'tumors'], ['triprintec', 'intricate'], ['tierd', 'tired'], ['muched', 'mused'], ['caprishious', 'capricious'], ['addrerall', 'addressable'], ['irratiable', 'irritable'], ['zquil', 'quill'], ['antidepressantss', 'antidepressants'], ['scc', 'cc'], ['drowzy', 'frowzy'], ['acella', 'Ascella'], ['horvani', 'nirvana'], ['solvaldi', 'solvable'], ['potasium', 'potassium'], ['enteragam', 'termagant'], ['gnc', 'enc'], ['pregesterone', 'progesterone'], ['nupercainal', 'Lupercalia'], ['vaginial', 'vaginal'], ['mackena', 'Mackenzie'], ['implaonon', 'implantation'], ['dalisrep', 'disrepair'], ['felodopine', 'floppiness'], ['dermoatologist', 'dermatologist'], ['dermoitis', 'dermatitis'], ['deffiently', 'efficiently'], ['diffulty', 'difficulty'], ['normisom', 'noisome'], ['dilanton', 'dilation'], ['loestrine', 'shoestring'], ['lovan', 'loan'], ['replax', 'relax'], ['nuerolgia', 'neuralgia'], ['novorapid', 'Novocain'], ['constipate', 'constipate'], ['resperidal', 'spermicidal'], ['gynocologist', 'gynecologist'], ['mtbi', 'mt bi'], ['palsey', 'palsy'], ['clonazipam', 'monoclonal'], ['tms', 'ts'], ['ibuprophen', 'ibuprofen'], ['ernesto', 'Ernesto'], ['barretts', 'barrettes'], ['patanase', 'passionate'], ['idio', 'idiot'], ['pathic', 'pathetic'], ['goergous', 'gorgeous'], ['trintillex', 'brilliantine'], ['spirono', 'Spiro'], ['falready', 'already'], ['myfacial', 'my facial'], ['recommmend', 'recommend'], ['effient', 'efficient'], ['ccu', 'CCU'], ['oxtallar', 'oxtail'], ['oxtellar', 'stellar'], ['vivtrol', 'vitriol'], ['dissove', 'dissolve'], ['celebex', 'celeb ex'], ['suffient', 'sufficient'], ['clonazapan', 'monoclonal'], ['pilonidal', 'dilapidation'], ['mirtrazipine', 'Gewurztraminer'], ['galveston', 'Galveston'], ['quitaipine', 'Aquitaine'], ['procyclidine', 'proceeding'], ['pregablin', 'impregnable'], ['gaviscon', 'Gascony'], ['sulfasazine', 'sleaziness'], ['hodgkins', 'Hodgkin'], ['seeiously', 'seriously'], ['showns', 'shown'], ['depressents', 'depressants'], ['pristig', 'rightist'], ['rheumologist', 'seismologist'], ['fertilised', 'fertilized'], ['oxistat', 'tattooist'], ['hodgkin', 'Hodgkin'], ['nuelasta', 'Elastoplast'], ['claritan', 'clarity'], ['hystorectomy', 'hysterectomy'], ['diziness', 'doziness'], ['fribro', 'fibroid'], ['bromhidrosis', 'thrombosis'], ['nuropothy', 'hypothyroid'], ['suboxin', 'subjoin'], ['trajenta', 'entrant'], ['lysol', 'Lysol'], ['carvediol', 'cardiology'], ['toterodine', 'testosterone'], ['dhr', 'hr'], ['rxone', 'Rhone'], ['myfitnesspal', 'maladroitness'], ['experal', 'puerperal'], ['ulram', 'ultra'], ['sobreity', 'sobriety'], ['fitnesspal', 'fitness pal'], ['buprion', 'bu prion'], ['bioflavoids', 'riboflavin'], ['exzema', 'eczema'], ['dispursing', 'dispersing'], ['pegalated', 'peculated'], ['onbrez', 'Breton'], ['vivarin', 'vivaria'], ['levemire', 'reveille'], ['ryme', 'rye'], ['osteopena', 'osteopaths'], ['bloaty', 'bloat'], ['numbess', 'numbness'], ['porlia', 'Portia'], ['doughnuts', 'doughnuts'], ['achiles', 'Achilles'], ['netflicks', 'net flicks'], ['maxzide', 'maximize'], ['ankes', 'ankles'], ['shredless', 'shred less'], ['agonise', 'agonies'], ['jims', 'hims'], ['ibp', 'imp'], ['zpak', 'Zappa'], ['avonez', 'Lavonne'], ['alieve', 'alive'], ['doughnut', 'doughnut'], ['swiched', 'switched'], ['vigina', 'vagina'], ['welburtin', 'Wilburn'], ['clearasil', 'Clearasil'], ['cholestoral', 'cholesterol'], ['praulent', 'fraudulent'], ['generlities', 'generalities'], ['thiss', 'this'], ['prevident', 'president'], ['solodyne', 'solidness'], ['multaq', 'Multan'], ['trilafon', 'trillion'], ['pyschosis', 'psychosis'], ['yesr', 'year'], ['burining', 'burning'], ['haematology', 'hematology'], ['aggitated', 'agitated'], ['chlorthaladone', 'chlorination'], ['pedunculated', 'peculated'], ['dayquil', 'Guayaquil'], ['megestrol', 'astrologer'], ['fluoroqinolones', 'fluorocarbons'], ['aranelle', 'Janelle'], ['gsw', 'gs'], ['omfs', 'oms'], ['vyanse', 'Visayans'], ['whisky', 'whisk'], ['mojot', 'moot'], ['blistex', 'blister'], ['metfomin', 'Menominee'], ['brkfast', 'breakfast'], ['sleepaid', 'sleep aid'], ['vyance', 'abeyance'], ['trentoin', 'Trenton'], ['mable', 'amble'], ['methrotexate', 'methotrexate'], ['seasonsique', 'seasoning'], ['waent', 'want'], ['dilaudud', 'Claudia'], ['snappishness', 'snappishness'], ['behavioural', 'behavioral'], ['tendonapathy', 'tendon apathy'], ['betamblocker', 'Blockbuster'], ['betawaves', 'beta waves'], ['rca', 'RCA'], ['caltrate', 'castrate'], ['uci', 'us'], ['ceja', 'ceca'], ['aswome', 'oarswomen'], ['rxing', 'ring'], ['tekturna', 'returnable'], ['avaparo', 'Pavarotti'], ['dialpads', 'dial pads'], ['duagnozed', 'diagnosed'], ['terconazole', 'catercorner'], ['placd', 'placed'], ['spansules', 'spangles'], ['comorbidies', 'morbidness'], ['leiden', 'laden'], ['invocana', 'invocation'], ['eent', 'int'], ['anethestized', 'anesthetized'], ['sjogren', 'ogress'], ['alupent', 'allurement'], ['temazepan', 'emancipate'], ['phendimet', 'impediment'], ['geniric', 'generic'], ['lovenox', 'lovelorn'], ['backpains', 'back pains'], ['geino', 'geeing'], ['prefivin', 'predefined'], ['asmanex', 'newsman'], ['twisthaler', 'twist haler'], ['punctal', 'punctual'], ['allrex', 'allure'], ['optive', 'operative'], ['diditwrong', 'wrongdoing'], ['�', 'e'], ['ryhthmol', 'rhythmical'], ['cardioreversion', 'cardio reversion'], ['arrhythmics', 'arrhythmic'], ['ropinarole', 'rigmarole'], ['pinchy', 'punchy'], ['crixivan', 'Crimean'], ['anestrozole', 'Austronesian'], ['humour', 'humor'], ['brisdelle', 'bristle'], ['chromazone', 'chromatin'], ['epilum', 'epilogue'], ['diagnozed', 'diagnosed'], ['flecanaide', 'inflectional'], ['bsa', 'BSA'], ['glimipiride', 'glimmering'], ['fentynal', 'penalty'], ['procentra', 'Afrocentric'], ['alzeimers', 'Alzheimer'], ['resus', 'resews'], ['theatre', 'theater'], ['urether', 'ureter'], ['sensetive', 'sensitive'], ['norethisterone', 'testosterone'], ['cerezette', 'cerebrate'], ['tranxamic', 'tragicomic'], ['spondo', 'spoon'], ['eucrisa', 'Eucharist'], ['ewk', 'eek'], ['mayoclinic', 'mayo clinic'], ['altoprev', 'prevalent'], ['amphetemine', 'amphetamine'], ['diharrea', 'diarrhea'], ['niravam', 'Nirvana'], ['hysinglaer', 'Schlesinger'], ['perdue', 'per due'], ['comared', 'compared'], ['msiisng', 'misgiving'], ['seraquil', 'aquiline'], ['talacen', 'placental'], ['hiprex', 'hipper'], ['cryptococcal', 'streptococcal'], ['vistairl', 'Alistair'], ['fetigue', 'fatigue'], ['disguse', 'disuse'], ['adher', 'adhere'], ['surprice', 'surprise'], ['slidder', 'slider'], ['naeusous', 'nauseous'], ['herbalife', 'herbal'], ['mgh', 'mg'], ['adaferin', 'Ferdinand'], ['fibromyaliga', 'profligacy'], ['gymn', 'hymn'], ['comepletely', 'completely'], ['toradolcin', 'Coloradoan'], ['fodmap', 'Goodman'], ['epson', 'Epson'], ['nugrape', 'nu grape'], ['roseasa', 'roseate'], ['clindamyicin', 'clinician'], ['optumrx', 'optimum'], ['septmeber', 'September'], ['colcyrs', 'colors'], ['alvogen', 'halogen'], ['urinozinc', 'incurious'], ['catapres', 'captures'], ['rerviews', 'reviews'], ['zineryt', 'itinerary'], ['armoury', 'armory'], ['bydurion', 'duration'], ['irritableness', 'charitableness'], ['tritated', 'irritated'], ['vitafol', 'vita fol'], ['bcps', 'bps'], ['balziva', 'Balzac'], ['lamisl', 'lam isl'], ['litterarally', 'literally'], ['proprananol', 'proportional'], ['ibroprophen', 'prophesier'], ['ilevro', 'reviler'], ['vyloma', 'Palomar'], ['athetoid', 'rheumatoid'], ['huntsville', 'Huntsville'], ['sroquel', 'sequel'], ['spindylosis', 'spindles'], ['antpsychotic', 'ant psychotic'], ['betapace', 'bet apace'], ['nerualgia', 'neuralgia'], ['trigemengial', 'trigonometrical'], ['isotretinion', 'indiscretion'], ['satiably', 'satiable'], ['advodart', 'advocate'], ['dakins', 'Eakins'], ['vyis', 'vying'], ['stis', 'sits'], ['terth', 'teeth'], ['guickly', 'quickly'], ['aaf', 'oaf'], ['crazzzyyy', 'crazy'], ['ciprodex', 'Cipro'], ['epigastrium', 'triumphalist'], ['tachicardia', 'tachycardia'], ['doctgor', 'doctor'], ['oddi', 'odd'], ['psuedotumor', 'tumorous'], ['vicadine', 'vindicate'], ['cambalta', 'cambial'], ['valproic', 'Valparaiso'], ['cafegot', 'cafe got'], ['aspro', 'as pro'], ['ergotomine', 'ergonomic'], ['prozacfor', 'Prozac'], ['equils', 'equals'], ['methprednisolone', 'methodicalness'], ['tadacip', 'tacit'], ['tadalifil', 'qualified'], ['vivitol', 'vitriol'], ['mdnos', 'Minos'], ['fenara', 'Ferraro'], ['lindzess', 'kindliness'], ['acephix', 'cephalic'], ['barock', 'Barack'], ['bonghit', 'bong hit'], ['habitrol', 'habitual'], ['xlge', 'bulge'], ['hallelulia', 'hallelujah'], ['zicam', 'minicam'], ['remedie', 'remedies'], ['prograf', 'program'], ['prograg', 'program'], ['ecchymotic', 'homoerotic'], ['migrans', 'migrants'], ['yook', 'yuk'], ['naseua', 'nausea'], ['quitiapine', 'Aquitaine'], ['schitzoaffective', 'effectiveness'], ['foodform', 'food form'], ['nitros', 'intros'], ['linguals', 'lingual'], ['emetiphobia', 'homophobia'], ['situatuions', 'situations'], ['fungals', 'fungal'], ['todr', 'tor'], ['cdiff', 'diff'], ['difficid', 'difficult'], ['mustcbe', 'mustache'], ['comodogenic', 'androgenic'], ['epiduoforte', 'pianoforte'], ['nonsensitives', 'nonsensitive'], ['solostar', 'solo star'], ['adipax', 'iPad'], ['dermotologist', 'dermatologist'], ['travatan', 'tantra'], ['lynsey', 'Lynne'], ['recentaly', 'recently'], ['dehdrated', 'dehydrated'], ['strengthless', 'strength less'], ['nortriptyine', 'nonprescription'], ['progessively', 'progressively'], ['rhinitus', 'rhinitis'], ['interstitital', 'interstitial'], ['stabilised', 'stabilized'], ['distma', 'dist ma'], ['migrainer', 'migraine'], ['skerik', 'striker'], ['neausa', 'nausea'], ['cheway', 'chewy'], ['chloesterol', 'cholesterol'], ['sinequan', 'mannequin'], ['entresto', 'restorer'], ['utress', 'tress'], ['nstruction', 'instruction'], ['hospitalised', 'hospitalized'], ['deralin', 'Alderamin'], ['ketoacidoais', 'acidosis'], ['juleber', 'juggler'], ['pamelor', 'Pamela'], ['thristy', 'thirsty'], ['ssnris', 'sunrises'], ['antideppresant', 'antidepressant'], ['sde', 'tide'], ['andormal', 'Armando'], ['tarina', 'taring'], ['hedche', 'checked'], ['imitex', 'imitate'], ['monic', 'sonic'], ['miniere', 'mini ere'], ['afreeza', 'freezable'], ['trulicilty', 'multiplicity'], ['illeum', 'ileum'], ['excerised', 'exercised'], ['elestat', 'stateless'], ['sumatripan', 'Sumatran'], ['nausa', 'sauna'], ['unive', 'univ'], ['promathezine', 'aromatherapist'], ['moochie', 'mooch'], ['melleril', 'Merrill'], ['trokendi', 'trendily'], ['trokenid', 'sidestroke'], ['navane', 'vane'], ['movantix', 'motivation'], ['laproscopy', 'laparoscopy'], ['notrel', 'not rel'], ['digesics', 'geodesics'], ['orinase', 'originate'], ['entod', 'oddment'], ['galapentin', 'penitential'], ['freguently', 'frequently'], ['gettiing', 'getting'], ['mody', 'mod'], ['summarise', 'summaries'], ['insomina', 'insomnia'], ['optamistic', 'optimistic'], ['herrington', 'herring ton'], ['zanaflax', 'Flanagan'], ['duexis', 'due xis'], ['ibruprofin', 'ibuprofen'], ['ovariant', 'ovarian'], ['biacna', 'Bianca'], ['praxada', 'Prada'], ['mlgm', 'ml gm'], ['bennifit', 'benefit'], ['saratonin', 'saturation'], ['urogynocologist', 'gynecologist'], ['methaltrexate', 'methotrexate'], ['driclor', 'tricolor'], ['litteraly', 'literally'], ['adominal', 'abdominal'], ['ppda', 'panda'], ['zombieish', 'zombie'], ['expirienced', 'experienced'], ['chanix', 'mechanic'], ['nucyntaer', 'numeracy'], ['coffing', 'coffin'], ['zopidem', 'epidemic'], ['combipatch', 'combination'], ['aip', 'sip'], ['variegate', 'variegate'], ['tamazepam', 'amazement'], ['yeaah', 'yeah'], ['ribovflavin', 'riboflavin'], ['ohc', 'och'], ['dxed', 'deed'], ['naesous', 'nae sous'], ['werid', 'weird'], ['annoyying', 'annoying'], ['jaz', 'jazz'], ['stopt', 'stop'], ['clopixol', 'clopping'], ['intuned', 'intoned'], ['urinations', 'urination'], ['equalled', 'equaled'], ['elaquis', 'Aquila'], ['absorbine', 'absorbing'], ['thankyouaftera', 'afterthought'], ['antiphospholipid', 'hospholipase'], ['mcp', 'mp'], ['osteophyte', 'osteopathy'], ['agoraphobias', 'agoraphobia'], ['zolof', 'Zoloft'], ['lidex', 'lid ex'], ['marfan', 'mar fan'], ['rhode', 'Rhode'], ['clarithyromycin', 'erythromycin'], ['tegratol', 'tolerate'], ['doxycycl', 'cyclonic'], ['hyc', 'achy'], ['remicaide', 'academic'], ['perisperant', 'antiperspirant'], ['spintec', 'spinster'], ['conrtol', 'control'], ['abcs', 'abs'], ['exedrine', 'Dexedrine'], ['kappra', 'kappa'], ['emeda', 'edema'], ['fibrolmyalgia', 'fibrillation'], ['chondromylacia', 'hypochondriac'], ['hizentra', 'centralize'], ['depakene', 'department'], ['anybodafter', 'afterburner'], ['acetylsalicylic', 'stylistically'], ['tretoin', 'retrain'], ['uped', 'upend'], ['hypothryroidism', 'hypothyroidism'], ['asb', 'abs'], ['ahorrid', 'horrid'], ['tdiet', 'diet'], ['nabumatone', 'automaton'], ['barbits', 'rabbits'], ['prozeezy', 'proselytize'], ['malasma', 'plasma'], ['grogged', 'dogged'], ['fent', 'dent'], ['pharmacuticals', 'pharmaceuticals'], ['cacarowas', 'cassowary'], ['contolling', 'controlling'], ['boderline', 'borderline'], ['migraneur', 'migraine'], ['aromatizing', 'automatizing'], ['riboviran', 'riboflavin'], ['havovi', 'Havoline'], ['harvovi', 'Harvard'], ['phenegrin', 'peregrine'], ['liptitor', 'litigator'], ['veltin', 'vetting'], ['tambocor', 'tambourine'], ['edarbyclor', 'encyclopedia'], ['comparitely', 'comparatively'], ['vicoden', 'Unicode'], ['assistiance', 'assistance'], ['gurling', 'furling'], ['saine', 'sane'], ['anyyy', 'any'], ['aerations', 'aeration'], ['frequnecy', 'frequency'], ['triluma', 'trillium'], ['booooyyy', 'boyhood'], ['hydrochorlthadize', 'hydroelectrically'], ['faciitis', 'fascistic'], ['caovered', 'covered'], ['hirtuism', 'Hinduism'], ['yasmine', 'jasmine'], ['superdefense', 'super defense'], ['burspar', 'bursar'], ['sensorneural', 'sensor neural'], ['blarring', 'blaring'], ['sertaline', 'inertial'], ['reliave', 'relive'], ['jme', 'dime'], ['bppv', 'BP'], ['sparadoic', 'sporadic'], ['headmoves', 'head moves'], ['epiceram', 'ceramic'], ['quitapex', 'quit apex'], ['nodeprine', 'epinephrine'], ['phenob', 'phenol'], ['grandmal', 'grandma'], ['phonobarb', 'phenobarbital'], ['marinol', 'Marisol'], ['dronainol', 'pronominal'], ['camreselo', 'caseload'], ['psoriaisis', 'psoriasis'], ['prescrip', 'prescript'], ['uteran', 'utterance'], ['fetizma', 'magnetize'], ['compleatly', 'completely'], ['turky', 'turkey'], ['effectivess', 'effectiveness'], ['agreeded', 'agreed ed'], ['rephresh', 'refresh'], ['flagl', 'flag'], ['nightquill', 'night quill'], ['depressiom', 'depression'], ['droggy', 'doggy'], ['othro', 'troth'], ['vescepa', 'Vespasian'], ['schrider', 'sch rider'], ['jlodge', 'lodge'], ['moviprepers', 'moviegoers'], ['epogen', 'Neogene'], ['mvd', 'med'], ['paxcil', 'papilla'], ['publix', 'public'], ['inrs', 'ins'], ['coagucheck', 'coagulate'], ['havd', 'had'], ['excersice', 'excessive'], ['edarbi', 'barbie'], ['mortrin', 'Motrin'], ['shiseido', 'sheikdom'], ['clearisil', 'Clearasil'], ['obagi', 'Tobago'], ['worksd', 'works'], ['altavera', 'traversal'], ['enpresse', 'pressmen'], ['nordette', 'novelette'], ['triphasil', 'triumphal'], ['wwiii', 'WWII'], ['snackyness', 'slackness'], ['glocotrol', 'globetrotter'], ['vommitting', 'committing'], ['forover', 'forever'], ['althletic', 'athletic'], ['duplixent', 'duplicate'], ['congrates', 'congrats'], ['zecuity', 'circuity'], ['akamin', 'aka min'], ['autisim', 'autism'], ['inderol', 'indexer'], ['sular', 'solar'], ['mistaked', 'mistakes'], ['medicicne', 'medicine'], ['draino', 'drain'], ['disolving', 'dissolving'], ['methorexate', 'methotrexate'], ['synd', 'syn'], ['undectable', 'undetectable'], ['ibguard', 'guard'], ['docusate', 'doctorate'], ['buttcheek', 'butt cheek'], ['afects', 'affects'], ['lightlight', 'nightlight'], ['discarge', 'discharge'], ['sovled', 'solved'], ['doxycyline', 'cylinder'], ['tyroid', 'thyroid'], ['simcor', 'sim cor'], ['elevil', 'eviller'], ['ketaprofen', 'ibuprofen'], ['ptressure', 'pressure'], ['preescription', 'prescription'], ['preponik', 'preposition'], ['desirve', 'desire'], ['incontrollable', 'uncontrollable'], ['zulane', 'Tulane'], ['pricess', 'process'], ['studdering', 'shuddering'], ['alprazol', 'Alpheratz'], ['twered', 'tweed'], ['stratles', 'startles'], ['difucan', 'Canadian'], ['miconizol', 'semicolon'], ['buldging', 'bulging'], ['tricera', 'trice'], ['trelstar', 'starer'], ['elaxine', 'Elaine'], ['inflammated', 'inflammation'], ['arthotec', 'carthorse'], ['chirrosiss', 'cirrhosis'], ['westcort', 'escort'], ['chlyamidia', 'chlamydia'], ['desolve', 'resolve'], ['woried', 'worried'], ['axcept', 'accept'], ['headch', 'heads'], ['rosula', 'Rosella'], ['onglazia', 'glazing'], ['aic', 'sic'], ['orap', 'rap'], ['backtalker', 'back talker'], ['fiercet', 'fiercer'], ['synthriod', 'synthesized'], ['axiety', 'anxiety'], ['anastrzole', 'astrologer'], ['alleve', 'allele'], ['xgeva', 'Geneva'], ['frin', 'grin'], ['galderma', 'alderman'], ['cerava', 'racer'], ['tojust', 'to just'], ['depressessed', 'prepossessed'], ['addisonian', 'Addison'], ['everntuslly', 'venturously'], ['insomiia', 'insomnia'], ['spectazole', 'spectacles'], ['felbamate', 'amalgamate'], ['obvulation', 'ovulation'], ['bowflex', 'bow flex'], ['lemtrada', 'Lestrade'], ['postives', 'posties'], ['helpsx', 'helps'], ['lodine', 'iodine'], ['invokanamet', 'involvement'], ['difluican', 'lubricant'], ['topirimate', 'primate'], ['implan', 'implant'], ['veslcare', 'vesicular'], ['turture', 'nurture'], ['agitaged', 'agitated'], ['adhessive', 'adhesive'], ['plumming', 'pluming'], ['temprament', 'temperament'], ['ducalax', 'ducal ax'], ['dasotraline', 'dastardliness'], ['flintstones', 'Flintstones'], ['toally', 'tally'], ['xanadu', 'Xanadu'], ['expirenced', 'experienced'], ['jounior', 'junior'], ['kelflex', 'flexible'], ['hemmoroid', 'hemorrhoid'], ['anaphylatic', 'prophylactic'], ['cocix', 'cocci'], ['precsribed', 'prescribed'], ['joshalynn', 'Rosalyn'], ['uniphyl', 'Phyllis'], ['vuj', 'Vulg'], ['kub', 'chub'], ['derealisation', 'desalination'], ['safryl', 'salary'], ['tooked', 'rooked'], ['rheumatiod', 'rheumatoid'], ['sancuso', 'Sancho'], ['dianete', 'Diane'], ['fibromyalsia', 'falsifiable'], ['orajel', 'Elnora'], ['propannalol', 'proportional'], ['bumed', 'boomed'], ['caverject', 'interject'], ['amoxicillian', 'amoxicillin'], ['nexolanon', 'exoplanet'], ['oncey', 'once'], ['monsitat', 'monstrosity'], ['standback', 'stand back'], ['infecton', 'infection'], ['uroxatrol', 'idolatrous'], ['premeds', 'premeds'], ['zurtec', 'Zyrtec'], ['pyjamas', 'pajamas'], ['flipfloping', 'flipping'], ['nux', 'nix'], ['basaglar', 'Barabbas'], ['uretha', 'urethra'], ['naphcon', 'naphtha'], ['loxa', 'lox'], ['zoledronic', 'electronic'], ['copius', 'copious'], ['inplonon', 'implosion'], ['everr', 'ever'], ['extremily', 'extremely'], ['nasalcrom', 'postnasal'], ['nexavar', 'Navarre'], ['benedrly', 'Benzedrine'], ['psyc', 'psych'], ['oesophagus', 'esophagus'], ['contiunously', 'continuously'], ['bloodsugar', 'blood sugar'], ['everyrhing', 'everything'], ['tasgina', 'tasting'], ['ventese', 'seventeen'], ['menapause', 'menopause'], ['oxynorm', 'oxymoron'], ['tramil', 'trail'], ['tgn', 'tn'], ['trileptol', 'trilobite'], ['foundout', 'found out'], ['pregn', 'preen'], ['dyshidrotic', 'dysphoric'], ['fibromyalia', 'fibrillation'], ['prescibing', 'prescribing'], ['enuogh', 'enough'], ['temodol', 'theodolite'], ['activiates', 'activates'], ['aleviated', 'alleviated'], ['menstration', 'menstruation'], ['vicidon', 'vicing'], ['svared', 'scared'], ['codine', 'cosine'], ['versicare', 'caregiver'], ['afinitor', 'initiator'], ['erbitux', 'erbium'], ['boolshet', 'Bolshevist'], ['qeeg', 'EEG'], ['lupey', 'Lupe'], ['lozegers', 'loggers'], ['oxycontiner', 'Oxycontin'], ['weakist', 'weakest'], ['renervation', 'enervation'], ['aluminium', 'aluminum'], ['andriol', 'mandrill'], ['neurolgist', 'neurologist'], ['coldsore', 'cold sore'], ['maleria', 'malaria'], ['bencyclin', 'encyclical'], ['ondanstron', 'nonstandard'], ['adderoll', 'Rollerblade'], ['dilututing', 'diluting'], ['cigerettes', 'cigarettes'], ['ophthamologists', 'ophthalmologists'], ['propellents', 'propellants'], ['explanon', 'explanation'], ['antibotic', 'antibiotic'], ['norforms', 'nor forms'], ['rectiv', 'directive'], ['rlq', 'URL'], ['expierience', 'experience'], ['excipial', 'participial'], ['depressent', 'depressant'], ['unremittently', 'unremittingly'], ['fluoroxetine', 'fluorine'], ['lexipro', 'lexicon'], ['skitzo', 'skit'], ['efftive', 'effective'], ['updosed', 'up dosed'], ['ehlers', 'hollers'], ['danlos', 'dandles'], ['groggyness', 'grogginess'], ['dupuy', 'dumpy'], ['benlysta', 'beanstalk'], ['kiehls', 'kielbasi'], ['neals', 'leans'], ['bedescu', 'scudded'], ['itchness', 'itchiness'], ['cudnt', 'cud'], ['achool', 'school'], ['childood', 'childhood'], ['suminat', 'ruminate'], ['disprin', 'misprint'], ['vasograin', 'grosgrain'], ['voveran', 'overran'], ['indomethen', 'heathendom'], ['prisitiq', 'pristine'], ['stalopam', 'Stallone'], ['despersonalizion', 'depersonalize'], ['gynos', 'gyros'], ['divacup', 'diva cup'], ['edeonax', 'Desdemona'], ['discntinue', 'discontinue'], ['drepressants', 'depressants'], ['siatica', 'sciatica'], ['hepascore', 'threescore'], ['psychosomaticly', 'psychosomatic'], ['harvoini', 'harmonica'], ['aygestin', 'ingestion'], ['concor', 'concord'], ['atension', 'tension'], ['labworks', 'lab works'], ['dopamax', 'dopa max'], ['aridimex', 'aridity'], ['doage', 'doge'], ['iigo', 'ii go'], ['neuoprathy', 'nephropathy'], ['butrin', 'butting'], ['diflucin', 'Lucinda'], ['pooridge', 'porridge'], ['pennicilin', 'penicillin'], ['enanthate', 'tenanted'], ['inorgasmic', 'in orgasmic'], ['rivea', 'rives'], ['jealeous', 'jealous'], ['counsellors', 'counselors'], ['mediumish', 'medium'], ['lavaquin', 'lava quin'], ['neighbour', 'neighbor'], ['worthit', 'wort hit'], ['dilt', 'silt'], ['probabally', 'probably'], ['doooo', 'doodad'], ['jesuuuuus', 'Jesus'], ['nausested', 'nauseated'], ['rememron', 'remember'], ['vicadin', 'vindicate'], ['tapazole', 'tadpole'], ['ventollin', 'Ventolin'], ['dettol', 'detox'], ['theflu', 'the flu'], ['avalox', 'Avalon'], ['eerin', 'eerie'], ['methylteosterone', 'testosterone'], ['achhs', 'aches'], ['indigested', 'undigested'], ['headches', 'headaches'], ['glimperide', 'glimmering'], ['cruris', 'crisis'], ['benzamycin', 'Benjamin'], ['tegretrol', 'retrogress'], ['halodol', 'halloo'], ['negativr', 'negative'], ['menieres', 'menageries'], ['dibillitating', 'debilitating'], ['alzeihmer', 'Alzheimer'], ['clexene', 'Kleenex'], ['rivoroxyban', 'riverbank'], ['corizone', 'Corinne'], ['synviscone', 'viscountess'], ['narvoni', 'Darvon'], ['shiort', 'shirt'], ['conazepam', 'contaminate'], ['instantl', 'instant'], ['puton', 'piton'], ['mouthfull', 'mouthful'], ['cavings', 'caving'], ['rhuematoid', 'rheumatoid'], ['somnote', 'somnolent'], ['pallpitations', 'palpitations'], ['lidaderm', 'lipreader'], ['lidocane', 'lido cane'], ['bioflavins', 'riboflavin'], ['tioconazole', 'collection'], ['bupron', 'bu pron'], ['irmat', 'Irma'], ['onlgyza', 'ontology'], ['anxioty', 'anxiety'], ['xozal', 'Gonzalo'], ['lexapeo', 'laypeople'], ['armidex', 'sidearm'], ['budeprion', 'depression'], ['ughhh', 'ugh'], ['viki', 'vii'], ['crevical', 'cervical'], ['nowing', 'bowing'], ['brokeout', 'broke out'], ['veltins', 'tinsel'], ['apripazole', 'apricot'], ['apripozole', 'apricot'], ['srni', 'sarnie'], ['vienva', 'Vienna'], ['migrelief', 'relief'], ['longggg', 'logging'], ['yetttttt', 'layette'], ['boxtox', 'Botox'], ['loratdine', 'Loraine'], ['fexofenafine', 'fenestration'], ['elipta', 'elliptic'], ['gential', 'genital'], ['prednisalone', 'precolonial'], ['naturthroid', 'anthropoid'], ['direahea', 'diarrhea'], ['cellulititis', 'cellulitis'], ['flowmax', 'flow max'], ['turp', 'turps'], ['physciatrist', 'psychiatrist'], ['akatasia', 'Anastasia'], ['rilutek', 'dilute'], ['bexxar', 'Beatrix'], ['adderallxr', 'gallbladder'], ['colgate', 'Colgate'], ['ibuprofine', 'ibuprofen'], ['hoshi', 'hos hi'], ['ambein', 'flambeing'], ['tolorence', 'Florence'], ['fibroscan', 'fibrosis'], ['rivabirin', 'riverbank'], ['rivavirin', 'riboflavin'], ['tyre', 'Tyre'], ['epstein', 'Epstein'], ['refluxed', 're fluxed'], ['waight', 'wait'], ['gtype', 'type'], ['tachy', 'yacht'], ['fibrolipoma', 'fibrillation'], ['diganose', 'diagnose'], ['durezol', 'Durer'], ['insertation', 'insertions'], ['lasilactone', 'Blackstone'], ['ipi', 'ii'], ['yervoy', 'voyeur'], ['reeeeeally', 'agreeably'], ['cardizen', 'Cardin'], ['sclerosus', 'sclerosis'], ['regularely', 'regularly'], ['anacin', 'Anacin'], ['vien', 'vain'], ['badddd', 'badder'], ['lweave', 'leave'], ['fiortal', 'Fortaleza'], ['commens', 'commend'], ['sacrio', 'sacristy'], ['tripreventfem', 'preventative'], ['provero', 'proverb'], ['benzsonate', 'resonate'], ['micu', 'mic'], ['tumms', 'tums'], ['dexies', 'denies'], ['recomment', 'recommend'], ['xananx', 'Xanadu'], ['gravitron', 'gravitation'], ['factive', 'active'], ['agained', 'gained'], ['myobloc', 'mycology'], ['biphentin', 'phenacetin'], ['omnaris', 'comparison'], ['itises', 'irises'], ['magestrol', 'maestro'], ['myfortic', 'mortician'], ['tranquilliser', 'tranquilizer'], ['nowl', 'bowl'], ['linzees', 'lines'], ['kerydim', 'Kerry'], ['vybriid', 'hybrid'], ['mirtazepine', 'epinephrine'], ['elvanse', 'selvage'], ['effex', 'effed'], ['fsh', 'sh'], ['belsomr', 'Abelson'], ['dithranol', 'traditional'], ['topica', 'topics'], ['calcipitrol', 'tropical'], ['acetretin', 'retraction'], ['fumaric', 'Maricela'], ['nauseuas', 'nauseous'], ['vestibulitis', 'vestibules'], ['horomones', 'hormones'], ['senestivity', 'sensitivity'], ['simvastation', 'devastation'], ['propofal', 'proposal'], ['sedations', 'sedation'], ['gardnerella', 'Lardner'], ['broncitis', 'bronchitis'], ['finallyconvinced', 'finally convinced'], ['neocitran', 'recalcitrant'], ['regemin', 'regimen'], ['tramacet', 'racetrack'], ['mthfr', 'froth'], ['bultab', 'tabular'], ['becsude', 'becloud'], ['mediicne', 'medicine'], ['rheumatitis', 'rheumatism'], ['gabenton', 'Benton'], ['acned', 'caned'], ['mirenas', 'arenas'], ['nationalhealthservice', 'internationalization'], ['susbstancs', 'substances'], ['naused', 'nausea'], ['solaraze', 'solaria'], ['esphagus', 'esophagus'], ['ddavp', 'David'], ['atorvastin', 'starvation'], ['nonexsistant', 'nonresistant'], ['mirolax', 'microloan'], ['unprictable', 'unprintable'], ['nahhh', 'nah'], ['eosinophillic', 'eosinophilic'], ['allegron', 'allegro'], ['incommon', 'uncommon'], ['dirreah', 'diarrhea'], ['amplodine', 'trampoline'], ['kruger', 'Kruger'], ['miboflow', 'inflow'], ['lipoflow', 'lollipop'], ['lunelle', 'Janelle'], ['snce', 'since'], ['tetracyclic', 'tetra cyclic'], ['ludiomil', 'ludicrous'], ['maprotiline', 'rectilinear'], ['velban', 'Albanian'], ['nause', 'nausea'], ['physian', 'physician'], ['sulfazine', 'sulfa zine'], ['diarrea', 'diarrhea'], ['humirapen', 'misshapen'], ['lonelyness', 'loneliness'], ['orthi', 'worthily'], ['stomac', 'stomach'], ['neurotomy', 'neurotic'], ['rbc', 'rec'], ['golightly', 'go lightly'], ['phosphosoda', 'phosphorous'], ['dolculax', 'calculated'], ['raglin', 'raglan'], ['levatiraacetam', 'paracetamol'], ['homepathic', 'homeopathic'], ['linoclotide', 'nucleotide'], ['adhesional', 'adhesion'], ['burprion', 'bur prion'], ['trintelex', 'teleprinter'], ['lovig', 'loving'], ['saxena', 'Xenakis'], ['singluar', 'singular'], ['dsorder', 'disorder'], ['tommarro', 'tomorrow'], ['rumpleminze', 'simpleminded'], ['psychciatrist', 'psychiatrist'], ['experienceing', 'experiencing'], ['cefdining', 'discerning'], ['jrpem', 'jumper'], ['birthvcontrol', 'controvertible'], ['vectra', 'Electra'], ['suocidal', 'suicidal'], ['bld', 'bl'], ['endochronologist', 'endocrinologist'], ['distabilising', 'disestablishing'], ['cardiophobia', 'cardio phobia'], ['shiit', 'shirt'], ['gooone', 'goo one'], ['klonapin', 'Klondike'], ['triphasic', 'Triassic'], ['feburary', 'February'], ['phn', 'pen'], ['metronizole', 'metronome'], ['peptobismol', 'seismologist'], ['seroxat', 'serrate'], ['zelboraf', 'elaborate'], ['metrodinazole', 'metropolitan'], ['condylox', 'Condillac'], ['clexane', 'cleaner'], ['cardevilol', 'cardholder'], ['dyti', 'tidy'], ['movicol', 'Mohorovicic'], ['pbc', 'pic'], ['baylor', 'Baylor'], ['amoxycillon', 'amoxicillin'], ['asperberger', 'Asperger'], ['flecainade', 'decaffeinate'], ['avm', 'av'], ['mwf', 'MW'], ['supossedly', 'supposedly'], ['alost', 'lost'], ['naeusea', 'nausea'], ['gonnorhea', 'gonorrhea'], ['riteaid', 'rite aid'], ['gradualy', 'gradual'], ['beconase', 'Seconal'], ['❤i', 'i'], ['oaklawn', 'oak lawn'], ['pysiciatrist', 'astrophysicist'], ['dulolax', 'dullard'], ['serostim', 'Rossetti'], ['pikoprep', 'prepping'], ['caughing', 'coughing'], ['noretherindone', 'northerner'], ['hwen', 'when'], ['northstar', 'north star'], ['cwhat', 'chat'], ['hycodan', 'Coloradan'], ['wipings', 'weepings'], ['vanacof', 'anaconda'], ['zurtipro', 'proportion'], ['carcinoembryonic', 'carcinogenicity'], ['cea', 'ca'], ['cortibalm', 'cortical'], ['cleaser', 'leaser'], ['moisturising', 'moisturizing'], ['bepanthen', 'pantheon'], ['iread', 'read'], ['masacres', 'massacres'], ['duregesic', 'geodesic'], ['maunufacturer', 'manufacturer'], ['medicatuons', 'medications'], ['advate', 'adv ate'], ['calan', 'canal'], ['migrianes', 'migraines'], ['choreful', 'forceful'], ['diareahea', 'diarrhea'], ['douched', 'doused'], ['gurts', 'hurts'], ['deficiencient', 'deficient'], ['etropian', 'Ethiopian'], ['horomone', 'hormone'], ['dedicided', 'dedicated'], ['bamm', 'balm'], ['trinesa', 'tramlines'], ['affinitor', 'affinity'], ['iching', 'icing'], ['fibromayalgia', 'fibrillation'], ['sythyroid', 'hypothyroid'], ['muscousy', 'Muscovy'], ['obgyns', 'obtains'], ['stromectol', 'spectrometer'], ['amplodipine', 'amphetamine'], ['migraten', 'migrate'], ['irratability', 'irritability'], ['tollerable', 'tolerable'], ['gezillion', 'gazillion'], ['deffintly', 'defiantly'], ['propoxy', 'proxy'], ['nasea', 'nausea'], ['progesterine', 'progesterone'], ['recommed', 'recommend'], ['urti', 'Curtis'], ['cerebrae', 'cerebra'], ['tryglicerides', 'triglycerides'], ['cupsizes', 'capsizes'], ['clonidne', 'cloisonne'], ['mva', 'ma'], ['lustral', 'austral'], ['amitript', 'Tripitaka'], ['seralitine', 'literalness'], ['canasa', 'canasta'], ['fience', 'fence'], ['thgt', 'hgt'], ['sonatata', 'sonata'], ['trimipramin', 'trimmings'], ['physicaly', 'physical'], ['glimeperide', 'glimmering'], ['trichotiliomania', 'cliometrician'], ['garabge', 'garbage'], ['hydrocodon', 'hydro codon'], ['doxybact', 'orthodoxy'], ['siscoid', 'scoliosis'], ['premedicated', 'premeditated'], ['tardiv', 'tar div'], ['dyskonesia', 'Indonesian'], ['firmagon', 'affirmation'], ['amitripyline', 'trampoline'], ['paraniod', 'paranoid'], ['endocrinoligist', 'endocrinologist'], ['bocepresis', 'repressions'], ['metobolism', 'metabolism'], ['xenedrine', 'Dexedrine'], ['amazingly\\u200b', 'amazingly'], ['anymor', 'anymore'], ['gradioise', 'grandiose'], ['itchynes', 'itchiness'], ['pco', 'co'], ['excrutating', 'excruciating'], ['foetal', 'fetal'], ['redic', 'relic'], ['tamusolin', 'Mussolini'], ['teasp', 'teas'], ['cetophil', 'pedophile'], ['libirum', 'Librium'], ['jvc', 'JV'], ['ibsc', 'Ibsen'], ['nauseus', 'nauseous'], ['egd', 'ed'], ['grimanced', 'grimaced'], ['pharmacia', 'pharmacist'], ['floxed', 'foxed'], ['ovide', 'video'], ['peee', 'pie'], ['eeww', 'peewee'], ['enteracept', 'intercept'], ['bladderpain', 'bladder pain'], ['phenazopyridine', 'pyrimidine'], ['sciencedirect', 'science direct'], ['pii', 'poi'], ['backaround', 'background'], ['buttochs', 'buttocks'], ['nexted', 'extend'], ['tompiramate', 'computerate'], ['phendemetrazine', 'Thorazine'], ['formualtions', 'formulations'], ['cytoxan', 'cytosine'], ['propapil', 'papillary'], ['daizepam', 'macadamize'], ['jassen', 'Lassen'], ['cliag', 'cling'], ['cefidinr', 'diffidence'], ['celgene', 'negligence'], ['incivik', 'incivility'], ['allupurinol', 'alluring'], ['adderrall', 'gallbladder'], ['sublimaze', 'sublimate'], ['destabilising', 'destabilizing'], ['ogen', 'gone'], ['estratest', 'sequestrate'], ['augmenters', 'augmenters'], ['trapezeus', 'trapezes'], ['athritis', 'arthritis'], ['panadine', 'Nadine'], ['trazidone', 'Thorazine'], ['diloaudi', 'audiology'], ['percription', 'superscription'], ['nortriyptyline', 'noncrystalline'], ['pulomonary', 'pulmonary'], ['meftalspas', 'metacarpals'], ['spasmoproxivonne', 'antispasmodic'], ['brufen', 'Brunei'], ['cympalta', 'cymbalist'], ['bynedryel', 'benedictory'], ['prialt', 'pretrial'], ['kerb', 'berk'], ['doomsville', 'Louisville'], ['tweezerman', 'tweezers'], ['pocs', 'cops'], ['wera', 'wear'], ['cerazette', 'gazetteer'], ['uncomfortability', 'uncomfortably'], ['efferct', 'effect'], ['unsecented', 'unscented'], ['laterii', 'later ii'], ['lorazepram', 'deplorably'], ['thurday', 'Thursday'], ['deblitane', 'debilitate'], ['dyphenhidromine', 'prominence'], ['laryngospams', 'laryngitis'], ['dibiltating', 'debilitating'], ['healthline', 'health line'], ['marvellous', 'marvelous'], ['delaudid', 'Adelaide'], ['xnx', 'xx'], ['mrd', 'med'], ['chanteal', 'Chaldean'], ['saxendra', 'Sandra'], ['alendronic', 'androgenic'], ['goodess', 'goodness'], ['hhas', 'shah'], ['nuvigilshop', 'invigilator'], ['gildes', 'glides'], ['feell', 'fill'], ['adgitated', 'agitated'], ['pregency', 'regency'], ['endodentist', 'dentistry'], ['liothyronine', 'brotherliness'], ['powerade', 'powder'], ['undecylenate', 'understatement'], ['desenex', 'denseness'], ['midtreatment', 'mistreatment'], ['weakand', 'weak and'], ['slippled', 'slipped'], ['yrold', 'yr old'], ['novemeber', 'November'], ['hyperness', 'hyperspaces'], ['diharea', 'diarrhea'], ['nauses', 'anuses'], ['comcentra', 'concentrate'], ['excedrins', 'Excedrin'], ['psylliym', 'Phyllis'], ['cardioligst', 'cardiologist'], ['oxycondone', 'condone'], ['adivan', 'divan'], ['altabax', 'Alabama'], ['vitiams', 'vitiates'], ['cronhs', 'crones'], ['lilleta', 'Lille'], ['opgyn', 'popgun'], ['endodocrinologist', 'endocrinologist'], ['oxycodonne', 'Oxycontin'], ['hemicolectomy', 'cholecystectomy'], ['tramodol', 'ultramodern'], ['premedicate', 'premeditate'], ['sytemic', 'systemic'], ['sceroderma', 'Schroeder'], ['pristiqu', 'pristine'], ['fluoroqunilone', 'fluorocarbon'], ['dimenhydrinate', 'indiscriminate'], ['cheratussin', 'Heraclitus'], ['pescribed', 'prescribed'], ['gastroparisis', 'gastroenteritis'], ['xigduo', 'exiguous'], ['sotolol', 'solo'], ['rhythmol', 'rhythm'], ['arse', 'ares'], ['onestep', 'one step'], ['ketaconazole', 'contactable'], ['raynaund', 'Raymundo'], ['dpd', 'dd'], ['fluxotine', 'Florentine'], ['foraminotomy', 'contaminator'], ['prevera', 'preserver'], ['cenovis', 'novices'], ['reccurent', 'recurrent'], ['monurol', 'monaural'], ['gerds', 'herds'], ['skylah', 'Skylab'], ['foght', 'fight'], ['alphaclav', 'balaclava'], ['clavulanic', 'clavicle'], ['tussin', 'Robitussin'], ['persrcription', 'superscription'], ['achille', 'Achilles'], ['entrophen', 'entropy'], ['greying', 'graying'], ['benzodiaphines', 'Benedictines'], ['idealisations', 'idealizations'], ['zoderm', 'Dermot'], ['kolonipine', 'floppiness'], ['herlped', 'helped'], ['anaemic', 'anemic'], ['cyxlen', 'leniency'], ['aszulfadine', 'incarnadine'], ['endocort', 'endocrine'], ['metalllic', 'metallic'], ['silvadine', 'shadiness'], ['prendisone', 'prisoner'], ['altrax', 'Altamira'], ['clyndimicine', 'medicine'], ['prk', 'pr'], ['recconend', 'condone'], ['intiniv', 'antivenin'], ['femcap', 'fem cap'], ['kelnor', 'snorkel'], ['dosaging', 'dos aging'], ['humulin', 'Mullins'], ['provenge', 'Provence'], ['epculsa', 'pulsate'], ['gastistis', 'gastritis'], ['savaysa', 'savagery'], ['dhea', 'head'], ['fanbloodytastic', 'fantastical'], ['sanctura', 'sanctuary'], ['ondivo', 'division'], ['orthocisc', 'orthopedics'], ['mvi', 'mi'], ['contorl', 'control'], ['kenelog', 'Kellogg'], ['xyzol', 'zoology'], ['brotholins', 'brotherliness'], ['onit', 'obit'], ['nucoxia', 'cornucopia'], ['ciplas', 'plastic'], ['etacept', 'accept'], ['clorazepate', 'Cleopatra'], ['childhhod', 'childhood'], ['ivey', 'ivy'], ['sinement', 'tenement'], ['solaray', 'solar'], ['questran', 'quest ran'], ['phendimetrazine', 'uncomprehending'], ['estrine', 'restring'], ['frenquently', 'frequently'], ['reynauds', 'Reynolds'], ['viibyrid', 'vibrated'], ['nclenal', 'galena'], ['nicene', 'Nicene'], ['talwin', 'tailwind'], ['wallgreens', 'wall greens'], ['budapest', 'Budapest'], ['lopedium', 'compendium'], ['autoject', 'autodidact'], ['discharg', 'discharge'], ['plyri', 'ripply'], ['libruium', 'Librium'], ['clindagel', 'clinger'], ['fasciatis', 'fascistic'], ['subsys', 'subs'], ['clesr', 'clear'], ['llf', 'll'], ['thyorid', 'thyroid'], ['fental', 'dental'], ['phsycologically', 'psychologically'], ['softners', 'softeners'], ['softner', 'softer'], ['trazedone', 'Tarazed'], ['abien', 'alien'], ['usn', 'USN'], ['tussinex', 'fussiness'], ['cepacol', 'Pensacola'], ['anciety', 'anxiety'], ['vaugly', 'vaguely'], ['misshap', 'mishap'], ['takinfg', 'taking'], ['anx', 'an'], ['worsing', 'wording'], ['consintrate', 'considerate'], ['hypomanics', 'hypo manics'], ['manics', 'manic'], ['levequin', 'harlequin'], ['obessed', 'obsessed'], ['colcry', 'col cry'], ['addyi', 'daddy'], ['wantedv', 'wanted'], ['cadc', 'cad'], ['protinor', 'protein'], ['folllow', 'follow'], ['implantion', 'implant ion'], ['eurbitux', 'barbiturate'], ['opk', 'op'], ['deffenetly', 'differently'], ['eatinng', 'eating'], ['nifedica', 'edification'], ['thedr', 'their'], ['wegner', 'Wigner'], ['granulomatosus', 'granulation'], ['onlyl', 'only'], ['constiption', 'constipation'], ['sympoms', 'symptoms'], ['yoed', 'toed'], ['percodan', 'peppercorn'], ['hysteretomy', 'hysterectomy'], ['dexa', 'dead'], ['ribvirin', 'riboflavin'], ['neuros', 'euros'], ['helens', 'he lens'], ['heidle', 'he idle'], ['tangobabe', 'tango babe'], ['beganed', 'beaned'], ['intolerate', 'in tolerate'], ['zofram', 'wolfram'], ['footcream', 'foot cream'], ['econozole', 'economize'], ['follicullar', 'funicular'], ['chirpractors', 'chiropractors'], ['chartix', 'chart ix'], ['noticeability', 'notice ability'], ['skyle', 'style'], ['koppra', 'Koppel'], ['tenaculum', 'accumulate'], ['escatalopram', 'escalope'], ['psorisis', 'psoriasis'], ['pedylite', 'expedite'], ['puffiest', 'puffiest'], ['itchiest', 'itchiest'], ['gabbapentin', 'brigantine'], ['teenagerhood', 'teenager hood'], ['mouthiness', 'mouthiness'], ['wellbtutrin', 'wellspring'], ['midols', 'idols'], ['hypermania', 'hyper mania'], ['charmin', 'Charmin'], ['shart', 'hart'], ['toviaz', 'Victoria'], ['flanax', 'flan ax'], ['cytoxin', 'toxin'], ['svts', 'sets'], ['biguanides', 'disambiguate'], ['vics', 'vices'], ['hypnos', 'hypos'], ['curriculars', 'curricular'], ['aggivated', 'aggravated'], ['uricalm', 'juridical'], ['caridezem', 'camaraderie'], ['substaintial', 'substantial'], ['ldls', 'LSD'], ['hdls', 'hols'], ['stii', 'stir'], ['iim', 'ii'], ['emtophobia', 'homophobia'], ['monthlys', 'monthly'], ['noq', 'now'], ['hormon', 'hormone'], ['zytram', 'tramway'], ['addreall', 'adrenal'], ['drugi', 'drug'], ['mirovosa', 'Mimosa'], ['mirvosa', 'Mimosa'], ['mefenamic', 'effeminacy'], ['ponstan', 'Stanton'], ['nebulizing', 'neutralizing'], ['brovana', 'brogan'], ['intramusclelar', 'intramuscular'], ['thaght', 'Agatha'], ['toactually', 'to actually'], ['effexer', 'efferent'], ['akasthisia', 'Anastasia'], ['plmd', 'plod'], ['psychiatris', 'psychiatrist'], ['novasure', 'nova sure'], ['readi', 'read'], ['woosy', 'woody'], ['tenar', 'tear'], ['dround', 'round'], ['drinkingto', 'drinking to'], ['threwout', 'threw out'], ['hemorroids', 'hemorrhoids'], ['s\\u200b', 's'], ['origininally', 'originally'], ['abuout', 'about'], ['opama', 'optima'], ['psoriatric', 'psychiatric'], ['metanx', 'Smetana'], ['arrrrgh', 'arranger'], ['akathasia', 'Athanasius'], ['beyonc', 'beyond'], ['melena', 'Selena'], ['methergine', 'Ethernet'], ['nubane', 'nu bane'], ['denrx', 'Denver'], ['mediciations', 'medications'], ['seretide', 'sere tide'], ['cfreckle', 'freckle'], ['finallyour', 'finally our'], ['roaacutane', 'cutaneous'], ['knarley', 'barley'], ['differentl', 'different'], ['dermatitus', 'dermatitis'], ['abilfy', 'ability'], ['cists', 'costs'], ['odourless', 'odorless'], ['xifaxan', 'Halifax'], ['avalide', 'valid'], ['chalant', 'nonchalant'], ['laboured', 'labored'], ['anexity', 'anxiety'], ['lexiva', 'lexical'], ['agorphobia', 'agoraphobia'], ['gfr', 'gr'], ['unsymptomatic', 'symptomatic'], ['maxalon', 'Malone'], ['stematil', 'stalemate'], ['faiing', 'fairing'], ['hydroclorathazide', 'hydroelectrically'], ['rcvp', 'RCMP'], ['nexiplanon', 'explanation'], ['myclonus', 'cyclones'], ['paroxide', 'peroxide'], ['enhansed', 'enhanced'], ['nevered', 'severed'], ['okaay', 'okay'], ['expericing', 'experiencing'], ['mirarles', 'miracles'], ['nopalina', 'palomino'], ['carbi', 'carbs'], ['lamitical', 'calamity'], ['pressair', 'press air'], ['oiut', 'out'], ['yoiu', 'you'], ['citelopram', 'melodramatic'], ['spazms', 'spams'], ['generalzed', 'generalized'], ['hosptilized', 'hospitalized'], ['methocarbomol', 'methodological'], ['onexton', 'sexton'], ['amlopodine', 'bloodiness'], ['docsb', 'docs'], ['clauvulin', 'McLaughlin'], ['nbd', 'nod'], ['fsad', 'fad'], ['triamterene', 'tricentennial'], ['htcz', 'hatch'], ['ontriamterene', 'entrepreneurial'], ['nervouse', 'nervous'], ['fowel', 'dowel'], ['anxiouse', 'anxious'], ['pregnanciess', 'pregnancies'], ['gynnie', 'Nannie'], ['diagnoised', 'diagnosed'], ['unbearble', 'unbearable'], ['rosvastatin', 'devastating'], ['tcells', 'tells'], ['tcell', 'tell'], ['duracef', 'Duracell'], ['epival', 'Percival'], ['snapy', 'snap'], ['tizanadine', 'incarnadine'], ['thrpwing', 'throwing'], ['borth', 'broth'], ['aint', 'aunt'], ['arimadex', 'marinade'], ['biosil', 'BIOS'], ['sumadan', 'Sudan'], ['clatisonic', 'isolationist'], ['totalled', 'totaled'], ['keprra', 'Kepler'], ['doral', 'oral'], ['exrelease', 'ex release'], ['itichy', 'itchy'], ['dectable', 'delectable'], ['benefiber', 'benefice'], ['labito', 'labial'], ['pritiq', 'critique'], ['citalipram', 'capitalism'], ['grrrreat', 'great'], ['everymonth', 'every month'], ['augmetin', 'augmentation'], ['clauvantic', 'anticlimactic'], ['mankoski', 'mankind'], ['addictionist', 'addiction'], ['painb', 'pain'], ['supressent', 'suppressant'], ['pimatene', 'penultimate'], ['abvee', 'above'], ['virgintiy', 'virginity'], ['diskets', 'diskettes'], ['roxanne', 'Roxanne'], ['nausated', 'nauseated'], ['footmy', 'footy'], ['phenabarbital', 'phenobarbital'], ['letrizole', 'laetrile'], ['uroligist', 'urologist'], ['periold', 'period'], ['asured', 'assured'], ['woweezowee', 'locoweed'], ['skitz', 'skit'], ['sixities', 'sixties'], ['migranies', 'migraines'], ['paroxsymal', 'paroxysmal'], ['nostrilla', 'nostril la'], ['zelmorm', 'Zelma'], ['ganglions', 'ganglion'], ['usuing', 'using'], ['arhythmic', 'rhythmic'], ['icds', 'ids'], ['dcm', 'dc'], ['omeprazol', 'flameproof'], ['panicus', 'panics'], ['sustaina', 'sustains'], ['levoflaxin', 'riboflavin'], ['devoped', 'devoted'], ['nexaplon', 'explosion'], ['tadaaah', 'metadata'], ['rebetol', 'rebel'], ['peginteron', 'interferon'], ['ragey', 'raga'], ['tachyacardia', 'tachycardia'], ['optivo', 'option'], ['aesthetician', 'aestheticism'], ['bereplaced', 'be replaced'], ['dermatilioma', 'dermatitis'], ['oestoarthritis', 'osteoarthritis'], ['ibprophen', 'prophesier'], ['emotitionaly', 'emotionally'], ['deprssion', 'depression'], ['peripherial', 'peripheral'], ['socitey', 'society'], ['weekish', 'weakish'], ['zmt', 'mt'], ['brca', 'bra'], ['rentin', 'renting'], ['sheabutter', 'shutterbug'], ['menicus', 'meniscus'], ['tamsulosine', 'simultaneous'], ['manufacurer', 'manufacturer'], ['travellers', 'travelers'], ['mebinol', 'Seminole'], ['disintention', 'dis intention'], ['sufrax', 'suffrage'], ['exubera', 'exuberant'], ['sivere', 'severe'], ['miserbaly', 'miserably'], ['propananol', 'propaganda'], ['adapelene', 'Darlene'], ['puring', 'pursing'], ['migrains', 'migraines'], ['excellerated', 'decelerated'], ['eatting', 'ratting'], ['gasiness', 'easiness'], ['utacharia', 'Zachariah'], ['ceterizine', 'catheterize'], ['bowles', 'bowels'], ['crampin', 'crampon'], ['lisinprol', 'provisional'], ['lunseta', 'sunset'], ['sonato', 'sonata'], ['dilopid', 'diploid'], ['lymphnodes', 'lymph nodes'], ['gluose', 'glucose'], ['keratosiss', 'keratitis'], ['excema', 'exceed'], ['unbloated', 'bloated'], ['rosenblat', 'Rosenberg'], ['kakar', 'Dakar'], ['mcintyre', 'McIntyre'], ['pubmed', 'pub med'], ['gastroperesis', 'gastroenteritis'], ['blissovi', 'blissful'], ['meeehh', 'meet'], ['vineagrette', 'vinaigrette'], ['ribaviron', 'riboflavin'], ['pomalyst', 'lysosomal'], ['polmalyst', 'polymaths'], ['gainingweight', 'gaining weight'], ['expierences', 'experiences'], ['decreaced', 'decreased'], ['diagnosises', \"diagnosis's\"], ['saxendacare', 'mendacious'], ['prostatis', 'prostates'], ['antiboitics', 'antibiotics'], ['apris', 'apprise'], ['skl', 'kl'], ['proxide', 'peroxide'], ['azcone', 'cone'], ['wazzoo', 'wazoo'], ['exercing', 'exerting'], ['flexaril', 'flexible'], ['gabapenton', 'pentagon'], ['roacutane', 'cutaneous'], ['monistats', 'monists'], ['noxema', 'Noxzema'], ['cefalexin', 'maleficence'], ['triprevefem', 'preventive'], ['benzac', 'benzene'], ['sryonx', 'Bryon'], ['butttt', 'butt'], ['specialising', 'specializing'], ['lyrinel', 'princely'], ['subsalicylate', 'substantiate'], ['metformins', 'Reformations'], ['impactions', 'imp actions'], ['vicodan', 'Victorian'], ['polychondritis', 'hypochondriacs'], ['janument', 'annulment'], ['jasmin', 'jasmine'], ['reget', 'regent'], ['blythe', 'Blythe'], ['danner', 'dinner'], ['pssshh', 'pshaw'], ['peednisolone', 'neocolonialism'], ['elimite', 'eliminate'], ['trichllomania', 'cliometrician'], ['bellvue', 'bluebell'], ['odie', 'ode'], ['esophagial', 'esophageal'], ['hiatial', 'palatial'], ['depressesd', 'depresses'], ['obgy', 'obey'], ['demographism', 'demographics'], ['solarcaine', 'Caroline'], ['aerolizer', 'moralizer'], ['whelmes', 'whelmed'], ['vistruil', 'altruist'], ['abdo', 'ado'], ['ponston', 'nonstop'], ['urosepsis', 'neurosis'], ['nucala', 'nuclear'], ['urogenic', 'urogenital'], ['thedentist', 'the dentist'], ['physo', 'phys'], ['liqui', 'liquid'], ['achein', 'ache in'], ['nutropin', 'atropine'], ['cortizon', 'contortion'], ['uugh', 'ugh'], ['methyfolate', 'Merthiolate'], ['ophenadrine', 'ephedrine'], ['flumist', 'flutist'], ['otnly', 'only'], ['dmf', 'def'], ['nustasium', 'potassium'], ['controlable', 'controllable'], ['genteal', 'genteel'], ['coricidan', 'coriander'], ['cyclaflem', 'cyclamen'], ['deppresants', 'depressants'], ['iinsomnia', 'insomnia'], ['sering', 'seeing'], ['lithoviroxine', 'lithosphere'], ['pristq', 'pristine'], ['anomia', 'anemia'], ['optum', 'opium'], ['theoat', 'throat'], ['anethesiologist', 'anesthesiologist'], ['metrodonizole', 'metropolitan'], ['redue', 'redye'], ['arachanoid', 'arachnid'], ['activis', 'activist'], ['vistoril', 'visitor'], ['cancelling', 'canceling'], ['teojeo', 'meteor'], ['lomedia', 'lo media'], ['altboutel', 'walkabout'], ['hyperparathyroid', 'hyper parathyroid'], ['monogomus', 'monogamous'], ['heathier', 'heather'], ['lexepro', 'Rolex'], ['diarrh', 'diarrhea'], ['aquatherapy', 'aqua therapy'], ['cdk', 'ck'], ['nauseousis', 'nauseous is'], ['scotum', 'scrotum'], ['entocort', 'contort'], ['thining', 'thinning'], ['asuages', 'assuages'], ['suvorexant', 'suppressant'], ['zonesamide', 'zones amide'], ['apetamin', 'Petain'], ['gonnapassout', 'passionate'], ['nicorette', 'technicolor'], ['flamina', 'lamina'], ['hospitized', 'hospitalized'], ['glivec', 'Glenlivet'], ['fentenly', 'fervently'], ['dermotolagist', 'dermatologist'], ['jcv', 'jct'], ['potassuim', 'potassium'], ['issurance', 'issuance'], ['unfortenately', 'unfortunately'], ['alat', 'slat'], ['miconozole', 'economical'], ['wouhdn', \"wouldn't\"], ['overgone', 'overtone'], ['tordol', 'Tortola'], ['nextcare', 'next care'], ['avar', 'var'], ['poun', 'pun'], ['triziver', 'trivet'], ['uturian', 'Arthurian'], ['burow', 'brow'], ['domeboro', 'boredom'], ['andk', 'and'], ['rxd', 'rd'], ['fibromialga', 'fibrillation'], ['rnp', 'rep'], ['monopril', 'monorail'], ['upsodes', 'upsides'], ['baldder', 'bladder'], ['mycin', 'Mancini'], ['tldr', 'told'], ['happylifeengine', 'geoengineering'], ['sterum', 'strum'], ['occasionly', 'occasionally'], ['cerva', 'carve'], ['solaldi', 'soldier'], ['undetced', 'undecided'], ['tyanol', 'Tylenol'], ['shadetree', 'shade tree'], ['perrigo', 'Perrier'], ['depresents', 'represents'], ['toiletfuls', 'toilets'], ['morphene', 'morpheme'], ['metoclopine', 'metropolitan'], ['eylea', 'Leakey'], ['regeneron', 'regeneration'], ['hydradated', 'hydra dated'], ['weeka', 'weeks'], ['haematomachrosis', 'atherosclerosis'], ['marlboro', 'Marlboro'], ['flairup', 'flareup'], ['anitobiotics', 'antibiotics'], ['burninggggg', 'mourning'], ['recomd', 'record'], ['nyquits', 'quits'], ['zosyn', 'nosy'], ['toredol', 'Toledo'], ['nicotrol', 'control'], ['servious', 'serious'], ['insominia', 'insomnia'], ['nacolepsy', 'narcolepsy'], ['progressingly', 'progressively'], ['fastings', 'fasting'], ['belvic', 'pelvic'], ['hernatied', 'herniated'], ['etizolam', 'etiolated'], ['frisium', 'Frisian'], ['stabilsier', 'stabilizer'], ['cannaboid', 'cannabis'], ['cyclean', 'cycle an'], ['dexatrin', 'indexation'], ['phentermazine', 'entertainment'], ['torodal', 'tripodal'], ['sterela', 'plasterer'], ['incessent', 'incessant'], ['sennacot', 'senna cot'], ['calmes', 'calmed'], ['metforman', 'informant'], ['levothyrine', 'labyrinthine'], ['lamenectomy', 'splenectomy'], ['amloapine', 'soapiness'], ['tremens', 'tremendous'], ['vocoprofen', 'ibuprofen'], ['diagnosticated', 'diagnostically'], ['medicamento', 'medicament'], ['ntilde', 'tilde'], ['quede', 'suede'], ['enamorada', 'enamor'], ['qued', 'wed'], ['oacute', 'acute'], ['limpia', 'limpid'], ['trabaja', 'Trajan'], ['increible', 'incredible'], ['obtuve', 'obtuse'], ['receta', 'rec eta'], ['sigo', 'sago'], ['esperando', 'Esperanto'], ['habia', 'habit'], ['diagnosticada', 'diagnostician'], ['timoptic', 'optimistic'], ['allegan', 'allege'], ['greaaattt', 'greatcoat'], ['dissappearance', 'disappearance'], ['medice', 'medic'], ['nexo', 'exon'], ['sohlder', 'solder'], ['lbsall', 'lbs all'], ['cervex', 'cervix'], ['peyronie', 'pepperoni'], ['asphasia', 'aphasia'], ['haematoma', 'hematology'], ['imigraine', 'migraine'], ['somatisation', 'satisfaction'], ['ssdi', 'SDI'], ['permanet', 'permanent'], ['rtrms', 'storms'], ['alphagan', 'alpha'], ['accceptable', 'acceptable'], ['werks', 'weeks'], ['comedone', 'come done'], ['sydrom', 'syndrome'], ['solotic', 'solo tic'], ['faverin', 'averring'], ['thinx', 'thin'], ['relef', 'reef'], ['neuseous', 'nauseous'], ['recommendedation', 'recommendation'], ['klonpin', 'Klondike'], ['naturual', 'natural'], ['respiridone', 'respiration'], ['noncyclic', 'non cyclic'], ['bursitus', 'bursitis'], ['septemmber', 'September'], ['plaquenill', 'plaque'], ['elmira', 'Elvira'], ['intecourse', 'intercourse'], ['marjiuana', 'marijuana'], ['plos', 'pols'], ['miricle', 'miracle'], ['llife', 'life'], ['dvts', 'dots'], ['lovanox', 'Slovakian'], ['veey', 'very'], ['solonpas', 'Solon'], ['robotussin', 'Robitussin'], ['tiziadine', 'incarnadine'], ['flushy', 'flush'], ['parasthesia', 'parenthesis'], ['oxgen', 'oxen'], ['inderall', 'Alderamin'], ['selsun', 'Nelsen'], ['selinium', 'selenium'], ['nexplana', 'plane'], ['treatmen', 'treatment'], ['prodin', 'pro din'], ['rfs', 'rs'], ['carterizing', 'cauterizing'], ['orotate', 'rotate'], ['genaric', 'generic'], ['odanestron', 'Austronesian'], ['clindomycin', 'condominium'], ['absorbic', 'absorb'], ['diaphram', 'diaphragm'], ['betaseron', 'Robertson'], ['cytoxen', 'cytosine'], ['esophaguard', 'esophagus'], ['docgtor', 'doctor'], ['zitty', 'titty'], ['neaseous', 'nauseous'], ['xatral', 'astral'], ['zpac', 'PAC'], ['stabiluzed', 'stabilized'], ['dystonoa', 'dystonia'], ['botex', 'bot ex'], ['seneca', 'Seneca'], ['cyclocenzaprine', 'phallocentric'], ['lvef', 'lief'], ['yazmin', 'sysadmin'], ['reddness', 'redness'], ['rogain', 'regain'], ['rogine', 'grogginess'], ['lumigan', 'fumigant'], ['coudn', \"couldn't\"], ['nortripyline', 'portliness'], ['nortriplyine', 'noncomplying'], ['velafaxine', 'Verlaine'], ['hysterctomy', 'hysterectomy'], ['estradoil', 'Estrada'], ['carbamezapine', 'carpetbagging'], ['epitol', 'epitome'], ['mineres', 'miners'], ['agorophobia', 'agoraphobia'], ['hefner', 'Hefner'], ['pukeing', 'puking'], ['jarisch', 'charisma'], ['gabapetin', 'appetizing'], ['prax', 'prat'], ['anteriorally', 'anterior ally'], ['phenergans', 'mergansers'], ['lilletta', 'tattletale'], ['hypothyoidism', 'hypothyroidism'], ['honeslty', 'honestly'], ['clyndamicin', 'dynamical'], ['acctane', 'octane'], ['exhaused', 'exhausted'], ['unisome', 'uni some'], ['thankgod', 'thank god'], ['diluadid', 'diluted'], ['spiralactone', 'conspiratorial'], ['scrabled', 'scrambled'], ['magnesiam', 'magnesia'], ['extermely', 'extremely'], ['frec', 'rec'], ['dilodid', 'diploid'], ['mybetriq', 'mystique'], ['propafanone', 'profane'], ['vanco', 'van co'], ['estelle', 'Estelle'], ['eryacne', 'cannery'], ['adcirca', 'ad circa'], ['uave', 'ave'], ['busiprone', 'businessperson'], ['spasams', 'spasms'], ['femring', 'fearing'], ['silfiadiazine', 'sleaziness'], ['againz', 'again'], ['shriner', 'Shriner'], ['peridex', 'peroxide'], ['fiorocet', 'retrorocket'], ['purtrudes', 'protrudes'], ['femural', 'femoral'], ['headscull', 'head scull'], ['disappeard', 'disappears'], ['testimonals', 'testimonials'], ['athroscopy', 'arthroscopy'], ['eeewww', 'peewee'], ['mucusy', 'mucus'], ['bgl', 'bl'], ['sesonique', 'uniqueness'], ['ugggg', 'buggy'], ['hiatle', 'Hialeah'], ['psh', 'pah'], ['menopasual', 'menopausal'], ['fluconizole', 'fluctuation'], ['meprobamates', 'reprobates'], ['debillitating', 'debilitating'], ['exceptionelly', 'exceptionally'], ['leukocytoclastic', 'iconoclastic'], ['roaccutance', 'nonacceptance'], ['voltadol', 'Volta'], ['ricola', 'Nicola'], ['tobradex', 'Gatorade'], ['betseron', 'Robertson'], ['tecferda', 'cofferdam'], ['aubigo', 'bigot'], ['artane', 'arcane'], ['ziprazadone', 'Scheherazade'], ['pharmscist', 'pharmacist'], ['analpram', 'anal pram'], ['inser', 'inset'], ['guillaune', 'Anguilla'], ['cmv', 'cm'], ['clindamycine', 'indiscipline'], ['bupropione', 'probationer'], ['bruiseing', 'bruising'], ['hoursness', 'sourness'], ['gildless', 'gild less'], ['cyclizine', 'tetracycline'], ['degerative', 'degenerative'], ['benzopack', 'backpack'], ['onzetra', 'nonzero'], ['stratter', 'st ratter'], ['mortons', 'morons'], ['gamunex', 'gamine'], ['misoprostal', 'misanthropist'], ['laporoscopy', 'laparoscopy'], ['osteocondritis', 'osteoarthritis'], ['dicassen', 'delicatessen'], ['chiropracters', 'chiropractors'], ['amoxacilin', 'amoxicillin'], ['youa', 'yous'], ['mitchum', 'Mitch'], ['humara', 'humeral'], ['gaind', 'gains'], ['oxybutin', 'Oxycontin'], ['pragnent', 'pregnant'], ['sidea', 'aides'], ['gylcemic', 'hypoglycemic'], ['clarithrimycin', 'arithmetician'], ['stabilises', 'stabilizes'], ['tesst', 'tests'], ['mysoline', 'gasoline'], ['alergic', 'allergic'], ['speacialist', 'specialist'], ['cystc', 'cyst'], ['neasua', 'unease'], ['fibrillaiton', 'fibrillation'], ['spoting', 'spiting'], ['amitriptaline', 'amphetamine'], ['propranalol', 'proportional'], ['restlest', 'trestles'], ['lthese', 'these'], ['fearfull', 'fearful'], ['genrally', 'generally'], ['tamusulin', 'tarpaulin'], ['ejeculate', 'ejaculate'], ['tthought', 'thought'], ['lfts', 'lefts'], ['mydayis', 'maydays'], ['filll', 'fill'], ['contaceprives', 'contraceptives'], ['vesectamy', 'vasectomy'], ['otructive', 'obstructive'], ['hyponea', 'payphone'], ['orelox', 'ore lox'], ['silvrstat', 'silversmith'], ['nonexisstent', 'nonexistent'], ['rationalising', 'rationalizing'], ['ipir', 'piper'], ['lialada', 'Dalian'], ['prediagnosis', 'misdiagnosis'], ['achyness', 'shyness'], ['bellafill', 'fiberfill'], ['spondylo', 'respond'], ['scytera', 'scatter'], ['ppms', 'poms'], ['cigerattes', 'cigarettes'], ['thryroid', 'thyroid'], ['citrucel', 'citrus'], ['myofasical', 'myopically'], ['hyperlasia', 'hypermedia'], ['lerhargic', 'lethargic'], ['paxel', 'pixel'], ['louds', 'loud'], ['endometeriosis', 'endometriosis'], ['recamend', 'rec amend'], ['tappered', 'tapered'], ['danegrous', 'dangerous'], ['triedeverything', 'tried everything'], ['wained', 'waned'], ['menisectomy', 'splenectomy'], ['ansolutely', 'absolutely'], ['lourdes', 'Lourdes'], ['symvastin', 'gymnastic'], ['supratz', 'supra'], ['novacaine', 'Novocaine'], ['rotissirie', 'rotisserie'], ['lamical', 'comical'], ['slugish', 'sluggish'], ['glimiperide', 'glimmering'], ['genentech', 'genteelness'], ['interforon', 'interferon'], ['pooey', 'phooey'], ['marzine', 'marine'], ['nitrofurantonin', 'trinitrotoluene'], ['feen', 'fin'], ['horribe', 'horrible'], ['dexadrine', 'Dexedrine'], ['antidepessent', 'antidepressant'], ['supcription', 'superscription'], ['yawwnnnn', 'yawner'], ['sike', 'dike'], ['nefazadone', 'methadone'], ['ministerin', 'ministering'], ['gynacologist', 'gynecologist'], ['totalling', 'totaling'], ['faxable', 'fixable'], ['afibrillation', 'fibrillation'], ['nioxin', 'dioxin'], ['redults', 'results'], ['cephilexin', 'Philippine'], ['switchto', 'switch to'], ['merina', 'marine'], ['marvalon', 'Marlon'], ['iuc', 'inc'], ['acezone', 'acetone'], ['tiazac', 'Titicaca'], ['augmentine', 'augmenting'], ['okdermo', 'Dermot'], ['lamitcal', 'calamity'], ['wrost', 'worst'], ['realisation', 'realization'], ['ambium', 'cambium'], ['empracet', 'temperance'], ['preatrial', 'pretrial'], ['inerstitial', 'interstitial'], ['estryalla', 'Estella'], ['stomch', 'stomach'], ['contaceptive', 'contraceptive'], ['nutbasket', 'nut basket'], ['burpropion', 'propitiation'], ['prolactinoma', 'protactinium'], ['maleka', 'Male'], ['benztopine', 'Benzedrine'], ['colititssevere', 'diverticulitis'], ['adpex', 'apex'], ['ablot', 'blot'], ['gillead', 'Gilead'], ['hbv', 'HBO'], ['esphogeal', 'esophageal'], ['sypmtoms', 'symptoms'], ['dysmennorhea', 'gonorrheal'], ['peroneus', 'erroneous'], ['nerouse', 'onerous'], ['diariah', 'diarist'], ['rha', 'rah'], ['kupus', 'lupus'], ['deprovera', 'deprave'], ['ndbrown', 'Brown'], ['ranbaxy', 'RayBan'], ['hospial', 'hospital'], ['iits', 'its'], ['trembley', 'tremble'], ['mddwad', 'wadded'], ['intellence', 'intelligence'], ['prenexa', 'neoprene'], ['cripling', 'crippling'], ['paitent', 'patient'], ['nausious', 'nauseous'], ['cptsd', 'Potsdam'], ['glenmark', 'glen mark'], ['movisse', 'improvise'], ['reparil', 'reparable'], ['restlesness', 'restlessness'], ['mulriple', 'multiple'], ['vibramycin', 'vibrancy'], ['kolonapin', 'Apollonian'], ['treatmeant', 'treatment'], ['relasping', 'relapsing'], ['basicallly', 'basically'], ['iiwas', 'ii was'], ['exedrin', 'Dexedrine'], ['stitmulated', 'stimulated'], ['appitete', 'appetite'], ['bordem', 'border'], ['luman', 'human'], ['aleminate', 'inseminate'], ['enima', 'anime'], ['fluidr', 'fluid'], ['pooly', 'loopy'], ['incontinience', 'incontinence'], ['adminastrator', 'administrator'], ['tazerac', 'Tarazed'], ['vdoc', 'doc'], ['radiotherepy', 'radiotherapy'], ['shouldnt', \"shouldn't\"], ['jitteryness', 'bitterness'], ['permeabilized', 'permeability'], ['relapce', 'replace'], ['plaquinil', 'palanquin'], ['florestor', 'florescent'], ['hadsnt', 'hadst'], ['bently', 'gently'], ['hesisitant', 'hesitant'], ['yoday', 'today'], ['hasimotos', 'halitosis'], ['thyriod', 'thyroid'], ['adkins', 'Adkins'], ['floxitine', 'Florentine'], ['spoilet', 'spoiler'], ['twistyness', 'wistfulness'], ['triavil', 'trivial'], ['terrrrrible', 'terrible'], ['aggrenox', 'aggression'], ['hospitalisations', 'hospitalizations'], ['rheuamtoid', 'rheumatoid'], ['pcsk', 'pecs'], ['roxicets', 'rockets'], ['contstant', 'constant'], ['dexas', 'degas'], ['diarrheals', \"diarrhea's\"], ['sequestrants', 'sequestrates'], ['ige', 'age'], ['flowmetry', 'flowery'], ['cholestagel', 'cholesterol'], ['tylex', 'telex'], ['amitriptylene', 'impenetrability'], ['pregabilin', 'impregnability'], ['oxycontinetc', 'Oxycontin'], ['fentaynal', 'pentagonal'], ['microgrms', 'microcosms'], ['seroguel', 'serology'], ['merformin', 'performer'], ['intertia', 'inertia'], ['avonix', 'Avon'], ['dervovat', 'derivation'], ['moxicam', 'amoxicillin'], ['desagestoral', 'demonstrator'], ['svu', 'sou'], ['locoid', 'loco id'], ['lipocream', 'slipstream'], ['antiphsycotics', 'sycophantic'], ['immedietly', 'immediately'], ['vallium', 'gallium'], ['conpletely', 'completely'], ['vaporub', 'vapor'], ['amoxicilln', 'amoxicillin'], ['tmjd', 'Tm'], ['clarvis', 'Clarissa'], ['coundn', 'compound'], ['zuboxone', 'moneybox'], ['etd', 'ETD'], ['loesterin', 'Listerine'], ['olanzipine', 'fanzine'], ['\\u200bhello', 'hello'], ['striblid', 'strident'], ['suppoused', 'supposed'], ['iridologist', 'ideologist'], ['glucomine', 'commingle'], ['mmhg', 'mm'], ['againe', 'again'], ['theraflu', 'Lutheran'], ['jakafi', 'Jakarta'], ['loreal', 'lo real'], ['hydrafresh', 'hydra fresh'], ['hepatitus', 'hepatitis'], ['zadator', 'radiator'], ['zaditor', 'auditor'], ['visine', 'vising'], ['bpoated', 'boated'], ['brrn', 'brr'], ['hoyrs', 'hours'], ['abouy', 'about'], ['bexause', 'because'], ['sequorel', 'sequel'], ['respiclick', 'prickliness'], ['stoniness', 'stoniness'], ['malaleuca', 'Malacca'], ['lathroscopic', 'arthroscopic'], ['transamic', 'transmit'], ['fibristal', 'fibrillate'], ['awakend', 'awakens'], ['hyperchloremia', 'hyperglycemia'], ['covrd', 'cord'], ['dermotoligist', 'dermatologist'], ['mekena', 'Mencken'], ['pharmacien', 'pharmacies'], ['lryica', 'lyrical'], ['morroccon', 'Morocco'], ['doxil', 'doily'], ['glutimine', 'glutting'], ['terriblly', 'terribly'], ['clearacil', 'Clearasil'], ['refridge', 're fridge'], ['keracotonus', 'counteracts'], ['considerablely', 'considerably'], ['caprylic', 'acrylic'], ['capric', 'caprice'], ['pulmonogist', 'monologist'], ['addictit', 'addict it'], ['precribe', 'prescribe'], ['lupeneta', 'penetrable'], ['heptatitis', 'hepatitis'], ['indused', 'infused'], ['neuromyofascial', 'neurosurgical'], ['reqip', 'reequip'], ['fibromyalagia', 'fibrillation'], ['expienced', 'experienced'], ['afrter', 'after'], ['astellas', 'patellas'], ['rivoroxban', 'Ivorian'], ['onsessive', 'obsessive'], ['approxim', 'approximate'], ['behcets', 'behests'], ['coumidin', 'condominium'], ['xaralta', 'altar'], ['lorton', 'Norton'], ['dosesof', 'doses of'], ['excedrine', 'Excedrin'], ['zonegram', 'zone gram'], ['sacroilitis', 'sacroiliacs'], ['neurotomys', 'neurotics'], ['cymblata', 'blatancy'], ['hoshimotos', 'Hiroshima'], ['uroxotral', 'extramural'], ['mirtazapin', 'mirthfulness'], ['kawasakis', 'Kawasaki'], ['rll', 'ell'], ['pna', 'pan'], ['antidepressants\\u200b', 'antidepressants'], ['tampax', 'Tampax'], ['kotex', 'videotex'], ['acities', 'cities'], ['norvatis', 'Novartis'], ['experienece', 'experience'], ['phenyermine', 'predeterminer'], ['sickenly', 'sickeningly'], ['radicle', 'eradicable'], ['zenchent', 'entrench'], ['avene', 'avenue'], ['clinoril', 'clitoris'], ['vebeen', 'Veblen'], ['phenazepam', 'phenomena'], ['keepra', 'keeper'], ['trilepetal', 'laetrile'], ['frequant', 'frequent'], ['mindfullness', 'mindfulness'], ['extrame', 'extreme'], ['mondofinial', 'monomaniacal'], ['doterra', 'doter'], ['buspiron', 'suspicion'], ['currenrly', 'currently'], ['prescibe', 'prescribe'], ['pioglitzones', 'steppingstones'], ['gliclizide', 'Anglicize'], ['eapecially', 'especially'], ['atrist', 'artist'], ['predinsome', 'predispose'], ['backacne', 'backache'], ['dermatologistss', 'dermatologists'], ['bupropin', 'ibuprofen'], ['corgard', 'cordage'], ['doxyclycline', 'polyclinic'], ['amzed', 'amazed'], ['zpacks', 'packs'], ['strarted', 'started'], ['visteril', 'sterilizer'], ['moisturer', 'moisture'], ['parraguard', 'Paraguay'], ['trintelix', 'teleprinter'], ['sighhh', 'sigh'], ['iiv', 'vii'], ['latisse', 'Matisse'], ['impotance', 'importance'], ['ivermectine', 'invective'], ['comotose', 'comatose'], ['mierna', 'Minerva'], ['hepled', 'helped'], ['vitamine', 'vitamin'], ['fibillation', 'fibrillation'], ['represcribed', 're prescribed'], ['reccomdn', 'recompense'], ['mirlax', 'smilax'], ['puduct', 'duct'], ['incruse', 'in cruse'], ['topimax', 'topi max'], ['nauseau', 'nausea'], ['nurtin', 'nurturer'], ['menstrul', 'menstrual'], ['currentyl', 'currently'], ['emetophobia', 'homophobia'], ['indomethacine', 'methamphetamine'], ['androgenicity', 'androgenic'], ['perog', 'groper'], ['bloatingness', 'fleetingness'], ['manicky', 'panicky'], ['mercette', 'Mercer'], ['ondanestron', 'Austronesian'], ['gilberts', 'filberts'], ['uvetis', 'uveitis'], ['trigemial', 'triennial'], ['clarithromyin', 'erythromycin'], ['clarithromicin', 'arithmetician'], ['clarithromicine', 'arithmetician'], ['cranberrying', 'cranberry'], ['soii', 'soil'], ['clanazipan', 'clansman'], ['gengraf', 'grange'], ['neoral', 'neural'], ['alevox', 'Kalevala'], ['differvent', 'different'], ['artrial', 'atrial'], ['benzoclinze', 'Benzedrine'], ['spiranolactone', 'conspiratorial'], ['dermographism', 'demographics'], ['ritilin', 'Ritalin'], ['cephasporins', 'porcelains'], ['itchies', 'itches'], ['meletonin', 'Middleton'], ['proplanolol', 'propellant'], ['overthecounter', 'countermove'], ['coeliac', 'Cordelia'], ['restavit', 'restate'], ['restrcitions', 'restrictions'], ['unine', 'nine'], ['silvist', 'Silvia'], ['dermatoligist', 'dermatologist'], ['clyndomicin', 'condominium'], ['estrodiol', 'bestrode'], ['proplase', 'prolapse'], ['vybrid', 'hybrid'], ['sysmptoms', 'symptoms'], ['preovarian', 'ovarian'], ['vivell', 'lively'], ['clearlax', 'clear lax'], ['novertis', 'Novartis'], ['withdrawels', 'withdrawals'], ['phenique', 'physique'], ['ridaura', 'rid aura'], ['solganol', 'granola'], ['soganol', 'slogan'], ['agonising', 'agonizing'], ['ischamic', 'ischemic'], ['eyeslike', 'eyes like'], ['neutrasal', 'neutralist'], ['desitine', 'destine'], ['diarhorroea', 'diarrhea'], ['lanso', 'loans'], ['morhpine', 'morphine'], ['accuflora', 'accumulator'], ['tylonal', 'tonality'], ['chirpping', 'chirping'], ['privifem', 'privilege'], ['spritec', 'sprite'], ['theratears', 'theaters'], ['norinyl', 'minority'], ['willebrand', 'Hildebrand'], ['stimate', 'estimate'], ['scopalamine', 'Episcopalian'], ['himalayas', 'Himalayas'], ['yosemite', 'Yosemite'], ['narcoplepy', 'narcolepsy'], ['modafinill', 'Modigliani'], ['medioka', 'mediocre'], ['xerym', 'Xerox'], ['atn', 'tan'], ['sennosides', 'nonresidents'], ['headeed', 'headed'], ['slowwly', 'slowly'], ['feesible', 'feasible'], ['minivelle', 'Minnelli'], ['proxicam', 'proximal'], ['addicition', 'addiction'], ['sasimi', 'mimosa'], ['wangyu', 'twangy'], ['zebeta', 'zeta'], ['lottle', 'little'], ['predcribing', 'prescribing'], ['overcounter', 'over counter'], ['anyome', 'anyone'], ['dilusions', 'delusions'], ['dmard', 'Marduk'], ['lefunimide', 'sulfonamides'], ['oxymetazoline', 'oxyacetylene'], ['cipramil', 'creamily'], ['proaponolol', 'prolongation'], ['onraltea', 'alteration'], ['casuse', 'cause'], ['fromhell', 'from hell'], ['agaitated', 'agitated'], ['interactected', 'interacted'], ['paramax', 'para max'], ['midrid', 'midrib'], ['improvehemoglobin', 'improve hemoglobin'], ['hgb', 'hgt'], ['rbcs', 'carbs'], ['chantixs', 'Chiantis'], ['vf', 'VF'], ['temperpedic', 'distemper'], ['tknow', 'know'], ['chemonesia', 'Micronesia'], ['zophran', 'Cochran'], ['empiema', 'empire'], ['tryptizol', 'tryptophan'], ['dexelant', 'tideland'], ['serotoin', 'serotonin'], ['anxisty', 'anxiety'], ['fibromyaligia', 'fibrillation'], ['savalla', 'Laval'], ['endometroisis', 'endometriosis'], ['nupro', 'nu pro'], ['proctectomy', 'protector'], ['lactaid', 'lactated'], ['ambiem', 'ambient'], ['porbiotics', 'macrobiotics'], ['evera', 'ever'], ['cordarone', 'concordance'], ['troche', 'trochee'], ['itcy', 'icy'], ['sarna', 'saran'], ['unilt', 'unlit'], ['asleeep', 'asleep'], ['tretonin', 'Trenton'], ['valcyclovir', 'acyclovir'], ['pwc', 'pic'], ['allopourinol', 'outpouring'], ['levittra', 'Levitt'], ['apetmin', 'appertain'], ['apetamine', 'amphetamine'], ['orhto', 'orator'], ['frequecy', 'frequency'], ['uncontronablle', 'uncontrollable'], ['andrgel', 'androgen'], ['unparrelled', 'unparalleled'], ['melitonin', 'melioration'], ['desoxyn', 'Desmond'], ['gyns', 'guns'], ['pokeing', 'poking'], ['phenegran', 'grandnephew'], ['tretinion', 'retribution'], ['frankenstien', 'Frankenstein'], ['johnsons', 'john sons'], ['nutra', 'nutria'], ['disorde', 'disorder'], ['sensipar', 'sensible'], ['heatbeat', 'heartbeat'], ['proctalgia', 'proletariat'], ['fugax', 'fugal'], ['ugi', 'uni'], ['pregnacies', 'pregnancies'], ['depli', 'deli'], ['castoria', 'Astoria'], ['elimanated', 'eliminated'], ['grouth', 'trough'], ['odema', 'edema'], ['hydrea', 'hydra'], ['activitia', 'activities'], ['yakult', 'yak ult'], ['underarmour', 'underarm our'], ['lobito', 'Tobit'], ['derms', 'deems'], ['spronyx', 'sprog'], ['amoxiclave', 'amoxicillin'], ['amts', 'mats'], ['ebf', 'bf'], ['gravadarum', 'gravamen'], ['clenia', 'cleaning'], ['norcod', 'nor cod'], ['orho', 'oho'], ['moodyness', 'moodiness'], ['ivs', 'iv'], ['bif', 'beef'], ['hirustism', 'mistrust'], ['newports', 'new ports'], ['modalert', 'mod alert'], ['monthss', 'months'], ['rozex', 'Rozelle'], ['colonospy', 'colonoscopy'], ['orthocept', 'orthopedic'], ['exspanding', 'expanding'], ['mmse', 'mdse'], ['regitity', 'regularity'], ['xologel', 'sexology'], ['astoma', 'asthma'], ['breats', 'breast'], ['herx', 'her'], ['westhroid', 'steroid'], ['gliperide', 'glider'], ['arthritits', 'arthritis'], ['nimotop', 'Minamoto'], ['infusuion', 'infusion'], ['qam', 'am'], ['qhs', 'qts'], ['chonic', 'sonic'], ['fibramyalgia', 'fibrillation'], ['alysena', 'analyses'], ['valtex', 'valuate'], ['sensitvity', 'sensitivity'], ['trisiba', 'tribalism'], ['jenuvia', 'Venusian'], ['loesrin', 'Lohengrin'], ['diseease', 'disease'], ['disbiosis', 'symbiosis'], ['trytophan', 'tryptophan'], ['deficency', 'deficiency'], ['brestfeed', 'breastfeed'], ['skylice', 'skyline'], ['staxyn', 'syntax'], ['msir', 'sir'], ['laryngoscopies', 'colonoscopies'], ['nortiptyline', 'pantyliner'], ['usuallly', 'usually'], ['begginig', 'begging'], ['thinkg', 'think'], ['nauseous\\u200b', 'nauseous'], ['senekot', 'senescent'], ['claving', 'calving'], ['thryoid', 'thyroid'], ['bupenorphine', 'endorphin'], ['clonazopam', 'monoclonal'], ['penvk', 'penmen'], ['saccharomyces', 'saccharine'], ['boulardi', 'boulevard'], ['whoha', 'whoa'], ['friom', 'from'], ['issyes', 'issues'], ['aerobid', 'aerobic'], ['endiometrosis', 'endometriosis'], ['pijama', 'pajama'], ['roprinole', 'crinoline'], ['polacrilex', 'polarize'], ['blephamide', 'thalidomide'], ['fowks', 'fowls'], ['amnesteen', 'amnesty'], ['hellll', 'hell ll'], ['anorgasmic', 'an orgasmic'], ['bedsider', 'bedside'], ['voltrient', 'nutrient'], ['coloda', 'coda'], ['avenza', 'avenue'], ['usmc', 'USMC'], ['laufhing', 'laughing'], ['congradulating', 'congratulating'], ['droppler', 'dropper'], ['claritromycin', 'erythromycin'], ['desoximetasone', 'desolateness'], ['levoflox', 'Aeroflot'], ['arcoxia', 'Arcadia'], ['ageing', 'aging'], ['dospite', 'despite'], ['turbinafine', 'turbine'], ['interpretated', 'interpretative'], ['subconsc', 'subconscious'], ['esgic', 'Giles'], ['prescriptn', 'prescript'], ['pregnants', 'pregnant'], ['palptations', 'palpitations'], ['neoropych', 'nephropathy'], ['edluar', 'Eduardo'], ['dossage', 'dosage'], ['prophilaxis', 'prophylaxis'], ['sumatryptan', 'Sumatran'], ['adapeline', 'tapeline'], ['acetimenaphen', 'acetaminophen'], ['vaporrub', 'vapor rub'], ['priscribed', 'proscribed'], ['capd', 'caps'], ['anticongestion', 'anti congestion'], ['kybella', 'Bella'], ['pooo', 'poop'], ['uticaria', 'urticaria'], ['immeadiate', 'immediate'], ['djd', 'dd'], ['fybromialgia', 'polynomial'], ['esophogus', 'esophagus'], ['daiiy', 'daisy'], ['divalproes', 'divalent'], ['parafon', 'paragon'], ['bachlofen', 'Offenbach'], ['ediopathic', 'idiopathic'], ['anagrelid', 'annelid'], ['biploar', 'bipolar'], ['scolopamine', 'CinemaScope'], ['serax', 'Serra'], ['pyschosomatic', 'psychosomatic'], ['dazey', 'daze'], ['vaginia', 'vagina'], ['busybe', 'busy be'], ['cricopharyngeal', 'pharyngeal'], ['letrazole', 'ultraviolet'], ['happeir', 'happier'], ['swole', 'sole'], ['intermedulliary', 'intermediary'], ['votient', 'quotient'], ['procardia', 'pericardia'], ['encro', 'encroach'], ['trendelenburg', 'Brandenburg'], ['diaphoretic', 'diaphragmatic'], ['effacacious', 'efficacious'], ['nighes', 'nighest'], ['oxycet', 'Oxycontin'], ['terriable', 'terrible'], ['urogyn', 'urology'], ['otho', 'oho'], ['prystiq', 'mystique'], ['levonegesterol', 'progesterone'], ['burnnnnssss', 'burnooses'], ['anspiriva', 'transpire'], ['zaroxyl', 'Lazaro'], ['twinging', 'twinging'], ['nonspecified', 'non specified'], ['mucas', 'mucus'], ['helllllll', 'hellhole'], ['sythnoid', 'solenoid'], ['hysinglia', 'isinglass'], ['differt', 'differ'], ['lexparo', 'parole'], ['yopamax', 'Yokohama'], ['tirdness', 'tiredness'], ['diurectics', 'diuretics'], ['diollars', 'dollars'], ['knotches', 'notches'], ['exersise', 'exercise'], ['premphase', 'emphases'], ['triptin', 'trip tin'], ['erthymacin', 'erythromycin'], ['clarithromyacin', 'erythromycin'], ['fulvicin', 'fulfilling'], ['withdrals', 'withdraws'], ['mastcectomy', 'mastectomy'], ['trihemic', 'ischemic'], ['emotionalness', 'emotionalizes'], ['cyclyn', 'cyclone'], ['phent', 'pent'], ['garcinia', 'Garcia'], ['gambogia', 'Gambia'], ['vertigos', 'vertigo'], ['compelte', 'complete'], ['wwaaas', 'Kwanzaas'], ['interstital', 'interstitial'], ['vyvasne', 'vastness'], ['florastor', 'floras tor'], ['sacchormyces', 'saccharine'], ['boulardii', 'boulevard'], ['menopause\\u200b', 'menopause'], ['scn', 'scan'], ['trileptil', 'epileptic'], ['constance', 'Constance'], ['nordisk', 'nor disk'], ['lamasil', 'Silas'], ['ponstel', 'postpone'], ['ocasional', 'occasional'], ['gastroentrologist', 'Gastroenterology'], ['remedible', 'remediable'], ['explell', 'expelled'], ['timet', 'timer'], ['imy', 'my'], ['thandle', 'handle'], ['ciprofloxacine', 'nonreciprocal'], ['cubital', 'cubical'], ['confirred', 'conferred'], ['mirical', 'empirical'], ['daysit', 'day sit'], ['aaps', 'saps'], ['ffects', 'effects'], ['zonsiimide', 'considered'], ['spironolactane', 'spirochete'], ['hyzaar', 'bazaar'], ['aureas', 'auras'], ['outmy', 'out my'], ['mould', 'mold'], ['tremedious', 'tremendous'], ['dretine', 'retinue'], ['goodrx', 'Goodrich'], ['cyctic', 'cystic'], ['spondyliosis', 'disposition'], ['hypovase', 'hypo vase'], ['movatik', 'motivation'], ['lornya', 'lorn ya'], ['ventlin', 'Ventolin'], ['enbryll', 'beryllium'], ['remecade', 'academe'], ['rmd', 'rm'], ['gynotype', 'phenotype'], ['pcr', 'pct'], ['avandimet', 'mendicant'], ['percedan', 'perchance'], ['sildinafil', 'scaffolding'], ['doziness', 'doziness'], ['seinfeld', 'Seinfeld'], ['ocp', 'cop'], ['telfast', 'Belfast'], ['parranoid', 'paranoid'], ['afton', 'aft on'], ['gliburide', 'glibber'], ['cyclessa', 'Cyclades'], ['abrevea', 'abbrev'], ['pca', 'pa'], ['snps', 'snips'], ['andme', 'admen'], ['maio', 'main'], ['worsttttt', 'worsted'], ['bsg', 'bag'], ['fybro', 'broody'], ['wgt', 'wt'], ['sumaxin', 'Maxine'], ['prevnar', 'prepare'], ['neudextra', 'extraneous'], ['norab', 'nor ab'], ['webutrin', 'neutrino'], ['bupoprion', 'proportion'], ['brechiel', 'Brecht'], ['cochlicine', 'cochineal'], ['zubsolve', 'absolve'], ['crampers', 'campers'], ['orysthia', 'forsythia'], ['glipizid', 'lipid'], ['provigill', 'provincial'], ['effecrive', 'effective'], ['buydureon', 'burgeon'], ['tramidol', 'tram idol'], ['apperently', 'apparently'], ['asendin', 'spending'], ['amoxapine', 'amoxicillin'], ['peely', 'peel'], ['anways', 'anyways'], ['sarcosis', 'narcosis'], ['confuessed', 'confessed'], ['chondritis', 'mitochondrion'], ['inoflox', 'inflow'], ['benzyhexol', 'benzyl'], ['hadle', 'hale'], ['nebulize', 'nebulae'], ['omnitrrope', 'omnipresent'], ['neurofibromatos', 'neurotransmitters'], ['klonapine', 'Klondike'], ['whyte', 'white'], ['stilnoct', 'Stilton'], ['dermatolgist', 'dermatologist'], ['jubila', 'jubilant'], ['naseausa', 'nausea'], ['osteomyelits', 'poliomyelitis'], ['precrum', 'premium'], ['gonne', 'gone'], ['mononess', 'monotones'], ['erge', 'erg'], ['yeqrs', 'years'], ['relplax', 'relaxer'], ['xidra', 'Indra'], ['eestrogen', 'estrogen'], ['breakfest', 'breakfast'], ['neurosystem', 'neurosurgery'], ['sorynox', 'sensory'], ['lifechanged', 'life changed'], ['amitriptine', 'amphetamine'], ['welbrution', 'brutalization'], ['heahache', 'headache'], ['olanzpine', 'Capitoline'], ['feldene', 'fennel'], ['psychitarist', 'psychiatrist'], ['lipidologist', 'ideologist'], ['asperges', 'Asperger'], ['leukomalacia', 'kleptomaniac'], ['pvl', 'pl'], ['melatonine', 'melamine'], ['iperactivity', 'hyperactivity'], ['survivior', 'survivor'], ['scantiness', 'scantiness'], ['amtatriplean', 'triplicate'], ['meniscuis', 'meniscus'], ['premenstural', 'premenstrual'], ['letairis', 'retailers'], ['chantrix', 'chanter'], ['auditive', 'additive'], ['aptensio', 'tension'], ['mirtrazapine', 'Gewurztraminer'], ['toprolol', 'trollop'], ['stabalized', 'stabilized'], ['probas', 'probes'], ['aee', 'see'], ['protexin', 'protein'], ['perweek', 'per week'], ['vitc', 'vita'], ['multiv', 'multi'], ['ovulationing', 'ovulation'], ['ghb', 'gab'], ['bleedimg', 'bleeding'], ['paracetomol', 'paracetamol'], ['lpa', 'lap'], ['additiction', 'addiction'], ['diladuids', 'dilapidated'], ['decited', 'recited'], ['relaps', 'reaps'], ['sofran', 'soprano'], ['nucyntas', 'nutcases'], ['crampscramps', 'cramps cramps'], ['seroquels', 'sequels'], ['willebrands', 'firebrands'], ['diahhrea', 'diarrhea'], ['norlevo', 'Corleone'], ['theafter', 'theater'], ['vidocin', 'Mendocino'], ['entrirely', 'entirely'], ['excellenr', 'excellent'], ['bidaily', 'bi daily'], ['benzycline', 'Benzedrine'], ['momto', 'motto'], ['latunda', 'rotunda'], ['klonopon', 'monopoly'], ['videourodynamics', 'electrodynamics'], ['peasy', 'peachy'], ['vidazia', 'Vidal'], ['excruiating', 'excruciating'], ['ibuprofens', 'ibuprofen'], ['edronax', 'namedrop'], ['equina', 'equine'], ['lamy', 'lam'], ['clindomyacin', 'palindromic'], ['frusturating', 'frustrating'], ['exhuasting', 'exhausting'], ['conplaints', 'complaints'], ['eeeuuu', 'Equuleus'], ['zarontin', 'Tarantino'], ['exomuc', 'Exocet'], ['herxing', 'hexing'], ['xifaxin', 'Maxine'], ['adicting', 'addicting'], ['doxaprin', 'dominatrix'], ['siaticia', 'sciatica'], ['tubbiest', 'tubbiest'], ['nessesary', 'necessary'], ['kroger', 'Kroger'], ['termors', 'tremors'], ['raigmore', 'moraine'], ['ardersier', 'underside'], ['inverness', 'inverses'], ['atx', 'tax'], ['unmotivation', 'unmotivated'], ['alza', 'alga'], ['rageish', 'geisha'], ['thoghts', 'thoughts'], ['spirlactone', 'conspirator'], ['kineret', 'retainer'], ['tchiness', 'itchiness'], ['azithromiacin', 'erythromycin'], ['epidiymitis', 'epidermis'], ['drowsimess', 'drowsiness'], ['azathrioprine', 'inappropriate'], ['hydrocodene', 'hydrophone'], ['dyazide', 'cyanide'], ['vlcd', 'LCD'], ['rantidine', 'itinerant'], ['margesic', 'marge sic'], ['foricet', 'orifice'], ['provigils', 'pro vigils'], ['nuvoring', 'flavoring'], ['synvisk', 'synopsis'], ['azisite', 'exquisite'], ['azithromicin', 'erythromycin'], ['venlefexine', 'slovenliness'], ['sofosvel', 'softcover'], ['synvics', 'syncs'], ['cleanprep', 'clean prep'], ['meprozine', 'prominence'], ['fomax', 'Fotomat'], ['obessive', 'obsessive'], ['fibrilation', 'fibrillation'], ['woodbox', 'wood box'], ['deficating', 'dedicating'], ['subpxone', 'subpoena'], ['arthymias', 'arrhythmia'], ['martinelli', 'martinet'], ['dimond', 'diamond'], ['sape', 'sap'], ['whollistic', 'holistic'], ['shwoosh', 'swoosh'], ['radiaplexrx', 'radiographer'], ['pausee', 'pause'], ['misturiser', 'moisturizer'], ['oilfree', 'oil free'], ['moisturing', 'moisturizing'], ['endodcrinologist', 'endocrinologist'], ['pychiatric', 'psychiatric'], ['zima', 'Lima'], ['turnedgood', 'turned good'], ['imetrex', 'extreme'], ['bydeueron', 'Deuteronomy'], ['appeitite', 'appetite'], ['dehydation', 'dehydration'], ['leostrin', 'Palestrina'], ['convinent', 'continent'], ['unmotivational', 'motivational'], ['unconfortable', 'uncomfortable'], ['feeled', 'filed'], ['naueseous', 'nauseous'], ['linning', 'limning'], ['fincea', 'fiance'], ['mircle', 'miracle'], ['muscoskeletal', 'skeletal'], ['toporol', 'topology'], ['escilatopram', 'oscillator'], ['benylsta', 'beanstalk'], ['parasuicide', 'para suicide'], ['sjs', 'sis'], ['nutrisystem', 'nutritionist'], ['tonsillitus', 'tonsillitis'], ['rochepin', 'crocheting'], ['fucidin', 'funding'], ['insommia', 'insomnia'], ['hyalgen', 'halogen'], ['popeyes', 'pop eyes'], ['hotflashes', 'hot flashes'], ['hotflashing', 'hot flashing'], ['brintelllix', 'intelligible'], ['nclc', 'encl'], ['retanoid', 'retardant'], ['dermititis', 'dermatitis'], ['angriness', 'ranginess'], ['forgetter', 'forgetting'], ['pilex', 'pixel'], ['rocketted', 'rocketed'], ['withdrawel', 'withdrawal'], ['antiarrythmic', 'arrhythmic'], ['petscribed', 'superscribed'], ['diareeha', 'diarrhea'], ['outflopping', 'out flopping'], ['deconamine', 'decontaminate'], ['memeory', 'memory'], ['sulfazalazine', 'sleaziness'], ['sulfasalizine', 'nasalization'], ['appathetic', 'apathetic'], ['ndt', 'net'], ['cidp', 'Cid'], ['dimylating', 'titillating'], ['polyneurothapy', 'polyurethane'], ['bvs', 'vs'], ['cyclothymic', 'cyclotron'], ['sweetsnor', 'sweets nor'], ['flonaise', 'polonaise'], ['pyjama', 'pajama'], ['excredrin', 'Excedrin'], ['spazams', 'spams'], ['alv', 'lav'], ['vitam', 'vita'], ['rheumotolgist', 'herpetologist'], ['expeience', 'experience'], ['vcaps', 'caps'], ['kosheir', 'kosher'], ['manerix', 'mariner'], ['wakefuleness', 'wakefulness'], ['posner', 'poser'], ['farber', 'farmer'], ['petscans', 'pet scans'], ['pamalor', 'Palomar'], ['reations', 'reasons'], ['oxyfast', 'colorfast'], ['raeders', 'readers'], ['paratrigeminal', 'paraphernalia'], ['testoterone', 'testosterone'], ['nuvarng', 'varying'], ['xulanepatch', 'patchouli'], ['ndshotdepo', 'undershot'], ['restatsis', 'restates'], ['nexplaton', 'explanation'], ['collitis', 'colitis'], ['knpin', 'unpin'], ['ezoplicone', 'silicone'], ['flaygl', 'flay'], ['unpleaseant', 'unpleasant'], ['grazy', 'grassy'], ['bcbsil', 'basil'], ['completetly', 'completely'], ['ativans', 'Alsatians'], ['nucleoplast', 'neoplastic'], ['colbak', 'Colby'], ['tylonel', 'lonely'], ['excederin', 'Excedrin'], ['cephalaxin', 'cephalic'], ['pexeva', 'pervade'], ['priapus', 'Prussia'], ['mythylergonovine', 'ergonomically'], ['cnormal', 'normal'], ['felbatol', 'fellatio'], ['amiodipine', 'dopamine'], ['krystexxa', 'Krystal'], ['mainproblem', 'main problem'], ['benzoenatate', 'concatenate'], ['opcon', 'op con'], ['minocyclin', 'polyclinic'], ['janssen', 'Jansen'], ['brlinita', 'Britain'], ['kaylyn', 'Kayla'], ['moisterizer', 'moisturizer'], ['pacet', 'pacer'], ['paitients', 'patients'], ['divigel', 'divulge'], ['testotestosterone', 'testosterone'], ['elixer', 'elixir'], ['imiprimine', 'pyrimidine'], ['severley', 'severely'], ['zylet', 'eyelet'], ['prolixin', 'prolix in'], ['caziant', 'Gaziantep'], ['voltarol', 'Travolta'], ['estazolam', 'molestation'], ['diclofenic', 'encyclopedic'], ['vegenance', 'vengeance'], ['migraleve', 'migraine'], ['gabpapentin', 'parenting'], ['hypothalmic', 'hypothalami'], ['tesslon', 'tessellation'], ['sickish', 'sickish'], ['pcf', 'pf'], ['stomic', 'atomic'], ['myclonic', 'cyclonic'], ['loreyna', 'Lorena'], ['flurazepam', 'pluralize'], ['thtat', 'that'], ['seroquelxr', 'Roquefort'], ['phenothalein', 'phenobarbital'], ['phenothalien', 'phenobarbital'], ['offence', 'offense'], ['eforge', 'forge'], ['vivd', 'vivid'], ['meijers', 'metiers'], ['prscbd', 'prescribed'], ['dysreflexy', 'reflexology'], ['injurieds', 'injuries'], ['cyclease', 'Cyclades'], ['xrs', 'rs'], ['focalins', 'focal ins'], ['hoarsness', 'hoarseness'], ['indomethician', 'cliometrician'], ['bupa', 'pupa'], ['colononscopy', 'colonoscopy'], ['amitriptylne', 'stripteaser'], ['armodafonil', 'philharmonic'], ['probuphine', 'probationer'], ['hyperconcentration', 'hyper concentration'], ['tictac', 'tactic'], ['miraclel', 'miracle'], ['valuim', 'Valium'], ['sorce', 'sore'], ['sliiiiight', 'gaslight'], ['fmd', 'fed'], ['anixiety', 'anxiety'], ['healthwell', 'health well'], ['symilin', 'smiling'], ['ocps', 'cops'], ['levonelle', 'Leonel'], ['cytisine', 'cytosine'], ['tabex', 'tab ex'], ['bulgaria', 'Bulgaria'], ['dier', 'dear'], ['amitizia', 'militiaman'], ['atualization', 'actualization'], ['lysinopril', 'eosinophil'], ['eecp', 'EEC'], ['hypothyroidisim', 'hypothyroidism'], ['lowerd', 'lowers'], ['ammt', 'amt'], ['percoset', 'percolate'], ['eractile', 'erectile'], ['amlittle', 'am little'], ['earky', 'early'], ['orthopaedic', 'orthopedic'], ['armitriplyline', 'pantyliner'], ['vitaros', 'vi taros'], ['exfoliative', 'exfoliate'], ['psorcon', 'cosponsor'], ['zeasorb', 'absorb'], ['misprostal', 'misprision'], ['moistat', 'moi stat'], ['diagonised', 'diagnosed'], ['neuroligist', 'neurologist'], ['qo', 'q'], ['percogesic', 'percussion'], ['exausted', 'exhausted'], ['depresion', 'depression'], ['ohters', 'others'], ['hyprer', 'hyper'], ['defibulator', 'defibrillator'], ['allergans', 'allergens'], ['ccb', 'cc'], ['ithink', 'think'], ['efective', 'defective'], ['anafrinil', 'African'], ['suffererd', 'sufferers'], ['bluryness', 'blurriness'], ['antidepressnt', 'antidepressant'], ['shizoaffective', 'effectiveness'], ['bcompound', 'compound'], ['effecrs', 'effects'], ['neuralia', 'neuralgia'], ['httlpr', 'prattler'], ['cyp', 'cup'], ['saphria', 'sapphire'], ['restatis', 'restates'], ['nexplonon', 'nonexplosive'], ['pizotifen', 'stiffen'], ['rheumathoid', 'rheumatoid'], ['gonow', 'go now'], ['medaction', 'redaction'], ['fluoroqinolone', 'fluorocarbon'], ['restassus', 'reassures'], ['hepcg', 'hep cg'], ['peginterfon', 'interferon'], ['diarrehea', 'diarrhea'], ['actinol', 'acting'], ['envista', 'en vista'], ['oxybutinin', 'Oxycontin'], ['sucidal', 'suicidal'], ['labatelol', 'elaborate'], ['urianry', 'urinary'], ['dishcharge', 'discharge'], ['contac', 'contact'], ['predinisone', 'predisposition'], ['diagphram', 'diaphragm'], ['pluresy', 'pleurisy'], ['accuntane', 'accountant'], ['pilaris', 'pillars'], ['sjrogren', 'retrogress'], ['cellexa', 'excelled'], ['amitryptline', 'trampoline'], ['litharge', 'lethargic'], ['vernors', 'governors'], ['pullled', 'pulled'], ['bleesing', 'bleeding'], ['firat', 'first'], ['triglicerides', 'triglycerides'], ['beewax', 'beeswax'], ['tev', 'vet'], ['tropin', 'tropic'], ['benepali', 'Nepali'], ['benapali', 'Bengali'], ['dearborn', 'dear born'], ['slammy', 'clammy'], ['hypretension', 'hypertension'], ['levbid', 'Biddle'], ['vomiteed', 'vomited'], ['tempromandicular', 'perpendicularity'], ['dysfuntion', 'dysfunction'], ['alterntives', 'alternatives'], ['lanie', 'lanai'], ['junovia', 'Jovian'], ['zolft', 'Zoloft'], ['tecnically', 'technically'], ['smth', 'smith'], ['thsts', 'tests'], ['iiwould', 'ii would'], ['alcon', 'falcon'], ['oculac', 'ocular'], ['altogather', 'altogether'], ['mirtaz', 'mirth'], ['olimelt', 'limelight'], ['qtip', 'tip'], ['welbrutrin', 'wellspring'], ['natrexone', 'exonerate'], ['demadex', 'homemade'], ['ebrel', 'rebel'], ['xolar', 'solar'], ['dirrahea', 'diarrhea'], ['surprep', 'pressure'], ['wausau', 'sausage'], ['bfs', 'bf'], ['bipolor', 'bipolar'], ['plams', 'palms'], ['phamacist', 'pharmacist'], ['benedroyl', 'benedictory'], ['unbarreable', 'unbreakable'], ['nauesa', 'nausea'], ['scd', 'scad'], ['circadin', 'circadian'], ['actosplus', 'lactose'], ['particurly', 'particularly'], ['embarrissing', 'embarrassing'], ['strepthroat', 'strep throat'], ['swooooosh', 'swoosh'], ['ampted', 'tamped'], ['tcas', 'acts'], ['vala', 'lava'], ['oesophagoscopy', 'spectroscopy'], ['cosy', 'cost'], ['docotr', 'doctor'], ['metazol', 'metabolize'], ['bestyloo', 'bestowal'], ['exanthematous', 'anathematizes'], ['pustulosis', 'pustules'], ['agep', 'gape'], ['swd', 'sad'], ['periorial', 'periodical'], ['transxemic', 'transgenic'], ['ethier', 'ether'], ['sansone', 'sans one'], ['xolegel', 'college'], ['foraminal', 'formalin'], ['comdom', 'condom'], ['thyroidectemy', 'hyperthyroidism'], ['malabsorb', 'Malabar'], ['isomnia', 'insomnia'], ['demulin', 'demulcent'], ['overiy', 'overly'], ['crwal', 'crawl'], ['valarian', 'Valerian'], ['fwb', 'fib'], ['biofreez', 'freezer'], ['irritatable', 'irritable'], ['loseit', 'lose it'], ['everyother', 'every other'], ['victosa', 'Victoria'], ['synvis', 'synopsis'], ['ufos', 'UFOs'], ['bronchia', 'bronchi'], ['cednifir', 'edifice'], ['borderlining', 'border lining'], ['xanaex', 'Xanadu'], ['disfunctions', 'dysfunctions'], ['ddiagnosed', 'diagnosed'], ['neuronton', 'neuron ton'], ['adria', 'aria'], ['xgevia', 'Evian'], ['fasoldex', 'solderer'], ['cirvix', 'cervix'], ['lolestrin', 'Palestrina'], ['adoxa', 'Maddox'], ['inorgasm', 'in orgasm'], ['plummedted', 'plummeted'], ['stieva', 'Stevie'], ['nautious', 'nautilus'], ['ppmd', 'ppm'], ['allerx', 'allergy'], ['expiriences', 'experiences'], ['maximin', 'maxi min'], ['catarac', 'cataract'], ['increadably', 'incredibly'], ['xanas', 'mananas'], ['minsatrin', 'miniaturist'], ['mibelas', 'mislabels'], ['antipyrine', 'antiparticle'], ['benzoca', 'benzene'], ['irritatingness', 'irritating'], ['endicort', 'indicator'], ['rosecea', 'Rosecrans'], ['orecea', 'chorea'], ['asthmanefrin', 'antisubmarine'], ['klonaphin', 'Klondike'], ['xanny', 'canny'], ['corolates', 'correlates'], ['obssessive', 'obsessive'], ['infectiion', 'infection'], ['timex', 'Timex'], ['hydrochlorotizide', 'hydroelectricity'], ['ziac', 'zinc'], ['aherniation', 'herniation'], ['episoft', 'episode'], ['assurex', 'assure'], ['incontinance', 'incontinence'], ['constpation', 'constipation'], ['mediciness', 'medicines'], ['seratide', 'desiderata'], ['depersonlization', 'depersonalize'], ['flox', 'phlox'], ['bactrum', 'bacterium'], ['elestrin', 'Palestrina'], ['triliptal', 'trilateral'], ['neosporne', 'poorness'], ['hense', 'hens'], ['synthyroid', 'syn thyroid'], ['aranesp', 'spareness'], ['luden', 'laden'], ['serafem', 'seafarer'], ['levathroid', 'anthropoid'], ['scopace', 'copacetic'], ['perideim', 'perimeter'], ['peridiem', 'periodic'], ['mestanon', 'contestant'], ['diagonsed', 'diagnosed'], ['duodenitis', 'tendinitis'], ['nutritiuous', 'nutritious'], ['redmeat', 'red meat'], ['acetaphenamin', 'acetaminophen'], ['effests', 'effects'], ['whike', 'while'], ['nabumetome', 'magnetometer'], ['minutess', 'minutes'], ['councelling', 'counseling'], ['wonderfuly', 'wonderful'], ['alcohal', 'alcohol'], ['luetin', 'bulletin'], ['natesto', 'testator'], ['inflamitories', 'inflammatory'], ['refils', 'refiles'], ['buge', 'bug'], ['ledderhose', 'leaseholder'], ['supposably', 'supposedly'], ['stik', 'skit'], ['levermir', 'leveler'], ['implanons', 'implosions'], ['acentral', 'central'], ['maxidex', 'maximize'], ['valsartin', 'Valentin'], ['sweetlemon', 'sweet lemon'], ['hemax', 'he max'], ['breakthrougg', 'breakthrough'], ['herk', 'jerk'], ['perscribing', 'prescribing'], ['desprate', 'desperate'], ['viibyd', 'visibly'], ['cholestryam', 'cholesterol'], ['agani', 'again'], ['monhts', 'months'], ['miltown', 'Miltown'], ['pregnalone', 'pregnant'], ['viekira', 'Riviera'], ['orthotricyclin', 'orthographically'], ['happy☺️', 'happy'], ['triathlions', 'triathlons'], ['forev', 'fore'], ['ultrabalm', 'ultra balm'], ['costochrondritis', 'mitochondrion'], ['costochrondirits', 'chronologists'], ['bintellix', 'intelligent'], ['reccently', 'recently'], ['loratabs', 'coloraturas'], ['orudiskt', 'distort'], ['fcouse', 'confuse'], ['diffrently', 'differently'], ['naturaly', 'natural'], ['higschool', 'schoolchild'], ['reumatologist', 'dermatologist'], ['jslampo', 'lampoon'], ['tramendousely', 'tremendously'], ['babywipes', 'baby wipes'], ['deffinetly', 'definitely'], ['mallincrodt', 'Maeterlinck'], ['oxcodone', 'condone'], ['studyingl', 'studying'], ['dysthimic', 'systemic'], ['effoxor', 'effort'], ['indomethecin', 'indomitable'], ['caresource', 'ca resource'], ['ccmm', 'comm'], ['omggg', 'moggy'], ['girlll', 'girl ll'], ['misirble', 'miscible'], ['monitstat', 'molestation'], ['deplugged', 'plugged'], ['loracets', 'Clorets'], ['nytol', 'cytology'], ['ferrus', 'ferrous'], ['spirralina', 'inspirational'], ['perdiem', 'perdition'], ['amitza', 'Maritza'], ['viorelle', 'Orville'], ['itchamol', 'chamomile'], ['yipee', 'yipe'], ['nephrotic', 'nephritic'], ['solydyne', 'solidness'], ['prediabeties', 'predicates'], ['nasals', 'nasals'], ['prohydrate', 'pro hydrate'], ['replens', 'rep lens'], ['taringa', 'taring'], ['uncontrol', 'uncontrolled'], ['reportedsuch', 'reported such'], ['comodones', 'commodores'], ['selzentry', 'sentry'], ['lacteos', 'lactose'], ['wowza', 'wow'], ['antideprssant', 'antidepressant'], ['endometerosis', 'endometriosis'], ['tonsilitus', 'tonsillitis'], ['itmade', 'it made'], ['allergey', 'allergy'], ['olay', 'play'], ['vegii', 'veg ii'], ['parcopaat', 'paratroop'], ['enkysence', 'senescence'], ['trilyte', 'trilobite'], ['clearblue', 'clear blue'], ['claratin', 'declaration'], ['gradschool', 'grad school'], ['clearish', 'clearing'], ['diclofanec', 'Dictaphone'], ['colazol', 'cola'], ['quaalude', 'Quaalude'], ['placidyl', 'placidly'], ['loliestrin', 'priestliness'], ['distentions', 'distentions'], ['abdomenal', 'abdominal'], ['deodarant', 'deodorant'], ['perspirant', 'antiperspirant'], ['dulculax', 'calculated'], ['medciation', 'medication'], ['nuvigal', 'alluvial'], ['naucious', 'auspicious'], ['periogard', 'pericardia'], ['fenefibrate', 'fenestration'], ['repliva', 'replica'], ['urised', 'surprised'], ['prosed', 'prose'], ['cystits', 'cystitis'], ['sulfalazine', 'sleaziness'], ['vigra', 'Viagra'], ['nitrogylerine', 'nitroglycerin'], ['trilicylic', 'Cyrillic'], ['acostumed', 'costumed'], ['nitrofurantin', 'nitrification'], ['quetiaphine', 'netiquette'], ['✌', 'e'], ['philippeans', 'Philippians'], ['lofepramine', 'reprogramming'], ['pericyazine', 'Periclean'], ['cigaraettes', 'cigarettes'], ['annieoakley', 'Oakley'], ['weli', 'wile'], ['aripirazole', 'arteriole'], ['florinef', 'Florine'], ['monessa', 'sameness'], ['gabapentine', 'brigantine'], ['gabatentin', 'abatement'], ['paxtine', 'patine'], ['ileiostomy', 'tonsillectomy'], ['tegortol', 'Tortola'], ['imiquod', 'misquoted'], ['intermittenly', 'intermittently'], ['antideppressants', 'antidepressants'], ['myoclonis', 'colonists'], ['fidgities', 'infidelities'], ['montb', 'month'], ['altrex', 'exalt'], ['iratable', 'irritable'], ['itw', 'it'], ['gastrointerologist', 'Gastroenterology'], ['buprenex', 'neoprene'], ['pharmacutic', 'pharmaceutic'], ['metastisized', 'metastasized'], ['soltab', 'sol tab'], ['bathings', 'bathing'], ['tronolane', 'citronella'], ['misaprostal', 'misappropriate'], ['scopalamime', 'episcopal'], ['orenitran', 'Oregonian'], ['intire', 'entire'], ['eire', 'are'], ['arrrhythmia', 'arrhythmia'], ['orthotricylcin', 'orthographically'], ['novolin', 'Novocain'], ['phernagan', 'paraphernalia'], ['odefsey', 'odyssey'], ['simplicty', 'simplicity'], ['scopy', 'copy'], ['unsticks', 'sticks'], ['appliable', 'applicable'], ['dosepack', 'dose pack'], ['sparkley', 'sparkle'], ['eygpt', 'Egypt'], ['escitalapram', 'extramarital'], ['colyte', 'acolyte'], ['lymecycline', 'tetracycline'], ['dysthemia', 'dystonia'], ['dexamethosone', 'dethronement'], ['hydrochorothiazide', 'hydroelectrically'], ['ketiamine', 'thiamine'], ['latera', 'later'], ['mouthbreather', 'mouth breather'], ['reieif', 'relief'], ['aswel', 'weasel'], ['reccom', 'rec com'], ['seriousl', 'serious'], ['methacarbomal', 'metacarpal'], ['diamicron', 'Micronesia'], ['adaptatiion', 'adaptation'], ['queezy', 'squeeze'], ['deptran', 'dept ran'], ['doxepine', 'dopiness'], ['weny', 'went'], ['narcoticoption', 'narcotic option'], ['topomirate', 'pomegranate'], ['doxycyclines', 'geosynclines'], ['minocyclines', 'geosynclines'], ['orafice', 'orifice'], ['entirw', 'entire'], ['wellburtin', 'wellington'], ['lamictel', 'laminate'], ['tryptans', 'tryptophan'], ['fortunetly', 'fortuneteller'], ['folotyn', 'footy'], ['ptcl', 'pt cl'], ['istodax', 'dadaist'], ['neckremains', 'neck remains'], ['infectuions', 'infections'], ['abile', 'able'], ['descover', 'discover'], ['pagano', 'pagan'], ['terazol', 'terrazzo'], ['dinnier', 'dinner'], ['gallbaldder', 'gallbladder'], ['dilatid', 'dilated'], ['coversyl', 'controversy'], ['inapsine', 'snappiness'], ['byopsy', 'biopsy'], ['inserstion', 'insertion'], ['experiemce', 'experience'], ['quilonum', 'colloquium'], ['thirster', 'thirstier'], ['dupixient', 'expedient'], ['tronkendi', 'Trondheim'], ['ouyl', 'oil'], ['diaherria', 'diphtheria'], ['unconftorable', 'unconformable'], ['wellutrin', 'wellspring'], ['appiette', 'appetite'], ['nsri', 'rinse'], ['honsetly', 'honestly'], ['wellbrutin', 'wellington'], ['dilauid', 'dilated'], ['docotor', 'doctor'], ['iidid', 'ii did'], ['uneffective', 'ineffective'], ['compoz', 'compo'], ['qood', 'quid'], ['pmish', 'phish'], ['dack', 'sack'], ['ramapril', 'April'], ['trizivir', 'triumvir'], ['nueralgia', 'neuralgia'], ['tanxeric', 'tangerine'], ['nortriptylin', 'pantyliner'], ['crampings', 'cramping'], ['continuesly', 'continue sly'], ['euflexa', 'flexible'], ['diurex', 'diuretic'], ['despression', 'depression'], ['allergra', 'Allegra'], ['abx', 'ab'], ['sumner', 'Sumner'], ['gammagard', 'Madagascar'], ['femine', 'famine'], ['dasetta', 'database'], ['beliviq', 'believing'], ['takeone', 'take one'], ['trapezious', 'trapeziums'], ['angiodema', 'demanding'], ['suduko', 'Sudoku'], ['chillled', 'chilled'], ['phlobotomy', 'lobotomy'], ['jakavi', 'Javier'], ['flucanozole', 'fluctuation'], ['azithromax', 'achromatic'], ['accolate', 'accolade'], ['disulfaram', 'dissimilar'], ['permanately', 'permanently'], ['bymacrobid', 'macrobiotic'], ['depokote', 'deportee'], ['telegenics', 'telegenic'], ['pharms', 'farms'], ['osmotics', 'osmotic'], ['anexsia', 'anesthesia'], ['inflamitory', 'inflammatory'], ['amaxing', 'amazing'], ['ahcccs', 'ahchoo'], ['pcn', 'pen'], ['aduse', 'amuse'], ['doloureaux', 'dolorous'], ['andenomyosis', 'endometriosis'], ['krueger', 'Kruger'], ['enxiety', 'anxiety'], ['azithromycins', 'erythromycin'], ['evergone', 'everyone'], ['eliptica', 'elliptical'], ['stsys', 'stays'], ['progesteron', 'progesterone'], ['fitfull', 'fitful'], ['predensone', 'predestine'], ['cigerette', 'cigarette'], ['keppa', 'kappa'], ['ivokana', 'Ivorian'], ['levimer', 'levier'], ['seretonin', 'serotonin'], ['bactracin', 'tracing'], ['qysima', 'Malaysia'], ['carmark', 'earmark'], ['mezacline', 'mezzanine'], ['ipledge', 'pledge'], ['ariceptfor', 'prevaricator'], ['avianne', 'avian'], ['periheral', 'peripheral'], ['chlomid', 'chloride'], ['antihistimines', 'antihistamines'], ['irratibility', 'irritability'], ['perion', 'prion'], ['acnecide', 'decide'], ['acneside', 'acne side'], ['kindey', 'kinda'], ['sssoooo', 'Sassoon'], ['congestited', 'congested'], ['toracentesis', 'amniocentesis'], ['solian', 'eolian'], ['besivance', 'connivance'], ['gabapentrin', 'entrapping'], ['mcq', 'MC'], ['breastfeding', 'breastfeeding'], ['mommys', 'mommy'], ['conjuctivitis', 'conjunctivitis'], ['anestesia', 'anesthesia'], ['mirap', 'mi rap'], ['prelief', 'relief'], ['hysterictamy', 'hysterical'], ['saxensa', 'sapiens'], ['tumid', 'timid'], ['homocidal', 'homicidal'], ['lifesafer', 'lifesaver'], ['belsombra', 'sombrero'], ['metrosa', 'metros'], ['metrogels', 'metro gels'], ['painwise', 'pairwise'], ['insealant', 'in sealant'], ['skoal', 'skoals'], ['acns', 'cans'], ['aoither', 'thither'], ['warfrain', 'warpaint'], ['xareltro', 'relaxation'], ['warfrian', 'Wagnerian'], ['venlifaxine', 'slovenliness'], ['dreadfull', 'dreadful'], ['thibodaux', 'thingumabob'], ['sadd', 'dads'], ['effectes', 'effected'], ['foerhead', 'forehead'], ['viro', 'vireo'], ['luniest', 'looniest'], ['tingliness', 'stinginess'], ['aleves', 'leaves'], ['taladafil', 'maladroit'], ['terrbile', 'terrible'], ['deadlike', 'deadline'], ['dileudid', 'diddle'], ['conjested', 'contested'], ['unfaillingly', 'unfailingly'], ['zorvolex', 'Rolex'], ['sulfacleanse', 'sulfa cleanse'], ['apotex', 'teapot'], ['loxitane', 'Neapolitan'], ['bluecross', 'blue cross'], ['bactim', 'Bactria'], ['limictal', 'italic'], ['limictial', 'climactic'], ['iliofemoral', 'memorabilia'], ['zopliclone', 'anticyclone'], ['llfe', 'life'], ['alprazalom', 'Alpheratz'], ['wellbutrun', 'wellington'], ['terasozin', 'terrain'], ['vommiting', 'vomiting'], ['expietence', 'experience'], ['gasey', 'gases'], ['naltexone', 'exonerate'], ['yeha', 'yeah'], ['bromfed', 'bromide'], ['dyskenisia', 'Dickensian'], ['sleeplesness', 'sleeplessness'], ['mobistar', 'monetarist'], ['tonsill', 'tonsil'], ['nifurantoin', 'Antoninus'], ['daybperiod', 'periodicity'], ['doscharges', 'discharges'], ['sinius', 'sinus'], ['cologuard', 'coastguard'], ['inhave', 'inhale'], ['scew', 'sew'], ['ecellent', 'excellent'], ['havingness', 'heaviness'], ['vicodine', 'Divine'], ['aftet', 'after'], ['oysthia', 'forsythia'], ['risodronate', 'impersonate'], ['stimulis', 'stimulus'], ['improvemnt', 'improvement'], ['penicilin', 'penicillin'], ['flicanzole', 'angelical'], ['synvic', 'synaptic'], ['hyalgan', 'Himalayan'], ['apeneia', 'Apennines'], ['compaxone', 'companion'], ['cognative', 'cognitive'], ['herpanacine', 'counterpane'], ['ubiprofen', 'ibuprofen'], ['desinex', 'destine'], ['flouxetine', 'Florentine'], ['coricidin', 'coordinator'], ['adderol', 'adder'], ['vape', 'pave'], ['blured', 'blued'], ['worsend', 'worsens'], ['sadley', 'sadly'], ['thisi', 'this'], ['litletta', 'tattletale'], ['testies', 'testis'], ['clofen', 'cloven'], ['fontein', 'intention'], ['montha', 'months'], ['hiatory', 'history'], ['minutrs', 'minutes'], ['amptripline', 'trampoline'], ['petson', 'person'], ['glicazide', 'Anglicize'], ['periodback', 'period back'], ['excersion', 'excursion'], ['lofexadine', 'loftiness'], ['antimeds', 'meantime'], ['yayyy', 'Khayyam'], ['bsl', 'bl'], ['glycaemic', 'hypoglycemic'], ['nephrocalcinosis', 'nonreciprocals'], ['provokability', 'provability'], ['cirhosis', 'cirrhosis'], ['reclepsin', 'recliner'], ['tuesdsay', 'Tuesday'], ['headspins', 'headpins'], ['cystoscopies', 'colonoscopies'], ['linosipril', 'eosinophilic'], ['linisopril', 'sprinkling'], ['inhailers', 'inhalers'], ['absacor', 'absorb'], ['kenolog', 'keno log'], ['wegener', 'reneger'], ['polyangiitis', 'polygamists'], ['imuram', 'Amur'], ['bingey', 'binge'], ['fibromalgya', 'fibrillation'], ['cephadyn', 'cephalic'], ['fentynil', 'gentility'], ['flexerol', 'flexed'], ['edarbychlor', 'chlordane'], ['paralysing', 'paralyzing'], ['soming', 'doming'], ['endocets', 'docents'], ['hheartbeat', 'heartbeat'], ['unstops', 'unstops'], ['ablasion', 'abrasion'], ['zogenix', 'homogenize'], ['mycolonic', 'cyclonic'], ['trigs', 'grits'], ['lipofen', 'ibuprofen'], ['esr', 'ESR'], ['crp', 'crap'], ['lorazapem', 'Loraine'], ['iia', 'ii'], ['myplate', 'my plate'], ['upets', 'pets'], ['psoratic', 'Socratic'], ['dopesick', 'dope sick'], ['mirtapazine', 'Thorazine'], ['hemarrhoids', 'hemorrhoids'], ['alyacen', 'placental'], ['cyclafem', 'cyclamen'], ['dsyphoric', 'dysphoric'], ['ledipasvir', 'oedipal'], ['absoultley', 'absolute'], ['horrble', 'horrible'], ['wellbutrim', 'wellspring'], ['synaptol', 'synaptic'], ['unergiong', 'Giorgione'], ['symptomoligies', 'symptomatically'], ['unprotexted', 'unprotected'], ['pethadine', 'methadone'], ['wkd', 'wk'], ['needd', 'needs'], ['foodaholic', 'shopaholic'], ['restoralax', 'restorative'], ['dscovered', 'discovered'], ['enbarrassing', 'embarrassing'], ['lanoxin', 'lanolin'], ['disgnosed', 'diagnosed'], ['infevtion', 'infection'], ['uriniary', 'urinary'], ['maybee', 'maybe'], ['absoluty', 'absolute'], ['foreverrr', 'forevermore'], ['kgwhen', 'kg when'], ['goodmayes', 'goodbyes'], ['stabiliser', 'stabilizer'], ['yelowish', 'yellowish'], ['hashimotis', 'hashish'], ['perscrbed', 'superscribed'], ['bisocodyl', 'webisode'], ['enstilar', 'ensilage'], ['truimeq', 'truism'], ['lactimal', 'lactic'], ['ditrapan', 'ditransitive'], ['chrystal', 'Chrystal'], ['capsticks', 'cap sticks'], ['clavulin', 'McLaughlin'], ['bambooing', 'bamboozling'], ['obygyns', 'bygones'], ['whichi', 'which'], ['amazeballs', 'amaze balls'], ['absolutelllly', 'absolutely'], ['lottttt', 'lotto'], ['erythrodermic', 'erythromycin'], ['cardioverter', 'cardiovascular'], ['lanista', 'lutanist'], ['absoultly', 'absolutely'], ['ativian', 'Vivian'], ['praosin', 'Proserpina'], ['intuiv', 'intuit'], ['paquenil', 'opaqueness'], ['mcmuffin', 'muffin'], ['giorgio', 'Giorgione'], ['albas', 'albs'], ['blurried', 'blurred'], ['cupon', 'upon'], ['symlin', 'slimline'], ['gim', 'him'], ['paragards', 'paragraphs'], ['effectivenes', 'effectiveness'], ['practicaly', 'practical'], ['statdose', 'stat dose'], ['anejaculation', 'an ejaculation'], ['dofetilde', 'dovetail'], ['amiadarone', 'Micronesia'], ['catonic', 'ca tonic'], ['otzela', 'zealot'], ['overhelmed', 'overwhelmed'], ['birthcontols', 'birthstones'], ['bathroon', 'bathroom'], ['methalyn', 'methanol'], ['elkin', 'welkin'], ['carmol', 'carol'], ['siran', 'siren'], ['cicle', 'icicle'], ['fortunatelyi', 'fortunately'], ['modifinal', 'modifiable'], ['inernet', 'internet'], ['razorburn', 'razor burn'], ['coldturkey', 'cold turkey'], ['ndri', 'rind'], ['mevacor', 'Mercator'], ['serequil', 'requiter'], ['handable', 'hand able'], ['expierenced', 'experienced'], ['helene', 'Helene'], ['hpilori', 'pillory'], ['sympotoms', 'symptoms'], ['srry', 'sorry'], ['cytotech', 'biotech'], ['feelsvlike', 'lifelike'], ['maccas', 'meccas'], ['lisipril', 'prissily'], ['klons', 'klaxons'], ['lexapros', 'leprosy'], ['avacadoes', 'cavalcades'], ['refriedbeans', 'refrigerants'], ['spinich', 'spinach'], ['bolivia', 'Bolivia'], ['gabapebtin', 'gabardine'], ['benozos', 'Benson'], ['psycotic', 'psychotic'], ['akethesia', 'anesthesia'], ['aropax', 'Amparo'], ['practise', 'practice'], ['havever', 'shaver'], ['estradol', 'Estrada'], ['estragel', 'estrange'], ['otezzla', 'embezzle'], ['allpurinol', 'alluring'], ['lymphodoema', 'lymphoma'], ['mensural', 'mensurable'], ['synalar', 'synagogal'], ['axienty', 'anxiety'], ['meloxixam', 'melodrama'], ['excercizing', 'mercerizing'], ['clearasel', 'Clearasil'], ['qnasl', 'nasal'], ['windex', 'Windex'], ['nowarning', 'no warning'], ['breatfeed', 'breastfeed'], ['avlesco', 'coalesce'], ['chlymidia', 'chlamydia'], ['antivert', 'anti vert'], ['adensine', 'adenine'], ['ymmv', 'YMMV'], ['deffanitly', 'defiantly'], ['shortec', 'shorten'], ['trinza', 'Trina'], ['pulmo', 'pulmonary'], ['novermber', 'November'], ['avasular', 'vascular'], ['neorolgist', 'neurologist'], ['tizadine', 'tidiness'], ['vitamix', 'vitamin'], ['sighh', 'highs'], ['perspirants', 'antiperspirants'], ['chronoc', 'chronic'], ['nerological', 'neurological'], ['exactlt', 'exactly'], ['celulitis', 'cellulitis'], ['diagosing', 'diagnosing'], ['restroil', 'rest roil'], ['osteoarthritus', 'osteoarthritis'], ['naturethyroid', 'nature thyroid'], ['rhumy', 'rheumy'], ['powerwalking', 'power walking'], ['perscibed', 'superscribed'], ['analysing', 'analyzing'], ['cynbalta', 'cynical'], ['ooookay', 'okay'], ['clyen', 'cl yen'], ['constipates', 'constipates'], ['activia', 'activist'], ['keeflex', 'reflexive'], ['genomind', 'genomics'], ['vrylar', 'Mylar'], ['prosac', 'prosaic'], ['sorbolene', 'Sorbonne'], ['ovarion', 'ovation'], ['terbinate', 'terminate'], ['codeines', 'codeine'], ['topiamate', 'opiate'], ['stalevo', 'stale'], ['esinophils', 'eosinophils'], ['yawnies', 'yawns'], ['tenditis', 'tendinitis'], ['hcqs', 'HSBC'], ['hydrocorticoid', 'hydroelectricity'], ['woww', 'wow'], ['seaonique', 'Monique'], ['increadibly', 'incredibly'], ['dyrolight', 'microlight'], ['dermatome', 'dermatology'], ['distonia', 'dystonia'], ['freshkote', 'freshwater'], ['appropriatly', 'appropriately'], ['helenx', 'Helen'], ['orecina', 'ordinance'], ['effextor', 'extort'], ['htn', 'nth'], ['pscyhsis', 'psychosis'], ['nauseation', 'nauseating'], ['mrkt', 'market'], ['stilnox', 'Stilton'], ['postherpetic', 'prosthetic'], ['lamaze', 'Lamaze'], ['exstrength', 'ex strength'], ['spca', 'SPCA'], ['finesteride', 'fieriness'], ['silloeutte', 'silhouette'], ['misearble', 'miserable'], ['headness', 'headiness'], ['mintor', 'minor'], ['avizia', 'avian'], ['ambetter', 'am better'], ['amenohrrea', 'menorahs'], ['loceryl', 'locker'], ['cholestral', 'cholesterol'], ['furos', 'furs'], ['minocin', 'Mendocino'], ['esperience', 'experiences'], ['weaknes', 'weakens'], ['cybalta', 'cymbal'], ['acacol', 'Acapulco'], ['clozepam', 'cloacae'], ['bental', 'rental'], ['orthostasis', 'homeostasis'], ['hyperadrenergic', 'hyper adrenergic'], ['diahorea', 'diarrhea'], ['canestan', 'canes tan'], ['pessaroes', 'pessaries'], ['fluconozole', 'confluence'], ['thursh', 'thrush'], ['esopgagus', 'esophagus'], ['periostat', 'peristalses'], ['erythromicyn', 'erythromycin'], ['exrays', 'ex rays'], ['symbalta', 'symbolical'], ['experiecing', 'experiencing'], ['afo', 'ado'], ['paracervical', 'para cervical'], ['paraguay', 'Paraguay'], ['spriva', 'private'], ['spirva', 'spirea'], ['pll', 'pl'], ['detoxs', 'detox'], ['oxybate', 'oxygenate'], ['phych', 'phys'], ['nasaeau', 'Nassau'], ['hypocondriac', 'hypochondriac'], ['laxitives', 'laxatives'], ['wooohoo', 'boohoo'], ['pravachol', 'preschool'], ['talconex', 'falconer'], ['ibpro', 'Cipro'], ['crabbier', 'crabbier'], ['regl', 'reg'], ['aaaaarg', 'aardvark'], ['loasartan', 'spartan'], ['duuretic', 'diuretic'], ['metolazone', 'emblazonment'], ['metaformin', 'metalworking'], ['mrts', 'marts'], ['omnipod', 'Omnipotent'], ['irrititable', 'irritable'], ['spokemodel', 'spoke model'], ['cirpo', 'Cipro'], ['cowell', 'Cowell'], ['worsten', 'worsen'], ['catheterise', 'catheterize'], ['limbitrol', 'Stromboli'], ['syneopal', 'syncopate'], ['begaining', 'regaining'], ['bronchitus', 'bronchitis'], ['fosfate', 'Foster'], ['goid', 'good'], ['luteum', 'lute um'], ['vitamen', 'vitamin'], ['acheness', 'achenes'], ['releiving', 'relieving'], ['sertral', 'several'], ['medadate', 'metadata'], ['clearn', 'clear'], ['uggggh', 'hugging'], ['quincy', 'Quincy'], ['vivactil', 'vivacity'], ['sypmtom', 'symptom'], ['hyland', 'Maryland'], ['cusion', 'cushion'], ['much\\x11', 'much'], ['metroprol', 'metropolis'], ['mediciine', 'medicine'], ['diflocam', 'digicam'], ['azythromicine', 'erythromycin'], ['hormonel', 'hormone'], ['propranonol', 'proportional'], ['blury', 'blurt'], ['tighness', 'tightness'], ['plantars', 'plantar'], ['tgramadol', 'grammatical'], ['contipation', 'constipation'], ['nuerontin', 'continue'], ['duramorph', 'amorphous'], ['retension', 'pretension'], ['roxicodoen', 'toxicology'], ['wellbuterin', 'wellspring'], ['trimeton', 'Triton'], ['sandomigran', 'randomization'], ['iep', 'pie'], ['hypomanias', 'hypo manias'], ['gabbapention', 'abstention'], ['presription', 'prescription'], ['cll', 'cl'], ['aminos', 'amino'], ['ortostatic', 'photostatic'], ['enuough', 'enough'], ['gtn', 'gt'], ['cordisone', 'cortisone'], ['klonopins', 'Klondikes'], ['gardasil', 'Yggdrasil'], ['scizophrenea', 'schizophrenia'], ['bleviq', 'Blevins'], ['hpt', 'hot'], ['prenisone', 'prisoner'], ['sudocrem', 'supremo'], ['profasi', 'profanity'], ['pregbalin', 'praline'], ['nortripylene', 'polypropylene'], ['vayarin', 'varying'], ['morphea', 'morphia'], ['purplelish', 'purplish'], ['libruim', 'Librium'], ['flavoured', 'flavored'], ['aspergar', 'Asperger'], ['accoms', 'accustoms'], ['cereve', 'reverence'], ['minena', 'mine'], ['personaltly', 'personalty'], ['intaking', 'in taking'], ['wounldn', \"wouldn't\"], ['nsc', 'NSC'], ['medicatation', 'medication'], ['bitartate', 'arbitrate'], ['scphincter', 'sphincter'], ['ibuprofun', 'ibuprofen'], ['amoxicilian', 'amoxicillin'], ['tricyclean', 'tricycle an'], ['zirvirax', 'Mahavira'], ['upjohn', 'Upjohn'], ['bartonellosis', 'balloonists'], ['mycobutin', 'computing'], ['telemisartan', 'telemarketing'], ['patern', 'pastern'], ['madee', 'made'], ['lesse', 'lease'], ['wowlike', 'wow like'], ['insident', 'incident'], ['cymbatla', 'cymbal'], ['dioreah', 'diorama'], ['sooiantra', 'contrarian'], ['qutepine', 'quinine'], ['preauthoraziton', 'authorization'], ['eucrista', 'Eucharist'], ['excruciatingly\\u200b', 'excruciatingly'], ['sgot', 'shot'], ['sgpt', 'shpt'], ['tolerancce', 'tolerance'], ['pseudomembranous', 'pseudo membranous'], ['rissy', 'prissy'], ['vaniqua', 'vanquish'], ['insteadi', 'instead'], ['efa', 'ea'], ['methprednasone', 'predetermination'], ['underam', 'underarm'], ['cycts', 'cysts'], ['overies', 'overlies'], ['effetive', 'effective'], ['xylocaine', 'Novocaine'], ['nuba', 'nubs'], ['proctected', 'protected'], ['viks', 'vies'], ['metoprololer', 'meteorology'], ['excerises', 'exercises'], ['desided', 'desired'], ['metfartin', 'martinet'], ['indiciate', 'indicate'], ['methatrate', 'methotrexate'], ['schudeuled', 'scheduled'], ['tretin', 'cretin'], ['spoilt', 'spoil'], ['clarus', 'Claus'], ['effetcs', 'effects'], ['kolonopin', 'opinion'], ['methacarbonol', 'methanol'], ['dilantion', 'dilation'], ['phenobarbitone', 'phenobarbital'], ['gramdmals', 'grammars'], ['clonazepan', 'monoclonal'], ['vons', 'cons'], ['ddferrari', 'Ferrari'], ['fuzeon', 'Fuzhou'], ['urianary', 'urinary'], ['thrist', 'thirst'], ['endoginal', 'endothelial'], ['ashtma', 'asthma'], ['ashtmatic', 'asthmatic'], ['zanthochromas', 'monochromatic'], ['exercuse', 'exercise'], ['trycyclics', 'tricycles'], ['vicatoza', 'vindicator'], ['aveno', 'ave no'], ['emugel', 'emu gel'], ['myoid', 'myopic'], ['sorafineb', 'sorriness'], ['hounestly', 'honestly'], ['suprizingly', 'surprisingly'], ['poisen', 'poise'], ['pargard', 'Packard'], ['qlaira', 'lair'], ['tende', 'tense'], ['arthritus', 'arthritis'], ['thorasic', 'thoracic'], ['refeshed', 'refreshed'], ['ichy', 'icy'], ['gaggin', 'gagging'], ['naseaous', 'nauseous'], ['trilleptal', 'trilateral'], ['martazapine', 'Martinez'], ['immediagely', 'immediately'], ['glysolid', 'solidify'], ['emotianal', 'emotional'], ['migrainea', 'migraines'], ['nebido', 'libido'], ['bensodiazepines', 'Benedictines'], ['femoston', 'festoon'], ['livial', 'Livia'], ['estrocombi', 'restroom'], ['lillte', 'Lillie'], ['paracarditis', 'pericarditis'], ['flucanazole', 'fluctuation'], ['overian', 'ovarian'], ['godsent', 'godsend'], ['dermatogist', 'dermatologist'], ['methtrexate', 'methotrexate'], ['exsersize', 'supersize'], ['stret', 'stet'], ['endometriotic', 'endometriosis'], ['lsil', 'sill'], ['enquire', 'enquirer'], ['erthromycin', 'erythromycin'], ['eckerds', 'Decker'], ['occular', 'ocular'], ['squibb', 'Squibb'], ['sumycin', 'summing'], ['cscan', 'scan'], ['venastat', 'Staten'], ['mirtazaphine', 'cinematographic'], ['dermitis', 'dermatitis'], ['phenteramine', 'amphetamine'], ['isagenix', 'envisage'], ['cipralix', 'reciprocal'], ['belziq', 'Belize'], ['myocrisin', 'hypocrisy'], ['rhumatologist', 'dermatologist'], ['phenoxymethylpenicillin', 'penicillin'], ['filminess', 'filminess'], ['emoq', 'emo'], ['flourouracil', 'flourish'], ['neutontin', 'incontinent'], ['rcc', 'cc'], ['verabras', 'abrasive'], ['arrythmyia', 'arrhythmia'], ['uhg', 'hug'], ['doxylin', 'mandolin'], ['ideopathic', 'idiopathic'], ['relux', 'relax'], ['roxinol', 'Rollins'], ['sprentec', 'presenter'], ['benardryl', 'Bernard'], ['fluctionations', 'fictionalizations'], ['tnf', 'tn'], ['chillly', 'chilly'], ['reciews', 'resews'], ['ulner', 'ulnar'], ['vibyrd', 'Byrd'], ['papua', 'papa'], ['liberia', 'Liberia'], ['resotran', 'resonant'], ['diviculitus', 'diverticulitis'], ['neevo', 'Negev'], ['aromosin', 'rosiness'], ['soultimate', 'so ultimate'], ['pediasure', 'assured'], ['biopsys', 'biopsy'], ['demoral', 'femoral'], ['evolence', 'benevolence'], ['goodnes', 'goodness'], ['xeljan', 'Janell'], ['illicite', 'illicit'], ['emediately', 'immediately'], ['apperent', 'apparent'], ['finpecia', 'financial'], ['gdv', 'adv'], ['oseni', 'Senior'], ['minovral', 'mineral'], ['primose', 'promise'], ['ribraviron', 'vibration'], ['perml', 'perm'], ['neighbourhood', 'neighborhood'], ['longgg', 'longing'], ['iif', 'ii'], ['tamoxefin', 'tamoxifen'], ['alr', 'ale'], ['diabeties', 'diabetes'], ['lemonoy', 'lemony'], ['kindoff', 'kin doff'], ['refux', 'refute'], ['clindmyacin', 'clinician'], ['kalanapin', 'Menkalinan'], ['creasy', 'crease'], ['raceing', 'racing'], ['vips', 'veeps'], ['bleah', 'blah'], ['cic', 'cc'], ['irritibility', 'irritability'], ['suuuuper', 'superuser'], ['trueskin', 'true skin'], ['methylpredisolone', 'predisposition'], ['unmanagable', 'unmanageable'], ['cosopt', 'cos opt'], ['mooody', 'moody'], ['peiords', 'periods'], ['lileta', 'Leta'], ['psws', 'paws'], ['inguernal', 'inguinal'], ['adryamyacin', 'hyacinths'], ['slamon', 'salmon'], ['genetech', 'gene tech'], ['nightsweats', 'night sweats'], ['anitbiotics', 'antibiotics'], ['cortifoam', 'cortical'], ['lamitory', 'dormitory'], ['leatherlike', 'leather like'], ['skylla', 'Skylab'], ['addit', 'addict'], ['condritis', 'conditions'], ['pancreatitus', 'pancreatitis'], ['triglyceroids', 'triglycerides'], ['crazzzy', 'crazy'], ['treatmant', 'treatment'], ['unbarably', 'unbearably'], ['repeadidly', 'repeatedly'], ['larc', 'lac'], ['diffinatly', 'diffidently'], ['liquifies', 'liquefies'], ['lincolnshire', 'Lancashire'], ['sleepyness', 'sleepiness'], ['iui', 'iii'], ['bern', 'Bern'], ['varys', 'vary'], ['mavik', 'Mavis'], ['phenfen', 'phenomena'], ['avelex', 'wavelet'], ['haemodialysis', 'dialysis'], ['prednosolone', 'predisposition'], ['allertec', 'caller'], ['emercency', 'emergency'], ['tarlov', 'harlot'], ['csf', 'cs'], ['dulco', 'dulcet'], ['drrrrink', 'drinker'], ['dtake', 'stake'], ['angiotension', 'extensional'], ['slowlly', 'slowly'], ['plaquenuil', 'plaque'], ['plaq', 'plan'], ['sunsensitivity', 'sun sensitivity'], ['duoneb', 'duodena'], ['serevent', 'sere vent'], ['betnovate', 'renovate'], ['triamicinolone', 'terminological'], ['undescribably', 'indescribably'], ['ivery', 'very'], ['azithrmycin', 'erythromycin'], ['mosturizer', 'moisturizer'], ['unbarable', 'unbearable'], ['thestruggleisreal', 'struggle'], ['caveate', 'caveat'], ['neuroglia', 'neurological'], ['complara', 'complainer'], ['odefsy', 'geodesy'], ['feeeling', 'feeling'], ['nausee', 'nausea'], ['experinces', 'experiences'], ['phenergran', 'grandnephew'], ['asda', 'NASDAQ'], ['tamsulonsin', 'simulations'], ['hydrochlorid', 'hydroelectric'], ['uriniate', 'urinate'], ['polyarthralgias', 'polyurethanes'], ['specificallly', 'specifically'], ['metres', 'meters'], ['apixiban', 'Taliban'], ['claumida', 'Claudia'], ['lonng', 'long'], ['uggh', 'ugh'], ['methohydroxidone', 'methodicalness'], ['humatrope', 'paratrooper'], ['hydrozine', 'hydro zine'], ['oxybuten', 'oxygenate'], ['misopristol', 'misprision'], ['juvederm', 'judder'], ['eegs', 'gees'], ['staydol', 'stardom'], ['expience', 'expedience'], ['gasto', 'gusto'], ['bbqs', 'BBQ'], ['vusion', 'vision'], ['zolendronic', 'androgenic'], ['menapausel', 'menopause'], ['diognosed', 'diagnosed'], ['prednisilone', 'predisposition'], ['vertebrea', 'vertebrae'], ['bisophosphates', 'phosphates'], ['oculogyric', 'sociology'], ['viroxyn', 'virology'], ['compmonents', 'components'], ['bloodclots', 'blood clots'], ['kirkland', 'Kirkland'], ['horrrible', 'horrible'], ['ressure', 'reassure'], ['donnatol', 'Donatello'], ['motofen', 'motormen'], ['morgenella', 'organelle'], ['morganii', 'Morgan'], ['konsyl', 'nylons'], ['ejucalation', 'ejaculation'], ['prescribbed', 'prescribed'], ['appeti', 'appetite'], ['viactrine', 'vitrine'], ['realises', 'realities'], ['orthoeva', 'orthogonal'], ['zolodex', 'Rolodex'], ['follicilitis', 'follicles'], ['limecycline', 'tetracycline'], ['peroxicam', 'peroxide'], ['bellermine', 'bell ermine'], ['logog', 'logo'], ['misbehaviour', 'misbehavior'], ['midozalm', 'Mendoza'], ['docters', 'doters'], ['givign', 'giving'], ['ughhhh', 'ugh'], ['roprinirole', 'proprietorial'], ['rheumotologist', 'hematologist'], ['xodol', 'Rodolfo'], ['amitriptyine', 'amphetamine'], ['belsomera', 'quarrelsome'], ['subsidised', 'subsidized'], ['tetralysal', 'tetrahedral'], ['programme', 'programmer'], ['withdrawling', 'withdrawing'], ['vivitrols', 'vitriol'], ['morningstar', 'morning star'], ['misophonia', 'saxophonist'], ['fluvox', 'flummox'], ['insys', 'quinsy'], ['hypnopompic', 'hypnotic'], ['alese', 'ales'], ['overwhealmed', 'overwhelmed'], ['phizer', 'phisher'], ['riteone', 'rite one'], ['councellor', 'councilor'], ['hypomagnesiumemia', 'hypoglycemia'], ['pancreattis', 'pancreatitis'], ['ocasions', 'occasions'], ['metroge', 'metro'], ['defficult', 'difficult'], ['admoninal', 'admonition'], ['despratly', 'desperately'], ['inx', 'nix'], ['spondalopathy', 'psychopathy'], ['paybills', 'playbills'], ['delzicol', 'Delmonico'], ['meq', 'mew'], ['siadh', 'Sindhi'], ['demeclocycline', 'tetracycline'], ['pefer', 'peer'], ['experiecnce', 'experience'], ['classifys', 'classify'], ['pharmakinetics', 'pharmaceutics'], ['nighmares', 'nightmares'], ['discoloredand', 'discolored and'], ['neplanon', 'monoplane'], ['coreq', 'core'], ['previfim', 'preview'], ['siactica', 'sciatica'], ['endrometrial', 'endometrial'], ['brainthat', 'brain that'], ['worko', 'work'], ['clobetason', 'cloisonne'], ['certaindry', 'certain dry'], ['seriquel', 'sequel'], ['bmds', 'beds'], ['sixxteen', 'sixteen'], ['efudix', 'direful'], ['lytly', 'Lyly'], ['poubds', 'pounds'], ['anount', 'amount'], ['cetalopram', 'paracetamol'], ['amamzing', 'amazing'], ['chlaymdia', 'chlamydia'], ['ranididine', 'randiness'], ['randidine', 'randiness'], ['culf', 'calf'], ['labido', 'libido'], ['migriane', 'migraine'], ['keifer', 'heifer'], ['nitrofurntoin', 'trinitrotoluene'], ['yhey', 'they'], ['metabolytes', 'metabolites'], ['loesteinfe', 'Bloemfontein'], ['zerobase', 'zero base'], ['imao', 'imago'], ['insonia', 'insomnia'], ['exccelent', 'excellent'], ['unpopable', 'unstoppable'], ['ciprolex', 'reciprocal'], ['xovial', 'jovial'], ['ultradian', 'Trinidadian'], ['acidophlius', 'acidulous'], ['tummyache', 'tummy ache'], ['eupohric', 'euphoric'], ['emotioned', 'motioned'], ['propanate', 'propagate'], ['tzanidine', 'mezzanine'], ['gabepentine', 'serpentine'], ['doxycyclin', 'polyclinic'], ['previuosly', 'previously'], ['lexam', 'exam'], ['weaze', 'weave'], ['disension', 'dissension'], ['buscopan', 'Copacabana'], ['emtional', 'emotional'], ['tantrumy', 'tantrum'], ['trigenimal', 'triennial'], ['morphines', 'morphine'], ['synarel', 'synapse'], ['unimpacted', 'impacted'], ['truclicity', 'rusticity'], ['ribaviran', 'Bavarian'], ['lllt', 'lilt'], ['lymphnode', 'lymph node'], ['vistiril', 'virility'], ['menstruationl', 'menstruation'], ['hibiclens', 'cubicles'], ['nystop', 'nonstop'], ['immediently', 'immediately'], ['debilatating', 'debilitating'], ['musimex', 'musicale'], ['gainin', 'gaining'], ['stanback', 'fastback'], ['iiam', 'diam'], ['flabbed', 'slabbed'], ['hearded', 'headed'], ['excatley', 'excavate'], ['tardia', 'tardily'], ['anythnig', 'anything'], ['especiqlly', 'especially'], ['kaopectate', 'spectate'], ['granmall', 'gran mall'], ['lymphoblastic', 'scholastically'], ['thiroyd', 'thyroid'], ['yupeee', 'rupee'], ['heterogenized', 'heterogeneity'], ['lightheadeness', 'lightheartedness'], ['fluxotene', 'fluorine'], ['metronidozole', 'metropolitan'], ['joice', 'juice'], ['tonsilectomy', 'tonsillectomy'], ['whoch', 'which'], ['orthotrycyclen', 'motorcycle'], ['meteject', 'met eject'], ['leflunamide', 'sulfonamides'], ['unsightlyness', 'unsightliness'], ['meperitab', 'emerita'], ['cardiovert', 'cardio vert'], ['topimirate', 'immigrate'], ['phenergren', 'evergreen'], ['hodgekins', 'Hodgkin'], ['lymfoma', 'lymphoma'], ['tracleer', 'treacle'], ['gastly', 'ghastly'], ['bataseron', 'battlefront'], ['sencond', 'second'], ['deppressants', 'depressants'], ['clarins', 'clarions'], ['tolarate', 'tolerate'], ['trulicuty', 'garrulity'], ['oyxcodone', 'condone'], ['diazpams', 'diagrams'], ['prilsect', 'trisect'], ['almosy', 'almost'], ['drvie', 'drive'], ['gleevac', 'glee vac'], ['lymphoblasic', 'Islamophobic'], ['viscouness', 'viscountess'], ['nosex', 'nose'], ['nortryptyline', 'noncrystalline'], ['csw', 'caw'], ['organisation', 'organization'], ['ecitalopram', 'recitalist'], ['addidtion', 'addition'], ['iadybits', 'ladybirds'], ['vomitig', 'vomiting'], ['rting', 'ring'], ['vraypay', 'PayPal'], ['stillthere', 'still there'], ['disectomies', 'vasectomies'], ['cleanance', 'clearance'], ['intrerest', 'interest'], ['shocky', 'shock'], ['danactive', 'nonactive'], ['urolift', 'urologist'], ['scafel', 'Nescafe'], ['cathterization', 'cauterization'], ['stairstepped', 'stair stepped'], ['blablabla', 'blabbed'], ['methocarb', 'methodical'], ['callange', 'angelical'], ['defitnitely', 'definitely'], ['oprazelam', 'glamorize'], ['diflofenac', 'difference'], ['voltarin', 'Voltaire'], ['immunoligist', 'immunologist'], ['cheque', 'quench'], ['discitis', 'discomfit'], ['nailbed', 'nailed'], ['slimfast', 'slim fast'], ['worrred', 'worried'], ['quabble', 'squabble'], ['woked', 'woke'], ['ellipitical', 'elliptical'], ['sleepness', 'sleepiness'], ['victozia', 'Victoria'], ['esrs', 'ears'], ['insuffuciency', 'insufficiency'], ['zonks', 'zones'], ['mycins', 'Minsky'], ['lorabid', 'lo rabid'], ['hotflash', 'hot flash'], ['addaroll', 'Carroll'], ['sps', 'tips'], ['planparenthood', 'plan parenthood'], ['lozenger', 'lozenge'], ['chlorazepate', 'chlorinate'], ['wgat', 'what'], ['piriton', 'piton'], ['subq', 'sub'], ['dykinesia', 'Indonesia'], ['vns', 'vs'], ['inplant', 'implant'], ['lescol', 'coalesce'], ['reoglan', 'raglan'], ['toridol', 'tor idol'], ['tifs', 'fits'], ['nausiated', 'nauseated'], ['cmwl', 'cowl'], ['infussion', 'infusion'], ['benydrl', 'Bender'], ['nuero', 'numerous'], ['rememebering', 'remembering'], ['measred', 'measured'], ['daypro', 'day pro'], ['sinurest', 'sincerest'], ['azitromicin', 'astronomic'], ['monistant', 'monist ant'], ['theatres', 'theaters'], ['nodoze', 'no doze'], ['cambria', 'cambric'], ['levithyroxine', 'levitation'], ['niacinimide', 'niacin'], ['esctrace', 'tracer'], ['haital', 'ha ital'], ['intricating', 'intoxicating'], ['cervae', 'Cervantes'], ['toridal', 'tutorial'], ['fibromyalgic', 'fibrillation'], ['thiothixene', 'nothingness'], ['hemmorhoids', 'hemorrhoids'], ['vivance', 'vivace'], ['uppedd', 'upped'], ['abosolutely', 'absolutely'], ['tricyclenlo', 'tricycle'], ['foung', 'fount'], ['donei', 'dona'], ['longet', 'longer'], ['wouldmt', 'wouldst'], ['clinque', 'clique'], ['antipycotics', 'antibiotics'], ['headhaches', 'headaches'], ['hvnt', 'hint'], ['compleiy', 'complexity'], ['percochet', 'Percheron'], ['becotide', 'betide'], ['tellig', 'telling'], ['puemothorax', 'housemother'], ['mesicare', 'medicare'], ['lololol', 'lollop'], ['aurobindo', 'Robinson'], ['metrodizanole', 'metropolitan'], ['clindimycin', 'clinician'], ['hpylori', 'pylori'], ['amoxocillin', 'amoxicillin'], ['levulan', 'Levant'], ['imsonia', 'Sonia'], ['anxienty', 'anxiety'], ['spondilitis', 'dispositions'], ['orthamogist', 'ornithologist'], ['oxybutnin', 'Oxycontin'], ['regurin', 'regrind'], ['wahl', 'wail'], ['cardo', 'card'], ['orthotricyline', 'orthogonality'], ['resectioning', 're sectioning'], ['emberassed', 'embarrassed'], ['boughts', 'bought'], ['hadiimplanon', 'implantation'], ['bubalbital', 'suborbital'], ['broncholitis', 'bronchitis'], ['theee', 'three'], ['mfp', 'mp'], ['bordeline', 'borderline'], ['paroxtine', 'parenting'], ['haag', 'hag'], ['smirnoff', 'Smirnoff'], ['wds', 'eds'], ['dianosed', 'diagnosed'], ['dranked', 'franked'], ['mucomyst', 'communist'], ['awakeness', 'awareness'], ['preagnant', 'pregnant'], ['actinick', 'actinium'], ['hydroval', 'hydro val'], ['tolorate', 'tolerate'], ['primlev', 'primeval'], ['metronidazoleb', 'metropolitan'], ['capral', 'carpal'], ['welloft', 'well oft'], ['weezing', 'weeing'], ['nishimaru', 'nightmarish'], ['savere', 'saver'], ['hiatel', 'philately'], ['wiw', 'wow'], ['doodo', 'dodo'], ['auxilium', 'aux ilium'], ['panadiene', 'grenadine'], ['wnl', 'WNW'], ['unberable', 'unbearable'], ['diffently', 'differently'], ['bunuvail', 'unavailing'], ['clycling', 'cycling'], ['rivoril', 'Ivorian'], ['proctoform', 'proctor'], ['gastrointernologist', 'gastrointestinal'], ['kneews', 'knees'], ['protofoam', 'protozoa'], ['sleepies', 'sleepiest'], ['there☹️', 'there'], ['atfack', 'attack'], ['hyperventalating', 'hyperventilating'], ['plegridy', 'griddle'], ['orthpaedist', 'orthopedist'], ['physeptone', 'Persephone'], ['anamorph', 'orphan'], ['serapax', 'serape'], ['durogesic', 'geodesic'], ['depresssed', 'depressed'], ['dcis', 'dis'], ['paroxatine', 'palatine'], ['ecgs', 'ergs'], ['jra', 'jar'], ['scopalomine', 'Episcopalian'], ['soilds', 'solids'], ['laxativ', 'laxative'], ['stabelize', 'stabilize'], ['anaprox', 'approx'], ['azithro', 'azimuth'], ['lilttea', 'lilt tea'], ['setember', 'set ember'], ['bruxosis', 'fibrosis'], ['ramitril', 'mitral'], ['hibiscustea', 'hibiscus tea'], ['arugola', 'arugula'], ['mivaso', 'Rivas'], ['naiveness', 'aliveness'], ['ptss', 'psst'], ['vasectomie', 'vasectomies'], ['overwhelemed', 'overwhelmed'], ['tryciclics', 'tricycles'], ['polcystic', 'pol cystic'], ['terconozale', 'catercorner'], ['obssesive', 'obsessive'], ['atrilpa', 'Patrica'], ['atenonol', 'attention'], ['tolerted', 'tolerated'], ['apparenty', 'apparent'], ['mibela', 'mislabel'], ['hearniated', 'herniated'], ['diskd', 'disks'], ['releaves', 'releases'], ['irratations', 'irritations'], ['psycdoc', 'psychos'], ['nicaragua', 'Nicaragua'], ['chephalexin', 'encephalitic'], ['pentacozine', 'continental'], ['reasurring', 'reassuring'], ['rfa', 'fa'], ['propafol', 'propagator'], ['aciberry', 'blackberry'], ['prolough', 'pro lough'], ['deprestion', 'depression'], ['pacil', 'pail'], ['slightlydisappointed', 'slightly disappointed'], ['benzalate', 'belated'], ['complient', 'complaint'], ['bracial', 'racial'], ['presciptions', 'prescriptions'], ['phernergan', 'pornographer'], ['lamactal', 'lacteal'], ['mertazapine', 'entertainer'], ['illeostomy', 'tonsillectomy'], ['metabilizes', 'metabolizes'], ['metabalizes', 'metabolizes'], ['convulsant', 'convulsion'], ['constipations', 'constipation'], ['cacna', 'Canaan'], ['rlb', 'lb'], ['xanaz', 'Azana'], ['lzya', 'lazy'], ['omgg', 'omega'], ['execellent', 'excellent'], ['coxcyx', 'coccyx'], ['mfgrs', 'mfrs'], ['rvo', 'rho'], ['linctus', 'cinctures'], ['sbeen', 'seen'], ['oding', 'doing'], ['montitored', 'monitored'], ['tubual', 'tubal'], ['canesteen', 'canes teen'], ['attacls', 'attacks'], ['mediacation', 'medication'], ['shivvering', 'shivering'], ['vejay', 'veejay'], ['sulfatrim', 'sulfa trim'], ['backne', 'backbone'], ['trestment', 'treatment'], ['vsd', 'vs'], ['cuspid', 'cupid'], ['mirtal', 'mitral'], ['metzlicine', 'medicine'], ['lathorgic', 'lethargic'], ['depro', 'deprave'], ['finially', 'finally'], ['histerically', 'historically'], ['ohmygosh', 'Ogbomosho'], ['preagnancy', 'pregnancy'], ['guillain', 'Anguilla'], ['tegederm', 'degenerate'], ['opaids', 'op aids'], ['lycky', 'lucky'], ['loracet', 'Loretta'], ['clindatech', 'declination'], ['aneixty', 'anxiety'], ['neosynephrine', 'epinephrine'], ['dexbrompheniramine', 'methamphetamine'], ['nexplanom', 'monoplane'], ['lpr', 'pr'], ['sphichter', 'sphincter'], ['heatead', 'heated'], ['ssnri', 'sunrise'], ['duane', 'Duane'], ['reade', 'read'], ['appaointment', 'appointment'], ['rickashay', 'hayrick'], ['jaydess', 'jadedness'], ['liquorish', 'liquor'], ['itcing', 'icing'], ['annette', 'Annette'], ['lexopro', 'Rolex'], ['bahaha', 'bah aha'], ['phend', 'fend'], ['revivews', 'revives'], ['stabilising', 'stabilizing'], ['synthoid', 'synthesis'], ['smz', 'Sm'], ['dextrostat', 'dextrose'], ['tropaz', 'topaz'], ['minair', 'midair'], ['ventalin', 'Ventolin'], ['exsistent', 'existent'], ['aosd', 'Laos'], ['excederine', 'Excedrin'], ['teststerone', 'testosterone'], ['imitrix', 'Dmitri'], ['tachacardia', 'tachycardia'], ['cales', 'laces'], ['wellburrin', 'wellspring'], ['trentillex', 'percentile'], ['tazoratene', 'ornateness'], ['hazzle', 'dazzle'], ['novaring', 'nova ring'], ['lessend', 'lessens'], ['nuvessa', 'Vanessa'], ['levoamphetamine', 'methamphetamine'], ['matastized', 'metastasized'], ['lotrozole', 'Trollope'], ['tappering', 'tapering'], ['almout', 'almost'], ['nmda', 'Amanda'], ['cycline', 'cyclone'], ['incontinency', 'incontinence'], ['secund', 'second'], ['pild', 'piled'], ['therd', 'herd'], ['arems', 'ares'], ['nousea', 'nausea'], ['baco', 'bacon'], ['hapend', 'ha pend'], ['orgasem', 'orgasm'], ['norprenephrine', 'epinephrine'], ['rechallenged', 're challenged'], ['uhc', 'uh'], ['imiqumod', 'Imodium'], ['bupernex', 'burner'], ['bilsolvi', 'solubility'], ['xweek', 'week'], ['belsoma', 'Abelson'], ['chast', 'chats'], ['pedicless', 'Pericles'], ['disese', 'disease'], ['hyperintensit', 'hypersensitive'], ['synivoal', 'synovial'], ['faccet', 'facet'], ['nacotics', 'narcotics'], ['scizophrenia', 'schizophrenia'], ['gabapertin', 'appertain'], ['sigmapharm', 'pharmacist'], ['mmr', 'mm'], ['rhabdomiolitis', 'abolitionism'], ['disapated', 'dissipated'], ['lunista', 'lutanist'], ['vitoza', 'Vito'], ['acje', 'ache'], ['corticol', 'cortical'], ['medicineii', 'medicine ii'], ['lisonopril', 'monopolist'], ['trilyptal', 'trilateral'], ['moban', 'moan'], ['adviar', 'adviser'], ['pearles', 'pearled'], ['liquigels', 'liquidizes'], ['vallarta', 'larval'], ['cmml', 'cm ml'], ['duradrin', 'duration'], ['coulnt', 'count'], ['girlfreind', 'girlfriend'], ['hought', 'ought'], ['sleve', 'sleeve'], ['aveed', 'avid'], ['anastrozol', 'astrologist'], ['bedime', 'bedim'], ['halucinations', 'hallucinations'], ['spironolatone', 'perspiration'], ['pamprin', 'imprint'], ['besfor', 'Forbes'], ['wqs', 'was'], ['headrush', 'head rush'], ['zomjg', 'zoom'], ['mylogenous', 'endogenous'], ['mskcc', 'Chomsky'], ['macdonalds', 'MacDonald'], ['wendys', 'wends'], ['medicien', 'medicine'], ['fibomyalgia', 'Fibonacci'], ['minulet', 'minuet'], ['femoden', 'demode'], ['harmonet', 'Harmon'], ['flases', 'lases'], ['issuses', 'issues'], ['nomal', 'normal'], ['exprerience', 'experience'], ['letharigic', 'lethargic'], ['dificulty', 'difficulty'], ['ceravae', 'ravager'], ['sporonox', 'sponsor'], ['clonazapem', 'monoclonal'], ['viagrais', 'Viagra'], ['uvitus', 'Vitus'], ['nalaxone', 'klaxon'], ['lodrane', 'Loraine'], ['prostitis', 'prostitutes'], ['bactrium', 'bacterium'], ['tempro', 'tempo'], ['endometrieosis', 'endometriosis'], ['duralax', 'Duracell'], ['verterbrae', 'vertebrae'], ['ldn', 'LLD'], ['normalise', 'normalize'], ['bandaiding', 'band aiding'], ['sequestor', 'sequester'], ['abbvie', 'abbrev'], ['alkaseltzer', 'seltzer'], ['preservered', 'preserve red'], ['acampostate', 'apostate'], ['orgasim', 'orgasm'], ['podophyllum', 'chlorophyll'], ['aleeve', 'alive'], ['numm', 'numb'], ['belbica', 'biblical'], ['meleluca', 'camellia'], ['pnv', 'NV'], ['muscleaches', 'muscle aches'], ['minimised', 'minimized'], ['weightgain', 'weight gain'], ['lrm', 'rm'], ['severve', 'severe'], ['doxycline', 'decline'], ['ibroprofen', 'ibuprofen'], ['hyperaldosteronism', 'hyperparathyroidism'], ['caffinated', 'caffeinated'], ['bcaz', 'bobcat'], ['disorganised', 'disorganized'], ['zzzzap', 'pizzazz'], ['fibrillater', 'fibrillate'], ['asii', 'as ii'], ['epaderm', 'epidermal'], ['fallng', 'falling'], ['biogen', 'bio gen'], ['seborreic', 'seborrhea'], ['tegrotol', 'grottoes'], ['judgements', 'judgments'], ['gittery', 'glittery'], ['impulseness', 'impulsiveness'], ['vamc', 'vac'], ['pergeta', 'target'], ['readness', 'dearness'], ['phichiatrist', 'psychiatrist'], ['curbe', 'curve'], ['detro', 'retro'], ['antzy', 'antsy'], ['onlyh', 'only'], ['schizofernia', 'schizophrenia'], ['unactive', 'inactive'], ['kestine', 'destine'], ['codene', 'codeine'], ['ctrigeminal', 'criminalize'], ['morbids', 'morbid'], ['yuvifem', 'effluvium'], ['amitriptlyne', 'stripteaser'], ['ediduo', 'edited'], ['moisterising', 'moistening'], ['bupropionxl', 'propulsion'], ['adjustes', 'adjusted'], ['zyhydro', 'hydro'], ['dilitation', 'dilatation'], ['intence', 'intense'], ['prescfription', 'prescription'], ['everl', 'ever'], ['nessasary', 'necessary'], ['founf', 'found'], ['myofkex', 'myopia'], ['merical', 'metrical'], ['medidate', 'mediate'], ['stratera', 'strategist'], ['merena', 'Serena'], ['metatropanol', 'metropolitan'], ['evrybody', 'everybody'], ['losted', 'listed'], ['lymphadima', 'lymphatic'], ['alz', 'ale'], ['myxedemacoma', 'myxomatosis'], ['demeral', 'emerald'], ['gapentin', 'parenting'], ['zolair', 'Zola'], ['myfitness', 'my fitness'], ['thrombic', 'thrombi'], ['angiitis', 'gingivitis'], ['flexerill', 'flexible'], ['amoxicilin', 'amoxicillin'], ['menapausal', 'menopausal'], ['rrom', 'room'], ['meaness', 'meanness'], ['loestrein', 'shoestring'], ['microestregin', 'microelectronic'], ['arymo', 'armory'], ['oxstellar', 'ox stellar'], ['degloved', 'deg loved'], ['taytualla', 'actuality'], ['guafacine', 'guanine'], ['minipad', 'mini pad'], ['evere', 'ever'], ['percocette', 'percolate'], ['belbucca', 'buccaneer'], ['mav', 'mac'], ['vulvadynia', 'vulgarian'], ['withen', 'withe'], ['klonolins', 'Klondikes'], ['saphrise', 'pharisee'], ['dignozed', 'dignified'], ['lexapto', 'laptop'], ['erubulin', 'tuberculin'], ['soras', 'soars'], ['loratidine', 'Lorraine'], ['welbutren', 'putrescent'], ['imbarassing', 'embarrassing'], ['bupeonorpine', 'businessperson'], ['hcz', 'Czech'], ['propanonol', 'propagation'], ['exersize', 'exercise'], ['tritrated', 'arbitrated'], ['kurvelo', 'velour'], ['utimately', 'ultimately'], ['jehovah', 'Jehovah'], ['miragraine', 'migraine'], ['disography', 'discography'], ['allieviates', 'alleviates'], ['depoprovera', 'provender'], ['triplix', 'triplex'], ['augmentum', 'augment um'], ['phlem', 'phloem'], ['zanatane', 'Tanzanian'], ['yrsold', 'yr sold'], ['sympanthectomy', 'sympathetically'], ['percadet', 'per cadet'], ['apsolutly', 'absolutely'], ['definietly', 'definitely'], ['votaren', 'votary'], ['giavni', 'Giannini'], ['isurance', 'insurance'], ['skylas', 'skylarks'], ['tetracyline', 'tetracycline'], ['ogesteral', 'gestural'], ['cylotec', 'culotte'], ['neeeed', 'needed'], ['permethrins', 'perimeters'], ['kratom', 'Krakatoa'], ['chiropracter', 'chiropractor'], ['anorgasma', 'organism'], ['pardom', 'pardon'], ['budy', 'busy'], ['realising', 'realizing'], ['pramosone', 'gramophone'], ['rheumacaid', 'rheumatoid'], ['semihard', 'semi hard'], ['precribing', 'prescribing'], ['heaches', 'reaches'], ['revlon', 'Revlon'], ['cepta', 'septa'], ['lucopenia', 'uncongenial'], ['panbronchiolitis', 'bronchitis'], ['neuasious', 'nefarious'], ['uncontrallable', 'uncontrollable'], ['akineton', 'Antoinette'], ['valdoxin', 'Valvoline'], ['poinsoning', 'poisoning'], ['ropinrole', 'atropine'], ['clartin', 'clarinet'], ['vthis', 'this'], ['credad', 'cred ad'], ['psorises', 'psoriasis'], ['sensitivite', 'sensitivity'], ['larissia', 'Clarissa'], ['neuropothy', 'nephropathy'], ['dumpty', 'dumpy'], ['thic', 'chit'], ['schizoprenia', 'schizophrenia'], ['dizzies', 'dizzies'], ['banzel', 'banzai'], ['hyslinga', 'gangling'], ['tripppping', 'tripping'], ['athat', 'that'], ['llbs', 'lbs'], ['naturoid', 'naturist'], ['getless', 'gutless'], ['works☺️also', 'workstation'], ['gynocolgist', 'gynecologist'], ['moodstabilisers', 'demonstrability'], ['incredibily', 'incredibly'], ['bpl', 'bl'], ['quetrapine', 'quarantine'], ['syprims', 'primps'], ['mitazipine', 'magazine'], ['bromalex', 'broodmare'], ['prolapsing', 'prolapsing'], ['kylenna', 'Glenna'], ['nightguard', 'night guard'], ['tramadols', 'trammels'], ['distractable', 'dis tractable'], ['hyoscamine', 'histamine'], ['cripplig', 'crippling'], ['dalaulid', 'Dalai'], ['emotoons', 'emotions'], ['ectopics', 'topics'], ['expeirenced', 'experienced'], ['gyny', 'Ginny'], ['tvt', 'tit'], ['cytomeglovirus', 'retrovirus'], ['dicharge', 'discharge'], ['lethesis', 'thesis'], ['porcelin', 'porcelain'], ['horible', 'horrible'], ['rigormortis', 'mortises'], ['visterol', 'virologist'], ['ibropfen', 'ibuprofen'], ['decaffinated', 'decaffeinated'], ['schizoeffective', 'schizo effective'], ['woners', 'owners'], ['lycria', 'Lycra'], ['tolterdine', 'interdiction'], ['arthiritis', 'arthritis'], ['lamotrogien', 'lamentation'], ['neaouroligist', 'neurologist'], ['autisum', 'autism'], ['bheavior', 'behavior'], ['depakin', 'Dedekind'], ['clonozepam', 'monoclonal'], ['amytriptoline', 'trampoline'], ['depessants', 'depressants'], ['hydroxychloraquine', 'hydroelectrically'], ['methatrexate', 'methotrexate'], ['theyou', 'the you'], ['theeee', 'thee'], ['impant', 'implant'], ['caesearean', 'Cesarean'], ['elquis', 'relinquish'], ['ketoacidos', 'acidosis'], ['psychopharmologist', 'psychopharmacology'], ['ibdh', 'ibid'], ['lpn', 'LPN'], ['helpes', 'helped'], ['thyroditis', 'thyroids'], ['thatmatter', 'that matter'], ['agoraphophic', 'agoraphobic'], ['nexplan', 'exoplanet'], ['wheb', 'when'], ['pesudo', 'pseudo'], ['deppressant', 'depressant'], ['kolozopin', 'walloping'], ['roxicodones', 'Micronesian'], ['eisai', 'Isaiah'], ['adilt', 'adult'], ['niacinaminde', 'indeterminacy'], ['helpable', 'help able'], ['disprder', 'disorder'], ['differentlyto', 'differently to'], ['symtomps', 'symptoms'], ['drowziness', 'frowziness'], ['jumel', 'jumble'], ['centres', 'centers'], ['wains', 'wain'], ['bisphosphanates', 'phosphates'], ['resperidone', 'desperation'], ['maina', 'mania'], ['doctorr', 'doctor'], ['chrons', 'chevrons'], ['myalgic', 'magical'], ['camresem', 'resemble'], ['lynecycline', 'tetracycline'], ['lexpril', 'privilege'], ['hyprex', 'hypertext'], ['hypex', 'hype'], ['primalev', 'primeval'], ['aerogel', 'aerogram'], ['kcl', 'kc'], ['provers', 'proves'], ['amlnd', 'amend'], ['suseptable', 'susceptible'], ['menstuation', 'menstruation'], ['daflon', 'daylong'], ['spironaldactone', 'inspirational'], ['drowzieness', 'drowsiness'], ['norithindrone', 'noteworthiness'], ['lorsartan', 'sartorial'], ['beacuase', 'because'], ['lisonipril', 'prisoner'], ['spondylothesis', 'photosynthesis'], ['linzes', 'lines'], ['tami', 'Tami'], ['diclophenac', 'encyclopedic'], ['norlutate', 'orientate'], ['nutrivie', 'nutritive'], ['acthar', 'ACTH'], ['trillexine', 'brilliantine'], ['maybd', 'maybe'], ['conerned', 'concerned'], ['oragel', 'forage'], ['citalopran', 'recalcitrant'], ['escitalopran', 'resuscitation'], ['desappeared', 'disappeared'], ['overweightgrammy', 'overweight'], ['clonid', 'cloned'], ['pwriod', 'period'], ['bupephrine', 'epinephrine'], ['clobetesol', 'obsolete'], ['humaira', 'humanizer'], ['alginic', 'clinical'], ['clairitin', 'clarinetist'], ['lotensin', 'ostensible'], ['benzaprill', 'Benzedrine'], ['metformi', 'reformist'], ['janumetxr', 'numerator'], ['zolphidem', 'delphinium'], ['klopin', 'lopping'], ['cryed', 'cred'], ['tylonol', 'Tylenol'], ['salicilate', 'salivate'], ['seborrhoeic', 'seborrhea'], ['mthf', 'mt hf'], ['shouldv', 'should'], ['microgenstin', 'micromanagement'], ['endone', 'undone'], ['zaldiar', 'Garibaldi'], ['endones', 'end ones'], ['unformation', 'information'], ['pshyc', 'psych'], ['veggiterian', 'veterinarian'], ['zuchiinni', 'zucchini'], ['luekemia', 'leukemia'], ['glta', 'Alta'], ['thruthful', 'truthful'], ['groginess', 'grogginess'], ['halaven', 'haven'], ['lonox', 'lox'], ['vistral', 'mistral'], ['dyrenium', 'quadrennium'], ['ponv', 'pone'], ['crna', 'Erna'], ['ppdin', 'pp din'], ['roperinol', 'interloper'], ['stevensnana', 'Stevenson'], ['workingout', 'working out'], ['moveit', 'move it'], ['nivea', 'Nivea'], ['jekyll', 'Jekyll'], ['plendil', 'splendid'], ['darkt', 'dark'], ['houghts', 'thoughts'], ['previfm', 'preview'], ['napoxen', 'nap oxen'], ['recuring', 'recurring'], ['zostavax', 'zoster'], ['serviving', 'servicing'], ['clairthromycin', 'erythromycin'], ['hypnotised', 'hypnotized'], ['insonmia', 'insomnia'], ['absorica', 'absorbing'], ['zoombie', 'zombie'], ['unforeshadowed', 'foreshadowed'], ['meiner', 'miner'], ['blahed', 'blared'], ['fibromtalgia', 'fibrillation'], ['acure', 'acute'], ['medicene', 'medicine'], ['preprocedure', 'procedure'], ['heroption', 'her option'], ['allipuronol', 'Halliburton'], ['excavatum', 'excavate'], ['breakthro', 'breakthrough'], ['xolaire', 'Voltaire'], ['marzia', 'maria'], ['zazazoo', 'wazoo'], ['anyklosing', 'singalong'], ['yro', 'yr'], ['dexy', 'sexy'], ['tribuss', 'tributes'], ['tenarenz', 'Nazarene'], ['approximative', 'approximation'], ['prebaby', 'prefab'], ['salagen', 'ensilage'], ['capoxone', 'Capone'], ['ofnortriptyline', 'pantyliner'], ['fjnished', 'finished'], ['fjnd', 'fend'], ['bactazil', 'bacterial'], ['luprone', 'prone'], ['perscribes', 'prescribes'], ['miragine', 'migraine'], ['bracestablish', 'establish'], ['myoflex', 'flextime'], ['iose', 'nose'], ['menstrate', 'menstruate'], ['yaaay', 'Aaliyah'], ['stelera', 'telecaster'], ['missa', 'miss'], ['spelt', 'slept'], ['embarressing', 'embarrassing'], ['detoxers', 'detoxes'], ['butrane', 'butane'], ['taperd', 'tapers'], ['stmach', 'stomach'], ['loram', 'moral'], ['isolatet', 'isolate'], ['asma', 'as ma'], ['esram', 'es ram'], ['diferenc', 'difference'], ['beffore', 'before'], ['headatches', 'headaches'], ['arobia', 'Arabia'], ['hylagan', 'Flanagan'], ['synvisic', 'synopsis'], ['montelukestat', 'molestation'], ['seroonin', 'serotonin'], ['miltiple', 'multiple'], ['metropol', 'metro pol'], ['recognised', 'recognized'], ['browness', 'brownness'], ['finaliy', 'finality'], ['aot', 'oat'], ['clariten', 'clarinet'], ['skelelatal', 'skeletal'], ['presecriptions', 'prescriptions'], ['meliane', 'Mendelian'], ['multag', 'Multan'], ['aventi', 'Aventine'], ['aspriin', 'aspirin'], ['excuciating', 'excruciating'], ['raptive', 'captive'], ['eltrombpag', 'electromagnet'], ['overcomed', 'overcomes'], ['jei', 'jet'], ['effexol', 'effete'], ['leveller', 'leveler'], ['havits', 'habits'], ['annulare', 'annular'], ['caeflexan', 'Alexandra'], ['dispariunia', 'disparaging'], ['osphena', 'phenomena'], ['mordor', 'Mordred'], ['grms', 'gems'], ['testostrone', 'testosterone'], ['fibromialgya', 'fibrillation'], ['serotoninergic', 'serotonin'], ['effixor', 'effort'], ['idoit', 'idiot'], ['learne', 'learn'], ['revalto', 'rev alto'], ['sildenifil', 'Waldensian'], ['flucopanthixol', 'fluctuation'], ['dysfuction', 'dysfunction'], ['cefditoren', 'creditor'], ['tourrettes', 'tortures'], ['inflamations', 'inflammations'], ['acanthosis', 'acanthus'], ['burspirone', 'businessperson'], ['buvipicane', 'picayune'], ['allopecia', 'especial'], ['interdermally', 'intermediately'], ['nuvil', 'anvil'], ['imozop', 'improper'], ['heartbeating', 'heart beating'], ['withdrawql', 'withdrawal'], ['cylce', 'cycle'], ['ceratainly', 'certainly'], ['diatary', 'dietary'], ['itchyrash', 'itchy rash'], ['diarrheral', 'diarrhea'], ['epididimitus', 'epidemiologist'], ['hydrocondone', 'hydro condone'], ['tlevel', 'level'], ['paxam', 'Pam'], ['discetomy', 'dichotomy'], ['muccus', 'mucus'], ['zarrah', 'Zara'], ['andii', 'and ii'], ['paracodol', 'paracetamol'], ['oxyl', 'Roxy'], ['idu', 'id'], ['cloborex', 'clobber'], ['hrv', 'hr'], ['comedonal', 'comedown'], ['bornine', 'Borneo'], ['shink', 'shin'], ['osteoarthirits', 'osteoarthritis'], ['arnuity', 'annuity'], ['hypothroidism', 'hypothyroidism'], ['heafaches', 'headaches'], ['harpees', 'harpies'], ['nrt', 'net'], ['profein', 'protein'], ['suboxon', 'suborn'], ['solfenacin', 'menacing'], ['midicatition', 'humidification'], ['defenatilly', 'deferentially'], ['veeeery', 'Vermeer'], ['emotionaly', 'emotional'], ['dianne', 'Dianne'], ['apuranol', 'Annapurna'], ['cholcine', 'chlorine'], ['urine\\u200b', 'urine'], ['carbemezapeme', 'escapement'], ['cdphp', 'Cepheid'], ['hppe', 'hope'], ['nadalol', 'gonadal'], ['varicies', 'varieties'], ['nitrofantenoin', 'trinitrotoluene'], ['diagined', 'imagined'], ['initail', 'initial'], ['litchen', 'kitchen'], ['drugalogue', 'Decalogue'], ['belgravia', 'Belgrade'], ['mmg', 'mm'], ['hinderence', 'hindered'], ['diazipan', 'marzipan'], ['diagnosised', 'diagnosis ed'], ['excerising', 'exercising'], ['idid', 'did'], ['lactobacilus', 'bacillus'], ['amoxcilin', 'amoxicillin'], ['escutalipram', 'escutcheon'], ['photoageing', 'photographing'], ['brilltenex', 'brilliantine'], ['probaclac', 'probably'], ['brkfst', 'breakfast'], ['probiotc', 'probity'], ['rosex', 'rose'], ['nax', 'max'], ['applu', 'apply'], ['priobiotic', 'macrobiotic'], ['mirtazpine', 'mirthfulness'], ['duramine', 'Dramamine'], ['seemvslow', 'semivowel'], ['prrrrretty', 'pretty'], ['lithuim', 'lithium'], ['argumentive', 'argumentative'], ['medicuness', 'medicines'], ['conitnue', 'continue'], ['skiip', 'skip'], ['montistat', 'molestation'], ['mirina', 'marina'], ['haemotologist', 'hematologist'], ['lupos', 'lupus'], ['simultaniously', 'simultaneously'], ['narcoplesy', 'narcolepsy'], ['ceram', 'cream'], ['behcet', 'behest'], ['castleman', 'cattleman'], ['fibromyalga', 'fibrillation'], ['melanosis', 'melanomas'], ['reversable', 'reversible'], ['chocies', 'choices'], ['pesudophedrine', 'ephedrine'], ['minoxidile', 'minoxidil'], ['minuxidile', 'minoxidil'], ['glipzide', 'glider'], ['itiching', 'itching'], ['weighloss', 'weigh loss'], ['levocetorizine', 'transistorize'], ['metra', 'meta'], ['benadryll', 'balladry'], ['zertec', 'Zyrtec'], ['hoepfully', 'hopefully'], ['vajay', 'veejay'], ['ughhhhh', 'roughhouse'], ['balmex', 'balm ex'], ['cottenelle', 'coelenterate'], ['ttp', 'tsp'], ['nifedical', 'biomedical'], ['provocholine', 'provolone'], ['polysystic', 'polysyllabic'], ['extensize', 'extensive'], ['wohoo', 'woo'], ['carduran', 'canard'], ['ostelarthritis', 'osteoarthritis'], ['atipla', 'Attila'], ['frontol', 'frontal'], ['modafinal', 'modality'], ['cardioablation', 'cardio ablation'], ['dialation', 'dilation'], ['fluozone', 'flu ozone'], ['adepex', 'adept'], ['apena', 'paean'], ['palpatations', 'palpitations'], ['migergot', 'ergot'], ['onederland', 'wonderland'], ['laprascopic', 'laparoscopic'], ['momy', 'mom'], ['hadmy', 'hammy'], ['tophus', 'typhus'], ['cutar', 'cuter'], ['philiosophy', 'philosophy'], ['instrusive', 'intrusive'], ['acnetrex', 'retrace'], ['coause', 'cause'], ['probitotics', 'robotics'], ['viiv', 'vii'], ['carby', 'carny'], ['cushing', 'crushing'], ['reccoment', 'recommencement'], ['tolarable', 'tolerable'], ['tetracyclene', 'tetracycline'], ['opthmologist', 'ophthalmologist'], ['terrificly', 'terrifically'], ['escitalo', 'escalope'], ['metphormin', 'metaphoric'], ['medidation', 'mediation'], ['ceflexicin', 'reflexive'], ['suboxen', 'sub oxen'], ['surpresses', 'suppresses'], ['apitite', 'apatite'], ['theshold', 'threshold'], ['apptm', 'applet'], ['calomist', 'logistical'], ['mgmnt', 'MGM'], ['oxyir', 'oxymora'], ['kclav', 'kc lav'], ['spermies', 'spermicides'], ['headeach', 'headache'], ['experation', 'expiration'], ['tovias', 'aviators'], ['fungas', 'fungal'], ['someitmes', 'sometimes'], ['schizophenic', 'schizophrenic'], ['suffeerd', 'suffered'], ['semihealthy', 'semi healthy'], ['menstrated', 'menstruated'], ['percacet', 'percale'], ['torturoed', 'tortured'], ['excersing', 'excerpting'], ['phlemg', 'phlegm'], ['disectomy', 'dissector'], ['scopolomine', 'CinemaScope'], ['cilest', 'vilest'], ['provrea', 'procreate'], ['cardioigist', 'cardiologist'], ['keratocojunctivitis', 'conjunctivitis'], ['akamine', 'aka mine'], ['frightning', 'frighting'], ['preccupied', 'preoccupied'], ['misssing', 'missing'], ['altoghether', 'altogether'], ['radiolab', 'radio lab'], ['ameisen', 'arisen'], ['sciencedomain', 'science domain'], ['mjq', 'Maj'], ['oubacgy', 'outback'], ['ropinorole', 'profiterole'], ['positvely', 'positively'], ['braken', 'brake'], ['primadone', 'reprimand'], ['passiflora', 'passionflower'], ['incarnata', 'incarnate'], ['gyneocologist', 'gynecologist'], ['kivexa', 'skive'], ['viramune', 'remunerate'], ['dolutegravir', 'ultraviolet'], ['neilmed', 'illumined'], ['scalpicin', 'scaliness'], ['hydrafacial', 'hydra facial'], ['bittery', 'buttery'], ['disporder', 'disorder'], ['dizzys', 'dizzy'], ['tussicaps', 'capsicums'], ['blaaaa', 'Blanca'], ['lateri', 'later'], ['dioctyl', 'dactylic'], ['practising', 'practicing'], ['myoclonous', 'monotonous'], ['simvastin', 'devastating'], ['widmer', 'wider'], ['lithicarb', 'lithographic'], ['morbiditis', 'morbidity'], ['dysythmia', 'arrhythmia'], ['quitdate', 'quit date'], ['helpig', 'helping'], ['vitalux', 'vital'], ['methrotrexate', 'methotrexate'], ['antidpressant', 'antidepressant'], ['somethibg', 'something'], ['dysfagia', 'dysphagia'], ['visin', 'vision'], ['flexerel', 'flexed'], ['fett', 'fete'], ['glucafage', 'glucagon'], ['pompholyx', 'polyphony'], ['serdep', 'seeder'], ['lorien', 'Lorie'], ['salokfalk', 'Salonika'], ['corig', 'corgi'], ['sensativity', 'sensitivity'], ['pcod', 'pod'], ['meformin', 'informed'], ['bcz', 'biz'], ['spasims', 'spasms'], ['silvasorb', 'Silva'], ['withoit', 'without'], ['tomast', 'toast'], ['remidied', 'remedied'], ['nivolumba', 'Columbia'], ['maner', 'mane'], ['cholitis', 'colitis'], ['immitrex', 'extremity'], ['drowiness', 'drowsiness'], ['rcvd', 'RC'], ['severeness', 'severeness'], ['otoh', 'OTOH'], ['devoloping', 'developing'], ['diflican', 'Anglican'], ['profoundley', 'profoundly'], ['ssni', 'sins'], ['twynsta', 'mainstay'], ['honorle', 'honoree'], ['tyco', 'taco'], ['recti', 'recto'], ['medicatin', 'medication'], ['staes', 'sates'], ['anastasi', 'Anastasia'], ['alchoholism', 'alcoholism'], ['nulasta', 'outlast'], ['weepier', 'weepier'], ['squirl', 'swirl'], ['suppresent', 'sup present'], ['doxlamine', 'dopamine'], ['wiegh', 'weigh'], ['favourites', 'favorites'], ['hypotention', 'hyphenation'], ['esphogael', 'asphodel'], ['sydea', 'Sydney'], ['whiped', 'wiped'], ['esstential', 'essential'], ['phycologist', 'physiologist'], ['moltrin', 'Motrin'], ['yestersay', 'yesterday'], ['medicantion', 'medication'], ['werthers', 'weathers'], ['tritrate', 'arbitrate'], ['clyndamycin', 'Aureomycin'], ['tranzadone', 'transponder'], ['buchholz', 'Buchwald'], ['helllp', 'hell'], ['sandexa', 'Sanders'], ['visaril', 'vivaria'], ['eeeek', 'eek'], ['zithromycin', 'erythromycin'], ['physiogel', 'physio gel'], ['lamenectomies', 'tonsillectomies'], ['radiculapathy', 'particularity'], ['acetoaminophen', 'acetaminophen'], ['acctuane', 'accentuate'], ['laporoscopies', 'laparoscopic'], ['busperone', 'onerous'], ['perocet', 'Perot'], ['hevy', 'hey'], ['manigable', 'manipulable'], ['ampyrya', 'pyramid'], ['herat', 'heart'], ['colonazepam', 'colonnade'], ['processced', 'processed'], ['linzesse', 'seemliness'], ['jaiil', 'jail'], ['detriot', 'Detroit'], ['osborne', 'Osborne'], ['barbitrates', 'arbitrates'], ['dabagitran', 'ditransitive'], ['cataplectic', 'apoplectic'], ['sumlight', 'sunlight'], ['neuprogen', 'progenitor'], ['nuerotin', 'retinue'], ['havn', 'haven'], ['reflexia', 'reflexive'], ['movantek', 'mountebank'], ['hydrcodone', 'hydrophone'], ['feraheme', 'ephemera'], ['minamal', 'minimal'], ['lamictle', 'amicable'], ['bachlors', 'bachelors'], ['finisteride', 'ministerial'], ['nodesum', 'node sum'], ['viavarin', 'vivaria'], ['ropinirol', 'propping'], ['lns', 'lbs'], ['sandostatin', 'Sandinista'], ['druggest', 'druggist'], ['contrav', 'contravene'], ['orhro', 'horror'], ['hopelesness', 'hopelessness'], ['isotetinoin', 'indiscretion'], ['surgry', 'surgery'], ['scolosis', 'scoliosis'], ['perscribe', 'prescribe'], ['ribot', 'robot'], ['belivq', 'believe'], ['colles', 'cellos'], ['guafenesen', 'safeness'], ['cyclrn', 'cyclone'], ['inflamatories', 'inflammatory'], ['rhu', 'rho'], ['betablocker', 'beta blocker'], ['hzt', 'ht'], ['acidophillus', 'audiophiles'], ['strainous', 'strains'], ['intergrative', 'integrative'], ['categorised', 'categorized'], ['saffryl', 'saffron'], ['nuvarings', 'nurslings'], ['deprrssion', 'depression'], ['phenermine', 'predetermine'], ['unhairy', 'hairy'], ['trigycedrides', 'triglycerides'], ['konopin', 'opinion'], ['amoxyllin', 'amoxicillin'], ['anexiety', 'anxiety'], ['vertabras', 'vertebrates'], ['difficlle', 'difficult'], ['implanol', 'implant'], ['buttox', 'button'], ['micanozole', 'polemical'], ['cozemel', 'Cozumel'], ['pirmella', 'Carmella'], ['spondylolysthesis', 'anesthesiologists'], ['supressive', 'repressive'], ['ophthalmopathy', 'ophthalmology'], ['doughter', 'doughtier'], ['anymoee', 'anymore'], ['madicate', 'medicate'], ['traumeel', 'trammel'], ['tarzan', 'Tarzan'], ['redose', 'redoes'], ['addipex', 'Addie'], ['dyrsol', 'oversold'], ['dysthmia', 'isthmian'], ['doxycyclne', 'anticyclone'], ['topicallly', 'topically'], ['burpy', 'burp'], ['epc', 'epic'], ['dysmenhorrea', 'horrendous'], ['alprolazam', 'Malaprop'], ['interpheron', 'interferon'], ['painit', 'paint'], ['sware', 'swear'], ['myorisan', 'Yossarian'], ['stelazine', 'laziness'], ['palpitationss', 'palpitations'], ['neurolog', 'neurology'], ['metrotexato', 'methotrexate'], ['genralized', 'generalized'], ['glumetza', 'glummest'], ['wakeness', 'weakness'], ['actifed', 'activated'], ['halway', 'hallway'], ['paraperesis', 'paresis'], ['veet', 'beet'], ['htma', 'ht ma'], ['doxipen', 'ripened'], ['probotics', 'robotics'], ['anzemet', 'amazement'], ['whoppee', 'whoopee'], ['edta', 'eta'], ['seasonqiue', 'seasoning'], ['annetandre', 'Andretti'], ['klor', 'kl or'], ['votriant', 'variant'], ['nephectomy', 'splenectomy'], ['xwk', 'wk'], ['metformine', 'determiner'], ['inexpierece', 'inexperience'], ['nasueated', 'nauseated'], ['gynocolegist', 'gynecologist'], ['amiracle', 'miracle'], ['unfourtanatly', 'unfortunately'], ['synptoms', 'symptoms'], ['perios', 'period'], ['spondylosisthesis', 'anesthesiologists'], ['jeeez', 'jeez'], ['snapple', 'Snapple'], ['buzy', 'boozy'], ['tiz', 'zit'], ['furoate', 'floater'], ['momin', 'mo min'], ['trubiotics', 'macrobiotics'], ['mctd', 'McAdam'], ['pobia', 'phobia'], ['flolan', 'flan'], ['ileocecectomy', 'tonsillectomy'], ['eczama', 'eczema'], ['ciproflozacin', 'nonreciprocal'], ['bonner', 'Bonner'], ['naprogesic', 'progestin'], ['liada', 'Iliad'], ['complection', 'completion'], ['rocalcitrol', 'recalcitrant'], ['calcitrol', 'calcite'], ['signifantly', 'significantly'], ['keflix', 'Netflix'], ['rucefin', 'refiner'], ['pacicking', 'panicking'], ['pavovirus', 'oviparous'], ['venaflaxine', 'venality'], ['luggies', 'buggies'], ['neurotologist', 'neurologist'], ['presby', 'pres by'], ['worsed', 'worded'], ['husdan', 'husband'], ['igg', 'gig'], ['insesent', 'insentient'], ['blackboxed', 'black boxed'], ['antiallergic', 'anti allergic'], ['mylif', 'mollify'], ['nanaofnine', 'Mindanao'], ['vanwinkle', 'van winkle'], ['loestron', 'lodestone'], ['ckecking', 'checking'], ['cranker', 'canker'], ['drining', 'droning'], ['druged', 'drudged'], ['maco', 'mac'], ['prescsribe', 'prescribe'], ['clonavepam', 'monoclonal'], ['aviana', 'avian'], ['phentarime', 'experimental'], ['phetarmine', 'amphetamine'], ['daivobet', 'dative'], ['lamctii', 'lactic'], ['deprsssion', 'depression'], ['deprekote', 'deprecate'], ['themm', 'them'], ['finsu', 'fins'], ['kyri', 'risky'], ['definantly', 'defiantly'], ['sulphonamides', 'sulfonamides'], ['ocycodone', 'condone'], ['suspedol', 'suspected'], ['tookclonodine', 'bloodiness'], ['unabtainable', 'unattainable'], ['celexas', 'celestas'], ['tiroaint', 'Tirolean'], ['lecothyroxine', 'hyperthyroid'], ['obsses', 'bosses'], ['obesssion', 'obsession'], ['incressed', 'increased'], ['lozapam', 'Zapata'], ['suidical', 'suicidal'], ['isosorb', 'Orbison'], ['lyica', 'lyrical'], ['disroder', 'disorder'], ['losetrin', 'loitering'], ['fluocinolone', 'fluorine'], ['topalex', 'topple'], ['triceclyn', 'tricycle'], ['agoif', 'ago if'], ['psychologicist', 'psychologist'], ['hangry', 'angry'], ['constella', 'constellation'], ['kallman', 'Pullman'], ['ovidrel', 'provide'], ['preceribed', 'prescribed'], ['convivir', 'convivial'], ['ducosate', 'educated'], ['alleving', 'alleging'], ['somr', 'some'], ['hyst', 'hist'], ['metonia', 'Tonia'], ['possiable', 'possible'], ['horriable', 'horrible'], ['delysim', 'Elysium'], ['uterin', 'uteri'], ['zobified', 'modified'], ['gatoraid', 'gator aid'], ['novomit', 'no vomit'], ['spirnolactone', 'conspiratorial'], ['vicodens', 'condense'], ['lichenoid', 'lichen'], ['sudufed', 'suffered'], ['sideeffect', 'side effect'], ['movieprep', 'movie prep'], ['triness', 'trimness'], ['microgestein', 'microaggression'], ['oversexual', 'over sexual'], ['erges', 'ergs'], ['naseaus', 'nausea'], ['oxycoton', 'Oxycontin'], ['ultrastress', 'ultra stress'], ['innactive', 'inactive'], ['infecrion', 'infection'], ['adipexp', 'adipose'], ['greenburg', 'green burg'], ['supresses', 'suppresses'], ['siralling', 'spiraling'], ['euphorias', 'euphoria'], ['myometmy', 'geometry'], ['dantrium', 'triumphant'], ['bascom', 'Tabasco'], ['intune', 'intone'], ['tricylcen', 'tricycle'], ['regularating', 'regulating'], ['amitrytiline', 'rectilinear'], ['generes', 'reneges'], ['oxyneo', 'oxygen'], ['marilax', 'maxillary'], ['sennakot', 'senna'], ['schumer', 'schemer'], ['hydrolyte', 'hydrolyze'], ['corticosteriods', 'arteriosclerosis'], ['ischia', 'ischemia'], ['plyori', 'pylori'], ['welabutrin', 'labyrinthine'], ['edgyness', 'edginess'], ['treatmenti', 'treatment'], ['plunty', 'plenty'], ['antihistamins', 'antihistamines'], ['unfortantly', 'unfortunately'], ['pancrease', 'pancreas'], ['loggie', 'loggia'], ['lumbarectomy', 'lumpectomy'], ['regimin', 'regimen'], ['prosom', 'promos'], ['moisterize', 'moisturize'], ['clinda', 'Linda'], ['periformis', 'performs'], ['pulmonolgist', 'monologist'], ['occupanied', 'occupied'], ['gastaut', 'gas taut'], ['lamicten', 'laminate'], ['brinttlex', 'brittle'], ['ambfly', 'brambly'], ['israelpharm', 'Israelite'], ['triponin', 'tripping'], ['atorvasatin', 'innovator'], ['fluvoximine', 'fluorine'], ['isthmusectomy', 'cholecystectomy'], ['docoter', 'doter'], ['alocril', 'caloric'], ['norel', 'morel'], ['carbination', 'carbonation'], ['levocarb', 'revocable'], ['exfoiliating', 'exfoliating'], ['weekes', 'weeks'], ['anethestist', 'anesthetist'], ['cheecks', 'chicks'], ['meatus', 'meats'], ['flumoxomine', 'flummox'], ['solvay', 'solvable'], ['fluvoxamines', 'voluminousness'], ['fluvoxomine', 'fluorine'], ['vyvanese', 'Javanese'], ['foriminal', 'formalin'], ['dabilitating', 'debilitating'], ['phrosphoric', 'phosphoric'], ['frappicinos', 'cappuccinos'], ['carbacious', 'capacious'], ['humolog', 'homologous'], ['nerofibromatosis', 'aromatherapists'], ['ergomar', 'ergo mar'], ['asappppp', 'sappy'], ['anxidy', 'anxiety'], ['sibsided', 'subsided'], ['poed', 'pud'], ['mucuous', 'mucous'], ['diaharia', 'shariah'], ['mycophenalate', 'phenomenal'], ['finishd', 'finish'], ['mudmask', 'mud mask'], ['implonon', 'implosion'], ['saveing', 'saving'], ['unfortuently', 'unfortunately'], ['veryyyy', 'very'], ['syntroid', 'steroid'], ['sulfas', 'sulfa'], ['triclen', 'ventricle'], ['rationalle', 'rationale'], ['subsolv', 'subsoil'], ['tretinoine', 'neutrino'], ['badl', 'bald'], ['abutriol', 'cabriolet'], ['discotomy', 'dichotomy'], ['eperience', 'experience'], ['primadophilus', 'philosophical'], ['speciased', 'specialized'], ['quitenza', 'quieten'], ['acth', 'ACTH'], ['downn', 'down'], ['tamilfu', 'Tamil'], ['lexapo', 'apoplexy'], ['diazapm', 'diaphragm'], ['duculox', 'ducal'], ['euralgea', 'neuralgia'], ['hemiphlegic', 'hemispheric'], ['topiramte', 'respirator'], ['almoest', 'almost'], ['moskito', 'mosquito'], ['prrscribed', 'prescribed'], ['adinocarcinoma', 'adenocarcinoma'], ['lycymic', 'Olympic'], ['puge', 'pug'], ['cosby', 'Cosby'], ['decongests', 'decongestants'], ['vybrrid', 'hybrid'], ['rexulty', 'exult'], ['gbaby', 'gabby'], ['coctail', 'cocktail'], ['pandel', 'panel'], ['birthconrtol', 'birthstone'], ['popcicles', 'Popsicle'], ['proti', 'pros'], ['juniva', 'univalve'], ['citolapram', 'capacitor'], ['ticklings', 'tickling'], ['rameron', 'Cameron'], ['auro', 'auto'], ['folican', 'folic an'], ['suboxones', 'subroutines'], ['arrrg', 'arr'], ['preventitive', 'preventative'], ['herpicin', 'herbicide'], ['metform', 'met form'], ['idealy', 'ideal'], ['minoclyine', 'noncomplying'], ['benzole', 'benzene'], ['suicical', 'suicidal'], ['oxcontin', 'Oxycontin'], ['phazyme', 'enzyme'], ['krissy', 'prissy'], ['golyte', 'acolyte'], ['ambesol', 'lambswool'], ['monogomous', 'monogamous'], ['srris', 'saris'], ['kerasal', 'phrasal'], ['neurocream', 'neuronal'], ['asthmaticus', 'asthmatics'], ['tranzodone', 'transponder'], ['ozzing', 'oozing'], ['preperationh', 'preparation'], ['perferated', 'perforated'], ['carbsmart', 'carbs mart'], ['depresstion', 'depression'], ['agrivating', 'aggravating'], ['dysport', 'disport'], ['freds', 'feeds'], ['swolled', 'swilled'], ['omnipaque', 'omnipotence'], ['pharmicist', 'pharmacist'], ['superdrug', 'super drug'], ['tremondsly', 'tremendously'], ['pharmacudical', 'pharmaceutical'], ['thereapist', 'therapist'], ['suisidal', 'suicidal'], ['webmd', 'webbed'], ['longerthan', 'longer than'], ['centred', 'centered'], ['carbamzepine', 'caramelize'], ['carbarzepine', 'carbonize'], ['cochicine', 'cochineal'], ['medicaction', 'medication'], ['yeawning', 'yawning'], ['trorprol', 'trollop'], ['verapimil', 'vermilion'], ['atarted', 'started'], ['flexeral', 'flexed'], ['xalkori', 'armorial'], ['sinoderm', 'echinoderm'], ['disgnosis', 'diagnosis'], ['opini', 'opine'], ['vocabularity', 'vocabulary'], ['combigan', 'Colombian'], ['tricyclone', 'anticyclone'], ['prevfiem', 'premiere'], ['disolvable', 'solvable'], ['whitch', 'whits'], ['bleedig', 'bleeding'], ['relivable', 'relivable'], ['unravelled', 'unraveled'], ['irritablity', 'irritability'], ['pepsid', 'pepsin'], ['obmacare', 'Obamacare'], ['zanflex', 'flexion'], ['sclura', 'sculptural'], ['distrophy', 'dis trophy'], ['woulnt', \"wouldn't\"], ['meddication', 'medication'], ['ablw', 'bawl'], ['desion', 'lesion'], ['somwthing', 'something'], ['costochronditis', 'conditioners'], ['parathesias', 'parenthesis'], ['ejactulated', 'ejaculated'], ['oozeing', 'oozing'], ['pazeo', 'palazzo'], ['quetapine', 'Aquitaine'], ['parinoid', 'paranoid'], ['allopurinal', 'alluring'], ['extruciatingly', 'excruciatingly'], ['alotttt', 'allotted'], ['mirpex', 'mire'], ['opis', 'opus'], ['psoriasissucks', 'psoriasis sucks'], ['sulpur', 'sulfur'], ['dorsogluteal', 'dissoluteness'], ['dervia', 'dervish'], ['nuvugil', 'pugilism'], ['weiged', 'waged'], ['corlanor', 'Cortland'], ['voltaran', 'Travolta'], ['irratating', 'irritating'], ['extiror', 'exterior'], ['acnefree', 'acne free'], ['stroid', 'steroid'], ['voltern', 'vol tern'], ['ulsers', 'users'], ['ocello', 'cello'], ['visalia', 'Alisa'], ['butii', 'but ii'], ['gabapentins', 'abstentions'], ['alpraxolam', 'malpractice'], ['poppped', 'popped'], ['methyphenidate', 'methamphetamine'], ['plls', 'pills'], ['feminax', 'feminine'], ['siongle', 'single'], ['salfacetamide', 'semidetached'], ['joesoef', 'Josef'], ['ugw', 'ugh'], ['myy', 'my'], ['spondylolesthesis', 'anesthesiologists'], ['calpers', 'carpels'], ['altitudemedicine', 'altitude medicine'], ['acclimitization', 'acclimatization'], ['medreich', 'Medicare'], ['zispin', 'spin'], ['soltabs', 'sol tabs'], ['bnf', 'bf'], ['medfast', 'med fast'], ['fenway', 'fen way'], ['lycine', 'leucine'], ['argonine', 'arginine'], ['loloestrinfe', 'shoestring'], ['fishingirl', 'fishing'], ['dissinegrate', 'disintegrate'], ['caffeined', 'caffeine'], ['diphenhydramin', 'hydrodynamic'], ['deorodant', 'deodorant'], ['sulfurish', 'sulfuric'], ['cyptomel', 'optometry'], ['hashimlto', 'hashish'], ['amyril', 'Amarillo'], ['seretonergic', 'synergistic'], ['pilocytic', 'pillock'], ['mensuration', 'mensuration'], ['advocado', 'avocado'], ['wouldnof', \"wouldn't\"], ['gavr', 'gave'], ['hoursss', 'hours'], ['motrins', 'Motrin'], ['benadryls', 'adrenals'], ['ronexa', 'Roxanne'], ['siked', 'sicced'], ['nevre', 'nerve'], ['papsmears', 'pap smears'], ['trazone', 'Thorazine'], ['cfids', 'cf ids'], ['iive', 'rive'], ['phenterine', 'entertainer'], ['ejeculated', 'ejaculated'], ['forumula', 'formula'], ['prozosin', 'prognosis'], ['orrin', 'orris'], ['micogram', 'mammogram'], ['vvyanse', 'Visayans'], ['minerva', 'Minerva'], ['fibrulation', 'fibrillation'], ['contrava', 'contravene'], ['bpv', 'bps'], ['seltzerr', 'seltzer'], ['tdp', 'tsp'], ['horriffic', 'horrific'], ['marfans', 'mar fans'], ['stenousis', 'stenosis'], ['exterme', 'extreme'], ['clonapin', 'clonal'], ['poopout', 'poo pout'], ['zytiga', 'litigant'], ['depressional', 'depression'], ['savela', 'save la'], ['wateriness', 'wateriness'], ['dramo', 'dram'], ['cholasma', 'Nicholas'], ['icodins', 'icons'], ['guf', 'goof'], ['flem', 'fem'], ['inccentive', 'incentive'], ['fibrositis', 'fibrosis'], ['rituximaub', 'immaturity'], ['bloodsugars', 'blood sugars'], ['sephora', 'semaphore'], ['oxybs', 'boxy'], ['antifungul', 'anticoagulant'], ['addie', 'Addie'], ['psioritic', 'porphyritic'], ['agarophobia', 'agoraphobia'], ['fibriod', 'fibroid'], ['torticolis', 'solicitor'], ['reliabily', 'reliably'], ['quinoderm', 'echinoderm'], ['litrerally', 'literally'], ['spondys', 'responds'], ['solotik', 'soloist'], ['booom', 'boom'], ['itchyness', 'itchiness'], ['rhematoid', 'rheumatoid'], ['disconnnected', 'disconnected'], ['calium', 'calcium'], ['osteomalasia', 'homeostasis'], ['dermazinc', 'determiner'], ['sinnce', 'since'], ['dilauad', 'dilated'], ['homewood', 'home wood'], ['guelph', 'Guelph'], ['desmoid', 'Desmond'], ['metabolife', 'metabolite'], ['quietiapine', 'quietness'], ['packett', 'packet'], ['protronix', 'protrusion'], ['prevacids', 'prevails'], ['rnithine', 'thinner'], ['corvalen', 'Corvallis'], ['smach', 'mach'], ['proferrin', 'preferring'], ['levoxothyrine', 'labyrinthine'], ['lillow', 'pillow'], ['biotein', 'biotin'], ['gaterade', 'Gatorade'], ['swis', 'sis'], ['lukas', 'Lusaka'], ['headcold', 'head cold'], ['robitron', 'Arbitron'], ['etcsince', 'etc since'], ['flammation', 'inflammation'], ['broncitus', 'bronchitis'], ['trachyotomy', 'tracheotomy'], ['valtrax', 'Transvaal'], ['precummed', 'presumed'], ['bensal', 'Bengal'], ['termal', 'thermal'], ['pravistatin', 'gravitation'], ['phenelephrine', 'epinephrine'], ['modafini', 'Modigliani'], ['liguid', 'liquid'], ['zika', 'Zika'], ['escitrapram', 'recalcitrant'], ['cawling', 'cawing'], ['belumia', 'Belgium'], ['effecet', 'effect'], ['nasacourt', 'courtesan'], ['evenwork', 'even work'], ['connecticare', 'Connecticut'], ['microgestian', 'Micronesian'], ['endriconologist', 'endocrinologist'], ['immovane', 'immovable'], ['rumbley', 'rumble'], ['wellll', 'well ll'], ['irratble', 'irritable'], ['imobilizing', 'mobilizing'], ['miracously', 'miraculously'], ['medcine', 'medicine'], ['comadonal', 'Maldonado'], ['sturgis', 'liturgist'], ['neurocardiogenic', 'electrocardiogram'], ['syncopy', 'syncope'], ['flupenthixol', 'fluorescent'], ['misinterpretting', 'misinterpreting'], ['jamacian', 'Jamaican'], ['decafe', 'deface'], ['noten', 'note'], ['compfeel', 'comp feel'], ['horrendeous', 'horrendous'], ['psycologist', 'psychologist'], ['fep', 'fee'], ['hyp', 'gyp'], ['carbamzapine', 'carbine'], ['tabl', 'tab'], ['dillegence', 'diligence'], ['documary', 'documentary'], ['experiancing', 'experiencing'], ['treninoid', 'trendiness'], ['testoserone', 'testosterone'], ['belsomna', 'Abelson'], ['tga', 'tag'], ['prefest', 'pretest'], ['lmx', 'lix'], ['povera', 'popover'], ['differentry', 'differently'], ['twingeing', 'twinging'], ['reember', 'remember'], ['maannn', 'manna'], ['rcommend', 'commend'], ['topral', 'topical'], ['experiened', 'experienced'], ['soilder', 'solider'], ['btp', 'bap'], ['tacychardia', 'tachycardia'], ['disapate', 'dissipate'], ['brochunial', 'bronchial'], ['persribed', 'superscribed'], ['treinoin', 'Trevino'], ['moisurizer', 'moisturizer'], ['demertorolgist', 'dermatologist'], ['bruges', 'brutes'], ['wearly', 'weary'], ['sertealine', 'interlinear'], ['fluxeotine', 'Florentine'], ['severety', 'severity'], ['gabipenton', 'pentagon'], ['wardorbe', 'wardrobe'], ['unfortunatily', 'unfortunately'], ['prevfem', 'premiere'], ['knews', 'knees'], ['colini', 'Colin'], ['wowzers', 'howitzers'], ['omeprezole', 'flameproof'], ['retnoid', 'Renoir'], ['itraconozol', 'contraction'], ['festerd', 'festers'], ['mexiletine', 'clementine'], ['eithe', 'withe'], ['regalin', 'regain'], ['cyro', 'tyro'], ['braxton', 'Brampton'], ['atfew', 'at few'], ['bleeidn', 'bleeding'], ['vegeance', 'vengeance'], ['nortriplene', 'nonelectric'], ['sleeply', 'sleepy'], ['tribessa', 'tribesman'], ['athsma', 'asthma'], ['helpped', 'helped'], ['rollercoster', 'steamroller'], ['meditiation', 'meditation'], ['shorteness', 'shortness'], ['esis', 'sis'], ['nexplaonon', 'explanation'], ['tramedo', 'trammed'], ['steatoid', 'steroid'], ['dyphenhydramine', 'methamphetamine'], ['gaurentee', 'Laurent'], ['trintilex', 'triplex'], ['eutroxsig', 'neutron'], ['lympth', 'lymph'], ['phillipines', 'Philippines'], ['phloretin', 'Florentine'], ['smaoked', 'smoked'], ['debrox', 'Debra'], ['azthromycin', 'erythromycin'], ['isotetrinoin', 'trichinosis'], ['concommitant', 'concomitant'], ['glucosamin', 'gloaming'], ['condroitin', 'conditioning'], ['lodoz', 'lo doz'], ['escitaloprom', 'resuscitator'], ['perjeta', 'taper'], ['gabapatin', 'gabardine'], ['siolto', 'Stilton'], ['jannssen', 'Jansen'], ['cannibilizes', 'cannibalizes'], ['ibuprophens', 'ibuprofen'], ['agganizing', 'aggrandizing'], ['mirvoaso', 'miraculous'], ['lenzess', 'lessen'], ['occaisional', 'occasional'], ['untli', 'until'], ['gardema', 'gardenia'], ['pletal', 'petal'], ['diazipam', 'diagram'], ['statines', 'astatine'], ['tampoms', 'tampons'], ['definelty', 'infidelity'], ['issuies', 'issues'], ['nureologist', 'neurologist'], ['zomeg', 'Gomez'], ['jillian', 'Jillian'], ['scelrosis', 'sclerosis'], ['youi', 'you'], ['pseudovent', 'pseudo vent'], ['kauai', 'Kauai'], ['montmerency', 'encystment'], ['metaboliam', 'metabolism'], ['antibotics', 'antibiotics'], ['mensturation', 'menstruation'], ['pityriasis', 'satyriasis'], ['pilarius', 'hilarious'], ['sinse', 'sines'], ['pitvastatin', 'devastating'], ['strangly', 'strangely'], ['papsmear', 'pap smear'], ['gcse', 'geese'], ['aspercream', 'screamer'], ['diahrrhea', 'diarrhea'], ['lightpodneo', 'lightproof'], ['azythromycin', 'erythromycin'], ['groucy', 'grouchy'], ['clindamycyn', 'cylindrical'], ['necroses', 'necroses'], ['abdomonal', 'abdominal'], ['femor', 'femur'], ['hydracodon', 'hydra codon'], ['renexa', 'reexamine'], ['photoallergic', 'photo allergic'], ['glimestar', 'alimentary'], ['switchd', 'switch'], ['maalox', 'Maalox'], ['lamactial', 'climactic'], ['nubness', 'numbness'], ['prolixn', 'prolix'], ['propanonal', 'proportional'], ['hypersonmia', 'hyperglycemia'], ['stabalizer', 'stabilizer'], ['stessful', 'stressful'], ['sulpiride', 'sulfide'], ['druker', 'drunker'], ['soriatain', 'tonsorial'], ['medco', 'medico'], ['aquaphilic', 'philatelic'], ['pharmist', 'pharmacist'], ['amoxi', 'moxie'], ['stupimax', 'stupid'], ['enulose', 'enclose'], ['exederin', 'Dexedrine'], ['effectts', 'effects'], ['horendous', 'horrendous'], ['alprazalam', 'Alpheratz'], ['eltroxin', 'electron'], ['ephesians', 'Ephesians'], ['gynaecology', 'gynecology'], ['comcerta', 'concertina'], ['guaf', 'gulf'], ['velotab', 'Velveeta'], ['amytriptaline', 'trampoline'], ['loopey', 'loopy'], ['topentodol', 'petrodollar'], ['topentadol', 'pentagonal'], ['lisinopri', 'eosinophil'], ['poxet', 'poet'], ['benzoids', 'adenoids'], ['benzoid', 'benzine'], ['xeomin', 'nominee'], ['xeli', 'deli'], ['inyected', 'infected'], ['nortiotyline', 'noncrystalline'], ['tordal', 'chordal'], ['glicizide', 'Anglicize'], ['minipress', 'mini press'], ['flautuating', 'fluctuating'], ['tresibia', 'Tiresias'], ['gilynea', 'Gilead'], ['paralysed', 'paralyses'], ['unrecognisable', 'unrecognizable'], ['eviplera', 'eviller'], ['amiesen', 'Damien'], ['bexsero', 'browser'], ['dueretic', 'diuretic'], ['pulmoary', 'pulmonary'], ['ooccasions', 'occasions'], ['abuterol', 'absolute'], ['bioallers', 'installers'], ['migrainous', 'ignominious'], ['otologists', 'histologists'], ['gastroenerologists', 'Gastroenterology'], ['experiencies', 'experiences'], ['pregnante', 'pregnant'], ['valsalvo', 'val salvo'], ['gedon', 'Zedong'], ['capusule', 'capsule'], ['tremedously', 'tremendously'], ['lealeft', 'leaflet'], ['arthrotech', 'arthroscope'], ['moisturisor', 'moisturizer'], ['injectitons', 'injections'], ['instantanious', 'instantaneous'], ['bumavail', 'bum avail'], ['epidydimits', 'epidemics'], ['naevus', 'nevus'], ['methenamine', 'methamphetamine'], ['dischagres', 'discharges'], ['copegus', 'Copernicus'], ['repletetive', 'repetitive'], ['wellbuetrin', 'wellspring'], ['carefullly', 'carefully'], ['redbulls', 'red bulls'], ['temperatutre', 'temperature'], ['teamzarah', 'terahertz'], ['aggrevate', 'aggravate'], ['bjt', 'bet'], ['modofinal', 'abdominal'], ['eexperienced', 'experienced'], ['yaay', 'Ayala'], ['implenon', 'implement'], ['detoxan', 'detox an'], ['sensilab', 'sensible'], ['sirgery', 'surgery'], ['tske', 'take'], ['decresed', 'decreed'], ['worrys', 'worry'], ['endocirnologist', 'endocrinologist'], ['nortriptiline', 'nonprescription'], ['burtran', 'Bertrand'], ['nightz', 'night'], ['adderell', 'adder ell'], ['hczt', 'THC'], ['likse', 'likes'], ['bodyaches', 'body aches'], ['brkout', 'breakout'], ['loratizine', 'Lorraine'], ['neurologest', 'neurologist'], ['zpots', 'pots'], ['tachycardic', 'tachycardia'], ['terrifed', 'terrified'], ['nexaplonon', 'nonexplosive'], ['selfconscoius', 'semiconscious'], ['roacutan', 'orangutan'], ['chatael', 'chattel'], ['schd', 'stud'], ['refil', 'refile'], ['dialling', 'dialing'], ['angeoedema', 'demanding'], ['fishie', 'fishier'], ['armitiza', 'Mizar'], ['citrates', 'nitrates'], ['aner', 'saner'], ['diaformin', 'misinform'], ['pericoronitis', 'peritonitis'], ['fludara', 'Aludra'], ['halflytely', 'halfheartedly'], ['zyneret', 'spinneret'], ['cyprohepatine', 'nonreciprocating'], ['fiorinals', 'originals'], ['fevarin', 'Ferrari'], ['midora', 'humidor'], ['anxiar', 'Marxian'], ['dystimia', 'dystonia'], ['anorexigen', 'anorexia'], ['pgrm', 'perm'], ['uncomfortaable', 'uncomfortable'], ['lapraocopic', 'laparoscopic'], ['prosacea', 'prosaic'], ['hysterotomy', 'hysterectomy'], ['irrated', 'irradiated'], ['negativs', 'negatives'], ['poopin', 'pooping'], ['turbino', 'turbine'], ['turbinoplasty', 'rhinoplasty'], ['ishpm', 'Ishim'], ['rhinocort', 'rhinoceros'], ['thryoiditis', 'hypothyroidism'], ['plataeu', 'plateau'], ['comdoms', 'condoms'], ['sotal', 'total'], ['bdsi', 'bids'], ['amarin', 'marina'], ['quitip', 'quit'], ['wantings', 'wanting'], ['iribility', 'irritability'], ['faye', 'Faye'], ['ailes', 'ailed'], ['pttd', 'dpt'], ['painles', 'painless'], ['fluconzole', 'confluence'], ['sleepnesses', 'sleeplessness'], ['thislovely', 'this lovely'], ['durango', 'Duran'], ['dorxy', 'dory'], ['gastrointestional', 'gastrointestinal'], ['ankelosing', 'snorkeling'], ['spondolosis', 'dispositions'], ['asthmanerfrin', 'asthmatically'], ['daivonex', 'exudation'], ['excessivley', 'excessively'], ['traredy', 'tragedy'], ['spanuals', 'manuals'], ['dolgic', 'geologic'], ['bedbownd', 'windblown'], ['dulcalax', 'calculated'], ['epedural', 'epidural'], ['yuor', 'your'], ['biscodyl', 'Biscay'], ['anywaaays', 'anyways'], ['vagatone', 'vagabondage'], ['procanimide', 'improvidence'], ['norpace', 'nor pace'], ['zonegren', 'Montenegro'], ['traci', 'Traci'], ['purath', 'Purana'], ['gratetfully', 'gratefully'], ['minimul', 'minimal'], ['boyfie', 'boy fie'], ['previsouly', 'previously'], ['hihg', 'high'], ['lutuda', 'Luanda'], ['bicept', 'bicep'], ['rapetha', 'parapet'], ['molipaxin', 'Molina'], ['microtrol', 'microlight'], ['scabing', 'scabbing'], ['anxiet', 'anxiety'], ['rabavert', 'vertebra'], ['oxyfresh', 'refresh'], ['aloevera', 'allover'], ['flouxitine', 'Florentine'], ['moisturisturiser', 'moisturizer'], ['burnss', 'burns'], ['kolonpin', 'Kowloon'], ['excesive', 'excessive'], ['sarcordosis', 'narcosis'], ['starated', 'started'], ['eneed', 'need'], ['tgrowing', 'throwing'], ['\\u200b\\u200bbetween', 'between'], ['psycoctic', 'psychotic'], ['polysporin', 'polystyrene'], ['experincing', 'experiencing'], ['mitrovalve', 'semitropical'], ['dermatlogist', 'dermatologist'], ['parotiditis', 'parotid'], ['unpleasanties', 'unpleasantness'], ['painas', 'pains'], ['avitan', 'avian'], ['prochloperazine', 'procrastinate'], ['nacl', 'nail'], ['restlestless', 'restlessness'], ['implusiveness', 'impulsiveness'], ['cipero', 'Cipro'], ['mentrual', 'menstrual'], ['dostinex', 'destine'], ['sacroilliac', 'sacroiliac'], ['cetephail', 'cephalic'], ['stressin', 'stressing'], ['gabapantin', 'brigantine'], ['fastmax', 'fast max'], ['hydrodistention', 'hydro distention'], ['psychoaffective', 'psychoactive'], ['errections', 'erections'], ['trmdd', 'trodden'], ['feverall', 'fever all'], ['bolloxed', 'bollixed'], ['irrability', 'irritability'], ['hooooray', 'hooray'], ['implabon', 'implantation'], ['techinal', 'technical'], ['qsyemia', 'ischemia'], ['macroboid', 'macrobiotic'], ['sewlling', 'swelling'], ['cephalexen', 'cephalic'], ['colestid', 'comestible'], ['balanitis', 'balloonists'], ['cyetec', 'detect'], ['ligther', 'lighter'], ['titrates', 'nitrates'], ['gatarade', 'Gatorade'], ['hormornal', 'hormonal'], ['kelso', 'Kelsey'], ['emetophobics', 'homophobic'], ['accompiened', 'accompanied'], ['intercorse', 'intercourse'], ['levrothyroxine', 'brotherliness'], ['liothronine', 'brotherliness'], ['levro', 'lever'], ['tivacay', 'vivacity'], ['devoscy', 'devolve'], ['reyataz', 'regatta'], ['procal', 'pro cal'], ['recomm', 're comm'], ['occasiom', 'occasion'], ['styroids', 'steroids'], ['headahes', 'headaches'], ['reactieon', 'reaction'], ['oxcycodone', 'Oxycontin'], ['diasease', 'disease'], ['ramipr', 'pram'], ['vertebralplasty', 'vertebral'], ['mobitz', 'mobility'], ['ecperience', 'experience'], ['serta', 'sorta'], ['methylphenadate', 'methamphetamine'], ['phamacutical', 'pharmaceutical'], ['iusse', 'issue'], ['notning', 'noting'], ['fluticanase', 'astronautical'], ['aldosteronism', 'postmodernism'], ['rheumatoligist', 'hematologist'], ['gsk', 'gs'], ['clogginess', 'sogginess'], ['serere', 'serer'], ['maloxican', 'analogical'], ['tramodal', 'tripodal'], ['allourinol', 'alluring'], ['agrave', 'agave'], ['heasdaches', 'headaches'], ['administing', 'administrating'], ['ohp', 'hop'], ['sympto', 'symptom'], ['occaisons', 'occasions'], ['klonipen', 'Klondike'], ['nitrofuranctoin', 'trinitrotoluene'], ['arithamyicin', 'arithmetician'], ['supercough', 'super cough'], ['mirvoso', 'Microsoft'], ['rosasea', 'roseate'], ['doagnosed', 'diagnosed'], ['offbrand', 'off brand'], ['metphomin', 'homecoming'], ['dothiepin', 'clothespin'], ['persil', 'peril'], ['tumers', 'timers'], ['votrent', 'Trent'], ['tumer', 'muter'], ['pregabulin', 'prefabbing'], ['nervousabout', 'nervous about'], ['endometroid', 'endometrium'], ['dopped', 'sopped'], ['dueda', 'duenna'], ['oxicontin', 'Oxycontin'], ['fallasleep', 'fall asleep'], ['dermacontrol', 'decontrolled'], ['acetazolimide', 'acetaminophen'], ['viractin', 'interactive'], ['narcodic', 'narcotic'], ['cialias', 'asocial'], ['lightr', 'light'], ['pancraes', 'pancreas'], ['isr', 'sir'], ['edrophonium', 'hydrophone'], ['lostrin', 'nostril'], ['overwhelmness', 'overwhelms'], ['tiacanazole', 'canalization'], ['naturethroud', 'denaturation'], ['anastimosis', 'monasticism'], ['anibiotics', 'antibiotics'], ['lancome', 'melanoma'], ['faintlydark', 'faintly dark'], ['moisterise', 'moistener'], ['vitussin', 'Robitussin'], ['guifenicin', 'stiffening'], ['andipole', 'an dipole'], ['themanyway', 'them anyway'], ['diaheria', 'diphtheria'], ['narxelone', 'Barcelona'], ['evohaler', 'whaler'], ['mcas', 'macs'], ['bradycardic', 'bradycardia'], ['tinnitis', 'tinnitus'], ['spasmex', 'spasm ex'], ['novask', 'novas'], ['braxtion', 'vibration'], ['knaws', 'knows'], ['ovarie', 'ovaries'], ['psoroasis', 'psoriasis'], ['colezol', 'Cole'], ['sweatblock', 'sweat block'], ['spricel', 'splicer'], ['degenetative', 'degenerative'], ['aust', 'Faust'], ['serverly', 'servery'], ['topicort', 'topic'], ['omeperzole', 'zookeeper'], ['muchin', 'mu chin'], ['jont', 'jot'], ['exr', 'ext'], ['ibuproprion', 'ibuprofen'], ['weewee', 'peewee'], ['ibupfrofen', 'ibuprofen'], ['tottally', 'totally'], ['humilog', 'humility'], ['iowering', 'towering'], ['cinnarizine', 'cinnabar'], ['medici', 'Medici'], ['immunosuppressents', 'suppressants'], ['emulgel', 'emulate'], ['glipazide', 'glazier'], ['valacyclaovir', 'acyclovir'], ['tinosinovitis', 'avitaminosis'], ['imensely', 'immensely'], ['prriods', 'periods'], ['lilley', 'Lille'], ['rocepehin', 'rhinoceros'], ['stayxn', 'stay'], ['drunkem', 'drunken'], ['norspan', 'nor span'], ['brintellex', 'intelligible'], ['carrs', 'cares'], ['lucette', 'lettuce'], ['headfog', 'head fog'], ['metformen', 'motormen'], ['giveing', 'giving'], ['crampand', 'cramp and'], ['notta', 'gotta'], ['adversed', 'adverse'], ['codemol', 'commode'], ['wiese', 'wise'], ['givien', 'given'], ['thag', 'ghat'], ['liquidize', 'liquidize'], ['advii', 'ad vii'], ['fuzzyness', 'fuzziness'], ['purbac', 'pullback'], ['johansen', 'Johannes'], ['gump', 'hump'], ['migralieve', 'migraine'], ['immigran', 'immigrant'], ['disrespondant', 'respondent'], ['gildessfe', 'wilderness'], ['blisovife', 'lifeblood'], ['glidessfe', 'glibness'], ['senstation', 'sensation'], ['piyo', 'pi yo'], ['periochromocytoma', 'monochromatic'], ['vaped', 'paved'], ['maxipad', 'maxi pad'], ['azith', 'azimuth'], ['betaferone', 'interferon'], ['compination', 'compilation'], ['femaie', 'female'], ['ozurdex', 'gourde'], ['mallinckrodt', 'Maeterlinck'], ['consentrate', 'concentrate'], ['lowet', 'towel'], ['amirix', 'Miriam'], ['shoukd', 'should'], ['admistered', 'administered'], ['administerd', 'administers'], ['deriflin', 'rifling'], ['nber', 'Bern'], ['councilling', 'council ling'], ['clyndimycin', 'syndicalism'], ['tootie', 'tootsie'], ['rexall', 'recall'], ['racingthoughts', 'racing thoughts'], ['liptor', 'lip tor'], ['candidia', 'candida'], ['desponded', 'responded'], ['tenoretic', 'reticence'], ['mirilax', 'smilax'], ['hypostatic', 'hypo static'], ['amdrank', 'am drank'], ['mandelamine', 'Mandela'], ['progject', 'project'], ['acetazamide', 'acetaminophen'], ['imatrix', 'matrix'], ['waitgh', 'waiting'], ['pharmasist', 'pharmacist'], ['forusemide', 'formidable'], ['hydroxycloroquine', 'hydroelectrically'], ['restorilfor', 'reforest'], ['churt', 'curt'], ['liorsal', 'dorsal'], ['midsternal', 'Mideastern'], ['plyera', 'player'], ['esophagaus', 'esophagus'], ['differenty', 'different'], ['mistoprostol', 'misanthropist'], ['maayybe', 'maybe'], ['bnr', 'bar'], ['progesterones', 'progesterone'], ['oralstat', 'oral stat'], ['eleavil', 'heavily'], ['kaldopins', 'kaleidoscopic'], ['oxylite', 'zeolite'], ['myginger', 'my ginger'], ['fibrmyalgia', 'fibrillate'], ['temazipan', 'emancipate'], ['impingment', 'impingement'], ['foramina', 'formalin'], ['edurant', 'Durante'], ['uou', 'you'], ['isotorin', 'risotto'], ['nambutome', 'tournament'], ['plms', 'palms'], ['marcrobid', 'macrobiotic'], ['fortigel', 'fortifier'], ['medine', 'me dine'], ['bronchials', 'bronchial'], ['spasing', 'spading'], ['easilt', 'easily'], ['besafe', 'be safe'], ['saboxone', 'sawbones'], ['neverous', 'overgenerous'], ['cyctitis', 'cystitis'], ['meagace', 'Meagan'], ['deffinitly', 'definitely'], ['inregular', 'irregular'], ['dowith', 'do with'], ['lidocain', 'Novocain'], ['scurge', 'surge'], ['gluburide', 'fluoride'], ['hemmoroids', 'hemorrhoids'], ['thrombsis', 'thrombosis'], ['roxane', 'Roxanne'], ['progesterin', 'progesterone'], ['adiction', 'diction'], ['nathroid', 'anthropoid'], ['spinoloctane', 'spontaneity'], ['oxalliplatin', 'installation'], ['tambacor', 'catacomb'], ['fsgs', 'fags'], ['kireva', 'Reva'], ['karvea', 'carve'], ['motiron', 'motion'], ['simplist', 'simplest'], ['fantasising', 'fantasizing'], ['hoshimoto', 'Hiroshima'], ['klonipan', 'Apollonian'], ['ablitly', 'ability'], ['pcl', 'cpl'], ['diprolene', 'polypropylene'], ['radiotheraphy', 'radiotherapy'], ['atenlol', 'Donatello'], ['depacot', 'departed'], ['expierencing', 'experiencing'], ['lasercomb', 'laser comb'], ['actebular', 'nebular'], ['buprorion', 'ibuprofen'], ['popeye', 'Popeye'], ['ddoctor', 'doctor'], ['iophen', 'phenol'], ['convulsants', 'convulsion'], ['carbazapine', 'carbine'], ['antidepresants', 'antidepressants'], ['spondylolithesis', 'anesthesiologist'], ['cushings', 'bushings'], ['reusuable', 'reusable'], ['mayofascial', 'officialism'], ['rituxin', 'Turin'], ['zomitriptan', 'Zoroastrian'], ['proporanolol', 'proportional'], ['swithching', 'switching'], ['anadin', 'Canadian'], ['exhaustin', 'exhaustion'], ['prescrided', 'prescribed'], ['sumatripton', 'summation'], ['barable', 'arable'], ['mysaxendacard', 'endocarditis'], ['fibromaylgia', 'fibrillation'], ['hypothyrodism', 'hypothyroidism'], ['derralin', 'Alderamin'], ['inderral', 'Alderamin'], ['apppetite', 'appetite'], ['sweeeeeet', 'sweetness'], ['earthsgold', 'earths gold'], ['desensitivity', 'sensitivity'], ['apeptite', 'appetite'], ['dissecation', 'dissection'], ['arterys', 'artery'], ['metastized', 'metastasized'], ['stimulanty', 'stimulant'], ['fussying', 'gussying'], ['ascociated', 'associated'], ['qol', 'sol'], ['torodol', 'Rodolfo'], ['intruction', 'instruction'], ['sudocream', 'screamer'], ['rocaltrol', 'robocall'], ['poisin', 'poison'], ['gileyna', 'Gilead'], ['dmds', 'dds'], ['incompasitated', 'incapacitated'], ['unsteadyness', 'unsteadiness'], ['wonderring', 'wondering'], ['gatorate', 'gator ate'], ['flagal', 'flag'], ['thougts', 'thoughts'], ['monosessa', 'moroseness'], ['debiliating', 'debilitating'], ['gws', 'gs'], ['nitrofunatol', 'trinitrotoluene'], ['belleruth', 'bellwether'], ['naperstacks', 'paperbacks'], ['kabat', 'karat'], ['zinn', 'inn'], ['tchy', 'thy'], ['thermacare', 'healthcare'], ['losarten', 'smarten'], ['valsarten', 'smarten'], ['secobarbitol', 'phenobarbital'], ['pth', 'pt'], ['natpara', 'Parana'], ['finnished', 'finished'], ['merlex', 'Merle'], ['tinizadole', 'idolization'], ['irirritation', 'irritation'], ['lotttt', 'Lott'], ['eaither', 'either'], ['estro', 'estrous'], ['constiparion', 'constipation'], ['sssri', 'USSR'], ['electrolysist', 'electrolysis'], ['otcs', 'orcs'], ['gabaar', 'gabardine'], ['cresent', 'resent'], ['akinithesia', 'anesthesia'], ['pedialite', 'pediatric'], ['usaully', 'usually'], ['kamneo', 'Kane'], ['aleopecia', 'especial'], ['amtriptyline', 'pantyliner'], ['lasty', 'salty'], ['anhedonic', 'hedonistic'], ['mesured', 'resumed'], ['pregnate', 'impregnate'], ['descontinued', 'discontinued'], ['medicarion', 'medication'], ['dimensia', 'dimension'], ['oncovin', 'convince'], ['cvp', 'cap'], ['powerport', 'power port'], ['oooops', 'oops'], ['hpb', 'hob'], ['tadafil', 'taffrail'], ['fioricets', 'orifices'], ['flagyll', 'flagella'], ['ansy', 'nays'], ['exfexar', 'exemplar'], ['welbutrain', 'rattlebrain'], ['houurs', 'hours'], ['robaxasil', 'Brasilia'], ['slurr', 'slur'], ['improvemment', 'improvement'], ['uhtoff', 'uh toff'], ['penomenon', 'phenomenon'], ['dramanine', 'drama nine'], ['naturalpathic', 'naturalistic'], ['chamamille', 'chamomile'], ['adrafinil', 'Adrenalin'], ['aleveir', 'reveille'], ['uncontroably', 'uncontrollably'], ['dailresp', 'dailiness'], ['excersizing', 'supersizing'], ['wondefully', 'wonderfully'], ['shakyness', 'shakiness'], ['biotine', 'biotin'], ['gasteroenterologist', 'Gastroenterology'], ['picu', 'pic'], ['exercizing', 'exercising'], ['anxi', 'anti'], ['advir', 'adviser'], ['swallen', 'swollen'], ['obsesive', 'obsessive'], ['agrophobia', 'acrophobia'], ['zirgan', 'organza'], ['viroptic', 'Coptic'], ['sceptic', 'septic'], ['permemant', 'permanent'], ['prinze', 'prize'], ['pulmanary', 'pulmonary'], ['hashi', 'hash'], ['dihydocodeine', 'codeine'], ['mjy', 'my'], ['fampyra', 'pyramid'], ['zurampic', 'Paralympic'], ['upsetted', 'upset ted'], ['sris', 'sirs'], ['unparanoid', 'paranoid'], ['atrodystrphy', 'astrophysics'], ['silodyx', 'silo'], ['unmessy', 'messy'], ['pych', 'psych'], ['desoxsyn', 'desolation'], ['clonazpam', 'monoclonal'], ['bactria', 'Bactria'], ['lazering', 'layering'], ['cefdiner', 'definer'], ['kefexin', 'flexing'], ['neuroforaminal', 'neurosurgical'], ['diahareea', 'diarrhea'], ['fempop', 'fem pop'], ['tazarotine', 'Earnestine'], ['starteding', 'starting'], ['urinne', 'urine'], ['hyperchondriac', 'hypochondriac'], ['hallucingenics', 'hallucinogenics'], ['zeprexa', 'zephyr'], ['epthatic', 'hepatic'], ['diflonec', 'deflection'], ['kenologe', 'keno loge'], ['betaloc', 'societal'], ['metcaptopurine', 'metaphorical'], ['encephalpathy', 'encephalitic'], ['wetbrain', 'wet brain'], ['papsmere', 'paps mere'], ['disappeares', 'disappeared'], ['mitazapine', 'Capitoline'], ['lefunomide', 'nonrefundable'], ['stres', 'stress'], ['suppositoties', 'suppositories'], ['inbcase', 'casein'], ['ekos', 'echos'], ['preopik', 'preordain'], ['genitial', 'genital'], ['benzodiapams', 'diapasons'], ['tryptophane', 'tryptophan'], ['chlamdiya', 'chlamydia'], ['effectsand', 'effect sand'], ['bloodtests', 'blood tests'], ['cytic', 'cystic'], ['zico', 'Rico'], ['horribily', 'horribly'], ['missesry', 'misery'], ['volteran', 'voltmeter'], ['genric', 'generic'], ['lorazepan', 'Loraine'], ['azasan', 'Anasazi'], ['shakie', 'shake'], ['ihis', 'his'], ['cortate', 'corporate'], ['migrainain', 'migraine'], ['goining', 'gaining'], ['nautropathic', 'astronautic'], ['pexep', 'peep'], ['quitapine', 'Aquitaine'], ['iike', 'like'], ['sexanda', 'sedan'], ['threeish', 'thresh'], ['megase', 'mega'], ['hyperplasias', 'hyperbolas'], ['wakeing', 'waking'], ['bearbable', 'bearable'], ['asissted', 'assisted'], ['belviqxr', 'believer'], ['amphetemines', 'amphetamines'], ['symptomes', 'symptoms'], ['lasartin', 'lasting'], ['maintnance', 'maintenance'], ['lyxumia', 'amiably'], ['pamplet', 'pamphlet'], ['poblrms', 'problems'], ['homeas', 'homes'], ['inmprove', 'improve'], ['shedavi', 'Heaviside'], ['celex', 'telex'], ['coloniscopy', 'colonoscopy'], ['hesdache', 'headache'], ['orthovist', 'orthopedist'], ['prostititis', 'prostitutes'], ['expercied', 'experienced'], ['costantly', 'constantly'], ['turpike', 'turnpike'], ['sprinte', 'sprint'], ['suncros', 'uncross'], ['nucyenta', 'nucleate'], ['terocin', 'inciter'], ['releapsed', 'released'], ['sustenex', 'sustenance'], ['dibai', 'Dubai'], ['harvonie', 'harmonies'], ['atf', 'aft'], ['azi', 'Nazi'], ['parecetemol', 'paracetamol'], ['litium', 'lithium'], ['imbalancement', 'imbalance'], ['metelllic', 'metallic'], ['dilitiazem', 'militiamen'], ['chertussin', 'cheeriness'], ['hysterscope', 'stereoscope'], ['swollened', 'swollen ed'], ['socanxiety', 'soc anxiety'], ['opc', 'op'], ['ropinerol', 'atropine'], ['unbreabe', 'unbreakable'], ['ibefore', 'before'], ['jentadueto', 'judgmental'], ['anabiotic', 'antibiotic'], ['thuja', 'Thu'], ['mallenkrodt', 'malevolent'], ['weitght', 'weight'], ['sprionolactone', 'practitioner'], ['shortnees', 'shortness'], ['godddddd', 'Goddard'], ['recmmended', 'recommended'], ['pantaprazole', 'Pantagruel'], ['symproms', 'symptoms'], ['coupld', 'could'], ['oroxine', 'Roxanne'], ['gemeralized', 'generalized'], ['doxcyline', 'cylinder'], ['plaqunil', 'plaque'], ['benzclyn', 'benzyl'], ['takefoodw', 'takeoff'], ['vasotec', 'vasomotor'], ['zorfan', 'Zorn'], ['serquel', 'sequel'], ['ketotifen', 'pocketknife'], ['depekote', 'deportee'], ['xlax', 'lax'], ['nuckles', 'buckles'], ['woulf', 'would'], ['brochitis', 'bronchitis'], ['mobth', 'month'], ['vibrid', 'vibrated'], ['clycle', 'cycle'], ['darvacet', 'racetrack'], ['neurostimulant', 'stimulant'], ['dizzness', 'dizziness'], ['azopt', 'adopt'], ['faslodex', 'Rolodex'], ['petscan', 'pet scan'], ['thinthroid', 'anthropoid'], ['traumatised', 'traumatized'], ['goneband', 'gone band'], ['magaly', 'Malagasy'], ['appetitie', 'appetite'], ['prementrual', 'premenstrual'], ['topsmax', 'tops max'], ['neurton', 'neutron'], ['deffieciency', 'deficiency'], ['mofetil', 'motile'], ['lansoprasol', 'parasol'], ['omepresol', 'compressor'], ['vancenase', 'evanescence'], ['lisdexamphetamine', 'methamphetamine'], ['unstableness', 'suitableness'], ['millipred', 'millipede'], ['isotrention', 'retention'], ['androjel', 'Alejandro'], ['laporoscopic', 'laparoscopic'], ['drunkish', 'drunkard'], ['sweetart', 'sweet art'], ['azathiaporine', 'vaporization'], ['pharmocology', 'pharmacology'], ['calcu', 'cal cu'], ['testicals', 'testicles'], ['surpressing', 'suppressing'], ['alfie', 'Allie'], ['luxembourg', 'Luxembourg'], ['olori', 'Lori'], ['combonation', 'combination'], ['melantonin', 'melanin'], ['kremers', 'Emerson'], ['plueral', 'plural'], ['zopaclone', 'anticyclone'], ['iiwent', 'ii went'], ['versid', 'versed'], ['excperiencing', 'experiencing'], ['surgeryso', 'surgery so'], ['foliculitis', 'diverticulitis'], ['deoression', 'depression'], ['substituing', 'substituting'], ['applejuice', 'apple juice'], ['projectiled', 'projectiles'], ['whohoo', 'whoosh'], ['senakot', 'senator'], ['allapurinol', 'alluring'], ['constabt', 'constant'], ['dovenex', 'novene'], ['acretin', 'cretin'], ['fumaderm', 'madder'], ['gelastic', 'elastic'], ['folfox', 'fol fox'], ['ginea', 'guinea'], ['reeses', 'rises'], ['topiram', 'topi ram'], ['platue', 'plate'], ['naltraxone', 'alteration'], ['metblc', 'metallic'], ['metbl', 'metal'], ['specl', 'speck'], ['appeite', 'appetite'], ['kness', 'knees'], ['altheimezer', 'Alzheimer'], ['salycilic', 'saucily'], ['rifax', 'Halifax'], ['accidends', 'accidents'], ['oposed', 'posed'], ['amien', 'amen'], ['lewy', 'lewd'], ['thatwhen', 'that when'], ['cbz', 'Cb'], ['deminished', 'diminished'], ['cleaed', 'cleaned'], ['yess', 'yetis'], ['hamangioma', 'Bahamanian'], ['iheard', 'heard'], ['probotic', 'robotic'], ['neurotransmiters', 'neurotransmitters'], ['lipoplex', 'apoplexy'], ['nojoke', 'no joke'], ['vistasil', 'stasis'], ['avenox', 'avenue'], ['lisonpril', 'liaison'], ['mamo', 'ammo'], ['undereater', 'underwater'], ['abominal', 'abdominal'], ['turboinhaler', 'turbo inhaler'], ['uggghh', 'hugging'], ['endometreosis', 'endometriosis'], ['injuections', 'injections'], ['cldnt', 'Clint'], ['thnc', 'thence'], ['pyrilin', 'pyrimidine'], ['kmg', 'km'], ['feldine', 'feline'], ['frok', 'fork'], ['everythinn', 'everything'], ['flavinoid', 'riboflavin'], ['tenninitis', 'tendinitis'], ['efficiant', 'efficient'], ['taylenol', 'Tylenol'], ['rebiff', 'rebuff'], ['sifferers', 'sufferers'], ['gassey', 'gassy'], ['hemoriage', 'hemorrhage'], ['rxlist', 'relist'], ['panyliner', 'pantyliner'], ['toosh', 'tush'], ['ropinirolle', 'rollerblading'], ['tylenols', 'Tylenol'], ['rny', 'ray'], ['dubed', 'daubed'], ['uroxitrol', 'urologist'], ['aeveryone', 'everyone'], ['verapimilo', 'vermilion'], ['apologising', 'apologizing'], ['misrable', 'miserable'], ['lbk', 'lb'], ['codomol', 'commodore'], ['ibrufren', 'ibuprofen'], ['comodal', 'co modal'], ['ibrufen', 'ibuprofen'], ['turbinafin', 'turbine'], ['nappys', 'nappy'], ['ulser', 'user'], ['bronchiectatsis', 'bronchitis'], ['roactemra', 'retroactive'], ['maxolon', 'Marlon'], ['restablishing', 'establishing'], ['testosterene', 'testosterone'], ['agresiveness', 'aggressiveness'], ['libo', 'lino'], ['amitryptyline', 'pantyliner'], ['behives', 'beehives'], ['allorpurinol', 'alluring'], ['decomp', 'decamp'], ['pugh', 'Pugh'], ['fenphen', 'Stephen'], ['vsl', 'val'], ['hypochlorhydria', 'hypochondriac'], ['mensual', 'sensual'], ['diiference', 'difference'], ['acared', 'scared'], ['ifelt', 'felt'], ['wahls', 'wails'], ['benedryll', 'benedictory'], ['awuful', 'awful'], ['lantrogine', 'eglantine'], ['titraiting', 'transmitting'], ['exisitent', 'existent'], ['drozzy', 'droopy'], ['calistenics', 'calisthenics'], ['retaine', 'retain'], ['metamusil', 'Metamucil'], ['htz', 'ht'], ['pravalite', 'preliterate'], ['consipate', 'constipate'], ['axe', 'ace'], ['rhappy', 'happy'], ['elivil', 'civilize'], ['cathater', 'catheter'], ['catherize', 'catheterize'], ['paraylayzed', 'paralyzed'], ['capsisin', 'capsicum'], ['cpep', 'pep'], ['difrence', 'difference'], ['spasmodics', 'spasmodic'], ['deficent', 'deficient'], ['vinate', 'innate'], ['dizzyish', 'dizzy'], ['viktoza', 'Victoria'], ['rocd', 'cord'], ['sulcrafate', 'sulfate'], ['lovox', 'lox'], ['mefication', 'medication'], ['maxsalt', 'max salt'], ['kluff', 'luff'], ['subtex', 'subtext'], ['lumbo', 'limbo'], ['plif', 'flip'], ['lightheadiness', 'light headiness'], ['spiractin', 'inspiration'], ['thaythat', 'Hathaway'], ['levothyroid', 'hypothyroid'], ['carboplaten', 'carbonate'], ['alimpta', 'aliment'], ['groath', 'groat'], ['puppp', 'puppy'], ['maralthia', 'Marathi'], ['parastetic', 'parasitic'], ['embel', 'ember'], ['estroidot', 'steroid'], ['efracea', 'refract'], ['gyarel', 'Magyar'], ['depresed', 'depressed'], ['sterilisation', 'sterilization'], ['funct', 'fun ct'], ['vthe', 'the'], ['intiatiable', 'insatiable'], ['dueloxetine', 'delineation'], ['racepinephrine', 'epinephrine'], ['tranquilization', 'tranquilizer'], ['bufferin', 'buffering'], ['aihi', 'Aisha'], ['bottemed', 'bottomed'], ['osteoarthitis', 'osteoarthritis'], ['oxymetazolene', 'oxyacetylene'], ['goddddddd', 'Goddard'], ['sleepingall', 'sleeping all'], ['sagrada', 'Granada'], ['urinealysis', 'urinalysis'], ['cryings', 'crying'], ['mngmt', 'GMT'], ['owwww', 'bowwow'], ['definitsly', 'definitely'], ['tyres', 'treys'], ['sluggesh', 'sluggish'], ['pychiatrist', 'psychiatrist'], ['immunosuppresant', 'suppressant'], ['rispiridone', 'crispiness'], ['sitagliption', 'signalization'], ['butmnot', 'burnout'], ['candesartin', 'incandescent'], ['topamac', 'Potomac'], ['ciblex', 'crucible'], ['sonohistograms', 'histograms'], ['butchard', 'but chard'], ['denosobaum', 'denouement'], ['quanafenisin', 'antiquarianism'], ['deplayed', 'delayed'], ['alprozolam', 'flameproof'], ['neuorpathic', 'homeopathic'], ['deinitely', 'definitely'], ['theophyline', 'Theosophy'], ['auribindo', 'Alcindor'], ['drymouth', 'dry mouth'], ['nicodermcq', 'Nicodemus'], ['metronidazol', 'metropolitan'], ['cymbolta', 'cymbalist'], ['surgeryies', 'surgeries'], ['plaseabo', 'placebo'], ['mennoragia', 'menorahs'], ['vaprisol', 'Valparaiso'], ['diurese', 'diereses'], ['tiimes', 'chimes'], ['clonics', 'clinics'], ['concommittant', 'concomitant'], ['sinice', 'since'], ['seriqul', 'serious'], ['zidoval', 'Sandoval'], ['badescu', 'baddest'], ['bhcg', 'Bach'], ['exprerienced', 'experienced'], ['adacin', 'Anacin'], ['phospo', 'phosphor'], ['daenarys', 'sedentary'], ['targaryean', 'gargantuan'], ['miconazale', 'economical'], ['loretadine', 'Florentine'], ['і', 'e'], ['clomipiramine', 'mineralogical'], ['skinlite', 'skin lite'], ['characterised', 'characterized'], ['trentanoin', 'anointment'], ['buttcrack', 'butt crack'], ['amalopidine', 'Ahmadinejad'], ['hydrochlorothizide', 'hydroelectricity'], ['nobigdeal', 'nonaligned'], ['vpac', 'vac'], ['kneee', 'knee'], ['drivemis', 'drives'], ['meedless', 'needless'], ['codamols', 'modals'], ['trazodones', 'patronesses'], ['katrena', 'Katrina'], ['depocote', 'deportee'], ['eepilepsy', 'epilepsy'], ['kloipin', 'Filipino'], ['seizureing', 'seizure'], ['floragen', 'flora gen'], ['gynacology', 'gynecology'], ['cordran', 'cord ran'], ['mornnig', 'morning'], ['amphrya', 'amphora'], ['malfomation', 'malformation'], ['porton', 'proton'], ['kaitlib', 'Kaitlin'], ['mimvey', 'Mickey'], ['ridicuouls', 'ridiculous'], ['citromag', 'citronella'], ['mrv', 'MIRV'], ['iucd', 'IUD'], ['shortnss', 'shortness'], ['rodin', 'Rodin'], ['quistting', 'quitting'], ['varubi', 'Aruba'], ['opthalomagist', 'ophthalmologist'], ['lactolose', 'lactose'], ['imbruvica', 'imbrication'], ['lymphs', 'lymph'], ['btk', 'bk'], ['traimcinolone', 'terminological'], ['sidegra', 'graveside'], ['excect', 'except'], ['driscoll', 'scoliosis'], ['marj', 'marge'], ['clumbsy', 'clumsy'], ['minoxodil', 'minoxidil'], ['muscarinics', 'muscularity'], ['mirabegron', 'Mirabeau'], ['badddddd', 'badder'], ['steong', 'strong'], ['lort', 'lot'], ['colonaden', 'colonnade'], ['calonaden', 'cannonade'], ['haemoglobin', 'hemoglobin'], ['vargus', 'vagus'], ['dumby', 'dumb'], ['teteven', 'Steven'], ['postpregnancy', 'post pregnancy'], ['upage', 'page'], ['sime', 'chime'], ['maintana', 'maintain'], ['hemorhoids', 'hemorrhoids'], ['amiodorone', 'amelioration'], ['apprearance', 'appearance'], ['exemesane', 'extremeness'], ['acetazolmide', 'acetaminophen'], ['humoured', 'humored'], ['weightlose', 'weight lose'], ['meninscous', 'meniscus'], ['nasueous', 'nauseous'], ['painfuk', 'painful'], ['pristic', 'puristic'], ['pramoxine', 'trampoline'], ['hyrocortisone', 'cortisone'], ['tolnaftate', 'tollgate'], ['levadopa', 'adoptable'], ['idiologies', 'ideologies'], ['stooper', 'stopper'], ['dysmoprhic', 'dysphoric'], ['diagosed', 'diagnosed'], ['agoriphobia', 'agoraphobia'], ['toparite', 'tripartite'], ['lordotic', 'orthodontic'], ['diarhoe', 'diarrhea'], ['amoxicllin', 'amoxicillin'], ['levonile', 'leonine'], ['aih', 'ah'], ['hra', 'hrs'], ['cartlige', 'cartilage'], ['oxycodon', 'Oxycontin'], ['vtac', 'vac'], ['lamogine', 'melamine'], ['dococyline', 'doctrine'], ['referrred', 'referred'], ['dequervians', 'equestrians'], ['tenosinovitis', 'novitiates'], ['drowsey', 'drowse'], ['hypothalmus', 'hypothalamus'], ['moarning', 'moaning'], ['dirrected', 'directed'], ['appaz', 'Zappa'], ['phelgm', 'phlegm'], ['nafarelin', 'preliminary'], ['ovariohysterectomy', 'hysterectomy'], ['akasthia', 'Kathiawar'], ['merropenem', 'Oppenheimer'], ['sycle', 'cycle'], ['gastic', 'gastric'], ['mminute', 'minute'], ['duacs', 'ducats'], ['ssnr', 'assn'], ['anribiotics', 'antibiotics'], ['namn', 'name'], ['ihad', 'had'], ['packette', 'packet'], ['christchurch', 'Christchurch'], ['cycln', 'cycle'], ['antidiarrheals', 'antibacterials'], ['elhers', 'elders'], ['cysitic', 'cystic'], ['acayna', 'acacia'], ['exclusivly', 'exclusively'], ['errection', 'erection'], ['norpinepherine', 'epinephrine'], ['dopanine', 'dopamine'], ['creaving', 'craving'], ['caphalon', 'cap halon'], ['finaily', 'finally'], ['teratoll', 'tolerate'], ['fec', 'fee'], ['oncologoist', 'oncologist'], ['celluitis', 'cellulitis'], ['emensely', 'immensely'], ['mohse', 'moose'], ['stratterra', 'strategist'], ['theray', 'therapy'], ['nutrasystem', 'NutraSweet'], ['utererus', 'uterus'], ['psyciatrist', 'psychiatrist'], ['sinimet', 'liniment'], ['koolaide', 'Adelaide'], ['cluser', 'cluster'], ['iwish', 'wish'], ['hcls', 'hols'], ['mediaction', 'medication'], ['rapaflow', 'contraflow'], ['hyperosmotic', 'hyper osmotic'], ['arroused', 'aroused'], ['lodyne', 'anodyne'], ['mechanica', 'mechanics'], ['execretion', 'excretion'], ['davorcet', 'divorcee'], ['avandamet', 'amendment'], ['sequi', 'sequin'], ['utrogestan', 'estrogen'], ['traveller', 'traveler'], ['diahreah', 'diarrhea'], ['chalazion', 'nonchalant'], ['inciveck', 'incisive'], ['propanadol', 'propaganda'], ['iburophen', 'ibuprofen'], ['insomonia', 'insomnia'], ['tradazone', 'tradition'], ['eequivalent', 'equivalent'], ['stahist', 'stasis'], ['asteline', 'stateliness'], ['lubex', 'lube'], ['undecylenamido', 'underclassmen'], ['sulfosuccinate', 'sulfonamides'], ['facitis', 'fascistic'], ['isotrentinion', 'interventionist'], ['expencive', 'expensive'], ['bloodtest', 'bloodiest'], ['simvistatin', 'visitation'], ['distribitor', 'distributor'], ['plaquinel', 'aquiline'], ['lomaira', 'Mallomars'], ['hemocyte', 'hepatocyte'], ['ballbag', 'ball bag'], ['endemetriosis', 'endometriosis'], ['hypochondrism', 'hypochondriac'], ['enjacualted', 'ejaculated'], ['incontenance', 'incontinence'], ['zeljanz', 'Zealand'], ['wheeziness', 'wheeziness'], ['depovera', 'deprave'], ['supprecent', 'supp recent'], ['norvo', 'nor'], ['couln', 'could'], ['neverrrrrr', 'nevermore'], ['occasnio', 'occasion'], ['benedril', 'Benzedrine'], ['buperenorphine', 'businessperson'], ['espicially', 'especially'], ['halfing', 'haling'], ['uncomfort', 'comfort'], ['btc', 'etc'], ['medcation', 'medication'], ['ulticaria', 'urticaria'], ['angieodema', 'demanding'], ['fexofenedine', 'inexpedient'], ['updosing', 'up dosing'], ['pkus', 'plus'], ['antibuse', 'antiserum'], ['ciraplex', 'paraplegic'], ['symtpoms', 'symptoms'], ['talktative', 'talkative'], ['dizziniess', 'dizziness'], ['mnoths', 'months'], ['bloatings', 'bloating'], ['diaharria', 'diarrhea'], ['rxns', 'runs'], ['♀', 'e'], ['abnominal', 'abdominal'], ['accutaine', 'Aquitaine'], ['proiminent', 'prominent'], ['libert', 'liberty'], ['cesamet', 'sesame'], ['treanda', 'Andrea'], ['topordol', 'topology'], ['effectcs', 'effects'], ['ladybugluv', 'ladybug'], ['glucovance', 'connivance'], ['alclometasone', 'nonmetallic'], ['linsinopril', 'eosinophilic'], ['amoxiclav', 'amoxicillin'], ['ovuluation', 'ovulation'], ['permeant', 'per meant'], ['reherniated', 're herniated'], ['reallybad', 'really bad'], ['intail', 'entail'], ['pathtologist', 'pathologist'], ['misoprotosol', 'protoplasmic'], ['tarka', 'parka'], ['exacperate', 'exasperate'], ['cantrave', 'cant rave'], ['estrodil', 'bestrode'], ['medcations', 'medications'], ['prednison', 'prediction'], ['serozone', 'Veronese'], ['diebeties', 'betides'], ['chlortrimeton', 'chlorination'], ['nortriptylene', 'polypropylene'], ['peorid', 'period'], ['wreckn', 'wreck'], ['getn', 'gent'], ['considring', 'considering'], ['neutorin', 'neutrino'], ['instered', 'inserted'], ['scne', 'acne'], ['ocasionally', 'occasionally'], ['chlaymydia', 'chlamydia'], ['restlesss', 'restless'], ['wothdrawaling', 'withdrawing'], ['mucenex', 'Miocene'], ['kristalose', 'peristalses'], ['buprobion', 'probation'], ['criticising', 'criticizing'], ['weekness', 'weakness'], ['rocephine', 'Josephine'], ['irreg', 'irregular'], ['swithing', 'withing'], ['zooley', 'Cooley'], ['miren', 'miner'], ['crampyness', 'crassness'], ['glimeride', 'glimmering'], ['oedema', 'edema'], ['ezetrol', 'petrol'], ['tmes', 'mes'], ['prebump', 'premium'], ['tonge', 'tinge'], ['throate', 'throat'], ['fiornal', 'fictional'], ['extazolam', 'extrapolate'], ['catastrophising', 'catastrophic'], ['epido', 'episode'], ['irratible', 'irritable'], ['flucloxacillin', 'amoxicillin'], ['tranexamix', 'examiner'], ['facilitu', 'facility'], ['partom', 'par tom'], ['control\\u200b', 'control'], ['gedarel', 'Darrel'], ['dermalogica', 'dermatological'], ['miralex', 'miracle'], ['statica', 'statics'], ['amiodrone', 'Micronesia'], ['vibbryd', 'vibratory'], ['pysc', 'Pepys'], ['tachychardia', 'tachycardia'], ['azathiroprine', 'inappropriate'], ['microsleeps', 'micro sleeps'], ['cloanzepan', 'chimpanzee'], ['reinjurying', 'injuring'], ['pesanserine', 'Spenserian'], ['cambra', 'camera'], ['cipla', 'placid'], ['uninary', 'urinary'], ['millimetres', 'millimeters'], ['pulmomary', 'pulmonary'], ['thinest', 'thinnest'], ['recm', 'rec'], ['intestional', 'intestinal'], ['demished', 'demised'], ['perscirbed', 'superscribed'], ['trigycerides', 'triglycerides'], ['synovectomy', 'splenectomy'], ['gloucosamine', 'gloominess'], ['rtp', 'rt'], ['elimnated', 'eliminated'], ['terrrible', 'terrible'], ['symbicourt', 'symbiotic'], ['noside', 'onside'], ['tylemol', 'Tylenol'], ['ughhhhhh', 'roughhouse'], ['bowens', 'bowers'], ['ibuprofren', 'ibuprofen'], ['anxit', 'anxiety'], ['berlinta', 'Berliner'], ['privosate', 'Private'], ['ahev', 'have'], ['deminish', 'diminish'], ['vfib', 'fib'], ['honesly', 'honestly'], ['trintallex', 'installer'], ['risperadal', 'dispersal'], ['luproid', 'Polaroid'], ['lupton', 'lepton'], ['leisions', 'elisions'], ['sleepasils', 'sleepily'], ['monthlyish', 'monthly'], ['psoraisis', 'psoriasis'], ['whoopdeedoop', 'whoopee'], ['diaharra', 'diarrhea'], ['trulicy', 'truly'], ['heimlich', 'Heimlich'], ['petiod', 'period'], ['vaginaly', 'vaginal'], ['strenda', 'Streisand'], ['quckness', 'quickness'], ['gynie', 'genie'], ['switiching', 'switching'], ['lisc', 'list'], ['bydur', 'durably'], ['lorecet', 'Loretta'], ['enduce', 'endue'], ['coherant', 'coherent'], ['doycycline', 'tetracycline'], ['samroxlox', 'steamroll'], ['neeeeed', 'needed'], ['taen', 'tarn'], ['plexis', 'plexus'], ['pannicky', 'panicky'], ['pukigg', 'puking'], ['mylans', 'Mylars'], ['releave', 'release'], ['woohooo', 'boohoo'], ['medicined', 'medicines'], ['cipd', 'cpd'], ['fluvoxemine', 'fluorine'], ['lukes', 'likes'], ['sinai', 'Sinai'], ['lisinoprol', 'necropolis'], ['likejenny', 'like jenny'], ['releax', 'relax'], ['levlin', 'Levine'], ['atrovastatin', 'starvation'], ['daktarin', 'Darrin'], ['through\\u200b', 'through'], ['nightmaremy', 'nightmare my'], ['minocylcine', 'calcimine'], ['srn', 'sen'], ['rmn', 'rm'], ['coclea', 'cochlea'], ['androl', 'Roland'], ['ibuprufen', 'ibuprofen'], ['sinutitis', 'sinusitis'], ['prolea', 'proles'], ['desyrel', 'Delores'], ['fatige', 'fatigue'], ['oxcytetracyclin', 'tetracycline'], ['atovastatin', 'innovation'], ['linaglitine', 'tagline'], ['disorser', 'disorder'], ['zostrix', 'zoster'], ['chantax', 'chant ax'], ['theough', 'through'], ['repierced', 're pierced'], ['irbesartian', 'libertarian'], ['spondololethesis', 'anesthesiologist'], ['flexoral', 'flex oral'], ['nitrofuratoin', 'nitrification'], ['fibromalagia', 'fibrillation'], ['arpiprazole', 'altarpiece'], ['fleccinide', 'fleeciness'], ['lugols', 'Lugosi'], ['fluoroqunilones', 'fluorocarbons'], ['ucerus', 'uterus'], ['malassezia', 'Malaysia'], ['lopermide', 'spermicide'], ['colonscopies', 'colonoscopies'], ['farrrrrr', 'farrier'], ['sulphuric', 'sulfuric'], ['gasx', 'gas'], ['nsaidss', 'gainsaid'], ['polysomnograms', 'parallelograms'], ['mescolor', 'mes color'], ['tavist', 'atavist'], ['substernal', 'subaltern'], ['insonima', 'insomnia'], ['rauwolfia', 'wolfram'], ['serpentina', 'serpentine'], ['horus', 'hours'], ['phendiet', 'phenacetin'], ['wheni', 'whine'], ['postinor', 'posting'], ['seiures', 'seizures'], ['trigiminal', 'criminality'], ['eleft', 'fleet'], ['shok', 'shook'], ['brupropion', 'propitiation'], ['jamba', 'jambs'], ['itchtown', 'itch town'], ['rynatan', 'rattan'], ['phentremine', 'preeminent'], ['belara', 'Bela'], ['painsomnia', 'pa insomnia'], ['heacaches', 'headaches'], ['idopathic', 'idiopathic'], ['evener', 'evener'], ['riddlen', 'riddle'], ['comode', 'commode'], ['tmw', 'tow'], ['tricore', 'tricolor'], ['ekkkk', 'KKK'], ['zzzzzzzz', 'Zzz'], ['willbecareful', 'carefuller'], ['arimidez', 'Aristides'], ['osmose', 'Moses'], ['ndph', 'nymph'], ['meercat', 'Mercator'], ['retalin', 'retain'], ['bepantene', 'antennae'], ['braums', 'umbras'], ['salbutamal', 'taramasalata'], ['bigiminy', 'ignominy'], ['ristoril', 'motorist'], ['fibritallation', 'fibrillation'], ['besure', 'be sure'], ['advanage', 'advantage'], ['exhuasted', 'exhausted'], ['disimpaction', 'distraction'], ['tellson', 'tell son'], ['amoxicillen', 'amoxicillin'], ['innerstem', 'inner stem'], ['pettie', 'petite'], ['genress', 'genres'], ['whtsoever', 'whatsoever'], ['spectatular', 'spectacular'], ['ecp', 'exp'], ['cretinine', 'cretinism'], ['morcet', 'Condorcet'], ['eptiletic', 'epileptic'], ['intance', 'instance'], ['exarcebated', 'exacerbated'], ['menopouse', 'menopause'], ['bothrooms', 'bathrooms'], ['exericize', 'criticizer'], ['yawny', 'tawny'], ['parasthaesia', 'parenthesis'], ['darvacets', 'curvaceous'], ['constiation', 'constipation'], ['suboxine', 'subroutine'], ['lisiniprol', 'provisional'], ['mmts', 'mats'], ['darla', 'Darla'], ['distubances', 'disturbances'], ['hahhaha', 'Wahhabi'], ['linziess', 'liveliness'], ['valarin', 'Valarie'], ['azelex', 'Azazel'], ['durolax', 'Eurodollar'], ['depreesed', 'depressed'], ['acene', 'scene'], ['microginon', 'micron'], ['daysthennights', 'pennyweights'], ['vanc', 'van'], ['fha', 'FHA'], ['arthroc', 'arthropod'], ['amoxy', 'oxymora'], ['claromyicin', 'clarification'], ['bodyhurts', 'body hurts'], ['acet', 'ace'], ['alprazolams', 'malpractices'], ['alprazs', 'appraisal'], ['gatlinburg', 'Gatling'], ['stupamax', 'stuntman'], ['mygraine', 'migraine'], ['autopap', 'auto pap'], ['clopidogril', 'clopping'], ['sinvastatin', 'astatine'], ['pnumonia', 'pneumonia'], ['unpredictible', 'unpredictable'], ['emberassing', 'embarrassing'], ['respnded', 'responded'], ['elleone', 'Leonel'], ['smps', 'amps'], ['resion', 'resin'], ['adpexs', 'apex'], ['engrey', 'energy'], ['increassed', 'increased'], ['yearsl', 'years'], ['osah', 'OSHA'], ['remron', 'Remington'], ['bdy', 'by'], ['exparel', 'apparel'], ['mirvala', 'larval'], ['persisited', 'persisted'], ['isterate', 'iterate'], ['craming', 'craning'], ['qutting', 'quitting'], ['vitanica', 'Titanic'], ['cysto', 'cyst'], ['protek', 'protege'], ['nuycnta', 'countably'], ['approximetely', 'approximately'], ['leisons', 'lesions'], ['alimta', 'tali'], ['cigarates', 'cigarettes'], ['buproion', 'ibuprofen'], ['spironolacton', 'conspiratorial'], ['atentolol', 'entomology'], ['hypersexuallity', 'heterosexuality'], ['conscienceness', 'conscienceless'], ['psychose', 'psychos'], ['revia', 're via'], ['aferrari', 'Ferrari'], ['kaposi', 'Kaposi'], ['avb', 'av'], ['struggeled', 'struggled'], ['atterax', 'ratter'], ['penacillin', 'penicillin'], ['retinologist', 'Kremlinologist'], ['forsure', 'for sure'], ['lodalis', 'odalisque'], ['minoclycline', 'polyclinic'], ['nvp', 'nip'], ['noreth', 'north'], ['ethin', 'thin'], ['pinamox', 'Minamoto'], ['medicatiod', 'medication'], ['diahreea', 'diarrhea'], ['acknowledgement', 'acknowledgment'], ['polor', 'polo'], ['endophytis', 'endorphins'], ['wellbritrin', 'wellspring'], ['iihope', 'ii hope'], ['yaaayy', 'Khayyam'], ['subdided', 'subsided'], ['vanderbilt', 'Vanderbilt'], ['dysautonomias', 'autonomous'], ['gynocemastia', 'gymnastics'], ['wakefullness', 'wakefulness'], ['enspecially', 'especially'], ['prolbably', 'probably'], ['stwiching', 'switching'], ['shizo', 'schizo'], ['capsure', 'capture'], ['sureclicks', 'sure clicks'], ['plexopathy', 'homeopathy'], ['meloxican', 'Mexican'], ['sexenda', 'Sendai'], ['weght', 'weft'], ['diziziness', 'dizziness'], ['pharmastists', 'pharmacists'], ['carico', 'calico'], ['diverticulitits', 'diverticulitis'], ['tamixifen', 'tamoxifen'], ['panlorss', 'parlors'], ['leukeran', 'leukemia'], ['meloxicanan', 'melancholic'], ['fencom', 'fen com'], ['lupin', 'lupine'], ['inneffective', 'ineffective'], ['gfc', 'Pfc'], ['largactil', 'galactic'], ['leflunemide', 'sulfonamides'], ['juverderm', 'murderer'], ['voluma', 'volume'], ['radiesse', 'diereses'], ['faised', 'raised'], ['citaloptam', 'capitalism'], ['ejaclulate', 'ejaculate'], ['mimimal', 'minimal'], ['osteophites', 'theosophists'], ['definetily', 'definitely'], ['whithout', 'without'], ['quatiapine', 'quarantine'], ['bellsra', 'Bella'], ['kavinace', 'Avicenna'], ['leftknee', 'left knee'], ['everrr', 'ever'], ['everrrrr', 'EverReady'], ['wporking', 'working'], ['begore', 'before'], ['pudgey', 'pudgy'], ['ileostomate', 'illegitimate'], ['quicklg', 'quickly'], ['hystrorectomy', 'hysterectomy'], ['hibbity', 'inhibit'], ['dibbity', 'edibility'], ['implulsive', 'impulsive'], ['mitro', 'nitro'], ['emetephobia', 'homophobia'], ['aurolife', 'proliferate'], ['amytal', 'mythical'], ['amobarbital', 'phenobarbital'], ['havery', 'ha very'], ['thsee', 'these'], ['dtr', 'tr'], ['humi', 'hum'], ['carboholic', 'carbolic'], ['pimobenidan', 'pianissimo'], ['deposite', 'deposit'], ['thermaclear', 'thermonuclear'], ['traxadone', 'extradition'], ['hoshemotoes', 'housemothers'], ['works\\u200b', 'works'], ['citracel', 'citronella'], ['drousyness', 'onerousness'], ['hospitilized', 'hospitalized'], ['perplexion', 'perplex ion'], ['encourgement', 'encouragement'], ['terrfied', 'terrified'], ['hadve', 'have'], ['andnstarted', 'grandstanded'], ['melpaque', 'Malplaquet'], ['loompa', 'loom pa'], ['indocid', 'Indochina'], ['sacrolilitis', 'sacroiliacs'], ['gastroenerologist', 'Gastroenterology'], ['clomiprine', 'prominence'], ['hungery', 'hunger'], ['sansert', 'sanserif'], ['homatropine', 'atropine'], ['yipppeee', 'yippee'], ['alesyna', 'analyses'], ['hostipal', 'hospital'], ['deop', 'drop'], ['meperedine', 'predetermine'], ['proplanalol', 'proportional'], ['gabalin', 'gabardine'], ['nalmofene', 'salmonella'], ['naltroxene', 'generational'], ['savour', 'savor'], ['medicin', 'medicine'], ['attackef', 'attacked'], ['befote', 'before'], ['fromnowhere', 'from nowhere'], ['ritialin', 'Ritalin'], ['trezix', 'Trekkie'], ['frequentl', 'frequent'], ['havae', 'have'], ['triumec', 'triumvir'], ['intersticial', 'interstitial'], ['iih', 'ii'], ['emprin', 'imprint'], ['deescalated', 'deescalated'], ['rienced', 'experienced'], ['quent', 'went'], ['sumatriptain', 'Sumatran'], ['brandooks', 'Brandon'], ['primarely', 'primarily'], ['inaffective', 'ineffective'], ['supprescent', 'suppressant'], ['mucousy', 'mucous'], ['amitryptilline', 'noncrystalline'], ['fulkerson', 'Wilkerson'], ['trimeq', 'trimmer'], ['cafeine', 'caffeine'], ['uretal', 'urethral'], ['urthea', 'hearth'], ['cathier', 'catchier'], ['adreia', 'dread'], ['lungers', 'lingers'], ['rayna', 'Ramayana'], ['lamicital', 'calamity'], ['capzasym', 'capsicum'], ['cystoid', 'cystic'], ['predforte', 'reported'], ['repinerole', 'repine role'], ['ovairian', 'ovarian'], ['oncedaily', 'once daily'], ['duloxtine', 'guillotine'], ['profonol', 'foolproof'], ['effectivnes', 'effectiveness'], ['cytosis', 'cytosine'], ['teduced', 'reduced'], ['sulpha', 'sulfa'], ['wereworst', 'were worst'], ['symptomps', 'symptoms'], ['lestrin', 'Palestrina'], ['unfortunely', 'unfortunately'], ['purelax', 'pure lax'], ['mirelax', 'mi relax'], ['anoroxia', 'anorexia'], ['lexiscan', 'lexis can'], ['dycyclomine', 'anticyclone'], ['presscribed', 'prescribed'], ['wtheck', 'wt heck'], ['mucine', 'mu cine'], ['errie', 'eerie'], ['multivitiman', 'multivitamin'], ['crapzac', 'crapper'], ['daysee', 'day see'], ['ultrasond', 'ultrasound'], ['utereus', 'uterus'], ['implamented', 'implemented'], ['aggetated', 'vegetated'], ['hemidyskinesia', 'psychokinesis'], ['keffir', 'Effie'], ['losarton', 'sartorial'], ['findvthecsource', 'resourcefulness'], ['takking', 'yakking'], ['specialust', 'specialist'], ['ihink', 'think'], ['haveexcruciatingbackpainand', 'excruciating'], ['reynaud', 'Reyna'], ['hospitialization', 'hospitalization'], ['cliked', 'cliched'], ['cylcen', 'cyclamen'], ['nidra', 'Indra'], ['remecaid', 'Medicaid'], ['roxis', 'Roxie'], ['regaine', 'regain'], ['anticonvuldants', 'anticoagulants'], ['antispsychotics', 'antis psychotics'], ['malasorbtion', 'malformation'], ['amitriptline', 'trampoline'], ['bussness', 'business'], ['whochatdt', 'wholewheat'], ['chldrens', 'children'], ['disablitly', 'disputably'], ['gongenital', 'congenital'], ['mirogestin', 'progestin'], ['ondasetron', 'astronomer'], ['somas', 'comas'], ['losec', 'lose'], ['progresser', 'progresses'], ['anorexiant', 'anorexia'], ['tretioin', 'retraction'], ['periformus', 'performs'], ['kypoplasty', 'angioplasty'], ['hinderances', 'hindrances'], ['carmax', 'car max'], ['benzodiazipine', 'Benzedrine'], ['upperback', 'upper back'], ['notttttt', 'knotty'], ['aphthous', 'thousandth'], ['zyprexia', 'anorexia'], ['hving', 'hing'], ['kood', 'rood'], ['bioteen', 'biotin'], ['therabreath', 'breather'], ['lozengers', 'lozenges'], ['mouthkote', 'motormouth'], ['amytriptyline', 'pantyliner'], ['pharmac', 'pharmacy'], ['amirol', 'Ramiro'], ['dercum', 'undercut'], ['havecranial', 'have cranial'], ['pantopraxole', 'paleontology'], ['diahrrra', 'diarrhea'], ['irnyoressure', 'irresoluteness'], ['rapatha', 'Maratha'], ['incerting', 'inverting'], ['funglals', 'fungal'], ['athakisia', 'catharsis'], ['polycythmia', 'polynomial'], ['hahahar', 'maharajah'], ['swtiching', 'switching'], ['withought', 'with ought'], ['cohch', 'coach'], ['vyanese', 'Guyanese'], ['buusy', 'busy'], ['liothyroine', 'hypothyroid'], ['tolerancy', 'tolerance'], ['sedatory', 'predatory'], ['yorkiegal', 'Yorkie'], ['remereon', 'Emerson'], ['parathesia', 'parenthesis'], ['foetus', 'fetus'], ['bactrin', 'Bactria'], ['ilaid', 'laid'], ['greenishyellow', 'greenish yellow'], ['ankolysing', 'folksinging'], ['betametazone', 'methamphetamine'], ['immedicately', 'immediately'], ['djarums', 'arums'], ['valsalva', 'salvage'], ['chestpain', 'chest pain'], ['prevefem', 'preventive'], ['ishy', 'shy'], ['phienix', 'phoenix'], ['phx', 'phi'], ['novantrone', 'nonobservant'], ['rimfampin', 'revamping'], ['albenzadole', 'adolescence'], ['mebenzadole', 'adolescence'], ['timrpove', 'overtime'], ['tindasole', 'insolent'], ['extta', 'extra'], ['applictions', 'applications'], ['initailly', 'initially'], ['doxocycline', 'tetracycline'], ['tretanoin', 'retrain'], ['ibprophin', 'Prohibition'], ['clorazapate', 'Cleopatra'], ['dnd', 'dd'], ['nephroctomy', 'nephropathy'], ['melocicam', 'Camelot'], ['tts', 'ts'], ['topamx', 'topaz'], ['psch', 'sch'], ['amerigroup', 'americium'], ['naratriptin', 'transcription'], ['persisternt', 'persistent'], ['ulceratis', 'ulcerates'], ['tbps', 'tbsp'], ['conjuctivities', 'conjunctivitis'], ['hazzy', 'jazzy'], ['stinged', 'singed'], ['arguementativeness', 'argumentativeness'], ['absoulute', 'absolute'], ['ruminatively', 'ruminatively'], ['modavigil', 'Moldavia'], ['pygeum', 'pygmy'], ['allergis', 'allergies'], ['indigesgion', 'indigestion'], ['realnatural', 'real natural'], ['vetreous', 'vitreous'], ['mediines', 'medicines'], ['inablitiy', 'inability'], ['ofva', 'ova'], ['roseaca', 'roseate'], ['andcnow', 'cowhand'], ['lorazepm', 'moralize'], ['paych', 'pays'], ['viibrid', 'vibrated'], ['eipisode', 'episode'], ['terazole', 'terrazzo'], ['kionex', 'exertion'], ['catscan', 'cat scan'], ['outbrek', 'outbreak'], ['idealation', 'idealization'], ['nitrafurantoin', 'transfiguration'], ['cvi', 'xvi'], ['isoxsuprine', 'innerspring'], ['extreemly', 'extremely'], ['tooksome', 'took some'], ['cigratte', 'cigarette'], ['dehydracodeine', 'dehydration'], ['✅', 'e'], ['dissiness', 'dressiness'], ['basileate', 'Bastille'], ['rsi', 'RSI'], ['candasartan', 'Cassandra'], ['instucted', 'instructed'], ['hemeroidectomy', 'hysterectomy'], ['zornorm', 'Zorn'], ['penicllin', 'penicillin'], ['skinn', 'skin'], ['nexafed', 'deafened'], ['suppressent', 'suppressant'], ['whynotme', 'whatnot'], ['benefiial', 'beneficial'], ['sleepy\\u200b', 'sleepy'], ['efalgo', 'Algol'], ['levsinex', 'Levine'], ['methylcellulous', 'meticulousness'], ['praxetine', 'prettiness'], ['puretemp', 'pure temp'], ['imetrix', 'metric'], ['delsum', 'delirium'], ['wouldive', \"would've\"], ['erraticate', 'erratic ate'], ['iseem', 'seem'], ['respiridrone', 'respiration'], ['anmdare', 'Annmarie'], ['octagam', 'octagon'], ['aerius', 'aeries'], ['mmeantthe', 'meantime'], ['mucenix', 'munificence'], ['euflexia', 'flexible'], ['lnew', 'knew'], ['onpoint', 'on point'], ['ufe', 'use'], ['ffeel', 'feel'], ['wellbutrain', 'wellington'], ['particualryl', 'particularity'], ['benzepro', 'benzene'], ['juvelin', 'javelin'], ['juvaders', 'evaders'], ['larin', 'lain'], ['agraphobia', 'agoraphobia'], ['confinde', 'confined'], ['denivar', 'denier'], ['cerelle', 'celery'], ['migrenes', 'migraines'], ['pregunte', 'pregnant'], ['differente', 'different'], ['emphasised', 'emphasized'], ['herpectic', 'her pectic'], ['physcotic', 'physicist'], ['vyvansae', 'Vanessa'], ['serazone', 'serration'], ['acuvail', 'avail'], ['xyprexa', 'expressway'], ['startrd', 'started'], ['homosistine', 'homeostasis'], ['affectiveness', 'effectiveness'], ['offten', 'often'], ['pimpels', 'pimples'], ['defentaly', 'deferentially'], ['trichtotillomania', 'kleptomaniac'], ['sweate', 'sweat'], ['angryness', 'grayness'], ['satchet', 'sachet'], ['anymovement', 'any movement'], ['canestine', 'canes tine'], ['dermetalogist', 'dermatologist'], ['okla', 'kola'], ['decisionto', 'decision to'], ['develeped', 'developed'], ['trstosterone', 'testosterone'], ['menorraghia', 'menorahs'], ['hydroclorizide', 'hydroelectric'], ['wasmin', 'was min'], ['ivc', 'iv'], ['adheared', 'adhered'], ['benadry', 'Bernadine'], ['aslleep', 'asleep'], ['immensley', 'immensely'], ['aberva', 'aberrant'], ['ofconsciousness', 'of consciousness'], ['lorezapam', 'Loretta'], ['profilax', 'profitable'], ['gullbladder', 'gallbladder'], ['zertek', 'deserter'], ['zantak', 'Kazantzakis'], ['trimcinolone', 'criminologist'], ['momestaone', 'momentariness'], ['tynenol', 'Tylenol'], ['fusate', 'obfuscate'], ['travantan', 'extravagant'], ['apettite', 'appetite'], ['ducolox', 'colored'], ['tjousamds', 'thousands'], ['igrave', 'grave'], ['npoint', 'point'], ['afub', 'AFB'], ['vivaglovin', 'unloving'], ['lemonaide', 'lemonade'], ['otrexup', 'protrude'], ['keibners', 'Scribner'], ['wheew', 'whee'], ['citlopram', 'chiropractor'], ['dibucaine', 'cocaine'], ['fougera', 'forager'], ['acifex', 'pacifier'], ['dermatoligists', 'dermatologists'], ['tussionix', 'contusion'], ['caty', 'cat'], ['melletonin', 'Ellington'], ['iitook', 'ii took'], ['depakot', 'departed'], ['gababentin', 'abetting'], ['vicoprofin', 'proficient'], ['subutux', 'subtext'], ['vwala', 'wallah'], ['citcrel', 'citadel'], ['epitec', 'epithet'], ['sloughes', 'sloughed'], ['mavantix', 'manservant'], ['medicaiton', 'medication'], ['vyvanze', 'Vanzetti'], ['feeel', 'feel'], ['nocturemia', 'nocturne'], ['coldsweat', 'cold sweat'], ['honestest', 'honestest'], ['pelling', 'spelling'], ['paraguad', 'Paraguay'], ['atnight', 'at night'], ['kallmans', 'Pullmans'], ['gonal', 'goal'], ['campril', 'campanile'], ['sumatropan', 'Sumatran'], ['somwehat', 'somewhat'], ['valdoxane', 'Valvoline'], ['firstfw', 'first'], ['sjorgrens', 'evergreens'], ['orthtricyclen', 'tricycle'], ['trinesaa', 'Saarinen'], ['osteoarthirtis', 'osteoarthritis'], ['elgard', 'Elgar'], ['trusopt', 'trust'], ['pzisorn', 'prison'], ['sleepeating', 'sleep eating'], ['vorioxetine', 'savoriness'], ['improveda', 'improved'], ['aniti', 'anti'], ['okish', 'bookish'], ['acetazolemide', 'semidetached'], ['flushness', 'lushness'], ['hypervigliance', 'hyperglycemia'], ['tricylin', 'intricacy'], ['abstenance', 'sustenance'], ['defintley', 'definable'], ['noticerably', 'noticeably'], ['aaand', 'and'], ['menstruel', 'menstrual'], ['estorgen', 'estrogen'], ['regenpure', 'regenerate'], ['consit', 'consist'], ['chack', 'sack'], ['tritellix', 'Bellatrix'], ['benonatate', 'nonattendance'], ['bisoprolo', 'bishopric'], ['spondyliolisthesis', 'anesthesiologists'], ['serume', 'resume'], ['enclomiphene', 'phenomenology'], ['slowely', 'slowly'], ['aggrevation', 'aggravation'], ['deprssing', 'depressing'], ['sentraline', 'centralist'], ['tecfadra', 'draftee'], ['cycstic', 'cystic'], ['wifezilla', 'Willamette'], ['vand', 'band'], ['dtay', 'stay'], ['hospitalisation', 'hospitalization'], ['codein', 'codeine'], ['tylanol', 'Tylenol'], ['benzylpenicillin', 'benzyl penicillin'], ['peritonsillar', 'peritoneal'], ['pta', 'PTA'], ['coors', 'curs'], ['belvig', 'believing'], ['exascerbated', 'exacerbated'], ['contracions', 'contractions'], ['flouracil', 'uracil'], ['chernobyl', 'Chernobyl'], ['mirta', 'mirth'], ['musclular', 'muscular'], ['arthtitis', 'arthritis'], ['clearisonic', 'clearinghouse'], ['pillpack', 'pill pack'], ['starging', 'staring'], ['ridgecrest', 'ridge crest'], ['clearlungs', 'clear lungs'], ['prezssure', 'pressure'], ['posotive', 'positive'], ['ketoacidodis', 'keyboardists'], ['aromatose', 'comatose'], ['grogy', 'grog'], ['metprolol', 'meteorology'], ['goodnesss', 'goodness'], ['fexeril', 'febrile'], ['doxcycoline', 'crinoline'], ['vivanse', 'Vivian'], ['gooish', 'goodish'], ['rothman', 'Romansh'], ['trabs', 'brats'], ['trab', 'brat'], ['dioriented', 'disoriented'], ['aztecs', 'Aztecs'], ['sacilyic', 'saucily'], ['vichy', 'Vichy'], ['normaderm', 'Normand'], ['clerasil', 'Clearasil'], ['isually', 'usually'], ['actuallyy', 'actually'], ['generala', 'generals'], ['bellestar', 'belle star'], ['metfromin', 'metronome'], ['comedons', 'comedowns'], ['amitryptylline', 'noncrystalline'], ['starty', 'starry'], ['chronics', 'chronic'], ['genyo', 'gen yo'], ['expreienced', 'experienced'], ['borborygmus', 'arboretums'], ['drowsies', 'drowses'], ['melixicam', 'Mexicali'], ['flyinf', 'flying'], ['carenow', 'care now'], ['moderatly', 'moderately'], ['aiken', 'Aiken'], ['kyphoscoliosis', 'scoliosis'], ['contrrave', 'contravene'], ['anxietities', 'anxieties'], ['zopiderm', 'epidermic'], ['babyless', 'baby less'], ['sublexating', 'subletting'], ['sunovion', 'disunion'], ['incurrable', 'incurable'], ['welbutritin', 'nutritional'], ['tricira', 'Tricia'], ['dierria', 'derriere'], ['thiyroid', 'thyroid'], ['pregnacsy', 'pregnancy'], ['foclain', 'McClain'], ['dialted', 'dilated'], ['yuge', 'yule'], ['lisinoprel', 'Elsinore'], ['thati', 'that'], ['extentabs', 'extent abs'], ['sleeped', 'seeped'], ['supplemet', 'supplement'], ['xyrems', 'REMs'], ['lamotrgine', 'trampoline'], ['lamo', 'lamp'], ['belsorma', 'Abelson'], ['percoscet', 'stereoscope'], ['fibromuscular', 'intramuscular'], ['lexpapro', 'leapfrog'], ['jardience', 'jardiniere'], ['vulvitis', 'viticulturist'], ['muchies', 'munchies'], ['nordotropin', 'nontropical'], ['flexpro', 'flex pro'], ['prolensa', 'Prensa'], ['hapoy', 'happy'], ['myralax', 'Myrdal'], ['hinkling', 'inkling'], ['aphaty', 'apathy'], ['devoloped', 'developed'], ['mrena', 'arena'], ['hgba', 'hogback'], ['inhalents', 'inhalants'], ['immunolytics', 'immunologic'], ['pseudomembraneous', 'extemporaneousness'], ['presrecribed', 'prescribed'], ['vuvla', 'vulva'], ['bendryl', 'bender'], ['almased', 'aliased'], ['cominh', 'coming'], ['anserine', 'an serine'], ['belfore', 'before'], ['swollowed', 'swallowed'], ['cheeto', 'Cheetos'], ['lorazipam', 'panoramic'], ['metrinidazole', 'endometrial'], ['acidophillis', 'hemophiliacs'], ['escitolopram', 'eschatological'], ['vivescal', 'visceral'], ['clanazepapam', 'clanswomen'], ['andffinally', 'financially'], ['begantaking', 'began taking'], ['losenges', 'lozenges'], ['adapale', 'dapple'], ['zoran', 'Moran'], ['propfol', 'prop fol'], ['indomethcin', 'indomitable'], ['viraload', 'viral'], ['parox', 'par ox'], ['readins', 'readings'], ['boarderline', 'borderline'], ['previcid', 'preview'], ['evertime', 'overtime'], ['fragmin', 'framing'], ['ichad', 'chad'], ['asterpro', 'aster pro'], ['bci', 'bi'], ['skf', 'sf'], ['potentcy', 'potency'], ['mallincroft', 'malfunction'], ['cytoxon', 'cytosine'], ['copxone', 'Coppertone'], ['injesting', 'injecting'], ['solutabs', 'absolutes'], ['dosn', 'dons'], ['medroxiprogesterone', 'progesterone'], ['socialphobia', 'social phobia'], ['whoppidie', 'whopping'], ['dooda', 'doodad'], ['propan', 'propane'], ['experiennce', 'experience'], ['clonazepams', 'monoclonal'], ['novarapid', 'nova rapid'], ['thansgiving', 'thanksgiving'], ['keepnfocused', 'focused'], ['endometrioma', 'endometriosis'], ['acetaminophenin', 'acetaminophen in'], ['macrogol', 'macrology'], ['markert', 'marker'], ['sumatryps', 'Sumatra'], ['orthvisc', 'orthopedic'], ['acidize', 'acidic'], ['dirahea', 'diarrhea'], ['tornail', 'toenail'], ['nolamine', 'melamine'], ['clor', 'clot'], ['timetron', 'time tron'], ['myofacasial', 'myocardial'], ['capazain', 'captain'], ['smometimes', 'sometimes'], ['weene', 'wine'], ['clumpsy', 'clumps'], ['threadmill', 'treadmill'], ['physchological', 'physiological'], ['mediction', 'medication'], ['alventa', 'ventral'], ['altogehter', 'altogether'], ['diabeletes', 'diabetes'], ['weighta', 'weights'], ['asthmanex', 'asthmatic'], ['preztles', 'prattles'], ['azalaic', 'azalea'], ['ovely', 'overly'], ['migrns', 'migrants'], ['tls', 'ts'], ['steamable', 'steam able'], ['pseudoephrine', 'epinephrine'], ['xyxal', 'galaxy'], ['spariva', 'sparing'], ['posturepedic', 'pedicurist'], ['yassss', 'assays'], ['regulnar', 'regular'], ['prx', 'pr'], ['pharmrw', 'pharmacy'], ['lostarin', 'costarring'], ['whoozy', 'woozy'], ['reclotting', 're clotting'], ['tavis', 'Davis'], ['disppeared', 'disappeared'], ['trimetan', 'trimaran'], ['oyxcontin', 'Oxycontin'], ['ingrowns', 'ingrown'], ['differrin', 'differ'], ['perosive', 'erosive'], ['qvc', 'PVC'], ['trilegest', 'sacrilege'], ['anixty', 'inanity'], ['anxity', 'anxiety'], ['ccandidate', 'candidate'], ['adjustent', 'adjustment'], ['appllying', 'applying'], ['stenosisside', 'stenosis side'], ['movent', 'moment'], ['citzene', 'citizen'], ['duloxetene', 'sweetened'], ['precedures', 'procedures'], ['aldera', 'alders'], ['ciproxin', 'Cipro'], ['pylory', 'pylori'], ['psoc', 'soc'], ['elson', 'nelson'], ['aolng', 'along'], ['ultrascans', 'ultra scans'], ['dysparuenia', 'dyspepsia'], ['emema', 'enema'], ['abortives', 'abortive'], ['temazpam', 'template'], ['tamoxofin', 'tamoxifen'], ['flashe', 'flash'], ['hunners', 'gunners'], ['someonehelpme', 'lonesomeness'], ['nexplanoninserted', 'noninterchangeable'], ['galactorrhea', 'gonorrheal'], ['overie', 'overlie'], ['reow', 'row'], ['endoamoeba', 'amoebae'], ['hystolitica', 'holistically'], ['eosinofiliac', 'eosinophilic'], ['aleviat', 'alleviate'], ['lucizade', 'Lucinda'], ['zohydos', 'hydrous'], ['immediatey', 'immediate'], ['briandeer', 'brander'], ['septrin', 'Septuagint'], ['fluroxetine', 'Florentine'], ['tendens', 'tenders'], ['tradodone', 'tradition'], ['pralulent', 'prevalent'], ['stemetil', 'stemless'], ['flouriquinolones', 'frivolousness'], ['lapaz', 'palazzo'], ['cochabamba', 'Cochabamba'], ['wouid', 'wound'], ['stoppd', 'stopped'], ['myson', 'meson'], ['empathise', 'empathize'], ['labias', 'labia'], ['restiril', 'tireless'], ['metoprlol', 'metropolis'], ['bioperine', 'peregrine'], ['obsorbtion', 'absorption'], ['carbamazamine', 'Dramamine'], ['acomprosate', 'compensate'], ['quipril', 'Quirinal'], ['mucousal', 'mucous'], ['mirulax', 'mirthful'], ['solydyn', 'solely'], ['humiria', 'humiliate'], ['emotiinal', 'emotional'], ['trimethropin', 'metropolitan'], ['activitites', 'activities'], ['fatidomide', 'thalidomide'], ['xejanz', 'Alejandra'], ['moniststat', 'monist stat'], ['monhs', 'months'], ['sincejune', 'sincere'], ['netrual', 'neutral'], ['herei', 'here'], ['cocodmol', 'mollycoddle'], ['abiut', 'about'], ['jaged', 'aged'], ['inserestion', 'insertions'], ['uncomfatable', 'uncomfortable'], ['salicyclic', 'cyclical'], ['addicied', 'addicted'], ['rollar', 'roller'], ['priscilla', 'Priscilla'], ['haematobium', 'crematorium'], ['paragonimus', 'parsimonious'], ['westermani', 'Westminster'], ['tiolet', 'toilet'], ['thorazin', 'Thorazine'], ['seriquil', 'quilter'], ['diazide', 'diadem'], ['esgig', 'es gig'], ['clarithimycin', 'arithmetician'], ['philidor', 'pedophilia'], ['flownasa', 'flown'], ['wrexham', 'Gresham'], ['belbeca', 'becalm'], ['dexiliant', 'defoliant'], ['chirari', 'Chirico'], ['medicinr', 'medicine'], ['sweeks', 'seeks'], ['isny', \"isn't\"], ['zolpediem', 'expedience'], ['exspect', 'expect'], ['sitrate', 'nitrate'], ['thri', 'three'], ['cervidil', 'cervical'], ['meralgia', 'neuralgia'], ['peresthetica', 'aesthetically'], ['protestrian', 'protestant'], ['rheumatalogist', 'hematologist'], ['vicodines', 'codices'], ['gutate', 'mutate'], ['disapears', 'disappears'], ['trochlear', 'cochlear'], ['emetaphobia', 'metaphorical'], ['drousiness', 'drowsiness'], ['tictacs', 'tactics'], ['escitlaopram', 'resuscitator'], ['roxicontin', 'Oxycontin'], ['laminectemy', 'laminate'], ['pallative', 'palliative'], ['vetenerian', 'veterinarian'], ['serepax', 'Serena'], ['intercose', 'interpose'], ['excruitating', 'excruciating'], ['nasarel', 'nasalize'], ['incontinenence', 'incontinence'], ['comedo', 'comedy'], ['rhuematologist', 'hematologist'], ['microgesten', 'Micronesian'], ['levidopa', 'leopard'], ['titrade', 'tirade'], ['lithiums', 'lithium'], ['volteren', 'revolt'], ['omperazole', 'operable'], ['ifeel', 'feel'], ['causeing', 'causing'], ['annnnd', 'bandanna'], ['seziure', 'seizure'], ['hospitali', 'hospital'], ['urgeso', 'urges'], ['metanex', 'methane'], ['aatd', 'data'], ['moller', 'miller'], ['grugs', 'rugs'], ['carpul', 'carpool'], ['pinpointe', 'pinpoint'], ['snp', 'snip'], ['gabriella', 'Gabrielle'], ['paroxysmia', 'paroxysmal'], ['pychologist', 'psychologist'], ['premenstraul', 'premenstrual'], ['excercies', 'exercises'], ['dispursed', 'dispersed'], ['gasex', 'gases'], ['paracetamols', 'paracetamols'], ['hasimoto', 'Hasidim'], ['diallated', 'dilated'], ['ibprophine', 'prophesier'], ['sieep', 'seep'], ['nothig', 'nothing'], ['orthotri', 'orthopedic'], ['ibersartan', 'libertarian'], ['halebetasol', 'whaleboat'], ['asas', 'ass'], ['wowwwww', 'bowwow'], ['rotton', 'rotten'], ['remmeber', 'remember'], ['venalfaxine', 'adrenaline'], ['emdr', 'emir'], ['mininal', 'minimal'], ['normalish', 'normalize'], ['phycyatrist', 'psychiatrist'], ['versad', 'versa'], ['exhusted', 'exhausted'], ['emphysemia', 'emphysema'], ['notgivingup', 'nonliving'], ['vagenosis', 'diagnosis'], ['predniose', 'predispose'], ['loratb', 'Lora'], ['clindamyin', 'clinician'], ['endolimax', 'mandolin'], ['cti', 'cs'], ['slinqy', 'slinky'], ['pieriods', 'periods'], ['firsy', 'first'], ['stemitel', 'Semite'], ['tpn', 'ton'], ['supliments', 'supplements'], ['retre', 'retire'], ['antibiots', 'antibiotics'], ['barfingbeth', 'Butterfingers'], ['psychoactivity', 'psycho activity'], ['santeria', 'Santeria'], ['flexsig', 'flexing'], ['ergotamines', 'Minnesota'], ['periol', 'peril'], ['povidone', 'Poseidon'], ['physcological', 'physiological'], ['nauseousiness', 'nauseousness'], ['starlix', 'starlit'], ['erythrocin', 'erythromycin'], ['asmathic', 'asthmatic'], ['cifdinir', 'circadian'], ['flatulation', 'flagellation'], ['oxaloplatin', 'installation'], ['striggled', 'struggled'], ['thrm', 'them'], ['recommemd', 'recommend'], ['foltanx', 'fontanel'], ['rhumathoid', 'rheumatoid'], ['zoming', 'zoning'], ['thepain', 'the pain'], ['irg', 'rig'], ['neasham', 'ashamed'], ['ledgeably', 'ledge ably'], ['erythromyocin', 'erythromycin'], ['tetrinoin', 'neutrino'], ['azaelic', 'Gaelic'], ['thursady', 'Thursday'], ['washs', 'wash'], ['slivadene', 'aliveness'], ['guideliines', 'guidelines'], ['spirinolactone', 'conspiratorial'], ['cera', 'care'], ['nopiate', 'opiate'], ['petechia', 'catechize'], ['hystoligy', 'histology'], ['boywonder', 'boy wonder'], ['signalling', 'signaling'], ['beethoven', 'Beethoven'], ['mozart', 'Mozart'], ['grs', 'hrs'], ['stimulater', 'stimulate'], ['pilule', 'pileup'], ['souffre', 'souffle'], ['ecirc', 'Circe'], ['gime', 'grime'], ['teneur', 'tenure'], ['resultat', 'resultant'], ['guli', 'gull'], ['plut', 'put'], ['ocirc', 'Circe'], ['difficance', 'diffidence'], ['floxied', 'flooded'], ['counterindicative', 'counter indicative'], ['weedwacking', 'weekending'], ['bestfriends', 'best friends'], ['anxirty', 'anxiety'], ['pyschs', 'psychs'], ['lamotrigene', 'glamorize'], ['cocodomol', 'commodore'], ['affer', 'naffer'], ['pharmasuticals', 'pharmaceuticals'], ['shood', 'shoos'], ['escitalaporan', 'resuscitation'], ['monrth', 'month'], ['emeregency', 'emergency'], ['coundnt', 'counted'], ['dizzeness', 'dizziness'], ['mrning', 'morning'], ['temperatured', 'temperatures'], ['injectin', 'injection'], ['yougrself', 'yourself'], ['newfoundland', 'Newfoundland'], ['pretzles', 'pretzels'], ['woozey', 'woozy'], ['preotection', 'protection'], ['promethezine', 'Promethean'], ['doctos', 'doctors'], ['effeftiveness', 'effectiveness'], ['doens', 'duns'], ['floxmax', 'Maalox'], ['zalepon', 'Aleppo'], ['gemini', 'Gemini'], ['haallp', 'Hall'], ['☹', 'e'], ['oain', 'pain'], ['perindoprill', 'periodontal'], ['deso', 'dose'], ['antiacids', 'antacids'], ['tagament', 'engagement'], ['tyneol', 'Tylenol'], ['appvd', 'append'], ['sporotrichosis', 'trichinosis'], ['lanus', 'anus'], ['linsopril', 'sprinkling'], ['advare', 'adware'], ['pain►', 'pain'], ['enterically', 'enteric ally'], ['corticosteriod', 'contortionist'], ['privigen', 'privilege'], ['cuvitru', 'Cuvier'], ['scig', 'sci'], ['participitating', 'participating'], ['rehumatoid', 'rheumatoid'], ['cottonball', 'cotton ball'], ['depresson', 'depression'], ['intermitently', 'intermittently'], ['infecion', 'infection'], ['itchying', 'itching'], ['dids', 'deeds'], ['mirtazine', 'magazine'], ['valerion', 'Valerian'], ['kalms', 'qualms'], ['pomada', 'pomade'], ['azufre', 'azure'], ['drisdol', 'Doris'], ['unfocusable', 'unforeseeable'], ['loesrtin', 'loftiness'], ['teatsand', 'teat sand'], ['citralopam', 'cloistral'], ['gastropathy', 'gastropod'], ['oxymophone', 'homophone'], ['lotril', 'Utrillo'], ['pizotofen', 'pizzicato'], ['nortryptaline', 'noncrystalline'], ['irbesartin', 'artiness'], ['avamys', 'avast'], ['zoosters', 'roosters'], ['discorder', 'disorder'], ['seizured', 'seizures'], ['occasionall', 'occasional'], ['sfter', 'after'], ['vicotoza', 'Victoria'], ['shiveres', 'shivered'], ['antimdepressants', 'antidepressants'], ['vaginak', 'vaginal'], ['srfgery', 'surgery'], ['qualaquin', 'palanquin'], ['forwarned', 'forewarned'], ['presrcibed', 'prescribed'], ['awkake', 'awake'], ['overrrrrrr', 'overrode'], ['coxflam', 'flamenco'], ['nivaquine', 'aquiline'], ['salezepyrin', 'salesperson'], ['dilauted', 'dilated'], ['terbisil', 'terbium'], ['sinsation', 'sensation'], ['caudel', 'caudal'], ['urixatrol', 'idolatrous'], ['effevts', 'effects'], ['isuues', 'issues'], ['cookoo', 'cookbook'], ['cmf', 'cm'], ['fluxoetine', 'Florentine'], ['lapsus', 'lapses'], ['nowww', 'now'], ['ensurense', 'ensurer'], ['sentinal', 'sentinel'], ['lymphodema', 'lymphoma'], ['blurryness', 'blurriness'], ['zythromax', 'bathroom'], ['ammoxicillian', 'amoxicillin'], ['nasopharengitis', 'pharyngitis'], ['ccps', 'cps'], ['durg', 'drug'], ['tblspoons', 'tablespoons'], ['boooooo', 'boohoo'], ['humiliatuing', 'humiliating'], ['topirmate', 'propitiate'], ['loveee', 'love'], ['ventrical', 'ventricle'], ['wellbutrins', 'wellsprings'], ['rispedal', 'dispersal'], ['valturna', 'nocturnal'], ['africian', 'African'], ['crazyyyy', 'crazy'], ['hydrochlorothiziade', 'hydroelectrically'], ['pherntermine', 'intermittent'], ['enthromycin', 'erythromycin'], ['burts', 'burst'], ['azyth', 'hazy'], ['kipple', 'nipple'], ['feil', 'file'], ['sprengel', 'spreeing'], ['lcsw', 'LC'], ['oxicotin', 'nicotine'], ['theage', 'the age'], ['autstralia', 'Australia'], ['fluoxitine', 'fluorine'], ['ontopamax', 'maintop'], ['eexcellent', 'excellent'], ['phcy', 'pacy'], ['plylori', 'pylori'], ['hyperplysia', 'hyperglycemia'], ['enzy', 'ency'], ['antiacid', 'antacid'], ['stimu', 'stimuli'], ['skylia', 'skyline'], ['bagunal', 'banal'], ['prozaz', 'Prozac'], ['excaberates', 'exacerbates'], ['irritible', 'irritable'], ['scleraderma', 'masquerader'], ['esctasy', 'ecstasy'], ['morrphine', 'morphine'], ['venlor', 'vendor'], ['downrated', 'down rated'], ['storebrand', 'store brand'], ['administrataion', 'administration'], ['neeve', 'nerve'], ['stablizers', 'stabilizers'], ['tegretal', 'retaliate'], ['likeii', 'like ii'], ['downl', 'down'], ['discontined', 'discontinued'], ['docolax', 'dockland'], ['cortizoine', 'cortisone'], ['chronicus', 'chronic us'], ['flucinazole', 'hallucinate'], ['fluconzaole', 'fluctuation'], ['dipluran', 'diplopia'], ['nanoxolene', 'oxyacetylene'], ['dospan', 'do span'], ['phentemine', 'preeminent'], ['enbril', 'febrile'], ['calcaneofibular', 'calcification'], ['borderine', 'borderline'], ['everning', 'evening'], ['tazarac', 'tamarack'], ['statedwhat', 'stated what'], ['chamomille', 'chamomile'], ['upswt', 'upset'], ['atomach', 'stomach'], ['liquidcaps', 'liquid caps'], ['risendronate', 'indiscriminate'], ['pristque', 'pristine'], ['dozzy', 'dizzy'], ['itstopped', 'it stopped'], ['fellopian', 'Fallopian'], ['progrestrone', 'progesterone'], ['deperession', 'depression'], ['pbms', 'poms'], ['gavison', 'garrison'], ['sudep', 'sudden'], ['glycolix', 'glycerol'], ['skinceuticals', 'pharmaceuticals'], ['migrainesssss', 'migraines'], ['myasthenic', 'neurasthenic'], ['bipap', 'bi pap'], ['eblasion', 'evasion'], ['paroxitene', 'proximate'], ['mirtazapene', 'misshapen'], ['opiots', 'copilots'], ['wedsite', 'website'], ['neostrata', 'prostrate'], ['effecst', 'effects'], ['qrs', 'qts'], ['zannex', 'annex'], ['bactine', 'bacteria'], ['citroma', 'citron'], ['longerbattracted', 'conglomerated'], ['havging', 'having'], ['psychiastrist', 'psychiatrist'], ['escitlopram', 'resuscitator'], ['clillans', 'clinicians'], ['erythamicin', 'erythromycin'], ['tgo', 'tog'], ['tremoring', 'memorizing'], ['hague', 'Hague'], ['experimeced', 'experimented'], ['inteaction', 'interaction'], ['klonoin', 'Klingon'], ['tragicially', 'tragically'], ['heardof', 'heard of'], ['paratid', 'parotid'], ['truliclity', 'garrulity'], ['planquenil', 'palanquin'], ['salazine', 'laziness'], ['allergci', 'allergic'], ['reinbursed', 'reimbursed'], ['quetipine', 'netiquette'], ['supersoaker', 'supertanker'], ['dalamax', 'mandala'], ['opsumit', 'summit'], ['veryy', 'very'], ['depostrust', 'preposterous'], ['edgey', 'edge'], ['medicationi', 'medication'], ['quanteferon', 'quantifier'], ['mersyndol', 'syndrome'], ['louzy', 'lousy'], ['bronchiospasms', 'bronchitis'], ['hamira', 'Hiram'], ['deferens', 'defer ens'], ['glucosomine', 'gloominess'], ['creatiine', 'Creation'], ['satying', 'staying'], ['handwasher', 'hand washer'], ['clomipromine', 'prominence'], ['uturus', 'uterus'], ['volatarin', 'voluntarily'], ['movemen', 'movement'], ['calmoseptine', 'antiseptically'], ['litterly', 'latterly'], ['nifedipin', 'dignified'], ['aeromones', 'pheromones'], ['cogestion', 'congestion'], ['neausea', 'nausea'], ['phsician', 'physician'], ['astma', 'asthma'], ['wellbuturin', 'wellspring'], ['dinatrate', 'inordinate'], ['nitemare', 'Maronite'], ['surpose', 'suppose'], ['ejactulate', 'ejaculate'], ['magnesiuim', 'magnesium'], ['uyor', 'your'], ['scard', 'scars'], ['aincrease', 'increase'], ['coulnd', 'could'], ['sulafalazine', 'sleaziness'], ['didint', 'did int'], ['contnuing', 'continuing'], ['ccp', 'cc'], ['pkts', 'pkt'], ['trifluoperazine', 'nonoperational'], ['patacetamol', 'paracetamol'], ['parancetamol', 'paracetamol'], ['unpototected', 'unprotected'], ['medicenes', 'medicines'], ['mger', 'mgr'], ['disorentation', 'disorientation'], ['primenaposal', 'prepositional'], ['rexalti', 'exaltation'], ['iritable', 'irritable'], ['impacient', 'impatient'], ['causede', 'caused'], ['anisocoria', 'antisocial'], ['roacuttane', 'cutaneous'], ['fosomax', 'Folsom'], ['urinination', 'urination'], ['stoptheclot', 'cheesecloth'], ['anaphlatic', 'Atlantic'], ['amevive', 'revive'], ['scamed', 'scammed'], ['vasculitus', 'vascular'], ['trenti', 'trench'], ['arthitis', 'arthritis'], ['woudn', 'wound'], ['amlodimine', 'melamine'], ['caramac', 'maraca'], ['suppresants', 'suppressants'], ['wellto', 'well to'], ['definitelly', 'definitely'], ['hallucinationa', 'hallucinations'], ['lbsmand', 'landsman'], ['showen', 'shown'], ['realllllly', 'realistically'], ['duromine', 'domineer'], ['hailles', 'hairless'], ['methroxate', 'methotrexate'], ['unrecognised', 'unrecognized'], ['irrritable', 'irritable'], ['primerin', 'primer in'], ['losey', 'lose'], ['unfortantely', 'unfortunately'], ['clonanzepam', 'monoclonal'], ['mft', 'mfr'], ['wpi', 'pi'], ['metorprolol', 'meteorology'], ['merkel', 'Terkel'], ['soritane', 'senorita'], ['walzyr', 'waltzer'], ['citirizine', 'criticizer'], ['volataren', 'volatile'], ['dypsnea', 'Snead'], ['anaphylactyic', 'prophylactic'], ['neurocare', 'neuronal'], ['prednislone', 'predisposition'], ['ideveloped', 'developed'], ['nosepads', 'notepads'], ['dayds', 'days'], ['clonazeapan', 'monoclonal'], ['meniscis', 'meniscus'], ['artiritis', 'arthritis'], ['phlemgn', 'phlegm'], ['allhat', 'all hat'], ['nitril', 'nitrite'], ['igoba', 'Tobago'], ['farely', 'fairly'], ['takada', 'Dakota'], ['orexigen', 'exigence'], ['synthethetic', 'synthetic'], ['motrine', 'Motrin'], ['chlmydia', 'chlamydia'], ['robotisation', 'corroboration'], ['apettie', 'appetite'], ['apathehtic', 'apathetic'], ['singnificantly', 'significantly'], ['gaucemole', 'guacamole'], ['labelling', 'labeling'], ['whed', 'wed'], ['intergestion', 'interesting'], ['daktrin', 'Trinidad'], ['ouy', 'oi'], ['benzodiazepiness', 'bloodthirstiness'], ['relif', 'relief'], ['vanos', 'vans'], ['moclobemide', 'epidemiology'], ['streeming', 'streaming'], ['disadventage', 'disadvantage'], ['meagre', 'meager'], ['unpigmented', 'pigmented'], ['fluourescent', 'fluorescent'], ['cardiomyothrapy', 'cardiomyopathy'], ['fluorouacil', 'fluoroscopic'], ['ovulateing', 'ovulating'], ['ibthought', 'bethought'], ['pkr', 'pkt'], ['fodmop', 'mopped'], ['wellchol', 'Howell'], ['rifaxin', 'rifling'], ['threatment', 'treatment'], ['immunosupressive', 'impressiveness'], ['promidant', 'predominant'], ['acyclovair', 'acyclovir'], ['likewas', 'like was'], ['wouldent', \"wouldn't\"], ['yippeeee', 'yippee'], ['albertsons', 'Culbertson'], ['stck', 'stick'], ['avorastatin', 'devastating'], ['abodinal', 'aboriginal'], ['latudia', 'latitudinal'], ['retacnyl', 'retailer'], ['diagmosed', 'diagnosed'], ['iudi', 'Audi'], ['akasteisia', 'asterisk'], ['covient', 'convenient'], ['possilby', 'possibly'], ['bisprolol', 'biologist'], ['daballs', 'balls'], ['contrl', 'control'], ['haden', 'harden'], ['reqired', 'rewired'], ['dayday', 'mayday'], ['donnagel', 'belladonna'], ['symbax', 'symbol'], ['cefdinar', 'cardinal'], ['loricets', 'Clorets'], ['freguent', 'frequent'], ['bubblepack', 'bubble pack'], ['voming', 'moving'], ['،', 'e'], ['nucyneta', 'nucleate'], ['bulima', 'bulimia'], ['substainable', 'sustainable'], ['venalafaxine', 'adrenaline'], ['tyleno', 'Tylenol'], ['cerebra', 'cerebra'], ['icp', 'pic'], ['gatden', 'garden'], ['mamgement', 'management'], ['ephoric', 'euphoric'], ['celaxa', 'cellar'], ['palimor', 'immoral'], ['abnormaly', 'abnormal'], ['suicidel', 'suicide'], ['accupuncurist', 'acupuncturist'], ['overwelmed', 'overwhelmed'], ['cioprodex', 'producible'], ['zolfran', 'wolfram'], ['bacorder', 'Cordoba'], ['tetbinafine', 'rabbinate'], ['frustruation', 'frustration'], ['figeting', 'fidgeting'], ['nuvival', 'survival'], ['klonipine', 'Klondike'], ['temazep', 'template'], ['vistail', 'vista'], ['schnitzler', 'schnitzel'], ['kilometres', 'kilometers'], ['nueropo', 'numerous'], ['aaccident', 'accident'], ['zanaflez', 'analyzable'], ['transfusioins', 'transfusions'], ['deadbug', 'dead bug'], ['antiobitic', 'antibiotic'], ['lipanthyl', 'antipathy'], ['zubslov', 'Slovak'], ['pychiactric', 'psychiatric'], ['azatioprin', 'privatization'], ['mariana', 'Mariana'], ['caraflam', 'Caracalla'], ['zerit', 'merit'], ['vertibrate', 'vertebrate'], ['psudeo', 'pseudo'], ['neuroligical', 'neurological'], ['contimplating', 'contemplating'], ['seuizures', 'seizures'], ['problemw', 'problem'], ['iboprufen', 'ibuprofen'], ['kylee', 'Kyle'], ['misscarriage', 'miscarriage'], ['fortuantly', 'fortunately'], ['nycyenta', 'encystment'], ['lavalo', 'lava lo'], ['cymalta', 'Malta'], ['tempatation', 'temptation'], ['namibia', 'Namibia'], ['meningtitis', 'meningitis'], ['anitibiotics', 'antibiotics'], ['preprared', 'prepared'], ['bleviqs', 'Blevins'], ['sebhoratic', 'theocratic'], ['cylclen', 'clemency'], ['nicorettes', 'concretes'], ['doxytetracycline', 'tetracycline'], ['pseudoarthrosis', 'osteoarthritis'], ['topirmirate', 'triumvirate'], ['epidulo', 'epidural'], ['wellburtrin', 'wellspring'], ['beclamethasone', 'blameworthiness'], ['availazble', 'available'], ['ostearthritis', 'osteoarthritis'], ['ctscan', 'ct scan'], ['alluropinal', 'alluring'], ['metforam', 'forename'], ['untili', 'until'], ['riclipsen', 'eclipse'], ['milemile', 'mile mile'], ['dramine', 'Dramamine'], ['happyii', 'happy ii'], ['decmber', 'December'], ['physcisian', 'physician'], ['mobix', 'mob ix'], ['insilent', 'insolent'], ['areva', 'area'], ['arimedex', 'Archimedes'], ['cateract', 'cataract'], ['fluoxutine', 'fluorine'], ['dramitcally', 'dramatically'], ['proprolanol', 'propellant'], ['tetrix', 'testatrix'], ['acetaminophe', 'acetaminophen'], ['artritric', 'arthritic'], ['aplogies', 'apologies'], ['mexotrexate', 'methotrexate'], ['naxplonon', 'explosion'], ['congition', 'cognition'], ['rhizotomies', 'rhizomes'], ['bupivocaine', 'Novocaine'], ['metidate', 'meditate'], ['quesiness', 'queasiness'], ['researh', 'rehears'], ['bter', 'biter'], ['podofilox', 'Filofax'], ['clynical', 'cynical'], ['cesearean', 'cesarean'], ['synthoids', 'synthesis'], ['noven', 'oven'], ['sebula', 'nebula'], ['cymballta', 'cymbal'], ['iate', 'ate'], ['urticarical', 'urticaria'], ['oxytr', 'oxymora'], ['spairing', 'spearing'], ['lazyness', 'laziness'], ['temezapam', 'temperament'], ['benzopien', 'benzine'], ['prinzmetal', 'printable'], ['ecip', 'esp'], ['sloooowly', 'slowly'], ['indigogirl', 'indigo girl'], ['osgood', 'Osgood'], ['schlatters', 'chatterers'], ['panal', 'anal'], ['pointess', 'pointless'], ['cervics', 'cervices'], ['seron', 'senor'], ['orthysia', 'airworthy'], ['scmidts', 'Schmidt'], ['steadys', 'steady'], ['recc', 'rec'], ['diazem', 'diadem'], ['unconcealable', 'concealable'], ['bbps', 'bps'], ['yamisn', 'misname'], ['gental', 'genital'], ['aneeno', 'anemone'], ['moisturtizer', 'moisturizer'], ['neubulizer', 'neutralizer'], ['telangectasia', 'televangelist'], ['vistatil', 'vista til'], ['heriated', 'herniated'], ['paxill', 'maxilla'], ['hyperplexia', 'perplexity'], ['dysreflexia', 'dyslexia'], ['ucb', 'cub'], ['polumyalgia', 'polynomial'], ['extremedy', 'extremely'], ['phantermine', 'predeterminer'], ['sfd', 'sf'], ['myleran', 'Lateran'], ['dasitinib', 'asininity'], ['against\\x7f', 'against'], ['dirreahea', 'diarrhea'], ['neudexta', 'extrude'], ['vagay', 'vagary'], ['sinustitis', 'sinusitis'], ['everrrrrrrrr', 'EverReady'], ['recommanded', 'recommended'], ['tresibas', 'Tiresias'], ['bioclusive', 'occlusive'], ['oxycotine', 'Oxycontin'], ['afforesis', 'afforests'], ['bvitamin', 'vitamin'], ['knightess', 'knightliness'], ['dailyand', 'daily and'], ['nopregnancy', 'no pregnancy'], ['procastinating', 'procrastinating'], ['phisohex', 'phisher'], ['coukd', 'could'], ['hercept', 'intercept'], ['estr', 'est'], ['viibryrd', 'vibratory'], ['insercion', 'insertion'], ['bicillin', 'billing'], ['constanty', 'constant'], ['saynotonexplannon', 'nonexplosive'], ['nuban', 'Cuban'], ['ramdom', 'random'], ['akthasia', 'aphasia'], ['cystrin', 'stringency'], ['betmega', 'bet mega'], ['addviar', 'adviser'], ['neuorologist', 'neurologist'], ['autoinject', 'auto inject'], ['remidies', 'remedies'], ['holisticly', 'holistically'], ['koliopin', 'opinion'], ['uams', 'yams'], ['excitalopram', 'extramarital'], ['whipple', 'Whipple'], ['bsn', 'ban'], ['housewifeandmothers', 'housemothers'], ['horriblely', 'horrible'], ['enterogam', 'interrogate'], ['viag', 'via'], ['focallin', 'calling'], ['studder', 'studded'], ['extraz', 'extra'], ['colman', 'conman'], ['deathadone', 'methadone'], ['sleepnessless', 'sleeplessness'], ['faitgued', 'fatigued'], ['sublaxity', 'sub laxity'], ['underscended', 'underscored'], ['ploughed', 'sloughed'], ['ketoprophen', 'prophetess'], ['tgs', 'ts'], ['hydroxychloroquin', 'hydroponically'], ['ctrapped', 'crapped'], ['anyneo', 'anyone'], ['insentress', 'intentness'], ['intelence', 'intelligence'], ['retalift', 'retaliate'], ['antidepressives', 'anti depressives'], ['fluoxine', 'fluorine'], ['paroxetina', 'parenting'], ['mirtazapina', 'mirthfulness'], ['niacina', 'niacin'], ['tripy', 'trip'], ['groggier', 'groggier'], ['phinermen', 'morphine'], ['trazdone', 'trained'], ['nurotin', 'neurotic'], ['abudctor', 'abductor'], ['smooking', 'smooching'], ['nicoret', 'nicotine'], ['predisinole', 'predisposition'], ['sunscreeen', 'sunscreen'], ['affortunally', 'fortunately'], ['mucle', 'mule'], ['vomting', 'voting'], ['dilatin', 'dilation'], ['rsn', 'ran'], ['bperd', 'beeper'], ['clonipin', 'clopping'], ['rotater', 'rotate'], ['diagonosis', 'diagnosis'], ['estrogel', 'estrogen'], ['australlia', 'Australia'], ['hydeoxzine', 'hydroxide'], ['hclfor', 'Clifford'], ['santanic', 'satanic'], ['withjn', 'within'], ['infertilty', 'infertility'], ['seren', 'sere'], ['halluncinated', 'hallucinated'], ['phisophex', 'philosopher'], ['phyrangitis', 'pharyngitis'], ['rosacae', 'aerospace'], ['iccasionally', 'occasionally'], ['ministat', 'mini stat'], ['wolff', 'Wolff'], ['coperative', 'operative'], ['regitine', 'regretting'], ['pge', 'peg'], ['colchine', 'col chine'], ['constipattion', 'constipation'], ['multicystic', 'multi cystic'], ['papulax', 'scapula'], ['rgdadad', 'granddad'], ['sicilian', 'Sicilian'], ['teethextraction', 'teeth extraction'], ['olutbreak', 'outbreak'], ['zoviraz', 'Karamazov'], ['spondylitous', 'serendipitous'], ['ensam', 'ens am'], ['acidophlus', 'acidulous'], ['velvivet', 'velvet'], ['feelingless', 'feeling less'], ['flucozanole', 'fluctuation'], ['nocardia', 'cardiac'], ['repatented', 're patented'], ['paraflex', 'para flex'], ['iincrease', 'increase'], ['tessaoln', 'tessellate'], ['wintergeen', 'wintergreen'], ['garbapentin', 'parenting'], ['bidil', 'Biddle'], ['micronidazole', 'microelectronic'], ['rłs', 'rs'], ['duladid', 'adulated'], ['wkout', 'wk out'], ['wiull', 'will'], ['bicalutimide', 'idealistically'], ['uriate', 'urinate'], ['semprex', 'empress'], ['iriitable', 'irritable'], ['zithromiacin', 'erythromycin'], ['diyalisis', 'dialysis'], ['limish', 'blimpish'], ['colonoisipy', 'colonoscopy'], ['murphys', 'Murphy'], ['ketonal', 'tonal'], ['usain', 'sustain'], ['maxide', 'Maxine'], ['phrma', 'pharmacy'], ['dicloflex', 'disclosed'], ['venlafaxing', 'ventilating'], ['hydroxzyine', 'hydroxide'], ['phm', 'ohm'], ['vevance', 'Vance'], ['reckitt', 'reciter'], ['benckiser', 'Heisenberg'], ['pressors', 'pressers'], ['popofol', 'portfolio'], ['balzina', 'ballerina'], ['undergrounders', 'under grounders'], ['definentley', 'defilement'], ['momday', 'mom day'], ['baddd', 'bad dd'], ['methalin', 'methanol'], ['alwayss', 'always'], ['tored', 'tired'], ['leviquin', 'Levine'], ['acheing', 'aching'], ['pryridium', 'presidium'], ['fontinal', 'intentional'], ['geers', 'gees'], ['malet', 'male'], ['miconizole', 'colonize'], ['difulcan', 'fanciful'], ['uncomforable', 'uncomfortable'], ['perpose', 'purpose'], ['treantments', 'treatments'], ['renatidine', 'grenadine'], ['dramimine', 'Dramamine'], ['diagonosed', 'diagnosed'], ['foxworthy', 'fox worthy'], ['amititiza', 'itemization'], ['ehealthme', 'health'], ['frusrating', 'frustrating'], ['mucinosis', 'mucilaginous'], ['perbuterol', 'profiterole'], ['paradoxial', 'paradoxical'], ['einsteins', 'Einsteins'], ['bccs', 'ABCs'], ['gorlin', 'goblin'], ['aceterin', 'interlace'], ['prier', 'prier'], ['percularilly', 'peculiarly'], ['dispare', 'dis pare'], ['lustre', 'luster'], ['panicless', 'panic less'], ['seraqual', 'several'], ['hjumira', 'Mirach'], ['vaginitus', 'vaginas'], ['roscaea', 'roseate'], ['donntal', 'Donaldson'], ['demetia', 'dementia'], ['prescribedby', 'prescribed by'], ['ppcm', 'ppm'], ['hyperlipedemia', 'hyperglycemia'], ['coritosol', 'solicitor'], ['dazidox', 'oxidation'], ['depakoke', 'departed'], ['sharted', 'shared'], ['groogy', 'groggy'], ['diorhea', 'diarrhea'], ['phsycharist', 'psychiatrist'], ['antitripsin', 'antitrust'], ['buldge', 'bulge'], ['monestat', 'molestation'], ['kazano', 'Kazan'], ['bloood', 'blood'], ['analyse', 'analyses'], ['marish', 'marsh'], ['iol', 'oil'], ['nicollet', 'Nicole'], ['aadd', 'add'], ['britillex', 'brittle'], ['proctection', 'protection'], ['chnge', 'tinge'], ['hullucinating', 'hallucinating'], ['dailu', 'daily'], ['sytoms', 'symptoms'], ['modafinl', 'modality'], ['irribility', 'irritability'], ['mgfor', 'mg for'], ['hortflushes', 'horseflesh'], ['theg', 'the'], ['prednisol', 'predispose'], ['arthoscopic', 'arthroscopic'], ['problelm', 'problem'], ['thrivin', 'thriving'], ['intuitiv', 'intuitive'], ['merca', 'mecca'], ['eus', 'sue'], ['geeez', 'jeez'], ['fregen', 'renege'], ['amitripaline', 'trampoline'], ['emberessing', 'embarrassing'], ['zombiness', 'zombies'], ['harmone', 'hormone'], ['oilyness', 'oiliness'], ['ostd', 'std'], ['monotherepy', 'monotheism'], ['psychlogical', 'psychological'], ['namd', 'damn'], ['vezuvius', 'Vesuvius'], ['sucraflate', 'statecraft'], ['mynpain', 'maintain'], ['rsds', 'rads'], ['acidopholis', 'acropolis'], ['painkilller', 'painkiller'], ['dialator', 'dilator'], ['ipbroprohen', 'proprietorship'], ['phisically', 'physically'], ['sharting', 'sharing'], ['spritnec', 'spritzer'], ['lifstyle', 'lifestyle'], ['defianatly', 'defiantly'], ['ferretin', 'ferreting'], ['hefore', 'before'], ['manyyy', 'many'], ['nauea', 'nausea'], ['rideing', 'riding'], ['shcooling', 'schooling'], ['oggt', 'togged'], ['definitally', 'definitely'], ['depekene', 'deepen'], ['unbelievablly', 'unbelievably'], ['antidepresseant', 'antidepressant'], ['distcontinued', 'discontinued'], ['alittl', 'Little'], ['limotrigine', 'limousine'], ['furesomide', 'venturesome'], ['sufffer', 'suffer'], ['experenced', 'experienced'], ['urelle', 'Laurel'], ['hyophen', 'hyphen'], ['clohing', 'clothing'], ['tackycardia', 'tachycardia'], ['gleutus', 'glutenous'], ['menstrstion', 'menstruation'], ['pedisures', 'pedicures'], ['twoface', 'two face'], ['woosey', 'Wolsey'], ['petbo', 'peepbo'], ['ulcerartive', 'ulceration'], ['melasamine', 'melamine'], ['angery', 'anger'], ['zolpedem', 'millipede'], ['inmmarch', 'matriarch'], ['nuvigi', 'vigil'], ['naltima', 'national'], ['grandmamickey', 'grandma mickey'], ['opd', 'pod'], ['pembrolizumab', 'embolization'], ['flintstone', 'flint stone'], ['laduta', 'adulate'], ['withdrwals', 'withdrawals'], ['undetetable', 'undetectable'], ['felcainide', 'Fellini'], ['nortryptiline', 'noncrystalline'], ['confrol', 'control'], ['fluexotine', 'Florentine'], ['definantely', 'definitely'], ['gastrollgist', 'astrologist'], ['remmission', 'remission'], ['relacore', 'albacore'], ['zzzquill', 'quizzical'], ['yday', 'day'], ['antib', 'anti'], ['respitalogist', 'escapologist'], ['recomanded', 'commandeered'], ['cniv', 'univ'], ['risidual', 'residual'], ['sclerorsis', 'sclerosis'], ['anoscopy', 'colonoscopy'], ['mialax', 'smilax'], ['cyprofloxacin', 'profligacy'], ['aceteminaphen', 'acetaminophen'], ['strintec', 'centrist'], ['antipsyscotic', 'sycophantic'], ['amoxillin', 'amoxicillin'], ['havening', 'ravening'], ['movalis', 'moralists'], ['khilley', 'Hillel'], ['opanaer', 'anaerobe'], ['membranoproliferative', 'nonproliferation'], ['cryoglobulinemia', 'immunoglobulin'], ['mersondyl', 'Emerson'], ['melicam', 'camellia'], ['easyer', 'easier'], ['minocylcline', 'geosyncline'], ['antipyscotics', 'antibiotics'], ['foreplays', 'foreplay'], ['spiolto', 'pistol'], ['hypocaloric', 'hypo caloric'], ['tretionin', 'retraction'], ['uncomftable', 'uncomfortable'], ['subsidise', 'subsidies'], ['startng', 'starting'], ['clenzing', 'clenching'], ['loloestrine', 'solitariness'], ['sinusitus', 'sinusitis'], ['pobagai', 'postbag'], ['altchuler', 'alterable'], ['katharinne', 'Katharine'], ['luckto', 'luck to'], ['incevik', 'evince'], ['mounth', 'mount'], ['constipationg', 'constipation'], ['diflu', 'fluid'], ['recoop', 'recoup'], ['horomonal', 'hormonal'], ['mircogestin', 'progestin'], ['relieif', 'relief'], ['dangersous', 'dangerous'], ['kegle', 'legless'], ['prescirbing', 'prescribing'], ['spasums', 'spasms'], ['cholonic', 'Nicholson'], ['fertilisation', 'fertilization'], ['vaiety', 'variety'], ['dgt', 'gt'], ['neurmous', 'enormous'], ['pheripheral', 'peripheral'], ['prescrption', 'prescription'], ['discusted', 'discussed'], ['coventions', 'conventions'], ['amatryptaline', 'noncrystalline'], ['prgressively', 'progressively'], ['undectatable', 'undetectable'], ['mugh', 'mug'], ['indomethicine', 'Indochinese'], ['betoptic', 'bet optic'], ['zobsolv', 'absolve'], ['monistot', 'monist'], ['neuropahty', 'nephropathy'], ['pallodan', 'pallor'], ['expercise', 'exercise'], ['colchizine', 'cochineal'], ['painlessness', 'painlessness'], ['ulse', 'slue'], ['shabang', 'shebang'], ['keratosi', 'keratitis'], ['cirrosis', 'cirrhosis'], ['harv', 'hare'], ['delutional', 'delusional'], ['swinges', 'swings'], ['inpalnt', 'paint'], ['ticing', 'citing'], ['kuric', 'uric'], ['squarmous', 'squamous'], ['delevoped', 'developed'], ['xtampza', 'Tampax'], ['phosphasoda', 'phosphate'], ['fostex', 'foster'], ['insertionion', 'insertion ion'], ['anticraving', 'anti craving'], ['get\\u200b', 'get'], ['sugeries', 'surgeries'], ['oteoarthritis', 'osteoarthritis'], ['lamoctal', 'lam octal'], ['optomolgist', 'entomologist'], ['rhuemotologist', 'hematologist'], ['dissppeared', 'disappeared'], ['ffeb', 'Feb'], ['witdrawal', 'withdrawal'], ['absolutey', 'absolute'], ['nexaplan', 'seaplane'], ['disentergrating', 'disintegrating'], ['moisturier', 'moisturizer'], ['prednisones', 'predestines'], ['enterography', 'stenography'], ['cavaties', 'cavities'], ['effexxor', 'effort'], ['tane', 'tame'], ['midfrontal', 'mid frontal'], ['infiximab', 'inflammable'], ['follw', 'foll'], ['dryed', 'dyed'], ['fibromialmgia', 'fibrillation'], ['coloxal', 'colossal'], ['retuximab', 'returnable'], ['dermatographia', 'cinematographic'], ['trentillix', 'centiliter'], ['alwaysbhas', 'hallways'], ['paralyized', 'paralyzed'], ['mireena', 'Maureen'], ['movic', 'movie'], ['trinellix', 'treeline'], ['bugers', 'boogers'], ['humulog', 'humus'], ['honours', 'honors'], ['disconinuing', 'discontinuing'], ['hemaglobin', 'hemoglobin'], ['burlington', 'Burlington'], ['aclasta', 'coastal'], ['oxyface', 'outface'], ['estilar', 'testicular'], ['triamcinaline', 'criminalize'], ['medictions', 'medications'], ['rheumone', 'rheum one'], ['myaloid', 'alkaloid'], ['leukaemia', 'leukemia'], ['multimineral', 'multi mineral'], ['cerell', 'cereal'], ['drowisness', 'drowsiness'], ['bacterical', 'bacterial'], ['sitosteral', 'literalness'], ['inflam', 'inflame'], ['dysmophic', 'dysphoric'], ['fortical', 'cortical'], ['neulester', 'Westerner'], ['virgina', 'virgins'], ['disconfort', 'discomfort'], ['lessing', 'leasing'], ['smd', 'sad'], ['i̇ntense', 'intense'], ['dopamin', 'dopamine'], ['metronidizole', 'metropolitan'], ['finecea', 'finance'], ['lamtical', 'tactical'], ['natachew', 'attache'], ['viibriyd', 'vibrated'], ['paget', 'pager'], ['platlettes', 'platelets'], ['emenlsy', 'Clemens'], ['sezuires', 'seizures'], ['zydara', 'Faraday'], ['disphoric', 'dysphoric'], ['ivu', 'ivy'], ['ibroprufen', 'ibuprofen'], ['exstra', 'extra'], ['rubinol', 'bilirubin'], ['antichollergenic', 'hypoallergenic'], ['trentinion', 'intervention'], ['hypermanic', 'hyper manic'], ['obseen', 'ob seen'], ['tsken', 'taken'], ['quasimoto', 'Quasimodo'], ['weightc', 'weight'], ['trileptel', 'teleprinter'], ['succinlycholine', 'succinctness'], ['lamisal', 'Salamis'], ['cicloporix', 'soporific'], ['dryheaved', 'dry heaved'], ['plumanory', 'paranormal'], ['itchey', 'itchy'], ['bloodlike', 'bloodline'], ['reaked', 'reached'], ['aprupt', 'abrupt'], ['someome', 'someone'], ['larangytis', 'laryngitis'], ['unslept', 'slept'], ['osteporosis', 'osteoporosis'], ['clariton', 'clarion'], ['gambet', 'gambit'], ['odur', 'dour'], ['antibac', 'antibacterial'], ['hocm', 'hock'], ['sertraliine', 'neutralizer'], ['beliieve', 'believe'], ['afraiid', 'afraid'], ['peoplle', 'people'], ['flushs', 'flush'], ['gerax', 'Gerard'], ['heving', 'heaving'], ['huting', 'hooting'], ['tamsuloin', 'insulation'], ['panicy', 'panic'], ['cocyx', 'coccyx'], ['panuveitis', 'pan uveitis'], ['antiphospholidid', 'phosphorylation'], ['sulidac', 'suicidal'], ['ompeprazole', 'teleprompter'], ['ibrupofen', 'ibuprofen'], ['fluxetine', 'Florentine'], ['septemeber', 'September'], ['nauseosness', 'nauseousness'], ['ecsess', 'essences'], ['icsi', 'SCSI'], ['flx', 'fl'], ['terrrrrrrible', 'terribleness'], ['fluororacil', 'fluoroscopic'], ['chanca', 'chance'], ['permenateoy', 'permeation'], ['timister', 'ti mister'], ['geezergirl', 'geezer girl'], ['odansetron', 'transponder'], ['miripex', 'Miriam'], ['hyrocodone', 'hydrophone'], ['acetamphine', 'acetaminophen'], ['sbux', 'buxom'], ['excerbate', 'exacerbate'], ['medictaed', 'medicated'], ['anular', 'annular'], ['crampa', 'cramps'], ['fainy', 'faint'], ['betaderm', 'Bernadette'], ['coash', 'cosh'], ['vinagrettes', 'vinaigrette'], ['worsttt', 'worst'], ['almst', 'alms'], ['contiuing', 'continuing'], ['appetie', 'appetite'], ['stirverdi', 'stirrer'], ['amitriptiline', 'rectilinear'], ['prostititus', 'prostitutes'], ['brintillix', 'brilliantine'], ['vericos', 'varicose'], ['traxene', 'trainee'], ['losartinhtz', 'nonpartisan'], ['tirosant', 'Tirolean'], ['homornal', 'hormonal'], ['pantilinier', 'pantyliner'], ['shatered', 'shattered'], ['sfreak', 'freak'], ['drugest', 'drug est'], ['resperidol', 'desperadoes'], ['kloninipin', 'Klondike'], ['unforetunately', 'unfortunately'], ['wakin', 'wain'], ['livido', 'libido'], ['reticularious', 'reticulations'], ['tolosa', 'colossal'], ['figidy', 'frigid'], ['disharge', 'discharge'], ['hepmag', 'hep mag'], ['gurd', 'gird'], ['kopectate', 'spectate'], ['imodiums', 'Imodium'], ['sleu', 'slue'], ['focalic', 'vocalic'], ['metasomethingoranother', 'something'], ['rebismart', 'Bismark'], ['gasteronolist', 'gastroenteritis'], ['amlodopin', 'dopamine'], ['brint', 'brunt'], ['wamo', 'ammo'], ['caefully', 'carefully'], ['abnomalities', 'abnormalities'], ['reluctent', 'reluctant'], ['reppeat', 'repeat'], ['latus', 'talus'], ['meteformin', 'reformatting'], ['dissase', 'disease'], ['armui', 'Armani'], ['halp', 'halo'], ['pharnygitis', 'pharyngitis'], ['asymtomatic', 'asymptomatic'], ['jannsen', 'Jansen'], ['chondroiden', 'rhododendron'], ['lipoid', 'lipid'], ['grm', 'gem'], ['diskenesia', 'Dickensian'], ['sparatic', 'parasitic'], ['emetophobe', 'technophobe'], ['flautulence', 'flatulence'], ['barret', 'barter'], ['rifaxamin', 'examiner'], ['marciano', 'Marciano'], ['proamatine', 'proclamation'], ['lighheadedness', 'pigheadedness'], ['umderstandably', 'understandably'], ['fidgit', 'fidget'], ['antidepessants', 'antidepressants'], ['unstead', 'instead'], ['edreams', 'dreams'], ['lezine', 'zine'], ['obcessive', 'obsessive'], ['gteat', 'great'], ['undetectedable', 'undetected able'], ['exenadil', 'grenadine'], ['schizoaffactive', 'psychoactive'], ['klyeena', 'Keenan'], ['ilio', 'ilia'], ['agitaton', 'agitation'], ['contiflo', 'contraflow'], ['zolidem', 'collide'], ['thygeson', 'Theosophy'], ['suboxome', 'subsume'], ['effwcts', 'effects'], ['nausia', 'nausea'], ['ibiprophen', 'prophesier'], ['feommigrains', 'migraines'], ['gabopentin', 'parenting'], ['recooperate', 'recuperate'], ['heirschprungs', 'Hertzsprung'], ['reopend', 'reopens'], ['iacute', 'acute'], ['timberlake', 'timber lake'], ['walken', 'waken'], ['ampheta', 'amphetamine'], ['guaifenisin', 'stiffening'], ['displine', 'discipline'], ['foclin', 'formalin'], ['lilltle', 'Lille'], ['babytalk', 'baby talk'], ['hidrocortizone', 'cortisone'], ['docor', 'door'], ['mitraxepam', 'pastrami'], ['azithromynic', 'erythromycin'], ['stugeron', 'sturgeon'], ['hydroxyz', 'hydrolyze'], ['viibrys', 'vibratory'], ['ptmazeik', 'kamikaze'], ['azothromycin', 'erythromycin'], ['flatlence', 'flatulence'], ['itworks', 'it works'], ['plataued', 'plateaued'], ['uresolved', 'resolved'], ['fibroymalgia', 'fibrillation'], ['amoxyclav', 'amoxicillin'], ['statted', 'started'], ['canesoral', 'canes oral'], ['efflexor', 'reflexology'], ['geeeez', 'geezer'], ['condomn', 'condom'], ['anandia', 'Indianan'], ['impct', 'impact'], ['innattentive', 'inattentive'], ['scoplamine', 'complainer'], ['programmes', 'programmed'], ['modecate', 'moderate'], ['medecines', 'medicines'], ['diverticuitus', 'diverticulitis'], ['motilium', 'mot ilium'], ['jubia', 'Nubia'], ['pfb', 'pf'], ['chromobright', 'chromosome'], ['atracks', 'attacks'], ['diarea', 'diarrhea'], ['musle', 'muse'], ['consquently', 'consequently'], ['feelling', 'filling'], ['forgorgotten', 'forgotten'], ['cystoscopes', 'stethoscopes'], ['hiprev', 'hip rev'], ['retrigger', 're trigger'], ['vains', 'vain'], ['gastroentorologist', 'Gastroenterology'], ['doeses', 'dowses'], ['talsk', 'talks'], ['narvasc', 'NASCAR'], ['eociniphilic', 'eosinophilic'], ['hbr', 'hr'], ['looow', 'loo ow'], ['prefere', 'prefer'], ['wasbalways', 'walkways'], ['inmodium', 'Imodium'], ['hourd', 'gourd'], ['experiensing', 'experiencing'], ['respitatory', 'respiratory'], ['firocet', 'retrofire'], ['endocrinlogist', 'endocrinologist'], ['subsubsided', 'sub subsided'], ['novolinn', 'Novocain'], ['opticans', 'opticians'], ['propropanol', 'propaganda'], ['psoriases', 'psoriasis'], ['stumach', 'stomach'], ['dealindealin', 'dealing'], ['streptoccocus', 'streptococcus'], ['concour', 'concur'], ['iuf', 'if'], ['extrathoracic', 'extra thoracic'], ['butook', 'betook'], ['ibc', 'inc'], ['mucosae', 'mucous'], ['mucosas', 'mucous'], ['infsuion', 'infusion'], ['bmbut', 'Mobutu'], ['cmybalta', 'cobalt'], ['slughish', 'sluggish'], ['clanazepam', 'Campanella'], ['gluconoma', 'glaucoma'], ['scholiosis', 'scoliosis'], ['demulen', 'demulcent'], ['varapamil', 'paramilitary'], ['gother', 'other'], ['responsibilitys', 'responsibility'], ['tamaze', 'amaze'], ['wrks', 'works'], ['sobtiey', 'sobriety'], ['escotalopram', 'escalope'], ['catspaw', 'cats paw'], ['contreptives', 'contraceptives'], ['tympanostomy', 'tympanist'], ['diprosone', 'Proserpine'], ['alreaty', 'already'], ['suside', 'subside'], ['sequirrel', 'squirrel'], ['slimquick', 'slim quick'], ['ornade', 'ornate'], ['llb', 'LLB'], ['aborbed', 'absorbed'], ['staw', 'swat'], ['efffective', 'effective'], ['loxapac', 'papacy'], ['capulitus', 'capitulates'], ['cpainful', 'painful'], ['zub', 'sub'], ['daay', 'day'], ['alottle', 'allotted'], ['noritripteline', 'nonprescription'], ['succeededin', 'succeeded in'], ['oztela', 'Estela'], ['intese', 'intense'], ['sidenafil', 'residential'], ['incrwase', 'increase'], ['tolak', 'Tortola'], ['iovulated', 'ovulated'], ['premama', 'premature'], ['migrain', 'migraine'], ['propinate', 'propitiate'], ['paterner', 'paternoster'], ['nauceous', 'nauseous'], ['particepated', 'participated'], ['agrevatred', 'aggravated'], ['neproxen', 'neoprene'], ['subtitutes', 'substitutes'], ['urintary', 'urinary'], ['appying', 'applying'], ['despersonalitation', 'denationalization'], ['parcial', 'partial'], ['disdapear', 'dispensary'], ['worstened', 'worsened'], ['extrolax', 'extrapolate'], ['lada', 'lads'], ['uggg', 'fuggy'], ['cancun', 'Cancun'], ['grandious', 'grandiose'], ['trentenoin', 'Trenton'], ['getts', 'gets'], ['lytely', 'lately'], ['verapramil', 'paramilitary'], ['fistulizing', 'finalizing'], ['rheumatolgist', 'hematologist'], ['braf', 'barf'], ['folfironox', 'flatiron'], ['colcichine', 'cochineal'], ['celestone', 'cobblestone'], ['metrondizole', 'metronome'], ['topamirate', 'ameliorate'], ['yasemin', 'seminary'], ['firbo', 'firebox'], ['grafton', 'Grafton'], ['distonic', 'diatonic'], ['laminectamy', 'calamine'], ['vesions', 'versions'], ['selfpay', 'self pay'], ['eveng', 'even'], ['trental', 'rental'], ['supervi', 'super vi'], ['nexplanton', 'explanation'], ['recemend', 'rec emend'], ['paresthetica', 'parenthetical'], ['threonate', 'threaten'], ['triskets', 'trinkets'], ['ciprilex', 'principle'], ['unlive', 'unlike'], ['nexabiotic', 'antibiotic'], ['respiritone', 'respiration'], ['occuvite', 'occupied'], ['amlodepine', 'epinephrine'], ['famotadine', 'Ahmadinejad'], ['horryifying', 'horrifying'], ['hypnogogic', 'hypnotic'], ['libia', 'alibi'], ['oby', 'boy'], ['abortants', 'abort ants'], ['welchor', 'Melchior'], ['activella', 'active'], ['pistule', 'pustule'], ['valocyclovir', 'acyclovir'], ['naratrex', 'narrate'], ['cfresh', 'fresh'], ['ascopost', 'apostasy'], ['testosteroneanastrozole', 'testosterone'], ['snaggling', 'snagging'], ['moxi', 'moi'], ['bicyclics', 'bicyclists'], ['lynthia', 'Cynthia'], ['sybacourt', 'courtesy'], ['dimox', 'dim ox'], ['maxillaries', 'maxillary'], ['cycally', 'cyclically'], ['magnisa', 'Mascagni'], ['hirtutism', 'Chartism'], ['refulx', 'ireful'], ['unwantedpreg', 'unwarranted'], ['absoulety', 'absolute'], ['terified', 'terrified'], ['dysthmic', 'rhythmic'], ['dilaudids', 'Claudius'], ['maintenece', 'maintenance'], ['acirc', 'circa'], ['colcris', 'Coriolis'], ['sehcat', 'Scheat'], ['jolley', 'jolly'], ['frustratratingly', 'frustratingly'], ['respiredone', 'respire done'], ['ocycontin', 'Oxycontin'], ['fqs', 'fps'], ['watfarin', 'wayfaring'], ['vineager', 'vinegar'], ['triglynase', 'triglyceride'], ['zoryl', 'Zorro'], ['upsher', 'pusher'], ['bloatness', 'bluntness'], ['hydroxychloriquine', 'hydroelectricity'], ['eplipsy', 'epilepsy'], ['eptoine', 'inept'], ['lamitrogen', 'nitrogen'], ['virge', 'verge'], ['brintelllex', 'intelligible'], ['cirrossis', 'cirrhosis'], ['uncureable', 'unreachable'], ['piv', 'pic'], ['cortisoid', 'cortisone'], ['altoids', 'Altoids'], ['arthrexin', 'arthritis'], ['lengout', 'lengthen'], ['serquil', 'quilter'], ['alveoplasty', 'angioplasty'], ['tartarate', 'tartar ate'], ['nitrest', 'nit rest'], ['disciption', 'discretion'], ['viyagra', 'Viagra'], ['acitve', 'active'], ['codcodamal', 'codswallop'], ['procuredure', 'procedure'], ['reweaning', 'reweaving'], ['deppendency', 'dependency'], ['roserum', 'rostrum'], ['consiously', 'consciously'], ['testicules', 'testicles'], ['tbey', 'bey'], ['bananna', 'banana'], ['sheeeesh', 'sheerness'], ['snackin', 'snacking'], ['relistore', 'relist ore'], ['ganed', 'gamed'], ['chlorohydrate', 'carbohydrate'], ['carlories', 'calories'], ['kegels', 'keels'], ['venaflaxin', 'venality'], ['pleassed', 'pleased'], ['mindfull', 'mindful'], ['gatoraide', 'gator aide'], ['macrobin', 'mac robin'], ['outsite', 'outside'], ['simzia', 'simian'], ['bpap', 'bap'], ['psoriasin', 'psoriasis'], ['discloation', 'dislocation'], ['glossitis', 'glottis'], ['pharangitis', 'pharyngitis'], ['ratinidine', 'ratiocinate'], ['scerlitis', 'cellulitis'], ['labialis', 'labials'], ['sadimmun', 'sadism'], ['sandimmun', 'sandiness'], ['cytaphil', 'Caerphilly'], ['nutraderm', 'NutraSweet'], ['untilii', 'until ii'], ['unfortanely', 'unfortunately'], ['giavani', 'Giannini'], ['bearabl', 'bearable'], ['trikendi', 'trendily'], ['eduring', 'during'], ['mynetdiary', 'intermediary'], ['wihich', 'which'], ['byaz', 'byway'], ['inscure', 'insure'], ['cymbaltia', 'cymbalist'], ['phsysical', 'physical'], ['sumptoms', 'symptoms'], ['samles', 'sames'], ['mallinkrodt', 'maladroit'], ['swollennes', 'swollen'], ['swolleness', 'swollen'], ['aliken', 'alike'], ['gip', 'pig'], ['globbing', 'globing'], ['aesophagus', 'esophagus'], ['mucinexdm', 'medicine'], ['robutussindm', 'Robitussin'], ['cholest', 'coolest'], ['amitrptyline', 'pantyliner'], ['neuopathy', 'nephropathy'], ['parathisia', 'Parthia'], ['interstalial', 'interstitial'], ['cystalis', 'cymbalist'], ['brests', 'bests'], ['softcup', 'soft cup'], ['duofilm', 'duo film'], ['durgesic', 'geodesic'], ['ibrophen', 'Ribbentrop'], ['pompeii', 'Pompeii'], ['yeasties', 'yeastiest'], ['ovnoxious', 'obnoxious'], ['rhinal', 'urinal'], ['iidon', 'ii don'], ['musseltone', 'mussel tone'], ['tendenonites', 'Mennonites'], ['rhizodamies', 'rhizomes'], ['gangliotimies', 'angioplasties'], ['silodal', 'sinusoidal'], ['rosaeca', 'Rosales'], ['deanvir', 'Deandre'], ['mederol', 'Demerol'], ['venafaxine', 'venation'], ['aacute', 'acute'], ['othwise', 'otherwise'], ['norflox', 'Norfolk'], ['headback', 'head back'], ['swiching', 'switching'], ['ibuphrofen', 'ibuprofen'], ['lauda', 'lauds'], ['noddles', 'noddles'], ['oxcarb', 'boxcar'], ['stabilzed', 'stabilized'], ['mirvasa', 'Minerva'], ['ambilify', 'amplify'], ['heyyyy', 'heyday'], ['nitrofurontoin', 'trinitrotoluene'], ['flexril', 'flexible'], ['valcade', 'cavalcade'], ['akron', 'Akron'], ['salicylamide', 'acrylamide'], ['clindaymcin', 'clinician'], ['cigg', 'cigar'], ['fascitiis', 'fascistic'], ['cattack', 'attack'], ['oestrogen', 'estrogen'], ['filipina', 'Filipino'], ['crampness', 'crassness'], ['oxycodoness', 'deaconess'], ['fissurrectomy', 'insurrectionist'], ['hemorroidectomy', 'hemorrhoid'], ['mojave', 'Mojave'], ['ticonazole', 'narcoleptic'], ['highlyy', 'highly'], ['nexplananon', 'explanation'], ['dificid', 'edifice'], ['dnri', 'INRI'], ['treclin', 'recline'], ['lymecyclin', 'recycling'], ['cerviix', 'cervix'], ['generlised', 'generalized'], ['quazepam', 'equalize'], ['doriden', 'ridden'], ['emptional', 'emotional'], ['casode', 'cascade'], ['casadex', 'cascade'], ['lethergic', 'lethargic'], ['pfs', 'fps'], ['drumt', 'drum'], ['clindi', 'clinic'], ['charlottesville', 'Chancellorsville'], ['contrarey', 'contrary'], ['morracan', 'Moroccan'], ['clonepan', 'clone pan'], ['abreba', 'Reba'], ['movemnets', 'movements'], ['lbd', 'dbl'], ['administrationon', 'administration on'], ['medicationand', 'medication and'], ['inolves', 'involves'], ['linosopril', 'eosinophilic'], ['fibromalga', 'fibrillation'], ['rdday', 'rd day'], ['amocilillin', 'amoxicillin'], ['ramdon', 'random'], ['syndr', 'syndrome'], ['bullimia', 'bulimia'], ['clesring', 'clearing'], ['mellaril', 'Merrill'], ['premenapausal', 'menopausal'], ['metoprolil', 'metropolis'], ['aimtrip', 'aim trip'], ['wuwt', 'wurst'], ['chatel', 'chalet'], ['wantbto', 'wanton'], ['hadno', 'had no'], ['tensity', 'tensity'], ['sympt', 'symptom'], ['mersa', 'mesa'], ['kindve', 'kindle'], ['palitations', 'palpitations'], ['bronquitis', 'inquisitions'], ['harahan', 'Saharan'], ['phamies', 'pharmacies'], ['norcolut', 'convoluted'], ['sometim', 'sometime'], ['venogram', 'monogram'], ['monista', 'monists'], ['signt', 'sign'], ['samter', 'master'], ['extacy', 'extract'], ['butisol', 'absolutist'], ['grrecords', 'gr records'], ['conguiding', 'con guiding'], ['anes', 'ans'], ['lighty', 'light'], ['ricter', 'ricer'], ['fluxuating', 'fluctuating'], ['tinglies', 'tingles'], ['nortrip', 'nor trip'], ['thinnners', 'thinners'], ['tadarise', 'tad arise'], ['ibuprfen', 'ibuprofen'], ['tramatising', 'traumatizing'], ['viibrryd', 'vibratory'], ['adjustible', 'adjustable'], ['totely', 'telly'], ['luckely', 'luckily'], ['persoanlly', 'personally'], ['nexy', 'next'], ['psin', 'spin'], ['modafanil', 'Modigliani'], ['crappyness', 'crappies'], ['pseudefed', 'pseudonym'], ['yeak', 'teak'], ['ahhd', 'Fahd'], ['presribe', 'prescribe'], ['gastrologist', 'astrologist'], ['dermatogolist', 'dermatologist'], ['hormores', 'hormones'], ['tretinon', 'Trevino'], ['tarkive', 'talkative'], ['citalopra', 'circuital'], ['metrorrage', 'metronome'], ['irratic', 'erratic'], ['adair', 'ad air'], ['biafra', 'Arabia'], ['developled', 'developed'], ['didulud', 'diddums'], ['antifree', 'anti free'], ['pocketpaks', 'pocketbooks'], ['blist', 'list'], ['amoxycylin', 'amoxicillin'], ['feelig', 'feeling'], ['licenced', 'licensed'], ['lamorigine', 'Aborigine'], ['transidone', 'transition'], ['ufffd', 'duff'], ['zzquill', 'quill'], ['iboprofen', 'ibuprofen'], ['irriatated', 'irritated'], ['chilcott', 'cottontail'], ['seviere', 'severe'], ['aimost', 'almost'], ['rootsgal', 'roots gal'], ['revisitng', 'revising'], ['bulg', 'bug'], ['dryl', 'dry'], ['champus', 'champs'], ['rozarem', 'mozzarella'], ['flaxyne', 'flannel'], ['persecutive', 'persecution'], ['prblm', 'problem'], ['norgestrel', 'songstress'], ['eefects', 'defects'], ['fainty', 'dainty'], ['drinkng', 'drinking'], ['azythromicin', 'erythromycin'], ['osteporisis', 'osteoporosis'], ['mworst', 'worst'], ['christmastime', 'Christmastime'], ['spuratic', 'puristic'], ['janeiro', 'Janine'], ['interdispersed', 'inter dispersed'], ['heinekens', 'Heineken'], ['aventyl', 'Aventine'], ['hodgin', 'hod gin'], ['varms', 'vars'], ['lasick', 'la sick'], ['lipstock', 'lipstick'], ['srink', 'drink'], ['lemoncrystal', 'lemon crystal'], ['plantarfascitis', 'antifascists'], ['mgas', 'mags'], ['myelogram', 'parallelogram'], ['dextrastat', 'devastator'], ['novomix', 'Novocain'], ['subtitude', 'subtitle'], ['hsve', 'have'], ['lifechanger', 'life changer'], ['triavi', 'trivia'], ['letf', 'left'], ['flishing', 'flushing'], ['profucious', 'precious'], ['topcare', 'top care'], ['brookshires', 'brook shires'], ['ooozing', 'oozing'], ['jnto', 'into'], ['kegal', 'legal'], ['internalised', 'internalized'], ['akathsia', 'Kathiawar'], ['infecwtion', 'infection'], ['gert', 'get'], ['glucoses', 'glucose'], ['flouroquinolones', 'flourishes'], ['equivelence', 'equivalence'], ['lisinapril', 'Indianapolis'], ['neather', 'neater'], ['pitzotifen', 'pestiferous'], ['valporate', 'evaporate'], ['coldamol', 'colloidal'], ['embarresing', 'embarrassing'], ['evets', 'eves'], ['swithch', 'switch'], ['estogen', 'estrogen'], ['partem', 'parted'], ['ginnue', 'ingenue'], ['xboyfriend', 'boyfriend'], ['lubosacrial', 'sacrificial'], ['dropfoot', 'drop foot'], ['vicitrol', 'Victrola'], ['gabapentim', 'presentiment'], ['expierance', 'experience'], ['zimovane', 'immovable'], ['macoven', 'ma coven'], ['appox', 'approx'], ['coranary', 'coronary'], ['enzynes', 'enzymes'], ['noticabley', 'noticeably'], ['surpression', 'suppression'], ['gabatril', 'Gabriela'], ['kerafoam', 'keratin'], ['docyor', 'doctor'], ['epanutin', 'minutiae'], ['siezures', 'seizures'], ['psoariasis', 'psoriasis'], ['arrava', 'avatar'], ['rutuxin', 'rutting'], ['hopful', 'hopeful'], ['incevic', 'evince'], ['targretin', 'regretting'], ['clobestasol', 'contestable'], ['forgetabble', 'forgettable'], ['umf', 'um'], ['depacote', 'departed'], ['countinuous', 'continuous'], ['monitorig', 'monitoring'], ['insuline', 'insulin'], ['syntons', 'syn tons'], ['bacically', 'basically'], ['privefem', 'primitive'], ['zonleplon', 'weaponless'], ['occcasionally', 'occasionally'], ['nitrostat', 'nitro stat'], ['perminant', 'determinant'], ['phsyllium', 'Phyllis'], ['rimso', 'rims'], ['urostym', 'rostrum'], ['polystirex', 'polystyrene'], ['dmx', 'DMD'], ['agonazing', 'agonizing'], ['beslomra', 'besmear'], ['tamazepan', 'amazement'], ['propafenon', 'propagation'], ['djavus', 'Gustavus'], ['ilogical', 'logical'], ['foccused', 'focused'], ['djavu', 'java'], ['kepts', 'kept'], ['mediciane', 'medicine'], ['discontinoued', 'discontinued'], ['ridgidity', 'rigidity'], ['lisiniopril', 'Listerine'], ['pancrecarb', 'pancreatic'], ['zypreza', 'prezzie'], ['dymisia', 'dynamism'], ['opi', 'poi'], ['eeyore', 'Eeyore'], ['handleable', 'handle able'], ['laclotion', 'lac lotion'], ['begam', 'began'], ['undersatement', 'understatement'], ['curology', 'urology'], ['routie', 'rouse'], ['treitonin', 'serotonin'], ['babo', 'babe'], ['uncomfertable', 'uncomfortable'], ['idd', 'did'], ['spraning', 'spraining'], ['lcl', 'll'], ['lasic', 'Vlasic'], ['naseauss', 'nauseates'], ['chashed', 'chased'], ['golytly', 'golly'], ['obsene', 'obscene'], ['paidpeople', 'paid people'], ['mnkd', 'mink'], ['nesusea', 'Sudanese'], ['micoazole', 'polemical'], ['adapex', 'ad apex'], ['bloodwrk', 'bloodstock'], ['homotropine', 'phototropism'], ['ventriculoperitoneal', 'atrioventricular'], ['follihair', 'Apollinaire'], ['xtragrow', 'outgrow'], ['beakfast', 'breakfast'], ['juene', 'June'], ['myinsurance', 'my insurance'], ['switchng', 'switching'], ['manufactor', 'manufacturer'], ['dermatayocitis', 'dermatitis'], ['truvuda', 'Trudeau'], ['apipex', 'apex'], ['equaline', 'equaling'], ['pumpspray', 'pump spray'], ['awile', 'wile'], ['nitr', 'nit'], ['advill', 'adv ill'], ['relunctantly', 'reluctantly'], ['greesy', 'greedy'], ['phenargan', 'shenanigan'], ['vraylart', 'waylayer'], ['urologix', 'urologist'], ['cooltherm', 'cool therm'], ['tumt', 'mutt'], ['migrainosis', 'migraines'], ['grapeish', 'grapeshot'], ['xper', 'per'], ['askina', 'asking'], ['stabalizes', 'stabilizes'], ['awkword', 'awkward'], ['tiraspol', 'transpolar'], ['chelitis', 'elitist'], ['vulve', 'vulvae'], ['cephalon', 'cephalic'], ['inbeded', 'inbreed'], ['celcept', 'precept'], ['polarism', 'polar ism'], ['zanix', 'Azania'], ['optibac', 'optical'], ['mcneil', 'McNeil'], ['avpd', 'avdp'], ['senitizing', 'sensitizing'], ['densitize', 'sensitize'], ['wowww', 'bowwow'], ['vaj', 'van'], ['sjorgen', 'Jorge'], ['rcashed', 'crashed'], ['adusting', 'dusting'], ['teatree', 'tea tree'], ['peripherical', 'peripheral'], ['jall', 'hall'], ['andwhen', 'and when'], ['relized', 'relied'], ['convienet', 'convenient'], ['dextroamphetamines', 'methamphetamine'], ['dartmouth', 'Dartmouth'], ['hitchcock', 'Hitchcock'], ['tramal', 'tram'], ['lomodil', 'moodily'], ['fidigity', 'frigidity'], ['uncalm', 'uncial'], ['pusy', 'poesy'], ['ppersistent', 'persistent'], ['polycistic', 'polytheistic'], ['laporoscip', 'laparoscopic'], ['butans', 'butane'], ['fentynyl', 'aplenty'], ['sunked', 'chunked'], ['mylax', 'my lax'], ['labram', 'lab ram'], ['miconozale', 'economical'], ['belize', 'Belize'], ['hydrocholorothiazide', 'hydroelectrically'], ['mistakened', 'mistaken ed'], ['stinosis', 'stenosis'], ['gontlet', 'gantlet'], ['flakeyness', 'flakiness'], ['pravafram', 'program'], ['sporadical', 'sporadically'], ['medicince', 'medicine'], ['oristat', 'satori'], ['aweets', 'sweets'], ['daignosed', 'diagnosed'], ['shouldes', 'shoulders'], ['risperodone', 'periodontist'], ['simptoms', 'symptoms'], ['horriably', 'horribly'], ['rosashe', 'Rosales'], ['ocudose', 'escudo'], ['sonicboom', 'sonic boom'], ['relitively', 'relatively'], ['hydrochloroquine', 'hydrocephalus'], ['brainfog', 'brain fog'], ['rawal', 'Tarawa'], ['afzal', 'azalea'], ['lavora', 'flavor'], ['dermatelomania', 'dermatological'], ['differwnce', 'difference'], ['folgers', 'golfers'], ['nescaffe', 'Nescafe'], ['catastrophisizing', 'sophisticating'], ['cbreak', 'creak'], ['virbezi', 'vizier'], ['hindenburg', 'Hindenburg'], ['volvodaneia', 'Valvoline'], ['paib', 'pain'], ['celxia', 'Cecelia'], ['seratline', 'ratline'], ['enbroe', 'unbroken'], ['nulytly', 'nullity'], ['gastropries', 'proprietaries'], ['palperidone', 'periodontal'], ['iiic', 'iii'], ['immunisation', 'immunization'], ['relastor', 'restore'], ['gaberpentin', 'serpentine'], ['festivies', 'fest ivies'], ['mcat', 'mat'], ['robaviron', 'probation'], ['robavirin', 'riboflavin'], ['azasite', 'parasite'], ['dosses', 'dozes'], ['primperan', 'impermanent'], ['sleepingpills', 'sleeping pills'], ['zpaks', 'Parks'], ['anafelactic', 'anticlimactic'], ['norotin', 'rotting'], ['papilledimia', 'papillae'], ['amitizal', 'militiaman'], ['reaserch', 'research'], ['qysimia', 'simian'], ['nighte', 'night'], ['verey', 'very'], ['aipex', 'apex'], ['ourbursts', 'outbursts'], ['ceralip', 'caliper'], ['venflaxine', 'Verlaine'], ['nuetrogena', 'nitrogenous'], ['phychotics', 'psychotics'], ['menication', 'medication'], ['almay', 'allay'], ['methocarbomal', 'methodological'], ['oxicoton', 'nontoxic'], ['duphalac', 'phalanx'], ['provine', 'province'], ['unisoms', 'unis oms'], ['diarreha', 'diarrhea'], ['fibromyalgiai', 'fibrillation'], ['fosrenol', 'forenoon'], ['pectorials', 'pectorals'], ['intraethical', 'intracranial'], ['budesonidice', 'nonidentical'], ['proglycem', 'hypoglycemic'], ['diazoxide', 'dioxide'], ['ormond', 'Mormon'], ['ciklus', 'Lucius'], ['prescribred', 'prescribed'], ['methylpro', 'methyl pro'], ['ribiflavin', 'riboflavin'], ['realesed', 'released'], ['noriday', 'noonday'], ['escitilopram', 'resuscitation'], ['azacol', 'acolyte'], ['fluanxol', 'fluctuation'], ['inavoidable', 'unavoidable'], ['ketorelac', 'correlate'], ['triamteren', 'repatriate'], ['srub', 'drub'], ['flonorm', 'floor'], ['alloprinol', 'walloping'], ['easyway', 'easy way'], ['recooperative', 'recuperative'], ['acetaphetomen', 'acetaminophen'], ['specialises', 'specialists'], ['godness', 'goodness'], ['wellbutrinsr', 'wellspring'], ['rexult', 'exult'], ['pentazocaine', 'containerize'], ['metronizadole', 'metropolitan'], ['clyinda', 'Lucinda'], ['altzheimer', 'Alzheimer'], ['iihad', 'ii had'], ['beward', 'board'], ['psychitrist', 'psychiatrist'], ['armsi', 'arms'], ['internalise', 'internalize'], ['dher', 'her'], ['trilufon', 'trillion'], ['riperidone', 'periodontal'], ['butnever', 'but never'], ['iprove', 'prove'], ['fibleration', 'liberation'], ['cva', 'ca'], ['cephrine', 'epinephrine'], ['lorazaepam', 'deplorably'], ['sertratine', 'strainer'], ['giliead', 'Gilead'], ['zeg', 'zen'], ['trixaicin', 'cicatrix'], ['mertazipine', 'entertainer'], ['dissacociation', 'disassociation'], ['stabalizers', 'stabilizers'], ['nugivil', 'civilian'], ['wigh', 'wig'], ['esophoria', 'euphoria'], ['tennesee', 'Tennessee'], ['intrusional', 'intrusion'], ['boudreaux', 'Bordeaux'], ['dexatrim', 'detriment'], ['rathered', 'lathered'], ['vicadon', 'vindication'], ['vallum', 'vellum'], ['alcholol', 'alcohol'], ['vicodon', 'vi codon'], ['sickley', 'sickle'], ['hopein', 'hope in'], ['lyposuction', 'liposuction'], ['merida', 'mermaid'], ['guacamoliefein', 'guacamole'], ['somethingto', 'something to'], ['noreadrenaline', 'adrenaline'], ['brilanta', 'brilliant'], ['hpts', 'hots'], ['betahistine', 'histamine'], ['dihyrochloride', 'chloride'], ['intermit', 'intermittent'], ['acticle', 'article'], ['resolor', 'recolor'], ['ludwig', 'Ludwig'], ['opthalomopathy', 'ophthalmology'], ['pagets', 'pagers'], ['myacalcin', 'calcimine'], ['aeds', 'ads'], ['likr', 'like'], ['kpins', 'pins'], ['rapyha', 'Raphael'], ['lastcaft', 'Lancaster'], ['electrolites', 'electrolytes'], ['approxmately', 'approximately'], ['adapa', 'adapt'], ['bowell', 'Bowell'], ['vkc', 'kc'], ['hydromol', 'hydrology'], ['analyses', 'analyses'], ['crouzon', 'crouton'], ['recrustructional', 'constructional'], ['micowaved', 'microwaved'], ['michocondria', 'mitochondria'], ['clomitrazol', 'cloistral'], ['omaprezole', 'oleomargarine'], ['thrombocytes', 'erythrocytes'], ['inflammatorys', 'inflammatory'], ['methelpredsolone', 'methodicalness'], ['medicati', 'medicate'], ['tinitis', 'tendinitis'], ['optamologist', 'ophthalmologist'], ['maculer', 'mauler'], ['simpleto', 'simpleton'], ['trichtillomania', 'trigonometrical'], ['azelic', 'Azazel'], ['peeiod', 'period'], ['colrite', 'col rite'], ['supplimental', 'supplemental'], ['boaton', 'baton'], ['mefenam', 'forename'], ['freqent', 'frequent'], ['jekyl', 'Jekyll'], ['isotretenoin', 'pretension'], ['microdecompression', 'micro decompression'], ['allooot', 'allot'], ['laabile', 'labile'], ['cyprofloaxin', 'profligacy'], ['immagination', 'imagination'], ['hypventilating', 'hyperventilating'], ['ssir', 'sir'], ['stims', 'sims'], ['trucility', 'tranquility'], ['chlomipramine', 'mineralogical'], ['havr', 'have'], ['recentley', 'recently'], ['nueroplasty', 'rhinoplasty'], ['nodoctor', 'no doctor'], ['lamsil', 'Silas'], ['toment', 'torment'], ['imsad', 'sadism'], ['chamix', 'chamois'], ['whamie', 'whamming'], ['sampes', 'sames'], ['obstapation', 'substation'], ['breathsavers', 'breath savers'], ['tickily', 'stickily'], ['osteomyltis', 'osteoporosis'], ['cloanazepan', 'psychoanalyze'], ['bandaided', 'band aided'], ['degenative', 'degenerative'], ['fibomy', 'firebomb'], ['sciactic', 'sciatic'], ['hypersexaulity', 'hypersensitivity'], ['midin', 'midi'], ['alzhimers', 'Alzheimer'], ['dizzinyness', 'dizziness'], ['ovca', 'ova'], ['undegoing', 'undergoing'], ['docetaxes', 'doctorates'], ['trimix', 'trim ix'], ['episide', 'episode'], ['fibromi', 'fibroid'], ['norkos', 'notworks'], ['dermantologists', 'dermatologists'], ['desonate', 'resonate'], ['parmidxl', 'parmigiana'], ['herpetiformis', 'herpetologist'], ['vessles', 'vessels'], ['inflammaton', 'inflammation'], ['deepshit', 'deeps hit'], ['zoelly', 'potbelly'], ['blasyocystis', 'cholecystitis'], ['palladone', 'Palladio'], ['rocacea', 'brocade'], ['generaration', 'genera ration'], ['surmontil', 'surmount'], ['doiing', 'doing'], ['vitamind', 'vitamins'], ['seldane', 'Nelda'], ['gentype', 'gen type'], ['winstrol', 'Winston'], ['peganone', 'megaphone'], ['rivalled', 'rivaled'], ['handfulls', 'handfuls'], ['stillall', 'still all'], ['prednesone', 'preparedness'], ['mestinone', 'limestone'], ['mgoc', 'MOOC'], ['capzicin', 'cappuccino'], ['prevpak', 'prepare'], ['constulose', 'constitute'], ['ercp', 'Pierce'], ['flurboprofen', 'fluorocarbon'], ['belqiv', 'believe'], ['qymsia', 'Malaysia'], ['doralrx', 'doctoral'], ['litacane', 'Neapolitan'], ['dannibee', 'Dannie'], ['linsess', 'sinless'], ['laryngopharyngitis', 'pharyngitis'], ['tonsills', 'tonsils'], ['wentt', 'went'], ['afuzosin', 'fuzziness'], ['bellsomra', 'bellman'], ['crnp', 'crap'], ['vistril', 'nostril'], ['endeavoured', 'endeavored'], ['iroman', 'roman'], ['sleepliness', 'sleepiness'], ['olmetec', 'Olmec'], ['sacroiliitis', 'sacroiliacs'], ['ncbi', 'Bianca'], ['nlm', 'elm'], ['celebritys', 'celebrity'], ['aaahh', 'aah'], ['spondylitits', 'spoliation'], ['hazardious', 'hazardous'], ['methocarbamal', 'methodological'], ['torrette', 'Tintoretto'], ['fluntuate', 'fluctuate'], ['excude', 'excuse'], ['ceflacin', 'celandine'], ['nurofanton', 'profanation'], ['dehyradrated', 'dehydrated'], ['allegras', 'allegros'], ['ireggular', 'irregular'], ['amenorrea', 'forename'], ['absess', 'abscess'], ['expeirence', 'experience'], ['diazepine', 'epinephrine'], ['olanzapina', 'overlapping'], ['susbstitute', 'substitute'], ['zilches', 'filches'], ['psychatrists', 'psychiatrists'], ['ciplar', 'circular'], ['colonectomy', 'colostomy'], ['epid', 'tepid'], ['hitious', 'chitinous'], ['separatley', 'separately'], ['constiptation', 'constipation'], ['colonoscopys', 'colonoscopy'], ['dermatoglist', 'dermatologist'], ['zolaf', 'Zola'], ['fidgetty', 'fidgety'], ['ariata', 'aria ta'], ['alteting', 'altering'], ['worrie', 'worries'], ['suppressment', 'suppressant'], ['laberal', 'liberal'], ['phantosmia', 'phantasmagoria'], ['vertebres', 'vertebrates'], ['figidity', 'frigidity'], ['reverset', 'reverse'], ['depresssion', 'depression'], ['sleepyines', 'sleepiness'], ['roxycontin', 'Oxycontin'], ['lorazopam', 'paparazzo'], ['supps', 'supp'], ['losrtan', 'Spartan'], ['movments', 'moments'], ['whoke', 'whole'], ['adnormal', 'abnormal'], ['disappated', 'dissipated'], ['cardevidiol', 'cardiology'], ['metoprorol', 'proprietor'], ['electroconverted', 'electrocuted'], ['eliquus', 'liqueurs'], ['bensagel', 'ensilage'], ['bueano', 'Cebuano'], ['intol', 'into'], ['klonodopin', 'Klondike'], ['stomich', 'stomach'], ['hysteoscopy', 'osteopathy'], ['tranaxamic', 'transoceanic'], ['moodless', 'moonless'], ['chubb', 'chub'], ['monistatone', 'monist atone'], ['botheres', 'bothered'], ['oslash', 'slash'], ['mirabergon', 'Mirabeau'], ['mattify', 'Mattie'], ['diarheaa', 'diarrhea'], ['duis', 'duos'], ['mirivle', 'miracle'], ['gidderness', 'giddiness'], ['mmd', 'mm'], ['biotiene', 'biotin'], ['depomedrol', 'deprogrammed'], ['flourinse', 'flourish'], ['paragara', 'paragraph'], ['reccomed', 'recorded'], ['hyperdrosis', 'hyperthyroidism'], ['urpy', 'usurp'], ['sequard', 'squared'], ['afibs', 'fibs'], ['flecinide', 'fleeciness'], ['methlyphenidate', 'methamphetamine'], ['anuryzm', 'aneurysm'], ['myrbetricq', 'symmetric'], ['kimmerd', 'skimmer'], ['neltrexone', 'exoneration'], ['brest', 'Brest'], ['unsticky', 'sticky'], ['aeasonique', 'unreasoning'], ['deppresant', 'depressant'], ['gabapemtin', 'gabardine'], ['sideffexor', 'sideboard'], ['irma', 'Irma'], ['energtic', 'energetic'], ['hadensa', 'sadden'], ['biogetica', 'apologetic'], ['marititizapam', 'militarization'], ['dizapam', 'diapason'], ['nitrofuron', 'nitrogenous'], ['constopation', 'constipation'], ['incerdible', 'incredible'], ['allitle', 'Little'], ['fulids', 'fluids'], ['solulmedule', 'scheduled'], ['loestren', 'Longstreet'], ['monovo', 'mono'], ['skinoren', 'foreskin'], ['swimmy', 'shimmy'], ['intraven', 'int raven'], ['methylcarbanal', 'methodicalness'], ['vascultis', 'cultivars'], ['natrol', 'patrol'], ['devrom', 'devour'], ['doeseage', 'dosage'], ['cpain', 'pain'], ['argine', 'arginine'], ['tynelols', 'colonels'], ['naesuous', 'nauseous'], ['anyoneeeee', 'anyone'], ['aviaphobics', 'agoraphobics'], ['clausterphobics', 'claustrophobic'], ['respliclick', 'prickliness'], ['sterilised', 'sterilized'], ['vortioxitine', 'extortioner'], ['bcus', 'bus'], ['wnted', 'wanted'], ['itchinh', 'itching'], ['esophagaitis', 'esophagi'], ['thete', 'teeth'], ['gurggled', 'gurgled'], ['bdfore', 'before'], ['hideing', 'hiding'], ['ibuprophan', 'ibuprofen'], ['antibx', 'anti bx'], ['effictiveness', 'effectiveness'], ['nortriptolyne', 'nonprescription'], ['cardioselective', 'cardio selective'], ['whala', 'whale'], ['aregano', 'oregano'], ['vaying', 'baying'], ['redpunch', 'red punch'], ['preprandial', 'postprandial'], ['rozerum', 'rostrum'], ['laking', 'leaking'], ['sexualy', 'sexual'], ['prescripton', 'prescription'], ['immidiatly', 'immediately'], ['creame', 'cream'], ['fibriods', 'fibrils'], ['chios', 'chips'], ['villantae', 'vigilante'], ['wolnt', 'wont'], ['costy', 'cost'], ['eyeslids', 'eyelids'], ['moonth', 'month'], ['ithcy', 'itchy'], ['apetitite', 'appetite'], ['oesphagus', 'esophagus'], ['petalwise', 'petal wise'], ['piritin', 'pitting'], ['dismorphic', 'isomorphic'], ['clindamax', 'Malinda'], ['guaifensin', 'insinuate'], ['seroqeul', 'serous'], ['srosacea', 'aerospace'], ['histoscopy', 'historicity'], ['bpii', 'biopic'], ['bpi', 'bi'], ['meneire', 'veniremen'], ['videx', 'video'], ['companby', 'company'], ['performerm', 'performer'], ['fairhope', 'fair hope'], ['lasko', 'lasso'], ['affectly', 'affectedly'], ['visanne', 'Nevis'], ['moodswing', 'mood swing'], ['nuro', 'euro'], ['tingerling', 'fingerling'], ['vitermins', 'minsters'], ['clenchy', 'clench'], ['tueday', 'Tuesday'], ['chostrocondritus', 'mitochondrion'], ['lotroxex', 'foxtrotted'], ['regurge', 'reg urge'], ['nightmares\\u200b', 'nightmares'], ['tumador', 'matador'], ['rcvs', 'revs'], ['besically', 'basically'], ['arteris', 'arteries'], ['gillman', 'Tillman'], ['simbicort', 'simpatico'], ['sprintic', 'Sprint'], ['mynocine', 'Mendocino'], ['mynocicline', 'geosyncline'], ['revews', 'revues'], ['dedperate', 'desperate'], ['cutavate', 'evacuate'], ['chlonopin', 'pinochle'], ['tooshie', 'tootsie'], ['triaminic', 'minicam'], ['vission', 'vision'], ['asthmaephren', 'astonishment'], ['mointored', 'monitored'], ['oxigen', 'oxygen'], ['menstrating', 'menstruating'], ['doxcyclin', 'polyclinic'], ['busbin', 'buskin'], ['activas', 'actives'], ['ripserdal', 'ellipsoidal'], ['porlactin', 'porcelain'], ['concossion', 'concession'], ['☺i', 'i'], ['aprillon', 'carillon'], ['mirtazepam', 'militarize'], ['benzalin', 'benzine'], ['bezaclin', 'binnacle'], ['gunch', 'guns'], ['azithromocyin', 'erythromycin'], ['gord', 'ford'], ['klonies', 'Klondikes'], ['poriasis', 'psoriasis'], ['amiveve', 'evasive'], ['nutrogena', 'nitrogen'], ['onot', 'onto'], ['lubrications', 'lubrication'], ['cylces', 'cycles'], ['amazinggggggg', 'amazing'], ['covereing', 'covering'], ['dreamlessly', 'dreamless'], ['salicyicate', 'syllabicate'], ['makesme', 'makes me'], ['estrodial', 'terrestrial'], ['methylpredisone', 'predisposition'], ['catalepxy', 'catalepsy'], ['antivan', 'anti van'], ['synvasc', 'canvas'], ['juvinel', 'juvenile'], ['avolition', 'abolition'], ['ondcp', 'pond'], ['forconsumers', 'for consumers'], ['consumerupdates', 'consumer updates'], ['ucm', 'cum'], ['regimex', 'regime'], ['inbrel', 'inbred'], ['avomine', 'nominee'], ['valloids', 'alkaloids'], ['scoploamine', 'CinemaScope'], ['labrynthitis', 'laryngitis'], ['releaving', 'revealing'], ['naeousia', 'nauseous'], ['anywoow', 'anyhow'], ['trichtilomania', 'cliometrician'], ['lolllll', 'lollop'], ['robaxicet', 'aerobatic'], ['deppersents', 'dependents'], ['aexert', 'exert'], ['northindrone', 'noteworthiness'], ['heyy', 'hay'], ['erk', 'eek'], ['pseudoparkinsonism', 'Parkinsonism'], ['bacoflen', 'bafflement'], ['upsetness', 'quietness'], ['yof', 'yo'], ['itracozanole', 'contractible'], ['okinawa', 'Okinawa'], ['profusive', 'profuse'], ['wheaned', 'weaned'], ['methyldopa', 'methyl dopa'], ['libedo', 'libido'], ['distractability', 'dis tractability'], ['burdan', 'burden'], ['corpectomy', 'lumpectomy'], ['henle', 'hence'], ['nuvring', 'nursing'], ['naltrexlone', 'maltreatment'], ['thratening', 'threatening'], ['xiitra', 'trait'], ['guaifenisen', 'stiffening'], ['unrestful', 'restfulness'], ['dissapears', 'dispersal'], ['sigmoiditis', 'Zsigmondy'], ['psoriatane', 'psoriasis'], ['psorsasis', 'psoriasis'], ['clyndamycine', 'Aureomycin'], ['uncontrollabley', 'uncontrollable'], ['mourh', 'mouth'], ['complainig', 'complaining'], ['miralce', 'miracle'], ['cerefolin', 'crinoline'], ['fungical', 'fungi cal'], ['nortryptilline', 'noncrystalline'], ['lyrice', 'lyric'], ['phycology', 'physiology'], ['dbled', 'bled'], ['terbanifine', 'interurban'], ['equatro', 'equator'], ['ogesterel', 'progesterone'], ['zenzadi', 'cadenza'], ['prepotik', 'preposition'], ['stribld', 'stride'], ['venlaxerfin', 'quarterfinal'], ['abiblify', 'syllabify'], ['pregabaline', 'impregnable'], ['lamatrogine', 'ultramarine'], ['zoucline', 'touchline'], ['blowned', 'browned'], ['eacht', 'east'], ['vayvanse', 'Javanese'], ['dextroanphethamane', 'methamphetamine'], ['unnoticable', 'unnoticeable'], ['crystelle', 'crystalline'], ['incruciating', 'excruciating'], ['phisoderm', 'echinoderm'], ['lydocaine', 'Novocaine'], ['askedy', 'asked'], ['boromycin', 'erythromycin'], ['keterolac', 'racketeer'], ['psyochological', 'psychological'], ['famera', 'camera'], ['nornal', 'normal'], ['zitia', 'Titian'], ['constsntly', 'constantly'], ['catalina', 'Catalina'], ['oxycontine', 'Oxycontin'], ['trentellix', 'intelligent'], ['epiologist', 'epidemiologist'], ['burpee', 'burped'], ['dermalogist', 'dermatologist'], ['seasonnique', 'seasoning'], ['anywhom', 'any whom'], ['spasmastic', 'spas mastic'], ['escitaloram', 'resuscitator'], ['clonazepem', 'monoclonal'], ['segas', 'sages'], ['menstraution', 'menstruation'], ['depiver', 'deprive'], ['irrating', 'irradiating'], ['descovy', 'descry'], ['peroxetine', 'petitioner'], ['unpleasent', 'unpleasant'], ['thined', 'thine'], ['itdidn', \"didn't\"], ['terrable', 'terrible'], ['intestions', 'intentions'], ['lasartan', 'tartan'], ['bezoyl', 'benzyl'], ['clindimyacin', 'clinician'], ['carthritis', 'arthritis'], ['amilodipine', 'amphetamine'], ['tricotilomania', 'cliometrician'], ['monged', 'manged'], ['antimetic', 'antithetic'], ['interrrupted', 'interrupted'], ['cartilige', 'cartilage'], ['clindacin', 'Lucinda'], ['halog', 'halo'], ['hylatopic', 'prophylactic'], ['abreeva', 'abbrev'], ['fiberscore', 'fiber score'], ['fiberscan', 'fiber scan'], ['atonvastatin', 'devastation'], ['lowfolate', 'footplate'], ['methyofolate', 'Merthiolate'], ['medicction', 'medication'], ['choloesterol', 'cholesterol'], ['inmersive', 'immersive'], ['anolor', 'colorant'], ['ceturoxime', 'centimeter'], ['collectomy', 'collector'], ['gax', 'fax'], ['blastocystis', 'cholecystitis'], ['stys', 'sty'], ['mycelex', 'Mycenae'], ['somaluxe', 'Somalia'], ['brisale', 'bristle'], ['subozone', 'sub ozone'], ['betamethazone', 'methamphetamine'], ['reurned', 'returned'], ['boscia', 'Bosnia'], ['sideaffects', 'side affects'], ['vicoprophen', 'prophetic'], ['dyskinesis', 'duskiness'], ['tactuopump', 'protactinium'], ['nautiousness', 'cautiousness'], ['glycinate', 'agglutinate'], ['iigot', 'ingot'], ['xpd', 'cpd'], ['tandum', 'tandem'], ['interminent', 'intermittent'], ['foia', 'fora'], ['fontex', 'font ex'], ['ibido', 'ibid'], ['conspipated', 'constipated'], ['persa', 'parse'], ['annabelle', 'Annabelle'], ['victoryismine', 'Victorianism'], ['trileptic', 'epileptic'], ['fluconazol', 'fluctuation'], ['belcuca', 'belch'], ['suprax', 'supra'], ['ctb', 'ctn'], ['figrofog', 'Figaro'], ['ultrase', 'ultras'], ['unconfortability', 'accountability'], ['dizzyiness', 'dizziness'], ['hydrid', 'hybrid'], ['linty', 'lint'], ['qjd', 'JD'], ['eveyrthing', 'everything'], ['titianium', 'titanium'], ['hydromorphoe', 'hydrophone'], ['doxymaline', 'tourmaline'], ['rince', 'rice'], ['valgan', 'Galvani'], ['nortripine', 'neutrino'], ['fourties', 'forties'], ['abornmal', 'abnormal'], ['accutance', 'acceptance'], ['thinkness', 'thinness'], ['reinfecting', 'reinfecting'], ['pulmozyme', 'pulmonary'], ['serontin', 'serotonin'], ['antiitch', 'anti itch'], ['wony', 'winy'], ['ritalon', 'Ritalin'], ['parnat', 'paternal'], ['nutrasweet', 'NutraSweet'], ['breastart', 'breast art'], ['psyco', 'psycho'], ['weekof', 'week of'], ['znd', 'zed'], ['tiress', 'tires'], ['bibolar', 'bipolar'], ['difficuty', 'difficulty'], ['rationaly', 'rational'], ['addictonologist', 'endocrinologist'], ['oscopy', 'copy'], ['pancreatis', 'pancreatic'], ['blavk', 'black'], ['myocin', 'myopic'], ['pleasesd', 'pleases'], ['withflomax', 'withdrawal'], ['foraminae', 'forename'], ['untii', 'untie'], ['pamelar', 'Pamela'], ['triating', 'treating'], ['triation', 'striation'], ['ingredinets', 'ingredients'], ['famcyclovir', 'acyclovir'], ['ggt', 'hgt'], ['jerens', 'Jensen'], ['wetskin', 'wet skin'], ['learey', 'Leary'], ['drowienes', 'drowsiness'], ['oxyado', 'Maddox'], ['irratate', 'irritate'], ['evail', 'evil'], ['spironoloactone', 'conspiratorial'], ['bififa', 'biff'], ['osteoarthriti', 'osteoarthritis'], ['diter', 'doter'], ['assymptomatic', 'asymptomatic'], ['dirrhea', 'diarrhea'], ['jeezus', 'jeez us'], ['byderion', 'derision'], ['hipertensive', 'hypertensive'], ['pmsed', 'posed'], ['anaylized', 'canalized'], ['asssociated', 'associated'], ['frustruates', 'frustrates'], ['noticeble', 'noticeable'], ['angiogramme', 'monogrammed'], ['toponin', 'topspin'], ['tyloneol', 'Tylenol'], ['dipsomania', 'dipsomania'], ['delbilitating', 'debilitating'], ['losens', 'loses'], ['zentel', 'zen tel'], ['purell', 'purely'], ['chiropractice', 'chiropractic'], ['sweeting', 'sweating'], ['risetime', 'rise time'], ['minstratrin', 'ministration'], ['hemograms', 'hectograms'], ['dedcadron', 'Calderon'], ['bormal', 'normal'], ['sturggled', 'struggled'], ['eperlenone', 'Persephone'], ['munster', 'Munster'], ['polyneuralgia', 'poly neuralgia'], ['luteinizing', 'routinizing'], ['blulight', 'blight'], ['immediatelly', 'immediately'], ['vigour', 'vigor'], ['clinamycin', 'clinician'], ['periodsm', 'periods'], ['glipozide', 'glider'], ['hoursof', 'hours of'], ['pgad', 'pad'], ['gogurts', 'yogurts'], ['atattack', 'at attack'], ['worh', 'worth'], ['horibble', 'horrible'], ['beeon', 'been'], ['mext', 'next'], ['compromosied', 'compromised'], ['hobbys', 'hobby'], ['commants', 'comments'], ['hydroxine', 'hydroxide'], ['beatfirst', 'beat first'], ['bronchomalacia', 'bronchial'], ['clonozapem', 'monoclonal'], ['tomamax', 'tomato'], ['immedediately', 'immediately'], ['aaaaaammazing', 'amazing'], ['heavem', 'heaven'], ['azrmour', 'Armour'], ['skined', 'skied'], ['gabepen', 'gaberdine'], ['inton', 'into'], ['diarrhoe', 'diarrhea'], ['antipyschotics', 'antibiotics'], ['akethisia', 'anesthesia'], ['scrubed', 'scrubbed'], ['oneven', 'uneven'], ['differenly', 'differently'], ['positivecways', 'positiveness'], ['lunnesta', 'tannest'], ['plurged', 'purged'], ['sicatica', 'sciatica'], ['salpingo', 'sapping'], ['bso', 'so'], ['withoug', 'without'], ['declogged', 'clogged'], ['devleope', 'developed'], ['infec', 'infect'], ['respirdal', 'respire'], ['platued', 'plated'], ['condiion', 'condition'], ['bydurian', 'Burundian'], ['yons', 'tons'], ['methylphenidat', 'methamphetamine'], ['ritalian', 'Ritalin'], ['muslce', 'muscle'], ['vh', 'ch'], ['medroxy', 'dromedary'], ['cambodia', 'Cambodia'], ['weekw', 'week'], ['prostae', 'prostate'], ['casosex', 'caboose'], ['aderol', 'loader'], ['metronidazale', 'metropolitan'], ['fevery', 'fever'], ['dixarit', 'diarist'], ['weekz', 'week'], ['antidepressanh', 'antidepressant'], ['abeva', 'abbrev'], ['vesta', 'Vesta'], ['matrifen', 'matrimony'], ['axoxiclav', 'clavicle'], ['squeeszed', 'squeezed'], ['virol', 'viol'], ['qaulifying', 'qualifying'], ['mro', 'mo'], ['esophagal', 'esophageal'], ['uncontollable', 'uncontrollable'], ['levothyroixine', 'hypothyroidism'], ['lethergy', 'lethargy'], ['autoreceptors', 'auto receptors'], ['fluouroucil', 'fluoroscopic'], ['absoletley', 'obsolete'], ['phlemmy', 'phlegm'], ['manufactors', 'manufacturers'], ['tesopel', 'telescope'], ['unrestorative', 'restorative'], ['hededness', 'jadedness'], ['hypotears', 'hypo tears'], ['zomby', 'Zomba'], ['atenoprol', 'patrolmen'], ['brevinor', 'Trevino'], ['labarynthitis', 'laryngitis'], ['licences', 'licenses'], ['cyclobenzoprene', 'encyclopedic'], ['antdepressant', 'antidepressant'], ['fmri', 'firm'], ['distupted', 'disrupted'], ['europhic', 'strophic'], ['nexa', 'next'], ['clydimiacin', 'immediacies'], ['azolam', 'Mazola'], ['irrtations', 'irritations'], ['metf', 'met'], ['pterostibene', 'testosterone'], ['diahria', 'diaphragm'], ['cinryze', 'citizenry'], ['srmc', 'USMC'], ['oesteoarthritis', 'osteoarthritis'], ['nmr', 'nor'], ['cii', 'xii'], ['swolling', 'swilling'], ['eventho', 'even tho'], ['uther', 'Luther'], ['clonodines', 'cloudiness'], ['stairstepper', 'stair stepper'], ['trasiba', 'transit'], ['lavimeer', 'lavisher'], ['dmrads', 'ramrods'], ['grecia', 'Grecian'], ['zapain', 'pain'], ['colofac', 'colorfast'], ['clorazipam', 'Chimborazo'], ['hyrdocodone', 'hydrophone'], ['fmla', 'Fla'], ['maxault', 'assault'], ['emernc', 'emergence'], ['pinterest', 'interest'], ['gld', 'geld'], ['formaldahyde', 'formaldehyde'], ['pcychiatrist', 'psychiatrist'], ['respiridol', 'respirator'], ['sinomet', 'sometime'], ['gabipentin', 'parenting'], ['carbodopa', 'Carboloy'], ['clavulan', 'avuncular'], ['condyline', 'conditioned'], ['marvellously', 'marvelously'], ['doxycilyn', 'Oxycontin'], ['tipsey', 'tipsy'], ['alerteness', 'alertness'], ['sustanon', 'Stanton'], ['intersistal', 'interstitial'], ['stablizes', 'stabilizes'], ['underprescribed', 'under prescribed'], ['tinactin', 'inaction'], ['netty', 'natty'], ['fribrosis', 'fibrosis'], ['prolactonoma', 'proclamation'], ['afdc', 'AFDC'], ['essental', 'essential'], ['tachycardyia', 'tachycardia'], ['weigt', 'weight'], ['iquest', 'quest'], ['paranoi', 'paranoia'], ['miconazone', 'Micronesian'], ['nodm', 'nod'], ['junevia', 'Juneau'], ['tripitel', 'tripartite'], ['vesacare', 'scarves'], ['peridium', 'pericardium'], ['durvets', 'duvets'], ['olanzepine', 'epinephrine'], ['sazo', 'sago'], ['levasin', 'evasion'], ['roboxin', 'Robin'], ['xoplatin', 'plating'], ['efidux', 'Enkidu'], ['efidex', 'define'], ['ondansteron', 'testosterone'], ['metroniazole', 'metropolitan'], ['munik', 'Munich'], ['apoc', 'capo'], ['suuuper', 'superuser'], ['emoquette', 'coquette'], ['mckeel', 'McKee'], ['clindaycin', 'clinician'], ['adicctive', 'addictive'], ['senond', 'second'], ['ridiculoisly', 'ridiculously'], ['sobe', 'sob'], ['weldricks', 'weld ricks'], ['norvacs', 'nor vacs'], ['somatique', 'somatic'], ['semidreaming', 'semi dreaming'], ['apathic', 'apathetic'], ['handihaler', 'handler'], ['clarithomycin', 'erythromycin'], ['spiramycin', 'inspiration'], ['alsleep', 'asleep'], ['intereseted', 'interested'], ['medicie', 'medicine'], ['clanazopam', 'clanswoman'], ['unsatisified', 'unsatisfied'], ['spottting', 'spotting'], ['cloneazopam', 'anticyclone'], ['backscratcher', 'backscratching'], ['eflora', 'flora'], ['nonr', 'none'], ['amytriptlyne', 'stripteaser'], ['balacing', 'balancing'], ['bepharitis', 'nephritis'], ['eusophagus', 'esophagus'], ['eosophagus', 'esophagus'], ['alee', 'ale'], ['neorupathic', 'homeopathic'], ['kapanol', 'panoply'], ['tapenadol', 'pentagonal'], ['coxic', 'conic'], ['ahololic', 'shopaholic'], ['vulvavaginitis', 'vulnerabilities'], ['intravaneously', 'intravenously'], ['havid', 'avid'], ['symphathetic', 'sympathetic'], ['nylan', 'nylon'], ['covidien', 'comedienne'], ['frienzied', 'frenzied'], ['steriodal', 'steroidal'], ['dolophine', 'dolphin'], ['stanfield', 'Mansfield'], ['heray', 'he ray'], ['diaherha', 'diarrhea'], ['toprolxl', 'protocol'], ['vagas', 'sagas'], ['proplems', 'problems'], ['awfuly', 'awful'], ['supertired', 'super tired'], ['excersied', 'excerpted'], ['weaight', 'weight'], ['wasint', 'was int'], ['tonuse', 'ton use'], ['dissolveable', 'dissolve able'], ['slowy', 'slow'], ['roxies', 'proxies'], ['antivertigo', 'anti vertigo'], ['pitxophiren', 'schizophrenic'], ['personalisation', 'conversationalist'], ['mgms', 'mams'], ['traodone', 'tradition'], ['phenytek', 'phenotype'], ['dyphenadramine', 'methamphetamine'], ['uppered', 'upper ed'], ['mircaso', 'miscast'], ['endocrinilogist', 'endocrinologist'], ['nifridas', 'Fridays'], ['calcuim', 'calcium'], ['avr', 'var'], ['prednidone', 'predefined'], ['zombifying', 'magnifying'], ['manestein', 'mane stein'], ['bwcame', 'became'], ['mirtizon', 'migration'], ['buccholz', 'bucolic'], ['thisss', 'this'], ['buproprian', 'appropriation'], ['babout', 'about'], ['predn', 'preen'], ['matazapine', 'magazine'], ['yeay', 'yea'], ['zombish', 'zombie'], ['femail', 'email'], ['milg', 'milf'], ['tension،', 'tension'], ['cybmalta', 'Malta'], ['week،', 'week'], ['weeks،', 'weeks'], ['month،', 'month'], ['ciprin', 'Principe'], ['methedrol', 'methodology'], ['thnking', 'thinking'], ['monohyd', 'monody'], ['anddon', 'and don'], ['aminmenopause', 'menopause'], ['milagrams', 'milligrams'], ['defibrosis', 'fibrosis'], ['lipoderm', 'hypodermic'], ['ithis', 'this'], ['adenomyosus', 'adenoids'], ['kegals', 'legals'], ['psychistrist', 'psychiatrist'], ['ibruphen', 'ibuprofen'], ['reccomending', 'recommending'], ['fluidy', 'fluid'], ['explan', 'explain'], ['medicen', 'medic en'], ['mcgill', 'Gilliam'], ['streem', 'stream'], ['cramper', 'camper'], ['careassist', 'care assist'], ['inova', 'nova'], ['clenziderm', 'epidermic'], ['delvering', 'delivering'], ['effetcively', 'effectively'], ['guetal', 'gunmetal'], ['encycolpedia', 'encyclopedia'], ['paralysising', 'paralysis'], ['onogestrel', 'songstress'], ['orgestrel', 'kestrel'], ['spondylithesis', 'photosynthesis'], ['bridgeport', 'Bridgeport'], ['approches', 'approaches'], ['zolipem', 'policemen'], ['persrcibed', 'superscribed'], ['melodicam', 'melodic am'], ['dehydraded', 'dehydrated'], ['heive', 'have'], ['gly', 'fly'], ['fireants', 'fire ants'], ['cephlaxen', 'cephalic'], ['bcg', 'cg'], ['wellbutirn', 'Wellington'], ['prostglandin', 'propagandist'], ['aprostadil', 'postprandial'], ['prostin', 'pros tin'], ['fenanyl', 'Fenian'], ['linsey', 'Kinsey'], ['constip', 'cons tip'], ['guillam', 'Anguilla'], ['dienogest', 'Diogenes'], ['oracia', 'Horacio'], ['helycobacter', 'bacteriology'], ['achilies', 'chilies'], ['organise', 'organist'], ['paradoxil', 'paradoxical'], ['lforgot', 'forgot'], ['antidep', 'antidepressant'], ['roboxim', 'boxroom'], ['percasets', 'uppercase'], ['thelot', 'helot'], ['urinalisys', 'urinalysis'], ['socialy', 'social'], ['tubation', 'incubation'], ['leviteracetam', 'paracetamol'], ['clonaz', 'clonal'], ['desipr', 'preside'], ['mrng', 'mung'], ['endocendocrinologist', 'endocrinologist'], ['nno', 'non'], ['hydroxyine', 'hydroxide'], ['continiue', 'continue'], ['oversleeper', 'over sleeper'], ['entired', 'entire'], ['raynaulds', 'cauldrons'], ['amitriptalyne', 'centripetal'], ['soralyn', 'Rosalyn'], ['retanoic', 'anorectic'], ['reconmend', 'recommend'], ['dealable', 'deal able'], ['neuroogist', 'neurologist'], ['lamital', 'lam ital'], ['discontine', 'discontinue'], ['dazzed', 'dazed'], ['goodresults', 'good results'], ['derri', 'Terri'], ['microdisc', 'micro disc'], ['mgoxy', 'oxygen'], ['mgtylenol', 'Tylenol'], ['brillenta', 'brilliant'], ['miconazle', 'economical'], ['sulphasalazine', 'laziness'], ['havoic', 'havoc'], ['xaday', 'Faraday'], ['sarcoidiosis', 'narcosis'], ['pharamacist', 'pharmacist'], ['morpine', 'morphine'], ['amiright', 'aright'], ['osteochondrites', 'mitochondrion'], ['dessicans', 'desiccants'], ['celexafor', 'celebrator'], ['ayurved', 'Ayurveda'], ['refreshhed', 'refreshed'], ['benzodizepines', 'Benedictines'], ['meover', 'mover'], ['serverd', 'servers'], ['irritance', 'irritant'], ['cfus', 'cf us'], ['headche', 'headache'], ['enbel', 'bellmen'], ['thrumbose', 'thromboses'], ['hemroid', 'hemorrhoid'], ['dissocaitive', 'dissociate'], ['naseauted', 'nauseated'], ['allergice', 'allergic'], ['humria', 'humeri'], ['ofloestrin', 'shoestring'], ['tennage', 'teenage'], ['easays', 'essays'], ['tazadone', 'methadone'], ['oip', 'pip'], ['pfc', 'PFC'], ['pns', 'pens'], ['stablilize', 'stabilize'], ['sacyllic', 'syllabic'], ['adapolene', 'Napoleon'], ['chondomalacia', 'mitochondrial'], ['ramidil', 'pyramidal'], ['modofinil', 'Modigliani'], ['regularflows', 'regular flows'], ['equetro', 'croquet'], ['inurance', 'insurance'], ['sustena', 'sustenance'], ['isientress', 'resilient'], ['dexterscoliosis', 'arteriosclerosis'], ['enamas', 'enemas'], ['prblems', 'problems'], ['metoformin', 'terminator'], ['samei', 'same'], ['robitusin', 'Robitussin'], ['lasst', 'lasts'], ['monoclonial', 'monoclonal'], ['cometely', 'completely'], ['parasetamol', 'paracetamol'], ['uncomfortness', 'comfortableness'], ['intructions', 'instructions'], ['letrozol', 'petroleum'], ['aciid', 'acid'], ['whiich', 'which'], ['cosaar', 'costar'], ['dimethesone', 'dimensionless'], ['ketacodnisone', 'cortisone'], ['prolacting', 'protracting'], ['adfib', 'ad fib'], ['pleseant', 'pleasant'], ['leukosyvasculitis', 'diverticulitis'], ['lamectil', 'erectile'], ['phenpro', 'pheromone'], ['brachy', 'branch'], ['insertedd', 'inserted'], ['adepix', 'adept'], ['rizwan', 'Arizonan'], ['esvere', 'severe'], ['paroxetin', 'parenting'], ['venlafexine', 'slovenliness'], ['bubropion', 'subtropic'], ['aquaintence', 'acquaintance'], ['preriod', 'period'], ['calcitroil', 'recalcitrant'], ['unscared', 'scarred'], ['depersonilization', 'departmentalization'], ['acholholic', 'chocoholic'], ['sevaral', 'several'], ['frezzer', 'freezer'], ['soakingthrough', 'soaking through'], ['seveer', 'severe'], ['hostal', 'hostel'], ['diagnosedd', 'diagnosed'], ['everwhelmed', 'overwhelmed'], ['debilated', 'debilitated'], ['cleraly', 'clearly'], ['ewoks', 'woks'], ['tendernes', 'tenderness'], ['effct', 'effect'], ['adderall\\u200b', 'Adderley'], ['cruizing', 'cruising'], ['hydroxypam', 'hydrodynamic'], ['oveweight', 'overweight'], ['diebetic', 'diabetic'], ['presecribed', 'prescribed'], ['norditropin', 'nontropical'], ['scarrring', 'scarring'], ['amytriptilyne', 'transcription'], ['acetaminophin', 'acetaminophen'], ['allievated', 'alleviated'], ['voorhees', 'moorhens'], ['slwo', 'slow'], ['ketroprofen', 'retrorocket'], ['talz', 'tale'], ['mirtz', 'mirth'], ['hemorrahgic', 'hemorrhagic'], ['compltley', 'complete'], ['oesophogus', 'esophagus'], ['hadvery', 'had very'], ['esopogas', 'esophagus'], ['clulprit', 'culprit'], ['irration', 'irrational'], ['hemotologist', 'hematologist'], ['chlomad', 'coachload'], ['statterra', 'serrate'], ['hypocalcaemic', 'hypocritical'], ['hypoparathyroid', 'hypo parathyroid'], ['mylodysplastic', 'thermoplastic'], ['myleoproliferative', 'nonproliferation'], ['antinflamatory', 'noninflammatory'], ['citrolpram', 'citronella'], ['citrolopram', 'citronella'], ['melazma', 'melanoma'], ['medicean', 'median'], ['dsm', 'dam'], ['fumiderm', 'humidifier'], ['dexascan', 'descant'], ['isotrexin', 'isotropic'], ['prothiaden', 'providential'], ['papopustular', 'pustular'], ['clyndomycin', 'erythromycin'], ['contreceptive', 'contraceptive'], ['ladyparts', 'lady parts'], ['dydromol', 'hydrology'], ['recentally', 'recent ally'], ['modafilin', 'Modigliani'], ['orynthia', 'Corinthian'], ['efl', 'EFL'], ['monophase', 'mono phase'], ['subachroind', 'Schrodinger'], ['anuerysm', 'aneurysm'], ['dispersable', 'dispensable'], ['hydrochlorthiazide', 'hydroelectrically'], ['postpartom', 'postpartum'], ['thyroiditois', 'hypothyroidism'], ['nicoretter', 'Metternich'], ['obaji', 'bhaji'], ['retiina', 'retina'], ['sleepwise', 'sleep wise'], ['colestipol', 'collectivist'], ['charcot', 'chariot'], ['symdrome', 'syndrome'], ['sweting', 'stewing'], ['exspensive', 'expensive'], ['bekterew', 'Brewster'], ['vjayjay', 'veejay'], ['aponea', 'Capone'], ['incidense', 'incidence'], ['speicalist', 'specialist'], ['asberger', 'Asperger'], ['addxr', 'adder'], ['ferrlecit', 'ferocity'], ['upperward', 'upper ward'], ['hyial', 'hymnal'], ['pantropazole', 'patrolwoman'], ['discribing', 'describing'], ['uncomfortablist', 'uncomfortably'], ['socaial', 'social'], ['osmo', 'osmosis'], ['otelza', 'motel'], ['locapred', 'located'], ['atnia', 'atria'], ['stalara', 'stalwart'], ['littlle', 'little'], ['eurax', 'Eurasia'], ['seiruze', 'seizure'], ['tobbaco', 'tobacco'], ['amitrypline', 'trampoline'], ['subcostal', 'subtotal'], ['postherptic', 'prosthetic'], ['pharmamaceuticals', 'pharmaceuticals'], ['benedeyl', 'Benedict'], ['histerectomy', 'hysterectomy'], ['dysththmic', 'rhythmic'], ['wls', 'ls'], ['mcpp', 'PCMCIA'], ['epididimitis', 'epidemiologist'], ['amitriptilyne', 'transcription'], ['brisdell', 'bristle'], ['sprio', 'sprig'], ['bttle', 'battle'], ['complulsion', 'compulsion'], ['extremelly', 'extremely'], ['hallucenenic', 'hallucinogenic'], ['callosum', 'callous'], ['weisman', 'Heisman'], ['linsezz', 'linseed'], ['mirenia', 'miniature'], ['ciptadine', 'discipline'], ['vasagel', 'vassalage'], ['roseace', 'roseate'], ['musc', 'misc'], ['copable', 'capable'], ['intercystial', 'interstitial'], ['interstem', 'inter stem'], ['menstruations', 'menstruation'], ['applicatior', 'applicator'], ['nowwww', 'nowt'], ['lipactin', 'playacting'], ['hordeing', 'hording'], ['beecause', 'because'], ['demabrasion', 'abrasion'], ['dematologist', 'dermatologist'], ['greatttt', 'great'], ['dieases', 'diseases'], ['buruprion', 'irruption'], ['lythotripsy', 'psychotropic'], ['rwo', 'row'], ['deffinitely', 'definitely'], ['untrustful', 'trustfulness'], ['itropride', 'Detroit'], ['dafflon', 'daffodil'], ['hemoroids', 'hemorrhoids'], ['laporsocpy', 'laparoscopy'], ['loestrrine', 'shoestring'], ['hydrocloride', 'hydroelectric'], ['roserem', 'rose rem'], ['asante', 'as ante'], ['gratly', 'greatly'], ['episides', 'episodes'], ['xiletil', 'textile'], ['cilexetil', 'textile'], ['isthmic', 'Thomistic'], ['redboxes', 'red boxes'], ['caines', 'canes'], ['sensorcaine', 'censoriousness'], ['mpf', 'mpg'], ['gammot', 'gammon'], ['citaolpram', 'malpractice'], ['implanton', 'implant on'], ['inhibiter', 'inhibitor'], ['tecfedra', 'federate'], ['remembrr', 'remember'], ['nozinan', 'nominal'], ['cephelaxin', 'cephalic'], ['dsmo', 'demo'], ['srnis', 'garnish'], ['deminishing', 'diminishing'], ['zaina', 'czarina'], ['muchhhhh', 'Munchhausen'], ['benzodiazepe', 'Benzedrine'], ['pharmisist', 'pharmacist'], ['decemberror', 'December'], ['simbrinza', 'Sabrina'], ['copazone', 'Coppertone'], ['slugginess', 'sluggishness'], ['sleepgels', 'sleep gels'], ['frerquent', 'frequent'], ['eassily', 'easily'], ['difficutly', 'difficulty'], ['zombieness', 'zombies'], ['pdsd', 'pd'], ['neurothopy', 'neurotically'], ['ostioarthritis', 'osteoarthritis'], ['carpidopa', 'carpi dopa'], ['roatan', 'roan'], ['bbcream', 'cream'], ['endoctronologist', 'endocrinologist'], ['nutriotional', 'nutritional'], ['myometomy', 'optometry'], ['servu', 'serve'], ['lubricat', 'lubricate'], ['erectability', 'erect ability'], ['resorbs', 'resorts'], ['mediicine', 'medicine'], ['bislovi', 'Clovis'], ['greatfor', 'great for'], ['streph', 'strep'], ['smtg', 'mtg'], ['neutralised', 'neutralized'], ['amoxclav', 'autoclave'], ['chloroseptic', 'chloroplast'], ['highscool', 'highs cool'], ['meltallic', 'metallic'], ['thorought', 'thorough'], ['feaky', 'freaky'], ['luthera', 'Lutheran'], ['concerda', 'concordance'], ['wellbutrinxr', 'wellspring'], ['intunive', 'intuitive'], ['spookyblack', 'spooky black'], ['disophrol', 'dissolved'], ['schering', 'steering'], ['plough', 'lough'], ['nowi', 'now'], ['sebhorea', 'seashore'], ['prozasin', 'promising'], ['despressingly', 'depressingly'], ['alkazeltzer', 'alkalize'], ['wilcox', 'Wilcox'], ['estidol', 'est idol'], ['doxine', 'dioxin'], ['reea', 'reel'], ['writhin', 'within'], ['backny', 'backpack'], ['moodie', 'moodier'], ['infingers', 'infringes'], ['whiched', 'which ed'], ['inteferon', 'interferon'], ['diafram', 'diagram'], ['incerted', 'inverted'], ['finebp', 'finespun'], ['episiode', 'episode'], ['aruba', 'Aruba'], ['famiclovr', 'familiar'], ['suboxons', 'suborns'], ['soboxo', 'soapbox'], ['defininitely', 'definitely'], ['keritoses', 'mitoses'], ['aslight', 'alight'], ['chantel', 'channel'], ['microgrestrin', 'microaggression'], ['hartburn', 'heartburn'], ['tresebia', 'trespasser'], ['demorol', 'Demerol'], ['norethin', 'rethink'], ['estra', 'Estrada'], ['gatrointestinal', 'gastrointestinal'], ['zenpep', 'zen pep'], ['severy', 'sever'], ['foginess', 'fogginess'], ['diflucanec', 'fluctuation'], ['hyoscymine', 'thymine'], ['picolante', 'picante'], ['scrawly', 'scrawl'], ['hyperoscopic', 'spectroscopic'], ['salix', 'Alisa'], ['ryth', 'myth'], ['spactisity', 'sparsity'], ['fitnesspro', 'fitness pro'], ['certaindri', 'certainty'], ['serequal', 'equalizer'], ['venagnce', 'vengeance'], ['amiptiptyline', 'pantyliner'], ['neuraliga', 'neuralgia'], ['aband', 'band'], ['ashlyan', 'Ashley'], ['amtrip', 'am trip'], ['sleepig', 'sleeping'], ['micrgr', 'micro'], ['fentenanyl', 'antenatal'], ['℅', 'e'], ['valpam', 'Valparaiso'], ['reallllllly', 'realistically'], ['brazileiro', 'Brazilian'], ['mywhole', 'my whole'], ['logestin', 'loges tin'], ['barbae', 'barbie'], ['sahm', 'sham'], ['disablingly', 'disarmingly'], ['suferred', 'suffered'], ['shortn', 'short'], ['nerotin', 'routine'], ['abonormal', 'abnormal'], ['dosylamine', 'dopamine'], ['rootering', 'roistering'], ['inconvinience', 'inconvenience'], ['cathe', 'lathe'], ['enegry', 'energy'], ['bonitril', 'bonito'], ['vivit', 'visit'], ['nausua', 'nausea'], ['createnine', 'create nine'], ['tailore', 'tailor'], ['daytimr', 'daytime'], ['upperlip', 'upper lip'], ['outweighted', 'outweighed'], ['morphone', 'morphine'], ['lubmar', 'lumbar'], ['estivin', 'intestine'], ['osteroperosis', 'osteoporosis'], ['avtive', 'active'], ['cyistic', 'cystic'], ['kapeesh', 'shapeless'], ['abolutly', 'absolutely'], ['alogloptin', 'allotting'], ['blurrs', 'blurts'], ['lprd', 'lord'], ['arcalyst', 'catalyst'], ['fcas', 'fracas'], ['widthdrawls', 'width drawls'], ['ambiens', 'ambient'], ['clobatelsol', 'consolidate'], ['ortzela', 'Tortola'], ['havoni', 'Havoline'], ['pentadecalactone', 'Pentecostalism'], ['testogel', 'estoppel'], ['adaphlene', 'naphthalene'], ['benozoyl', 'benzyl'], ['blinkhealth', 'blink health'], ['hcronic', 'chronic'], ['inventer', 'inventor'], ['apremelast', 'premenstrual'], ['diclo', 'disclose'], ['promethizine', 'promethium'], ['dranks', 'franks'], ['entspecialist', 'nonspecialist'], ['azalastine', 'inelastic'], ['fibermyalgia', 'fiberglass'], ['rehumatologist', 'hematologist'], ['zantrex', 'Cantrell'], ['orovo', 'Provo'], ['derpression', 'depression'], ['fluoxtine', 'fluorine'], ['prascion', 'precision'], ['hormonas', 'hormones'], ['markingson', 'marking son'], ['guai', 'Guam'], ['bpdrop', 'drop'], ['andinaffective', 'noneffective'], ['bumpzilla', 'Bugzilla'], ['quinsy', 'quins'], ['peritonsilar', 'peritoneal'], ['zolped', 'lopped'], ['acefix', 'ace fix'], ['pericolace', 'percolate'], ['choromycetin', 'erythromycin'], ['ritoxan', 'antitoxin'], ['carbamanzepine', 'carboniferous'], ['tyrasine', 'trashiness'], ['premerin', 'Preminger'], ['trazarone', 'tetrahedron'], ['glucorade', 'glucose'], ['heachaches', 'headaches'], ['clarithro', 'clarity'], ['eustachion', 'Eustachian'], ['contiptated', 'constipated'], ['reddys', 'redyes'], ['speches', 'speeches'], ['guaranteee', 'guarantee'], ['autoinjection', 'auto injection'], ['wegmans', 'legman'], ['omision', 'omission'], ['coffeee', 'coffee'], ['enemic', 'endemic'], ['pdocs', 'docs'], ['flexerils', 'flexible'], ['amytripline', 'trampoline'], ['lipp', 'lip'], ['ramsay', 'Ramsay'], ['althrough', 'although'], ['adema', 'edema'], ['hardley', 'hardly'], ['stresam', 'stream'], ['managible', 'manageable'], ['methlylin', 'methyl'], ['nuasea', 'nausea'], ['rheumaticai', 'rheumatically'], ['oit', 'pit'], ['injectiions', 'injections'], ['hadabsolutely', 'had absolutely']]\n"
          ],
          "name": "stdout"
        }
      ]
    },
    {
      "cell_type": "markdown",
      "metadata": {
        "id": "1dB8uJVg9rNA",
        "colab_type": "text"
      },
      "source": [
        "The above output shows that even though spell checker gives suggestions for most of the words but the suggestions does not really help to predict the correct word"
      ]
    },
    {
      "cell_type": "markdown",
      "metadata": {
        "id": "9vQf01vgD0FZ",
        "colab_type": "text"
      },
      "source": [
        "### Feedforward network using only drug Names"
      ]
    },
    {
      "cell_type": "code",
      "metadata": {
        "id": "sKQ9_EkZkOO2",
        "colab_type": "code",
        "colab": {}
      },
      "source": [
        "#PMC embedding for drug names and conditions which would be added to the last layer of LSTM\n",
        "\n",
        "Drug_embedding = np.zeros((len(X_train_clean), 200))\n",
        "\n",
        "for idx, drug in enumerate(X_train_clean['drugName']):\n",
        "  \n",
        "  embedding_vec = np.zeros(200)\n",
        "  \n",
        "  if (len(drug) == 1):\n",
        "    try:\n",
        "      embedding_vec = pmc_map[drug]\n",
        "    except:\n",
        "      continue\n",
        "  \n",
        "  elif len(drug) > 1:\n",
        "\n",
        "    for d in drug:\n",
        "      try:\n",
        "        embedding_vec += pmc_map[d]\n",
        "      except:\n",
        "        continue\n",
        "    embedding_vec = embedding_vec/len(drug)\n",
        "  Drug_embedding[idx] = embedding_vec"
      ],
      "execution_count": null,
      "outputs": []
    },
    {
      "cell_type": "code",
      "metadata": {
        "id": "NZixh_HbeE8M",
        "colab_type": "code",
        "colab": {}
      },
      "source": [
        "Drug_embedding = StandardScaler().fit_transform(Drug_embedding)"
      ],
      "execution_count": null,
      "outputs": []
    },
    {
      "cell_type": "code",
      "metadata": {
        "id": "IgatYtvuCACF",
        "colab_type": "code",
        "colab": {
          "base_uri": "https://localhost:8080/",
          "height": 272
        },
        "outputId": "19565eb4-47a1-4a36-ca50-414390094670"
      },
      "source": [
        "from keras.models import Model\n",
        "Inp = Input(shape = (200,))\n",
        "# l0 = Masking(mask_value = 0)(Inp)\n",
        "#l1 = Dense(300, activation = 'relu')(Inp)\n",
        "#l2 = Dropout(0.3)(l1)\n",
        "l3 = Dense(100, activation = 'relu')(Inp)\n",
        "#l4 = Dropout(0.25)(l3)\n",
        "l5 = Dense(50, activation = 'relu')(l3)\n",
        "#l6 = Dropout(0.2)(l5)\n",
        "label = Dense(3, activation = 'softmax')(l5)\n",
        "adam = optimizers.Adam(lr = 0.001)\n",
        "\n",
        "model = Model(inputs = Inp, outputs = label)\n",
        "model.compile(loss='categorical_crossentropy', optimizer=adam, metrics=['accuracy'])\n",
        "model.summary()"
      ],
      "execution_count": null,
      "outputs": [
        {
          "output_type": "stream",
          "text": [
            "_________________________________________________________________\n",
            "Layer (type)                 Output Shape              Param #   \n",
            "=================================================================\n",
            "input_29 (InputLayer)        (None, 200)               0         \n",
            "_________________________________________________________________\n",
            "dense_89 (Dense)             (None, 100)               20100     \n",
            "_________________________________________________________________\n",
            "dense_90 (Dense)             (None, 50)                5050      \n",
            "_________________________________________________________________\n",
            "dense_91 (Dense)             (None, 3)                 153       \n",
            "=================================================================\n",
            "Total params: 25,303\n",
            "Trainable params: 25,303\n",
            "Non-trainable params: 0\n",
            "_________________________________________________________________\n"
          ],
          "name": "stdout"
        }
      ]
    },
    {
      "cell_type": "code",
      "metadata": {
        "id": "oHAlPqecDnLZ",
        "colab_type": "code",
        "colab": {
          "base_uri": "https://localhost:8080/",
          "height": 425
        },
        "outputId": "5cf245dc-cb3a-46f9-8ff3-1b2ffef34e91"
      },
      "source": [
        "y_train_ohe = pd.get_dummies(y_train).values\n",
        "\n",
        "X_train_nn, X_val_nn, y_train_nn, y_val_nn = train_test_split(Drug_embedding, y_train_ohe, test_size=0.3, random_state=42, shuffle = True)\n",
        "\n",
        "model.fit(X_train_nn, y_train_nn, validation_data=(X_val_nn, y_val_nn), batch_size=128, epochs = 10, shuffle=True)"
      ],
      "execution_count": null,
      "outputs": [
        {
          "output_type": "stream",
          "text": [
            "[11745  6472 16783]\n",
            "[5013 2761 7226]\n",
            "Train on 35000 samples, validate on 15000 samples\n",
            "Epoch 1/10\n",
            "35000/35000 [==============================] - 5s 133us/step - loss: 1.0253 - acc: 0.4947 - val_loss: 1.0050 - val_acc: 0.5125\n",
            "Epoch 2/10\n",
            "35000/35000 [==============================] - 2s 46us/step - loss: 0.9994 - acc: 0.5153 - val_loss: 0.9979 - val_acc: 0.5157\n",
            "Epoch 3/10\n",
            "35000/35000 [==============================] - 2s 47us/step - loss: 0.9927 - acc: 0.5210 - val_loss: 0.9974 - val_acc: 0.5168\n",
            "Epoch 4/10\n",
            "35000/35000 [==============================] - 2s 46us/step - loss: 0.9886 - acc: 0.5240 - val_loss: 1.0024 - val_acc: 0.5119\n",
            "Epoch 5/10\n",
            "35000/35000 [==============================] - 2s 47us/step - loss: 0.9856 - acc: 0.5240 - val_loss: 0.9933 - val_acc: 0.5246\n",
            "Epoch 6/10\n",
            "35000/35000 [==============================] - 2s 47us/step - loss: 0.9818 - acc: 0.5274 - val_loss: 0.9918 - val_acc: 0.5248\n",
            "Epoch 7/10\n",
            "35000/35000 [==============================] - 2s 46us/step - loss: 0.9810 - acc: 0.5282 - val_loss: 0.9896 - val_acc: 0.5232\n",
            "Epoch 8/10\n",
            "35000/35000 [==============================] - 2s 47us/step - loss: 0.9788 - acc: 0.5281 - val_loss: 0.9918 - val_acc: 0.5217\n",
            "Epoch 9/10\n",
            "35000/35000 [==============================] - 2s 46us/step - loss: 0.9773 - acc: 0.5300 - val_loss: 0.9876 - val_acc: 0.5286\n",
            "Epoch 10/10\n",
            "35000/35000 [==============================] - 2s 46us/step - loss: 0.9748 - acc: 0.5324 - val_loss: 0.9894 - val_acc: 0.5187\n"
          ],
          "name": "stdout"
        },
        {
          "output_type": "execute_result",
          "data": {
            "text/plain": [
              "<keras.callbacks.History at 0x7f7a73172f60>"
            ]
          },
          "metadata": {
            "tags": []
          },
          "execution_count": 215
        }
      ]
    },
    {
      "cell_type": "code",
      "metadata": {
        "id": "2b-CcXRbTo4i",
        "colab_type": "code",
        "colab": {
          "base_uri": "https://localhost:8080/",
          "height": 102
        },
        "outputId": "900b40f5-38be-4301-ea5c-ef71c1d21660"
      },
      "source": [
        "np.argmax(model.predict(X_val_nn[:100]), axis = 1)"
      ],
      "execution_count": null,
      "outputs": [
        {
          "output_type": "execute_result",
          "data": {
            "text/plain": [
              "array([2, 2, 2, 2, 0, 2, 0, 2, 0, 2, 2, 2, 0, 2, 0, 2, 2, 2, 0, 0, 2, 2,\n",
              "       0, 2, 2, 0, 2, 2, 2, 2, 2, 2, 2, 0, 0, 2, 2, 2, 2, 2, 2, 2, 2, 2,\n",
              "       0, 2, 2, 2, 0, 2, 2, 2, 2, 2, 0, 2, 2, 2, 2, 0, 2, 2, 2, 2, 2, 0,\n",
              "       0, 2, 2, 2, 2, 2, 2, 1, 2, 2, 2, 0, 2, 2, 2, 2, 2, 2, 2, 2, 2, 0,\n",
              "       2, 2, 2, 1, 2, 2, 2, 2, 2, 2, 2, 2])"
            ]
          },
          "metadata": {
            "tags": []
          },
          "execution_count": 216
        }
      ]
    },
    {
      "cell_type": "markdown",
      "metadata": {
        "id": "yIQiXXD3GvsB",
        "colab_type": "text"
      },
      "source": [
        "### Feedforward network using only Conditions"
      ]
    },
    {
      "cell_type": "code",
      "metadata": {
        "id": "KWR05B7TGxrV",
        "colab_type": "code",
        "colab": {}
      },
      "source": [
        "#PMC embedding for conditions which would be added to the last layer of LSTM\n",
        "Cond_embedding = np.zeros((len(X_train_clean), 400))\n",
        "\n",
        "for idx, cond in enumerate(X_train_clean['condition']):\n",
        "  \n",
        "  cond = cond.split()\n",
        "  embedding_vec = np.zeros(400)\n",
        "  \n",
        "  if (len(cond) == 1):\n",
        "    try:\n",
        "      embedding_vec[:200] = pmc_map[drug]\n",
        "    except:\n",
        "      continue\n",
        "  \n",
        "  elif len(cond) == 2:\n",
        "      try:\n",
        "        embedding_vec[:200] = pmc_map[cond[0]]\n",
        "        embedding_vec[200:] = pmc_map[cond[1]]\n",
        "      except:\n",
        "        continue\n",
        "\n",
        "  Cond_embedding[idx] = embedding_vec"
      ],
      "execution_count": null,
      "outputs": []
    },
    {
      "cell_type": "code",
      "metadata": {
        "id": "dAAk-jdjIWAR",
        "colab_type": "code",
        "colab": {
          "base_uri": "https://localhost:8080/",
          "height": 408
        },
        "outputId": "9ef77bd8-9520-45c3-a01c-c18fd633fa9f"
      },
      "source": [
        "from keras.models import Model\n",
        "Inp = Input(shape = (400,))\n",
        "# l0 = Masking(mask_value = 0)(Inp)\n",
        "l1 = Dense(300, activation = 'relu')(Inp)\n",
        "l2 = Dropout(0.3)(l1)\n",
        "l3 = Dense(200, activation = 'relu')(l2)\n",
        "l4 = Dropout(0.25)(l3)\n",
        "l5 = Dense(50, activation = 'relu')(l4)\n",
        "l6 = Dropout(0.2)(l5)\n",
        "label = Dense(3, activation = 'softmax')(l6)\n",
        "adam = optimizers.Adam(lr = 0.001)\n",
        "\n",
        "model = Model(inputs = Inp, outputs = label)\n",
        "model.compile(loss='categorical_crossentropy', optimizer=adam, metrics=['accuracy'])\n",
        "model.summary()"
      ],
      "execution_count": null,
      "outputs": [
        {
          "output_type": "stream",
          "text": [
            "_________________________________________________________________\n",
            "Layer (type)                 Output Shape              Param #   \n",
            "=================================================================\n",
            "input_18 (InputLayer)        (None, 400)               0         \n",
            "_________________________________________________________________\n",
            "dense_48 (Dense)             (None, 300)               120300    \n",
            "_________________________________________________________________\n",
            "dropout_32 (Dropout)         (None, 300)               0         \n",
            "_________________________________________________________________\n",
            "dense_49 (Dense)             (None, 200)               60200     \n",
            "_________________________________________________________________\n",
            "dropout_33 (Dropout)         (None, 200)               0         \n",
            "_________________________________________________________________\n",
            "dense_50 (Dense)             (None, 50)                10050     \n",
            "_________________________________________________________________\n",
            "dropout_34 (Dropout)         (None, 50)                0         \n",
            "_________________________________________________________________\n",
            "dense_51 (Dense)             (None, 3)                 153       \n",
            "=================================================================\n",
            "Total params: 190,703\n",
            "Trainable params: 190,703\n",
            "Non-trainable params: 0\n",
            "_________________________________________________________________\n"
          ],
          "name": "stdout"
        }
      ]
    },
    {
      "cell_type": "code",
      "metadata": {
        "id": "aQdJ5jkPInYa",
        "colab_type": "code",
        "colab": {
          "base_uri": "https://localhost:8080/",
          "height": 731
        },
        "outputId": "1bc46a0c-4974-4695-f779-f713bcd3f2f1"
      },
      "source": [
        "y_train_ohe = pd.get_dummies(y_train)\n",
        "X_train_nn, X_val_nn, y_train_nn, y_val_nn = train_test_split(Cond_embedding[:50000], y_train_ohe[:50000], test_size=0.3, random_state=42)\n",
        "model.fit(X_train_nn, y_train_nn, validation_data=(X_val_nn, y_val_nn), batch_size=128, epochs = 20)"
      ],
      "execution_count": null,
      "outputs": [
        {
          "output_type": "stream",
          "text": [
            "Train on 35000 samples, validate on 15000 samples\n",
            "Epoch 1/20\n",
            "35000/35000 [==============================] - 4s 124us/step - loss: 0.8609 - acc: 0.6582 - val_loss: 0.8446 - val_acc: 0.6599\n",
            "Epoch 2/20\n",
            "35000/35000 [==============================] - 2s 58us/step - loss: 0.8491 - acc: 0.6616 - val_loss: 0.8437 - val_acc: 0.6599\n",
            "Epoch 3/20\n",
            "35000/35000 [==============================] - 2s 58us/step - loss: 0.8457 - acc: 0.6616 - val_loss: 0.8452 - val_acc: 0.6597\n",
            "Epoch 4/20\n",
            "35000/35000 [==============================] - 2s 57us/step - loss: 0.8436 - acc: 0.6616 - val_loss: 0.8451 - val_acc: 0.6591\n",
            "Epoch 5/20\n",
            "35000/35000 [==============================] - 2s 56us/step - loss: 0.8423 - acc: 0.6620 - val_loss: 0.8430 - val_acc: 0.6596\n",
            "Epoch 6/20\n",
            "35000/35000 [==============================] - 2s 57us/step - loss: 0.8421 - acc: 0.6619 - val_loss: 0.8436 - val_acc: 0.6599\n",
            "Epoch 7/20\n",
            "35000/35000 [==============================] - 2s 59us/step - loss: 0.8418 - acc: 0.6614 - val_loss: 0.8437 - val_acc: 0.6599\n",
            "Epoch 8/20\n",
            "35000/35000 [==============================] - 2s 55us/step - loss: 0.8411 - acc: 0.6616 - val_loss: 0.8446 - val_acc: 0.6599\n",
            "Epoch 9/20\n",
            "35000/35000 [==============================] - 2s 59us/step - loss: 0.8397 - acc: 0.6615 - val_loss: 0.8426 - val_acc: 0.6595\n",
            "Epoch 10/20\n",
            "35000/35000 [==============================] - 2s 60us/step - loss: 0.8397 - acc: 0.6616 - val_loss: 0.8438 - val_acc: 0.6595\n",
            "Epoch 11/20\n",
            "35000/35000 [==============================] - 2s 59us/step - loss: 0.8387 - acc: 0.6615 - val_loss: 0.8429 - val_acc: 0.6598\n",
            "Epoch 12/20\n",
            "35000/35000 [==============================] - 2s 57us/step - loss: 0.8393 - acc: 0.6616 - val_loss: 0.8431 - val_acc: 0.6597\n",
            "Epoch 13/20\n",
            "35000/35000 [==============================] - 2s 59us/step - loss: 0.8378 - acc: 0.6620 - val_loss: 0.8430 - val_acc: 0.6597\n",
            "Epoch 14/20\n",
            "35000/35000 [==============================] - 2s 56us/step - loss: 0.8377 - acc: 0.6619 - val_loss: 0.8442 - val_acc: 0.6599\n",
            "Epoch 15/20\n",
            "35000/35000 [==============================] - 2s 56us/step - loss: 0.8382 - acc: 0.6615 - val_loss: 0.8434 - val_acc: 0.6600\n",
            "Epoch 16/20\n",
            "35000/35000 [==============================] - 2s 57us/step - loss: 0.8370 - acc: 0.6617 - val_loss: 0.8434 - val_acc: 0.6597\n",
            "Epoch 17/20\n",
            "35000/35000 [==============================] - 2s 56us/step - loss: 0.8375 - acc: 0.6620 - val_loss: 0.8439 - val_acc: 0.6590\n",
            "Epoch 18/20\n",
            "35000/35000 [==============================] - 2s 57us/step - loss: 0.8369 - acc: 0.6618 - val_loss: 0.8442 - val_acc: 0.6595\n",
            "Epoch 19/20\n",
            "35000/35000 [==============================] - 2s 58us/step - loss: 0.8364 - acc: 0.6621 - val_loss: 0.8448 - val_acc: 0.6597\n",
            "Epoch 20/20\n",
            "35000/35000 [==============================] - 2s 57us/step - loss: 0.8364 - acc: 0.6620 - val_loss: 0.8436 - val_acc: 0.6595\n"
          ],
          "name": "stdout"
        },
        {
          "output_type": "execute_result",
          "data": {
            "text/plain": [
              "<keras.callbacks.History at 0x7f7a766268d0>"
            ]
          },
          "metadata": {
            "tags": []
          },
          "execution_count": 128
        }
      ]
    },
    {
      "cell_type": "code",
      "metadata": {
        "id": "DXvniHMJSKxT",
        "colab_type": "code",
        "colab": {
          "base_uri": "https://localhost:8080/",
          "height": 136
        },
        "outputId": "0d05d9e7-38f6-4d71-b38a-51b0ab4e2c67"
      },
      "source": [
        "model.predict(X_val_nn)"
      ],
      "execution_count": null,
      "outputs": [
        {
          "output_type": "execute_result",
          "data": {
            "text/plain": [
              "array([[0.18565875, 0.1048053 , 0.70953596],\n",
              "       [0.2590296 , 0.12609337, 0.61487705],\n",
              "       [0.28092235, 0.18604603, 0.53303164],\n",
              "       ...,\n",
              "       [0.2590296 , 0.12609337, 0.61487705],\n",
              "       [0.18565875, 0.1048053 , 0.70953596],\n",
              "       [0.28092235, 0.18604603, 0.53303164]], dtype=float32)"
            ]
          },
          "metadata": {
            "tags": []
          },
          "execution_count": 129
        }
      ]
    },
    {
      "cell_type": "markdown",
      "metadata": {
        "id": "dIPwEIxcI2bG",
        "colab_type": "text"
      },
      "source": [
        "### Combining DrugName and Condition"
      ]
    },
    {
      "cell_type": "code",
      "metadata": {
        "id": "zlN4bRZTI9GL",
        "colab_type": "code",
        "colab": {
          "base_uri": "https://localhost:8080/",
          "height": 34
        },
        "outputId": "5fb58f30-13a3-46ca-93f0-a43faf6b54e4"
      },
      "source": [
        "Drug_Cond = np.concatenate((Drug_embedding, Cond_embedding), axis = 1)\n",
        "np.shape(Drug_Cond)"
      ],
      "execution_count": null,
      "outputs": [
        {
          "output_type": "execute_result",
          "data": {
            "text/plain": [
              "(161297, 600)"
            ]
          },
          "metadata": {
            "tags": []
          },
          "execution_count": 114
        }
      ]
    },
    {
      "cell_type": "code",
      "metadata": {
        "id": "66jxIVlUJaI6",
        "colab_type": "code",
        "colab": {
          "base_uri": "https://localhost:8080/",
          "height": 442
        },
        "outputId": "e68422b8-99e3-4307-af07-d0aaefe51ad4"
      },
      "source": [
        "from keras.models import Model\n",
        "Inp = Input(shape = (600,))\n",
        "l0 = Masking(mask_value = 0)(Inp)\n",
        "l1 = Dense(300, activation = 'relu')(l0)\n",
        "l2 = Dropout(0.3)(l1)\n",
        "l3 = Dense(200, activation = 'relu')(l2)\n",
        "l4 = Dropout(0.25)(l3)\n",
        "l5 = Dense(50, activation = 'relu')(l4)\n",
        "l6 = Dropout(0.2)(l5)\n",
        "label = Dense(3, activation = 'softmax')(l6)\n",
        "adam = optimizers.Adam(lr = 0.001)\n",
        "\n",
        "model = Model(inputs = Inp, outputs = label)\n",
        "model.compile(loss='categorical_crossentropy', optimizer=adam, metrics=['accuracy'])\n",
        "model.summary()"
      ],
      "execution_count": null,
      "outputs": [
        {
          "output_type": "stream",
          "text": [
            "_________________________________________________________________\n",
            "Layer (type)                 Output Shape              Param #   \n",
            "=================================================================\n",
            "input_16 (InputLayer)        (None, 600)               0         \n",
            "_________________________________________________________________\n",
            "masking_8 (Masking)          (None, 600)               0         \n",
            "_________________________________________________________________\n",
            "dense_40 (Dense)             (None, 300)               180300    \n",
            "_________________________________________________________________\n",
            "dropout_26 (Dropout)         (None, 300)               0         \n",
            "_________________________________________________________________\n",
            "dense_41 (Dense)             (None, 200)               60200     \n",
            "_________________________________________________________________\n",
            "dropout_27 (Dropout)         (None, 200)               0         \n",
            "_________________________________________________________________\n",
            "dense_42 (Dense)             (None, 50)                10050     \n",
            "_________________________________________________________________\n",
            "dropout_28 (Dropout)         (None, 50)                0         \n",
            "_________________________________________________________________\n",
            "dense_43 (Dense)             (None, 3)                 153       \n",
            "=================================================================\n",
            "Total params: 250,703\n",
            "Trainable params: 250,703\n",
            "Non-trainable params: 0\n",
            "_________________________________________________________________\n"
          ],
          "name": "stdout"
        }
      ]
    },
    {
      "cell_type": "code",
      "metadata": {
        "id": "2sIISjidJc-R",
        "colab_type": "code",
        "colab": {
          "base_uri": "https://localhost:8080/",
          "height": 1751
        },
        "outputId": "f29904a3-ca9c-49c1-a59c-e29775ac7c7f"
      },
      "source": [
        "y_train_ohe = pd.get_dummies(y_train)\n",
        "X_train_nn, X_val_nn, y_train_nn, y_val_nn = train_test_split(Drug_Cond, y_train_ohe, test_size=0.3, random_state=42)\n",
        "model.fit(X_train_nn, y_train_nn, validation_data=(X_val_nn, y_val_nn), batch_size=256, epochs = 50)"
      ],
      "execution_count": null,
      "outputs": [
        {
          "output_type": "stream",
          "text": [
            "Train on 112907 samples, validate on 48390 samples\n",
            "Epoch 1/50\n",
            "112907/112907 [==============================] - 3s 31us/step - loss: 0.8294 - acc: 0.6671 - val_loss: 0.8235 - val_acc: 0.6695\n",
            "Epoch 2/50\n",
            "112907/112907 [==============================] - 4s 31us/step - loss: 0.8275 - acc: 0.6675 - val_loss: 0.8226 - val_acc: 0.6691\n",
            "Epoch 3/50\n",
            "112907/112907 [==============================] - 4s 31us/step - loss: 0.8266 - acc: 0.6675 - val_loss: 0.8228 - val_acc: 0.6700\n",
            "Epoch 4/50\n",
            "112907/112907 [==============================] - 4s 31us/step - loss: 0.8260 - acc: 0.6680 - val_loss: 0.8217 - val_acc: 0.6696\n",
            "Epoch 5/50\n",
            "112907/112907 [==============================] - 4s 31us/step - loss: 0.8254 - acc: 0.6679 - val_loss: 0.8218 - val_acc: 0.6696\n",
            "Epoch 6/50\n",
            "112907/112907 [==============================] - 4s 31us/step - loss: 0.8252 - acc: 0.6682 - val_loss: 0.8208 - val_acc: 0.6698\n",
            "Epoch 7/50\n",
            "112907/112907 [==============================] - 4s 32us/step - loss: 0.8246 - acc: 0.6682 - val_loss: 0.8209 - val_acc: 0.6696\n",
            "Epoch 8/50\n",
            "112907/112907 [==============================] - 4s 31us/step - loss: 0.8242 - acc: 0.6679 - val_loss: 0.8207 - val_acc: 0.6697\n",
            "Epoch 9/50\n",
            "112907/112907 [==============================] - 4s 31us/step - loss: 0.8231 - acc: 0.6681 - val_loss: 0.8210 - val_acc: 0.6696\n",
            "Epoch 10/50\n",
            "112907/112907 [==============================] - 4s 31us/step - loss: 0.8232 - acc: 0.6685 - val_loss: 0.8194 - val_acc: 0.6698\n",
            "Epoch 11/50\n",
            "112907/112907 [==============================] - 4s 31us/step - loss: 0.8221 - acc: 0.6688 - val_loss: 0.8193 - val_acc: 0.6701\n",
            "Epoch 12/50\n",
            "112907/112907 [==============================] - 4s 32us/step - loss: 0.8214 - acc: 0.6688 - val_loss: 0.8194 - val_acc: 0.6700\n",
            "Epoch 13/50\n",
            "112907/112907 [==============================] - 4s 32us/step - loss: 0.8220 - acc: 0.6683 - val_loss: 0.8190 - val_acc: 0.6693\n",
            "Epoch 14/50\n",
            "112907/112907 [==============================] - 4s 31us/step - loss: 0.8218 - acc: 0.6684 - val_loss: 0.8194 - val_acc: 0.6701\n",
            "Epoch 15/50\n",
            "112907/112907 [==============================] - 4s 31us/step - loss: 0.8211 - acc: 0.6688 - val_loss: 0.8186 - val_acc: 0.6698\n",
            "Epoch 16/50\n",
            "112907/112907 [==============================] - 4s 31us/step - loss: 0.8214 - acc: 0.6683 - val_loss: 0.8192 - val_acc: 0.6700\n",
            "Epoch 17/50\n",
            "112907/112907 [==============================] - 4s 31us/step - loss: 0.8207 - acc: 0.6681 - val_loss: 0.8187 - val_acc: 0.6704\n",
            "Epoch 18/50\n",
            "112907/112907 [==============================] - 4s 31us/step - loss: 0.8204 - acc: 0.6688 - val_loss: 0.8183 - val_acc: 0.6706\n",
            "Epoch 19/50\n",
            "112907/112907 [==============================] - 4s 31us/step - loss: 0.8193 - acc: 0.6692 - val_loss: 0.8184 - val_acc: 0.6699\n",
            "Epoch 20/50\n",
            "112907/112907 [==============================] - 4s 31us/step - loss: 0.8192 - acc: 0.6688 - val_loss: 0.8181 - val_acc: 0.6700\n",
            "Epoch 21/50\n",
            "112907/112907 [==============================] - 4s 31us/step - loss: 0.8186 - acc: 0.6687 - val_loss: 0.8171 - val_acc: 0.6702\n",
            "Epoch 22/50\n",
            "112907/112907 [==============================] - 4s 31us/step - loss: 0.8185 - acc: 0.6685 - val_loss: 0.8180 - val_acc: 0.6701\n",
            "Epoch 23/50\n",
            "112907/112907 [==============================] - 4s 31us/step - loss: 0.8179 - acc: 0.6696 - val_loss: 0.8176 - val_acc: 0.6701\n",
            "Epoch 24/50\n",
            "112907/112907 [==============================] - 4s 31us/step - loss: 0.8184 - acc: 0.6694 - val_loss: 0.8183 - val_acc: 0.6697\n",
            "Epoch 25/50\n",
            "112907/112907 [==============================] - 4s 32us/step - loss: 0.8175 - acc: 0.6693 - val_loss: 0.8182 - val_acc: 0.6706\n",
            "Epoch 26/50\n",
            "112907/112907 [==============================] - 4s 32us/step - loss: 0.8177 - acc: 0.6693 - val_loss: 0.8180 - val_acc: 0.6707\n",
            "Epoch 27/50\n",
            "112907/112907 [==============================] - 4s 32us/step - loss: 0.8170 - acc: 0.6693 - val_loss: 0.8179 - val_acc: 0.6708\n",
            "Epoch 28/50\n",
            "112907/112907 [==============================] - 4s 31us/step - loss: 0.8180 - acc: 0.6690 - val_loss: 0.8185 - val_acc: 0.6703\n",
            "Epoch 29/50\n",
            "112907/112907 [==============================] - 4s 32us/step - loss: 0.8170 - acc: 0.6696 - val_loss: 0.8174 - val_acc: 0.6707\n",
            "Epoch 30/50\n",
            "112907/112907 [==============================] - 4s 32us/step - loss: 0.8167 - acc: 0.6696 - val_loss: 0.8179 - val_acc: 0.6702\n",
            "Epoch 31/50\n",
            "112907/112907 [==============================] - 4s 31us/step - loss: 0.8157 - acc: 0.6696 - val_loss: 0.8169 - val_acc: 0.6707\n",
            "Epoch 32/50\n",
            "112907/112907 [==============================] - 4s 31us/step - loss: 0.8158 - acc: 0.6692 - val_loss: 0.8175 - val_acc: 0.6704\n",
            "Epoch 33/50\n",
            "112907/112907 [==============================] - 4s 32us/step - loss: 0.8159 - acc: 0.6702 - val_loss: 0.8183 - val_acc: 0.6710\n",
            "Epoch 34/50\n",
            "112907/112907 [==============================] - 4s 31us/step - loss: 0.8161 - acc: 0.6694 - val_loss: 0.8158 - val_acc: 0.6703\n",
            "Epoch 35/50\n",
            "112907/112907 [==============================] - 4s 32us/step - loss: 0.8153 - acc: 0.6692 - val_loss: 0.8178 - val_acc: 0.6706\n",
            "Epoch 36/50\n",
            "112907/112907 [==============================] - 4s 31us/step - loss: 0.8152 - acc: 0.6696 - val_loss: 0.8166 - val_acc: 0.6706\n",
            "Epoch 37/50\n",
            "112907/112907 [==============================] - 4s 31us/step - loss: 0.8146 - acc: 0.6700 - val_loss: 0.8160 - val_acc: 0.6704\n",
            "Epoch 38/50\n",
            "112907/112907 [==============================] - 4s 32us/step - loss: 0.8145 - acc: 0.6696 - val_loss: 0.8171 - val_acc: 0.6706\n",
            "Epoch 39/50\n",
            "112907/112907 [==============================] - 4s 31us/step - loss: 0.8141 - acc: 0.6698 - val_loss: 0.8156 - val_acc: 0.6704\n",
            "Epoch 40/50\n",
            "112907/112907 [==============================] - 4s 32us/step - loss: 0.8145 - acc: 0.6699 - val_loss: 0.8160 - val_acc: 0.6708\n",
            "Epoch 41/50\n",
            "112907/112907 [==============================] - 4s 31us/step - loss: 0.8141 - acc: 0.6698 - val_loss: 0.8160 - val_acc: 0.6699\n",
            "Epoch 42/50\n",
            "112907/112907 [==============================] - 4s 31us/step - loss: 0.8137 - acc: 0.6700 - val_loss: 0.8155 - val_acc: 0.6710\n",
            "Epoch 43/50\n",
            "112907/112907 [==============================] - 4s 31us/step - loss: 0.8140 - acc: 0.6699 - val_loss: 0.8173 - val_acc: 0.6708\n",
            "Epoch 44/50\n",
            "112907/112907 [==============================] - 4s 31us/step - loss: 0.8136 - acc: 0.6693 - val_loss: 0.8155 - val_acc: 0.6705\n",
            "Epoch 45/50\n",
            "112907/112907 [==============================] - 4s 32us/step - loss: 0.8126 - acc: 0.6699 - val_loss: 0.8153 - val_acc: 0.6705\n",
            "Epoch 46/50\n",
            "112907/112907 [==============================] - 4s 32us/step - loss: 0.8136 - acc: 0.6700 - val_loss: 0.8161 - val_acc: 0.6711\n",
            "Epoch 47/50\n",
            "112907/112907 [==============================] - 4s 32us/step - loss: 0.8130 - acc: 0.6701 - val_loss: 0.8159 - val_acc: 0.6704\n",
            "Epoch 48/50\n",
            "112907/112907 [==============================] - 4s 31us/step - loss: 0.8130 - acc: 0.6698 - val_loss: 0.8166 - val_acc: 0.6706\n",
            "Epoch 49/50\n",
            "112907/112907 [==============================] - 4s 31us/step - loss: 0.8134 - acc: 0.6698 - val_loss: 0.8165 - val_acc: 0.6702\n",
            "Epoch 50/50\n",
            "112907/112907 [==============================] - 4s 32us/step - loss: 0.8131 - acc: 0.6701 - val_loss: 0.8164 - val_acc: 0.6707\n"
          ],
          "name": "stdout"
        },
        {
          "output_type": "execute_result",
          "data": {
            "text/plain": [
              "<keras.callbacks.History at 0x7f7a775a75c0>"
            ]
          },
          "metadata": {
            "tags": []
          },
          "execution_count": 117
        }
      ]
    },
    {
      "cell_type": "markdown",
      "metadata": {
        "id": "LbD08El7Svgu",
        "colab_type": "text"
      },
      "source": [
        "### Training only on review data"
      ]
    },
    {
      "cell_type": "markdown",
      "metadata": {
        "id": "YAeq3Z2eM9X_",
        "colab_type": "text"
      },
      "source": [
        "Since, the spell checker does not seem to provide reasonable advantage, we would ignore all the words not found in the pre-trained vector."
      ]
    },
    {
      "cell_type": "code",
      "metadata": {
        "id": "FwpLMWfUNM--",
        "colab_type": "code",
        "colab": {}
      },
      "source": [
        "# Without using the drugName and condition, can add them later once we have reasonable results with this model\n",
        "# Takes some time to run\n",
        "vocab = tk.word_counts.keys()\n",
        "vocab_size = len(vocab) + 1\n",
        "non_zero = 0\n",
        "embedding_matrix = np.zeros((vocab_size, 300))\n",
        "\n",
        "for idx, word in enumerate(vocab):\n",
        "  \n",
        "  try:\n",
        "    embedding_vec = google_map[word]\n",
        "    non_zero += 1\n",
        "  except:\n",
        "    embedding_vec = None\n",
        "  \n",
        "  if embedding_vec is not None:\n",
        "    embedding_matrix[idx+1] = embedding_vec #Wasted hours to debug this \"+1\""
      ],
      "execution_count": null,
      "outputs": []
    },
    {
      "cell_type": "code",
      "metadata": {
        "id": "PzHcvHSO-P3X",
        "colab_type": "code",
        "colab": {}
      },
      "source": [
        "max_words = 100\n",
        "embedding_size = 300"
      ],
      "execution_count": null,
      "outputs": []
    },
    {
      "cell_type": "code",
      "metadata": {
        "id": "9c7XJoPJe7oR",
        "colab_type": "code",
        "colab": {
          "base_uri": "https://localhost:8080/",
          "height": 272
        },
        "outputId": "8e817539-3bc7-4518-c855-a4b2fe073f42"
      },
      "source": [
        "\n",
        "Inp = Input(shape = (100,))\n",
        "Embd = Embedding(vocab_size, embedding_size, input_length=max_words, weights = [embedding_matrix], trainable = False)(Inp)\n",
        "# mask = Masking(mask_value=0)(Embd)\n",
        "lstm = LSTM(100)(Embd)\n",
        "# drop = Dropout(0.1)(lstm)\n",
        "output = Dense(3, activation='softmax')(lstm)\n",
        "adam = optimizers.Adam(lr = 0.001)\n",
        "\n",
        "model = Model(inputs = Inp, outputs = output)\n",
        "reduce_lr = ReduceLROnPlateau(monitor='val_loss', factor=0.2, patience=5, min_lr=0.0001)\n",
        "chk_pt = ModelCheckpoint(\"best.model.hdf5\", save_best_only = True, monitor = 'val_loss')\n",
        "model.compile(loss='categorical_crossentropy', optimizer=adam, metrics=['accuracy'])\n",
        "model.summary()"
      ],
      "execution_count": null,
      "outputs": [
        {
          "output_type": "stream",
          "text": [
            "_________________________________________________________________\n",
            "Layer (type)                 Output Shape              Param #   \n",
            "=================================================================\n",
            "input_17 (InputLayer)        (None, 100)               0         \n",
            "_________________________________________________________________\n",
            "embedding_17 (Embedding)     (None, 100, 300)          14764500  \n",
            "_________________________________________________________________\n",
            "lstm_17 (LSTM)               (None, 100)               160400    \n",
            "_________________________________________________________________\n",
            "dense_17 (Dense)             (None, 3)                 303       \n",
            "=================================================================\n",
            "Total params: 14,925,203\n",
            "Trainable params: 160,703\n",
            "Non-trainable params: 14,764,500\n",
            "_________________________________________________________________\n"
          ],
          "name": "stdout"
        }
      ]
    },
    {
      "cell_type": "code",
      "metadata": {
        "id": "2YqQ95O-QtNN",
        "colab_type": "code",
        "colab": {
          "base_uri": "https://localhost:8080/",
          "height": 68
        },
        "outputId": "e57ae50d-7781-43aa-ba30-15e739d098f6"
      },
      "source": [
        "# One hot encoding output labels\n",
        "y_train_ohe = pd.get_dummies(y_train)"
      ],
      "execution_count": null,
      "outputs": [
        {
          "output_type": "stream",
          "text": [
            "0.0\n",
            "126234.0\n",
            "233100.0\n"
          ],
          "name": "stdout"
        }
      ]
    },
    {
      "cell_type": "code",
      "metadata": {
        "id": "X9yVUUN4-T9X",
        "colab_type": "code",
        "colab": {}
      },
      "source": [
        "X_train_rnn, X_val_rnn, y_train_rnn, y_val_rnn = train_test_split(X_train_pad, y_train_ohe, test_size=0.2, random_state=42)"
      ],
      "execution_count": null,
      "outputs": []
    },
    {
      "cell_type": "code",
      "metadata": {
        "id": "DSJbZWCp-ZiZ",
        "colab_type": "code",
        "colab": {
          "base_uri": "https://localhost:8080/",
          "height": 1751
        },
        "outputId": "aaa0de4d-21d3-4d6b-adbd-d4768a1f34ea"
      },
      "source": [
        "model.fit(X_train_rnn, y_train_rnn, validation_data=(X_val_rnn, y_val_rnn), batch_size=256, epochs = 50, callbacks = [reduce_lr, chk_pt])"
      ],
      "execution_count": null,
      "outputs": [
        {
          "output_type": "stream",
          "text": [
            "Train on 129037 samples, validate on 32260 samples\n",
            "Epoch 1/50\n",
            "129037/129037 [==============================] - 124s 961us/step - loss: 0.8239 - acc: 0.6710 - val_loss: 0.7877 - val_acc: 0.6915\n",
            "Epoch 2/50\n",
            "129037/129037 [==============================] - 119s 924us/step - loss: 0.7233 - acc: 0.7151 - val_loss: 0.6783 - val_acc: 0.7355\n",
            "Epoch 3/50\n",
            "129037/129037 [==============================] - 120s 927us/step - loss: 0.6681 - acc: 0.7416 - val_loss: 0.6474 - val_acc: 0.7479\n",
            "Epoch 4/50\n",
            "129037/129037 [==============================] - 119s 919us/step - loss: 0.6305 - acc: 0.7572 - val_loss: 0.6614 - val_acc: 0.7333\n",
            "Epoch 5/50\n",
            "129037/129037 [==============================] - 119s 925us/step - loss: 0.6075 - acc: 0.7667 - val_loss: 0.6576 - val_acc: 0.7435\n",
            "Epoch 6/50\n",
            "129037/129037 [==============================] - 120s 927us/step - loss: 0.5833 - acc: 0.7754 - val_loss: 0.6128 - val_acc: 0.7561\n",
            "Epoch 7/50\n",
            "129037/129037 [==============================] - 117s 910us/step - loss: 0.5649 - acc: 0.7835 - val_loss: 0.6411 - val_acc: 0.7632\n",
            "Epoch 8/50\n",
            "129037/129037 [==============================] - 119s 923us/step - loss: 0.5468 - acc: 0.7892 - val_loss: 0.6672 - val_acc: 0.7634\n",
            "Epoch 9/50\n",
            "129037/129037 [==============================] - 117s 908us/step - loss: 0.5252 - acc: 0.7962 - val_loss: 0.5812 - val_acc: 0.7736\n",
            "Epoch 10/50\n",
            "129037/129037 [==============================] - 114s 886us/step - loss: 0.5065 - acc: 0.8029 - val_loss: 0.6013 - val_acc: 0.7669\n",
            "Epoch 11/50\n",
            "129037/129037 [==============================] - 114s 884us/step - loss: 0.4886 - acc: 0.8090 - val_loss: 0.5730 - val_acc: 0.7776\n",
            "Epoch 12/50\n",
            "129037/129037 [==============================] - 114s 885us/step - loss: 0.4697 - acc: 0.8153 - val_loss: 0.5915 - val_acc: 0.7741\n",
            "Epoch 13/50\n",
            "129037/129037 [==============================] - 115s 890us/step - loss: 0.4475 - acc: 0.8238 - val_loss: 0.5777 - val_acc: 0.7787\n",
            "Epoch 14/50\n",
            "129037/129037 [==============================] - 114s 883us/step - loss: 0.4329 - acc: 0.8292 - val_loss: 0.6003 - val_acc: 0.7794\n",
            "Epoch 15/50\n",
            "129037/129037 [==============================] - 115s 888us/step - loss: 0.4144 - acc: 0.8366 - val_loss: 0.6462 - val_acc: 0.7744\n",
            "Epoch 16/50\n",
            "129037/129037 [==============================] - 114s 887us/step - loss: 0.3978 - acc: 0.8430 - val_loss: 0.5923 - val_acc: 0.7826\n",
            "Epoch 17/50\n",
            "129037/129037 [==============================] - 114s 885us/step - loss: 0.3418 - acc: 0.8693 - val_loss: 0.6018 - val_acc: 0.7875\n",
            "Epoch 18/50\n",
            "129037/129037 [==============================] - 115s 894us/step - loss: 0.3253 - acc: 0.8786 - val_loss: 0.6086 - val_acc: 0.7824\n",
            "Epoch 19/50\n",
            "129037/129037 [==============================] - 118s 913us/step - loss: 0.3151 - acc: 0.8843 - val_loss: 0.6175 - val_acc: 0.7901\n",
            "Epoch 20/50\n",
            "129037/129037 [==============================] - 119s 920us/step - loss: 0.3062 - acc: 0.8890 - val_loss: 0.6210 - val_acc: 0.7905\n",
            "Epoch 21/50\n",
            "129037/129037 [==============================] - 118s 912us/step - loss: 0.2968 - acc: 0.8950 - val_loss: 0.6221 - val_acc: 0.7903\n",
            "Epoch 22/50\n",
            "129037/129037 [==============================] - 117s 909us/step - loss: 0.2823 - acc: 0.9046 - val_loss: 0.6363 - val_acc: 0.7903\n",
            "Epoch 23/50\n",
            "129037/129037 [==============================] - 117s 909us/step - loss: 0.2755 - acc: 0.9084 - val_loss: 0.6257 - val_acc: 0.7989\n",
            "Epoch 24/50\n",
            "129037/129037 [==============================] - 118s 917us/step - loss: 0.2702 - acc: 0.9114 - val_loss: 0.6271 - val_acc: 0.7979\n",
            "Epoch 25/50\n",
            "129037/129037 [==============================] - 117s 908us/step - loss: 0.2657 - acc: 0.9142 - val_loss: 0.6265 - val_acc: 0.7984\n",
            "Epoch 26/50\n",
            "129037/129037 [==============================] - 114s 885us/step - loss: 0.2603 - acc: 0.9177 - val_loss: 0.6457 - val_acc: 0.7976\n",
            "Epoch 27/50\n",
            "129037/129037 [==============================] - 114s 881us/step - loss: 0.2576 - acc: 0.9191 - val_loss: 0.6411 - val_acc: 0.8032\n",
            "Epoch 28/50\n",
            "129037/129037 [==============================] - 114s 882us/step - loss: 0.2537 - acc: 0.9216 - val_loss: 0.6412 - val_acc: 0.8040\n",
            "Epoch 29/50\n",
            "129037/129037 [==============================] - 114s 883us/step - loss: 0.2488 - acc: 0.9241 - val_loss: 0.6442 - val_acc: 0.8063\n",
            "Epoch 30/50\n",
            "129037/129037 [==============================] - 114s 887us/step - loss: 0.2454 - acc: 0.9257 - val_loss: 0.6441 - val_acc: 0.8050\n",
            "Epoch 31/50\n",
            "129037/129037 [==============================] - 113s 877us/step - loss: 0.2417 - acc: 0.9282 - val_loss: 0.6453 - val_acc: 0.8063\n",
            "Epoch 32/50\n",
            "129037/129037 [==============================] - 113s 873us/step - loss: 0.2410 - acc: 0.9284 - val_loss: 0.6531 - val_acc: 0.8023\n",
            "Epoch 33/50\n",
            "129037/129037 [==============================] - 113s 875us/step - loss: 0.2362 - acc: 0.9309 - val_loss: 0.6462 - val_acc: 0.8063\n",
            "Epoch 34/50\n",
            "129037/129037 [==============================] - 113s 877us/step - loss: 0.2334 - acc: 0.9321 - val_loss: 0.6715 - val_acc: 0.8008\n",
            "Epoch 35/50\n",
            "129037/129037 [==============================] - 113s 874us/step - loss: 0.2377 - acc: 0.9298 - val_loss: 0.6583 - val_acc: 0.8054\n",
            "Epoch 36/50\n",
            "129037/129037 [==============================] - 113s 877us/step - loss: 0.2275 - acc: 0.9350 - val_loss: 0.6568 - val_acc: 0.8102\n",
            "Epoch 37/50\n",
            "129037/129037 [==============================] - 113s 876us/step - loss: 0.2248 - acc: 0.9359 - val_loss: 0.6598 - val_acc: 0.8088\n",
            "Epoch 38/50\n",
            "129037/129037 [==============================] - 113s 877us/step - loss: 0.2255 - acc: 0.9352 - val_loss: 0.6540 - val_acc: 0.8091\n",
            "Epoch 39/50\n",
            "129037/129037 [==============================] - 114s 880us/step - loss: 0.2200 - acc: 0.9379 - val_loss: 0.6641 - val_acc: 0.8144\n",
            "Epoch 40/50\n",
            "129037/129037 [==============================] - 113s 878us/step - loss: 0.2197 - acc: 0.9380 - val_loss: 0.6559 - val_acc: 0.8103\n",
            "Epoch 41/50\n",
            "129037/129037 [==============================] - 111s 860us/step - loss: 0.2164 - acc: 0.9391 - val_loss: 0.6573 - val_acc: 0.8147\n",
            "Epoch 42/50\n",
            "129037/129037 [==============================] - 113s 878us/step - loss: 0.2151 - acc: 0.9394 - val_loss: 0.6576 - val_acc: 0.8127\n",
            "Epoch 43/50\n",
            "129037/129037 [==============================] - 113s 879us/step - loss: 0.2132 - acc: 0.9401 - val_loss: 0.6601 - val_acc: 0.8122\n",
            "Epoch 44/50\n",
            "129037/129037 [==============================] - 114s 880us/step - loss: 0.2120 - acc: 0.9404 - val_loss: 0.6656 - val_acc: 0.8138\n",
            "Epoch 45/50\n",
            "129037/129037 [==============================] - 113s 875us/step - loss: 0.2097 - acc: 0.9409 - val_loss: 0.6674 - val_acc: 0.8131\n",
            "Epoch 46/50\n",
            "129037/129037 [==============================] - 113s 874us/step - loss: 0.2075 - acc: 0.9420 - val_loss: 0.6616 - val_acc: 0.8139\n",
            "Epoch 47/50\n",
            "129037/129037 [==============================] - 113s 875us/step - loss: 0.2117 - acc: 0.9401 - val_loss: 0.6707 - val_acc: 0.8111\n",
            "Epoch 48/50\n",
            "129037/129037 [==============================] - 113s 872us/step - loss: 0.2050 - acc: 0.9425 - val_loss: 0.6694 - val_acc: 0.8128\n",
            "Epoch 49/50\n",
            "129037/129037 [==============================] - 113s 874us/step - loss: 0.2031 - acc: 0.9431 - val_loss: 0.6672 - val_acc: 0.8149\n",
            "Epoch 50/50\n",
            "129037/129037 [==============================] - 112s 868us/step - loss: 0.2002 - acc: 0.9437 - val_loss: 0.6678 - val_acc: 0.8130\n"
          ],
          "name": "stdout"
        },
        {
          "output_type": "execute_result",
          "data": {
            "text/plain": [
              "<keras.callbacks.History at 0x7fa5c22317f0>"
            ]
          },
          "metadata": {
            "tags": []
          },
          "execution_count": 152
        }
      ]
    },
    {
      "cell_type": "markdown",
      "metadata": {
        "id": "CnTq2R6NMRT8",
        "colab_type": "text"
      },
      "source": [
        "Results on validation data"
      ]
    },
    {
      "cell_type": "code",
      "metadata": {
        "id": "s9pWFMCGyYqW",
        "colab_type": "code",
        "colab": {}
      },
      "source": [
        "y_true = np.argmax(y_val_rnn.values, axis = 1)\n",
        "y_pred_rnn = np.argmax(model.predict(X_val_rnn), axis = 1)"
      ],
      "execution_count": null,
      "outputs": []
    },
    {
      "cell_type": "code",
      "metadata": {
        "id": "RGWXmJspsr7X",
        "colab_type": "code",
        "colab": {
          "base_uri": "https://localhost:8080/",
          "height": 85
        },
        "outputId": "1f287d5f-5261-46a4-b7f0-57b5d3e514cb"
      },
      "source": [
        "from sklearn.metrics import confusion_matrix, f1_score\n",
        "\n",
        "conf_mat = confusion_matrix(y_true, y_pred_rnn)\n",
        "f1 = f1_score(y_true, y_pred_rnn, average = 'macro')\n",
        "print(f1)\n",
        "print(conf_mat)"
      ],
      "execution_count": null,
      "outputs": [
        {
          "output_type": "stream",
          "text": [
            "0.7162639447996378\n",
            "[[ 5250   751   990]\n",
            " [  870  1904  1150]\n",
            " [ 1001  1011 19333]]\n"
          ],
          "name": "stdout"
        }
      ]
    },
    {
      "cell_type": "markdown",
      "metadata": {
        "id": "HADOF_KcMUlU",
        "colab_type": "text"
      },
      "source": [
        "Results on Test data"
      ]
    },
    {
      "cell_type": "code",
      "metadata": {
        "id": "AQ7vk3UOKXqQ",
        "colab_type": "code",
        "colab": {}
      },
      "source": [
        "y_test_enc = y_test\n",
        "y_test_pred = np.argmax(model.predict(X_test_pad), axis = 1)"
      ],
      "execution_count": null,
      "outputs": []
    },
    {
      "cell_type": "code",
      "metadata": {
        "id": "P5Jc6KOyfF_p",
        "colab_type": "code",
        "colab": {
          "base_uri": "https://localhost:8080/",
          "height": 34
        },
        "outputId": "57b6febf-d209-4122-d856-ac89de58f176"
      },
      "source": [
        "from collections import Counter\n",
        "Counter(y_test_enc)"
      ],
      "execution_count": null,
      "outputs": [
        {
          "output_type": "execute_result",
          "data": {
            "text/plain": [
              "Counter({0.0: 11838, 1.0: 6488, 2.0: 35440})"
            ]
          },
          "metadata": {
            "tags": []
          },
          "execution_count": 161
        }
      ]
    },
    {
      "cell_type": "code",
      "metadata": {
        "id": "MAGFEjZUblMo",
        "colab_type": "code",
        "colab": {
          "base_uri": "https://localhost:8080/",
          "height": 34
        },
        "outputId": "f869da7a-9c13-492b-e794-7949498f5b54"
      },
      "source": [
        "# Since the class 2 in prominent, we use micro=average\n",
        "f1 = f1_score(y_test_enc, y_test_pred, average = 'micro')\n",
        "print(f\"f1: {f1}\")"
      ],
      "execution_count": null,
      "outputs": [
        {
          "output_type": "stream",
          "text": [
            "f1: 0.8117397611873675\n"
          ],
          "name": "stdout"
        }
      ]
    },
    {
      "cell_type": "code",
      "metadata": {
        "id": "c8A_EYlubfSv",
        "colab_type": "code",
        "colab": {
          "base_uri": "https://localhost:8080/",
          "height": 34
        },
        "outputId": "93a28426-61de-45ad-f319-47cce271d78c"
      },
      "source": [
        "\n",
        "score = model.evaluate(X_test_pad, pd.get_dummies(y_test_enc))\n",
        "\n",
        "print(f\"loss {score[0]}, accuracy: {score[1]}\")"
      ],
      "execution_count": null,
      "outputs": [
        {
          "output_type": "stream",
          "text": [
            "loss 0.6698253525512691, accuracy: 0.8117397611851503\n"
          ],
          "name": "stdout"
        }
      ]
    },
    {
      "cell_type": "markdown",
      "metadata": {
        "id": "6jQYkkIxlXBL",
        "colab_type": "text"
      },
      "source": [
        "### Rating prediction"
      ]
    },
    {
      "cell_type": "markdown",
      "metadata": {
        "id": "_85nKG1TU-Bf",
        "colab_type": "text"
      },
      "source": [
        "The function below gives the following encoding of the rating:\n",
        "0: [0, 0, 0, 0, 0, 0, 0, 0, 0 ]\n",
        "1: [1, 0, 0, 0, 0, 0, 0, 0, 0 ]\n",
        "2: [1, 1, 0, 0, 0, 0, 0, 0, 0 ]\n",
        "\n",
        "in the hope to make the model learn the ordinal structure"
      ]
    },
    {
      "cell_type": "code",
      "metadata": {
        "id": "FKSDjjx64GAV",
        "colab_type": "code",
        "colab": {}
      },
      "source": [
        "def get_ordinal_labels():\n",
        "  y_train = train.loc[:, \"rating\"].values\n",
        "  y_test = test.loc[:, \"rating\"].values\n",
        "  \n",
        "  uniq_lab = len(np.unique(y_train))\n",
        "  y_train_ord = np.zeros( (len(y_train), uniq_lab - 1) )\n",
        "  y_test_ord = np.zeros( (len(y_test), uniq_lab - 1) )\n",
        "  \n",
        "  for idx, y in enumerate(y_train):\n",
        "    if y > 1:\n",
        "      y_train_ord[idx, :int(y)-1] = np.ones(int(y)-1)\n",
        "\n",
        "  for idx, y in enumerate(y_test):\n",
        "    if y > 1:\n",
        "      y_test_ord[idx, :int(y)-1] = np.ones(int(y)-1)\n",
        "      \n",
        "  return y_train_ord, y_test_ord"
      ],
      "execution_count": null,
      "outputs": []
    },
    {
      "cell_type": "code",
      "metadata": {
        "id": "mzdLsExJ6JcQ",
        "colab_type": "code",
        "colab": {}
      },
      "source": [
        "y_train_ord, y_test_ord = get_ordinal_labels()\n",
        "# These don't really help learn the sentiment with binary_crossentropy loss"
      ],
      "execution_count": null,
      "outputs": []
    },
    {
      "cell_type": "markdown",
      "metadata": {
        "id": "zQnbkRLFXU6z",
        "colab_type": "text"
      },
      "source": [
        "Casting it as regression problem after scaling the rating and using sigmoid along with MSE does not yield good results\n",
        "One-hot encoding does not take into account the ordinal structure of the labels"
      ]
    },
    {
      "cell_type": "code",
      "metadata": {
        "id": "LikPMhQml8UC",
        "colab_type": "code",
        "colab": {
          "base_uri": "https://localhost:8080/",
          "height": 272
        },
        "outputId": "4f7cf281-659c-4460-d65b-0b9fea3b5d23"
      },
      "source": [
        "from keras.models import Model\n",
        "from keras.callbacks import ReduceLROnPlateau, ModelCheckpoint\n",
        "Inp = Input(shape = (100,))\n",
        "Embd = Embedding(vocab_size, embedding_size, input_length=max_words, weights = [embedding_matrix], trainable = False)(Inp)\n",
        "# mask = Masking(mask_value=0)(Embd)\n",
        "lstm = LSTM(100)(Embd)\n",
        "# drop = Dropout(0.1)(lstm)\n",
        "output = Dense(1, activation='sigmoid')(lstm)\n",
        "adam = optimizers.Adam(lr = 0.01)\n",
        "\n",
        "model = Model(inputs = Inp, outputs = output)\n",
        "reduce_lr = ReduceLROnPlateau(monitor='val_loss', factor=0.2, patience=5, min_lr=0.0001)\n",
        "chk_pt = ModelCheckpoint(\"rating.best.model.hdf5\", save_best_only = True, monitor = 'val_loss')\n",
        "model.compile(loss='mean_squared_error', optimizer=adam, metrics=['accuracy'])\n",
        "model.summary()"
      ],
      "execution_count": null,
      "outputs": [
        {
          "output_type": "stream",
          "text": [
            "_________________________________________________________________\n",
            "Layer (type)                 Output Shape              Param #   \n",
            "=================================================================\n",
            "input_16 (InputLayer)        (None, 100)               0         \n",
            "_________________________________________________________________\n",
            "embedding_16 (Embedding)     (None, 100, 300)          13752900  \n",
            "_________________________________________________________________\n",
            "lstm_16 (LSTM)               (None, 100)               160400    \n",
            "_________________________________________________________________\n",
            "dense_16 (Dense)             (None, 1)                 101       \n",
            "=================================================================\n",
            "Total params: 13,913,401\n",
            "Trainable params: 160,501\n",
            "Non-trainable params: 13,752,900\n",
            "_________________________________________________________________\n"
          ],
          "name": "stdout"
        }
      ]
    },
    {
      "cell_type": "code",
      "metadata": {
        "id": "TdoNeNrNrC7I",
        "colab_type": "code",
        "colab": {}
      },
      "source": [
        "X_train_rnn, X_val_rnn, y_train_rnn, y_val_rnn = train_test_split(X_train_pad, y_train/10.0, test_size=0.2, random_state=42)"
      ],
      "execution_count": null,
      "outputs": []
    },
    {
      "cell_type": "code",
      "metadata": {
        "id": "tqfE0NgnrOyh",
        "colab_type": "code",
        "colab": {
          "base_uri": "https://localhost:8080/",
          "height": 391
        },
        "outputId": "68cc526f-96a6-4fa0-85a8-ee8bd60806b8"
      },
      "source": [
        "model.fit(X_train_rnn, y_train_rnn, validation_data=(X_val_rnn, y_val_rnn), batch_size=256, epochs = 10, callbacks = [reduce_lr, chk_pt])"
      ],
      "execution_count": null,
      "outputs": [
        {
          "output_type": "stream",
          "text": [
            "Train on 16000 samples, validate on 4000 samples\n",
            "Epoch 1/10\n",
            "16000/16000 [==============================] - 18s 1ms/step - loss: 0.1183 - acc: 0.3180 - val_loss: 0.1082 - val_acc: 0.3065\n",
            "Epoch 2/10\n",
            "16000/16000 [==============================] - 14s 904us/step - loss: 0.1073 - acc: 0.3226 - val_loss: 0.1079 - val_acc: 0.3065\n",
            "Epoch 3/10\n",
            "16000/16000 [==============================] - 15s 910us/step - loss: 0.1072 - acc: 0.3226 - val_loss: 0.1081 - val_acc: 0.3065\n",
            "Epoch 4/10\n",
            "16000/16000 [==============================] - 14s 905us/step - loss: 0.1089 - acc: 0.3212 - val_loss: 0.1091 - val_acc: 0.3058\n",
            "Epoch 5/10\n",
            "16000/16000 [==============================] - 15s 915us/step - loss: 0.1091 - acc: 0.3209 - val_loss: 0.1087 - val_acc: 0.3055\n",
            "Epoch 6/10\n",
            "16000/16000 [==============================] - 15s 908us/step - loss: 0.1122 - acc: 0.3222 - val_loss: 0.1154 - val_acc: 0.3065\n",
            "Epoch 7/10\n",
            "16000/16000 [==============================] - 15s 909us/step - loss: 0.1076 - acc: 0.3226 - val_loss: 0.1047 - val_acc: 0.3065\n",
            "Epoch 8/10\n",
            "16000/16000 [==============================] - 15s 915us/step - loss: 0.1056 - acc: 0.3226 - val_loss: 0.1082 - val_acc: 0.3065\n",
            "Epoch 9/10\n",
            "16000/16000 [==============================] - 15s 907us/step - loss: 0.1079 - acc: 0.3226 - val_loss: 0.1112 - val_acc: 0.3065\n",
            "Epoch 10/10\n",
            "16000/16000 [==============================] - 14s 902us/step - loss: 0.1082 - acc: 0.3226 - val_loss: 0.1079 - val_acc: 0.3065\n"
          ],
          "name": "stdout"
        },
        {
          "output_type": "execute_result",
          "data": {
            "text/plain": [
              "<keras.callbacks.History at 0x7fa568ddb588>"
            ]
          },
          "metadata": {
            "tags": []
          },
          "execution_count": 128
        }
      ]
    },
    {
      "cell_type": "code",
      "metadata": {
        "id": "J0Hwx0Dc2wVI",
        "colab_type": "code",
        "colab": {}
      },
      "source": [
        "y_pred = model.predict(X_test_pad)"
      ],
      "execution_count": null,
      "outputs": []
    },
    {
      "cell_type": "markdown",
      "metadata": {
        "id": "oYhXHueeS_QY",
        "colab_type": "text"
      },
      "source": [
        "One could also extract the last layer of the LSTM for sentiments and use it along with embeddings of drugs, conditions and useful counts in hope for better results for both sentiment and ratings"
      ]
    },
    {
      "cell_type": "markdown",
      "metadata": {
        "id": "N79tSH1ahQ6J",
        "colab_type": "text"
      },
      "source": [
        "## BERT"
      ]
    },
    {
      "cell_type": "markdown",
      "metadata": {
        "id": "3UIODOAnuFRp",
        "colab_type": "text"
      },
      "source": [
        "### BERT Sentimental Analysis"
      ]
    },
    {
      "cell_type": "markdown",
      "metadata": {
        "id": "0JfFnl5JhSmU",
        "colab_type": "text"
      },
      "source": [
        "Bidirectional Encoder Representations from Transformers, or BERT is a new technique for NLP pretraining developed by Google and it has been open sourced. Now we fine tune it to work with our sentimental analysis task. Since the processors they provided don't include sentimental classification task, we need to wrtie our own processor and modify related codes. "
      ]
    },
    {
      "cell_type": "code",
      "metadata": {
        "id": "-cSQTQxYhPwT",
        "colab_type": "code",
        "colab": {}
      },
      "source": [
        "import tf_metrics\n",
        "if not 'bert_repo' in sys.path:\n",
        "\tsys.path += ['bert_repo']\n",
        "\n",
        "import modeling\n",
        "import optimization\n",
        "import run_classifier\n",
        "import tokenization\n",
        "\n",
        "BERT_PRETRAINED_DIR = 'uncased_L-12_H-768_A-12'"
      ],
      "execution_count": null,
      "outputs": []
    },
    {
      "cell_type": "code",
      "metadata": {
        "id": "NJrtwa8ojSJ_",
        "colab_type": "code",
        "colab": {}
      },
      "source": [
        "# Model Hyper Parameters\n",
        "TRAIN_BATCH_SIZE = 32\n",
        "EVAL_BATCH_SIZE = 8\n",
        "PREDICT_BATCH_SIZE = 8\n",
        "LEARNING_RATE = 2e-5\n",
        "NUM_TRAIN_EPOCHS = 20.0\n",
        "WARMUP_PROPORTION = 0.1\n",
        "MAX_SEQ_LENGTH = 128\n",
        "\n",
        "# Model configs\n",
        "SAVE_CHECKPOINTS_STEPS = 1000\n",
        "ITERATIONS_PER_LOOP = 1000\n",
        "NUM_TPU_CORES = 8\n",
        "VOCAB_FILE = os.path.join(BERT_PRETRAINED_DIR, \"vocab.txt\")\n",
        "CONFIG_FILE = os.path.join(BERT_PRETRAINED_DIR, \"bert_config.json\")\n",
        "INIT_CHECKPOINT = os.path.join(BERT_PRETRAINED_DIR, \"bert_model.ckpt\")\n",
        "DO_LOWER_CASE = True\n",
        "\n",
        "OUTPUT_DIR = \"output\"\n",
        "if os.path.exists(OUTPUT_DIR)==False:\n",
        "    os.mkdir(OUTPUT_DIR)\n",
        "DATA_DIR = \"\""
      ],
      "execution_count": null,
      "outputs": []
    },
    {
      "cell_type": "markdown",
      "metadata": {
        "id": "dcIzYqtzjmOo",
        "colab_type": "text"
      },
      "source": [
        "Below are the classes and functions that require modifications."
      ]
    },
    {
      "cell_type": "code",
      "metadata": {
        "id": "j0oZ7Jn6jiMV",
        "colab_type": "code",
        "colab": {}
      },
      "source": [
        "class InputExample(object):\n",
        "    \"\"\"A single training/test example for simple sequence classification.\"\"\"\n",
        "\n",
        "    def __init__(self, guid, text, label=None):\n",
        "        \"\"\"Constructs a InputExample.\n",
        "        Args:\n",
        "          guid: Unique id for the example.\n",
        "          text_a: string. The untokenized text of the first sequence. For single\n",
        "            sequence tasks, only this sequence must be specified.\n",
        "          label: (Optional) string. The label of the example. This should be\n",
        "            specified for train and dev examples, but not for test examples.\n",
        "        \"\"\"\n",
        "        self.guid = guid\n",
        "        self.text = text\n",
        "        self.label = label\n",
        "\n",
        "\n",
        "class InputFeatures(object):\n",
        "    \"\"\"A single set of features of data.\"\"\"\n",
        "\n",
        "    def __init__(self, input_ids, input_mask, segment_ids, label_id,):\n",
        "        self.input_ids = input_ids\n",
        "        self.input_mask = input_mask\n",
        "        self.segment_ids = segment_ids\n",
        "        self.label_id = label_id\n",
        "\n",
        "\n",
        "class DataProcessor(object):\n",
        "    \"\"\"Base class for data converters for sequence classification data sets.\"\"\"\n",
        "\n",
        "    def get_train_examples(self, data_dir):\n",
        "        \"\"\"Gets a collection of `InputExample`s for the train set.\"\"\"\n",
        "        raise NotImplementedError()\n",
        "\n",
        "    def get_dev_examples(self, data_dir):\n",
        "        \"\"\"Gets a collection of `InputExample`s for the dev set.\"\"\"\n",
        "        raise NotImplementedError()\n",
        "\n",
        "    def get_labels(self):\n",
        "        \"\"\"Gets the list of labels for this data set.\"\"\"\n",
        "        raise NotImplementedError()\n",
        "\n",
        "    @classmethod\n",
        "    def _read_data(cls, input_file):\n",
        "        data = pd.read_csv(input_file, sep='\\t', header=0, engine='python', error_bad_lines=False)\n",
        "        X = data['review'].values.tolist()\n",
        "        y = data['rating']\n",
        "        \n",
        "        y_res = np.zeros(y.shape[0])\n",
        "        y_res[y >= 4] = 1\n",
        "        y_res[y >= 7] = 2\n",
        "        \n",
        "        lines = []\n",
        "        for line, label in zip(X, y_res):\n",
        "            line_ = html.unescape(line)\n",
        "            label_ = str(int(label))\n",
        "            lines.append([line_, label_])\n",
        "        \n",
        "        return lines\n",
        "\n",
        "\n",
        "class SentimentProcessor(DataProcessor):\n",
        "    def get_train_examples(self, data_dir):\n",
        "        return self._create_example(\n",
        "            self._read_data(os.path.join(data_dir, \"drugsComTrain_raw.tsv\")), \"train\"\n",
        "        )\n",
        "\n",
        "    def get_dev_examples(self, data_dir):\n",
        "        return self._create_example(\n",
        "            self._read_data(os.path.join(data_dir, \"drugsComTest_raw.tsv\")), \"dev\"\n",
        "        )\n",
        "\n",
        "    def get_labels(self):\n",
        "        return ['0', '1', '2']\n",
        "\n",
        "    def _create_example(self, lines, set_type):\n",
        "        examples = []\n",
        "        for (i, line) in enumerate(lines):\n",
        "            guid = \"%s-%s\" % (set_type, i)\n",
        "            text = tokenization.convert_to_unicode(line[0])\n",
        "            label = tokenization.convert_to_unicode(line[1])\n",
        "            examples.append(InputExample(guid=guid, text=text, label=label))\n",
        "        return examples\n",
        "\n",
        "def convert_single_example(ex_index, example, label_list, max_seq_length, tokenizer,mode):\n",
        "    label_map = {}\n",
        "    for (i, label) in enumerate(label_list):\n",
        "        label_map[label] = i\n",
        "    \n",
        "    tokens_text = tokenizer.tokenize(example.text)\n",
        "    \n",
        "    if len(tokens_text) >= max_seq_length - 1:\n",
        "        tokens_text = tokens_text[0:(max_seq_length - 2)]\n",
        "        \n",
        "    tokens = []\n",
        "    segment_ids = []\n",
        "    tokens.append(\"[CLS]\")\n",
        "    for i, token in enumerate(tokens_text):\n",
        "        tokens.append(token)\n",
        "    tokens.append(\"[SEP]\")\n",
        "    \n",
        "    input_ids = tokenizer.convert_tokens_to_ids(tokens)\n",
        "    input_mask = [1] * len(input_ids)\n",
        "\n",
        "    while len(input_ids) < max_seq_length:\n",
        "        input_ids.append(0)\n",
        "        input_mask.append(0)\n",
        "        tokens.append(\"**NULL**\")\n",
        "    segment_ids = [1] * max_seq_length\n",
        "    label_id = label_map[example.label]\n",
        "\n",
        "    assert len(input_ids) == max_seq_length\n",
        "    assert len(input_mask) == max_seq_length\n",
        "    assert len(segment_ids) == max_seq_length\n",
        "\n",
        "#     if ex_index < 5:\n",
        "#         tf.logging.info(\"*** Example ***\")\n",
        "#         tf.logging.info(\"guid: %s\" % (example.guid))\n",
        "#         tf.logging.info(\"tokens: %s\" % \" \".join(\n",
        "#             [tokenization.printable_text(x) for x in tokens]))\n",
        "#         tf.logging.info(\"input_ids: %s\" % \" \".join([str(x) for x in input_ids]))\n",
        "#         tf.logging.info(\"input_mask: %s\" % \" \".join([str(x) for x in input_mask]))\n",
        "#         tf.logging.info(\"segment_ids: %s\" % \" \".join([str(x) for x in segment_ids]))\n",
        "#         tf.logging.info(\"label_ids: %s\" % \" \".join([str(x) for x in label_ids]))\n",
        "\n",
        "    feature = InputFeatures(\n",
        "        input_ids=input_ids,\n",
        "        input_mask=input_mask,\n",
        "        segment_ids=segment_ids,\n",
        "        label_id=label_id,\n",
        "    )\n",
        "    return feature\n",
        "\n",
        "\n",
        "def file_based_convert_examples_to_features(\n",
        "        examples, label_list, max_seq_length, tokenizer, output_file,mode=None\n",
        "):\n",
        "    writer = tf.python_io.TFRecordWriter(output_file)\n",
        "    for (ex_index, example) in enumerate(examples):\n",
        "#         if ex_index % 5000 == 0:\n",
        "#             tf.logging.info(\"Writing example %d of %d\" % (ex_index, len(examples)))\n",
        "        feature = convert_single_example(ex_index, example, label_list, max_seq_length, tokenizer,mode)\n",
        "\n",
        "        def create_int_feature(values):\n",
        "            f = tf.train.Feature(int64_list=tf.train.Int64List(value=list(values)))\n",
        "            return f\n",
        "\n",
        "        features = collections.OrderedDict()\n",
        "        features[\"input_ids\"] = create_int_feature(feature.input_ids)\n",
        "        features[\"input_mask\"] = create_int_feature(feature.input_mask)\n",
        "        features[\"segment_ids\"] = create_int_feature(feature.segment_ids)\n",
        "        features[\"label_ids\"] = create_int_feature([feature.label_id])\n",
        "        tf_example = tf.train.Example(features=tf.train.Features(feature=features))\n",
        "        writer.write(tf_example.SerializeToString())\n",
        "\n",
        "\n",
        "def file_based_input_fn_builder(input_file, seq_length, is_training, drop_remainder):\n",
        "    name_to_features = {\n",
        "        \"input_ids\": tf.FixedLenFeature([seq_length], tf.int64),\n",
        "        \"input_mask\": tf.FixedLenFeature([seq_length], tf.int64),\n",
        "        \"segment_ids\": tf.FixedLenFeature([seq_length], tf.int64),\n",
        "        \"label_ids\": tf.FixedLenFeature([], tf.int64),\n",
        "    }\n",
        "\n",
        "    def _decode_record(record, name_to_features):\n",
        "        example = tf.parse_single_example(record, name_to_features)\n",
        "        for name in list(example.keys()):\n",
        "            t = example[name]\n",
        "            if t.dtype == tf.int64:\n",
        "                t = tf.to_int32(t)\n",
        "            example[name] = t\n",
        "        return example\n",
        "\n",
        "    def input_fn(params):\n",
        "        batch_size = params[\"batch_size\"]\n",
        "        d = tf.data.TFRecordDataset(input_file)\n",
        "        if is_training:\n",
        "            d = d.repeat()\n",
        "            d = d.shuffle(buffer_size=100)\n",
        "        d = d.apply(tf.contrib.data.map_and_batch(\n",
        "            lambda record: _decode_record(record, name_to_features),\n",
        "            batch_size=batch_size,\n",
        "            drop_remainder=drop_remainder\n",
        "        ))\n",
        "        return d\n",
        "    return input_fn\n",
        "\n",
        "def create_model(bert_config, is_training, input_ids, input_mask,\n",
        "                 segment_ids, labels, num_labels, use_one_hot_embeddings):\n",
        "    model = modeling.BertModel(\n",
        "        config=bert_config,\n",
        "        is_training=is_training,\n",
        "        input_ids=input_ids,\n",
        "        input_mask=input_mask,\n",
        "        token_type_ids=segment_ids,\n",
        "        use_one_hot_embeddings=use_one_hot_embeddings\n",
        "    )\n",
        "\n",
        "    output_layer = model.get_pooled_output()\n",
        "\n",
        "    hidden_size = output_layer.shape[-1].value\n",
        "\n",
        "    output_weights = tf.get_variable(\n",
        "        \"output_weights\", [num_labels, hidden_size],\n",
        "        initializer=tf.truncated_normal_initializer(stddev=0.02))\n",
        "\n",
        "    output_bias = tf.get_variable(\n",
        "        \"output_bias\", [num_labels], initializer=tf.zeros_initializer())\n",
        "\n",
        "    with tf.variable_scope(\"loss\"):\n",
        "      if is_training:\n",
        "        # I.e., 0.1 dropout\n",
        "        output_layer = tf.nn.dropout(output_layer, keep_prob=0.9)\n",
        "\n",
        "      logits = tf.matmul(output_layer, output_weights, transpose_b=True)\n",
        "      logits = tf.nn.bias_add(logits, output_bias)\n",
        "      probabilities = tf.nn.softmax(logits, axis=-1)\n",
        "      log_probs = tf.nn.log_softmax(logits, axis=-1)\n",
        "      predict = tf.argmax(probabilities,axis=-1)\n",
        "\n",
        "      one_hot_labels = tf.one_hot(labels, depth=num_labels, dtype=tf.float32)\n",
        "\n",
        "      per_example_loss = -tf.reduce_sum(one_hot_labels * log_probs, axis=-1)\n",
        "      loss = tf.reduce_mean(per_example_loss)\n",
        "      \n",
        "    return (loss, per_example_loss, logits, probabilities, predict)\n",
        "        \n",
        "def model_fn_builder(bert_config, num_labels, init_checkpoint, learning_rate,\n",
        "                     num_train_steps, num_warmup_steps, use_tpu,\n",
        "                     use_one_hot_embeddings):\n",
        "    def model_fn(features, labels, mode, params):\n",
        "#         tf.logging.info(\"*** Features ***\")\n",
        "#         for name in sorted(features.keys()):\n",
        "#             tf.logging.info(\"  name = %s, shape = %s\" % (name, features[name].shape))\n",
        "        input_ids = features[\"input_ids\"]\n",
        "        input_mask = features[\"input_mask\"]\n",
        "        segment_ids = features[\"segment_ids\"]\n",
        "        label_ids = features[\"label_ids\"]\n",
        "        is_training = (mode == tf.estimator.ModeKeys.TRAIN)\n",
        "\n",
        "        (total_loss, per_example_loss, logits, probabilities, predictions) = create_model(\n",
        "            bert_config, is_training, input_ids, input_mask, segment_ids, label_ids,\n",
        "            num_labels, use_one_hot_embeddings)\n",
        "        tvars = tf.trainable_variables()\n",
        "        scaffold_fn = None\n",
        "        if init_checkpoint:\n",
        "            (assignment_map, initialized_variable_names) = modeling.get_assignment_map_from_checkpoint(tvars,init_checkpoint)\n",
        "            tf.train.init_from_checkpoint(init_checkpoint, assignment_map)\n",
        "            tf.train.init_from_checkpoint(init_checkpoint, assignment_map)\n",
        "#         tf.logging.info(\"**** Trainable Variables ****\")\n",
        "\n",
        "#         for var in tvars:\n",
        "#             init_string = \"\"\n",
        "#             if var.name in initialized_variable_names:\n",
        "#                 init_string = \", *INIT_FROM_CKPT*\"\n",
        "#             tf.logging.info(\"  name = %s, shape = %s%s\", var.name, var.shape,\n",
        "#                             init_string)\n",
        "        output_spec = None\n",
        "        if mode == tf.estimator.ModeKeys.TRAIN:\n",
        "            train_op = optimization.create_optimizer(\n",
        "                total_loss, learning_rate, num_train_steps, num_warmup_steps, use_tpu)\n",
        "            output_spec = tf.contrib.tpu.TPUEstimatorSpec(\n",
        "                mode=mode,\n",
        "                loss=total_loss,\n",
        "                train_op=train_op,\n",
        "                scaffold_fn=scaffold_fn)\n",
        "        elif mode == tf.estimator.ModeKeys.EVAL:\n",
        "            \n",
        "            def metric_fn(label_ids, logits):\n",
        "                predictions = tf.argmax(logits, axis=-1, output_type=tf.int32)\n",
        "                precision = tf_metrics.precision(label_ids,predictions,num_labels,average=\"macro\")\n",
        "                recall = tf_metrics.recall(label_ids,predictions,num_labels,average=\"macro\")\n",
        "                f = tf_metrics.f1(label_ids,predictions,num_labels,average=\"macro\")\n",
        "                accuracy = tf.metrics.accuracy(labels=label_ids, predictions=predictions)\n",
        "\n",
        "                return {\n",
        "                    \"eval_precision\":precision,\n",
        "                    \"eval_recall\":recall,\n",
        "                    \"eval_f\": f,\n",
        "                    \"eval_accuracy\": accuracy\n",
        "                }\n",
        "            eval_metrics = (metric_fn, [label_ids, logits])\n",
        "            output_spec = tf.contrib.tpu.TPUEstimatorSpec(\n",
        "                mode=mode,\n",
        "                loss=total_loss,\n",
        "                eval_metrics=eval_metrics,\n",
        "                scaffold_fn=scaffold_fn)\n",
        "        else:\n",
        "            output_spec = tf.contrib.tpu.TPUEstimatorSpec(\n",
        "            mode=mode,\n",
        "            predictions={\"probabilities\": probabilities},\n",
        "            scaffold_fn=scaffold_fn)\n",
        "        return output_spec\n",
        "    return model_fn"
      ],
      "execution_count": null,
      "outputs": []
    },
    {
      "cell_type": "markdown",
      "metadata": {
        "id": "bEeBtMaZj_Ms",
        "colab_type": "text"
      },
      "source": [
        "Training"
      ]
    },
    {
      "cell_type": "code",
      "metadata": {
        "id": "LdqWiee0j53w",
        "colab_type": "code",
        "colab": {}
      },
      "source": [
        "processor = SentimentProcessor()\n",
        "label_list = processor.get_labels()\n",
        "tokenizer = tokenization.FullTokenizer(vocab_file=VOCAB_FILE, do_lower_case=DO_LOWER_CASE)\n",
        "\n",
        "is_per_host = tf.contrib.tpu.InputPipelineConfig.PER_HOST_V2\n",
        "\n",
        "run_config = tf.contrib.tpu.RunConfig(\n",
        "        cluster=None,\n",
        "        master=None,\n",
        "        model_dir=OUTPUT_DIR,\n",
        "        save_checkpoints_steps=SAVE_CHECKPOINTS_STEPS,\n",
        "        tpu_config=tf.contrib.tpu.TPUConfig(\n",
        "            iterations_per_loop=ITERATIONS_PER_LOOP,\n",
        "            num_shards=NUM_TPU_CORES,\n",
        "            per_host_input_for_training=is_per_host))\n",
        "\n",
        "train_examples = processor.get_train_examples(DATA_DIR)\n",
        "num_train_steps = int(\n",
        "    len(train_examples) / TRAIN_BATCH_SIZE * NUM_TRAIN_EPOCHS)\n",
        "num_warmup_steps = int(num_train_steps * WARMUP_PROPORTION)\n",
        "\n",
        "\n",
        "model_fn = model_fn_builder(\n",
        "        bert_config=modeling.BertConfig.from_json_file(CONFIG_FILE),\n",
        "        num_labels=len(label_list),\n",
        "        init_checkpoint=INIT_CHECKPOINT,\n",
        "        learning_rate=LEARNING_RATE,\n",
        "        num_train_steps=num_train_steps,\n",
        "        num_warmup_steps=num_warmup_steps,\n",
        "        use_tpu=False,\n",
        "        use_one_hot_embeddings=False)\n",
        "\n",
        "estimator = tf.contrib.tpu.TPUEstimator(\n",
        "    use_tpu=False,\n",
        "    model_fn=model_fn,\n",
        "    config=run_config,\n",
        "    train_batch_size=TRAIN_BATCH_SIZE,\n",
        "    eval_batch_size=EVAL_BATCH_SIZE,\n",
        "    predict_batch_size=PREDICT_BATCH_SIZE)\n",
        "\n",
        "train_file = os.path.join(OUTPUT_DIR, \"train.tf_record\")\n",
        "file_based_convert_examples_to_features(\n",
        "    train_examples, label_list, MAX_SEQ_LENGTH, tokenizer, train_file)\n",
        "# tf.logging.info(\"***** Running training *****\")\n",
        "# tf.logging.info(\"  Num examples = %d\", len(train_examples))\n",
        "# tf.logging.info(\"  Batch size = %d\", TRAIN_BATCH_SIZE)\n",
        "# tf.logging.info(\"  Num steps = %d\", num_train_steps)\n",
        "train_input_fn = file_based_input_fn_builder(\n",
        "    input_file=train_file,\n",
        "    seq_length=MAX_SEQ_LENGTH,\n",
        "    is_training=True,\n",
        "    drop_remainder=True)\n",
        "estimator.train(input_fn=train_input_fn, max_steps=num_train_steps)"
      ],
      "execution_count": null,
      "outputs": []
    },
    {
      "cell_type": "markdown",
      "metadata": {
        "id": "N4i_--CNkJgP",
        "colab_type": "text"
      },
      "source": [
        "Due to the long training time, we did not do any hyperparameter tuning or model selection for BERT. Therefore, the results are directly evaluated on test set.\n",
        "\n"
      ]
    },
    {
      "cell_type": "code",
      "metadata": {
        "id": "-lih8v-QkFJ-",
        "colab_type": "code",
        "colab": {}
      },
      "source": [
        "eval_examples = processor.get_dev_examples(DATA_DIR)\n",
        "eval_file = os.path.join(OUTPUT_DIR, \"eval.tf_record\")\n",
        "file_based_convert_examples_to_features(\n",
        "    eval_examples, label_list, MAX_SEQ_LENGTH, tokenizer, eval_file)\n",
        "\n",
        "# tf.logging.info(\"***** Running evaluation *****\")\n",
        "# tf.logging.info(\"  Num examples = %d\", len(eval_examples))\n",
        "# tf.logging.info(\"  Batch size = %d\", TRAIN_BATCH_SIZE)\n",
        "eval_steps = None\n",
        "eval_drop_remainder = False\n",
        "eval_input_fn = file_based_input_fn_builder(\n",
        "    input_file=eval_file,\n",
        "    seq_length=MAX_SEQ_LENGTH,\n",
        "    is_training=False,\n",
        "    drop_remainder=eval_drop_remainder)\n",
        "result = estimator.evaluate(input_fn=eval_input_fn, steps=eval_steps)\n",
        "output_eval_file = os.path.join(OUTPUT_DIR, \"eval_results.txt\")\n",
        "with open(output_eval_file, \"w\") as writer:\n",
        "    tf.logging.info(\"***** Eval results *****\")\n",
        "    for key in sorted(result.keys()):\n",
        "        tf.logging.info(\"  %s = %s\", key, str(result[key]))\n",
        "        writer.write(\"%s = %s\\n\" % (key, str(result[key])))"
      ],
      "execution_count": null,
      "outputs": []
    },
    {
      "cell_type": "markdown",
      "metadata": {
        "id": "bO4uR9L9kjlv",
        "colab_type": "text"
      },
      "source": [
        "Since it takes very long time to train the model, we attached eval_results for your reference (f1 score:  0.87409425, accuracy: 0.9251758). The latest checkpoint is also attached if you want to check our results. If you want to train it from scrath, you can simply remove the checkpoints."
      ]
    },
    {
      "cell_type": "markdown",
      "metadata": {
        "id": "OQAyojDiuOtX",
        "colab_type": "text"
      },
      "source": [
        "### BERT Ratings Prediction"
      ]
    },
    {
      "cell_type": "markdown",
      "metadata": {
        "id": "_kh-HrEQuT2a",
        "colab_type": "text"
      },
      "source": [
        "The BERT model originally does not support regression, but we modified it to adapt to this task. \n",
        "The first two cells (files importing and variables intialization) can be left unchanged, but for clarification and completeness, they are copied here too."
      ]
    },
    {
      "cell_type": "code",
      "metadata": {
        "id": "q2Obr0vdumVQ",
        "colab_type": "code",
        "colab": {}
      },
      "source": [
        "import tf_metrics\n",
        "if not 'bert_repo' in sys.path:\n",
        "\tsys.path += ['bert_repo']\n",
        "\n",
        "import modeling\n",
        "import optimization\n",
        "import run_classifier\n",
        "import tokenization\n",
        "\n",
        "BERT_PRETRAINED_DIR = 'uncased_L-12_H-768_A-12'"
      ],
      "execution_count": null,
      "outputs": []
    },
    {
      "cell_type": "code",
      "metadata": {
        "id": "W2bfT3vdvWhy",
        "colab_type": "code",
        "colab": {}
      },
      "source": [
        "# Model Hyper Parameters\n",
        "TRAIN_BATCH_SIZE = 32\n",
        "EVAL_BATCH_SIZE = 8\n",
        "PREDICT_BATCH_SIZE = 8\n",
        "LEARNING_RATE = 2e-5\n",
        "NUM_TRAIN_EPOCHS = 20.0\n",
        "WARMUP_PROPORTION = 0.1\n",
        "MAX_SEQ_LENGTH = 128\n",
        "\n",
        "# Model configs\n",
        "SAVE_CHECKPOINTS_STEPS = 1000\n",
        "ITERATIONS_PER_LOOP = 1000\n",
        "NUM_TPU_CORES = 8\n",
        "VOCAB_FILE = os.path.join(BERT_PRETRAINED_DIR, \"vocab.txt\")\n",
        "CONFIG_FILE = os.path.join(BERT_PRETRAINED_DIR, \"bert_config.json\")\n",
        "INIT_CHECKPOINT = os.path.join(BERT_PRETRAINED_DIR, \"bert_model.ckpt\")\n",
        "DO_LOWER_CASE = True\n",
        "\n",
        "OUTPUT_DIR = \"output_regression\"\n",
        "if os.path.exists(OUTPUT_DIR)==False:\n",
        "    os.mkdir(OUTPUT_DIR)\n",
        "DATA_DIR = \"\""
      ],
      "execution_count": null,
      "outputs": []
    },
    {
      "cell_type": "code",
      "metadata": {
        "id": "Da77EPyjvfvz",
        "colab_type": "code",
        "colab": {}
      },
      "source": [
        "class InputExample(object):\n",
        "    \"\"\"A single training/test example for simple sequence classification.\"\"\"\n",
        "\n",
        "    def __init__(self, guid, text, label=None):\n",
        "        \"\"\"Constructs a InputExample.\n",
        "        Args:\n",
        "          guid: Unique id for the example.\n",
        "          text_a: string. The untokenized text of the first sequence. For single\n",
        "            sequence tasks, only this sequence must be specified.\n",
        "          label: (Optional) string. The label of the example. This should be\n",
        "            specified for train and dev examples, but not for test examples.\n",
        "        \"\"\"\n",
        "        self.guid = guid\n",
        "        self.text = text\n",
        "        self.label = label\n",
        "\n",
        "\n",
        "class InputFeatures(object):\n",
        "    \"\"\"A single set of features of data.\"\"\"\n",
        "\n",
        "    def __init__(self, input_ids, input_mask, segment_ids, label_id,):\n",
        "        self.input_ids = input_ids\n",
        "        self.input_mask = input_mask\n",
        "        self.segment_ids = segment_ids\n",
        "        self.label_id = label_id\n",
        "\n",
        "\n",
        "class DataProcessor(object):\n",
        "    \"\"\"Base class for data converters for sequence classification data sets.\"\"\"\n",
        "\n",
        "    def get_train_examples(self, data_dir):\n",
        "        \"\"\"Gets a collection of `InputExample`s for the train set.\"\"\"\n",
        "        raise NotImplementedError()\n",
        "\n",
        "    def get_dev_examples(self, data_dir):\n",
        "        \"\"\"Gets a collection of `InputExample`s for the dev set.\"\"\"\n",
        "        raise NotImplementedError()\n",
        "\n",
        "    def get_labels(self):\n",
        "        \"\"\"Gets the list of labels for this data set.\"\"\"\n",
        "        raise NotImplementedError()\n",
        "\n",
        "    @classmethod\n",
        "    def _read_data(cls, input_file):\n",
        "        data = pd.read_csv(input_file, sep='\\t', header=0, engine='python', error_bad_lines=False)\n",
        "        X = data['review'].values.tolist()\n",
        "        y = data['rating'].values.tolist()\n",
        "        \n",
        "        lines = []\n",
        "        for line, label in zip(X, y):\n",
        "            line_ = html.unescape(line)\n",
        "            label_ = str(label)\n",
        "            lines.append([line_, label_])\n",
        "        \n",
        "        return lines\n",
        "\n",
        "\n",
        "class RatingProcessor(DataProcessor):\n",
        "    def get_train_examples(self, data_dir):\n",
        "        return self._create_example(\n",
        "            self._read_data(os.path.join(data_dir, \"drugsComTrain_raw.tsv\")), \"train\"\n",
        "        )\n",
        "\n",
        "    def get_dev_examples(self, data_dir):\n",
        "        return self._create_example(\n",
        "            self._read_data(os.path.join(data_dir, \"drugsComTest_raw.tsv\")), \"dev\"\n",
        "        )\n",
        "\n",
        "    def _create_example(self, lines, set_type):\n",
        "        examples = []\n",
        "        for (i, line) in enumerate(lines):\n",
        "            guid = \"%s-%s\" % (set_type, i)\n",
        "            text = tokenization.convert_to_unicode(line[0])\n",
        "            label = tokenization.convert_to_unicode(line[1])\n",
        "            examples.append(InputExample(guid=guid, text=text, label=label))\n",
        "        return examples\n",
        "\n",
        "def convert_single_example(ex_index, example, max_seq_length, tokenizer,mode):\n",
        "    tokens_text = tokenizer.tokenize(example.text)\n",
        "    \n",
        "    if len(tokens_text) >= max_seq_length - 1:\n",
        "        tokens_text = tokens_text[0:(max_seq_length - 2)]\n",
        "        \n",
        "    tokens = []\n",
        "    segment_ids = []\n",
        "    tokens.append(\"[CLS]\")\n",
        "    for i, token in enumerate(tokens_text):\n",
        "        tokens.append(token)\n",
        "    tokens.append(\"[SEP]\")\n",
        "    \n",
        "    input_ids = tokenizer.convert_tokens_to_ids(tokens)\n",
        "    input_mask = [1] * len(input_ids)\n",
        "\n",
        "    while len(input_ids) < max_seq_length:\n",
        "        input_ids.append(0)\n",
        "        input_mask.append(0)\n",
        "        tokens.append(\"**NULL**\")\n",
        "    segment_ids = [1] * max_seq_length\n",
        "    label_id = float(example.label)\n",
        "\n",
        "    assert len(input_ids) == max_seq_length\n",
        "    assert len(input_mask) == max_seq_length\n",
        "    assert len(segment_ids) == max_seq_length\n",
        "\n",
        "#     if ex_index < 5:\n",
        "#         tf.logging.info(\"*** Example ***\")\n",
        "#         tf.logging.info(\"guid: %s\" % (example.guid))\n",
        "#         tf.logging.info(\"tokens: %s\" % \" \".join(\n",
        "#             [tokenization.printable_text(x) for x in tokens]))\n",
        "#         tf.logging.info(\"input_ids: %s\" % \" \".join([str(x) for x in input_ids]))\n",
        "#         tf.logging.info(\"input_mask: %s\" % \" \".join([str(x) for x in input_mask]))\n",
        "#         tf.logging.info(\"segment_ids: %s\" % \" \".join([str(x) for x in segment_ids]))\n",
        "#         tf.logging.info(\"label_ids: %s\" % \" \".join([str(x) for x in label_ids]))\n",
        "\n",
        "    feature = InputFeatures(\n",
        "        input_ids=input_ids,\n",
        "        input_mask=input_mask,\n",
        "        segment_ids=segment_ids,\n",
        "        label_id=label_id,\n",
        "    )\n",
        "    return feature\n",
        "\n",
        "\n",
        "def file_based_convert_examples_to_features(\n",
        "        examples, max_seq_length, tokenizer, output_file,mode=None\n",
        "):\n",
        "    writer = tf.python_io.TFRecordWriter(output_file)\n",
        "    for (ex_index, example) in enumerate(examples):\n",
        "#         if ex_index % 5000 == 0:\n",
        "#             tf.logging.info(\"Writing example %d of %d\" % (ex_index, len(examples)))\n",
        "        feature = convert_single_example(ex_index, example, max_seq_length, tokenizer,mode)\n",
        "\n",
        "        def create_int_feature(values):\n",
        "            f = tf.train.Feature(int64_list=tf.train.Int64List(value=list(values)))\n",
        "            return f\n",
        "        \n",
        "        def create_float_feature(values):\n",
        "            f = tf.train.Feature(float_list=tf.train.FloatList(value=list(values)))\n",
        "            return f\n",
        "\n",
        "        features = collections.OrderedDict()\n",
        "        features[\"input_ids\"] = create_int_feature(feature.input_ids)\n",
        "        features[\"input_mask\"] = create_int_feature(feature.input_mask)\n",
        "        features[\"segment_ids\"] = create_int_feature(feature.segment_ids)\n",
        "        features[\"label_ids\"] = create_float_feature([feature.label_id])\n",
        "        tf_example = tf.train.Example(features=tf.train.Features(feature=features))\n",
        "        writer.write(tf_example.SerializeToString())\n",
        "\n",
        "\n",
        "def file_based_input_fn_builder(input_file, seq_length, is_training, drop_remainder):\n",
        "    name_to_features = {\n",
        "        \"input_ids\": tf.FixedLenFeature([seq_length], tf.int64),\n",
        "        \"input_mask\": tf.FixedLenFeature([seq_length], tf.int64),\n",
        "        \"segment_ids\": tf.FixedLenFeature([seq_length], tf.int64),\n",
        "        \"label_ids\": tf.FixedLenFeature([], tf.float32),\n",
        "    }\n",
        "\n",
        "    def _decode_record(record, name_to_features):\n",
        "        example = tf.parse_single_example(record, name_to_features)\n",
        "        for name in list(example.keys()):\n",
        "            t = example[name]\n",
        "            if t.dtype == tf.int64:\n",
        "                t = tf.to_int32(t)\n",
        "            example[name] = t\n",
        "        return example\n",
        "\n",
        "    def input_fn(params):\n",
        "        batch_size = params[\"batch_size\"]\n",
        "        d = tf.data.TFRecordDataset(input_file)\n",
        "        if is_training:\n",
        "            d = d.repeat()\n",
        "            d = d.shuffle(buffer_size=100)\n",
        "        d = d.apply(tf.contrib.data.map_and_batch(\n",
        "            lambda record: _decode_record(record, name_to_features),\n",
        "            batch_size=batch_size,\n",
        "            drop_remainder=drop_remainder\n",
        "        ))\n",
        "        return d\n",
        "    return input_fn\n",
        "\n",
        "def create_model(bert_config, is_training, input_ids, input_mask,\n",
        "                 segment_ids, labels, num_labels, use_one_hot_embeddings):\n",
        "    model = modeling.BertModel(\n",
        "        config=bert_config,\n",
        "        is_training=is_training,\n",
        "        input_ids=input_ids,\n",
        "        input_mask=input_mask,\n",
        "        token_type_ids=segment_ids,\n",
        "        use_one_hot_embeddings=use_one_hot_embeddings\n",
        "    )\n",
        "\n",
        "    output_layer = model.get_pooled_output()\n",
        "\n",
        "    hidden_size = output_layer.shape[-1].value\n",
        "\n",
        "    output_weights = tf.get_variable(\n",
        "        \"output_weights\", [num_labels, hidden_size],\n",
        "        initializer=tf.truncated_normal_initializer(stddev=0.02))\n",
        "\n",
        "    output_bias = tf.get_variable(\n",
        "        \"output_bias\", [num_labels], initializer=tf.zeros_initializer())\n",
        "\n",
        "    with tf.variable_scope(\"loss\"):\n",
        "        if is_training:\n",
        "        # I.e., 0.1 dropout\n",
        "            output_layer = tf.nn.dropout(output_layer, keep_prob=0.9)\n",
        "\n",
        "    logits = tf.matmul(output_layer, output_weights, transpose_b=True)\n",
        "    logits = tf.nn.bias_add(logits, output_bias)\n",
        "\n",
        "    predicts = tf.nn.relu(logits)\n",
        "\n",
        "    predicts = tf.squeeze(predicts, [1])\n",
        "    loss = tf.losses.mean_squared_error(labels, predicts)\n",
        "      \n",
        "    return (loss, predicts)\n",
        "        \n",
        "def model_fn_builder(bert_config, num_labels, init_checkpoint, learning_rate,\n",
        "                     num_train_steps, num_warmup_steps, use_tpu,\n",
        "                     use_one_hot_embeddings):\n",
        "    def model_fn(features, labels, mode, params):\n",
        "#         tf.logging.info(\"*** Features ***\")\n",
        "#         for name in sorted(features.keys()):\n",
        "#             tf.logging.info(\"  name = %s, shape = %s\" % (name, features[name].shape))\n",
        "        input_ids = features[\"input_ids\"]\n",
        "        input_mask = features[\"input_mask\"]\n",
        "        segment_ids = features[\"segment_ids\"]\n",
        "        label_ids = features[\"label_ids\"]\n",
        "        is_training = (mode == tf.estimator.ModeKeys.TRAIN)\n",
        "\n",
        "        (total_loss, predicts) = create_model(\n",
        "            bert_config, is_training, input_ids, input_mask, segment_ids, label_ids,\n",
        "            num_labels, use_one_hot_embeddings)\n",
        "        tvars = tf.trainable_variables()\n",
        "        scaffold_fn = None\n",
        "        if init_checkpoint:\n",
        "            (assignment_map, initialized_variable_names) = modeling.get_assignment_map_from_checkpoint(tvars,init_checkpoint)\n",
        "            tf.train.init_from_checkpoint(init_checkpoint, assignment_map)\n",
        "            tf.train.init_from_checkpoint(init_checkpoint, assignment_map)\n",
        "#         tf.logging.info(\"**** Trainable Variables ****\")\n",
        "\n",
        "#         for var in tvars:\n",
        "#             init_string = \"\"\n",
        "#             if var.name in initialized_variable_names:\n",
        "#                 init_string = \", *INIT_FROM_CKPT*\"\n",
        "#             tf.logging.info(\"  name = %s, shape = %s%s\", var.name, var.shape,\n",
        "#                             init_string)\n",
        "        output_spec = None\n",
        "        if mode == tf.estimator.ModeKeys.TRAIN:\n",
        "            train_op = optimization.create_optimizer(\n",
        "                total_loss, learning_rate, num_train_steps, num_warmup_steps, use_tpu)\n",
        "            output_spec = tf.contrib.tpu.TPUEstimatorSpec(\n",
        "                mode=mode,\n",
        "                loss=total_loss,\n",
        "                train_op=train_op,\n",
        "                scaffold_fn=scaffold_fn)\n",
        "        elif mode == tf.estimator.ModeKeys.EVAL:\n",
        "            \n",
        "            def metric_fn(label_ids, predicts):\n",
        "                mse = tf.metrics.mean_squared_error(label_ids, predicts)\n",
        "                predicts_ = tf.contrib.metrics.streaming_concat(predicts)\n",
        "                labels_ = tf.contrib.metrics.streaming_concat(label_ids)\n",
        "\n",
        "                return {\n",
        "                    \"eval_mse\":mse,\n",
        "                    \"predicts\": predicts_,\n",
        "                    \"labels\": labels_\n",
        "                }\n",
        "            eval_metrics = (metric_fn, [label_ids, predicts])\n",
        "            output_spec = tf.contrib.tpu.TPUEstimatorSpec(\n",
        "                mode=mode,\n",
        "                loss=total_loss,\n",
        "                eval_metrics=eval_metrics,\n",
        "                scaffold_fn=scaffold_fn)\n",
        "        else:\n",
        "            output_spec = tf.contrib.tpu.TPUEstimatorSpec(\n",
        "            mode=mode,\n",
        "            predictions=predicts,\n",
        "            scaffold_fn=scaffold_fn)\n",
        "        return output_spec\n",
        "    return model_fn"
      ],
      "execution_count": null,
      "outputs": []
    },
    {
      "cell_type": "code",
      "metadata": {
        "id": "k4RS2SlXvpDT",
        "colab_type": "code",
        "colab": {}
      },
      "source": [
        "processor = RatingProcessor()\n",
        "tokenizer = tokenization.FullTokenizer(vocab_file=VOCAB_FILE, do_lower_case=DO_LOWER_CASE)\n",
        "\n",
        "is_per_host = tf.contrib.tpu.InputPipelineConfig.PER_HOST_V2\n",
        "\n",
        "run_config = tf.contrib.tpu.RunConfig(\n",
        "        cluster=None,\n",
        "        master=None,\n",
        "        model_dir=OUTPUT_DIR,\n",
        "        save_checkpoints_steps=SAVE_CHECKPOINTS_STEPS,\n",
        "        tpu_config=tf.contrib.tpu.TPUConfig(\n",
        "            iterations_per_loop=ITERATIONS_PER_LOOP,\n",
        "            num_shards=NUM_TPU_CORES,\n",
        "            per_host_input_for_training=is_per_host))\n",
        "\n",
        "train_examples = processor.get_train_examples(DATA_DIR)\n",
        "num_train_steps = int(\n",
        "    len(train_examples) / TRAIN_BATCH_SIZE * NUM_TRAIN_EPOCHS)\n",
        "num_warmup_steps = int(num_train_steps * WARMUP_PROPORTION)\n",
        "\n",
        "\n",
        "model_fn = model_fn_builder(\n",
        "        bert_config=modeling.BertConfig.from_json_file(CONFIG_FILE),\n",
        "        num_labels=1,\n",
        "        init_checkpoint=INIT_CHECKPOINT,\n",
        "        learning_rate=LEARNING_RATE,\n",
        "        num_train_steps=num_train_steps,\n",
        "        num_warmup_steps=num_warmup_steps,\n",
        "        use_tpu=False,\n",
        "        use_one_hot_embeddings=False)\n",
        "\n",
        "estimator = tf.contrib.tpu.TPUEstimator(\n",
        "    use_tpu=False,\n",
        "    model_fn=model_fn,\n",
        "    config=run_config,\n",
        "    train_batch_size=TRAIN_BATCH_SIZE,\n",
        "    eval_batch_size=EVAL_BATCH_SIZE,\n",
        "    predict_batch_size=PREDICT_BATCH_SIZE)\n",
        "\n",
        "train_file = os.path.join(OUTPUT_DIR, \"train.tf_record\")\n",
        "file_based_convert_examples_to_features(\n",
        "    train_examples, MAX_SEQ_LENGTH, tokenizer, train_file)\n",
        "# tf.logging.info(\"***** Running training *****\")\n",
        "# tf.logging.info(\"  Num examples = %d\", len(train_examples))\n",
        "# tf.logging.info(\"  Batch size = %d\", TRAIN_BATCH_SIZE)\n",
        "# tf.logging.info(\"  Num steps = %d\", num_train_steps)\n",
        "train_input_fn = file_based_input_fn_builder(\n",
        "    input_file=train_file,\n",
        "    seq_length=MAX_SEQ_LENGTH,\n",
        "    is_training=True,\n",
        "    drop_remainder=True)\n",
        "estimator.train(input_fn=train_input_fn, max_steps=num_train_steps)"
      ],
      "execution_count": null,
      "outputs": []
    },
    {
      "cell_type": "code",
      "metadata": {
        "id": "2e15N-ydvteo",
        "colab_type": "code",
        "colab": {}
      },
      "source": [
        "eval_examples = processor.get_dev_examples(DATA_DIR)\n",
        "eval_file = os.path.join(OUTPUT_DIR, \"eval.tf_record\")\n",
        "file_based_convert_examples_to_features(\n",
        "    eval_examples, MAX_SEQ_LENGTH, tokenizer, eval_file)\n",
        "\n",
        "# tf.logging.info(\"***** Running evaluation *****\")\n",
        "# tf.logging.info(\"  Num examples = %d\", len(eval_examples))\n",
        "# tf.logging.info(\"  Batch size = %d\", TRAIN_BATCH_SIZE)\n",
        "eval_steps = None\n",
        "eval_drop_remainder = False\n",
        "eval_input_fn = file_based_input_fn_builder(\n",
        "    input_file=eval_file,\n",
        "    seq_length=MAX_SEQ_LENGTH,\n",
        "    is_training=False,\n",
        "    drop_remainder=eval_drop_remainder)\n",
        "result = estimator.evaluate(input_fn=eval_input_fn, steps=eval_steps)\n",
        "output_eval_file = os.path.join(OUTPUT_DIR, \"eval_results.txt\")\n",
        "with open(output_eval_file, \"w\") as writer:\n",
        "    tf.logging.info(\"***** Eval results *****\")\n",
        "    for key in sorted(result.keys()):\n",
        "        tf.logging.info(\"  %s = %s\", key, str(result[key]))\n",
        "        writer.write(\"%s = %s\\n\" % (key, str(result[key])))"
      ],
      "execution_count": null,
      "outputs": []
    },
    {
      "cell_type": "markdown",
      "metadata": {
        "id": "3EWTOFoDxpZZ",
        "colab_type": "text"
      },
      "source": [
        "Similarly, the latest checkpoint and results file are attached."
      ]
    },
    {
      "cell_type": "markdown",
      "metadata": {
        "id": "RxSzCGHuty3e",
        "colab_type": "text"
      },
      "source": [
        "## Scores on test set for sentiment analysis"
      ]
    },
    {
      "cell_type": "markdown",
      "metadata": {
        "id": "n0Xww2g4TmkD",
        "colab_type": "text"
      },
      "source": [
        "Note that in order to compare the natural language processing approaches, we only use the review column for training and prediction."
      ]
    },
    {
      "cell_type": "code",
      "metadata": {
        "id": "_OCJJvvHCPl3",
        "colab_type": "code",
        "colab": {}
      },
      "source": [
        "scores = {}"
      ],
      "execution_count": null,
      "outputs": []
    },
    {
      "cell_type": "code",
      "metadata": {
        "id": "ZZhlHCpBWsIo",
        "colab_type": "code",
        "colab": {}
      },
      "source": [
        "# TFIDF on cleaned reviews\n",
        "clf = Pipeline([('vec', TfidfVectorizer()),('clf', RandomForestClassifier(n_estimators=100))])\n",
        "clf.fit(X_train_clean_unsplit['review'], y_train_unsplit)\n",
        "y_pred = clf.predict(X_test_clean['review'])\n",
        "f1 = f1_score(y_test, y_pred, average='macro')\n",
        "acc = accuracy_score(y_test, y_pred)\n",
        "scores['TFIDF (RF)'] = np.round([f1, acc], 3)"
      ],
      "execution_count": null,
      "outputs": []
    },
    {
      "cell_type": "code",
      "metadata": {
        "id": "WZohP4lQW-jB",
        "colab_type": "code",
        "colab": {}
      },
      "source": [
        "# Polarity-Subjectivity\n",
        "pol_subj = pd.concat([pol_subj_train, pol_subj_val], axis=0)\n",
        "y = np.concatenate([y_train, y_val])\n",
        "\n",
        "clf = RandomForestClassifier(n_estimators=100)\n",
        "clf.fit(pol_subj, y)\n",
        "y_pred = clf.predict(pol_subj_test)\n",
        "f1 = f1_score(y_test, y_pred, average='macro')\n",
        "acc = accuracy_score(y_test, y_pred)\n",
        "scores['Polarity-Subjectivity (RF)'] = np.round([f1, acc], 3)"
      ],
      "execution_count": null,
      "outputs": []
    },
    {
      "cell_type": "code",
      "metadata": {
        "id": "tjbbSBQMXBEv",
        "colab_type": "code",
        "colab": {}
      },
      "source": [
        "\n",
        "# Doc2Vec\n",
        "documents = [TaggedDocument(doc, [i]) for i, doc in enumerate(X_train_clean_unsplit['review'])]\n",
        "model = Doc2Vec(documents, vector_size=10, window=2, min_count=1, workers=4)\n",
        "X_doc2vec = add_doc2vec_columns(X_train_clean_unsplit, ['review'], model)\n",
        "X_test_doc2vec = add_doc2vec_columns(X_test_clean, ['review'], model)\n",
        "\n",
        "clf = RandomForestClassifier(n_estimators=100)\n",
        "clf.fit(X_doc2vec.iloc[:,3:], y_train_unsplit)\n",
        "y_pred = clf.predict(X_test_doc2vec.iloc[:,3:])\n",
        "f1 = f1_score(y_test, y_pred, average='macro')\n",
        "acc = accuracy_score(y_test, y_pred)\n",
        "scores['Doc2Vec (RF)'] = np.round([f1, acc], 3)"
      ],
      "execution_count": null,
      "outputs": []
    },
    {
      "cell_type": "code",
      "metadata": {
        "id": "S4xmR0_fXEQ3",
        "colab_type": "code",
        "colab": {}
      },
      "source": [
        "# Aggregated Word2vec\n",
        "X_sentence2vec = add_diag2vec_columns(X_train_clean_unsplit, ['review'])\n",
        "clf = RandomForestClassifier(n_estimators=100)\n",
        "clf.fit(X_sentence2vec.iloc[:,3:], y_train_unsplit)\n",
        "y_pred = clf.predict(X_test_sentence2vec.iloc[:,3:])\n",
        "f1 = f1_score(y_test, y_pred, average='macro')\n",
        "acc = accuracy_score(y_test, y_pred)\n",
        "scores['Aggregated Word2Vec (RF)'] = np.round([f1, acc], 3)\n"
      ],
      "execution_count": null,
      "outputs": []
    },
    {
      "cell_type": "code",
      "metadata": {
        "id": "LeeABnTdFu_9",
        "colab_type": "code",
        "colab": {}
      },
      "source": [
        "# RNN only on review text\n",
        "# Hardcoded because the model takes a few hours to run, easily reproducable\n",
        "\n",
        "f1 = 0.716\n",
        "acc = 0.812\n",
        "scores['RNN'] = [f1, acc]"
      ],
      "execution_count": null,
      "outputs": []
    },
    {
      "cell_type": "code",
      "metadata": {
        "id": "TdiWwZbmwchW",
        "colab_type": "code",
        "colab": {}
      },
      "source": [
        "# BERT\n",
        "# The BERT model has to run on the clusters and was experimented separated, so the results are simply pasted here.\n",
        "# However, it can be easily reproduced if you run the BERT section.\n",
        "f1 = 0.87409425\n",
        "acc = 0.9251758\n",
        "scores['BERT'] = np.round([f1, acc], 3)"
      ],
      "execution_count": null,
      "outputs": []
    },
    {
      "cell_type": "code",
      "metadata": {
        "id": "KAYB-Gxdt8ma",
        "colab_type": "code",
        "colab": {}
      },
      "source": [
        "# Results from different models using the best parameters for each model type\n",
        "df = pd.DataFrame.from_dict(scores, orient = 'index')\n",
        "df = df.rename( columns = {0: \"F1 MACRO\", 1: \"ACCURACY\"} )\n",
        "df\n"
      ],
      "execution_count": null,
      "outputs": []
    },
    {
      "cell_type": "markdown",
      "metadata": {
        "id": "uUfn1p4n_U0o",
        "colab_type": "text"
      },
      "source": [
        "## Scores on test set for rating prediction"
      ]
    },
    {
      "cell_type": "code",
      "metadata": {
        "id": "FDdPk2tg_arT",
        "colab_type": "code",
        "colab": {}
      },
      "source": [
        "scores = {}\n",
        "\n",
        "# TFIDF on cleaned reviews\n",
        "clf = Pipeline([('vec', TfidfVectorizer()),('clf', SGDRegressor(penalty='elasticnet', alpha=1e-6))])\n",
        "clf.fit(X_train_clean_unsplit['review'], y_train_rating_unsplit)\n",
        "y_pred = clf.predict(X_test_clean['review'])\n",
        "mse = mean_squared_error(y_test_rating, y_pred)\n",
        "scores['TFIDF (RF)'] = np.round([mse], 3)\n",
        "\n",
        "# Polarity-Subjectivity\n",
        "pol_subj = pd.concat([pol_subj_train, pol_subj_val], axis=0)\n",
        "y_rating = np.concatenate([y_train_rating, y_val_rating])\n",
        "\n",
        "clf = RandomForestRegressor(n_estimators=100)\n",
        "clf.fit(pol_subj, y_rating)\n",
        "y_pred = clf.predict(pol_subj_test)\n",
        "mse = mean_squared_error(y_test_rating, y_pred)\n",
        "scores['Polarity-Subjectivity (RF)'] = np.round([mse], 3)\n",
        "\n",
        "# Doc2Vec\n",
        "clf = RandomForestRegressor(n_estimators=100)\n",
        "clf.fit(X_doc2vec.iloc[:,3:], y_train_rating_unsplit)\n",
        "y_pred = clf.predict(X_test_doc2vec.iloc[:,3:])\n",
        "mse = mean_squared_error(y_test_rating, y_pred)\n",
        "scores['Doc2Vec (RF)'] = np.round([mse], 3)\n",
        "\n",
        "# Aggregated Word2vec\n",
        "clf = RandomForestRegressor(n_estimators=100)\n",
        "clf.fit(X_sentence2vec.iloc[:,3:], y_train_rating_unsplit)\n",
        "y_pred = clf.predict(X_test_sentence2vec.iloc[:,3:])\n",
        "mse = mean_squared_error(y_test_rating, y_pred)\n",
        "scores['Aggregated Word2Vec (RF)'] = np.round([mse], 3)\n",
        "\n",
        "# BERT\n",
        "# Similarly, the results are pasted.\n",
        "mse = 2.1\n",
        "scores['BERT'] = np.round([mse], 3)\n",
        "\n",
        "\n",
        "# Results from different models using the best parameters for each model type\n",
        "df = pd.DataFrame.from_dict(scores, orient = 'index')\n",
        "df = df.rename( columns = {0: \"MSE\"} )\n",
        "df\n"
      ],
      "execution_count": null,
      "outputs": []
    },
    {
      "cell_type": "markdown",
      "metadata": {
        "id": "Gfm6CDKUIPlq",
        "colab_type": "text"
      },
      "source": [
        "## Conclusion"
      ]
    },
    {
      "cell_type": "markdown",
      "metadata": {
        "id": "n9gKLDyfIYG5",
        "colab_type": "text"
      },
      "source": [
        "We explored multiple approaches to process the review data and used them for sentiment analysis and rating prediction. \n",
        "\n",
        "For sentiment analysis we get using BERT an accuracy of 93% on the test set, but also less complex models achieve good scores, e.g. TFIDF has an accuracy of 88%. Since TFIDF is a bag-of-words model, this indicates that the set of words present in a review is alreay a good indicator of the sentiment. \n",
        "\n",
        "Rating prediction is more difficult and here BERT outperforms the other models by far. In particular it achieves a MSE of 2.1 whereas the others all have an MSE greater than 5. "
      ]
    },
    {
      "cell_type": "markdown",
      "metadata": {
        "id": "8MkYIMDeNMkd",
        "colab_type": "text"
      },
      "source": [
        "## Optional"
      ]
    },
    {
      "cell_type": "markdown",
      "metadata": {
        "id": "7MroCWveNU-y",
        "colab_type": "text"
      },
      "source": [
        "Delete the ill-formed conditions"
      ]
    },
    {
      "cell_type": "code",
      "metadata": {
        "id": "Ot0rhkr3NOoa",
        "colab_type": "code",
        "colab": {}
      },
      "source": [
        "to_delete = train['condition'].str.endswith('users found this comment helpful.')\n",
        "to_delete[to_delete.isna()] = True\n",
        "train_opt = train[to_delete==False]\n",
        "\n",
        "to_delete = test['condition'].str.endswith('users found this comment helpful.')\n",
        "to_delete[to_delete.isna()] = True\n",
        "test_opt = test[to_delete==False]\n",
        "\n",
        "X_train_opt = train_opt.loc[:, train.columns != \"rating\"]\n",
        "y_train_opt = train_opt.loc[:, \"rating\"]\n",
        "\n",
        "X_test_opt = test_opt.loc[:, test.columns != \"rating\"]\n",
        "y_test_opt = test_opt.loc[:,\"rating\"]"
      ],
      "execution_count": null,
      "outputs": []
    },
    {
      "cell_type": "markdown",
      "metadata": {
        "id": "xkjV9PYwNlEw",
        "colab_type": "text"
      },
      "source": [
        "Find out the unique drug names and conditions, then create maps for them"
      ]
    },
    {
      "cell_type": "code",
      "metadata": {
        "id": "qAXTrvw5Ndya",
        "colab_type": "code",
        "colab": {}
      },
      "source": [
        "unique_drugs = X_train_opt['drugName'].unique()\n",
        "unique_drugs_num = unique_drugs.shape[0]\n",
        "unique_conditions = X_train_opt['condition'].unique()\n",
        "unique_conditions_num = unique_conditions.shape[0]\n",
        "\n",
        "# From drug name to drug id\n",
        "drug_map = {}\n",
        "for (i, drug) in enumerate(unique_drugs):\n",
        "    drug_map[drug] = i\n",
        "# From drug id to drug name\n",
        "inv_drug_map = {v: k for k, v in drug_map.items()}\n",
        "  \n",
        "# From condition to condition id\n",
        "condition_map = {}\n",
        "for (i, condition) in enumerate(unique_conditions):\n",
        "    condition_map[condition] = i"
      ],
      "execution_count": null,
      "outputs": []
    },
    {
      "cell_type": "markdown",
      "metadata": {
        "id": "3gwECQSdOCOV",
        "colab_type": "text"
      },
      "source": [
        "Create a big matrix of ratings with drug_id as rows and condition_id as columns. \n",
        "The final score for a (drug, condition) pair is the average of user ratings weighted by useful counts. \n"
      ]
    },
    {
      "cell_type": "code",
      "metadata": {
        "id": "iIypXcd2Nfsk",
        "colab_type": "code",
        "colab": {}
      },
      "source": [
        "# Initialize the matrix\n",
        "ratings = np.empty((unique_drugs_num, unique_conditions_num), dtype=np.object)\n",
        "for i in range(unique_drugs_num):\n",
        "    for j in range(unique_conditions_num):\n",
        "        ratings[i, j] = np.array([0,0])\n",
        "\n",
        "# Record count and total_score\n",
        "for (index, x), y in zip(X_train_opt.iterrows(), y_train_opt):\n",
        "    count = 1 + x['usefulCount'] # useful countss plus the author\n",
        "    a = drug_map[x['drugName']]\n",
        "    b = condition_map[x['condition']]\n",
        "    ratings[a,b][0] += count\n",
        "    ratings[a,b][1] += (count * y)\n",
        "\n",
        "# Calculate final score\n",
        "for i in range(unique_drugs_num):\n",
        "    for j in range(unique_conditions_num):\n",
        "        arr = ratings[i, j]\n",
        "        count = arr[0]\n",
        "        if (count):\n",
        "            total_score = arr[1]\n",
        "            ratings[i, j] = total_score / count\n",
        "        else:\n",
        "            ratings[i, j] = 0"
      ],
      "execution_count": null,
      "outputs": []
    },
    {
      "cell_type": "markdown",
      "metadata": {
        "id": "96u7L6FJPNxo",
        "colab_type": "text"
      },
      "source": [
        "The drug that receives the highest score for a particular condition will be recommended for that condition."
      ]
    },
    {
      "cell_type": "code",
      "metadata": {
        "id": "-87WDeuOO8av",
        "colab_type": "code",
        "colab": {}
      },
      "source": [
        "recommender = np.argmax(ratings, axis=0)"
      ],
      "execution_count": null,
      "outputs": []
    },
    {
      "cell_type": "code",
      "metadata": {
        "id": "WXn7fCHAPQW-",
        "colab_type": "code",
        "colab": {}
      },
      "source": [
        "def recommend(condition):\n",
        "    condition_id = condition_map[condition]\n",
        "    drug_id = recommender[condition_id]\n",
        "    drug = inv_drug_map[drug_id]\n",
        "    return drug"
      ],
      "execution_count": null,
      "outputs": []
    },
    {
      "cell_type": "markdown",
      "metadata": {
        "id": "hbX47dxZPR-c",
        "colab_type": "text"
      },
      "source": [
        "Results display"
      ]
    },
    {
      "cell_type": "code",
      "metadata": {
        "id": "6s7tttMHPTYD",
        "colab_type": "code",
        "colab": {}
      },
      "source": [
        "mat = []\n",
        "for condition in unique_conditions:\n",
        "    mat.append([condition, recommend(condition)])\n",
        "df = pd.DataFrame(mat, columns=['Condition', 'Recommended drugs'])\n",
        "df.set_index('Condition', inplace=True)\n",
        "df"
      ],
      "execution_count": null,
      "outputs": []
    }
  ]
}